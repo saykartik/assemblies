{
 "cells": [
  {
   "cell_type": "markdown",
   "metadata": {},
   "source": [
    "# Comparing Adversarial robustness performance\n",
    "This notebook meta learns plasticity rules on an 8 dimensional halfspace, and then runs adversarial robustness performance on MNIST data"
   ]
  },
  {
   "cell_type": "code",
   "execution_count": 1,
   "metadata": {},
   "outputs": [],
   "source": [
    "%load_ext autoreload\n",
    "%autoreload 2\n",
    "%run FF_common.ipynb"
   ]
  },
  {
   "cell_type": "code",
   "execution_count": 2,
   "metadata": {},
   "outputs": [
    {
     "name": "stdout",
     "output_type": "stream",
     "text": [
      "****Getting MNIST Data****\n",
      "mnist_train: 60000\n",
      "mnist_test: 10000\n"
     ]
    }
   ],
   "source": [
    "print(\"****Getting MNIST Data****\")\n",
    "minst_X_train, _mnist_y_train, mnist_X_test, mnist_y_test = quick_get_data('mnist', 784)"
   ]
  },
  {
   "cell_type": "code",
   "execution_count": 14,
   "metadata": {},
   "outputs": [
    {
     "name": "stdout",
     "output_type": "stream",
     "text": [
      "The autoreload extension is already loaded. To reload it, use:\n",
      "  %reload_ext autoreload\n"
     ]
    }
   ],
   "source": [
    "from torchviz import make_dot\n",
    "from AdversarialExamples import adversarial_example, random_not_true_label\n",
    "%load_ext autoreload\n",
    "%autoreload 2\n",
    "# A function to manually switch graadient computation on for every single parameter in the network, \n",
    "# even if we arent updating them\n",
    "\n",
    "def enable_grad_everywhere(model,requires_grad=True):\n",
    "    #Turn on requires_grad everywhere by converting to parameters.\n",
    "    \n",
    "    try:\n",
    "        #FF-ANN\n",
    "        for i,hidden_weight in enumerate(model.hidden_weights):\n",
    "            if hidden_weight is not None:\n",
    "                model.hidden_weights[i] = torch.nn.Parameter( hidden_weight,requires_grad=requires_grad )\n",
    "\n",
    "            model.hidden_biases[i] = None #torch.nn.Parameter(model.hidden_biases[i],requires_grad=requires_grad )            \n",
    "    except:\n",
    "        #RNN\n",
    "        model.graph_weights = torch.nn.Parameter( model.graph_weights,requires_grad=requires_grad )\n",
    "        model.graph_bias = torch.nn.Parameter( model.graph_bias,requires_grad=requires_grad )\n",
    "        \n",
    "    model.input_weights = torch.nn.Parameter( model.input_weights,requires_grad=requires_grad )\n",
    "    model.output_weights = torch.nn.Parameter( model.output_weights,requires_grad=requires_grad )\n",
    "    model.output_bias = None #torch.nn.Parameter( model.output_bias,requires_grad=requires_grad )\n",
    "    \n",
    "\n",
    "def plot_random_adversary(brain_model, example_index=768,perturb_level=3,show_grad=False):\n",
    "    ####################################\n",
    "    # Try different values of example_index and perturb_level to see how the image changes and what it's meant to look like\n",
    "    ####################################\n",
    "\n",
    "    examp_X = torch.from_numpy(mnist_X_test[example_index]).double()\n",
    "    examp_Y = mnist_y_test[example_index]\n",
    "    not_Y = random_not_true_label(examp_Y)\n",
    "    print(\"****Turning on Gradients****\")\n",
    "    enable_grad_everywhere(brain_model)\n",
    "    print(\"****Creating Adversary****\")\n",
    "    adv_X = adversarial_example(\n",
    "        examp_X.reshape(1, -1), torch.tensor([not_Y], dtype=torch.long), \n",
    "        brain_model.forward_pass, eps=perturb_level, lr=5e-3,verbose=True,show_grad=show_grad,full_net=brain_model)\n",
    "\n",
    "    fig, ax = plt.subplots(1, 2, figsize=(6, 3))\n",
    "    ax[0].imshow(examp_X.detach().reshape(28, 28), vmin=0, vmax=1, cmap='Greys')\n",
    "    ax[0].set_title( 'Original - '+ str(examp_Y))\n",
    "    ax[1].imshow(adv_X.detach().reshape(28, 28), vmin=0, vmax=1, cmap='Greys')\n",
    "    ax[1].set_title( \"Makes NN think it's - \" + str(not_Y))\n",
    "    plt.show()"
   ]
  },
  {
   "cell_type": "code",
   "execution_count": 56,
   "metadata": {},
   "outputs": [],
   "source": [
    "# IMPORTANT: Henceforth, we use GD directly on inputs but use plasticity rules in the output and hidden layers.\n",
    "opts_up = Options(gd_input=True,\n",
    "                  use_graph_rule=True,\n",
    "                  gd_graph_rule=True,\n",
    "                  use_output_rule=True,\n",
    "                  gd_output_rule=True,\n",
    "                  gd_output=False)\n",
    "opts_down = Options(gd_input=True,\n",
    "                    use_graph_rule=True,\n",
    "                    gd_graph_rule=False,  # Not meta-trainable anymore!\n",
    "                    use_output_rule=True,\n",
    "                    gd_output_rule=False,  # Not meta-trainable anymore!\n",
    "                    gd_output=False)\n",
    "scheme = UpdateScheme(cross_entropy_loss=True,\n",
    "                      mse_loss=False,\n",
    "                      update_misclassified_only=False,\n",
    "                      update_all_edges=True)\n",
    "\n",
    "# Feed-forward brain config.\n",
    "n_up = 8  # Input layer size for meta-learning.\n",
    "n_down = 784  # Input layer size for desired task training.\n",
    "m_up = 2  # Output layer size.\n",
    "m_down = 10\n",
    "l = 2  # Number of hidden layers.\n",
    "w = 100  # Width of hidden layers.\n",
    "p = 0.5  # Connectivity probability.\n",
    "cap = 50  # Number of nodes firing per layer.\n",
    "dataset_up = 'halfspace'\n",
    "dataset_down = 'mnist'\n",
    "\n",
    "# Training config.\n",
    "num_runs = 1\n",
    "num_rule_epochs = 50\n",
    "num_epochs_upstream = 1\n",
    "num_epochs_downstream = 1"
   ]
  },
  {
   "cell_type": "code",
   "execution_count": 57,
   "metadata": {},
   "outputs": [],
   "source": [
    "# All models tested go here\n",
    "brain_prepost_up_fact = lambda: FFLocalNet(\n",
    "    n_up, m_up, l, w, p, cap, hl_rules=TableRule_PrePost(),\n",
    "    output_rule=TableRule_PrePost(), \n",
    "    options=opts_up, update_scheme=scheme)\n",
    "brain_prepost_down_fact = lambda: FFLocalNet(\n",
    "    n_down, m_down, l, w, p, cap, hl_rules=TableRule_PrePost(),\n",
    "    output_rule=TableRule_PrePost(), \n",
    "    options=opts_down, update_scheme=scheme)\n",
    "\n",
    "brain_fullgd_down_fact = lambda: FFBrainNet(n_down, m_down, l, w, p, cap,full_gd=True,gd_input=True,gd_output=True)\n",
    "\n",
    "brain_rnn_up_fact = lambda: LocalNet(n_up, m_up, 64, p, 32, 3, options=opts_up, update_scheme=scheme)\n",
    "brain_rnn_down_fact = lambda: LocalNet(n_down, m_down, 64, p, 32, 3, options=opts_down, update_scheme=scheme)\n",
    "\n",
    "brain_prepostcount_up_fact = lambda: FFLocalNet(\n",
    "    n_up, m_up, l, w, p, cap, hl_rules=TableRule_PrePostCount(),\n",
    "    output_rule=TableRule_PrePostCount(), options=opts_up, update_scheme=scheme)\n",
    "brain_prepostcount_down_fact = lambda: FFLocalNet(\n",
    "    n_down, m_down, l, w, p, cap, hl_rules=TableRule_PrePostCount(),\n",
    "    output_rule=TableRule_PrePostCount(), options=opts_down, update_scheme=scheme)\n",
    "\n",
    "brain_prepostcount_up_fact_l3 = lambda: FFLocalNet(\n",
    "    n_up, m_up, 3, w, p, cap, hl_rules=TableRule_PrePostCount(),\n",
    "    output_rule=TableRule_PrePostCount(), options=opts_up, update_scheme=scheme)\n",
    "brain_prepostcount_down_fact_l3 = lambda: FFLocalNet(\n",
    "    n_down, m_down, 3, w, p, cap, hl_rules=TableRule_PrePostCount(),\n",
    "    output_rule=TableRule_PrePostCount(), options=opts_down, update_scheme=scheme)"
   ]
  },
  {
   "cell_type": "markdown",
   "metadata": {},
   "source": [
    "# Prepost"
   ]
  },
  {
   "cell_type": "code",
   "execution_count": 6,
   "metadata": {
    "scrolled": false
   },
   "outputs": [
    {
     "name": "stderr",
     "output_type": "stream",
     "text": [
      "\r",
      " ... (more hidden) ..."
     ]
    },
    {
     "name": "stdout",
     "output_type": "stream",
     "text": [
      "\n",
      "Run 1 / 1...\n",
      "Meta-learning on halfspace...\n"
     ]
    },
    {
     "name": "stderr",
     "output_type": "stream",
     "text": [
      " ... (more hidden) ...\n"
     ]
    },
    {
     "name": "stdout",
     "output_type": "stream",
     "text": [
      "Last loss: 0.3485\n",
      "Last train accuracy: 0.9705\n",
      "Last test accuracy: 0.9640\n",
      "Training NEW brain instance on mnist...\n",
      "mnist_train: 60000\n",
      "mnist_test: 10000\n",
      "INITIAL train accuracy: 0.1000\n",
      "INITIAL test accuracy: 0.1000\n",
      "Epoch 1 / 1 ...\n"
     ]
    },
    {
     "name": "stderr",
     "output_type": "stream",
     "text": [
      " ... (more hidden) ..."
     ]
    },
    {
     "name": "stdout",
     "output_type": "stream",
     "text": [
      "\n",
      "Last loss: 2.1478\n",
      "Last train accuracy: 0.2990\n",
      "Last test accuracy: 0.3097\n",
      "\n"
     ]
    },
    {
     "name": "stderr",
     "output_type": "stream",
     "text": [
      "\n"
     ]
    }
   ],
   "source": [
    "stats, brain_prepost_trained = evaluate_generalization(\n",
    "    brain_prepost_up_fact, \n",
    "    brain_prepost_down_fact, \n",
    "    n_up, \n",
    "    n_down, \n",
    "    dataset_up='halfspace',dataset_down='mnist', \n",
    "    num_runs=1, \n",
    "    num_rule_epochs=num_rule_epochs, \n",
    "    num_epochs_upstream=num_epochs_upstream, num_epochs_downstream=num_epochs_downstream,\n",
    "    get_model=True\n",
    ")"
   ]
  },
  {
   "cell_type": "code",
   "execution_count": 50,
   "metadata": {},
   "outputs": [],
   "source": [
    "#plot_random_adversary(brain_prepost_trained,show_grad=True)"
   ]
  },
  {
   "cell_type": "code",
   "execution_count": 51,
   "metadata": {
    "scrolled": false
   },
   "outputs": [],
   "source": [
    "# x = torch.zeros(1, 784, dtype=torch.double, requires_grad=True)\n",
    "# out = brain_prepost_trained.forward_pass(x)\n",
    "# make_dot(out)"
   ]
  },
  {
   "cell_type": "markdown",
   "metadata": {},
   "source": [
    "# Prepost Count"
   ]
  },
  {
   "cell_type": "code",
   "execution_count": 22,
   "metadata": {},
   "outputs": [
    {
     "name": "stderr",
     "output_type": "stream",
     "text": [
      "\r",
      " ... (more hidden) ..."
     ]
    },
    {
     "name": "stdout",
     "output_type": "stream",
     "text": [
      "\n",
      "Run 1 / 1...\n",
      "Meta-learning on halfspace...\n"
     ]
    },
    {
     "name": "stderr",
     "output_type": "stream",
     "text": [
      " ... (more hidden) ...\n"
     ]
    },
    {
     "name": "stdout",
     "output_type": "stream",
     "text": [
      "Last loss: 0.3659\n",
      "Last train accuracy: 0.9521\n",
      "Last test accuracy: 0.9529\n",
      "Training NEW brain instance on mnist...\n",
      "mnist_train: 60000\n",
      "mnist_test: 10000\n",
      "INITIAL train accuracy: 0.1000\n",
      "INITIAL test accuracy: 0.1000\n",
      "Epoch 1 / 1 ...\n"
     ]
    },
    {
     "name": "stderr",
     "output_type": "stream",
     "text": [
      " ... (more hidden) ..."
     ]
    },
    {
     "name": "stdout",
     "output_type": "stream",
     "text": [
      "\n",
      "Last loss: 2.2412\n",
      "Last train accuracy: 0.2103\n",
      "Last test accuracy: 0.2192\n",
      "\n"
     ]
    },
    {
     "name": "stderr",
     "output_type": "stream",
     "text": [
      "\n"
     ]
    }
   ],
   "source": [
    "stats, brain_prepostcount_trained = evaluate_generalization(\n",
    "    brain_prepostcount_up_fact, \n",
    "    brain_prepostcount_down_fact, \n",
    "    n_up, \n",
    "    n_down, \n",
    "    dataset_up='halfspace',dataset_down='mnist', \n",
    "    num_runs=1, \n",
    "    num_rule_epochs=num_rule_epochs, \n",
    "    num_epochs_upstream=num_epochs_upstream, num_epochs_downstream=num_epochs_downstream,\n",
    "    get_model=True\n",
    ")"
   ]
  },
  {
   "cell_type": "code",
   "execution_count": 58,
   "metadata": {},
   "outputs": [
    {
     "name": "stderr",
     "output_type": "stream",
     "text": [
      "\r",
      " ... (more hidden) ..."
     ]
    },
    {
     "name": "stdout",
     "output_type": "stream",
     "text": [
      "\n",
      "Run 1 / 1...\n",
      "Meta-learning on halfspace...\n"
     ]
    },
    {
     "name": "stderr",
     "output_type": "stream",
     "text": [
      " ... (more hidden) ...\n"
     ]
    },
    {
     "name": "stdout",
     "output_type": "stream",
     "text": [
      "Last loss: 0.3784\n",
      "Last train accuracy: 0.9259\n",
      "Last test accuracy: 0.9113\n",
      "Training NEW brain instance on mnist...\n",
      "mnist_train: 60000\n",
      "mnist_test: 10000\n",
      "INITIAL train accuracy: 0.1000\n",
      "INITIAL test accuracy: 0.1000\n",
      "Epoch 1 / 1 ...\n"
     ]
    },
    {
     "name": "stderr",
     "output_type": "stream",
     "text": [
      " ... (more hidden) ..."
     ]
    },
    {
     "name": "stdout",
     "output_type": "stream",
     "text": [
      "\n",
      "Last loss: 2.2645\n",
      "Last train accuracy: 0.1699\n",
      "Last test accuracy: 0.1727\n",
      "\n"
     ]
    },
    {
     "name": "stderr",
     "output_type": "stream",
     "text": [
      "\n"
     ]
    }
   ],
   "source": [
    "stats, brain_prepostcount_l3_trained = evaluate_generalization(\n",
    "    brain_prepostcount_up_fact_l3, \n",
    "    brain_prepostcount_down_fact_l3, \n",
    "    n_up, \n",
    "    n_down, \n",
    "    dataset_up='halfspace',dataset_down='mnist', \n",
    "    num_runs=1, \n",
    "    num_rule_epochs=num_rule_epochs, \n",
    "    num_epochs_upstream=num_epochs_upstream, num_epochs_downstream=num_epochs_downstream,\n",
    "    get_model=True\n",
    ")"
   ]
  },
  {
   "cell_type": "markdown",
   "metadata": {},
   "source": [
    "# Vanilla Full GD"
   ]
  },
  {
   "cell_type": "code",
   "execution_count": 16,
   "metadata": {},
   "outputs": [
    {
     "name": "stdout",
     "output_type": "stream",
     "text": [
      "mnist_train: 60000\n",
      "mnist_test: 10000\n",
      "Training NEW brain instance (WITH backprop) on mnist...\n",
      "INITIAL train accuracy: 0.0814\n",
      "INITIAL test accuracy: 0.0849\n",
      "Epoch 1 / 1 ...\n"
     ]
    },
    {
     "name": "stderr",
     "output_type": "stream",
     "text": [
      " ... (more hidden) ..."
     ]
    },
    {
     "name": "stdout",
     "output_type": "stream",
     "text": [
      "\n",
      "Last loss: 1.7079\n",
      "Last train accuracy: 0.7607\n",
      "Last test accuracy: 0.7584\n"
     ]
    },
    {
     "name": "stderr",
     "output_type": "stream",
     "text": [
      "\n"
     ]
    }
   ],
   "source": [
    "brain_fullgd_trained = brain_fullgd_down_fact()\n",
    "X_train, y_train, X_test, y_test = quick_get_data(dataset_down, n_down)\n",
    "print('Training NEW brain instance (WITH backprop) on ' + dataset_down + '...')\n",
    "stats_down = train_downstream(\n",
    "    X_train, y_train, brain_fullgd_trained, num_epochs=num_epochs_downstream,\n",
    "    batch_size=100, vanilla=True, learn_rate=5e-3,\n",
    "    X_test=X_test, y_test=y_test, verbose=False, stats_interval=500)"
   ]
  },
  {
   "cell_type": "code",
   "execution_count": 17,
   "metadata": {
    "scrolled": true
   },
   "outputs": [
    {
     "name": "stdout",
     "output_type": "stream",
     "text": [
      "****Turning on Gradients****\n",
      "****Creating Adversary****\n",
      "Loss/cnt/eps_curr/Y: 2.461150171515705 1 0.2663270473470781 1\n",
      "Input Gradients\n",
      "tensor([[ 1.1402e-10, -6.1703e-11, -7.1077e-11, -3.5916e-11, -1.8007e-10,\n",
      "          7.3359e-11,  5.3078e-11,  1.3472e-10,  9.4665e-11,  1.4909e-11,\n",
      "         -5.9255e-11,  1.7517e-10,  2.6315e-10, -9.8855e-11, -7.2223e-11,\n",
      "         -2.5793e-11,  6.1451e-11, -3.3907e-11, -3.2789e-11, -3.9123e-11,\n",
      "          7.6931e-11, -8.7632e-11,  1.1103e-10,  7.5796e-11,  9.8120e-11,\n",
      "         -1.2702e-10, -6.3084e-11,  1.4384e-10, -7.8106e-11, -1.2347e-10,\n",
      "         -5.4370e-10,  9.3171e-11, -2.9217e-10,  2.6740e-10,  1.9612e-10,\n",
      "         -1.5090e-10, -5.0719e-11, -6.4622e-11, -4.1105e-10,  6.0384e-11,\n",
      "         -4.1733e-12,  8.6165e-11, -5.2960e-11,  6.1183e-10, -3.4137e-10,\n",
      "         -1.6038e-10, -1.9857e-10,  1.7367e-10, -2.0389e-11, -2.2668e-10,\n",
      "          9.4949e-11, -1.5643e-10, -6.4468e-13,  1.0065e-10,  2.7858e-11,\n",
      "         -7.2327e-11,  4.0662e-11,  1.1084e-10, -1.4865e-11, -8.0328e-11,\n",
      "          6.9356e-11, -1.8063e-10, -4.1081e-11, -3.8027e-10,  9.0919e-11,\n",
      "         -3.3200e-11,  1.9776e-10, -4.1354e-10, -1.1763e-10,  7.6623e-11,\n",
      "          7.5688e-11,  1.4366e-11,  2.1450e-10,  2.0481e-10, -1.0612e-10,\n",
      "         -8.5121e-11, -1.4247e-10, -1.6632e-10,  9.2621e-11, -1.3563e-10,\n",
      "         -1.0319e-10,  1.2660e-10,  1.8980e-11, -8.8705e-11,  2.6291e-10,\n",
      "          3.1518e-10, -4.5761e-12,  1.9822e-10, -6.3681e-11, -8.2978e-11,\n",
      "         -9.3690e-11,  1.8945e-10, -1.9882e-10, -5.9693e-11, -4.7628e-11,\n",
      "          1.7358e-10, -4.3161e-10, -2.5666e-10,  1.9372e-10,  8.3817e-11,\n",
      "          2.4728e-11,  9.5843e-11,  3.1196e-10, -8.1774e-12, -3.3268e-10,\n",
      "          1.1009e-10,  1.9269e-10,  3.7029e-10,  8.2431e-12, -2.4167e-11,\n",
      "          1.1055e-10,  3.4982e-11, -1.1569e-10, -1.3453e-10,  1.5562e-11,\n",
      "          4.8421e-11,  1.4838e-10, -9.7478e-11, -7.9166e-11,  7.6774e-11,\n",
      "          1.2690e-10, -1.2744e-10, -4.8459e-11, -2.0932e-10,  8.4481e-11,\n",
      "          1.4699e-10,  1.7209e-10,  1.3648e-10,  1.9484e-10,  1.0648e-10,\n",
      "         -9.1674e-11,  3.8671e-11,  7.3395e-11,  1.9504e-10,  7.3830e-11,\n",
      "         -2.2106e-10, -1.3820e-10, -1.0015e-10,  1.2527e-10,  1.3397e-10,\n",
      "          1.2583e-10, -2.2978e-11, -2.4270e-11, -3.0707e-10,  1.8045e-10,\n",
      "         -2.3915e-10,  8.2983e-11,  2.0670e-10, -1.7906e-10, -1.3889e-10,\n",
      "         -2.1530e-10,  1.4828e-10, -2.0388e-10, -2.5361e-10, -2.1138e-10,\n",
      "          3.2177e-11,  3.9128e-10,  8.7837e-11,  3.3242e-11, -1.7039e-11,\n",
      "         -1.7563e-10, -6.6100e-11,  1.2593e-10,  1.4894e-10,  1.7512e-10,\n",
      "          9.7215e-11, -5.0903e-10,  1.7922e-10, -3.8320e-11, -4.6368e-10,\n",
      "         -3.2140e-10, -1.9307e-10,  1.7105e-10, -2.2495e-10, -1.7715e-10,\n",
      "         -1.8900e-11, -8.0122e-12, -1.3870e-10, -2.9286e-10, -2.4605e-10,\n",
      "         -6.0291e-11,  1.0074e-11,  1.4546e-11,  2.0860e-11, -6.7380e-11,\n",
      "          7.6766e-11, -2.0001e-11, -7.8055e-11, -4.0178e-10,  2.4323e-11,\n",
      "          7.5401e-11,  2.7119e-11,  6.1144e-11,  1.3344e-11, -2.9847e-10,\n",
      "          1.2250e-10,  1.9507e-10,  3.4850e-11, -3.4409e-10, -2.0576e-10,\n",
      "         -8.7803e-11, -9.4138e-11, -8.4725e-11, -4.2055e-10, -1.5353e-10,\n",
      "         -3.4230e-11, -1.4360e-10, -8.8851e-11,  1.1917e-10,  1.7290e-11,\n",
      "          9.0660e-11, -7.3073e-12, -1.9118e-12,  1.0853e-10, -4.5660e-11,\n",
      "          5.6128e-14, -7.9178e-11,  3.7271e-10, -1.6780e-11, -1.3850e-10,\n",
      "         -4.3380e-11, -2.3064e-10, -2.2730e-11,  2.4636e-10,  1.1793e-10,\n",
      "          1.4833e-10,  1.3190e-10, -2.1009e-10, -8.2761e-11,  2.5048e-10,\n",
      "          2.5053e-10, -1.9033e-10, -1.4673e-12, -1.0122e-10, -3.0492e-10,\n",
      "         -1.4867e-10,  4.9253e-11,  3.7216e-11,  2.7477e-10,  1.4513e-10,\n",
      "          6.8478e-11, -2.0174e-11, -1.0496e-11, -4.4342e-11, -1.0033e-10,\n",
      "          1.0810e-10, -5.3044e-11, -1.5332e-10,  7.0085e-11,  3.8361e-11,\n",
      "         -3.4111e-11, -1.9609e-10, -2.2501e-11, -1.1144e-10,  4.1884e-11,\n",
      "         -1.3790e-10,  2.1966e-10,  8.7102e-12, -1.8680e-12, -5.5610e-11,\n",
      "         -2.3147e-10, -1.2829e-10, -2.5107e-10, -4.2885e-11, -1.1159e-11,\n",
      "          2.9249e-10, -1.7122e-11, -7.9720e-11, -5.4345e-11,  1.7979e-11,\n",
      "         -1.3968e-10, -3.7746e-10, -2.7866e-10, -1.9967e-10, -4.2547e-10,\n",
      "          7.5491e-11, -4.7849e-10,  1.8543e-10, -4.5695e-11, -4.4077e-11,\n",
      "         -1.4263e-10, -2.5122e-10, -1.0565e-10, -3.3363e-10, -8.8496e-11,\n",
      "         -9.2180e-11,  1.3343e-10,  1.4038e-10, -2.3514e-10, -1.4081e-10,\n",
      "          6.4394e-11,  1.5611e-10, -1.3323e-10,  4.0692e-10,  1.7740e-10,\n",
      "         -7.9376e-11,  4.2909e-11, -9.5844e-11, -1.9323e-10, -4.7543e-10,\n",
      "         -5.9804e-10, -1.4974e-10, -4.5063e-10, -3.1665e-10, -2.7824e-10,\n",
      "         -7.5412e-11, -6.7593e-11,  2.4230e-10, -2.5559e-10,  3.0039e-10,\n",
      "          5.1883e-11, -3.6718e-11,  2.8739e-10, -1.0292e-10, -2.8090e-10,\n",
      "         -1.5490e-10, -3.0369e-10, -1.9057e-10,  1.1031e-10,  1.5518e-10,\n",
      "          1.0844e-10,  6.4840e-11,  1.5616e-10, -2.0199e-11, -1.7863e-10,\n",
      "         -1.0661e-10, -4.3512e-10, -7.3286e-11, -6.0611e-11, -3.3663e-10,\n",
      "          5.2960e-12, -2.0997e-10, -8.3326e-11, -8.9895e-11,  8.8746e-11,\n",
      "          5.2399e-11,  2.8425e-10,  1.5384e-10,  6.1679e-11,  1.1070e-10,\n",
      "         -2.4212e-10,  9.2373e-11, -1.4977e-10, -8.4126e-11, -1.5221e-10,\n",
      "          1.3337e-10,  7.0639e-11, -3.2017e-10,  1.0125e-10, -1.0744e-10,\n",
      "          1.2688e-10,  1.8638e-10,  4.3906e-11, -1.4946e-10,  6.5643e-11,\n",
      "         -4.7114e-11,  7.4560e-11, -2.1539e-10, -2.9024e-10,  3.3218e-11,\n",
      "          1.7252e-10, -1.5059e-10,  2.1552e-10, -4.5338e-11,  2.8996e-10,\n",
      "          2.5006e-11, -1.2580e-10, -1.8542e-10,  1.4718e-10,  2.7571e-11,\n",
      "          2.6132e-11,  2.5358e-11, -1.6267e-10, -1.0639e-10, -3.7243e-11,\n",
      "          1.8188e-11, -1.6150e-10, -1.4712e-10,  3.3248e-10,  2.0181e-10,\n",
      "          1.7324e-10,  2.1493e-11,  9.8408e-11, -2.4746e-10, -1.1214e-10,\n",
      "         -4.1163e-11, -3.1759e-10,  2.2579e-11, -4.3661e-12, -4.1544e-10,\n",
      "          2.8418e-11,  3.0746e-10,  3.7345e-11, -3.8773e-10, -5.5141e-11,\n",
      "         -6.5312e-11,  1.7031e-10,  1.0188e-11, -2.1215e-10, -1.0204e-10,\n",
      "         -1.8575e-10, -6.7767e-11, -3.2593e-11,  1.9042e-10, -1.1557e-10,\n",
      "         -2.1889e-11,  1.3264e-10,  2.6760e-11, -1.6677e-11, -1.7211e-10,\n",
      "         -1.0044e-10,  2.5301e-11, -9.6620e-12, -1.5345e-10, -9.6541e-11,\n",
      "          2.4874e-10,  1.3332e-12,  1.1055e-10,  6.8422e-11,  7.2565e-11,\n",
      "         -9.8106e-11,  1.8989e-10,  8.8238e-11,  4.4801e-11, -4.5856e-11,\n",
      "         -3.7878e-10, -5.6616e-11,  3.8387e-11,  3.2379e-10, -1.9919e-10,\n",
      "         -8.3547e-11,  3.1650e-10, -3.2600e-10,  2.5958e-10,  3.1362e-10,\n",
      "          9.8525e-11, -8.9779e-11, -2.7401e-10, -1.2459e-10,  4.7060e-12,\n",
      "          7.7169e-11,  1.0481e-10, -2.7511e-10, -5.2347e-11, -9.8459e-11,\n",
      "          6.7746e-11, -1.4275e-10,  1.2367e-11,  7.8994e-11, -4.7068e-11,\n",
      "          9.4331e-11, -3.1569e-10, -6.8836e-13,  3.0052e-11, -9.5586e-11,\n",
      "         -2.7348e-10, -6.2313e-11, -4.0291e-11,  1.2498e-10,  6.8374e-11,\n",
      "         -1.1199e-10,  8.5536e-11,  3.6305e-10, -2.9955e-11, -5.8451e-11,\n",
      "          1.0314e-10, -2.2216e-10, -2.0295e-10, -1.1573e-10, -1.5218e-10,\n",
      "         -3.1207e-10,  9.5136e-11, -5.1316e-12, -2.3512e-10,  1.3241e-10,\n",
      "          1.0894e-10,  9.6227e-11, -5.1006e-12, -2.6245e-10,  7.3928e-11,\n",
      "          2.4986e-10, -9.1374e-11,  4.3598e-11, -2.9161e-10, -1.1002e-10,\n",
      "         -2.4097e-10, -2.1476e-10,  7.2775e-11,  1.7969e-10,  1.0981e-10,\n",
      "         -1.3225e-10,  3.1546e-10, -2.9873e-10, -4.6122e-10, -5.3776e-11,\n",
      "         -1.1335e-10, -7.2844e-11, -1.9907e-10,  2.5362e-10, -1.7854e-10,\n",
      "         -2.1076e-10, -1.0908e-10,  1.4707e-10,  2.1997e-10,  9.3615e-11,\n",
      "         -1.7619e-10, -4.2777e-10, -1.8110e-11,  1.5640e-11, -1.9944e-10,\n",
      "         -1.4288e-11, -2.9278e-10, -1.0569e-10, -2.6377e-10, -7.6982e-12,\n",
      "          1.6844e-10, -1.7730e-10,  1.1538e-10,  2.8602e-10,  6.3008e-11,\n",
      "         -2.3723e-11, -3.0769e-10, -2.1745e-10, -2.4504e-11,  7.2939e-11,\n",
      "         -2.0864e-10, -3.4232e-10, -8.4266e-11, -4.1332e-11, -2.8752e-10,\n",
      "          3.4733e-10, -1.0894e-10, -2.2214e-11, -2.2577e-11,  2.6749e-10,\n",
      "         -5.5231e-10, -1.3095e-11, -5.1888e-11, -3.0366e-10, -1.4831e-10,\n",
      "         -9.5302e-11, -1.1754e-10,  5.5884e-11, -1.6410e-10, -9.4230e-11,\n",
      "          7.3265e-11,  1.0433e-10, -1.0534e-10,  1.1658e-10, -2.4451e-11,\n",
      "         -5.9671e-11, -2.5885e-11,  8.6258e-11,  1.2256e-10, -1.9115e-10,\n",
      "          1.7333e-10, -2.3142e-10, -3.9072e-11,  9.2625e-11,  2.3753e-12,\n",
      "          3.2542e-10, -3.0635e-11,  4.7951e-11, -2.0250e-10, -2.9304e-10,\n",
      "         -2.8473e-10,  2.5356e-12, -1.1244e-10,  8.5329e-11, -3.8403e-10,\n",
      "         -1.0906e-10,  2.6717e-11,  7.4243e-11,  2.0405e-10,  2.0985e-10,\n",
      "          3.0166e-10, -1.3697e-10,  2.2245e-10, -5.4050e-11,  2.6764e-10,\n",
      "         -4.0756e-10,  2.3205e-10, -7.5876e-11, -1.2271e-11,  9.9272e-11,\n",
      "         -1.6782e-10,  2.5776e-10,  5.9709e-11,  1.6830e-10,  2.5499e-10,\n",
      "          9.3130e-11, -3.0704e-12, -4.1412e-11,  1.7982e-10,  8.8735e-11,\n",
      "          4.1708e-11, -9.0799e-11, -3.0929e-10, -1.9407e-10,  7.3529e-11,\n",
      "         -5.1499e-11,  7.0062e-11,  1.1176e-10,  1.6550e-10, -2.4476e-11,\n",
      "          4.3874e-10,  2.9196e-10,  7.4593e-11, -2.0600e-10, -1.9928e-10,\n",
      "          1.0581e-10, -8.1497e-11, -8.9832e-11, -2.1239e-10,  3.6634e-12,\n",
      "         -1.6198e-10, -1.1009e-10,  2.6302e-11, -1.4119e-11,  1.3117e-10,\n",
      "          2.9959e-12,  2.0028e-10,  8.5932e-11,  2.1078e-10, -1.9909e-10,\n",
      "          1.6161e-10, -2.6533e-10, -1.9832e-10, -1.6738e-10,  1.5325e-10,\n",
      "          5.1607e-11, -7.3368e-11, -5.2184e-11, -2.2455e-10, -1.2358e-11,\n",
      "         -2.2076e-10,  1.4159e-10,  1.4058e-11, -2.2853e-10,  4.8889e-11,\n",
      "          4.3160e-11,  1.5792e-10,  1.0893e-10, -8.8712e-11,  8.2224e-11,\n",
      "         -4.2135e-11, -1.2561e-10, -2.0300e-10, -8.4247e-11, -1.4188e-10,\n",
      "          9.0009e-11, -3.8862e-11,  1.1934e-11, -2.6607e-10, -2.2309e-11,\n",
      "          1.4417e-10, -1.4224e-10, -2.2211e-11,  2.1982e-10,  4.0383e-10,\n",
      "          2.1144e-10, -5.6575e-11,  3.6121e-10, -1.1741e-10, -9.6511e-11,\n",
      "         -1.2909e-10,  5.7903e-11, -5.7991e-11, -8.1276e-11, -2.5470e-10,\n",
      "         -8.2962e-11, -2.1706e-10, -8.0360e-11,  4.0565e-11, -2.0571e-10,\n",
      "         -3.4963e-10, -7.5321e-11, -1.2026e-10, -2.0103e-10, -4.0298e-10,\n",
      "         -1.3017e-10, -2.3621e-11, -8.1928e-11,  6.4178e-11, -1.0739e-10,\n",
      "         -9.5116e-11, -1.1288e-10, -2.8981e-11, -2.5443e-10,  9.1249e-11,\n",
      "         -1.1295e-10,  1.0192e-10, -3.4699e-11, -6.0274e-13, -1.6406e-10,\n",
      "          1.5569e-10,  8.2109e-12,  1.6410e-10,  1.0622e-10, -1.5177e-10,\n",
      "          6.0569e-11,  6.8810e-11, -1.6232e-10,  5.6308e-11, -1.0151e-10,\n",
      "          5.5788e-11,  1.2847e-11, -4.1300e-10,  6.7440e-11,  4.9963e-11,\n",
      "         -2.7221e-10, -6.0834e-11, -3.6155e-10, -9.4611e-11, -4.2950e-10,\n",
      "         -2.2204e-10,  3.5929e-11,  3.2265e-11,  1.5640e-10,  6.2574e-11,\n",
      "          7.1689e-11, -6.4366e-11, -7.0585e-12,  1.5558e-10, -1.5792e-10,\n",
      "         -5.2457e-12, -3.2457e-11, -1.0817e-11, -1.1795e-10,  2.4473e-10,\n",
      "          1.2721e-10, -1.1955e-10, -2.5233e-10,  8.1281e-13,  3.5689e-11,\n",
      "         -1.3876e-10,  7.4827e-11, -1.9531e-10, -1.6069e-10,  1.4148e-10,\n",
      "         -1.1083e-11,  1.8262e-10, -6.6370e-11, -1.8679e-10,  2.1728e-10,\n",
      "          9.4507e-11,  2.0031e-11,  9.2841e-12, -1.1183e-10, -2.2141e-10,\n",
      "         -1.1946e-10, -7.7932e-11, -2.1901e-10,  1.8375e-10,  9.0800e-11,\n",
      "         -2.7649e-10,  2.7651e-10, -1.5585e-10, -2.0990e-10, -2.4779e-10,\n",
      "         -1.1092e-10, -1.7642e-10, -1.1141e-10,  6.1376e-11,  2.9265e-11,\n",
      "          5.1104e-11,  3.1061e-12, -1.6264e-10,  9.0046e-11,  1.8115e-10,\n",
      "          2.0590e-10,  7.7727e-11,  7.7534e-11, -2.0818e-11, -1.9553e-10,\n",
      "          1.4553e-11, -6.1906e-11, -1.9871e-10,  4.7503e-12,  2.4837e-11,\n",
      "          9.2766e-11,  2.9300e-10,  1.4145e-11, -3.2367e-10]],\n",
      "       dtype=torch.float64)\n",
      "All Gradients\n",
      "tensor([[-0.0000e+00, -0.0000e+00, -0.0000e+00,  ..., -2.2508e-13,\n",
      "         -2.2508e-13, -0.0000e+00],\n",
      "        [ 0.0000e+00,  0.0000e+00,  0.0000e+00,  ...,  0.0000e+00,\n",
      "          0.0000e+00,  0.0000e+00],\n",
      "        [ 0.0000e+00,  0.0000e+00,  0.0000e+00,  ...,  0.0000e+00,\n",
      "          0.0000e+00,  0.0000e+00],\n",
      "        ...,\n",
      "        [ 0.0000e+00,  0.0000e+00,  0.0000e+00,  ...,  0.0000e+00,\n",
      "          0.0000e+00,  0.0000e+00],\n",
      "        [ 0.0000e+00,  0.0000e+00,  0.0000e+00,  ...,  0.0000e+00,\n",
      "          0.0000e+00,  0.0000e+00],\n",
      "        [ 0.0000e+00,  0.0000e+00,  5.4475e-13,  ...,  0.0000e+00,\n",
      "          5.4475e-13,  0.0000e+00]], dtype=torch.float64)\n",
      "tensor([[-0.0000e+00, -0.0000e+00, -1.7901e-16, -0.0000e+00, -2.5804e-16,\n",
      "         -3.4318e-16, -7.6378e-16, -0.0000e+00, -6.7265e-16, -7.4627e-17,\n",
      "         -7.1341e-16, -0.0000e+00, -5.3842e-16, -4.1757e-16, -0.0000e+00,\n",
      "         -0.0000e+00, -5.2358e-16, -4.5217e-16, -2.6259e-16, -1.1886e-15,\n",
      "         -0.0000e+00, -0.0000e+00, -0.0000e+00, -0.0000e+00, -4.0813e-16,\n",
      "         -0.0000e+00, -0.0000e+00, -4.5808e-16, -1.4978e-16, -2.0066e-16,\n",
      "         -0.0000e+00, -0.0000e+00, -0.0000e+00, -0.0000e+00, -0.0000e+00,\n",
      "         -0.0000e+00, -0.0000e+00, -1.2534e-16, -7.7974e-16, -1.0232e-15,\n",
      "         -4.9269e-16, -2.8380e-16, -0.0000e+00, -1.1056e-15, -0.0000e+00,\n",
      "         -0.0000e+00, -9.9319e-16, -0.0000e+00, -0.0000e+00, -5.9350e-16,\n",
      "         -7.6602e-16, -9.2843e-16, -1.2305e-15, -0.0000e+00, -0.0000e+00,\n",
      "         -0.0000e+00, -0.0000e+00, -1.2622e-16, -0.0000e+00, -0.0000e+00,\n",
      "         -7.0318e-16, -7.5969e-16, -0.0000e+00, -1.7383e-16, -7.7393e-17,\n",
      "         -6.6012e-16, -4.1896e-16, -9.9273e-16, -0.0000e+00, -0.0000e+00,\n",
      "         -0.0000e+00, -0.0000e+00, -0.0000e+00, -1.3647e-15, -5.3202e-16,\n",
      "         -0.0000e+00, -5.7635e-16, -4.1925e-16, -1.3000e-16, -0.0000e+00,\n",
      "         -0.0000e+00, -3.9036e-16, -0.0000e+00, -0.0000e+00, -0.0000e+00,\n",
      "         -0.0000e+00, -7.5504e-16, -1.1513e-16, -0.0000e+00, -4.3417e-16,\n",
      "         -1.0545e-16, -2.0254e-16, -0.0000e+00, -0.0000e+00, -6.8727e-16,\n",
      "         -0.0000e+00, -5.8193e-16, -1.0987e-15, -0.0000e+00, -0.0000e+00],\n",
      "        [ 0.0000e+00,  0.0000e+00,  1.8468e-10,  0.0000e+00,  2.6621e-10,\n",
      "          3.5405e-10,  7.8797e-10,  0.0000e+00,  6.9396e-10,  7.6990e-11,\n",
      "          7.3601e-10,  0.0000e+00,  5.5548e-10,  4.3080e-10,  0.0000e+00,\n",
      "          0.0000e+00,  5.4017e-10,  4.6650e-10,  2.7091e-10,  1.2262e-09,\n",
      "          0.0000e+00,  0.0000e+00,  0.0000e+00,  0.0000e+00,  4.2106e-10,\n",
      "          0.0000e+00,  0.0000e+00,  4.7259e-10,  1.5453e-10,  2.0702e-10,\n",
      "          0.0000e+00,  0.0000e+00,  0.0000e+00,  0.0000e+00,  0.0000e+00,\n",
      "          0.0000e+00,  0.0000e+00,  1.2931e-10,  8.0443e-10,  1.0556e-09,\n",
      "          5.0829e-10,  2.9279e-10,  0.0000e+00,  1.1406e-09,  0.0000e+00,\n",
      "          0.0000e+00,  1.0247e-09,  0.0000e+00,  0.0000e+00,  6.1230e-10,\n",
      "          7.9028e-10,  9.5784e-10,  1.2695e-09,  0.0000e+00,  0.0000e+00,\n",
      "          0.0000e+00,  0.0000e+00,  1.3022e-10,  0.0000e+00,  0.0000e+00,\n",
      "          7.2545e-10,  7.8376e-10,  0.0000e+00,  1.7933e-10,  7.9844e-11,\n",
      "          6.8103e-10,  4.3223e-10,  1.0242e-09,  0.0000e+00,  0.0000e+00,\n",
      "          0.0000e+00,  0.0000e+00,  0.0000e+00,  1.4079e-09,  5.4887e-10,\n",
      "          0.0000e+00,  5.9460e-10,  4.3253e-10,  1.3412e-10,  0.0000e+00,\n",
      "          0.0000e+00,  4.0272e-10,  0.0000e+00,  0.0000e+00,  0.0000e+00,\n",
      "          0.0000e+00,  7.7895e-10,  1.1878e-10,  0.0000e+00,  4.4792e-10,\n",
      "          1.0879e-10,  2.0896e-10,  0.0000e+00,  0.0000e+00,  7.0904e-10,\n",
      "          0.0000e+00,  6.0037e-10,  1.1335e-09,  0.0000e+00,  0.0000e+00],\n",
      "        [-0.0000e+00, -0.0000e+00, -3.1678e-14, -0.0000e+00, -4.5663e-14,\n",
      "         -6.0729e-14, -1.3516e-13, -0.0000e+00, -1.1903e-13, -1.3206e-14,\n",
      "         -1.2624e-13, -0.0000e+00, -9.5279e-14, -7.3893e-14, -0.0000e+00,\n",
      "         -0.0000e+00, -9.2652e-14, -8.0016e-14, -4.6468e-14, -2.1033e-13,\n",
      "         -0.0000e+00, -0.0000e+00, -0.0000e+00, -0.0000e+00, -7.2222e-14,\n",
      "         -0.0000e+00, -0.0000e+00, -8.1062e-14, -2.6505e-14, -3.5509e-14,\n",
      "         -0.0000e+00, -0.0000e+00, -0.0000e+00, -0.0000e+00, -0.0000e+00,\n",
      "         -0.0000e+00, -0.0000e+00, -2.2180e-14, -1.3798e-13, -1.8106e-13,\n",
      "         -8.7186e-14, -5.0221e-14, -0.0000e+00, -1.9565e-13, -0.0000e+00,\n",
      "         -0.0000e+00, -1.7575e-13, -0.0000e+00, -0.0000e+00, -1.0502e-13,\n",
      "         -1.3555e-13, -1.6429e-13, -2.1775e-13, -0.0000e+00, -0.0000e+00,\n",
      "         -0.0000e+00, -0.0000e+00, -2.2336e-14, -0.0000e+00, -0.0000e+00,\n",
      "         -1.2443e-13, -1.3443e-13, -0.0000e+00, -3.0760e-14, -1.3695e-14,\n",
      "         -1.1681e-13, -7.4138e-14, -1.7567e-13, -0.0000e+00, -0.0000e+00,\n",
      "         -0.0000e+00, -0.0000e+00, -0.0000e+00, -2.4150e-13, -9.4146e-14,\n",
      "         -0.0000e+00, -1.0199e-13, -7.4190e-14, -2.3005e-14, -0.0000e+00,\n",
      "         -0.0000e+00, -6.9077e-14, -0.0000e+00, -0.0000e+00, -0.0000e+00,\n",
      "         -0.0000e+00, -1.3361e-13, -2.0373e-14, -0.0000e+00, -7.6830e-14,\n",
      "         -1.8660e-14, -3.5842e-14, -0.0000e+00, -0.0000e+00, -1.2162e-13,\n",
      "         -0.0000e+00, -1.0298e-13, -1.9442e-13, -0.0000e+00, -0.0000e+00],\n",
      "        [-0.0000e+00, -0.0000e+00, -5.8085e-11, -0.0000e+00, -8.3727e-11,\n",
      "         -1.1135e-10, -2.4782e-10, -0.0000e+00, -2.1826e-10, -2.4214e-11,\n",
      "         -2.3148e-10, -0.0000e+00, -1.7470e-10, -1.3549e-10, -0.0000e+00,\n",
      "         -0.0000e+00, -1.6989e-10, -1.4672e-10, -8.5203e-11, -3.8567e-10,\n",
      "         -0.0000e+00, -0.0000e+00, -0.0000e+00, -0.0000e+00, -1.3243e-10,\n",
      "         -0.0000e+00, -0.0000e+00, -1.4864e-10, -4.8600e-11, -6.5110e-11,\n",
      "         -0.0000e+00, -0.0000e+00, -0.0000e+00, -0.0000e+00, -0.0000e+00,\n",
      "         -0.0000e+00, -0.0000e+00, -4.0669e-11, -2.5300e-10, -3.3200e-10,\n",
      "         -1.5986e-10, -9.2086e-11, -0.0000e+00, -3.5874e-10, -0.0000e+00,\n",
      "         -0.0000e+00, -3.2226e-10, -0.0000e+00, -0.0000e+00, -1.9257e-10,\n",
      "         -2.4855e-10, -3.0125e-10, -3.9926e-10, -0.0000e+00, -0.0000e+00,\n",
      "         -0.0000e+00, -0.0000e+00, -4.0956e-11, -0.0000e+00, -0.0000e+00,\n",
      "         -2.2816e-10, -2.4650e-10, -0.0000e+00, -5.6402e-11, -2.5112e-11,\n",
      "         -2.1419e-10, -1.3594e-10, -3.2211e-10, -0.0000e+00, -0.0000e+00,\n",
      "         -0.0000e+00, -0.0000e+00, -0.0000e+00, -4.4281e-10, -1.7263e-10,\n",
      "         -0.0000e+00, -1.8701e-10, -1.3603e-10, -4.2181e-11, -0.0000e+00,\n",
      "         -0.0000e+00, -1.2666e-10, -0.0000e+00, -0.0000e+00, -0.0000e+00,\n",
      "         -0.0000e+00, -2.4499e-10, -3.7356e-11, -0.0000e+00, -1.4088e-10,\n",
      "         -3.4215e-11, -6.5720e-11, -0.0000e+00, -0.0000e+00, -2.2300e-10,\n",
      "         -0.0000e+00, -1.8882e-10, -3.5649e-10, -0.0000e+00, -0.0000e+00],\n",
      "        [-0.0000e+00, -0.0000e+00, -7.7939e-12, -0.0000e+00, -1.1235e-11,\n",
      "         -1.4942e-11, -3.3253e-11, -0.0000e+00, -2.9286e-11, -3.2491e-12,\n",
      "         -3.1060e-11, -0.0000e+00, -2.3442e-11, -1.8180e-11, -0.0000e+00,\n",
      "         -0.0000e+00, -2.2796e-11, -1.9687e-11, -1.1433e-11, -5.1749e-11,\n",
      "         -0.0000e+00, -0.0000e+00, -0.0000e+00, -0.0000e+00, -1.7769e-11,\n",
      "         -0.0000e+00, -0.0000e+00, -1.9944e-11, -6.5212e-12, -8.7365e-12,\n",
      "         -0.0000e+00, -0.0000e+00, -0.0000e+00, -0.0000e+00, -0.0000e+00,\n",
      "         -0.0000e+00, -0.0000e+00, -5.4570e-12, -3.3948e-11, -4.4548e-11,\n",
      "         -2.1451e-11, -1.2356e-11, -0.0000e+00, -4.8135e-11, -0.0000e+00,\n",
      "         -0.0000e+00, -4.3242e-11, -0.0000e+00, -0.0000e+00, -2.5840e-11,\n",
      "         -3.3351e-11, -4.0422e-11, -5.3573e-11, -0.0000e+00, -0.0000e+00,\n",
      "         -0.0000e+00, -0.0000e+00, -5.4955e-12, -0.0000e+00, -0.0000e+00,\n",
      "         -3.0615e-11, -3.3076e-11, -0.0000e+00, -7.5680e-12, -3.3695e-12,\n",
      "         -2.8741e-11, -1.8240e-11, -4.3222e-11, -0.0000e+00, -0.0000e+00,\n",
      "         -0.0000e+00, -0.0000e+00, -0.0000e+00, -5.9417e-11, -2.3163e-11,\n",
      "         -0.0000e+00, -2.5093e-11, -1.8253e-11, -5.6599e-12, -0.0000e+00,\n",
      "         -0.0000e+00, -1.6995e-11, -0.0000e+00, -0.0000e+00, -0.0000e+00,\n",
      "         -0.0000e+00, -3.2873e-11, -5.0125e-12, -0.0000e+00, -1.8903e-11,\n",
      "         -4.5911e-12, -8.8184e-12, -0.0000e+00, -0.0000e+00, -2.9922e-11,\n",
      "         -0.0000e+00, -2.5336e-11, -4.7834e-11, -0.0000e+00, -0.0000e+00],\n",
      "        [-0.0000e+00, -0.0000e+00, -5.9846e-11, -0.0000e+00, -8.6266e-11,\n",
      "         -1.1473e-10, -2.5534e-10, -0.0000e+00, -2.2488e-10, -2.4949e-11,\n",
      "         -2.3850e-10, -0.0000e+00, -1.8000e-10, -1.3960e-10, -0.0000e+00,\n",
      "         -0.0000e+00, -1.7504e-10, -1.5117e-10, -8.7788e-11, -3.9736e-10,\n",
      "         -0.0000e+00, -0.0000e+00, -0.0000e+00, -0.0000e+00, -1.3644e-10,\n",
      "         -0.0000e+00, -0.0000e+00, -1.5314e-10, -5.0074e-11, -6.7085e-11,\n",
      "         -0.0000e+00, -0.0000e+00, -0.0000e+00, -0.0000e+00, -0.0000e+00,\n",
      "         -0.0000e+00, -0.0000e+00, -4.1902e-11, -2.6068e-10, -3.4207e-10,\n",
      "         -1.6471e-10, -9.4878e-11, -0.0000e+00, -3.6962e-10, -0.0000e+00,\n",
      "         -0.0000e+00, -3.3204e-10, -0.0000e+00, -0.0000e+00, -1.9841e-10,\n",
      "         -2.5609e-10, -3.1039e-10, -4.1137e-10, -0.0000e+00, -0.0000e+00,\n",
      "         -0.0000e+00, -0.0000e+00, -4.2198e-11, -0.0000e+00, -0.0000e+00,\n",
      "         -2.3508e-10, -2.5397e-10, -0.0000e+00, -5.8112e-11, -2.5873e-11,\n",
      "         -2.2069e-10, -1.4006e-10, -3.3188e-10, -0.0000e+00, -0.0000e+00,\n",
      "         -0.0000e+00, -0.0000e+00, -0.0000e+00, -4.5624e-10, -1.7786e-10,\n",
      "         -0.0000e+00, -1.9268e-10, -1.4016e-10, -4.3460e-11, -0.0000e+00,\n",
      "         -0.0000e+00, -1.3050e-10, -0.0000e+00, -0.0000e+00, -0.0000e+00,\n",
      "         -0.0000e+00, -2.5242e-10, -3.8489e-11, -0.0000e+00, -1.4515e-10,\n",
      "         -3.5253e-11, -6.7713e-11, -0.0000e+00, -0.0000e+00, -2.2976e-10,\n",
      "         -0.0000e+00, -1.9455e-10, -3.6730e-10, -0.0000e+00, -0.0000e+00],\n",
      "        [-0.0000e+00, -0.0000e+00, -2.4581e-11, -0.0000e+00, -3.5433e-11,\n",
      "         -4.7125e-11, -1.0488e-10, -0.0000e+00, -9.2366e-11, -1.0247e-11,\n",
      "         -9.7963e-11, -0.0000e+00, -7.3934e-11, -5.7340e-11, -0.0000e+00,\n",
      "         -0.0000e+00, -7.1896e-11, -6.2091e-11, -3.6058e-11, -1.6321e-10,\n",
      "         -0.0000e+00, -0.0000e+00, -0.0000e+00, -0.0000e+00, -5.6043e-11,\n",
      "         -0.0000e+00, -0.0000e+00, -6.2902e-11, -2.0568e-11, -2.7554e-11,\n",
      "         -0.0000e+00, -0.0000e+00, -0.0000e+00, -0.0000e+00, -0.0000e+00,\n",
      "         -0.0000e+00, -0.0000e+00, -1.7211e-11, -1.0707e-10, -1.4050e-10,\n",
      "         -6.7654e-11, -3.8971e-11, -0.0000e+00, -1.5182e-10, -0.0000e+00,\n",
      "         -0.0000e+00, -1.3638e-10, -0.0000e+00, -0.0000e+00, -8.1497e-11,\n",
      "         -1.0519e-10, -1.2749e-10, -1.6897e-10, -0.0000e+00, -0.0000e+00,\n",
      "         -0.0000e+00, -0.0000e+00, -1.7333e-11, -0.0000e+00, -0.0000e+00,\n",
      "         -9.6558e-11, -1.0432e-10, -0.0000e+00, -2.3869e-11, -1.0627e-11,\n",
      "         -9.0646e-11, -5.7529e-11, -1.3632e-10, -0.0000e+00, -0.0000e+00,\n",
      "         -0.0000e+00, -0.0000e+00, -0.0000e+00, -1.8740e-10, -7.3055e-11,\n",
      "         -0.0000e+00, -7.9142e-11, -5.7570e-11, -1.7851e-11, -0.0000e+00,\n",
      "         -0.0000e+00, -5.3602e-11, -0.0000e+00, -0.0000e+00, -0.0000e+00,\n",
      "         -0.0000e+00, -1.0368e-10, -1.5809e-11, -0.0000e+00, -5.9619e-11,\n",
      "         -1.4480e-11, -2.7813e-11, -0.0000e+00, -0.0000e+00, -9.4374e-11,\n",
      "         -0.0000e+00, -7.9909e-11, -1.5086e-10, -0.0000e+00, -0.0000e+00],\n",
      "        [-0.0000e+00, -0.0000e+00, -2.1883e-11, -0.0000e+00, -3.1543e-11,\n",
      "         -4.1951e-11, -9.3365e-11, -0.0000e+00, -8.2226e-11, -9.1225e-12,\n",
      "         -8.7208e-11, -0.0000e+00, -6.5818e-11, -5.1045e-11, -0.0000e+00,\n",
      "         -0.0000e+00, -6.4003e-11, -5.5274e-11, -3.2100e-11, -1.4530e-10,\n",
      "         -0.0000e+00, -0.0000e+00, -0.0000e+00, -0.0000e+00, -4.9890e-11,\n",
      "         -0.0000e+00, -0.0000e+00, -5.5997e-11, -1.8310e-11, -2.4530e-11,\n",
      "         -0.0000e+00, -0.0000e+00, -0.0000e+00, -0.0000e+00, -0.0000e+00,\n",
      "         -0.0000e+00, -0.0000e+00, -1.5322e-11, -9.5316e-11, -1.2508e-10,\n",
      "         -6.0227e-11, -3.4692e-11, -0.0000e+00, -1.3515e-10, -0.0000e+00,\n",
      "         -0.0000e+00, -1.2141e-10, -0.0000e+00, -0.0000e+00, -7.2550e-11,\n",
      "         -9.3639e-11, -1.1349e-10, -1.5042e-10, -0.0000e+00, -0.0000e+00,\n",
      "         -0.0000e+00, -0.0000e+00, -1.5430e-11, -0.0000e+00, -0.0000e+00,\n",
      "         -8.5958e-11, -9.2866e-11, -0.0000e+00, -2.1249e-11, -9.4606e-12,\n",
      "         -8.0695e-11, -5.1214e-11, -1.2135e-10, -0.0000e+00, -0.0000e+00,\n",
      "         -0.0000e+00, -0.0000e+00, -0.0000e+00, -1.6682e-10, -6.5035e-11,\n",
      "         -0.0000e+00, -7.0454e-11, -5.1249e-11, -1.5891e-11, -0.0000e+00,\n",
      "         -0.0000e+00, -4.7718e-11, -0.0000e+00, -0.0000e+00, -0.0000e+00,\n",
      "         -0.0000e+00, -9.2297e-11, -1.4073e-11, -0.0000e+00, -5.3074e-11,\n",
      "         -1.2890e-11, -2.4759e-11, -0.0000e+00, -0.0000e+00, -8.4013e-11,\n",
      "         -0.0000e+00, -7.1136e-11, -1.3430e-10, -0.0000e+00, -0.0000e+00],\n",
      "        [-0.0000e+00, -0.0000e+00, -1.2457e-11, -0.0000e+00, -1.7956e-11,\n",
      "         -2.3881e-11, -5.3148e-11, -0.0000e+00, -4.6807e-11, -5.1929e-12,\n",
      "         -4.9643e-11, -0.0000e+00, -3.7467e-11, -2.9057e-11, -0.0000e+00,\n",
      "         -0.0000e+00, -3.6434e-11, -3.1465e-11, -1.8273e-11, -8.2710e-11,\n",
      "         -0.0000e+00, -0.0000e+00, -0.0000e+00, -0.0000e+00, -2.8400e-11,\n",
      "         -0.0000e+00, -0.0000e+00, -3.1876e-11, -1.0423e-11, -1.3963e-11,\n",
      "         -0.0000e+00, -0.0000e+00, -0.0000e+00, -0.0000e+00, -0.0000e+00,\n",
      "         -0.0000e+00, -0.0000e+00, -8.7218e-12, -5.4258e-11, -7.1200e-11,\n",
      "         -3.4284e-11, -1.9749e-11, -0.0000e+00, -7.6934e-11, -0.0000e+00,\n",
      "         -0.0000e+00, -6.9112e-11, -0.0000e+00, -0.0000e+00, -4.1299e-11,\n",
      "         -5.3304e-11, -6.4606e-11, -8.5624e-11, -0.0000e+00, -0.0000e+00,\n",
      "         -0.0000e+00, -0.0000e+00, -8.7833e-12, -0.0000e+00, -0.0000e+00,\n",
      "         -4.8931e-11, -5.2864e-11, -0.0000e+00, -1.2096e-11, -5.3854e-12,\n",
      "         -4.5935e-11, -2.9153e-11, -6.9080e-11, -0.0000e+00, -0.0000e+00,\n",
      "         -0.0000e+00, -0.0000e+00, -0.0000e+00, -9.4965e-11, -3.7021e-11,\n",
      "         -0.0000e+00, -4.0106e-11, -2.9174e-11, -9.0461e-12, -0.0000e+00,\n",
      "         -0.0000e+00, -2.7163e-11, -0.0000e+00, -0.0000e+00, -0.0000e+00,\n",
      "         -0.0000e+00, -5.2540e-11, -8.0113e-12, -0.0000e+00, -3.0212e-11,\n",
      "         -7.3378e-12, -1.4094e-11, -0.0000e+00, -0.0000e+00, -4.7824e-11,\n",
      "         -0.0000e+00, -4.0494e-11, -7.6451e-11, -0.0000e+00, -0.0000e+00],\n",
      "        [-0.0000e+00, -0.0000e+00, -5.3662e-15, -0.0000e+00, -7.7352e-15,\n",
      "         -1.0287e-14, -2.2895e-14, -0.0000e+00, -2.0164e-14, -2.2371e-15,\n",
      "         -2.1386e-14, -0.0000e+00, -1.6140e-14, -1.2517e-14, -0.0000e+00,\n",
      "         -0.0000e+00, -1.5695e-14, -1.3555e-14, -7.8716e-15, -3.5630e-14,\n",
      "         -0.0000e+00, -0.0000e+00, -0.0000e+00, -0.0000e+00, -1.2234e-14,\n",
      "         -0.0000e+00, -0.0000e+00, -1.3732e-14, -4.4900e-15, -6.0152e-15,\n",
      "         -0.0000e+00, -0.0000e+00, -0.0000e+00, -0.0000e+00, -0.0000e+00,\n",
      "         -0.0000e+00, -0.0000e+00, -3.7572e-15, -2.3374e-14, -3.0672e-14,\n",
      "         -1.4769e-14, -8.5074e-15, -0.0000e+00, -3.3142e-14, -0.0000e+00,\n",
      "         -0.0000e+00, -2.9773e-14, -0.0000e+00, -0.0000e+00, -1.7791e-14,\n",
      "         -2.2963e-14, -2.7831e-14, -3.6886e-14, -0.0000e+00, -0.0000e+00,\n",
      "         -0.0000e+00, -0.0000e+00, -3.7837e-15, -0.0000e+00, -0.0000e+00,\n",
      "         -2.1079e-14, -2.2773e-14, -0.0000e+00, -5.2107e-15, -2.3200e-15,\n",
      "         -1.9788e-14, -1.2559e-14, -2.9759e-14, -0.0000e+00, -0.0000e+00,\n",
      "         -0.0000e+00, -0.0000e+00, -0.0000e+00, -4.0910e-14, -1.5948e-14,\n",
      "         -0.0000e+00, -1.7277e-14, -1.2568e-14, -3.8969e-15, -0.0000e+00,\n",
      "         -0.0000e+00, -1.1702e-14, -0.0000e+00, -0.0000e+00, -0.0000e+00,\n",
      "         -0.0000e+00, -2.2633e-14, -3.4512e-15, -0.0000e+00, -1.3015e-14,\n",
      "         -3.1610e-15, -6.0716e-15, -0.0000e+00, -0.0000e+00, -2.0602e-14,\n",
      "         -0.0000e+00, -1.7444e-14, -3.2934e-14, -0.0000e+00, -0.0000e+00]],\n",
      "       dtype=torch.float64)\n",
      "Loss/cnt/eps_curr/Y: 2.4611501715070547 2 0.2675220375411287 1\n",
      "Loss/cnt/eps_curr/Y: 2.4611501714978585 3 0.2687530666607864 1\n",
      "Loss/cnt/eps_curr/Y: 2.461150171488061 4 0.2700205513013018 1\n",
      "Loss/cnt/eps_curr/Y: 2.4611501714775814 5 0.27132879857658115 1\n",
      "Loss/cnt/eps_curr/Y: 2.461150171466345 6 0.2726815380267501 1\n",
      "Loss/cnt/eps_curr/Y: 2.461150171454269 7 0.2740822533241696 1\n",
      "Loss/cnt/eps_curr/Y: 2.461150171441263 8 0.2755348530383001 1\n",
      "Loss/cnt/eps_curr/Y: 2.461150171427205 9 0.27704358396807716 1\n",
      "Loss/cnt/eps_curr/Y: 2.4611501714119606 10 0.2786128757825874 1\n",
      "Loss/cnt/eps_curr/Y: 2.461150171395376 11 0.2802479626608279 1\n",
      "Loss/cnt/eps_curr/Y: 2.461150171377265 12 0.2819547820298043 1\n",
      "Loss/cnt/eps_curr/Y: 2.4611501713574153 13 0.28373958794848675 1\n",
      "Loss/cnt/eps_curr/Y: 2.46115017133556 14 0.2856099887032555 1\n",
      "Loss/cnt/eps_curr/Y: 2.46115017131139 15 0.2875738901967243 1\n",
      "Loss/cnt/eps_curr/Y: 2.4611501710965085 16 0.28964077128719684 1\n",
      "Loss/cnt/eps_curr/Y: 2.461150171046695 17 0.29200138758362953 1\n",
      "Loss/cnt/eps_curr/Y: 2.4611501709858827 18 0.29466709252613205 1\n",
      "Loss/cnt/eps_curr/Y: 2.4611501709114503 19 0.2976560206795413 1\n",
      "Loss/cnt/eps_curr/Y: 2.461150170819825 20 0.3009988014761123 1\n",
      "Loss/cnt/eps_curr/Y: 2.4611501707057553 21 0.3047378508740938 1\n",
      "Loss/cnt/eps_curr/Y: 2.4611501705628687 22 0.30892881059391886 1\n",
      "Loss/cnt/eps_curr/Y: 2.4611501703819783 23 0.31363363221306934 1\n",
      "Loss/cnt/eps_curr/Y: 2.4611501701442386 24 0.31895548205911983 1\n",
      "Loss/cnt/eps_curr/Y: 2.4611501698226137 25 0.3250357265512595 1\n",
      "Loss/cnt/eps_curr/Y: 2.4611501694521007 26 0.33206748864037977 1\n",
      "Loss/cnt/eps_curr/Y: 2.4611501689552195 27 0.33993835518559673 1\n",
      "Loss/cnt/eps_curr/Y: 2.461150168240765 28 0.34890438650693306 1\n"
     ]
    },
    {
     "name": "stdout",
     "output_type": "stream",
     "text": [
      "Loss/cnt/eps_curr/Y: 2.4611501671604166 29 0.35934061279357826 1\n",
      "Loss/cnt/eps_curr/Y: 2.4611501654151002 30 0.37177321067204866 1\n",
      "Loss/cnt/eps_curr/Y: 2.461150162337934 31 0.3870170090811102 1\n",
      "Loss/cnt/eps_curr/Y: 2.461150156231933 32 0.40635279583247397 1\n",
      "Loss/cnt/eps_curr/Y: 2.461150142064211 33 0.4318651466308378 1\n",
      "Loss/cnt/eps_curr/Y: 2.4611500795964343 34 0.4664004826725923 1\n",
      "Loss/cnt/eps_curr/Y: 2.46114980515091 35 0.5143007651378607 1\n",
      "Loss/cnt/eps_curr/Y: 2.4611489449083703 36 0.5742651192997706 1\n",
      "Loss/cnt/eps_curr/Y: 2.461144921816593 37 0.6431192415092645 1\n",
      "Loss/cnt/eps_curr/Y: 2.4611232813676707 38 0.7157572198693986 1\n",
      "Loss/cnt/eps_curr/Y: 2.461024815352747 39 0.7844250821681932 1\n",
      "Loss/cnt/eps_curr/Y: 2.4606981054239 40 0.853553146307044 1\n",
      "Loss/cnt/eps_curr/Y: 2.459370261699275 41 0.9276545879671166 1\n",
      "Loss/cnt/eps_curr/Y: 2.454338110814545 42 1.0048525268433561 1\n",
      "Loss/cnt/eps_curr/Y: 2.4388039067553104 43 1.080134002846511 1\n",
      "Loss/cnt/eps_curr/Y: 2.424493574816606 44 1.1635955863094527 1\n",
      "Loss/cnt/eps_curr/Y: 2.435596628880739 45 1.2493059065620438 3\n",
      "Loss/cnt/eps_curr/Y: 2.441307682120944 46 1.2721779893596825 3\n",
      "Loss/cnt/eps_curr/Y: 2.4325179168435787 47 1.2640953712501999 3\n",
      "Loss/cnt/eps_curr/Y: 2.424975203294535 48 1.2377703515563618 1\n",
      "Loss/cnt/eps_curr/Y: 2.4293200516711133 49 1.2258107021409714 1\n",
      "Loss/cnt/eps_curr/Y: 2.4296395153713846 50 1.2356704601287547 1\n",
      "Loss/cnt/eps_curr/Y: 2.424302791652674 51 1.2625758182443294 1\n",
      "Loss/cnt/eps_curr/Y: 2.4261685031863185 52 1.2930589931310446 3\n",
      "Loss/cnt/eps_curr/Y: 2.427594738216529 53 1.3090525322573112 3\n",
      "Loss/cnt/eps_curr/Y: 2.4244121790286703 54 1.3099004104808187 3\n",
      "Loss/cnt/eps_curr/Y: 2.4238378423057263 55 1.3054572853546098 1\n",
      "Loss/cnt/eps_curr/Y: 2.4254167358612744 56 1.310044021180429 1\n",
      "Loss/cnt/eps_curr/Y: 2.4248655879829335 57 1.3279700703666983 1\n",
      "Loss/cnt/eps_curr/Y: 2.42026925347214 58 1.358360124105464 1\n",
      "Loss/cnt/eps_curr/Y: 2.419104518920901 59 1.392609764289424 3\n",
      "Loss/cnt/eps_curr/Y: 2.4155407062647565 60 1.4241632319880995 3\n",
      "Loss/cnt/eps_curr/Y: 2.4178753165055857 61 1.4515485123501477 8\n",
      "Loss/cnt/eps_curr/Y: 2.419813509596323 62 1.4614946316054254 8\n",
      "Loss/cnt/eps_curr/Y: 2.4170746101563125 63 1.4561241541714023 8\n",
      "Loss/cnt/eps_curr/Y: 2.4148244216803354 64 1.4432381120950868 3\n",
      "Loss/cnt/eps_curr/Y: 2.4155421663220453 65 1.4304444726043675 3\n",
      "Loss/cnt/eps_curr/Y: 2.4168571559904684 66 1.42243639112391 1\n",
      "Loss/cnt/eps_curr/Y: 2.417395821208361 67 1.4215043142004578 1\n",
      "Loss/cnt/eps_curr/Y: 2.4167136904176933 68 1.427857408595234 1\n",
      "Loss/cnt/eps_curr/Y: 2.4154918046653986 69 1.4396338787441911 3\n",
      "Loss/cnt/eps_curr/Y: 2.414672868805413 70 1.453868144727437 3\n",
      "Loss/cnt/eps_curr/Y: 2.4150634931768504 71 1.4670646076683438 8\n",
      "Loss/cnt/eps_curr/Y: 2.4159636104486717 72 1.4749807457589592 8\n",
      "Loss/cnt/eps_curr/Y: 2.4157167937822046 73 1.4751648229392524 8\n",
      "Loss/cnt/eps_curr/Y: 2.4147216067078454 74 1.46930329639545 8\n",
      "Loss/cnt/eps_curr/Y: 2.4145304052775445 75 1.4615920998788325 1\n",
      "Loss/cnt/eps_curr/Y: 2.415038154609614 76 1.45613162242353 1\n",
      "Loss/cnt/eps_curr/Y: 2.4153284141751987 77 1.4552249188815227 1\n",
      "Loss/cnt/eps_curr/Y: 2.41507481351843 78 1.4590918442304206 1\n",
      "Loss/cnt/eps_curr/Y: 2.4145909959717824 79 1.4664800404010085 3\n",
      "Loss/cnt/eps_curr/Y: 2.414364809255421 80 1.4752459990019786 3\n",
      "Loss/cnt/eps_curr/Y: 2.414559447743039 81 1.4828522274849438 8\n",
      "Loss/cnt/eps_curr/Y: 2.414733738000184 82 1.487059826395006 8\n",
      "Loss/cnt/eps_curr/Y: 2.414518480816028 83 1.4871965729258179 8\n",
      "Loss/cnt/eps_curr/Y: 2.4141774339751376 84 1.4845982617970859 8\n",
      "Loss/cnt/eps_curr/Y: 2.4141052472517637 85 1.4817411696847806 1\n",
      "Loss/cnt/eps_curr/Y: 2.4141873917868377 86 1.4809290305529432 1\n",
      "Loss/cnt/eps_curr/Y: 2.414125833348895 87 1.483330740882275 1\n",
      "Loss/cnt/eps_curr/Y: 2.4138615957701046 88 1.4889011762951017 1\n",
      "Loss/cnt/eps_curr/Y: 2.4135424035460544 89 1.4966699188660246 3\n",
      "Loss/cnt/eps_curr/Y: 2.4138291912976504 90 1.5052758959193369 8\n",
      "Loss/cnt/eps_curr/Y: 2.4133651399855944 91 1.5100164730582617 8\n",
      "Loss/cnt/eps_curr/Y: 2.4125655397929706 92 1.5122176704078711 8\n",
      "Loss/cnt/eps_curr/Y: 2.4118672731915667 93 1.514509531093068 3\n",
      "Loss/cnt/eps_curr/Y: 2.4117686635322935 94 1.5195071118106622 1\n",
      "Loss/cnt/eps_curr/Y: 2.4109195146189313 95 1.5314498135931334 1\n",
      "Loss/cnt/eps_curr/Y: 2.4103631352268353 96 1.5482477428985464 5\n",
      "Loss/cnt/eps_curr/Y: 2.41134227537263 97 1.562521958750612 5\n",
      "Loss/cnt/eps_curr/Y: 2.4120379713953066 98 1.5689210637513322 5\n",
      "Loss/cnt/eps_curr/Y: 2.4109939727821827 99 1.5669077867950536 5\n",
      "Loss/cnt/eps_curr/Y: 2.4103284665180404 100 1.561555053027295 5\n",
      "too many steps to create adversary. Exiting.\n"
     ]
    },
    {
     "data": {
      "image/png": "[encoded data removed]",
      "text/plain": [
       "<Figure size 432x216 with 2 Axes>"
      ]
     },
     "metadata": {},
     "output_type": "display_data"
    }
   ],
   "source": [
    "plot_random_adversary(brain_fullgd_trained,show_grad=True)"
   ]
  },
  {
   "cell_type": "code",
   "execution_count": 52,
   "metadata": {
    "scrolled": false
   },
   "outputs": [],
   "source": [
    "# x = torch.zeros(1, 784, dtype=torch.double, requires_grad=True)\n",
    "# out = brain_fullgd_trained.forward_pass(x)\n",
    "# make_dot(out)"
   ]
  },
  {
   "cell_type": "markdown",
   "metadata": {},
   "source": [
    "# RNN"
   ]
  },
  {
   "cell_type": "code",
   "execution_count": 23,
   "metadata": {},
   "outputs": [
    {
     "name": "stdout",
     "output_type": "stream",
     "text": [
      "\n"
     ]
    },
    {
     "name": "stderr",
     "output_type": "stream",
     "text": [
      "\r",
      " ... (more hidden) ..."
     ]
    },
    {
     "name": "stdout",
     "output_type": "stream",
     "text": [
      "Run 1 / 1...\n",
      "Meta-learning on halfspace...\n"
     ]
    },
    {
     "name": "stderr",
     "output_type": "stream",
     "text": [
      " ... (more hidden) ...\n",
      "..\\LocalNetBase.py:77: UserWarning: To copy construct from a tensor, it is recommended to use sourceTensor.clone().detach() or sourceTensor.clone().detach().requires_grad_(True), rather than torch.tensor(sourceTensor).\n",
      "  self.rnn_rule = torch.tensor(rule).flatten().double()\n"
     ]
    },
    {
     "name": "stdout",
     "output_type": "stream",
     "text": [
      "Last loss: 0.3370\n",
      "Last train accuracy: 0.9800\n",
      "Last test accuracy: 0.9691\n",
      "Training NEW brain instance on mnist...\n",
      "mnist_train: 60000\n",
      "mnist_test: 10000\n",
      "INITIAL train accuracy: 0.1036\n",
      "INITIAL test accuracy: 0.1058\n",
      "Epoch 1 / 1 ...\n"
     ]
    },
    {
     "name": "stderr",
     "output_type": "stream",
     "text": [
      " ... (more hidden) ..."
     ]
    },
    {
     "name": "stdout",
     "output_type": "stream",
     "text": [
      "\n",
      "Last loss: 2.3445\n",
      "Last train accuracy: 0.1000\n",
      "Last test accuracy: 0.1000\n",
      "\n"
     ]
    },
    {
     "name": "stderr",
     "output_type": "stream",
     "text": [
      "\n"
     ]
    }
   ],
   "source": [
    "stats, brain_rnn_trained = evaluate_generalization(\n",
    "    brain_rnn_up_fact, \n",
    "    brain_rnn_down_fact, \n",
    "    n_up, \n",
    "    n_down, \n",
    "    dataset_up='halfspace',dataset_down='mnist', \n",
    "    num_runs=1, \n",
    "    num_rule_epochs=20, \n",
    "    num_epochs_upstream=num_epochs_upstream, num_epochs_downstream=num_epochs_downstream,get_model=True\n",
    ")"
   ]
  },
  {
   "cell_type": "code",
   "execution_count": 53,
   "metadata": {},
   "outputs": [],
   "source": [
    "#plot_random_adversary(brain_rnn_trained,show_grad=False)"
   ]
  },
  {
   "cell_type": "code",
   "execution_count": 54,
   "metadata": {
    "scrolled": true
   },
   "outputs": [],
   "source": [
    "# x = torch.zeros(1, 784, dtype=torch.double, requires_grad=True)\n",
    "# out = brain_rnn_trained.forward_pass(x)\n",
    "# make_dot(out)"
   ]
  },
  {
   "cell_type": "markdown",
   "metadata": {},
   "source": [
    "# Plot Adversarial Performance"
   ]
  },
  {
   "cell_type": "code",
   "execution_count": 62,
   "metadata": {},
   "outputs": [
    {
     "name": "stdout",
     "output_type": "stream",
     "text": [
      "The autoreload extension is already loaded. To reload it, use:\n",
      "  %reload_ext autoreload\n",
      "Base Test Data Size:  1208\n",
      "Model,EPS,Acc Full GD 0.0 1.0\n",
      "Model,EPS,Acc Plasticity Prepost 0.0 1.0\n",
      "Model,EPS,Acc Plasticity Prepost Count - L2 0.0 1.0\n",
      "Model,EPS,Acc Plasticity Prepost Count - L3 0.0 1.0\n",
      "Model,EPS,Acc Full GD 0.5 0.940594829454351\n",
      "Model,EPS,Acc Plasticity Prepost 0.5 0.9715745687729301\n",
      "Model,EPS,Acc Plasticity Prepost Count - L2 0.5 0.9319727891156463\n",
      "Model,EPS,Acc Plasticity Prepost Count - L3 0.5 0.8949752580649898\n",
      "Model,EPS,Acc Full GD 1.0 0.4232164176660014\n",
      "Model,EPS,Acc Plasticity Prepost 1.0 0.934866999291474\n",
      "Model,EPS,Acc Plasticity Prepost Count - L2 1.0 0.9109479129302045\n",
      "Model,EPS,Acc Plasticity Prepost Count - L3 1.0 0.8416748515863093\n",
      "Model,EPS,Acc Full GD 1.5 0.28937260997522657\n",
      "Model,EPS,Acc Plasticity Prepost 1.5 0.9286375049557288\n",
      "Model,EPS,Acc Plasticity Prepost Count - L2 1.5 0.904145191841769\n",
      "Model,EPS,Acc Plasticity Prepost Count - L3 1.5 0.8435873554811048\n",
      "Model,EPS,Acc Full GD 2.0 0.30870636639104987\n",
      "Model,EPS,Acc Plasticity Prepost 2.0 0.9345151566639607\n",
      "Model,EPS,Acc Plasticity Prepost Count - L2 2.0 0.8902313932048305\n",
      "Model,EPS,Acc Plasticity Prepost Count - L3 2.0 0.8198307573224978\n",
      "Model,EPS,Acc Full GD 2.5 0.3112167042390381\n",
      "Model,EPS,Acc Plasticity Prepost 2.5 0.9265224959026995\n",
      "Model,EPS,Acc Plasticity Prepost Count - L2 2.5 0.8902313932048305\n",
      "Model,EPS,Acc Plasticity Prepost Count - L3 2.5 0.8456399993997458\n",
      "Model,EPS,Acc Full GD 3.0 0.32112186889509475\n",
      "Model,EPS,Acc Plasticity Prepost 3.0 0.9255974265224959\n",
      "Model,EPS,Acc Plasticity Prepost Count - L2 3.0 0.897034114293266\n",
      "Model,EPS,Acc Plasticity Prepost Count - L3 3.0 0.8416748515863093\n",
      "Model,EPS,Acc Full GD 3.5 0.28604305404886876\n",
      "Model,EPS,Acc Plasticity Prepost 3.5 0.9431680165128031\n",
      "Model,EPS,Acc Plasticity Prepost Count - L2 3.5 0.8908481061249662\n",
      "Model,EPS,Acc Plasticity Prepost Count - L3 3.5 0.824104261596002\n"
     ]
    }
   ],
   "source": [
    "from AdversarialExamples import epsilon_sensitivity_trend\n",
    "%load_ext autoreload\n",
    "%autoreload 2\n",
    "\n",
    "models = {\n",
    "    'Full GD' : brain_fullgd_trained,\n",
    "    'Plasticity Prepost' : brain_prepost_trained,\n",
    "    'Plasticity Prepost Count - L2' : brain_prepostcount_trained,\n",
    "    'Plasticity Prepost Count - L3' : brain_prepostcount_l3_trained,\n",
    "    #'RNN(rounds=3)' : brain_rnn_trained,    \n",
    "}\n",
    "trend, epsilons = epsilon_sensitivity_trend(models,zip(mnist_X_test,mnist_y_test),brain_fullgd_trained.m,limit=None)\n"
   ]
  },
  {
   "cell_type": "code",
   "execution_count": 63,
   "metadata": {},
   "outputs": [
    {
     "name": "stdout",
     "output_type": "stream",
     "text": [
      "Saving figure to: figs/robustness_comparison_uphalfspace_downmnist\n"
     ]
    },
    {
     "data": {
      "image/png": "[encoded data removed]",
      "text/plain": [
       "<Figure size 576x396 with 1 Axes>"
      ]
     },
     "metadata": {},
     "output_type": "display_data"
    }
   ],
   "source": [
    "fig, ax = plt.subplots()\n",
    "for model_name, series in trend.items():\n",
    "    plt.plot(epsilons,series, label=model_name)\n",
    "    \n",
    "ax.set_xlabel('Epsilon - Perturbation Level')\n",
    "ax.set_ylabel('Accuracy')\n",
    "ax.set_title('Robustness on MNIST downstream - upstream halfspace')\n",
    "plt.legend()\n",
    "\n",
    "save_name = 'figs/robustness_comparison_uphalfspace_downmnist'\n",
    "\n",
    "print('Saving figure to:', save_name)\n",
    "plt.savefig(save_name + '.pdf', dpi=192)\n",
    "plt.savefig(save_name + '.png', dpi=192)\n",
    "plt.show()"
   ]
  },
  {
   "cell_type": "code",
   "execution_count": null,
   "metadata": {},
   "outputs": [],
   "source": []
  }
 ],
 "metadata": {
  "kernelspec": {
   "display_name": "Python 3",
   "language": "python",
   "name": "python3"
  },
  "language_info": {
   "codemirror_mode": {
    "name": "ipython",
    "version": 3
   },
   "file_extension": ".py",
   "mimetype": "text/x-python",
   "name": "python",
   "nbconvert_exporter": "python",
   "pygments_lexer": "ipython3",
   "version": "3.6.12"
  }
 },
 "nbformat": 4,
 "nbformat_minor": 2
}
