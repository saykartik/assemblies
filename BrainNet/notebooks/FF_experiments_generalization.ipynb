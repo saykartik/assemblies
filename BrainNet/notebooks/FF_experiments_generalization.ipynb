{
 "cells": [
  {
   "cell_type": "markdown",
   "metadata": {},
   "source": [
    "# Dataset generalization\n",
    "\n",
    "## For every considered model, meta-learn on 16-dimensional halfspace dataset, then transfer rules, and train / test that on MNIST.\n",
    "\n",
    "Created by Basile Van Hoorick, Fall 2020."
   ]
  },
  {
   "cell_type": "code",
   "execution_count": 6,
   "metadata": {},
   "outputs": [],
   "source": [
    "%run FF_common.ipynb"
   ]
  },
  {
   "cell_type": "code",
   "execution_count": 2,
   "metadata": {},
   "outputs": [],
   "source": [
    "# IMPORTANT: Henceforth, we use GD directly on inputs but use plasticity rules in the output and hidden layers.\n",
    "opts_up = Options(gd_input=True,\n",
    "                  use_graph_rule=True,\n",
    "                  gd_graph_rule=True,\n",
    "                  use_output_rule=True,\n",
    "                  gd_output_rule=True,\n",
    "                  gd_output=False)\n",
    "opts_down = Options(gd_input=True,\n",
    "                    use_graph_rule=True,\n",
    "                    gd_graph_rule=False,  # Not meta-trainable anymore!\n",
    "                    use_output_rule=True,\n",
    "                    gd_output_rule=False,  # Not meta-trainable anymore!\n",
    "                    gd_output=False)\n",
    "scheme = UpdateScheme(cross_entropy_loss=True,\n",
    "                      mse_loss=False,\n",
    "                      update_misclassified_only=False,\n",
    "                      update_all_edges=True)\n",
    "\n",
    "# Feed-forward brain config.\n",
    "n_up = 16  # Input layer size for meta-learning.\n",
    "n_down = 28 * 28  # Input layer size for desired task training.\n",
    "m_up = 2  # Output layer size for meta-learning.\n",
    "m_down = 10  # Output layer size for desired task training.\n",
    "l = 3  # Number of hidden layers.\n",
    "w = 32  # Width of hidden layers.\n",
    "p = 0.5  # Connectivity probability.\n",
    "cap = 16  # Number of nodes firing per layer.\n",
    "\n",
    "# Training config.\n",
    "num_runs = 10\n",
    "num_rule_epochs = 50\n",
    "num_epochs_upstream = 1\n",
    "num_epochs_downstream = 1\n",
    "dataset_up = 'halfspace'\n",
    "dataset_down = 'mnist'"
   ]
  },
  {
   "cell_type": "code",
   "execution_count": 15,
   "metadata": {},
   "outputs": [],
   "source": [
    "# Instantiate brain factories.\n",
    "brain_rnn_up_fact = lambda: LocalNet(n_up, m_up, 64, p, 32, 3, options=opts_up, update_scheme=scheme)\n",
    "brain_rnn_down_fact = lambda: LocalNet(n_down, m_down, 64, p, 32, 3, options=opts_down, update_scheme=scheme)\n",
    "brain_prepost_up_fact = lambda: FFLocalNet(\n",
    "    n_up, m_up, l, w, p, cap, hl_rules=TableRule_PrePost(),\n",
    "    output_rule=TableRule_PrePost(), options=opts_up, update_scheme=scheme)\n",
    "brain_prepost_down_fact = lambda: FFLocalNet(\n",
    "    n_down, m_down, l, w, p, cap, hl_rules=TableRule_PrePost(),\n",
    "    output_rule=TableRule_PrePost(), options=opts_down, update_scheme=scheme)"
   ]
  },
  {
   "cell_type": "code",
   "execution_count": null,
   "metadata": {},
   "outputs": [
    {
     "name": "stderr",
     "output_type": "stream",
     "text": [
      "\r",
      "  0%|          | 0/50 [00:00<?, ?it/s]"
     ]
    },
    {
     "name": "stdout",
     "output_type": "stream",
     "text": [
      "==== Original RNN (very different from all the rest) ====\n",
      "\n",
      "Run 1 / 10...\n",
      "Meta-learning on halfspace...\n"
     ]
    },
    {
     "name": "stderr",
     "output_type": "stream",
     "text": [
      "100%|██████████| 50/50 [04:01<00:00,  4.83s/it]\n",
      "../LocalNetBase.py:77: UserWarning: To copy construct from a tensor, it is recommended to use sourceTensor.clone().detach() or sourceTensor.clone().detach().requires_grad_(True), rather than torch.tensor(sourceTensor).\n",
      "  self.rnn_rule = torch.tensor(rule).flatten().double()\n"
     ]
    },
    {
     "name": "stdout",
     "output_type": "stream",
     "text": [
      "Last loss: 0.3645\n",
      "Last train accuracy: 0.9467\n",
      "Last test accuracy: 0.9440\n",
      "mnist_train: 60000\n",
      "mnist_test: 10000\n",
      "Training NEW brain instance (WITH backprop) on mnist...\n",
      "INITIAL train accuracy: 0.0845\n",
      "INITIAL test accuracy: 0.0829\n",
      "Epoch 1 / 1 ...\n"
     ]
    },
    {
     "name": "stderr",
     "output_type": "stream",
     "text": [
      "100%|██████████| 60000/60000 [21:44<00:00, 45.98it/s]  \n",
      "  0%|          | 0/50 [00:00<?, ?it/s]"
     ]
    },
    {
     "name": "stdout",
     "output_type": "stream",
     "text": [
      "\n",
      "Last loss: 2.3172\n",
      "Last train accuracy: 0.1124\n",
      "Last test accuracy: 0.1135\n",
      "\n",
      "\n",
      "Run 2 / 10...\n",
      "Meta-learning on halfspace...\n"
     ]
    },
    {
     "name": "stderr",
     "output_type": "stream",
     "text": [
      "100%|██████████| 50/50 [03:02<00:00,  3.66s/it]\n"
     ]
    },
    {
     "name": "stdout",
     "output_type": "stream",
     "text": [
      "Last loss: 0.3826\n",
      "Last train accuracy: 0.9427\n",
      "Last test accuracy: 0.9420\n",
      "mnist_train: 60000\n",
      "mnist_test: 10000\n",
      "Training NEW brain instance (WITH backprop) on mnist...\n",
      "INITIAL train accuracy: 0.0904\n",
      "INITIAL test accuracy: 0.0892\n",
      "Epoch 1 / 1 ...\n"
     ]
    },
    {
     "name": "stderr",
     "output_type": "stream",
     "text": [
      " 22%|██▏       | 12996/60000 [02:09<06:28, 120.94it/s]"
     ]
    }
   ],
   "source": [
    "# Evaluate models.\n",
    "print('==== Original RNN (very different from all the rest) ====')\n",
    "stats_rnn_up, stats_rnn_down = evaluate_generalization(\n",
    "    brain_rnn_up_fact, brain_rnn_down_fact, n_up, n_down,\n",
    "    dataset_up=dataset_up, dataset_down=dataset_down,\n",
    "    num_runs=num_runs, num_rule_epochs=num_rule_epochs,\n",
    "    num_epochs_upstream=num_epochs_upstream, num_epochs_downstream=num_epochs_downstream)"
   ]
  },
  {
   "cell_type": "code",
   "execution_count": null,
   "metadata": {},
   "outputs": [],
   "source": [
    "# Plot aggregated stats.\n",
    "agg_stats_rnn_up = convert_multi_stats_uncertainty(stats_rnn_up)\n",
    "agg_stats_rnn_down = convert_multi_stats_uncertainty(stats_rnn_down)\n",
    "plot_curves(agg_stats_rnn_up, agg_stats_rnn_down,\n",
    "            '[RNN] Upstream meta-learning on ' + dataset_up,\n",
    "            '[RNN] Downstream training on ' + dataset_down,\n",
    "            'figs/generalization_rnn_' + dataset_up + '_' + dataset_down,\n",
    "            no_downstream_loss=True)"
   ]
  },
  {
   "cell_type": "code",
   "execution_count": 4,
   "metadata": {
    "scrolled": true
   },
   "outputs": [
    {
     "name": "stderr",
     "output_type": "stream",
     "text": [
      "\r",
      "  0%|          | 0/50 [00:00<?, ?it/s]"
     ]
    },
    {
     "name": "stdout",
     "output_type": "stream",
     "text": [
      "==== Interpretation: Pre and Post ====\n",
      "\n",
      "Run 1 / 10...\n",
      "Meta-learning on halfspace...\n"
     ]
    },
    {
     "name": "stderr",
     "output_type": "stream",
     "text": [
      "100%|██████████| 50/50 [02:40<00:00,  3.21s/it]\n"
     ]
    },
    {
     "name": "stdout",
     "output_type": "stream",
     "text": [
      "Last loss: 0.3927\n",
      "Last train accuracy: 0.9347\n",
      "Last test accuracy: 0.9140\n",
      "mnist_train: 60000\n",
      "mnist_test: 10000\n",
      "Training NEW brain instance (WITH backprop) on mnist...\n",
      "INITIAL train accuracy: 0.0987\n",
      "INITIAL test accuracy: 0.0980\n",
      "Epoch 1 / 1 ...\n"
     ]
    },
    {
     "name": "stderr",
     "output_type": "stream",
     "text": [
      "100%|██████████| 60000/60000 [04:36<00:00, 216.84it/s]\n",
      "  0%|          | 0/50 [00:00<?, ?it/s]"
     ]
    },
    {
     "name": "stdout",
     "output_type": "stream",
     "text": [
      "\n",
      "Last loss: 2.2912\n",
      "Last train accuracy: 0.1852\n",
      "Last test accuracy: 0.1838\n",
      "\n",
      "\n",
      "Run 2 / 10...\n",
      "Meta-learning on halfspace...\n"
     ]
    },
    {
     "name": "stderr",
     "output_type": "stream",
     "text": [
      "100%|██████████| 50/50 [02:49<00:00,  3.38s/it]\n"
     ]
    },
    {
     "name": "stdout",
     "output_type": "stream",
     "text": [
      "Last loss: 0.3721\n",
      "Last train accuracy: 0.9387\n",
      "Last test accuracy: 0.9260\n",
      "mnist_train: 60000\n",
      "mnist_test: 10000\n",
      "Training NEW brain instance (WITH backprop) on mnist...\n",
      "INITIAL train accuracy: 0.0987\n",
      "INITIAL test accuracy: 0.0980\n",
      "Epoch 1 / 1 ...\n"
     ]
    },
    {
     "name": "stderr",
     "output_type": "stream",
     "text": [
      "100%|██████████| 60000/60000 [06:11<00:00, 161.42it/s]\n",
      "  0%|          | 0/50 [00:00<?, ?it/s]"
     ]
    },
    {
     "name": "stdout",
     "output_type": "stream",
     "text": [
      "\n",
      "Last loss: 2.2912\n",
      "Last train accuracy: 0.1693\n",
      "Last test accuracy: 0.1682\n",
      "\n",
      "\n",
      "Run 3 / 10...\n",
      "Meta-learning on halfspace...\n"
     ]
    },
    {
     "name": "stderr",
     "output_type": "stream",
     "text": [
      "100%|██████████| 50/50 [03:12<00:00,  3.85s/it]\n"
     ]
    },
    {
     "name": "stdout",
     "output_type": "stream",
     "text": [
      "Last loss: 0.3695\n",
      "Last train accuracy: 0.9627\n",
      "Last test accuracy: 0.9260\n",
      "mnist_train: 60000\n",
      "mnist_test: 10000\n",
      "Training NEW brain instance (WITH backprop) on mnist...\n",
      "INITIAL train accuracy: 0.0987\n",
      "INITIAL test accuracy: 0.0980\n",
      "Epoch 1 / 1 ...\n"
     ]
    },
    {
     "name": "stderr",
     "output_type": "stream",
     "text": [
      "100%|██████████| 60000/60000 [06:21<00:00, 157.32it/s]\n",
      "  0%|          | 0/50 [00:00<?, ?it/s]"
     ]
    },
    {
     "name": "stdout",
     "output_type": "stream",
     "text": [
      "\n",
      "Last loss: 2.1612\n",
      "Last train accuracy: 0.3265\n",
      "Last test accuracy: 0.3285\n",
      "\n",
      "\n",
      "Run 4 / 10...\n",
      "Meta-learning on halfspace...\n"
     ]
    },
    {
     "name": "stderr",
     "output_type": "stream",
     "text": [
      "100%|██████████| 50/50 [03:11<00:00,  3.83s/it]\n"
     ]
    },
    {
     "name": "stdout",
     "output_type": "stream",
     "text": [
      "Last loss: 0.3774\n",
      "Last train accuracy: 0.9493\n",
      "Last test accuracy: 0.9060\n",
      "mnist_train: 60000\n",
      "mnist_test: 10000\n",
      "Training NEW brain instance (WITH backprop) on mnist...\n",
      "INITIAL train accuracy: 0.0987\n",
      "INITIAL test accuracy: 0.0980\n",
      "Epoch 1 / 1 ...\n"
     ]
    },
    {
     "name": "stderr",
     "output_type": "stream",
     "text": [
      "100%|██████████| 60000/60000 [06:15<00:00, 159.79it/s]\n",
      "  0%|          | 0/50 [00:00<?, ?it/s]"
     ]
    },
    {
     "name": "stdout",
     "output_type": "stream",
     "text": [
      "\n",
      "Last loss: 2.2012\n",
      "Last train accuracy: 0.2651\n",
      "Last test accuracy: 0.2642\n",
      "\n",
      "\n",
      "Run 5 / 10...\n",
      "Meta-learning on halfspace...\n"
     ]
    },
    {
     "name": "stderr",
     "output_type": "stream",
     "text": [
      "100%|██████████| 50/50 [03:16<00:00,  3.93s/it]\n"
     ]
    },
    {
     "name": "stdout",
     "output_type": "stream",
     "text": [
      "Last loss: 0.6880\n",
      "Last train accuracy: 0.5093\n",
      "Last test accuracy: 0.5140\n",
      "mnist_train: 60000\n",
      "mnist_test: 10000\n",
      "Training NEW brain instance (WITH backprop) on mnist...\n",
      "INITIAL train accuracy: 0.0903\n",
      "INITIAL test accuracy: 0.0892\n",
      "Epoch 1 / 1 ...\n"
     ]
    },
    {
     "name": "stderr",
     "output_type": "stream",
     "text": [
      "100%|██████████| 60000/60000 [06:18<00:00, 158.63it/s]\n",
      "  0%|          | 0/50 [00:00<?, ?it/s]"
     ]
    },
    {
     "name": "stdout",
     "output_type": "stream",
     "text": [
      "\n",
      "Last loss: 2.3592\n",
      "Last train accuracy: 0.1124\n",
      "Last test accuracy: 0.1135\n",
      "\n",
      "\n",
      "Run 6 / 10...\n",
      "Meta-learning on halfspace...\n"
     ]
    },
    {
     "name": "stderr",
     "output_type": "stream",
     "text": [
      "100%|██████████| 50/50 [03:29<00:00,  4.19s/it]\n"
     ]
    },
    {
     "name": "stdout",
     "output_type": "stream",
     "text": [
      "Last loss: 0.6931\n",
      "Last train accuracy: 0.5027\n",
      "Last test accuracy: 0.5160\n",
      "mnist_train: 60000\n",
      "mnist_test: 10000\n",
      "Training NEW brain instance (WITH backprop) on mnist...\n",
      "INITIAL train accuracy: 0.0987\n",
      "INITIAL test accuracy: 0.0980\n",
      "Epoch 1 / 1 ...\n"
     ]
    },
    {
     "name": "stderr",
     "output_type": "stream",
     "text": [
      "100%|██████████| 60000/60000 [05:34<00:00, 179.19it/s]\n",
      "  0%|          | 0/50 [00:00<?, ?it/s]"
     ]
    },
    {
     "name": "stdout",
     "output_type": "stream",
     "text": [
      "\n",
      "Last loss: 2.3026\n",
      "Last train accuracy: 0.0987\n",
      "Last test accuracy: 0.0980\n",
      "\n",
      "\n",
      "Run 7 / 10...\n",
      "Meta-learning on halfspace...\n"
     ]
    },
    {
     "name": "stderr",
     "output_type": "stream",
     "text": [
      "100%|██████████| 50/50 [03:34<00:00,  4.28s/it]\n"
     ]
    },
    {
     "name": "stdout",
     "output_type": "stream",
     "text": [
      "Last loss: 0.3811\n",
      "Last train accuracy: 0.9173\n",
      "Last test accuracy: 0.9120\n",
      "mnist_train: 60000\n",
      "mnist_test: 10000\n",
      "Training NEW brain instance (WITH backprop) on mnist...\n",
      "INITIAL train accuracy: 0.0987\n",
      "INITIAL test accuracy: 0.0980\n",
      "Epoch 1 / 1 ...\n"
     ]
    },
    {
     "name": "stderr",
     "output_type": "stream",
     "text": [
      "100%|██████████| 60000/60000 [06:21<00:00, 157.24it/s]\n",
      "  0%|          | 0/50 [00:00<?, ?it/s]"
     ]
    },
    {
     "name": "stdout",
     "output_type": "stream",
     "text": [
      "\n",
      "Last loss: 2.2312\n",
      "Last train accuracy: 0.2489\n",
      "Last test accuracy: 0.2498\n",
      "\n",
      "\n",
      "Run 8 / 10...\n",
      "Meta-learning on halfspace...\n"
     ]
    },
    {
     "name": "stderr",
     "output_type": "stream",
     "text": [
      "100%|██████████| 50/50 [03:24<00:00,  4.09s/it]\n"
     ]
    },
    {
     "name": "stdout",
     "output_type": "stream",
     "text": [
      "Last loss: 0.6931\n",
      "Last train accuracy: 0.5120\n",
      "Last test accuracy: 0.5420\n",
      "mnist_train: 60000\n",
      "mnist_test: 10000\n",
      "Training NEW brain instance (WITH backprop) on mnist...\n",
      "INITIAL train accuracy: 0.0987\n",
      "INITIAL test accuracy: 0.0980\n",
      "Epoch 1 / 1 ...\n"
     ]
    },
    {
     "name": "stderr",
     "output_type": "stream",
     "text": [
      "100%|██████████| 60000/60000 [05:29<00:00, 182.13it/s]\n",
      "  0%|          | 0/50 [00:00<?, ?it/s]"
     ]
    },
    {
     "name": "stdout",
     "output_type": "stream",
     "text": [
      "\n",
      "Last loss: 2.3026\n",
      "Last train accuracy: 0.0987\n",
      "Last test accuracy: 0.0980\n",
      "\n",
      "\n",
      "Run 9 / 10...\n",
      "Meta-learning on halfspace...\n"
     ]
    },
    {
     "name": "stderr",
     "output_type": "stream",
     "text": [
      "100%|██████████| 50/50 [03:27<00:00,  4.15s/it]\n"
     ]
    },
    {
     "name": "stdout",
     "output_type": "stream",
     "text": [
      "Last loss: 0.6931\n",
      "Last train accuracy: 0.4773\n",
      "Last test accuracy: 0.4960\n",
      "mnist_train: 60000\n",
      "mnist_test: 10000\n",
      "Training NEW brain instance (WITH backprop) on mnist...\n",
      "INITIAL train accuracy: 0.0987\n",
      "INITIAL test accuracy: 0.0980\n",
      "Epoch 1 / 1 ...\n"
     ]
    },
    {
     "name": "stderr",
     "output_type": "stream",
     "text": [
      "100%|██████████| 60000/60000 [05:47<00:00, 172.59it/s]\n",
      "  0%|          | 0/50 [00:00<?, ?it/s]"
     ]
    },
    {
     "name": "stdout",
     "output_type": "stream",
     "text": [
      "\n",
      "Last loss: 2.3026\n",
      "Last train accuracy: 0.0987\n",
      "Last test accuracy: 0.0980\n",
      "\n",
      "\n",
      "Run 10 / 10...\n",
      "Meta-learning on halfspace...\n"
     ]
    },
    {
     "name": "stderr",
     "output_type": "stream",
     "text": [
      "100%|██████████| 50/50 [03:26<00:00,  4.13s/it]\n"
     ]
    },
    {
     "name": "stdout",
     "output_type": "stream",
     "text": [
      "Last loss: 0.3721\n",
      "Last train accuracy: 0.9040\n",
      "Last test accuracy: 0.9000\n",
      "mnist_train: 60000\n",
      "mnist_test: 10000\n",
      "Training NEW brain instance (WITH backprop) on mnist...\n",
      "INITIAL train accuracy: 0.0987\n",
      "INITIAL test accuracy: 0.0980\n",
      "Epoch 1 / 1 ...\n"
     ]
    },
    {
     "name": "stderr",
     "output_type": "stream",
     "text": [
      "100%|██████████| 60000/60000 [06:18<00:00, 158.42it/s]"
     ]
    },
    {
     "name": "stdout",
     "output_type": "stream",
     "text": [
      "\n",
      "Last loss: 2.2032\n",
      "Last train accuracy: 0.2494\n",
      "Last test accuracy: 0.2548\n",
      "\n"
     ]
    },
    {
     "name": "stderr",
     "output_type": "stream",
     "text": [
      "\n"
     ]
    }
   ],
   "source": [
    "# Evaluate models.\n",
    "print('==== Interpretation: Pre and Post ====')\n",
    "stats_prepost_up, stats_prepost_down = evaluate_generalization(\n",
    "    brain_prepost_up_fact, brain_prepost_down_fact, n_up, n_down,\n",
    "    dataset_up=dataset_up, dataset_down=dataset_down,\n",
    "    num_runs=num_runs, num_rule_epochs=num_rule_epochs,\n",
    "    num_epochs_upstream=num_epochs_upstream, num_epochs_downstream=num_epochs_downstream)"
   ]
  },
  {
   "cell_type": "code",
   "execution_count": 7,
   "metadata": {},
   "outputs": [
    {
     "name": "stdout",
     "output_type": "stream",
     "text": [
      "Saving figure to: figs/generalization_prepost_halfspace_mnist\n"
     ]
    },
    {
     "data": {
      "image/png": "[encoded data removed]",
      "text/plain": [
       "<Figure size 720x288 with 2 Axes>"
      ]
     },
     "metadata": {},
     "output_type": "display_data"
    },
    {
     "name": "stdout",
     "output_type": "stream",
     "text": [
      "Mean essential stats across all runs:\n",
      "Last upstream loss: 0.5032\n",
      "Last upstream train accuracy: 0.7608\n",
      "Last upstream test accuracy: 0.7552\n",
      "Last downstream loss: 2.2646\n",
      "Last downstream train accuracy: 0.1853\n",
      "Last downstream test accuracy: 0.1857\n",
      "\n"
     ]
    }
   ],
   "source": [
    "# Plot aggregated stats.\n",
    "agg_stats_prepost_up = convert_multi_stats_uncertainty(stats_prepost_up)\n",
    "agg_stats_prepost_down = convert_multi_stats_uncertainty(stats_prepost_down)\n",
    "plot_curves(agg_stats_prepost_up, agg_stats_prepost_down,\n",
    "            '[PrePost] Upstream meta-learning on ' + dataset_up,\n",
    "            '[PrePost] Downstream training on ' + dataset_down,\n",
    "            'figs/generalization_prepost_' + dataset_up + '_' + dataset_down,\n",
    "            no_downstream_loss=True)"
   ]
  },
  {
   "cell_type": "markdown",
   "metadata": {},
   "source": [
    "## Train vanilla net"
   ]
  },
  {
   "cell_type": "code",
   "execution_count": 13,
   "metadata": {},
   "outputs": [],
   "source": [
    "# Instantiate model.\n",
    "brain_vanilla = FFBrainNet(\n",
    "    n_down, m_down, l, w, p, cap, full_gd=True)"
   ]
  },
  {
   "cell_type": "code",
   "execution_count": 14,
   "metadata": {},
   "outputs": [
    {
     "name": "stdout",
     "output_type": "stream",
     "text": [
      "==== Vanilla ====\n",
      "mnist_train: 60000\n",
      "mnist_test: 10000\n",
      "Training VANILLA brain instance (WITH backprop) on mnist...\n",
      "INITIAL train accuracy: 0.1239\n",
      "INITIAL test accuracy: 0.1270\n",
      "Epoch 1 / 1 ...\n"
     ]
    },
    {
     "name": "stderr",
     "output_type": "stream",
     "text": [
      "100%|██████████| 600/600 [01:19<00:00,  7.55it/s]"
     ]
    },
    {
     "name": "stdout",
     "output_type": "stream",
     "text": [
      "\n",
      "Last loss: 1.5639\n",
      "Last train accuracy: 0.9134\n",
      "Last test accuracy: 0.9119\n"
     ]
    },
    {
     "name": "stderr",
     "output_type": "stream",
     "text": [
      "\n"
     ]
    }
   ],
   "source": [
    "# Evaluate model.\n",
    "print('==== Vanilla ====')\n",
    "X_train, y_train, X_test, y_test = quick_get_data('mnist', 28 * 28)\n",
    "print('Training VANILLA brain instance (WITH backprop) on mnist...')\n",
    "stats_vanilla = train_downstream(\n",
    "    X_train, y_train, brain_vanilla, num_epochs=num_epochs_downstream,\n",
    "    batch_size=100, vanilla=True, learn_rate=5e-3,\n",
    "    X_test=X_test, y_test=y_test, verbose=False, stats_interval=500)"
   ]
  },
  {
   "cell_type": "code",
   "execution_count": null,
   "metadata": {},
   "outputs": [],
   "source": [
    "# Plot aggregated stats.\n",
    "plot_curves(None, stats_vanilla, None,\n",
    "            '[Vanilla] Downstream training on ' + dataset_down,\n",
    "            'figs/generalization_vanilla_' + dataset_down,\n",
    "            no_downstream_loss=True)"
   ]
  },
  {
   "cell_type": "code",
   "execution_count": null,
   "metadata": {},
   "outputs": [],
   "source": []
  }
 ],
 "metadata": {
  "kernelspec": {
   "display_name": "Python 3",
   "language": "python",
   "name": "python3"
  },
  "language_info": {
   "codemirror_mode": {
    "name": "ipython",
    "version": 3
   },
   "file_extension": ".py",
   "mimetype": "text/x-python",
   "name": "python",
   "nbconvert_exporter": "python",
   "pygments_lexer": "ipython3",
   "version": "3.7.7"
  }
 },
 "nbformat": 4,
 "nbformat_minor": 4
}
