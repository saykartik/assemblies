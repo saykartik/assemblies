{
 "cells": [
  {
   "cell_type": "markdown",
   "metadata": {},
   "source": [
    "# Dataset generalization\n",
    "\n",
    "## For every considered model, meta-learn on 16-dimensional halfspace dataset, then transfer rules, and train / test that on MNIST.\n",
    "\n",
    "Created by Basile Van Hoorick, Fall 2020."
   ]
  },
  {
   "cell_type": "code",
   "execution_count": 27,
   "metadata": {},
   "outputs": [],
   "source": [
    "%run FF_common.ipynb"
   ]
  },
  {
   "cell_type": "code",
   "execution_count": 28,
   "metadata": {},
   "outputs": [],
   "source": [
    "# IMPORTANT: Henceforth, we use GD directly on inputs but use plasticity rules in the output and hidden layers.\n",
    "opts_up = Options(gd_input=True,\n",
    "                  use_graph_rule=True,\n",
    "                  gd_graph_rule=True,\n",
    "                  use_output_rule=True,\n",
    "                  gd_output_rule=True,\n",
    "                  gd_output=False)\n",
    "opts_down = Options(gd_input=True,\n",
    "                    use_graph_rule=True,\n",
    "                    gd_graph_rule=False,  # Not meta-trainable anymore!\n",
    "                    use_output_rule=True,\n",
    "                    gd_output_rule=False,  # Not meta-trainable anymore!\n",
    "                    gd_output=False)\n",
    "scheme = UpdateScheme(cross_entropy_loss=True,\n",
    "                      mse_loss=False,\n",
    "                      update_misclassified_only=False,\n",
    "                      update_all_edges=True)\n",
    "\n",
    "# Feed-forward brain config.\n",
    "n_up = 16  # Input layer size for meta-learning.\n",
    "n_down = 28 * 28  # Input layer size for desired task training.\n",
    "m_up = 2  # Output layer size for meta-learning.\n",
    "m_down = 10  # Output layer size for desired task training.\n",
    "l = 4  # Number of hidden layers.\n",
    "w = 64  # Width of hidden layers.\n",
    "p = 0.5  # Connectivity probability.\n",
    "cap = 32  # Number of nodes firing per layer.\n",
    "\n",
    "# Training config.\n",
    "num_runs = 10\n",
    "num_rule_epochs = 50\n",
    "num_epochs_upstream = 1\n",
    "num_epochs_downstream = 1\n",
    "dataset_up = 'halfspace'\n",
    "dataset_down = 'mnist'"
   ]
  },
  {
   "cell_type": "code",
   "execution_count": 29,
   "metadata": {},
   "outputs": [],
   "source": [
    "# Instantiate brain factories.\n",
    "brain_rnn_up_fact = lambda: LocalNet(n_up, m_up, 64, p, 32, 3, options=opts_up, update_scheme=scheme)\n",
    "brain_rnn_down_fact = lambda: LocalNet(n_down, m_down, 64, p, 32, 3, options=opts_down, update_scheme=scheme)\n",
    "\n",
    "brain_prepost_up_fact = lambda: FFLocalNet(\n",
    "    n_up, m_up, l, w, p, cap, hl_rules=TableRule_PrePost(),\n",
    "    output_rule=TableRule_PrePost(), options=opts_up, update_scheme=scheme)\n",
    "brain_prepost_down_fact = lambda: FFLocalNet(\n",
    "    n_down, m_down, l, w, p, cap, hl_rules=TableRule_PrePost(),\n",
    "    output_rule=TableRule_PrePost(), options=opts_down, update_scheme=scheme)\n",
    "brain_prepostcount_up_fact = lambda: FFLocalNet(\n",
    "    n_up, m_up, l, w, p, cap, hl_rules=TableRule_PrePostCount(),\n",
    "    output_rule=TableRule_PrePostCount(), options=opts_up, update_scheme=scheme)\n",
    "brain_prepostcount_down_fact = lambda: FFLocalNet(\n",
    "    n_down, m_down, l, w, p, cap, hl_rules=TableRule_PrePostCount(),\n",
    "    output_rule=TableRule_PrePostCount(), options=opts_down, update_scheme=scheme)\n",
    "\n",
    "brain_prepost_nonuni_up_fact = lambda: FFLocalNet(\n",
    "    n_up, m_up, l, w, p, cap, hl_rules=[TableRule_PrePost(), TableRule_PrePost(), TableRule_PrePost()],\n",
    "    output_rule=TableRule_PrePost(), options=opts_up, update_scheme=scheme)\n",
    "brain_prepost_nonuni_down_fact = lambda: FFLocalNet(\n",
    "    n_down, m_down, l, w, p, cap, hl_rules=[TableRule_PrePost(), TableRule_PrePost(), TableRule_PrePost()],\n",
    "    output_rule=TableRule_PrePost(), options=opts_down, update_scheme=scheme)\n",
    "brain_prepostcount_nonuni_up_fact = lambda: FFLocalNet(\n",
    "    n_up, m_up, l, w, p, cap, hl_rules=[TableRule_PrePostCount(), TableRule_PrePostCount(), TableRule_PrePostCount()],\n",
    "    output_rule=TableRule_PrePostCount(), options=opts_up, update_scheme=scheme)\n",
    "brain_prepostcount_nonuni_down_fact = lambda: FFLocalNet(\n",
    "    n_down, m_down, l, w, p, cap, hl_rules=[TableRule_PrePostCount(), TableRule_PrePostCount(), TableRule_PrePostCount()],\n",
    "    output_rule=TableRule_PrePostCount(), options=opts_down, update_scheme=scheme)"
   ]
  },
  {
   "cell_type": "code",
   "execution_count": null,
   "metadata": {},
   "outputs": [
    {
     "name": "stderr",
     "output_type": "stream",
     "text": [
      "\r",
      "  0%|          | 0/50 [00:00<?, ?it/s]"
     ]
    },
    {
     "name": "stdout",
     "output_type": "stream",
     "text": [
      "==== Original RNN (very different from all the rest) ====\n",
      "\n",
      "Run 1 / 10...\n",
      "Meta-learning on halfspace...\n"
     ]
    },
    {
     "name": "stderr",
     "output_type": "stream",
     "text": [
      " 24%|██▍       | 12/50 [00:41<02:11,  3.46s/it]"
     ]
    }
   ],
   "source": [
    "# Evaluate models.\n",
    "print('==== Original RNN (very different from all the rest) ====')\n",
    "stats_rnn_up, stats_rnn_down = evaluate_generalization(\n",
    "    brain_rnn_up_fact, brain_rnn_down_fact, n_up, n_down,\n",
    "    dataset_up=dataset_up, dataset_down=dataset_down,\n",
    "    num_runs=num_runs, num_rule_epochs=num_rule_epochs,\n",
    "    num_epochs_upstream=num_epochs_upstream, num_epochs_downstream=num_epochs_downstream)\n",
    "\n",
    "print('==== Interpretation: PrePost (universal) ====')\n",
    "stats_prepost_up, stats_prepost_down = evaluate_generalization(\n",
    "    brain_prepost_up_fact, brain_prepost_down_fact, n_up, n_down,\n",
    "    dataset_up=dataset_up, dataset_down=dataset_down,\n",
    "    num_runs=num_runs, num_rule_epochs=num_rule_epochs,\n",
    "    num_epochs_upstream=num_epochs_upstream, num_epochs_downstream=num_epochs_downstream)\n",
    "print('==== Interpretation: PrePostCount (universal) ====')\n",
    "stats_prepostcount_up, stats_prepostcount_down = evaluate_generalization(\n",
    "    brain_prepostcount_up_fact, brain_prepostcount_down_fact, n_up, n_down,\n",
    "    dataset_up=dataset_up, dataset_down=dataset_down,\n",
    "    num_runs=num_runs, num_rule_epochs=num_rule_epochs,\n",
    "    num_epochs_upstream=num_epochs_upstream, num_epochs_downstream=num_epochs_downstream)\n",
    "\n",
    "print('==== Interpretation: PrePost (NOT universal) ====')\n",
    "stats_prepost_nonuni_up, stats_prepost_nonuni_down = evaluate_generalization(\n",
    "    brain_prepost_nonuni_up_fact, brain_prepost_nonuni_down_fact, n_up, n_down,\n",
    "    dataset_up=dataset_up, dataset_down=dataset_down,\n",
    "    num_runs=num_runs, num_rule_epochs=num_rule_epochs,\n",
    "    num_epochs_upstream=num_epochs_upstream, num_epochs_downstream=num_epochs_downstream)\n",
    "print('==== Interpretation: PrePostCount (NOT universal) ====')\n",
    "stats_prepostcount_nonuni_up, stats_prepostcount_nonuni_down = evaluate_generalization(\n",
    "    brain_prepostcount_nonuni_up_fact, brain_prepostcount_nonuni_down_fact, n_up, n_down,\n",
    "    dataset_up=dataset_up, dataset_down=dataset_down,\n",
    "    num_runs=num_runs, num_rule_epochs=num_rule_epochs,\n",
    "    num_epochs_upstream=num_epochs_upstream, num_epochs_downstream=num_epochs_downstream)"
   ]
  },
  {
   "cell_type": "code",
   "execution_count": null,
   "metadata": {},
   "outputs": [],
   "source": [
    "# Plot aggregated stats.\n",
    "agg_stats_rnn_up = convert_multi_stats_uncertainty(stats_rnn_up)\n",
    "agg_stats_rnn_down = convert_multi_stats_uncertainty(stats_rnn_down)\n",
    "plot_curves(agg_stats_rnn_up, agg_stats_rnn_down,\n",
    "            '[RNN] Upstream meta-learning on ' + dataset_up,\n",
    "            '[RNN] Downstream training on ' + dataset_down,\n",
    "            'figs/generalization_rnn_' + dataset_up + '_' + dataset_down,\n",
    "            no_downstream_loss=True)\n",
    "\n",
    "agg_stats_prepost_up = convert_multi_stats_uncertainty(stats_prepost_up)\n",
    "agg_stats_prepost_down = convert_multi_stats_uncertainty(stats_prepost_down)\n",
    "plot_curves(agg_stats_prepost_up, agg_stats_prepost_down,\n",
    "            '[PrePost-Uni] Upstream meta-learning on ' + dataset_up,\n",
    "            '[PrePost-Uni] Downstream training on ' + dataset_down,\n",
    "            'figs/generalization_prepost_uni_' + dataset_up + '_' + dataset_down,\n",
    "            no_downstream_loss=True)\n",
    "agg_stats_prepostcount_up = convert_multi_stats_uncertainty(stats_prepostcount_up)\n",
    "agg_stats_prepostcount_down = convert_multi_stats_uncertainty(stats_prepostcount_down)\n",
    "plot_curves(agg_stats_prepostcount_up, agg_stats_prepostcount_down,\n",
    "            '[PrePostCount-Uni] Upstream meta-learning on ' + dataset_up,\n",
    "            '[PrePostCount-Uni] Downstream training on ' + dataset_down,\n",
    "            'figs/generalization_prepostcount_uni_' + dataset_up + '_' + dataset_down,\n",
    "            no_downstream_loss=True)\n",
    "\n",
    "agg_stats_prepost_nonuni_up = convert_multi_stats_uncertainty(stats_prepost_nonuni_up)\n",
    "agg_stats_prepost_nonuni_down = convert_multi_stats_uncertainty(stats_prepost_nonuni_down)\n",
    "plot_curves(agg_stats_prepost_nonuni_up, agg_stats_prepost_nonuni_down,\n",
    "            '[PrePost-Uni] Upstream meta-learning on ' + dataset_up,\n",
    "            '[PrePost-Uni] Downstream training on ' + dataset_down,\n",
    "            'figs/generalization_prepost_nonuni_' + dataset_up + '_' + dataset_down,\n",
    "            no_downstream_loss=True)\n",
    "agg_stats_prepostcount_nonuni_up = convert_multi_stats_uncertainty(stats_prepostcount_nonuni_up)\n",
    "agg_stats_prepostcount_nonuni_down = convert_multi_stats_uncertainty(stats_prepostcount_nonuni_down)\n",
    "plot_curves(agg_stats_prepostcount_nonuni_up, agg_stats_prepostcount_nonuni_down,\n",
    "            '[PrePostCount-Uni] Upstream meta-learning on ' + dataset_up,\n",
    "            '[PrePostCount-Uni] Downstream training on ' + dataset_down,\n",
    "            'figs/generalization_prepostcount_nonuni_' + dataset_up + '_' + dataset_down,\n",
    "            no_downstream_loss=True)"
   ]
  },
  {
   "cell_type": "markdown",
   "metadata": {},
   "source": [
    "## Train vanilla net"
   ]
  },
  {
   "cell_type": "code",
   "execution_count": null,
   "metadata": {},
   "outputs": [],
   "source": [
    "# Instantiate model.\n",
    "brain_vanilla = FFBrainNet(\n",
    "    n_down, m_down, l, w, p, cap, full_gd=True)"
   ]
  },
  {
   "cell_type": "code",
   "execution_count": null,
   "metadata": {},
   "outputs": [],
   "source": [
    "# Evaluate model.\n",
    "print('==== Vanilla ====')\n",
    "X_train, y_train, X_test, y_test = quick_get_data('mnist', 28 * 28)\n",
    "print('Training VANILLA brain instance (WITH backprop) on mnist...')\n",
    "stats_vanilla = train_downstream(\n",
    "    X_train, y_train, brain_vanilla, num_epochs=num_epochs_downstream,\n",
    "    batch_size=100, vanilla=True, learn_rate=5e-3,\n",
    "    X_test=X_test, y_test=y_test, verbose=False, stats_interval=500)"
   ]
  },
  {
   "cell_type": "code",
   "execution_count": null,
   "metadata": {},
   "outputs": [],
   "source": [
    "# Plot aggregated stats.\n",
    "plot_curves(None, stats_vanilla, None,\n",
    "            '[Vanilla] Downstream training on ' + dataset_down,\n",
    "            'figs/generalization_vanilla_' + dataset_down,\n",
    "            no_downstream_loss=True)"
   ]
  },
  {
   "cell_type": "code",
   "execution_count": null,
   "metadata": {},
   "outputs": [],
   "source": []
  }
 ],
 "metadata": {
  "kernelspec": {
   "display_name": "Python 3",
   "language": "python",
   "name": "python3"
  },
  "language_info": {
   "codemirror_mode": {
    "name": "ipython",
    "version": 3
   },
   "file_extension": ".py",
   "mimetype": "text/x-python",
   "name": "python",
   "nbconvert_exporter": "python",
   "pygments_lexer": "ipython3",
   "version": "3.7.7"
  }
 },
 "nbformat": 4,
 "nbformat_minor": 4
}
