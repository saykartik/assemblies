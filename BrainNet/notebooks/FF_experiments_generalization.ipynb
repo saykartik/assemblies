{
 "cells": [
  {
   "cell_type": "markdown",
   "metadata": {},
   "source": [
    "# Dataset generalization\n",
    "\n",
    "## For every considered model, meta-learn on 16-dimensional halfspace dataset, then transfer rules, and train / test that on MNIST.\n",
    "\n",
    "Created by Basile Van Hoorick, Fall 2020."
   ]
  },
  {
   "cell_type": "code",
   "execution_count": 1,
   "metadata": {},
   "outputs": [],
   "source": [
    "%run FF_common.ipynb"
   ]
  },
  {
   "cell_type": "code",
   "execution_count": 2,
   "metadata": {},
   "outputs": [],
   "source": [
    "# IMPORTANT: Henceforth, we use GD directly on inputs but use plasticity rules in the output and hidden layers.\n",
    "opts_up = Options(gd_input=True,\n",
    "                  use_graph_rule=True,\n",
    "                  gd_graph_rule=True,\n",
    "                  use_output_rule=True,\n",
    "                  gd_output_rule=True,\n",
    "                  gd_output=False)\n",
    "opts_down = Options(gd_input=True,\n",
    "                    use_graph_rule=True,\n",
    "                    gd_graph_rule=False,  # Not meta-trainable anymore!\n",
    "                    use_output_rule=True,\n",
    "                    gd_output_rule=False,  # Not meta-trainable anymore!\n",
    "                    gd_output=False)\n",
    "if 1:\n",
    "    scheme = UpdateScheme(cross_entropy_loss=True,\n",
    "                          mse_loss=False,\n",
    "                          update_misclassified_only=False,\n",
    "                          update_all_edges=True)\n",
    "else:\n",
    "    # Same as paper.\n",
    "    scheme = UpdateScheme(cross_entropy_loss=True,\n",
    "                          mse_loss=False,\n",
    "                          update_misclassified_only=True,\n",
    "                          update_all_edges=False)\n",
    "\n",
    "# Feed-forward brain config.\n",
    "n_up = 16  # Input layer size for meta-learning.\n",
    "n_down = 28 * 28  # Input layer size for desired task training.\n",
    "m_up = 2  # Output layer size for meta-learning.\n",
    "m_down = 10  # Output layer size for desired task training.\n",
    "w = 100  # Width of hidden layers.\n",
    "p = 0.5  # Connectivity probability.\n",
    "cap = 50  # Number of nodes firing per layer.\n",
    "\n",
    "# Training config.\n",
    "num_runs = 5\n",
    "num_rule_epochs = 50\n",
    "num_epochs_upstream = 1\n",
    "num_epochs_downstream = 1\n",
    "downstream_backprop = False\n",
    "dataset_up = 'halfspace'\n",
    "dataset_down = 'mnist'"
   ]
  },
  {
   "cell_type": "code",
   "execution_count": 3,
   "metadata": {},
   "outputs": [],
   "source": [
    "# Instantiate brain factories.\n",
    "brain_rnn_up_fact = lambda: LocalNet(n_up, m_up, w, p, cap, 2, options=opts_up, update_scheme=scheme)\n",
    "brain_rnn_down_fact = lambda: LocalNet(n_down, m_down, w, p, cap, 2, options=opts_down, update_scheme=scheme)\n",
    "\n",
    "brain_prepost_l2_up_fact = lambda: FFLocalNet(\n",
    "    n_up, m_up, 2, w, p, cap, hl_rules=TableRule_PrePost(),\n",
    "    output_rule=TableRule_PrePost(), options=opts_up, update_scheme=scheme)\n",
    "brain_prepost_l2_down_fact = lambda: FFLocalNet(\n",
    "    n_down, m_down, 2, w, p, cap, hl_rules=TableRule_PrePost(),\n",
    "    output_rule=TableRule_PrePost(), options=opts_down, update_scheme=scheme)\n",
    "brain_prepost_l3_up_fact = lambda: FFLocalNet(\n",
    "    n_up, m_up, 3, w, p, cap, hl_rules=TableRule_PrePost(),\n",
    "    output_rule=TableRule_PrePost(), options=opts_up, update_scheme=scheme)\n",
    "brain_prepost_l3_down_fact = lambda: FFLocalNet(\n",
    "    n_down, m_down, 3, w, p, cap, hl_rules=TableRule_PrePost(),\n",
    "    output_rule=TableRule_PrePost(), options=opts_down, update_scheme=scheme)\n",
    "brain_prepost_l4_up_fact = lambda: FFLocalNet(\n",
    "    n_up, m_up, 4, w, p, cap, hl_rules=TableRule_PrePost(),\n",
    "    output_rule=TableRule_PrePost(), options=opts_up, update_scheme=scheme)\n",
    "brain_prepost_l4_down_fact = lambda: FFLocalNet(\n",
    "    n_down, m_down, 4, w, p, cap, hl_rules=TableRule_PrePost(),\n",
    "    output_rule=TableRule_PrePost(), options=opts_down, update_scheme=scheme)\n",
    "\n",
    "brain_prepostcount_l2_up_fact = lambda: FFLocalNet(\n",
    "    n_up, m_up, 2, w, p, cap, hl_rules=TableRule_PrePostCount(),\n",
    "    output_rule=TableRule_PrePostCount(), options=opts_up, update_scheme=scheme)\n",
    "brain_prepostcount_l2_down_fact = lambda: FFLocalNet(\n",
    "    n_down, m_down, 2, w, p, cap, hl_rules=TableRule_PrePostCount(),\n",
    "    output_rule=TableRule_PrePostCount(), options=opts_down, update_scheme=scheme)\n",
    "brain_prepostcount_l3_up_fact = lambda: FFLocalNet(\n",
    "    n_up, m_up, 3, w, p, cap, hl_rules=TableRule_PrePostCount(),\n",
    "    output_rule=TableRule_PrePostCount(), options=opts_up, update_scheme=scheme)\n",
    "brain_prepostcount_l3_down_fact = lambda: FFLocalNet(\n",
    "    n_down, m_down, 3, w, p, cap, hl_rules=TableRule_PrePostCount(),\n",
    "    output_rule=TableRule_PrePostCount(), options=opts_down, update_scheme=scheme)\n",
    "brain_prepostcount_l4_up_fact = lambda: FFLocalNet(\n",
    "    n_up, m_up, 4, w, p, cap, hl_rules=TableRule_PrePostCount(),\n",
    "    output_rule=TableRule_PrePostCount(), options=opts_up, update_scheme=scheme)\n",
    "brain_prepostcount_l4_down_fact = lambda: FFLocalNet(\n",
    "    n_down, m_down, 4, w, p, cap, hl_rules=TableRule_PrePostCount(),\n",
    "    output_rule=TableRule_PrePostCount(), options=opts_down, update_scheme=scheme)"
   ]
  },
  {
   "cell_type": "code",
   "execution_count": 4,
   "metadata": {
    "scrolled": true
   },
   "outputs": [
    {
     "name": "stderr",
     "output_type": "stream",
     "text": [
      "\r",
      "  0%|          | 0/50 [00:00<?, ?it/s]"
     ]
    },
    {
     "name": "stdout",
     "output_type": "stream",
     "text": [
      "==== Original RNN (very different from all the rest) ====\n",
      "\n",
      "Run 1 / 5...\n",
      "Meta-learning on halfspace...\n"
     ]
    },
    {
     "name": "stderr",
     "output_type": "stream",
     "text": [
      "100%|██████████| 50/50 [02:22<00:00,  2.86s/it]\n",
      "../LocalNetBase.py:77: UserWarning: To copy construct from a tensor, it is recommended to use sourceTensor.clone().detach() or sourceTensor.clone().detach().requires_grad_(True), rather than torch.tensor(sourceTensor).\n",
      "  self.rnn_rule = torch.tensor(rule).flatten().double()\n"
     ]
    },
    {
     "name": "stdout",
     "output_type": "stream",
     "text": [
      "Last loss: 0.3737\n",
      "Last train accuracy: 0.9500\n",
      "Last test accuracy: 0.9220\n",
      "mnist_train: 60000\n",
      "mnist_test: 10000\n",
      "Training NEW brain instance on mnist...\n",
      "===> WARNING: Backprop is disabled, which means that all layers without rules will never change their weights!\n",
      "===> This is NOT recommended by Basile!\n",
      "INITIAL train accuracy: 0.1113\n",
      "INITIAL test accuracy: 0.1136\n",
      "Epoch 1 / 1 ...\n"
     ]
    },
    {
     "name": "stderr",
     "output_type": "stream",
     "text": [
      "100%|██████████| 60000/60000 [10:40<00:00, 93.68it/s] \n",
      "  0%|          | 0/50 [00:00<?, ?it/s]"
     ]
    },
    {
     "name": "stdout",
     "output_type": "stream",
     "text": [
      "\n",
      "Last loss: 2.3552\n",
      "Last train accuracy: 0.1096\n",
      "Last test accuracy: 0.1102\n",
      "\n",
      "\n",
      "Run 2 / 5...\n",
      "Meta-learning on halfspace...\n"
     ]
    },
    {
     "name": "stderr",
     "output_type": "stream",
     "text": [
      "100%|██████████| 50/50 [02:37<00:00,  3.15s/it]\n"
     ]
    },
    {
     "name": "stdout",
     "output_type": "stream",
     "text": [
      "Last loss: 0.4966\n",
      "Last train accuracy: 0.8687\n",
      "Last test accuracy: 0.8480\n",
      "mnist_train: 60000\n",
      "mnist_test: 10000\n",
      "Training NEW brain instance on mnist...\n",
      "===> WARNING: Backprop is disabled, which means that all layers without rules will never change their weights!\n",
      "===> This is NOT recommended by Basile!\n",
      "INITIAL train accuracy: 0.0903\n"
     ]
    },
    {
     "name": "stderr",
     "output_type": "stream",
     "text": [
      "\r",
      "  0%|          | 0/60000 [00:00<?, ?it/s]"
     ]
    },
    {
     "name": "stdout",
     "output_type": "stream",
     "text": [
      "INITIAL test accuracy: 0.0891\n",
      "Epoch 1 / 1 ...\n"
     ]
    },
    {
     "name": "stderr",
     "output_type": "stream",
     "text": [
      "100%|██████████| 60000/60000 [10:34<00:00, 94.59it/s] \n",
      "  0%|          | 0/50 [00:00<?, ?it/s]"
     ]
    },
    {
     "name": "stdout",
     "output_type": "stream",
     "text": [
      "\n",
      "Last loss: 2.3052\n",
      "Last train accuracy: 0.1800\n",
      "Last test accuracy: 0.1874\n",
      "\n",
      "\n",
      "Run 3 / 5...\n",
      "Meta-learning on halfspace...\n"
     ]
    },
    {
     "name": "stderr",
     "output_type": "stream",
     "text": [
      "100%|██████████| 50/50 [02:50<00:00,  3.41s/it]\n"
     ]
    },
    {
     "name": "stdout",
     "output_type": "stream",
     "text": [
      "Last loss: 0.3617\n",
      "Last train accuracy: 0.9453\n",
      "Last test accuracy: 0.9320\n",
      "mnist_train: 60000\n",
      "mnist_test: 10000\n",
      "Training NEW brain instance on mnist...\n",
      "===> WARNING: Backprop is disabled, which means that all layers without rules will never change their weights!\n",
      "===> This is NOT recommended by Basile!\n",
      "INITIAL train accuracy: 0.0984\n",
      "INITIAL test accuracy: 0.0945\n",
      "Epoch 1 / 1 ...\n"
     ]
    },
    {
     "name": "stderr",
     "output_type": "stream",
     "text": [
      "100%|██████████| 60000/60000 [10:26<00:00, 95.81it/s] \n",
      "  0%|          | 0/50 [00:00<?, ?it/s]"
     ]
    },
    {
     "name": "stdout",
     "output_type": "stream",
     "text": [
      "\n",
      "Last loss: 2.2828\n",
      "Last train accuracy: 0.2294\n",
      "Last test accuracy: 0.2321\n",
      "\n",
      "\n",
      "Run 4 / 5...\n",
      "Meta-learning on halfspace...\n"
     ]
    },
    {
     "name": "stderr",
     "output_type": "stream",
     "text": [
      "100%|██████████| 50/50 [02:48<00:00,  3.37s/it]\n"
     ]
    },
    {
     "name": "stdout",
     "output_type": "stream",
     "text": [
      "Last loss: 0.3694\n",
      "Last train accuracy: 0.9487\n",
      "Last test accuracy: 0.9240\n",
      "mnist_train: 60000\n",
      "mnist_test: 10000\n",
      "Training NEW brain instance on mnist...\n",
      "===> WARNING: Backprop is disabled, which means that all layers without rules will never change their weights!\n",
      "===> This is NOT recommended by Basile!\n",
      "INITIAL train accuracy: 0.0948\n"
     ]
    },
    {
     "name": "stderr",
     "output_type": "stream",
     "text": [
      "\r",
      "  0%|          | 0/60000 [00:00<?, ?it/s]"
     ]
    },
    {
     "name": "stdout",
     "output_type": "stream",
     "text": [
      "INITIAL test accuracy: 0.0919\n",
      "Epoch 1 / 1 ...\n"
     ]
    },
    {
     "name": "stderr",
     "output_type": "stream",
     "text": [
      "100%|██████████| 60000/60000 [07:56<00:00, 125.92it/s]\n",
      "  0%|          | 0/50 [00:00<?, ?it/s]"
     ]
    },
    {
     "name": "stdout",
     "output_type": "stream",
     "text": [
      "\n",
      "Last loss: 2.2036\n",
      "Last train accuracy: 0.2223\n",
      "Last test accuracy: 0.2290\n",
      "\n",
      "\n",
      "Run 5 / 5...\n",
      "Meta-learning on halfspace...\n"
     ]
    },
    {
     "name": "stderr",
     "output_type": "stream",
     "text": [
      "100%|██████████| 50/50 [02:23<00:00,  2.87s/it]\n",
      "  0%|          | 0/50 [00:00<?, ?it/s]"
     ]
    },
    {
     "name": "stdout",
     "output_type": "stream",
     "text": [
      "Last loss: 0.6628\n",
      "Last train accuracy: 0.5533\n",
      "Last test accuracy: 0.5540\n",
      "Final upstream test acc 0.5540 not high enough, retrying...\n",
      "Meta-learning on halfspace...\n"
     ]
    },
    {
     "name": "stderr",
     "output_type": "stream",
     "text": [
      "100%|██████████| 50/50 [02:16<00:00,  2.72s/it]\n",
      "  0%|          | 0/50 [00:00<?, ?it/s]"
     ]
    },
    {
     "name": "stdout",
     "output_type": "stream",
     "text": [
      "Last loss: 0.5692\n",
      "Last train accuracy: 0.7133\n",
      "Last test accuracy: 0.6980\n",
      "Final upstream test acc 0.6980 not high enough, retrying...\n",
      "Meta-learning on halfspace...\n"
     ]
    },
    {
     "name": "stderr",
     "output_type": "stream",
     "text": [
      "100%|██████████| 50/50 [02:32<00:00,  3.06s/it]\n"
     ]
    },
    {
     "name": "stdout",
     "output_type": "stream",
     "text": [
      "Last loss: 0.3678\n",
      "Last train accuracy: 0.9480\n",
      "Last test accuracy: 0.9300\n",
      "mnist_train: 60000\n",
      "mnist_test: 10000\n",
      "Training NEW brain instance on mnist...\n",
      "===> WARNING: Backprop is disabled, which means that all layers without rules will never change their weights!\n",
      "===> This is NOT recommended by Basile!\n",
      "INITIAL train accuracy: 0.1082\n",
      "INITIAL test accuracy: 0.1050\n",
      "Epoch 1 / 1 ...\n"
     ]
    },
    {
     "name": "stderr",
     "output_type": "stream",
     "text": [
      "100%|██████████| 60000/60000 [08:21<00:00, 119.71it/s]"
     ]
    },
    {
     "name": "stdout",
     "output_type": "stream",
     "text": [
      "\n",
      "Last loss: 2.2651\n",
      "Last train accuracy: 0.1814\n",
      "Last test accuracy: 0.1785\n",
      "\n"
     ]
    },
    {
     "name": "stderr",
     "output_type": "stream",
     "text": [
      "\n"
     ]
    }
   ],
   "source": [
    "# Evaluate models.\n",
    "print('==== Original RNN (very different from all the rest) ====')\n",
    "stats_rnn_up, stats_rnn_down = evaluate_up_down(\n",
    "    brain_rnn_up_fact, brain_rnn_down_fact, n_up, n_down,\n",
    "    dataset_up=dataset_up, dataset_down=dataset_down,\n",
    "    downstream_backprop=downstream_backprop, num_runs=num_runs, num_rule_epochs=num_rule_epochs,\n",
    "    num_epochs_upstream=num_epochs_upstream, num_epochs_downstream=num_epochs_downstream)"
   ]
  },
  {
   "cell_type": "code",
   "execution_count": null,
   "metadata": {
    "scrolled": true
   },
   "outputs": [
    {
     "name": "stderr",
     "output_type": "stream",
     "text": [
      "\r",
      "  0%|          | 0/50 [00:00<?, ?it/s]"
     ]
    },
    {
     "name": "stdout",
     "output_type": "stream",
     "text": [
      "==== Interpretation: PrePost, 2 hidden layers (universal) ====\n",
      "\n",
      "Run 1 / 5...\n",
      "Meta-learning on halfspace...\n"
     ]
    },
    {
     "name": "stderr",
     "output_type": "stream",
     "text": [
      "100%|██████████| 50/50 [02:02<00:00,  2.44s/it]\n"
     ]
    },
    {
     "name": "stdout",
     "output_type": "stream",
     "text": [
      "Last loss: 0.4573\n",
      "Last train accuracy: 0.8407\n",
      "Last test accuracy: 0.8320\n",
      "mnist_train: 60000\n",
      "mnist_test: 10000\n",
      "Training NEW brain instance on mnist...\n",
      "===> WARNING: Backprop is disabled, which means that all layers without rules will never change their weights!\n",
      "===> This is NOT recommended by Basile!\n",
      "INITIAL train accuracy: 0.0987\n",
      "INITIAL test accuracy: 0.0980\n",
      "Epoch 1 / 1 ...\n"
     ]
    },
    {
     "name": "stderr",
     "output_type": "stream",
     "text": [
      "100%|██████████| 60000/60000 [04:23<00:00, 227.79it/s]\n",
      "  0%|          | 0/50 [00:00<?, ?it/s]"
     ]
    },
    {
     "name": "stdout",
     "output_type": "stream",
     "text": [
      "\n",
      "Last loss: 1.8632\n",
      "Last train accuracy: 0.6143\n",
      "Last test accuracy: 0.6232\n",
      "\n",
      "\n",
      "Run 2 / 5...\n",
      "Meta-learning on halfspace...\n"
     ]
    },
    {
     "name": "stderr",
     "output_type": "stream",
     "text": [
      "100%|██████████| 50/50 [01:56<00:00,  2.32s/it]\n"
     ]
    },
    {
     "name": "stdout",
     "output_type": "stream",
     "text": [
      "Last loss: 0.4400\n",
      "Last train accuracy: 0.8467\n",
      "Last test accuracy: 0.8420\n",
      "mnist_train: 60000\n",
      "mnist_test: 10000\n",
      "Training NEW brain instance on mnist...\n",
      "===> WARNING: Backprop is disabled, which means that all layers without rules will never change their weights!\n",
      "===> This is NOT recommended by Basile!\n",
      "INITIAL train accuracy: 0.0987\n",
      "INITIAL test accuracy: 0.0980\n",
      "Epoch 1 / 1 ...\n"
     ]
    },
    {
     "name": "stderr",
     "output_type": "stream",
     "text": [
      "100%|██████████| 60000/60000 [03:49<00:00, 261.20it/s]\n",
      "  0%|          | 0/50 [00:00<?, ?it/s]"
     ]
    },
    {
     "name": "stdout",
     "output_type": "stream",
     "text": [
      "\n",
      "Last loss: 1.9512\n",
      "Last train accuracy: 0.5207\n",
      "Last test accuracy: 0.5276\n",
      "\n",
      "\n",
      "Run 3 / 5...\n",
      "Meta-learning on halfspace...\n"
     ]
    },
    {
     "name": "stderr",
     "output_type": "stream",
     "text": [
      "100%|██████████| 50/50 [01:56<00:00,  2.32s/it]\n"
     ]
    },
    {
     "name": "stdout",
     "output_type": "stream",
     "text": [
      "Last loss: 0.4595\n",
      "Last train accuracy: 0.8240\n",
      "Last test accuracy: 0.8240\n",
      "mnist_train: 60000\n",
      "mnist_test: 10000\n",
      "Training NEW brain instance on mnist...\n",
      "===> WARNING: Backprop is disabled, which means that all layers without rules will never change their weights!\n",
      "===> This is NOT recommended by Basile!\n",
      "INITIAL train accuracy: 0.0987\n",
      "INITIAL test accuracy: 0.0980\n",
      "Epoch 1 / 1 ...\n"
     ]
    },
    {
     "name": "stderr",
     "output_type": "stream",
     "text": [
      "100%|██████████| 60000/60000 [05:25<00:00, 184.51it/s]\n",
      "  0%|          | 0/50 [00:00<?, ?it/s]"
     ]
    },
    {
     "name": "stdout",
     "output_type": "stream",
     "text": [
      "\n",
      "Last loss: 1.8332\n",
      "Last train accuracy: 0.6139\n",
      "Last test accuracy: 0.6251\n",
      "\n",
      "\n",
      "Run 4 / 5...\n",
      "Meta-learning on halfspace...\n"
     ]
    },
    {
     "name": "stderr",
     "output_type": "stream",
     "text": [
      "100%|██████████| 50/50 [02:11<00:00,  2.62s/it]\n"
     ]
    },
    {
     "name": "stdout",
     "output_type": "stream",
     "text": [
      "Last loss: 0.4623\n",
      "Last train accuracy: 0.8313\n",
      "Last test accuracy: 0.8240\n",
      "mnist_train: 60000\n",
      "mnist_test: 10000\n",
      "Training NEW brain instance on mnist...\n",
      "===> WARNING: Backprop is disabled, which means that all layers without rules will never change their weights!\n",
      "===> This is NOT recommended by Basile!\n",
      "INITIAL train accuracy: 0.0987\n",
      "INITIAL test accuracy: 0.0980\n",
      "Epoch 1 / 1 ...\n"
     ]
    },
    {
     "name": "stderr",
     "output_type": "stream",
     "text": [
      "100%|██████████| 60000/60000 [03:34<00:00, 279.60it/s]\n",
      "  0%|          | 0/50 [00:00<?, ?it/s]"
     ]
    },
    {
     "name": "stdout",
     "output_type": "stream",
     "text": [
      "\n",
      "Last loss: 1.8532\n",
      "Last train accuracy: 0.5917\n",
      "Last test accuracy: 0.5962\n",
      "\n",
      "\n",
      "Run 5 / 5...\n",
      "Meta-learning on halfspace...\n"
     ]
    },
    {
     "name": "stderr",
     "output_type": "stream",
     "text": [
      "100%|██████████| 50/50 [01:56<00:00,  2.33s/it]\n"
     ]
    },
    {
     "name": "stdout",
     "output_type": "stream",
     "text": [
      "Last loss: 0.4566\n",
      "Last train accuracy: 0.8267\n",
      "Last test accuracy: 0.7960\n",
      "mnist_train: 60000\n",
      "mnist_test: 10000\n",
      "Training NEW brain instance on mnist...\n",
      "===> WARNING: Backprop is disabled, which means that all layers without rules will never change their weights!\n",
      "===> This is NOT recommended by Basile!\n",
      "INITIAL train accuracy: 0.0987\n",
      "INITIAL test accuracy: 0.0980\n",
      "Epoch 1 / 1 ...\n"
     ]
    },
    {
     "name": "stderr",
     "output_type": "stream",
     "text": [
      " 14%|█▎        | 8183/60000 [00:29<02:51, 302.70it/s]"
     ]
    }
   ],
   "source": [
    "print('==== Interpretation: PrePost, 2 hidden layers (universal) ====')\n",
    "stats_prepost_l2_up, stats_prepost_l2_down = evaluate_up_down(\n",
    "    brain_prepost_l2_up_fact, brain_prepost_l2_down_fact, n_up, n_down,\n",
    "    dataset_up=dataset_up, dataset_down=dataset_down,\n",
    "    downstream_backprop=downstream_backprop, num_runs=num_runs, num_rule_epochs=num_rule_epochs,\n",
    "    num_epochs_upstream=num_epochs_upstream, num_epochs_downstream=num_epochs_downstream)\n",
    "print('==== Interpretation: PrePost, 3 hidden layers (universal) ====')\n",
    "stats_prepost_l3_up, stats_prepost_l3_down = evaluate_up_down(\n",
    "    brain_prepost_l3_up_fact, brain_prepost_l3_down_fact, n_up, n_down,\n",
    "    dataset_up=dataset_up, dataset_down=dataset_down,\n",
    "    downstream_backprop=downstream_backprop, num_runs=num_runs, num_rule_epochs=num_rule_epochs,\n",
    "    num_epochs_upstream=num_epochs_upstream, num_epochs_downstream=num_epochs_downstream)\n",
    "print('==== Interpretation: PrePost, 4 hidden layers (universal) ====')\n",
    "stats_prepost_l4_up, stats_prepost_l4_down = evaluate_up_down(\n",
    "    brain_prepost_l4_up_fact, brain_prepost_l4_down_fact, n_up, n_down,\n",
    "    dataset_up=dataset_up, dataset_down=dataset_down,\n",
    "    downstream_backprop=downstream_backprop, num_runs=num_runs, num_rule_epochs=num_rule_epochs,\n",
    "    num_epochs_upstream=num_epochs_upstream, num_epochs_downstream=num_epochs_downstream)"
   ]
  },
  {
   "cell_type": "code",
   "execution_count": null,
   "metadata": {},
   "outputs": [],
   "source": [
    "print('==== Interpretation: PrePostCount, 2 hidden layers (universal) ====')\n",
    "stats_prepostcount_l2_up, stats_prepostcount_l2_down = evaluate_up_down(\n",
    "    brain_prepostcount_l2_up_fact, brain_prepostcount_l2_down_fact, n_up, n_down,\n",
    "    dataset_up=dataset_up, dataset_down=dataset_down,\n",
    "    downstream_backprop=downstream_backprop, num_runs=num_runs, num_rule_epochs=num_rule_epochs,\n",
    "    num_epochs_upstream=num_epochs_upstream, num_epochs_downstream=num_epochs_downstream)\n",
    "print('==== Interpretation: PrePostCount, 3 hidden layers (universal) ====')\n",
    "stats_prepostcount_l3_up, stats_prepostcount_l3_down = evaluate_up_down(\n",
    "    brain_prepostcount_l3_up_fact, brain_prepostcount_l3_down_fact, n_up, n_down,\n",
    "    dataset_up=dataset_up, dataset_down=dataset_down,\n",
    "    downstream_backprop=downstream_backprop, num_runs=num_runs, num_rule_epochs=num_rule_epochs,\n",
    "    num_epochs_upstream=num_epochs_upstream, num_epochs_downstream=num_epochs_downstream)\n",
    "print('==== Interpretation: PrePostCount, 4 hidden layers (universal) ====')\n",
    "stats_prepostcount_l4_up, stats_prepostcount_l4_down = evaluate_up_down(\n",
    "    brain_prepostcount_l4_up_fact, brain_prepostcount_l4_down_fact, n_up, n_down,\n",
    "    dataset_up=dataset_up, dataset_down=dataset_down,\n",
    "    downstream_backprop=downstream_backprop, num_runs=num_runs, num_rule_epochs=num_rule_epochs,\n",
    "    num_epochs_upstream=num_epochs_upstream, num_epochs_downstream=num_epochs_downstream)"
   ]
  },
  {
   "cell_type": "code",
   "execution_count": null,
   "metadata": {},
   "outputs": [],
   "source": [
    "# Plot aggregated stats.\n",
    "agg_stats_rnn_up = convert_multi_stats_uncertainty(stats_rnn_up)\n",
    "agg_stats_rnn_down = convert_multi_stats_uncertainty(stats_rnn_down)\n",
    "plot_curves(agg_stats_rnn_up, agg_stats_rnn_down,\n",
    "            '[RNN] Upstream meta-learning on ' + dataset_up,\n",
    "            '[RNN] Downstream training on ' + dataset_down,\n",
    "            'figs/generalization_rnn_' + dataset_up + '_' + dataset_down,\n",
    "            no_downstream_loss=True)"
   ]
  },
  {
   "cell_type": "code",
   "execution_count": null,
   "metadata": {},
   "outputs": [],
   "source": [
    "agg_stats_prepost_l2_up = convert_multi_stats_uncertainty(stats_prepost_l2_up)\n",
    "agg_stats_prepost_l2_down = convert_multi_stats_uncertainty(stats_prepost_l2_down)\n",
    "plot_curves(agg_stats_prepost_l2_up, agg_stats_prepost_l2_down,\n",
    "            '[PrePost-L2-Uni] Upstream meta-learning on ' + dataset_up,\n",
    "            '[PrePost-L2-Uni] Downstream training on ' + dataset_down,\n",
    "            'figs/generalization_prepost_l2_uni_' + dataset_up + '_' + dataset_down,\n",
    "            no_downstream_loss=True)\n",
    "agg_stats_prepost_l3_up = convert_multi_stats_uncertainty(stats_prepost_l3_up)\n",
    "agg_stats_prepost_l3_down = convert_multi_stats_uncertainty(stats_prepost_l3_down)\n",
    "plot_curves(agg_stats_prepost_l3_up, agg_stats_prepost_l3_down,\n",
    "            '[PrePost-L3-Uni] Upstream meta-learning on ' + dataset_up,\n",
    "            '[PrePost-L3-Uni] Downstream training on ' + dataset_down,\n",
    "            'figs/generalization_prepost_l3_uni_' + dataset_up + '_' + dataset_down,\n",
    "            no_downstream_loss=True)\n",
    "agg_stats_prepost_l4_up = convert_multi_stats_uncertainty(stats_prepost_l4_up)\n",
    "agg_stats_prepost_l4_down = convert_multi_stats_uncertainty(stats_prepost_l4_down)\n",
    "plot_curves(agg_stats_prepost_l4_up, agg_stats_prepost_l4_down,\n",
    "            '[PrePost-L4-Uni] Upstream meta-learning on ' + dataset_up,\n",
    "            '[PrePost-L4-Uni] Downstream training on ' + dataset_down,\n",
    "            'figs/generalization_prepost_l4_uni_' + dataset_up + '_' + dataset_down,\n",
    "            no_downstream_loss=True)"
   ]
  },
  {
   "cell_type": "code",
   "execution_count": null,
   "metadata": {},
   "outputs": [],
   "source": [
    "agg_stats_prepostcount_l2_up = convert_multi_stats_uncertainty(stats_prepostcount_l2_up)\n",
    "agg_stats_prepostcount_l2_down = convert_multi_stats_uncertainty(stats_prepostcount_l2_down)\n",
    "plot_curves(agg_stats_prepostcount_l2_up, agg_stats_prepostcount_l2_down,\n",
    "            '[PrePostCount-L2-Uni] Upstream meta-learning on ' + dataset_up,\n",
    "            '[PrePostCount-L2-Uni] Downstream training on ' + dataset_down,\n",
    "            'figs/generalization_prepostcount_l2_uni_' + dataset_up + '_' + dataset_down,\n",
    "            no_downstream_loss=True)\n",
    "agg_stats_prepostcount_l3_up = convert_multi_stats_uncertainty(stats_prepostcount_l3_up)\n",
    "agg_stats_prepostcount_l3_down = convert_multi_stats_uncertainty(stats_prepostcount_l3_down)\n",
    "plot_curves(agg_stats_prepostcount_l3_up, agg_stats_prepostcount_l3_down,\n",
    "            '[PrePostCount-L3-Uni] Upstream meta-learning on ' + dataset_up,\n",
    "            '[PrePostCount-L3-Uni] Downstream training on ' + dataset_down,\n",
    "            'figs/generalization_prepostcount_l3_uni_' + dataset_up + '_' + dataset_down,\n",
    "            no_downstream_loss=True)\n",
    "agg_stats_prepostcount_l4_up = convert_multi_stats_uncertainty(stats_prepostcount_l4_up)\n",
    "agg_stats_prepostcount_l4_down = convert_multi_stats_uncertainty(stats_prepostcount_l4_down)\n",
    "plot_curves(agg_stats_prepostcount_l4_up, agg_stats_prepostcount_l4_down,\n",
    "            '[PrePostCount-L4-Uni] Upstream meta-learning on ' + dataset_up,\n",
    "            '[PrePostCount-L4-Uni] Downstream training on ' + dataset_down,\n",
    "            'figs/generalization_prepostcount_l4_uni_' + dataset_up + '_' + dataset_down,\n",
    "            no_downstream_loss=True)"
   ]
  },
  {
   "cell_type": "markdown",
   "metadata": {},
   "source": [
    "## Train vanilla net"
   ]
  },
  {
   "cell_type": "code",
   "execution_count": null,
   "metadata": {},
   "outputs": [],
   "source": [
    "# Instantiate model.\n",
    "brain_vanilla = FFBrainNet(\n",
    "    n_down, m_down, l, w, p, cap, full_gd=True)"
   ]
  },
  {
   "cell_type": "code",
   "execution_count": null,
   "metadata": {},
   "outputs": [],
   "source": [
    "# Evaluate model.\n",
    "print('==== Vanilla ====')\n",
    "X_train, y_train, X_test, y_test = quick_get_data('mnist', 28 * 28)\n",
    "print('Training VANILLA brain instance (WITH backprop) on mnist...')\n",
    "stats_vanilla = train_downstream(\n",
    "    X_train, y_train, brain_vanilla, num_epochs=num_epochs_downstream,\n",
    "    batch_size=256, vanilla=True, learn_rate=5e-3,\n",
    "    X_test=X_test, y_test=y_test, verbose=False, stats_interval=500)"
   ]
  },
  {
   "cell_type": "code",
   "execution_count": null,
   "metadata": {},
   "outputs": [],
   "source": [
    "# Plot aggregated stats.\n",
    "plot_curves(None, stats_vanilla, None,\n",
    "            '[Vanilla] Downstream training on ' + dataset_down,\n",
    "            'figs/generalization_vanilla_' + dataset_down,\n",
    "            no_downstream_loss=True)"
   ]
  },
  {
   "cell_type": "markdown",
   "metadata": {},
   "source": [
    "## Final plot"
   ]
  },
  {
   "cell_type": "code",
   "execution_count": null,
   "metadata": {},
   "outputs": [],
   "source": [
    "# Plot to compare all.\n",
    "all_stats_up = [agg_stats_rnn_up,\n",
    "                agg_stats_prepost_l2_up, agg_stats_prepost_l3_up, agg_stats_prepost_l4_up,\n",
    "                agg_stats_prepostcount_l2_up, agg_stats_prepostcount_l3_up, agg_stats_prepostcount_l4_up,\n",
    "                None]\n",
    "all_stats_down = [agg_stats_rnn_down,\n",
    "                  agg_stats_prepost_l2_down, agg_stats_prepost_l3_down, agg_stats_prepost_l4_down,\n",
    "                  agg_stats_prepostcount_l2_down, agg_stats_prepostcount_l3_down, agg_stats_prepostcount_l4_down,\n",
    "                  stats_vanilla]\n",
    "labels = ['RNN', 'PrePost-L2', 'PrePost-L3', 'PrePost-L4', 'PrePostCount-L2', 'PrePostCount-L3', 'PrePostCount-L4', 'Vanilla']\n",
    "plot_compare_models(all_stats_up, all_stats_down, labels,\n",
    "                    'Upstream meta-learning on ' + dataset_up,\n",
    "                    'Downstream training on ' + dataset_down,\n",
    "                    'figs/generalization_all_' + dataset_up + '_' + dataset_down)"
   ]
  },
  {
   "cell_type": "code",
   "execution_count": null,
   "metadata": {},
   "outputs": [],
   "source": []
  }
 ],
 "metadata": {
  "kernelspec": {
   "display_name": "Python 3",
   "language": "python",
   "name": "python3"
  },
  "language_info": {
   "codemirror_mode": {
    "name": "ipython",
    "version": 3
   },
   "file_extension": ".py",
   "mimetype": "text/x-python",
   "name": "python",
   "nbconvert_exporter": "python",
   "pygments_lexer": "ipython3",
   "version": "3.7.7"
  }
 },
 "nbformat": 4,
 "nbformat_minor": 4
}
