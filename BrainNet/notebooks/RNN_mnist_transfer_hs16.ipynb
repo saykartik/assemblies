{
 "cells": [
  {
   "cell_type": "markdown",
   "metadata": {},
   "source": [
    "## Try to replicate Figure 3\n",
    "\n",
    "Created by Basile Van Hoorick, Fall 2020."
   ]
  },
  {
   "cell_type": "code",
   "execution_count": 1,
   "metadata": {},
   "outputs": [],
   "source": [
    "%run FF_common.ipynb"
   ]
  },
  {
   "cell_type": "code",
   "execution_count": 2,
   "metadata": {},
   "outputs": [],
   "source": [
    "# IMPORTANT: Henceforth, we use GD directly on inputs but use plasticity rules in the output and hidden layers.\n",
    "opts_up = Options(gd_input=True,\n",
    "                  use_graph_rule=True,\n",
    "                  gd_graph_rule=True,\n",
    "                  use_output_rule=True,\n",
    "                  gd_output_rule=True,\n",
    "                  gd_output=False)\n",
    "opts_down = Options(gd_input=True,\n",
    "                    use_graph_rule=True,\n",
    "                    gd_graph_rule=False,  # Not meta-trainable anymore!\n",
    "                    use_output_rule=True,\n",
    "                    gd_output_rule=False,  # Not meta-trainable anymore!\n",
    "                    gd_output=False)\n",
    "if 0:\n",
    "    scheme = UpdateScheme(cross_entropy_loss=True,\n",
    "                          mse_loss=False,\n",
    "                          update_misclassified_only=False,  # Deviates from paper.\n",
    "                          update_all_edges=True)  # Deviates from paper.\n",
    "else:\n",
    "    # Same as paper.\n",
    "    scheme = UpdateScheme(cross_entropy_loss=True,\n",
    "                          mse_loss=False,\n",
    "                          update_misclassified_only=True,\n",
    "                          update_all_edges=False)\n",
    "\n",
    "# Feed-forward brain config.\n",
    "n_up = 16  # Unknown in paper.\n",
    "n_down = 28 * 28\n",
    "m_up = 2  # Unknown in paper.\n",
    "m_down = 10\n",
    "p = 0.5\n",
    "\n",
    "# Training config.\n",
    "num_runs = 5\n",
    "num_rule_epochs = 50\n",
    "num_epochs_upstream = 1\n",
    "num_epochs_downstream = 1\n",
    "downstream_backprop = False\n",
    "dataset_up = 'halfspace'\n",
    "dataset_down = 'mnist'  # T=3 deviates from paper, should be relu, but not enough parameters specified :/"
   ]
  },
  {
   "cell_type": "markdown",
   "metadata": {},
   "source": [
    "## In this notebook: Transfer rules, correct dimensionality everywhere, !disable! backprop downstream"
   ]
  },
  {
   "cell_type": "code",
   "execution_count": 3,
   "metadata": {},
   "outputs": [],
   "source": [
    "# Instantiate brain factories.\n",
    "# NOTE: Large networks (|V| = 1000) only exist downstream.\n",
    "brain_v100_t1_up_fact = lambda: LocalNet(n_up, m_up, 100, p, 50, 0, options=opts_up, update_scheme=scheme)\n",
    "brain_v100_t3_up_fact = lambda: LocalNet(n_up, m_up, 100, p, 50, 2, options=opts_up, update_scheme=scheme)\n",
    "brain_v100_t1_down_fact = lambda: LocalNet(n_down, m_down, 100, p, 50, 0, options=opts_down, update_scheme=scheme)\n",
    "brain_v100_t3_down_fact = lambda: LocalNet(n_down, m_down, 100, p, 50, 2, options=opts_down, update_scheme=scheme)\n",
    "brain_v1000_t1_down_fact = lambda: LocalNet(n_down, m_down, 1000, p, 500, 0, options=opts_down, update_scheme=scheme)\n",
    "brain_v1000_t3_down_fact = lambda: LocalNet(n_down, m_down, 1000, p, 500, 2, options=opts_down, update_scheme=scheme)"
   ]
  },
  {
   "cell_type": "code",
   "execution_count": null,
   "metadata": {
    "scrolled": true
   },
   "outputs": [
    {
     "name": "stderr",
     "output_type": "stream",
     "text": [
      "\r",
      "  0%|          | 0/50 [00:00<?, ?it/s]"
     ]
    },
    {
     "name": "stdout",
     "output_type": "stream",
     "text": [
      "=====> v100_t1\n",
      "\n",
      "Run 1 / 5...\n",
      "Meta-learning on halfspace...\n"
     ]
    },
    {
     "name": "stderr",
     "output_type": "stream",
     "text": [
      "100%|██████████| 50/50 [00:43<00:00,  1.15it/s]\n",
      "../LocalNetBase.py:77: UserWarning: To copy construct from a tensor, it is recommended to use sourceTensor.clone().detach() or sourceTensor.clone().detach().requires_grad_(True), rather than torch.tensor(sourceTensor).\n",
      "  self.rnn_rule = torch.tensor(rule).flatten().double()\n"
     ]
    },
    {
     "name": "stdout",
     "output_type": "stream",
     "text": [
      "Last loss: 0.6883\n",
      "Last train accuracy: 0.9500\n",
      "Last test accuracy: 0.9400\n",
      "mnist_train: 60000\n",
      "mnist_test: 10000\n",
      "Training NEW brain instance on mnist...\n",
      "===> WARNING: Backprop is disabled, which means that all layers without rules will never change their weights!\n",
      "===> This is NOT recommended by Basile!\n",
      "INITIAL train accuracy: 0.0903\n",
      "INITIAL test accuracy: 0.0892\n",
      "Epoch 1 / 1 ...\n"
     ]
    },
    {
     "name": "stderr",
     "output_type": "stream",
     "text": [
      "  4%|▍         | 2525/60000 [00:07<03:12, 298.86it/s]"
     ]
    }
   ],
   "source": [
    "# Evaluate models.\n",
    "print('=====> v100_t1')\n",
    "stats_v100_t1_up, stats_v100_t1_down = evaluate_up_down(\n",
    "    brain_v100_t1_up_fact, brain_v100_t1_down_fact,\n",
    "    n_up, n_down, dataset_up=dataset_up, dataset_down=dataset_down,\n",
    "    downstream_backprop=downstream_backprop, num_runs=num_runs, num_rule_epochs=num_rule_epochs,\n",
    "    num_epochs_upstream=num_epochs_upstream, num_epochs_downstream=num_epochs_downstream)\n",
    "print('=====> v100_t3')\n",
    "stats_v100_t3_up, stats_v100_t3_down = evaluate_up_down(\n",
    "    brain_v100_t3_up_fact, brain_v100_t3_down_fact,\n",
    "    n_up, n_down, dataset_up=dataset_up, dataset_down=dataset_down,\n",
    "    downstream_backprop=downstream_backprop, num_runs=num_runs, num_rule_epochs=num_rule_epochs,\n",
    "    num_epochs_upstream=num_epochs_upstream, num_epochs_downstream=num_epochs_downstream)\n",
    "print('=====> v1000_t1')\n",
    "stats_v1000_t1_up, stats_v1000_t1_down = evaluate_up_down(\n",
    "    brain_v100_t1_up_fact, brain_v1000_t1_down_fact,\n",
    "    n_up, n_down, dataset_up=dataset_up, dataset_down=dataset_down,\n",
    "    downstream_backprop=downstream_backprop, num_runs=num_runs, num_rule_epochs=num_rule_epochs,\n",
    "    num_epochs_upstream=num_epochs_upstream, num_epochs_downstream=num_epochs_downstream)\n",
    "print('=====> v1000_t3')\n",
    "stats_v1000_t3_up, stats_v1000_t3_down = evaluate_up_down(\n",
    "    brain_v100_t3_up_fact, brain_v1000_t3_down_fact,\n",
    "    n_up, n_down, dataset_up=dataset_up, dataset_down=dataset_down,\n",
    "    downstream_backprop=downstream_backprop, num_runs=num_runs, num_rule_epochs=num_rule_epochs,\n",
    "    num_epochs_upstream=num_epochs_upstream, num_epochs_downstream=num_epochs_downstream)"
   ]
  },
  {
   "cell_type": "code",
   "execution_count": null,
   "metadata": {},
   "outputs": [],
   "source": [
    "# Aggregate stats.\n",
    "agg_stats_v100_t1_up = convert_multi_stats_uncertainty(stats_v100_t1_up)\n",
    "agg_stats_v100_t1_down = convert_multi_stats_uncertainty(stats_v100_t1_down)\n",
    "agg_stats_v100_t3_up = convert_multi_stats_uncertainty(stats_v100_t3_up)\n",
    "agg_stats_v100_t3_down = convert_multi_stats_uncertainty(stats_v100_t3_down)\n",
    "agg_stats_v1000_t1_up = convert_multi_stats_uncertainty(stats_v1000_t1_up)\n",
    "agg_stats_v1000_t1_down = convert_multi_stats_uncertainty(stats_v1000_t1_down)\n",
    "agg_stats_v1000_t3_up = convert_multi_stats_uncertainty(stats_v1000_t3_up)\n",
    "agg_stats_v1000_t3_down = convert_multi_stats_uncertainty(stats_v1000_t3_down)"
   ]
  },
  {
   "cell_type": "code",
   "execution_count": null,
   "metadata": {},
   "outputs": [],
   "source": [
    "# Plot to compare all.\n",
    "all_stats_up = [agg_stats_v100_t1_up, agg_stats_v100_t3_up, agg_stats_v1000_t1_up, agg_stats_v1000_t3_up]\n",
    "all_stats_down = [agg_stats_v100_t1_down, agg_stats_v100_t3_down, agg_stats_v1000_t1_down, agg_stats_v1000_t3_down]\n",
    "labels = ['v100_t1', 'v100_t3', 'v1000_t1', 'v1000_t3']\n",
    "plot_compare_models(all_stats_up, all_stats_down, labels,\n",
    "                    'Upstream meta-learning on ' + dataset_up,\n",
    "                    'Downstream training on ' + dataset_down,\n",
    "                    'figs/rnn_mnist_cmp')"
   ]
  },
  {
   "cell_type": "code",
   "execution_count": null,
   "metadata": {},
   "outputs": [],
   "source": []
  }
 ],
 "metadata": {
  "kernelspec": {
   "display_name": "Python 3",
   "language": "python",
   "name": "python3"
  },
  "language_info": {
   "codemirror_mode": {
    "name": "ipython",
    "version": 3
   },
   "file_extension": ".py",
   "mimetype": "text/x-python",
   "name": "python",
   "nbconvert_exporter": "python",
   "pygments_lexer": "ipython3",
   "version": "3.7.7"
  }
 },
 "nbformat": 4,
 "nbformat_minor": 4
}
