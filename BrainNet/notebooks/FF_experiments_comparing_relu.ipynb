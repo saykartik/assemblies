{
 "cells": [
  {
   "cell_type": "markdown",
   "metadata": {},
   "source": [
    "# Comparing plasticity rules\n",
    "\n",
    "## For every model, meta-learn on 8-dimensional ReLU dataset, then transfer rules to a NEW instance, and train / test that on the same dataset type but with fixed rules.\n",
    "\n",
    "Created by Basile Van Hoorick, Fall 2020."
   ]
  },
  {
   "cell_type": "code",
   "execution_count": 1,
   "metadata": {},
   "outputs": [],
   "source": [
    "%run FF_common.ipynb"
   ]
  },
  {
   "cell_type": "markdown",
   "metadata": {},
   "source": [
    "## First, test original RNN as a sanity check."
   ]
  },
  {
   "cell_type": "code",
   "execution_count": 2,
   "metadata": {},
   "outputs": [],
   "source": [
    "# IMPORTANT: Henceforth, we use GD directly on inputs but use plasticity rules in the output and hidden layers.\n",
    "opts_up = Options(gd_input=True,\n",
    "                  use_graph_rule=True,\n",
    "                  gd_graph_rule=True,\n",
    "                  use_output_rule=True,\n",
    "                  gd_output_rule=True,\n",
    "                  gd_output=False)\n",
    "opts_down = Options(gd_input=True,\n",
    "                    use_graph_rule=True,\n",
    "                    gd_graph_rule=False,  # Not meta-trainable anymore!\n",
    "                    use_output_rule=True,\n",
    "                    gd_output_rule=False,  # Not meta-trainable anymore!\n",
    "                    gd_output=False)\n",
    "scheme = UpdateScheme(cross_entropy_loss=True,\n",
    "                      mse_loss=False,\n",
    "                      update_misclassified_only=False,\n",
    "                      update_all_edges=True)\n",
    "\n",
    "# Feed-forward brain config.\n",
    "n_up = 8  # Input layer size for meta-learning.\n",
    "n_down = 8  # Input layer size for desired task training.\n",
    "m = 2  # Output layer size.\n",
    "l = 2  # Number of hidden layers.\n",
    "w = 32  # Width of hidden layers.\n",
    "p = 0.5  # Connectivity probability.\n",
    "cap = 16  # Number of nodes firing per layer.\n",
    "\n",
    "# Training config.\n",
    "num_runs = 10\n",
    "num_rule_epochs = 50\n",
    "num_epochs_upstream = 1\n",
    "num_epochs_downstream = 1\n",
    "dataset = 'relu'"
   ]
  },
  {
   "cell_type": "code",
   "execution_count": 3,
   "metadata": {},
   "outputs": [],
   "source": [
    "# Instantiate brain factories.\n",
    "brain_rnn_up_fact = lambda: LocalNet(n_up, m, 64, p, 32, 3, options=opts_up, update_scheme=scheme)\n",
    "brain_rnn_down_fact = lambda: LocalNet(n_down, m, 64, p, 32, 3, options=opts_down, update_scheme=scheme)"
   ]
  },
  {
   "cell_type": "code",
   "execution_count": 4,
   "metadata": {
    "scrolled": true
   },
   "outputs": [
    {
     "name": "stderr",
     "output_type": "stream",
     "text": [
      "..\\DataGenerator.py:34: UserWarning: Implicit dimension choice for softmax has been deprecated. Change the call to include dim=X as an argument.\n",
      "  out2 = F.softmax(torch.matmul(out1, w1))\n",
      "\r",
      "  0%|                                  | 0/50 [00:00<?, ?it/s]"
     ]
    },
    {
     "name": "stdout",
     "output_type": "stream",
     "text": [
      "==== Original RNN (very different from all the rest) ====\n",
      "\n",
      "Run 1 / 10...\n",
      "Count of 0: 3655  Count of 1: 2345\n",
      "Meta-learning...\n"
     ]
    },
    {
     "name": "stderr",
     "output_type": "stream",
     "text": [
      "100%|█████████████████████████| 50/50 [01:22<00:00,  1.64s/it]\n",
      "..\\LocalNetBase.py:77: UserWarning: To copy construct from a tensor, it is recommended to use sourceTensor.clone().detach() or sourceTensor.clone().detach().requires_grad_(True), rather than torch.tensor(sourceTensor).\n",
      "  self.rnn_rule = torch.tensor(rule).flatten().double()\n",
      "  3%|▋                     | 49/1500 [00:00<00:02, 489.55it/s]"
     ]
    },
    {
     "name": "stdout",
     "output_type": "stream",
     "text": [
      "Last loss: 0.4912\n",
      "Last train accuracy: 0.8560\n",
      "Last test accuracy: 0.8396\n",
      "Count of 0: 2733  Count of 1: 3267\n",
      "Training NEW brain instance (WITH backprop)...\n",
      "INITIAL train accuracy: 0.6940\n",
      "INITIAL test accuracy: 0.6987\n",
      "Epoch 1 / 1 ...\n"
     ]
    },
    {
     "name": "stderr",
     "output_type": "stream",
     "text": [
      "100%|████████████████████| 1500/1500 [00:02<00:00, 518.08it/s]\n",
      "  0%|                                  | 0/50 [00:00<?, ?it/s]"
     ]
    },
    {
     "name": "stdout",
     "output_type": "stream",
     "text": [
      "\n",
      "Last loss: 0.6253\n",
      "Last train accuracy: 0.7087\n",
      "Last test accuracy: 0.6973\n",
      "\n",
      "\n",
      "Run 2 / 10...\n",
      "Count of 0: 2536  Count of 1: 3464\n",
      "Meta-learning...\n"
     ]
    },
    {
     "name": "stderr",
     "output_type": "stream",
     "text": [
      "100%|█████████████████████████| 50/50 [01:37<00:00,  1.94s/it]\n",
      "  0%|                                | 0/1500 [00:00<?, ?it/s]"
     ]
    },
    {
     "name": "stdout",
     "output_type": "stream",
     "text": [
      "Last loss: 0.4783\n",
      "Last train accuracy: 0.7973\n",
      "Last test accuracy: 0.8011\n",
      "Count of 0: 5550  Count of 1: 450\n",
      "Training NEW brain instance (WITH backprop)...\n",
      "INITIAL train accuracy: 0.5227\n",
      "INITIAL test accuracy: 0.5576\n",
      "Epoch 1 / 1 ...\n"
     ]
    },
    {
     "name": "stderr",
     "output_type": "stream",
     "text": [
      "100%|████████████████████| 1500/1500 [00:03<00:00, 454.04it/s]\n",
      "  0%|                                  | 0/50 [00:00<?, ?it/s]"
     ]
    },
    {
     "name": "stdout",
     "output_type": "stream",
     "text": [
      "\n",
      "Last loss: 0.3833\n",
      "Last train accuracy: 0.9173\n",
      "Last test accuracy: 0.9276\n",
      "\n",
      "\n",
      "Run 3 / 10...\n",
      "Count of 0: 5246  Count of 1: 754\n",
      "Meta-learning...\n"
     ]
    },
    {
     "name": "stderr",
     "output_type": "stream",
     "text": [
      "100%|█████████████████████████| 50/50 [01:39<00:00,  1.99s/it]\n",
      "  0%|                                | 0/1500 [00:00<?, ?it/s]"
     ]
    },
    {
     "name": "stdout",
     "output_type": "stream",
     "text": [
      "Last loss: 0.3960\n",
      "Last train accuracy: 0.8607\n",
      "Last test accuracy: 0.8789\n",
      "Count of 0: 3546  Count of 1: 2454\n",
      "Training NEW brain instance (WITH backprop)...\n",
      "INITIAL train accuracy: 0.5707\n",
      "INITIAL test accuracy: 0.5978\n",
      "Epoch 1 / 1 ...\n"
     ]
    },
    {
     "name": "stderr",
     "output_type": "stream",
     "text": [
      "100%|████████████████████| 1500/1500 [00:03<00:00, 449.30it/s]\n",
      "  0%|                                  | 0/50 [00:00<?, ?it/s]"
     ]
    },
    {
     "name": "stdout",
     "output_type": "stream",
     "text": [
      "\n",
      "Last loss: 0.7513\n",
      "Last train accuracy: 0.5707\n",
      "Last test accuracy: 0.5978\n",
      "\n",
      "\n",
      "Run 4 / 10...\n",
      "Count of 0: 1045  Count of 1: 4955\n",
      "Meta-learning...\n"
     ]
    },
    {
     "name": "stderr",
     "output_type": "stream",
     "text": [
      "100%|█████████████████████████| 50/50 [01:38<00:00,  1.96s/it]\n",
      "  3%|▌                     | 39/1500 [00:00<00:03, 383.87it/s]"
     ]
    },
    {
     "name": "stdout",
     "output_type": "stream",
     "text": [
      "Last loss: 0.4047\n",
      "Last train accuracy: 0.9300\n",
      "Last test accuracy: 0.9218\n",
      "Count of 0: 5057  Count of 1: 943\n",
      "Training NEW brain instance (WITH backprop)...\n",
      "INITIAL train accuracy: 0.8313\n",
      "INITIAL test accuracy: 0.8467\n",
      "Epoch 1 / 1 ...\n"
     ]
    },
    {
     "name": "stderr",
     "output_type": "stream",
     "text": [
      "100%|████████████████████| 1500/1500 [00:03<00:00, 464.26it/s]\n",
      "  0%|                                  | 0/50 [00:00<?, ?it/s]"
     ]
    },
    {
     "name": "stdout",
     "output_type": "stream",
     "text": [
      "\n",
      "Last loss: 0.4633\n",
      "Last train accuracy: 0.8313\n",
      "Last test accuracy: 0.8467\n",
      "\n",
      "\n",
      "Run 5 / 10...\n",
      "Count of 0: 2096  Count of 1: 3904\n",
      "Meta-learning...\n"
     ]
    },
    {
     "name": "stderr",
     "output_type": "stream",
     "text": [
      "100%|█████████████████████████| 50/50 [01:40<00:00,  2.00s/it]\n",
      "  3%|▌                     | 40/1500 [00:00<00:03, 391.80it/s]"
     ]
    },
    {
     "name": "stdout",
     "output_type": "stream",
     "text": [
      "Last loss: 0.4818\n",
      "Last train accuracy: 0.8500\n",
      "Last test accuracy: 0.8482\n",
      "Count of 0: 415  Count of 1: 5585\n",
      "Training NEW brain instance (WITH backprop)...\n",
      "INITIAL train accuracy: 0.5127\n",
      "INITIAL test accuracy: 0.5273\n",
      "Epoch 1 / 1 ...\n"
     ]
    },
    {
     "name": "stderr",
     "output_type": "stream",
     "text": [
      "100%|████████████████████| 1500/1500 [00:03<00:00, 440.27it/s]\n",
      "  0%|                                  | 0/50 [00:00<?, ?it/s]"
     ]
    },
    {
     "name": "stdout",
     "output_type": "stream",
     "text": [
      "\n",
      "Last loss: 0.3953\n",
      "Last train accuracy: 0.9240\n",
      "Last test accuracy: 0.9331\n",
      "\n",
      "\n",
      "Run 6 / 10...\n",
      "Count of 0: 2484  Count of 1: 3516\n",
      "Meta-learning...\n"
     ]
    },
    {
     "name": "stderr",
     "output_type": "stream",
     "text": [
      "100%|█████████████████████████| 50/50 [01:38<00:00,  1.97s/it]\n",
      "  3%|▋                     | 43/1500 [00:00<00:03, 425.35it/s]"
     ]
    },
    {
     "name": "stdout",
     "output_type": "stream",
     "text": [
      "Last loss: 0.4381\n",
      "Last train accuracy: 0.8867\n",
      "Last test accuracy: 0.8816\n",
      "Count of 0: 4920  Count of 1: 1080\n",
      "Training NEW brain instance (WITH backprop)...\n",
      "INITIAL train accuracy: 0.8280\n",
      "INITIAL test accuracy: 0.8173\n",
      "Epoch 1 / 1 ...\n"
     ]
    },
    {
     "name": "stderr",
     "output_type": "stream",
     "text": [
      "100%|████████████████████| 1500/1500 [00:03<00:00, 472.53it/s]\n",
      "  0%|                                  | 0/50 [00:00<?, ?it/s]"
     ]
    },
    {
     "name": "stdout",
     "output_type": "stream",
     "text": [
      "\n",
      "Last loss: 0.4733\n",
      "Last train accuracy: 0.8280\n",
      "Last test accuracy: 0.8173\n",
      "\n",
      "\n",
      "Run 7 / 10...\n",
      "Count of 0: 1763  Count of 1: 4237\n",
      "Meta-learning...\n"
     ]
    },
    {
     "name": "stderr",
     "output_type": "stream",
     "text": [
      "100%|█████████████████████████| 50/50 [01:40<00:00,  2.00s/it]\n",
      "  0%|                                | 0/1500 [00:00<?, ?it/s]"
     ]
    },
    {
     "name": "stdout",
     "output_type": "stream",
     "text": [
      "Last loss: 0.4516\n",
      "Last train accuracy: 0.9107\n",
      "Last test accuracy: 0.8911\n",
      "Count of 0: 1714  Count of 1: 4286\n",
      "Training NEW brain instance (WITH backprop)...\n",
      "INITIAL train accuracy: 0.7147\n",
      "INITIAL test accuracy: 0.7124\n",
      "Epoch 1 / 1 ...\n"
     ]
    },
    {
     "name": "stderr",
     "output_type": "stream",
     "text": [
      "100%|████████████████████| 1500/1500 [00:02<00:00, 500.01it/s]\n",
      "  0%|                                  | 0/50 [00:00<?, ?it/s]"
     ]
    },
    {
     "name": "stdout",
     "output_type": "stream",
     "text": [
      "\n",
      "Last loss: 0.5738\n",
      "Last train accuracy: 0.7233\n",
      "Last test accuracy: 0.7244\n",
      "\n",
      "\n",
      "Run 8 / 10...\n",
      "Count of 0: 3835  Count of 1: 2165\n",
      "Meta-learning...\n"
     ]
    },
    {
     "name": "stderr",
     "output_type": "stream",
     "text": [
      "100%|█████████████████████████| 50/50 [01:37<00:00,  1.96s/it]\n",
      "  4%|▊                     | 55/1500 [00:00<00:02, 544.06it/s]"
     ]
    },
    {
     "name": "stdout",
     "output_type": "stream",
     "text": [
      "Last loss: 0.4725\n",
      "Last train accuracy: 0.8753\n",
      "Last test accuracy: 0.8867\n",
      "Count of 0: 2041  Count of 1: 3959\n",
      "Training NEW brain instance (WITH backprop)...\n",
      "INITIAL train accuracy: 0.6153\n",
      "INITIAL test accuracy: 0.6136\n",
      "Epoch 1 / 1 ...\n"
     ]
    },
    {
     "name": "stderr",
     "output_type": "stream",
     "text": [
      "100%|████████████████████| 1500/1500 [00:03<00:00, 492.82it/s]\n",
      "  0%|                                  | 0/50 [00:00<?, ?it/s]"
     ]
    },
    {
     "name": "stdout",
     "output_type": "stream",
     "text": [
      "\n",
      "Last loss: 0.6513\n",
      "Last train accuracy: 0.6413\n",
      "Last test accuracy: 0.6516\n",
      "\n",
      "\n",
      "Run 9 / 10...\n",
      "Count of 0: 32  Count of 1: 5968\n",
      "Meta-learning...\n"
     ]
    },
    {
     "name": "stderr",
     "output_type": "stream",
     "text": [
      "100%|█████████████████████████| 50/50 [01:39<00:00,  1.98s/it]\n",
      "  3%|▌                     | 38/1500 [00:00<00:03, 379.66it/s]"
     ]
    },
    {
     "name": "stdout",
     "output_type": "stream",
     "text": [
      "Last loss: 0.3171\n",
      "Last train accuracy: 0.9967\n",
      "Last test accuracy: 0.9940\n",
      "Count of 0: 5776  Count of 1: 224\n",
      "Training NEW brain instance (WITH backprop)...\n",
      "INITIAL train accuracy: 0.0493\n",
      "INITIAL test accuracy: 0.0458\n",
      "Epoch 1 / 1 ...\n"
     ]
    },
    {
     "name": "stderr",
     "output_type": "stream",
     "text": [
      "100%|████████████████████| 1500/1500 [00:03<00:00, 442.80it/s]\n",
      "  0%|                                  | 0/50 [00:00<?, ?it/s]"
     ]
    },
    {
     "name": "stdout",
     "output_type": "stream",
     "text": [
      "\n",
      "Last loss: 0.3513\n",
      "Last train accuracy: 0.9607\n",
      "Last test accuracy: 0.9633\n",
      "\n",
      "\n",
      "Run 10 / 10...\n",
      "Count of 0: 1392  Count of 1: 4608\n",
      "Meta-learning...\n"
     ]
    },
    {
     "name": "stderr",
     "output_type": "stream",
     "text": [
      "100%|█████████████████████████| 50/50 [01:37<00:00,  1.95s/it]\n",
      "  0%|                                | 0/1500 [00:00<?, ?it/s]"
     ]
    },
    {
     "name": "stdout",
     "output_type": "stream",
     "text": [
      "Last loss: 0.4445\n",
      "Last train accuracy: 0.8840\n",
      "Last test accuracy: 0.8702\n",
      "Count of 0: 3428  Count of 1: 2572\n",
      "Training NEW brain instance (WITH backprop)...\n",
      "INITIAL train accuracy: 0.5660\n",
      "INITIAL test accuracy: 0.5731\n",
      "Epoch 1 / 1 ...\n"
     ]
    },
    {
     "name": "stderr",
     "output_type": "stream",
     "text": [
      "100%|████████████████████| 1500/1500 [00:03<00:00, 439.78it/s]"
     ]
    },
    {
     "name": "stdout",
     "output_type": "stream",
     "text": [
      "\n",
      "Last loss: 0.7188\n",
      "Last train accuracy: 0.5660\n",
      "Last test accuracy: 0.5731\n",
      "\n"
     ]
    },
    {
     "name": "stderr",
     "output_type": "stream",
     "text": [
      "\n"
     ]
    }
   ],
   "source": [
    "print('==== Original RNN (very different from all the rest) ====')\n",
    "stats_rnn_up, stats_rnn_down = evaluate_up_down(\n",
    "    brain_rnn_up_fact, brain_rnn_down_fact, n_up, n_down, dataset=dataset,\n",
    "    num_runs=num_runs, num_rule_epochs=num_rule_epochs,\n",
    "    num_epochs_upstream=num_epochs_upstream, num_epochs_downstream=num_epochs_downstream)"
   ]
  },
  {
   "cell_type": "code",
   "execution_count": 5,
   "metadata": {},
   "outputs": [
    {
     "name": "stdout",
     "output_type": "stream",
     "text": [
      "Saving figure to: figs/default\n"
     ]
    },
    {
     "data": {
      "image/png": "[encoded data removed]",
      "text/plain": [
       "<Figure size 720x288 with 2 Axes>"
      ]
     },
     "metadata": {},
     "output_type": "display_data"
    },
    {
     "name": "stdout",
     "output_type": "stream",
     "text": [
      "Mean essential stats across all runs:\n",
      "Last upstream loss: 0.4912\n",
      "Last upstream train accuracy: 0.8560\n",
      "Last upstream test accuracy: 0.8396\n",
      "Last downstream loss: 0.6253\n",
      "Last downstream train accuracy: 0.7087\n",
      "Last downstream test accuracy: 0.6973\n",
      "\n",
      "Saving figure to: figs/default\n"
     ]
    },
    {
     "data": {
      "image/png": "[encoded data removed]",
      "text/plain": [
       "<Figure size 720x288 with 2 Axes>"
      ]
     },
     "metadata": {},
     "output_type": "display_data"
    },
    {
     "name": "stdout",
     "output_type": "stream",
     "text": [
      "Mean essential stats across all runs:\n",
      "Last upstream loss: 0.4445\n",
      "Last upstream train accuracy: 0.8840\n",
      "Last upstream test accuracy: 0.8702\n",
      "Last downstream loss: 0.7188\n",
      "Last downstream train accuracy: 0.5660\n",
      "Last downstream test accuracy: 0.5731\n",
      "\n"
     ]
    }
   ],
   "source": [
    "# Plot FIRST and lAST run stats only.\n",
    "plot_curves(stats_rnn_up[0], stats_rnn_down[0],\n",
    "            '[RNN] Upstream meta-learning on ' + dataset,\n",
    "            '[RNN] Downstream training on ' + dataset)\n",
    "plot_curves(stats_rnn_up[-1], stats_rnn_down[-1],\n",
    "            '[RNN] Upstream meta-learning on ' + dataset,\n",
    "            '[RNN] Downstream training on ' + dataset)"
   ]
  },
  {
   "cell_type": "code",
   "execution_count": 6,
   "metadata": {},
   "outputs": [
    {
     "name": "stdout",
     "output_type": "stream",
     "text": [
      "Saving figure to: figs/comparing_transfer_rnn_relu\n"
     ]
    },
    {
     "data": {
      "image/png": "[encoded data removed]",
      "text/plain": [
       "<Figure size 720x288 with 2 Axes>"
      ]
     },
     "metadata": {},
     "output_type": "display_data"
    },
    {
     "name": "stdout",
     "output_type": "stream",
     "text": [
      "Mean essential stats across all runs:\n",
      "Last upstream loss: 0.4376\n",
      "Last upstream train accuracy: 0.8847\n",
      "Last upstream test accuracy: 0.8813\n",
      "Last downstream loss: 0.5387\n",
      "Last downstream train accuracy: 0.7671\n",
      "Last downstream test accuracy: 0.7732\n",
      "\n"
     ]
    }
   ],
   "source": [
    "# Plot aggregated stats.\n",
    "agg_stats_rnn_up = convert_multi_stats_uncertainty(stats_rnn_up)\n",
    "agg_stats_rnn_down = convert_multi_stats_uncertainty(stats_rnn_down)\n",
    "plot_curves(agg_stats_rnn_up, agg_stats_rnn_down,\n",
    "            '[RNN] Upstream meta-learning on ' + dataset,\n",
    "            '[RNN] Downstream training on ' + dataset,\n",
    "            'figs/comparing_transfer_rnn_' + dataset)"
   ]
  },
  {
   "cell_type": "markdown",
   "metadata": {},
   "source": [
    "## Evaluate all table-based feed-forward networks."
   ]
  },
  {
   "cell_type": "code",
   "execution_count": 7,
   "metadata": {},
   "outputs": [],
   "source": [
    "# Instantiate brain factories.\n",
    "brain_prepost_up_fact = lambda: FFLocalNet(\n",
    "    n_up, m, l, w, p, cap, hl_rules=TableRule_PrePost(),\n",
    "    output_rule=TableRule_PrePost(), options=opts_up, update_scheme=scheme)\n",
    "brain_prepost_down_fact = lambda: FFLocalNet(\n",
    "    n_down, m, l, w, p, cap, hl_rules=TableRule_PrePost(),\n",
    "    output_rule=TableRule_PrePost(), options=opts_down, update_scheme=scheme)\n",
    "brain_prepostcount_up_fact = lambda: FFLocalNet(\n",
    "    n_up, m, l, w, p, cap, hl_rules=TableRule_PrePostCount(),\n",
    "    output_rule=TableRule_PrePostCount(), options=opts_up, update_scheme=scheme)\n",
    "brain_prepostcount_down_fact = lambda: FFLocalNet(\n",
    "    n_down, m, l, w, p, cap, hl_rules=TableRule_PrePostCount(),\n",
    "    output_rule=TableRule_PrePostCount(), options=opts_down, update_scheme=scheme)\n",
    "brain_prepostpercent_up_fact = lambda: FFLocalNet(\n",
    "    n_up, m, l, w, p, cap, hl_rules=TableRule_PrePostPercent(),\n",
    "    output_rule=TableRule_PrePostPercent(), options=opts_up, update_scheme=scheme)\n",
    "brain_prepostpercent_down_fact = lambda: FFLocalNet(\n",
    "    n_down, m, l, w, p, cap, hl_rules=TableRule_PrePostPercent(),\n",
    "    output_rule=TableRule_PrePostPercent(), options=opts_down, update_scheme=scheme)\n",
    "brain_postcount_up_fact = lambda: FFLocalNet(\n",
    "    n_up, m, l, w, p, cap, hl_rules=TableRule_PostCount(),\n",
    "    output_rule=TableRule_PostCount(), options=opts_up, update_scheme=scheme)\n",
    "brain_postcount_down_fact = lambda: FFLocalNet(\n",
    "    n_down, m, l, w, p, cap, hl_rules=TableRule_PostCount(),\n",
    "    output_rule=TableRule_PostCount(), options=opts_down, update_scheme=scheme)"
   ]
  },
  {
   "cell_type": "code",
   "execution_count": 8,
   "metadata": {
    "scrolled": true
   },
   "outputs": [
    {
     "name": "stderr",
     "output_type": "stream",
     "text": [
      "..\\DataGenerator.py:34: UserWarning: Implicit dimension choice for softmax has been deprecated. Change the call to include dim=X as an argument.\n",
      "  out2 = F.softmax(torch.matmul(out1, w1))\n",
      "\r",
      "  0%|                                  | 0/50 [00:00<?, ?it/s]"
     ]
    },
    {
     "name": "stdout",
     "output_type": "stream",
     "text": [
      "==== Interpretation: Pre and Post ====\n",
      "\n",
      "Run 1 / 10...\n",
      "Count of 0: 6000  Count of 1: 0\n",
      "Meta-learning...\n"
     ]
    },
    {
     "name": "stderr",
     "output_type": "stream",
     "text": [
      "100%|█████████████████████████| 50/50 [00:58<00:00,  1.17s/it]\n",
      "  5%|█▏                    | 80/1500 [00:00<00:01, 799.27it/s]"
     ]
    },
    {
     "name": "stdout",
     "output_type": "stream",
     "text": [
      "Last loss: 0.6931\n",
      "Last train accuracy: 1.0000\n",
      "Last test accuracy: 1.0000\n",
      "Count of 0: 2619  Count of 1: 3381\n",
      "Training NEW brain instance (WITH backprop)...\n",
      "INITIAL train accuracy: 0.4640\n",
      "INITIAL test accuracy: 0.4273\n",
      "Epoch 1 / 1 ...\n"
     ]
    },
    {
     "name": "stderr",
     "output_type": "stream",
     "text": [
      "100%|████████████████████| 1500/1500 [00:01<00:00, 817.80it/s]\n",
      "  0%|                                  | 0/50 [00:00<?, ?it/s]"
     ]
    },
    {
     "name": "stdout",
     "output_type": "stream",
     "text": [
      "\n",
      "Last loss: 0.6931\n",
      "Last train accuracy: 0.4640\n",
      "Last test accuracy: 0.4273\n",
      "\n",
      "\n",
      "Run 2 / 10...\n",
      "Count of 0: 5016  Count of 1: 984\n",
      "Meta-learning...\n"
     ]
    },
    {
     "name": "stderr",
     "output_type": "stream",
     "text": [
      "100%|█████████████████████████| 50/50 [00:56<00:00,  1.14s/it]\n",
      "  5%|█                     | 70/1500 [00:00<00:02, 699.37it/s]"
     ]
    },
    {
     "name": "stdout",
     "output_type": "stream",
     "text": [
      "Last loss: 0.4255\n",
      "Last train accuracy: 0.8400\n",
      "Last test accuracy: 0.8347\n",
      "Count of 0: 2944  Count of 1: 3056\n",
      "Training NEW brain instance (WITH backprop)...\n",
      "INITIAL train accuracy: 0.4880\n",
      "INITIAL test accuracy: 0.4916\n",
      "Epoch 1 / 1 ...\n"
     ]
    },
    {
     "name": "stderr",
     "output_type": "stream",
     "text": [
      "100%|████████████████████| 1500/1500 [00:01<00:00, 798.00it/s]\n",
      "  0%|                                  | 0/50 [00:00<?, ?it/s]"
     ]
    },
    {
     "name": "stdout",
     "output_type": "stream",
     "text": [
      "\n",
      "Last loss: 0.8333\n",
      "Last train accuracy: 0.5120\n",
      "Last test accuracy: 0.5084\n",
      "\n",
      "\n",
      "Run 3 / 10...\n",
      "Count of 0: 3141  Count of 1: 2859\n",
      "Meta-learning...\n"
     ]
    },
    {
     "name": "stderr",
     "output_type": "stream",
     "text": [
      "100%|█████████████████████████| 50/50 [00:57<00:00,  1.15s/it]\n",
      "  4%|▉                     | 64/1500 [00:00<00:02, 639.42it/s]"
     ]
    },
    {
     "name": "stdout",
     "output_type": "stream",
     "text": [
      "Last loss: 0.6931\n",
      "Last train accuracy: 0.5387\n",
      "Last test accuracy: 0.5184\n",
      "Count of 0: 1554  Count of 1: 4446\n",
      "Training NEW brain instance (WITH backprop)...\n",
      "INITIAL train accuracy: 0.2560\n",
      "INITIAL test accuracy: 0.2600\n",
      "Epoch 1 / 1 ...\n"
     ]
    },
    {
     "name": "stderr",
     "output_type": "stream",
     "text": [
      "100%|████████████████████| 1500/1500 [00:01<00:00, 774.69it/s]\n",
      "  0%|                                  | 0/50 [00:00<?, ?it/s]"
     ]
    },
    {
     "name": "stdout",
     "output_type": "stream",
     "text": [
      "\n",
      "Last loss: 0.6931\n",
      "Last train accuracy: 0.2560\n",
      "Last test accuracy: 0.2600\n",
      "\n",
      "\n",
      "Run 4 / 10...\n",
      "Count of 0: 2313  Count of 1: 3687\n",
      "Meta-learning...\n"
     ]
    },
    {
     "name": "stderr",
     "output_type": "stream",
     "text": [
      "100%|█████████████████████████| 50/50 [00:57<00:00,  1.16s/it]\n",
      "  5%|█                     | 76/1500 [00:00<00:01, 759.31it/s]"
     ]
    },
    {
     "name": "stdout",
     "output_type": "stream",
     "text": [
      "Last loss: 0.3903\n",
      "Last train accuracy: 0.9253\n",
      "Last test accuracy: 0.9144\n",
      "Count of 0: 2590  Count of 1: 3410\n",
      "Training NEW brain instance (WITH backprop)...\n",
      "INITIAL train accuracy: 0.4007\n",
      "INITIAL test accuracy: 0.4420\n",
      "Epoch 1 / 1 ...\n"
     ]
    },
    {
     "name": "stderr",
     "output_type": "stream",
     "text": [
      "100%|████████████████████| 1500/1500 [00:01<00:00, 797.14it/s]\n",
      "  0%|                                  | 0/50 [00:00<?, ?it/s]"
     ]
    },
    {
     "name": "stdout",
     "output_type": "stream",
     "text": [
      "\n",
      "Last loss: 0.5536\n",
      "Last train accuracy: 0.7873\n",
      "Last test accuracy: 0.7669\n",
      "\n",
      "\n",
      "Run 5 / 10...\n",
      "Count of 0: 2335  Count of 1: 3665\n",
      "Meta-learning...\n"
     ]
    },
    {
     "name": "stderr",
     "output_type": "stream",
     "text": [
      "100%|█████████████████████████| 50/50 [00:58<00:00,  1.17s/it]\n",
      "  5%|█                     | 76/1500 [00:00<00:01, 759.31it/s]"
     ]
    },
    {
     "name": "stdout",
     "output_type": "stream",
     "text": [
      "Last loss: 0.3900\n",
      "Last train accuracy: 0.9373\n",
      "Last test accuracy: 0.9176\n",
      "Count of 0: 137  Count of 1: 5863\n",
      "Training NEW brain instance (WITH backprop)...\n",
      "INITIAL train accuracy: 0.0247\n",
      "INITIAL test accuracy: 0.0222\n",
      "Epoch 1 / 1 ...\n"
     ]
    },
    {
     "name": "stderr",
     "output_type": "stream",
     "text": [
      "100%|████████████████████| 1500/1500 [00:01<00:00, 768.91it/s]\n",
      "  0%|                                  | 0/50 [00:00<?, ?it/s]"
     ]
    },
    {
     "name": "stdout",
     "output_type": "stream",
     "text": [
      "\n",
      "Last loss: 0.3413\n",
      "Last train accuracy: 0.9733\n",
      "Last test accuracy: 0.9749\n",
      "\n",
      "\n",
      "Run 6 / 10...\n",
      "Count of 0: 3916  Count of 1: 2084\n",
      "Meta-learning...\n"
     ]
    },
    {
     "name": "stderr",
     "output_type": "stream",
     "text": [
      "100%|█████████████████████████| 50/50 [00:58<00:00,  1.17s/it]\n",
      "  5%|█                     | 76/1500 [00:00<00:01, 759.31it/s]"
     ]
    },
    {
     "name": "stdout",
     "output_type": "stream",
     "text": [
      "Last loss: 0.4003\n",
      "Last train accuracy: 0.9267\n",
      "Last test accuracy: 0.9076\n",
      "Count of 0: 3436  Count of 1: 2564\n",
      "Training NEW brain instance (WITH backprop)...\n",
      "INITIAL train accuracy: 0.4367\n",
      "INITIAL test accuracy: 0.4242\n",
      "Epoch 1 / 1 ...\n"
     ]
    },
    {
     "name": "stderr",
     "output_type": "stream",
     "text": [
      "100%|████████████████████| 1500/1500 [00:01<00:00, 778.29it/s]\n",
      "  0%|                                  | 0/50 [00:00<?, ?it/s]"
     ]
    },
    {
     "name": "stdout",
     "output_type": "stream",
     "text": [
      "\n",
      "Last loss: 0.5368\n",
      "Last train accuracy: 0.7580\n",
      "Last test accuracy: 0.7818\n",
      "\n",
      "\n",
      "Run 7 / 10...\n",
      "Count of 0: 5729  Count of 1: 271\n",
      "Meta-learning...\n"
     ]
    },
    {
     "name": "stderr",
     "output_type": "stream",
     "text": [
      "100%|█████████████████████████| 50/50 [00:57<00:00,  1.16s/it]\n",
      "  5%|█                     | 74/1500 [00:00<00:01, 739.33it/s]"
     ]
    },
    {
     "name": "stdout",
     "output_type": "stream",
     "text": [
      "Last loss: 0.3457\n",
      "Last train accuracy: 0.9540\n",
      "Last test accuracy: 0.9551\n",
      "Count of 0: 2411  Count of 1: 3589\n",
      "Training NEW brain instance (WITH backprop)...\n",
      "INITIAL train accuracy: 0.3873\n",
      "INITIAL test accuracy: 0.4067\n",
      "Epoch 1 / 1 ...\n"
     ]
    },
    {
     "name": "stderr",
     "output_type": "stream",
     "text": [
      "100%|████████████████████| 1500/1500 [00:01<00:00, 772.60it/s]\n",
      "  0%|                                  | 0/50 [00:00<?, ?it/s]"
     ]
    },
    {
     "name": "stdout",
     "output_type": "stream",
     "text": [
      "\n",
      "Last loss: 0.7173\n",
      "Last train accuracy: 0.6127\n",
      "Last test accuracy: 0.5933\n",
      "\n",
      "\n",
      "Run 8 / 10...\n",
      "Count of 0: 3521  Count of 1: 2479\n",
      "Meta-learning...\n"
     ]
    },
    {
     "name": "stderr",
     "output_type": "stream",
     "text": [
      "100%|█████████████████████████| 50/50 [00:58<00:00,  1.17s/it]\n",
      "  5%|█                     | 71/1500 [00:00<00:02, 702.33it/s]"
     ]
    },
    {
     "name": "stdout",
     "output_type": "stream",
     "text": [
      "Last loss: 0.3899\n",
      "Last train accuracy: 0.8947\n",
      "Last test accuracy: 0.8951\n",
      "Count of 0: 838  Count of 1: 5162\n",
      "Training NEW brain instance (WITH backprop)...\n",
      "INITIAL train accuracy: 0.1467\n",
      "INITIAL test accuracy: 0.1373\n",
      "Epoch 1 / 1 ...\n"
     ]
    },
    {
     "name": "stderr",
     "output_type": "stream",
     "text": [
      "100%|████████████████████| 1500/1500 [00:01<00:00, 758.12it/s]\n",
      "  0%|                                  | 0/50 [00:00<?, ?it/s]"
     ]
    },
    {
     "name": "stdout",
     "output_type": "stream",
     "text": [
      "\n",
      "Last loss: 0.4433\n",
      "Last train accuracy: 0.8540\n",
      "Last test accuracy: 0.8620\n",
      "\n",
      "\n",
      "Run 9 / 10...\n",
      "Count of 0: 2946  Count of 1: 3054\n",
      "Meta-learning...\n"
     ]
    },
    {
     "name": "stderr",
     "output_type": "stream",
     "text": [
      "100%|█████████████████████████| 50/50 [00:58<00:00,  1.16s/it]\n",
      "  5%|█                     | 70/1500 [00:00<00:02, 699.36it/s]"
     ]
    },
    {
     "name": "stdout",
     "output_type": "stream",
     "text": [
      "Last loss: 0.6931\n",
      "Last train accuracy: 0.4967\n",
      "Last test accuracy: 0.4891\n",
      "Count of 0: 819  Count of 1: 5181\n",
      "Training NEW brain instance (WITH backprop)...\n",
      "INITIAL train accuracy: 0.1373\n",
      "INITIAL test accuracy: 0.1362\n",
      "Epoch 1 / 1 ...\n"
     ]
    },
    {
     "name": "stderr",
     "output_type": "stream",
     "text": [
      "100%|████████████████████| 1500/1500 [00:01<00:00, 759.87it/s]\n",
      "  0%|                                  | 0/50 [00:00<?, ?it/s]"
     ]
    },
    {
     "name": "stdout",
     "output_type": "stream",
     "text": [
      "\n",
      "Last loss: 0.6931\n",
      "Last train accuracy: 0.1373\n",
      "Last test accuracy: 0.1362\n",
      "\n",
      "\n",
      "Run 10 / 10...\n",
      "Count of 0: 2419  Count of 1: 3581\n",
      "Meta-learning...\n"
     ]
    },
    {
     "name": "stderr",
     "output_type": "stream",
     "text": [
      "100%|█████████████████████████| 50/50 [00:57<00:00,  1.16s/it]\n",
      "  5%|█▏                    | 77/1500 [00:00<00:01, 769.30it/s]"
     ]
    },
    {
     "name": "stdout",
     "output_type": "stream",
     "text": [
      "Last loss: 0.3733\n",
      "Last train accuracy: 0.9427\n",
      "Last test accuracy: 0.9256\n",
      "Count of 0: 1649  Count of 1: 4351\n",
      "Training NEW brain instance (WITH backprop)...\n",
      "INITIAL train accuracy: 0.2700\n",
      "INITIAL test accuracy: 0.2764\n",
      "Epoch 1 / 1 ...\n"
     ]
    },
    {
     "name": "stderr",
     "output_type": "stream",
     "text": [
      "100%|████████████████████| 1500/1500 [00:01<00:00, 770.49it/s]\n",
      "  0%|                                  | 0/50 [00:00<?, ?it/s]"
     ]
    },
    {
     "name": "stdout",
     "output_type": "stream",
     "text": [
      "\n",
      "Last loss: 0.5953\n",
      "Last train accuracy: 0.7307\n",
      "Last test accuracy: 0.7242\n",
      "\n",
      "==== Interpretation: Pre and Post and Incoming Count ====\n",
      "\n",
      "Run 1 / 10...\n",
      "Count of 0: 3069  Count of 1: 2931\n",
      "Meta-learning...\n"
     ]
    },
    {
     "name": "stderr",
     "output_type": "stream",
     "text": [
      "100%|█████████████████████████| 50/50 [01:04<00:00,  1.28s/it]\n",
      "  5%|█                     | 74/1500 [00:00<00:01, 739.33it/s]"
     ]
    },
    {
     "name": "stdout",
     "output_type": "stream",
     "text": [
      "Last loss: 0.6931\n",
      "Last train accuracy: 0.4960\n",
      "Last test accuracy: 0.5167\n",
      "Count of 0: 3602  Count of 1: 2398\n",
      "Training NEW brain instance (WITH backprop)...\n",
      "INITIAL train accuracy: 0.3993\n",
      "INITIAL test accuracy: 0.3998\n",
      "Epoch 1 / 1 ...\n"
     ]
    },
    {
     "name": "stderr",
     "output_type": "stream",
     "text": [
      "100%|████████████████████| 1500/1500 [00:02<00:00, 743.78it/s]\n",
      "  0%|                                  | 0/50 [00:00<?, ?it/s]"
     ]
    },
    {
     "name": "stdout",
     "output_type": "stream",
     "text": [
      "\n",
      "Last loss: 0.6931\n",
      "Last train accuracy: 0.6007\n",
      "Last test accuracy: 0.6002\n",
      "\n",
      "\n",
      "Run 2 / 10...\n",
      "Count of 0: 3783  Count of 1: 2217\n",
      "Meta-learning...\n"
     ]
    },
    {
     "name": "stderr",
     "output_type": "stream",
     "text": [
      "100%|█████████████████████████| 50/50 [01:04<00:00,  1.28s/it]\n",
      "  5%|█                     | 70/1500 [00:00<00:02, 692.44it/s]"
     ]
    },
    {
     "name": "stdout",
     "output_type": "stream",
     "text": [
      "Last loss: 0.5460\n",
      "Last train accuracy: 0.6467\n",
      "Last test accuracy: 0.6251\n",
      "Count of 0: 5428  Count of 1: 572\n",
      "Training NEW brain instance (WITH backprop)...\n",
      "INITIAL train accuracy: 0.8987\n",
      "INITIAL test accuracy: 0.9067\n",
      "Epoch 1 / 1 ...\n"
     ]
    },
    {
     "name": "stderr",
     "output_type": "stream",
     "text": [
      "100%|████████████████████| 1500/1500 [00:02<00:00, 703.58it/s]\n",
      "  0%|                                  | 0/50 [00:00<?, ?it/s]"
     ]
    },
    {
     "name": "stdout",
     "output_type": "stream",
     "text": [
      "\n",
      "Last loss: 0.4433\n",
      "Last train accuracy: 0.8987\n",
      "Last test accuracy: 0.9067\n",
      "\n",
      "\n",
      "Run 3 / 10...\n",
      "Count of 0: 2284  Count of 1: 3716\n",
      "Meta-learning...\n"
     ]
    },
    {
     "name": "stderr",
     "output_type": "stream",
     "text": [
      "100%|█████████████████████████| 50/50 [01:04<00:00,  1.30s/it]\n",
      "  4%|▉                     | 66/1500 [00:00<00:02, 659.40it/s]"
     ]
    },
    {
     "name": "stdout",
     "output_type": "stream",
     "text": [
      "Last loss: 0.4017\n",
      "Last train accuracy: 0.9360\n",
      "Last test accuracy: 0.9369\n",
      "Count of 0: 2458  Count of 1: 3542\n",
      "Training NEW brain instance (WITH backprop)...\n",
      "INITIAL train accuracy: 0.5853\n",
      "INITIAL test accuracy: 0.5920\n",
      "Epoch 1 / 1 ...\n"
     ]
    },
    {
     "name": "stderr",
     "output_type": "stream",
     "text": [
      "100%|████████████████████| 1500/1500 [00:01<00:00, 760.91it/s]\n",
      "  0%|                                  | 0/50 [00:00<?, ?it/s]"
     ]
    },
    {
     "name": "stdout",
     "output_type": "stream",
     "text": [
      "\n",
      "Last loss: 0.6851\n",
      "Last train accuracy: 0.6800\n",
      "Last test accuracy: 0.6896\n",
      "\n",
      "\n",
      "Run 4 / 10...\n",
      "Count of 0: 1828  Count of 1: 4172\n",
      "Meta-learning...\n"
     ]
    },
    {
     "name": "stderr",
     "output_type": "stream",
     "text": [
      "100%|█████████████████████████| 50/50 [01:05<00:00,  1.30s/it]\n",
      "  5%|█▏                    | 77/1500 [00:00<00:01, 765.45it/s]"
     ]
    },
    {
     "name": "stdout",
     "output_type": "stream",
     "text": [
      "Last loss: 0.3936\n",
      "Last train accuracy: 0.9267\n",
      "Last test accuracy: 0.9038\n",
      "Count of 0: 5228  Count of 1: 772\n",
      "Training NEW brain instance (WITH backprop)...\n",
      "INITIAL train accuracy: 0.1227\n",
      "INITIAL test accuracy: 0.1307\n",
      "Epoch 1 / 1 ...\n"
     ]
    },
    {
     "name": "stderr",
     "output_type": "stream",
     "text": [
      "100%|████████████████████| 1500/1500 [00:01<00:00, 773.54it/s]\n",
      "  0%|                                  | 0/50 [00:00<?, ?it/s]"
     ]
    },
    {
     "name": "stdout",
     "output_type": "stream",
     "text": [
      "\n",
      "Last loss: 0.4293\n",
      "Last train accuracy: 0.8773\n",
      "Last test accuracy: 0.8693\n",
      "\n",
      "\n",
      "Run 5 / 10...\n",
      "Count of 0: 5710  Count of 1: 290\n",
      "Meta-learning...\n"
     ]
    },
    {
     "name": "stderr",
     "output_type": "stream",
     "text": [
      "100%|█████████████████████████| 50/50 [01:05<00:00,  1.31s/it]\n",
      "  5%|█                     | 72/1500 [00:00<00:01, 719.35it/s]"
     ]
    },
    {
     "name": "stdout",
     "output_type": "stream",
     "text": [
      "Last loss: 0.3535\n",
      "Last train accuracy: 0.9540\n",
      "Last test accuracy: 0.9509\n",
      "Count of 0: 1719  Count of 1: 4281\n",
      "Training NEW brain instance (WITH backprop)...\n",
      "INITIAL train accuracy: 0.7027\n",
      "INITIAL test accuracy: 0.7171\n",
      "Epoch 1 / 1 ...\n"
     ]
    },
    {
     "name": "stderr",
     "output_type": "stream",
     "text": [
      "100%|████████████████████| 1500/1500 [00:01<00:00, 753.08it/s]\n",
      "  0%|                                  | 0/50 [00:00<?, ?it/s]"
     ]
    },
    {
     "name": "stdout",
     "output_type": "stream",
     "text": [
      "\n",
      "Last loss: 0.6193\n",
      "Last train accuracy: 0.7027\n",
      "Last test accuracy: 0.7171\n",
      "\n",
      "\n",
      "Run 6 / 10...\n",
      "Count of 0: 5353  Count of 1: 647\n",
      "Meta-learning...\n"
     ]
    },
    {
     "name": "stderr",
     "output_type": "stream",
     "text": [
      "100%|█████████████████████████| 50/50 [01:05<00:00,  1.31s/it]\n",
      "  4%|▉                     | 62/1500 [00:00<00:02, 610.21it/s]"
     ]
    },
    {
     "name": "stdout",
     "output_type": "stream",
     "text": [
      "Last loss: 0.3987\n",
      "Last train accuracy: 0.8887\n",
      "Last test accuracy: 0.8933\n",
      "Count of 0: 1690  Count of 1: 4310\n",
      "Training NEW brain instance (WITH backprop)...\n",
      "INITIAL train accuracy: 0.2847\n",
      "INITIAL test accuracy: 0.2807\n",
      "Epoch 1 / 1 ...\n"
     ]
    },
    {
     "name": "stderr",
     "output_type": "stream",
     "text": [
      "100%|████████████████████| 1500/1500 [00:02<00:00, 738.79it/s]\n",
      "  0%|                                  | 0/50 [00:00<?, ?it/s]"
     ]
    },
    {
     "name": "stdout",
     "output_type": "stream",
     "text": [
      "\n",
      "Last loss: 0.6233\n",
      "Last train accuracy: 0.7153\n",
      "Last test accuracy: 0.7193\n",
      "\n",
      "\n",
      "Run 7 / 10...\n",
      "Count of 0: 213  Count of 1: 5787\n",
      "Meta-learning...\n"
     ]
    },
    {
     "name": "stderr",
     "output_type": "stream",
     "text": [
      "100%|█████████████████████████| 50/50 [01:04<00:00,  1.29s/it]\n",
      "  5%|█                     | 73/1500 [00:00<00:01, 722.11it/s]"
     ]
    },
    {
     "name": "stdout",
     "output_type": "stream",
     "text": [
      "Last loss: 0.3442\n",
      "Last train accuracy: 0.9660\n",
      "Last test accuracy: 0.9642\n",
      "Count of 0: 4610  Count of 1: 1390\n",
      "Training NEW brain instance (WITH backprop)...\n",
      "INITIAL train accuracy: 0.7500\n",
      "INITIAL test accuracy: 0.7744\n",
      "Epoch 1 / 1 ...\n"
     ]
    },
    {
     "name": "stderr",
     "output_type": "stream",
     "text": [
      "100%|████████████████████| 1500/1500 [00:02<00:00, 748.56it/s]\n",
      "  0%|                                  | 0/50 [00:00<?, ?it/s]"
     ]
    },
    {
     "name": "stdout",
     "output_type": "stream",
     "text": [
      "\n",
      "Last loss: 0.5693\n",
      "Last train accuracy: 0.7500\n",
      "Last test accuracy: 0.7744\n",
      "\n",
      "\n",
      "Run 8 / 10...\n",
      "Count of 0: 4839  Count of 1: 1161\n",
      "Meta-learning...\n"
     ]
    },
    {
     "name": "stderr",
     "output_type": "stream",
     "text": [
      "100%|█████████████████████████| 50/50 [01:04<00:00,  1.29s/it]\n",
      "  4%|▉                     | 65/1500 [00:00<00:02, 642.98it/s]"
     ]
    },
    {
     "name": "stdout",
     "output_type": "stream",
     "text": [
      "Last loss: 0.4309\n",
      "Last train accuracy: 0.8113\n",
      "Last test accuracy: 0.8049\n",
      "Count of 0: 1702  Count of 1: 4298\n",
      "Training NEW brain instance (WITH backprop)...\n",
      "INITIAL train accuracy: 0.2713\n",
      "INITIAL test accuracy: 0.2878\n",
      "Epoch 1 / 1 ...\n"
     ]
    },
    {
     "name": "stderr",
     "output_type": "stream",
     "text": [
      "100%|████████████████████| 1500/1500 [00:01<00:00, 774.08it/s]\n",
      "  0%|                                  | 0/50 [00:00<?, ?it/s]"
     ]
    },
    {
     "name": "stdout",
     "output_type": "stream",
     "text": [
      "\n",
      "Last loss: 0.5693\n",
      "Last train accuracy: 0.7287\n",
      "Last test accuracy: 0.7122\n",
      "\n",
      "\n",
      "Run 9 / 10...\n",
      "Count of 0: 3079  Count of 1: 2921\n",
      "Meta-learning...\n"
     ]
    },
    {
     "name": "stderr",
     "output_type": "stream",
     "text": [
      "100%|█████████████████████████| 50/50 [01:04<00:00,  1.30s/it]\n",
      "  4%|▉                     | 62/1500 [00:00<00:02, 619.43it/s]"
     ]
    },
    {
     "name": "stdout",
     "output_type": "stream",
     "text": [
      "Last loss: 0.6931\n",
      "Last train accuracy: 0.4947\n",
      "Last test accuracy: 0.5193\n",
      "Count of 0: 3502  Count of 1: 2498\n",
      "Training NEW brain instance (WITH backprop)...\n",
      "INITIAL train accuracy: 0.5853\n",
      "INITIAL test accuracy: 0.5831\n",
      "Epoch 1 / 1 ...\n"
     ]
    },
    {
     "name": "stderr",
     "output_type": "stream",
     "text": [
      "100%|████████████████████| 1500/1500 [00:01<00:00, 776.22it/s]\n",
      "  0%|                                  | 0/50 [00:00<?, ?it/s]"
     ]
    },
    {
     "name": "stdout",
     "output_type": "stream",
     "text": [
      "\n",
      "Last loss: 0.6931\n",
      "Last train accuracy: 0.5853\n",
      "Last test accuracy: 0.5831\n",
      "\n",
      "\n",
      "Run 10 / 10...\n",
      "Count of 0: 3858  Count of 1: 2142\n",
      "Meta-learning...\n"
     ]
    },
    {
     "name": "stderr",
     "output_type": "stream",
     "text": [
      "100%|█████████████████████████| 50/50 [01:05<00:00,  1.30s/it]\n",
      "  5%|█                     | 71/1500 [00:00<00:02, 709.36it/s]"
     ]
    },
    {
     "name": "stdout",
     "output_type": "stream",
     "text": [
      "Last loss: 0.4213\n",
      "Last train accuracy: 0.8947\n",
      "Last test accuracy: 0.8742\n",
      "Count of 0: 1211  Count of 1: 4789\n",
      "Training NEW brain instance (WITH backprop)...\n",
      "INITIAL train accuracy: 0.7927\n",
      "INITIAL test accuracy: 0.8000\n",
      "Epoch 1 / 1 ...\n"
     ]
    },
    {
     "name": "stderr",
     "output_type": "stream",
     "text": [
      "100%|████████████████████| 1500/1500 [00:01<00:00, 760.08it/s]\n",
      "  0%|                                  | 0/50 [00:00<?, ?it/s]"
     ]
    },
    {
     "name": "stdout",
     "output_type": "stream",
     "text": [
      "\n",
      "Last loss: 0.5113\n",
      "Last train accuracy: 0.7927\n",
      "Last test accuracy: 0.8000\n",
      "\n",
      "==== Interpretation: Pre and Post and Binned Incoming Fraction ====\n",
      "\n",
      "Run 1 / 10...\n",
      "Count of 0: 2628  Count of 1: 3372\n",
      "Meta-learning...\n"
     ]
    },
    {
     "name": "stderr",
     "output_type": "stream",
     "text": [
      "100%|█████████████████████████| 50/50 [01:12<00:00,  1.44s/it]\n",
      "  5%|█                     | 71/1500 [00:00<00:02, 702.33it/s]"
     ]
    },
    {
     "name": "stdout",
     "output_type": "stream",
     "text": [
      "Last loss: 0.3769\n",
      "Last train accuracy: 0.9533\n",
      "Last test accuracy: 0.9373\n",
      "Count of 0: 2511  Count of 1: 3489\n",
      "Training NEW brain instance (WITH backprop)...\n",
      "INITIAL train accuracy: 0.5807\n",
      "INITIAL test accuracy: 0.5818\n",
      "Epoch 1 / 1 ...\n"
     ]
    },
    {
     "name": "stderr",
     "output_type": "stream",
     "text": [
      "100%|████████████████████| 1500/1500 [00:02<00:00, 697.36it/s]\n",
      "  0%|                                  | 0/50 [00:00<?, ?it/s]"
     ]
    },
    {
     "name": "stdout",
     "output_type": "stream",
     "text": [
      "\n",
      "Last loss: 0.5675\n",
      "Last train accuracy: 0.7513\n",
      "Last test accuracy: 0.7631\n",
      "\n",
      "\n",
      "Run 2 / 10...\n",
      "Count of 0: 5000  Count of 1: 1000\n",
      "Meta-learning...\n"
     ]
    },
    {
     "name": "stderr",
     "output_type": "stream",
     "text": [
      "100%|█████████████████████████| 50/50 [01:12<00:00,  1.46s/it]\n",
      "  5%|█                     | 72/1500 [00:00<00:01, 719.35it/s]"
     ]
    },
    {
     "name": "stdout",
     "output_type": "stream",
     "text": [
      "Last loss: 0.4255\n",
      "Last train accuracy: 0.8247\n",
      "Last test accuracy: 0.8362\n",
      "Count of 0: 2165  Count of 1: 3835\n",
      "Training NEW brain instance (WITH backprop)...\n",
      "INITIAL train accuracy: 0.3593\n",
      "INITIAL test accuracy: 0.3613\n",
      "Epoch 1 / 1 ...\n"
     ]
    },
    {
     "name": "stderr",
     "output_type": "stream",
     "text": [
      "100%|████████████████████| 1500/1500 [00:02<00:00, 708.91it/s]\n",
      "  0%|                                  | 0/50 [00:00<?, ?it/s]"
     ]
    },
    {
     "name": "stdout",
     "output_type": "stream",
     "text": [
      "\n",
      "Last loss: 0.6593\n",
      "Last train accuracy: 0.6407\n",
      "Last test accuracy: 0.6387\n",
      "\n",
      "\n",
      "Run 3 / 10...\n",
      "Count of 0: 4473  Count of 1: 1527\n",
      "Meta-learning...\n"
     ]
    },
    {
     "name": "stderr",
     "output_type": "stream",
     "text": [
      "100%|█████████████████████████| 50/50 [01:11<00:00,  1.43s/it]\n",
      "  4%|▉                     | 63/1500 [00:00<00:02, 629.43it/s]"
     ]
    },
    {
     "name": "stdout",
     "output_type": "stream",
     "text": [
      "Last loss: 0.4767\n",
      "Last train accuracy: 0.7460\n",
      "Last test accuracy: 0.7453\n",
      "Count of 0: 3460  Count of 1: 2540\n",
      "Training NEW brain instance (WITH backprop)...\n",
      "INITIAL train accuracy: 0.5613\n",
      "INITIAL test accuracy: 0.5818\n",
      "Epoch 1 / 1 ...\n"
     ]
    },
    {
     "name": "stderr",
     "output_type": "stream",
     "text": [
      "100%|████████████████████| 1500/1500 [00:02<00:00, 734.03it/s]\n",
      "  0%|                                  | 0/50 [00:00<?, ?it/s]"
     ]
    },
    {
     "name": "stdout",
     "output_type": "stream",
     "text": [
      "\n",
      "Last loss: 0.7493\n",
      "Last train accuracy: 0.5613\n",
      "Last test accuracy: 0.5818\n",
      "\n",
      "\n",
      "Run 4 / 10...\n",
      "Count of 0: 1513  Count of 1: 4487\n",
      "Meta-learning...\n"
     ]
    },
    {
     "name": "stderr",
     "output_type": "stream",
     "text": [
      "100%|█████████████████████████| 50/50 [01:11<00:00,  1.42s/it]\n",
      "  4%|▊                     | 59/1500 [00:00<00:02, 589.46it/s]"
     ]
    },
    {
     "name": "stdout",
     "output_type": "stream",
     "text": [
      "Last loss: 0.4570\n",
      "Last train accuracy: 0.7733\n",
      "Last test accuracy: 0.7842\n",
      "Count of 0: 956  Count of 1: 5044\n",
      "Training NEW brain instance (WITH backprop)...\n",
      "INITIAL train accuracy: 0.1767\n",
      "INITIAL test accuracy: 0.1536\n",
      "Epoch 1 / 1 ...\n"
     ]
    },
    {
     "name": "stderr",
     "output_type": "stream",
     "text": [
      "100%|████████████████████| 1500/1500 [00:02<00:00, 734.61it/s]\n",
      "  0%|                                  | 0/50 [00:00<?, ?it/s]"
     ]
    },
    {
     "name": "stdout",
     "output_type": "stream",
     "text": [
      "\n",
      "Last loss: 0.4933\n",
      "Last train accuracy: 0.8233\n",
      "Last test accuracy: 0.8464\n",
      "\n",
      "\n",
      "Run 5 / 10...\n",
      "Count of 0: 1327  Count of 1: 4673\n",
      "Meta-learning...\n"
     ]
    },
    {
     "name": "stderr",
     "output_type": "stream",
     "text": [
      "100%|█████████████████████████| 50/50 [01:12<00:00,  1.44s/it]\n",
      "  4%|▉                     | 64/1500 [00:00<00:02, 633.09it/s]"
     ]
    },
    {
     "name": "stdout",
     "output_type": "stream",
     "text": [
      "Last loss: 0.4420\n",
      "Last train accuracy: 0.8320\n",
      "Last test accuracy: 0.8038\n",
      "Count of 0: 4332  Count of 1: 1668\n",
      "Training NEW brain instance (WITH backprop)...\n",
      "INITIAL train accuracy: 0.3007\n",
      "INITIAL test accuracy: 0.2704\n",
      "Epoch 1 / 1 ...\n"
     ]
    },
    {
     "name": "stderr",
     "output_type": "stream",
     "text": [
      "100%|████████████████████| 1500/1500 [00:02<00:00, 706.44it/s]\n",
      "  0%|                                  | 0/50 [00:00<?, ?it/s]"
     ]
    },
    {
     "name": "stdout",
     "output_type": "stream",
     "text": [
      "\n",
      "Last loss: 0.6233\n",
      "Last train accuracy: 0.6993\n",
      "Last test accuracy: 0.7296\n",
      "\n",
      "\n",
      "Run 6 / 10...\n",
      "Count of 0: 1119  Count of 1: 4881\n",
      "Meta-learning...\n"
     ]
    },
    {
     "name": "stderr",
     "output_type": "stream",
     "text": [
      "100%|█████████████████████████| 50/50 [01:12<00:00,  1.44s/it]\n",
      "  5%|█                     | 70/1500 [00:00<00:02, 692.44it/s]"
     ]
    },
    {
     "name": "stdout",
     "output_type": "stream",
     "text": [
      "Last loss: 0.4428\n",
      "Last train accuracy: 0.8180\n",
      "Last test accuracy: 0.8238\n",
      "Count of 0: 3372  Count of 1: 2628\n",
      "Training NEW brain instance (WITH backprop)...\n",
      "INITIAL train accuracy: 0.5500\n",
      "INITIAL test accuracy: 0.5660\n",
      "Epoch 1 / 1 ...\n"
     ]
    },
    {
     "name": "stderr",
     "output_type": "stream",
     "text": [
      "100%|████████████████████| 1500/1500 [00:02<00:00, 741.22it/s]\n",
      "  0%|                                  | 0/50 [00:00<?, ?it/s]"
     ]
    },
    {
     "name": "stdout",
     "output_type": "stream",
     "text": [
      "\n",
      "Last loss: 0.7373\n",
      "Last train accuracy: 0.5500\n",
      "Last test accuracy: 0.5660\n",
      "\n",
      "\n",
      "Run 7 / 10...\n",
      "Count of 0: 2776  Count of 1: 3224\n",
      "Meta-learning...\n"
     ]
    },
    {
     "name": "stderr",
     "output_type": "stream",
     "text": [
      "100%|█████████████████████████| 50/50 [01:11<00:00,  1.43s/it]\n",
      "  5%|█                     | 70/1500 [00:00<00:02, 699.37it/s]"
     ]
    },
    {
     "name": "stdout",
     "output_type": "stream",
     "text": [
      "Last loss: 0.6931\n",
      "Last train accuracy: 0.5287\n",
      "Last test accuracy: 0.5582\n",
      "Count of 0: 1916  Count of 1: 4084\n",
      "Training NEW brain instance (WITH backprop)...\n",
      "INITIAL train accuracy: 0.3000\n",
      "INITIAL test accuracy: 0.3258\n",
      "Epoch 1 / 1 ...\n"
     ]
    },
    {
     "name": "stderr",
     "output_type": "stream",
     "text": [
      "100%|████████████████████| 1500/1500 [00:02<00:00, 716.71it/s]\n",
      "  0%|                                  | 0/50 [00:00<?, ?it/s]"
     ]
    },
    {
     "name": "stdout",
     "output_type": "stream",
     "text": [
      "\n",
      "Last loss: 0.6931\n",
      "Last train accuracy: 0.7000\n",
      "Last test accuracy: 0.6742\n",
      "\n",
      "\n",
      "Run 8 / 10...\n",
      "Count of 0: 2158  Count of 1: 3842\n",
      "Meta-learning...\n"
     ]
    },
    {
     "name": "stderr",
     "output_type": "stream",
     "text": [
      "100%|█████████████████████████| 50/50 [01:11<00:00,  1.42s/it]\n",
      "  4%|▉                     | 64/1500 [00:00<00:02, 639.42it/s]"
     ]
    },
    {
     "name": "stdout",
     "output_type": "stream",
     "text": [
      "Last loss: 0.5210\n",
      "Last train accuracy: 0.6487\n",
      "Last test accuracy: 0.6431\n",
      "Count of 0: 1956  Count of 1: 4044\n",
      "Training NEW brain instance (WITH backprop)...\n",
      "INITIAL train accuracy: 0.3240\n",
      "INITIAL test accuracy: 0.3267\n",
      "Epoch 1 / 1 ...\n"
     ]
    },
    {
     "name": "stderr",
     "output_type": "stream",
     "text": [
      "100%|████████████████████| 1500/1500 [00:02<00:00, 720.84it/s]\n",
      "  0%|                                  | 0/50 [00:00<?, ?it/s]"
     ]
    },
    {
     "name": "stdout",
     "output_type": "stream",
     "text": [
      "\n",
      "Last loss: 0.6433\n",
      "Last train accuracy: 0.6760\n",
      "Last test accuracy: 0.6733\n",
      "\n",
      "\n",
      "Run 9 / 10...\n",
      "Count of 0: 2874  Count of 1: 3126\n",
      "Meta-learning...\n"
     ]
    },
    {
     "name": "stderr",
     "output_type": "stream",
     "text": [
      "100%|█████████████████████████| 50/50 [01:11<00:00,  1.43s/it]\n",
      "  4%|▉                     | 60/1500 [00:00<00:02, 599.45it/s]"
     ]
    },
    {
     "name": "stdout",
     "output_type": "stream",
     "text": [
      "Last loss: 0.6931\n",
      "Last train accuracy: 0.5920\n",
      "Last test accuracy: 0.6060\n",
      "Count of 0: 85  Count of 1: 5915\n",
      "Training NEW brain instance (WITH backprop)...\n",
      "INITIAL train accuracy: 0.0120\n",
      "INITIAL test accuracy: 0.0149\n",
      "Epoch 1 / 1 ...\n"
     ]
    },
    {
     "name": "stderr",
     "output_type": "stream",
     "text": [
      "100%|████████████████████| 1500/1500 [00:02<00:00, 714.31it/s]\n",
      "  0%|                                  | 0/50 [00:00<?, ?it/s]"
     ]
    },
    {
     "name": "stdout",
     "output_type": "stream",
     "text": [
      "\n",
      "Last loss: 0.6931\n",
      "Last train accuracy: 0.9873\n",
      "Last test accuracy: 0.9838\n",
      "\n",
      "\n",
      "Run 10 / 10...\n",
      "Count of 0: 3713  Count of 1: 2287\n",
      "Meta-learning...\n"
     ]
    },
    {
     "name": "stderr",
     "output_type": "stream",
     "text": [
      "100%|█████████████████████████| 50/50 [01:11<00:00,  1.43s/it]\n",
      "  5%|█                     | 72/1500 [00:00<00:01, 719.35it/s]"
     ]
    },
    {
     "name": "stdout",
     "output_type": "stream",
     "text": [
      "Last loss: 0.3995\n",
      "Last train accuracy: 0.9407\n",
      "Last test accuracy: 0.9156\n",
      "Count of 0: 5007  Count of 1: 993\n",
      "Training NEW brain instance (WITH backprop)...\n",
      "INITIAL train accuracy: 0.1540\n",
      "INITIAL test accuracy: 0.1693\n",
      "Epoch 1 / 1 ...\n"
     ]
    },
    {
     "name": "stderr",
     "output_type": "stream",
     "text": [
      "100%|████████████████████| 1500/1500 [00:02<00:00, 719.11it/s]\n",
      "  0%|                                  | 0/50 [00:00<?, ?it/s]"
     ]
    },
    {
     "name": "stdout",
     "output_type": "stream",
     "text": [
      "\n",
      "Last loss: 0.5724\n",
      "Last train accuracy: 0.7867\n",
      "Last test accuracy: 0.7611\n",
      "\n",
      "==== Interpretation: Post and Incoming Count ====\n",
      "\n",
      "Run 1 / 10...\n",
      "Count of 0: 166  Count of 1: 5834\n",
      "Meta-learning...\n"
     ]
    },
    {
     "name": "stderr",
     "output_type": "stream",
     "text": [
      "100%|█████████████████████████| 50/50 [01:00<00:00,  1.22s/it]\n",
      "  5%|█                     | 72/1500 [00:00<00:01, 719.34it/s]"
     ]
    },
    {
     "name": "stdout",
     "output_type": "stream",
     "text": [
      "Last loss: 0.3392\n",
      "Last train accuracy: 0.9760\n",
      "Last test accuracy: 0.9711\n",
      "Count of 0: 5032  Count of 1: 968\n",
      "Training NEW brain instance (WITH backprop)...\n",
      "INITIAL train accuracy: 0.8347\n",
      "INITIAL test accuracy: 0.8400\n",
      "Epoch 1 / 1 ...\n"
     ]
    },
    {
     "name": "stderr",
     "output_type": "stream",
     "text": [
      "100%|████████████████████| 1500/1500 [00:01<00:00, 756.88it/s]\n",
      "  0%|                                  | 0/50 [00:00<?, ?it/s]"
     ]
    },
    {
     "name": "stdout",
     "output_type": "stream",
     "text": [
      "\n",
      "Last loss: 0.4713\n",
      "Last train accuracy: 0.8347\n",
      "Last test accuracy: 0.8400\n",
      "\n",
      "\n",
      "Run 2 / 10...\n",
      "Count of 0: 3946  Count of 1: 2054\n",
      "Meta-learning...\n"
     ]
    },
    {
     "name": "stderr",
     "output_type": "stream",
     "text": [
      "100%|█████████████████████████| 50/50 [00:59<00:00,  1.19s/it]\n",
      "  4%|▉                     | 66/1500 [00:00<00:02, 659.40it/s]"
     ]
    },
    {
     "name": "stdout",
     "output_type": "stream",
     "text": [
      "Last loss: 0.4917\n",
      "Last train accuracy: 0.6667\n",
      "Last test accuracy: 0.6547\n",
      "Count of 0: 4992  Count of 1: 1008\n",
      "Training NEW brain instance (WITH backprop)...\n",
      "INITIAL train accuracy: 0.1653\n",
      "INITIAL test accuracy: 0.1689\n",
      "Epoch 1 / 1 ...\n"
     ]
    },
    {
     "name": "stderr",
     "output_type": "stream",
     "text": [
      "100%|████████████████████| 1500/1500 [00:01<00:00, 778.51it/s]\n",
      "  0%|                                  | 0/50 [00:00<?, ?it/s]"
     ]
    },
    {
     "name": "stdout",
     "output_type": "stream",
     "text": [
      "\n",
      "Last loss: 0.4813\n",
      "Last train accuracy: 0.8347\n",
      "Last test accuracy: 0.8311\n",
      "\n",
      "\n",
      "Run 3 / 10...\n",
      "Count of 0: 3806  Count of 1: 2194\n",
      "Meta-learning...\n"
     ]
    },
    {
     "name": "stderr",
     "output_type": "stream",
     "text": [
      "100%|█████████████████████████| 50/50 [01:00<00:00,  1.21s/it]\n",
      "  5%|█                     | 74/1500 [00:00<00:01, 732.01it/s]"
     ]
    },
    {
     "name": "stdout",
     "output_type": "stream",
     "text": [
      "Last loss: 0.5375\n",
      "Last train accuracy: 0.6160\n",
      "Last test accuracy: 0.6404\n",
      "Count of 0: 4152  Count of 1: 1848\n",
      "Training NEW brain instance (WITH backprop)...\n",
      "INITIAL train accuracy: 0.3113\n",
      "INITIAL test accuracy: 0.3069\n",
      "Epoch 1 / 1 ...\n"
     ]
    },
    {
     "name": "stderr",
     "output_type": "stream",
     "text": [
      "100%|████████████████████| 1500/1500 [00:01<00:00, 778.91it/s]\n",
      "  0%|                                  | 0/50 [00:00<?, ?it/s]"
     ]
    },
    {
     "name": "stdout",
     "output_type": "stream",
     "text": [
      "\n",
      "Last loss: 0.6493\n",
      "Last train accuracy: 0.6887\n",
      "Last test accuracy: 0.6931\n",
      "\n",
      "\n",
      "Run 4 / 10...\n",
      "Count of 0: 5800  Count of 1: 200\n",
      "Meta-learning...\n"
     ]
    },
    {
     "name": "stderr",
     "output_type": "stream",
     "text": [
      "100%|█████████████████████████| 50/50 [01:01<00:00,  1.23s/it]\n",
      "  5%|█                     | 73/1500 [00:00<00:01, 722.12it/s]"
     ]
    },
    {
     "name": "stdout",
     "output_type": "stream",
     "text": [
      "Last loss: 0.3363\n",
      "Last train accuracy: 0.9733\n",
      "Last test accuracy: 0.9644\n",
      "Count of 0: 2725  Count of 1: 3275\n",
      "Training NEW brain instance (WITH backprop)...\n",
      "INITIAL train accuracy: 0.4547\n",
      "INITIAL test accuracy: 0.4540\n",
      "Epoch 1 / 1 ...\n"
     ]
    },
    {
     "name": "stderr",
     "output_type": "stream",
     "text": [
      "100%|████████████████████| 1500/1500 [00:01<00:00, 761.01it/s]\n",
      "  0%|                                  | 0/50 [00:00<?, ?it/s]"
     ]
    },
    {
     "name": "stdout",
     "output_type": "stream",
     "text": [
      "\n",
      "Last loss: 0.7493\n",
      "Last train accuracy: 0.5453\n",
      "Last test accuracy: 0.5460\n",
      "\n",
      "\n",
      "Run 5 / 10...\n",
      "Count of 0: 5059  Count of 1: 941\n",
      "Meta-learning...\n"
     ]
    },
    {
     "name": "stderr",
     "output_type": "stream",
     "text": [
      "100%|█████████████████████████| 50/50 [00:59<00:00,  1.20s/it]\n",
      "  5%|█                     | 73/1500 [00:00<00:01, 729.34it/s]"
     ]
    },
    {
     "name": "stdout",
     "output_type": "stream",
     "text": [
      "Last loss: 0.4145\n",
      "Last train accuracy: 0.8427\n",
      "Last test accuracy: 0.8433\n",
      "Count of 0: 801  Count of 1: 5199\n",
      "Training NEW brain instance (WITH backprop)...\n",
      "INITIAL train accuracy: 0.8800\n",
      "INITIAL test accuracy: 0.8620\n",
      "Epoch 1 / 1 ...\n"
     ]
    },
    {
     "name": "stderr",
     "output_type": "stream",
     "text": [
      "100%|████████████████████| 1500/1500 [00:01<00:00, 765.97it/s]\n",
      "  0%|                                  | 0/50 [00:00<?, ?it/s]"
     ]
    },
    {
     "name": "stdout",
     "output_type": "stream",
     "text": [
      "\n",
      "Last loss: 0.4493\n",
      "Last train accuracy: 0.8800\n",
      "Last test accuracy: 0.8620\n",
      "\n",
      "\n",
      "Run 6 / 10...\n",
      "Count of 0: 373  Count of 1: 5627\n",
      "Meta-learning...\n"
     ]
    },
    {
     "name": "stderr",
     "output_type": "stream",
     "text": [
      "100%|█████████████████████████| 50/50 [01:00<00:00,  1.21s/it]\n",
      "  5%|█                     | 75/1500 [00:00<00:01, 749.32it/s]"
     ]
    },
    {
     "name": "stdout",
     "output_type": "stream",
     "text": [
      "Last loss: 0.3700\n",
      "Last train accuracy: 0.9333\n",
      "Last test accuracy: 0.9400\n",
      "Count of 0: 2462  Count of 1: 3538\n",
      "Training NEW brain instance (WITH backprop)...\n",
      "INITIAL train accuracy: 0.3907\n",
      "INITIAL test accuracy: 0.4169\n",
      "Epoch 1 / 1 ...\n"
     ]
    },
    {
     "name": "stderr",
     "output_type": "stream",
     "text": [
      "100%|████████████████████| 1500/1500 [00:02<00:00, 708.62it/s]\n",
      "  0%|                                  | 0/50 [00:00<?, ?it/s]"
     ]
    },
    {
     "name": "stdout",
     "output_type": "stream",
     "text": [
      "\n",
      "Last loss: 0.7213\n",
      "Last train accuracy: 0.6093\n",
      "Last test accuracy: 0.5831\n",
      "\n",
      "\n",
      "Run 7 / 10...\n",
      "Count of 0: 3258  Count of 1: 2742\n",
      "Meta-learning...\n"
     ]
    },
    {
     "name": "stderr",
     "output_type": "stream",
     "text": [
      "100%|█████████████████████████| 50/50 [01:00<00:00,  1.21s/it]\n",
      "  4%|▉                     | 67/1500 [00:00<00:02, 669.39it/s]"
     ]
    },
    {
     "name": "stdout",
     "output_type": "stream",
     "text": [
      "Last loss: 0.6226\n",
      "Last train accuracy: 0.5360\n",
      "Last test accuracy: 0.5453\n",
      "Count of 0: 4427  Count of 1: 1573\n",
      "Training NEW brain instance (WITH backprop)...\n",
      "INITIAL train accuracy: 0.2740\n",
      "INITIAL test accuracy: 0.2582\n",
      "Epoch 1 / 1 ...\n"
     ]
    },
    {
     "name": "stderr",
     "output_type": "stream",
     "text": [
      "100%|████████████████████| 1500/1500 [00:02<00:00, 742.70it/s]\n",
      "  0%|                                  | 0/50 [00:00<?, ?it/s]"
     ]
    },
    {
     "name": "stdout",
     "output_type": "stream",
     "text": [
      "\n",
      "Last loss: 0.5733\n",
      "Last train accuracy: 0.7260\n",
      "Last test accuracy: 0.7418\n",
      "\n",
      "\n",
      "Run 8 / 10...\n",
      "Count of 0: 1119  Count of 1: 4881\n",
      "Meta-learning...\n"
     ]
    },
    {
     "name": "stderr",
     "output_type": "stream",
     "text": [
      "100%|█████████████████████████| 50/50 [01:01<00:00,  1.22s/it]\n",
      "  4%|▉                     | 66/1500 [00:00<00:02, 652.87it/s]"
     ]
    },
    {
     "name": "stdout",
     "output_type": "stream",
     "text": [
      "Last loss: 0.4284\n",
      "Last train accuracy: 0.8240\n",
      "Last test accuracy: 0.8242\n",
      "Count of 0: 4097  Count of 1: 1903\n",
      "Training NEW brain instance (WITH backprop)...\n",
      "INITIAL train accuracy: 0.6853\n",
      "INITIAL test accuracy: 0.6820\n",
      "Epoch 1 / 1 ...\n"
     ]
    },
    {
     "name": "stderr",
     "output_type": "stream",
     "text": [
      "100%|████████████████████| 1500/1500 [00:02<00:00, 741.71it/s]\n",
      "  0%|                                  | 0/50 [00:00<?, ?it/s]"
     ]
    },
    {
     "name": "stdout",
     "output_type": "stream",
     "text": [
      "\n",
      "Last loss: 0.6053\n",
      "Last train accuracy: 0.6853\n",
      "Last test accuracy: 0.6820\n",
      "\n",
      "\n",
      "Run 9 / 10...\n",
      "Count of 0: 451  Count of 1: 5549\n",
      "Meta-learning...\n"
     ]
    },
    {
     "name": "stderr",
     "output_type": "stream",
     "text": [
      "100%|█████████████████████████| 50/50 [01:01<00:00,  1.23s/it]\n",
      "  5%|█                     | 70/1500 [00:00<00:02, 699.36it/s]"
     ]
    },
    {
     "name": "stdout",
     "output_type": "stream",
     "text": [
      "Last loss: 0.3662\n",
      "Last train accuracy: 0.9340\n",
      "Last test accuracy: 0.9242\n",
      "Count of 0: 4531  Count of 1: 1469\n",
      "Training NEW brain instance (WITH backprop)...\n",
      "INITIAL train accuracy: 0.7520\n",
      "INITIAL test accuracy: 0.7562\n",
      "Epoch 1 / 1 ...\n"
     ]
    },
    {
     "name": "stderr",
     "output_type": "stream",
     "text": [
      "100%|████████████████████| 1500/1500 [00:02<00:00, 719.29it/s]\n",
      "  0%|                                  | 0/50 [00:00<?, ?it/s]"
     ]
    },
    {
     "name": "stdout",
     "output_type": "stream",
     "text": [
      "\n",
      "Last loss: 0.5553\n",
      "Last train accuracy: 0.7520\n",
      "Last test accuracy: 0.7562\n",
      "\n",
      "\n",
      "Run 10 / 10...\n",
      "Count of 0: 4122  Count of 1: 1878\n",
      "Meta-learning...\n"
     ]
    },
    {
     "name": "stderr",
     "output_type": "stream",
     "text": [
      "100%|█████████████████████████| 50/50 [01:01<00:00,  1.22s/it]\n",
      "  5%|▉                     | 68/1500 [00:00<00:02, 679.38it/s]"
     ]
    },
    {
     "name": "stdout",
     "output_type": "stream",
     "text": [
      "Last loss: 0.5019\n",
      "Last train accuracy: 0.6700\n",
      "Last test accuracy: 0.6927\n",
      "Count of 0: 5111  Count of 1: 889\n",
      "Training NEW brain instance (WITH backprop)...\n",
      "INITIAL train accuracy: 0.8647\n",
      "INITIAL test accuracy: 0.8476\n",
      "Epoch 1 / 1 ...\n"
     ]
    },
    {
     "name": "stderr",
     "output_type": "stream",
     "text": [
      "100%|████████████████████| 1500/1500 [00:02<00:00, 745.97it/s]"
     ]
    },
    {
     "name": "stdout",
     "output_type": "stream",
     "text": [
      "\n",
      "Last loss: 0.4473\n",
      "Last train accuracy: 0.8647\n",
      "Last test accuracy: 0.8476\n",
      "\n"
     ]
    },
    {
     "name": "stderr",
     "output_type": "stream",
     "text": [
      "\n"
     ]
    }
   ],
   "source": [
    "# Evaluate models.\n",
    "print('==== Interpretation: Pre and Post ====')\n",
    "stats_prepost_up, stats_prepost_down = evaluate_up_down(\n",
    "    brain_prepost_up_fact, brain_prepost_down_fact, n_up, n_down, dataset=dataset,\n",
    "    num_runs=num_runs, num_rule_epochs=num_rule_epochs,\n",
    "    num_epochs_upstream=num_epochs_upstream, num_epochs_downstream=num_epochs_downstream)\n",
    "print('==== Interpretation: Pre and Post and Incoming Count ====')\n",
    "stats_prepostcount_up, stats_prepostcount_down = evaluate_up_down(\n",
    "    brain_prepostcount_up_fact, brain_prepostcount_down_fact, n_up, n_down, dataset=dataset,\n",
    "    num_runs=num_runs, num_rule_epochs=num_rule_epochs,\n",
    "    num_epochs_upstream=num_epochs_upstream, num_epochs_downstream=num_epochs_downstream)\n",
    "print('==== Interpretation: Pre and Post and Binned Incoming Fraction ====')\n",
    "stats_prepostpercent_up, stats_prepostpercent_down = evaluate_up_down(\n",
    "    brain_prepostpercent_up_fact, brain_prepostpercent_down_fact, n_up, n_down, dataset=dataset,\n",
    "    num_runs=num_runs, num_rule_epochs=num_rule_epochs,\n",
    "    num_epochs_upstream=num_epochs_upstream, num_epochs_downstream=num_epochs_downstream)\n",
    "print('==== Interpretation: Post and Incoming Count ====')\n",
    "stats_postcount_up, stats_postcount_down = evaluate_up_down(\n",
    "    brain_postcount_up_fact, brain_postcount_down_fact, n_up, n_down, dataset=dataset,\n",
    "    num_runs=num_runs, num_rule_epochs=num_rule_epochs,\n",
    "    num_epochs_upstream=num_epochs_upstream, num_epochs_downstream=num_epochs_downstream)"
   ]
  },
  {
   "cell_type": "code",
   "execution_count": 9,
   "metadata": {
    "scrolled": false
   },
   "outputs": [
    {
     "name": "stdout",
     "output_type": "stream",
     "text": [
      "Saving figure to: figs/comparing_transfer_prepost_relu\n"
     ]
    },
    {
     "data": {
      "image/png": "[encoded data removed]",
      "text/plain": [
       "<Figure size 720x288 with 2 Axes>"
      ]
     },
     "metadata": {},
     "output_type": "display_data"
    },
    {
     "name": "stdout",
     "output_type": "stream",
     "text": [
      "Mean essential stats across all runs:\n",
      "Last upstream loss: 0.4794\n",
      "Last upstream train accuracy: 0.8456\n",
      "Last upstream test accuracy: 0.8358\n",
      "Last downstream loss: 0.6100\n",
      "Last downstream train accuracy: 0.6085\n",
      "Last downstream test accuracy: 0.6035\n",
      "\n",
      "Saving figure to: figs/comparing_transfer_prepostcount_relu\n"
     ]
    },
    {
     "data": {
      "image/png": "[encoded data removed]",
      "text/plain": [
       "<Figure size 720x288 with 2 Axes>"
      ]
     },
     "metadata": {},
     "output_type": "display_data"
    },
    {
     "name": "stdout",
     "output_type": "stream",
     "text": [
      "Mean essential stats across all runs:\n",
      "Last upstream loss: 0.4676\n",
      "Last upstream train accuracy: 0.8015\n",
      "Last upstream test accuracy: 0.7989\n",
      "Last downstream loss: 0.5836\n",
      "Last downstream train accuracy: 0.7331\n",
      "Last downstream test accuracy: 0.7372\n",
      "\n",
      "Saving figure to: figs/comparing_transfer_prepostpercent_relu\n"
     ]
    },
    {
     "data": {
      "image/png": "[encoded data removed]",
      "text/plain": [
       "<Figure size 720x288 with 2 Axes>"
      ]
     },
     "metadata": {},
     "output_type": "display_data"
    },
    {
     "name": "stdout",
     "output_type": "stream",
     "text": [
      "Mean essential stats across all runs:\n",
      "Last upstream loss: 0.4928\n",
      "Last upstream train accuracy: 0.7657\n",
      "Last upstream test accuracy: 0.7654\n",
      "Last downstream loss: 0.6432\n",
      "Last downstream train accuracy: 0.7176\n",
      "Last downstream test accuracy: 0.7218\n",
      "\n",
      "Saving figure to: figs/comparing_transfer_postcount_relu\n"
     ]
    },
    {
     "data": {
      "image/png": "[encoded data removed]",
      "text/plain": [
       "<Figure size 720x288 with 2 Axes>"
      ]
     },
     "metadata": {},
     "output_type": "display_data"
    },
    {
     "name": "stdout",
     "output_type": "stream",
     "text": [
      "Mean essential stats across all runs:\n",
      "Last upstream loss: 0.4408\n",
      "Last upstream train accuracy: 0.7972\n",
      "Last upstream test accuracy: 0.8000\n",
      "Last downstream loss: 0.5703\n",
      "Last downstream train accuracy: 0.7421\n",
      "Last downstream test accuracy: 0.7383\n",
      "\n"
     ]
    }
   ],
   "source": [
    "# Plot aggregated stats.\n",
    "agg_stats_prepost_up = convert_multi_stats_uncertainty(stats_prepost_up)\n",
    "agg_stats_prepost_down = convert_multi_stats_uncertainty(stats_prepost_down)\n",
    "plot_curves(agg_stats_prepost_up, agg_stats_prepost_down,\n",
    "            '[PrePost] Upstream meta-learning on ' + dataset,\n",
    "            '[PrePost] Downstream training on ' + dataset,\n",
    "            'figs/comparing_transfer_prepost_' + dataset)\n",
    "agg_stats_prepostcount_up = convert_multi_stats_uncertainty(stats_prepostcount_up)\n",
    "agg_stats_prepostcount_down = convert_multi_stats_uncertainty(stats_prepostcount_down)\n",
    "plot_curves(agg_stats_prepostcount_up, agg_stats_prepostcount_down,\n",
    "            '[PrePostCount] Upstream meta-learning on ' + dataset,\n",
    "            '[PrePostCount] Downstream training on ' + dataset,\n",
    "            'figs/comparing_transfer_prepostcount_' + dataset)\n",
    "agg_stats_prepostpercent_up = convert_multi_stats_uncertainty(stats_prepostpercent_up)\n",
    "agg_stats_prepostpercent_down = convert_multi_stats_uncertainty(stats_prepostpercent_down)\n",
    "plot_curves(agg_stats_prepostpercent_up, agg_stats_prepostpercent_down,\n",
    "            '[PrePostPercent] Upstream meta-learning on ' + dataset,\n",
    "            '[PrePostPercent] Downstream training on ' + dataset,\n",
    "            'figs/comparing_transfer_prepostpercent_' + dataset)\n",
    "agg_stats_postcount_up = convert_multi_stats_uncertainty(stats_postcount_up)\n",
    "agg_stats_postcount_down = convert_multi_stats_uncertainty(stats_postcount_down)\n",
    "plot_curves(agg_stats_postcount_up, agg_stats_postcount_down,\n",
    "            '[PostCount] Upstream meta-learning on ' + dataset,\n",
    "            '[PostCount] Downstream training on ' + dataset,\n",
    "            'figs/comparing_transfer_postcount_' + dataset)"
   ]
  },
  {
   "cell_type": "code",
   "execution_count": 10,
   "metadata": {},
   "outputs": [
    {
     "name": "stdout",
     "output_type": "stream",
     "text": [
      "Saving figure to: figs/comparing_transfer_table_relu\n"
     ]
    },
    {
     "data": {
      "image/png": "[encoded data removed]",
      "text/plain": [
       "<Figure size 720x288 with 2 Axes>"
      ]
     },
     "metadata": {},
     "output_type": "display_data"
    }
   ],
   "source": [
    "# Plot to compare all.\n",
    "all_stats_up = [agg_stats_rnn_up, agg_stats_prepost_up, agg_stats_prepostcount_up, agg_stats_prepostpercent_up, agg_stats_postcount_up]\n",
    "all_stats_down = [agg_stats_rnn_down, agg_stats_prepost_down, agg_stats_prepostcount_down, agg_stats_prepostpercent_down, agg_stats_postcount_down]\n",
    "labels = ['RNN', 'PrePost', 'PrePostCount', 'PrePostPercent', 'PostCount']\n",
    "plot_compare_models(all_stats_up, all_stats_down, labels,\n",
    "                    'Upstream meta-learning on ' + dataset,\n",
    "                    'Downstream training on ' + dataset,\n",
    "                    'figs/comparing_transfer_table_' + dataset)"
   ]
  },
  {
   "cell_type": "code",
   "execution_count": 11,
   "metadata": {
    "scrolled": true
   },
   "outputs": [],
   "source": [
    "if 0:\n",
    "    agg_stats_prepost_up = convert_multi_stats_uncertainty(stats_prepost_up)\n",
    "    agg_stats_prepost_down = convert_multi_stats_uncertainty(stats_prepost_down)\n",
    "    for i in range(len(stats_prepost_up)):\n",
    "        plot_curves(stats_prepost_up[i], stats_prepost_down[i],\n",
    "                    '[PrePost] Upstream meta-learning on ' + dataset,\n",
    "                    '[PrePost] Downstream training on ' + dataset)"
   ]
  },
  {
   "cell_type": "markdown",
   "metadata": {},
   "source": [
    "## Similarly, evaluate RNN and table-based networks but retain the SAME instance upstream and downstream; only the dataset is reinstantiated."
   ]
  },
  {
   "cell_type": "code",
   "execution_count": 3,
   "metadata": {},
   "outputs": [],
   "source": [
    "# IMPORTANT: Henceforth, we use GD directly on inputs but use plasticity rules in the output and hidden layers.\n",
    "opts = Options(gd_input=True,\n",
    "               use_graph_rule=True,\n",
    "               gd_graph_rule=True,\n",
    "               use_output_rule=True,\n",
    "               gd_output_rule=True,\n",
    "               gd_output=False)\n",
    "scheme = UpdateScheme(cross_entropy_loss=True,\n",
    "                      mse_loss=False,\n",
    "                      update_misclassified_only=False,\n",
    "                      update_all_edges=True)\n",
    "\n",
    "# Feed-forward brain config.\n",
    "# See start of notebook.\n",
    "n = 8\n",
    "\n",
    "# Training config.\n",
    "# See start of notebook."
   ]
  },
  {
   "cell_type": "code",
   "execution_count": 6,
   "metadata": {},
   "outputs": [],
   "source": [
    "# Instantiate brain factories.\n",
    "brain_rnn_fact = lambda: LocalNet(n_up, m, 64, p, 32, 3, options=opts, update_scheme=scheme)\n",
    "brain_prepost_fact = lambda: FFLocalNet(\n",
    "    n, m, l, w, p, cap, hl_rules=TableRule_PrePost(),\n",
    "    output_rule=TableRule_PrePost(), options=opts, update_scheme=scheme)\n",
    "brain_prepostcount_fact = lambda: FFLocalNet(\n",
    "    n, m, l, w, p, cap, hl_rules=TableRule_PrePostCount(),\n",
    "    output_rule=TableRule_PrePostCount(), options=opts, update_scheme=scheme)\n",
    "brain_prepostpercent_fact = lambda: FFLocalNet(\n",
    "    n, m, l, w, p, cap, hl_rules=TableRule_PrePostPercent(),\n",
    "    output_rule=TableRule_PrePostPercent(), options=opts, update_scheme=scheme)\n",
    "brain_postcount_fact = lambda: FFLocalNet(\n",
    "    n, m, l, w, p, cap, hl_rules=TableRule_PostCount(),\n",
    "    output_rule=TableRule_PostCount(), options=opts, update_scheme=scheme)"
   ]
  },
  {
   "cell_type": "code",
   "execution_count": 7,
   "metadata": {
    "scrolled": true
   },
   "outputs": [
    {
     "name": "stderr",
     "output_type": "stream",
     "text": [
      "\r",
      "  0%|          | 0/50 [00:00<?, ?it/s]"
     ]
    },
    {
     "name": "stdout",
     "output_type": "stream",
     "text": [
      "==== Original RNN (very different from all the rest) ====\n",
      "\n",
      "Run 1 / 10...\n",
      "Count of 0: 2576  Count of 1: 3424\n",
      "Meta-learning...\n"
     ]
    },
    {
     "name": "stderr",
     "output_type": "stream",
     "text": [
      "100%|██████████| 50/50 [03:02<00:00,  3.66s/it]\n",
      "  2%|▏         | 28/1500 [00:00<00:05, 271.97it/s]"
     ]
    },
    {
     "name": "stdout",
     "output_type": "stream",
     "text": [
      "Last loss: 0.4755\n",
      "Last train accuracy: 0.8407\n",
      "Last test accuracy: 0.8167\n",
      "Count of 0: 34  Count of 1: 5966\n",
      "Training SAME brain instance (NO backprop)...\n",
      "===> WARNING: Backprop is disabled, which means that all layers without rules will never change their weights!\n",
      "===> This is NOT recommended by Basile!\n",
      "INITIAL train accuracy: 0.4853\n",
      "INITIAL test accuracy: 0.5009\n",
      "Epoch 1 / 1 ...\n"
     ]
    },
    {
     "name": "stderr",
     "output_type": "stream",
     "text": [
      "100%|██████████| 1500/1500 [00:06<00:00, 244.18it/s]\n",
      "  0%|          | 0/50 [00:00<?, ?it/s]"
     ]
    },
    {
     "name": "stdout",
     "output_type": "stream",
     "text": [
      "\n",
      "Last loss: 1.3014\n",
      "Last train accuracy: 0.0067\n",
      "Last test accuracy: 0.0053\n",
      "\n",
      "\n",
      "Run 2 / 10...\n",
      "Count of 0: 1661  Count of 1: 4339\n",
      "Meta-learning...\n"
     ]
    },
    {
     "name": "stderr",
     "output_type": "stream",
     "text": [
      "100%|██████████| 50/50 [03:28<00:00,  4.18s/it]\n",
      "  0%|          | 0/1500 [00:00<?, ?it/s]"
     ]
    },
    {
     "name": "stdout",
     "output_type": "stream",
     "text": [
      "Last loss: 0.4447\n",
      "Last train accuracy: 0.9220\n",
      "Last test accuracy: 0.9107\n",
      "Count of 0: 3928  Count of 1: 2072\n",
      "Training SAME brain instance (NO backprop)...\n",
      "===> WARNING: Backprop is disabled, which means that all layers without rules will never change their weights!\n",
      "===> This is NOT recommended by Basile!\n",
      "INITIAL train accuracy: 0.6407\n",
      "INITIAL test accuracy: 0.6593\n",
      "Epoch 1 / 1 ...\n"
     ]
    },
    {
     "name": "stderr",
     "output_type": "stream",
     "text": [
      "100%|██████████| 1500/1500 [00:06<00:00, 230.87it/s]\n",
      "  0%|          | 0/50 [00:00<?, ?it/s]"
     ]
    },
    {
     "name": "stdout",
     "output_type": "stream",
     "text": [
      "\n",
      "Last loss: 0.6341\n",
      "Last train accuracy: 0.6407\n",
      "Last test accuracy: 0.6593\n",
      "\n",
      "\n",
      "Run 3 / 10...\n",
      "Count of 0: 4728  Count of 1: 1272\n",
      "Meta-learning...\n"
     ]
    },
    {
     "name": "stderr",
     "output_type": "stream",
     "text": [
      "100%|██████████| 50/50 [03:48<00:00,  4.57s/it]\n"
     ]
    },
    {
     "name": "stdout",
     "output_type": "stream",
     "text": [
      "Last loss: 0.4301\n",
      "Last train accuracy: 0.7913\n",
      "Last test accuracy: 0.7869\n",
      "Count of 0: 622  Count of 1: 5378\n",
      "Training SAME brain instance (NO backprop)...\n",
      "===> WARNING: Backprop is disabled, which means that all layers without rules will never change their weights!\n",
      "===> This is NOT recommended by Basile!\n",
      "INITIAL train accuracy: 0.8247\n"
     ]
    },
    {
     "name": "stderr",
     "output_type": "stream",
     "text": [
      "  2%|▏         | 26/1500 [00:00<00:06, 243.26it/s]"
     ]
    },
    {
     "name": "stdout",
     "output_type": "stream",
     "text": [
      "INITIAL test accuracy: 0.8102\n",
      "Epoch 1 / 1 ...\n"
     ]
    },
    {
     "name": "stderr",
     "output_type": "stream",
     "text": [
      "100%|██████████| 1500/1500 [00:07<00:00, 213.06it/s]\n",
      "  0%|          | 0/50 [00:00<?, ?it/s]"
     ]
    },
    {
     "name": "stdout",
     "output_type": "stream",
     "text": [
      "\n",
      "Last loss: 0.4104\n",
      "Last train accuracy: 0.8620\n",
      "Last test accuracy: 0.8518\n",
      "\n",
      "\n",
      "Run 4 / 10...\n",
      "Count of 0: 1886  Count of 1: 4114\n",
      "Meta-learning...\n"
     ]
    },
    {
     "name": "stderr",
     "output_type": "stream",
     "text": [
      "100%|██████████| 50/50 [03:53<00:00,  4.68s/it]\n"
     ]
    },
    {
     "name": "stdout",
     "output_type": "stream",
     "text": [
      "Last loss: 0.4786\n",
      "Last train accuracy: 0.8713\n",
      "Last test accuracy: 0.8844\n",
      "Count of 0: 2201  Count of 1: 3799\n",
      "Training SAME brain instance (NO backprop)...\n",
      "===> WARNING: Backprop is disabled, which means that all layers without rules will never change their weights!\n",
      "===> This is NOT recommended by Basile!\n",
      "INITIAL train accuracy: 0.6093\n"
     ]
    },
    {
     "name": "stderr",
     "output_type": "stream",
     "text": [
      "  1%|          | 15/1500 [00:00<00:10, 143.65it/s]"
     ]
    },
    {
     "name": "stdout",
     "output_type": "stream",
     "text": [
      "INITIAL test accuracy: 0.6209\n",
      "Epoch 1 / 1 ...\n"
     ]
    },
    {
     "name": "stderr",
     "output_type": "stream",
     "text": [
      "100%|██████████| 1500/1500 [00:06<00:00, 230.04it/s]\n",
      "  0%|          | 0/50 [00:00<?, ?it/s]"
     ]
    },
    {
     "name": "stdout",
     "output_type": "stream",
     "text": [
      "\n",
      "Last loss: 0.6876\n",
      "Last train accuracy: 0.5933\n",
      "Last test accuracy: 0.5987\n",
      "\n",
      "\n",
      "Run 5 / 10...\n",
      "Count of 0: 251  Count of 1: 5749\n",
      "Meta-learning...\n"
     ]
    },
    {
     "name": "stderr",
     "output_type": "stream",
     "text": [
      "100%|██████████| 50/50 [03:46<00:00,  4.54s/it]\n"
     ]
    },
    {
     "name": "stdout",
     "output_type": "stream",
     "text": [
      "Last loss: 0.3514\n",
      "Last train accuracy: 0.9573\n",
      "Last test accuracy: 0.9609\n",
      "Count of 0: 4222  Count of 1: 1778\n",
      "Training SAME brain instance (NO backprop)...\n",
      "===> WARNING: Backprop is disabled, which means that all layers without rules will never change their weights!\n",
      "===> This is NOT recommended by Basile!\n",
      "INITIAL train accuracy: 0.3120\n"
     ]
    },
    {
     "name": "stderr",
     "output_type": "stream",
     "text": [
      "  1%|▏         | 19/1500 [00:00<00:07, 189.13it/s]"
     ]
    },
    {
     "name": "stdout",
     "output_type": "stream",
     "text": [
      "INITIAL test accuracy: 0.3004\n",
      "Epoch 1 / 1 ...\n"
     ]
    },
    {
     "name": "stderr",
     "output_type": "stream",
     "text": [
      "100%|██████████| 1500/1500 [00:06<00:00, 231.28it/s]\n",
      "  0%|          | 0/50 [00:00<?, ?it/s]"
     ]
    },
    {
     "name": "stdout",
     "output_type": "stream",
     "text": [
      "\n",
      "Last loss: 0.5988\n",
      "Last train accuracy: 0.6940\n",
      "Last test accuracy: 0.7069\n",
      "\n",
      "\n",
      "Run 6 / 10...\n",
      "Count of 0: 3652  Count of 1: 2348\n",
      "Meta-learning...\n"
     ]
    },
    {
     "name": "stderr",
     "output_type": "stream",
     "text": [
      "100%|██████████| 50/50 [04:00<00:00,  4.82s/it]\n",
      "  0%|          | 0/1500 [00:00<?, ?it/s]"
     ]
    },
    {
     "name": "stdout",
     "output_type": "stream",
     "text": [
      "Last loss: 0.4166\n",
      "Last train accuracy: 0.8940\n",
      "Last test accuracy: 0.8953\n",
      "Count of 0: 3191  Count of 1: 2809\n",
      "Training SAME brain instance (NO backprop)...\n",
      "===> WARNING: Backprop is disabled, which means that all layers without rules will never change their weights!\n",
      "===> This is NOT recommended by Basile!\n",
      "INITIAL train accuracy: 0.5627\n",
      "INITIAL test accuracy: 0.5760\n",
      "Epoch 1 / 1 ...\n"
     ]
    },
    {
     "name": "stderr",
     "output_type": "stream",
     "text": [
      "100%|██████████| 1500/1500 [00:06<00:00, 231.42it/s]\n",
      "  0%|          | 0/50 [00:00<?, ?it/s]"
     ]
    },
    {
     "name": "stdout",
     "output_type": "stream",
     "text": [
      "\n",
      "Last loss: 0.7239\n",
      "Last train accuracy: 0.6000\n",
      "Last test accuracy: 0.5969\n",
      "\n",
      "\n",
      "Run 7 / 10...\n",
      "Count of 0: 4593  Count of 1: 1407\n",
      "Meta-learning...\n"
     ]
    },
    {
     "name": "stderr",
     "output_type": "stream",
     "text": [
      "100%|██████████| 50/50 [03:53<00:00,  4.67s/it]\n",
      "  0%|          | 0/1500 [00:00<?, ?it/s]"
     ]
    },
    {
     "name": "stdout",
     "output_type": "stream",
     "text": [
      "Last loss: 0.4437\n",
      "Last train accuracy: 0.7600\n",
      "Last test accuracy: 0.7673\n",
      "Count of 0: 3359  Count of 1: 2641\n",
      "Training SAME brain instance (NO backprop)...\n",
      "===> WARNING: Backprop is disabled, which means that all layers without rules will never change their weights!\n",
      "===> This is NOT recommended by Basile!\n",
      "INITIAL train accuracy: 0.4433\n",
      "INITIAL test accuracy: 0.4758\n",
      "Epoch 1 / 1 ...\n"
     ]
    },
    {
     "name": "stderr",
     "output_type": "stream",
     "text": [
      "100%|██████████| 1500/1500 [00:06<00:00, 229.74it/s]\n",
      "  0%|          | 0/50 [00:00<?, ?it/s]"
     ]
    },
    {
     "name": "stdout",
     "output_type": "stream",
     "text": [
      "\n",
      "Last loss: 0.7016\n",
      "Last train accuracy: 0.5867\n",
      "Last test accuracy: 0.5509\n",
      "\n",
      "\n",
      "Run 8 / 10...\n",
      "Count of 0: 1619  Count of 1: 4381\n",
      "Meta-learning...\n"
     ]
    },
    {
     "name": "stderr",
     "output_type": "stream",
     "text": [
      "100%|██████████| 50/50 [03:45<00:00,  4.51s/it]\n",
      "  0%|          | 0/1500 [00:00<?, ?it/s]"
     ]
    },
    {
     "name": "stdout",
     "output_type": "stream",
     "text": [
      "Last loss: 0.3897\n",
      "Last train accuracy: 0.9500\n",
      "Last test accuracy: 0.9409\n",
      "Count of 0: 5399  Count of 1: 601\n",
      "Training SAME brain instance (NO backprop)...\n",
      "===> WARNING: Backprop is disabled, which means that all layers without rules will never change their weights!\n",
      "===> This is NOT recommended by Basile!\n",
      "INITIAL train accuracy: 0.5507\n",
      "INITIAL test accuracy: 0.5502\n",
      "Epoch 1 / 1 ...\n"
     ]
    },
    {
     "name": "stderr",
     "output_type": "stream",
     "text": [
      "100%|██████████| 1500/1500 [00:06<00:00, 227.30it/s]\n",
      "  0%|          | 0/50 [00:00<?, ?it/s]"
     ]
    },
    {
     "name": "stdout",
     "output_type": "stream",
     "text": [
      "\n",
      "Last loss: 0.4273\n",
      "Last train accuracy: 0.9007\n",
      "Last test accuracy: 0.8996\n",
      "\n",
      "\n",
      "Run 9 / 10...\n",
      "Count of 0: 1533  Count of 1: 4467\n",
      "Meta-learning...\n"
     ]
    },
    {
     "name": "stderr",
     "output_type": "stream",
     "text": [
      "100%|██████████| 50/50 [03:54<00:00,  4.68s/it]\n"
     ]
    },
    {
     "name": "stdout",
     "output_type": "stream",
     "text": [
      "Last loss: 0.4606\n",
      "Last train accuracy: 0.8667\n",
      "Last test accuracy: 0.8796\n",
      "Count of 0: 5932  Count of 1: 68\n",
      "Training SAME brain instance (NO backprop)...\n",
      "===> WARNING: Backprop is disabled, which means that all layers without rules will never change their weights!\n",
      "===> This is NOT recommended by Basile!\n",
      "INITIAL train accuracy: 0.9880\n"
     ]
    },
    {
     "name": "stderr",
     "output_type": "stream",
     "text": [
      "  1%|▏         | 20/1500 [00:00<00:07, 186.93it/s]"
     ]
    },
    {
     "name": "stdout",
     "output_type": "stream",
     "text": [
      "INITIAL test accuracy: 0.9889\n",
      "Epoch 1 / 1 ...\n"
     ]
    },
    {
     "name": "stderr",
     "output_type": "stream",
     "text": [
      "100%|██████████| 1500/1500 [00:06<00:00, 222.43it/s]\n",
      "  0%|          | 0/50 [00:00<?, ?it/s]"
     ]
    },
    {
     "name": "stdout",
     "output_type": "stream",
     "text": [
      "\n",
      "Last loss: 0.3759\n",
      "Last train accuracy: 0.9880\n",
      "Last test accuracy: 0.9889\n",
      "\n",
      "\n",
      "Run 10 / 10...\n",
      "Count of 0: 1882  Count of 1: 4118\n",
      "Meta-learning...\n"
     ]
    },
    {
     "name": "stderr",
     "output_type": "stream",
     "text": [
      "100%|██████████| 50/50 [03:45<00:00,  4.52s/it]\n",
      "  0%|          | 0/1500 [00:00<?, ?it/s]"
     ]
    },
    {
     "name": "stdout",
     "output_type": "stream",
     "text": [
      "Last loss: 0.4623\n",
      "Last train accuracy: 0.8800\n",
      "Last test accuracy: 0.8853\n",
      "Count of 0: 3879  Count of 1: 2121\n",
      "Training SAME brain instance (NO backprop)...\n",
      "===> WARNING: Backprop is disabled, which means that all layers without rules will never change their weights!\n",
      "===> This is NOT recommended by Basile!\n",
      "INITIAL train accuracy: 0.2640\n",
      "INITIAL test accuracy: 0.2527\n",
      "Epoch 1 / 1 ...\n"
     ]
    },
    {
     "name": "stderr",
     "output_type": "stream",
     "text": [
      "100%|██████████| 1500/1500 [00:06<00:00, 233.26it/s]\n",
      "  0%|          | 0/50 [00:00<?, ?it/s]"
     ]
    },
    {
     "name": "stdout",
     "output_type": "stream",
     "text": [
      "\n",
      "Last loss: 0.6105\n",
      "Last train accuracy: 0.6353\n",
      "Last test accuracy: 0.6502\n",
      "\n",
      "==== Interpretation: Pre and Post ====\n",
      "\n",
      "Run 1 / 10...\n",
      "Count of 0: 1652  Count of 1: 4348\n",
      "Meta-learning...\n"
     ]
    },
    {
     "name": "stderr",
     "output_type": "stream",
     "text": [
      "100%|██████████| 50/50 [02:09<00:00,  2.58s/it]\n"
     ]
    },
    {
     "name": "stdout",
     "output_type": "stream",
     "text": [
      "Last loss: 0.4725\n",
      "Last train accuracy: 0.7207\n",
      "Last test accuracy: 0.7278\n",
      "Count of 0: 2567  Count of 1: 3433\n",
      "Training SAME brain instance (NO backprop)...\n",
      "===> WARNING: Backprop is disabled, which means that all layers without rules will never change their weights!\n",
      "===> This is NOT recommended by Basile!\n",
      "INITIAL train accuracy: 0.5807\n"
     ]
    },
    {
     "name": "stderr",
     "output_type": "stream",
     "text": [
      "  1%|▏         | 21/1500 [00:00<00:07, 190.43it/s]"
     ]
    },
    {
     "name": "stdout",
     "output_type": "stream",
     "text": [
      "INITIAL test accuracy: 0.5722\n",
      "Epoch 1 / 1 ...\n"
     ]
    },
    {
     "name": "stderr",
     "output_type": "stream",
     "text": [
      "100%|██████████| 1500/1500 [00:03<00:00, 384.80it/s]\n",
      "  0%|          | 0/50 [00:00<?, ?it/s]"
     ]
    },
    {
     "name": "stdout",
     "output_type": "stream",
     "text": [
      "\n",
      "Last loss: 0.7487\n",
      "Last train accuracy: 0.5807\n",
      "Last test accuracy: 0.5722\n",
      "\n",
      "\n",
      "Run 2 / 10...\n",
      "Count of 0: 5861  Count of 1: 139\n",
      "Meta-learning...\n"
     ]
    },
    {
     "name": "stderr",
     "output_type": "stream",
     "text": [
      "100%|██████████| 50/50 [02:14<00:00,  2.70s/it]\n",
      "  3%|▎         | 47/1500 [00:00<00:03, 463.84it/s]"
     ]
    },
    {
     "name": "stdout",
     "output_type": "stream",
     "text": [
      "Last loss: 0.3355\n",
      "Last train accuracy: 0.9800\n",
      "Last test accuracy: 0.9758\n",
      "Count of 0: 5892  Count of 1: 108\n",
      "Training SAME brain instance (NO backprop)...\n",
      "===> WARNING: Backprop is disabled, which means that all layers without rules will never change their weights!\n",
      "===> This is NOT recommended by Basile!\n",
      "INITIAL train accuracy: 0.9813\n",
      "INITIAL test accuracy: 0.9822\n",
      "Epoch 1 / 1 ...\n"
     ]
    },
    {
     "name": "stderr",
     "output_type": "stream",
     "text": [
      "100%|██████████| 1500/1500 [00:03<00:00, 432.81it/s]\n",
      "  0%|          | 0/50 [00:00<?, ?it/s]"
     ]
    },
    {
     "name": "stdout",
     "output_type": "stream",
     "text": [
      "\n",
      "Last loss: 0.3273\n",
      "Last train accuracy: 0.9813\n",
      "Last test accuracy: 0.9822\n",
      "\n",
      "\n",
      "Run 3 / 10...\n",
      "Count of 0: 4688  Count of 1: 1312\n",
      "Meta-learning...\n"
     ]
    },
    {
     "name": "stderr",
     "output_type": "stream",
     "text": [
      "100%|██████████| 50/50 [02:11<00:00,  2.63s/it]\n",
      "  2%|▏         | 26/1500 [00:00<00:05, 258.42it/s]"
     ]
    },
    {
     "name": "stdout",
     "output_type": "stream",
     "text": [
      "Last loss: 0.4294\n",
      "Last train accuracy: 0.7840\n",
      "Last test accuracy: 0.7804\n",
      "Count of 0: 3718  Count of 1: 2282\n",
      "Training SAME brain instance (NO backprop)...\n",
      "===> WARNING: Backprop is disabled, which means that all layers without rules will never change their weights!\n",
      "===> This is NOT recommended by Basile!\n",
      "INITIAL train accuracy: 0.6193\n",
      "INITIAL test accuracy: 0.6198\n",
      "Epoch 1 / 1 ...\n"
     ]
    },
    {
     "name": "stderr",
     "output_type": "stream",
     "text": [
      "100%|██████████| 1500/1500 [00:03<00:00, 395.93it/s]\n",
      "  0%|          | 0/50 [00:00<?, ?it/s]"
     ]
    },
    {
     "name": "stdout",
     "output_type": "stream",
     "text": [
      "\n",
      "Last loss: 0.6900\n",
      "Last train accuracy: 0.6193\n",
      "Last test accuracy: 0.6198\n",
      "\n",
      "\n",
      "Run 4 / 10...\n",
      "Count of 0: 2140  Count of 1: 3860\n",
      "Meta-learning...\n"
     ]
    },
    {
     "name": "stderr",
     "output_type": "stream",
     "text": [
      "100%|██████████| 50/50 [02:14<00:00,  2.69s/it]\n",
      "  0%|          | 0/1500 [00:00<?, ?it/s]"
     ]
    },
    {
     "name": "stdout",
     "output_type": "stream",
     "text": [
      "Last loss: 0.5239\n",
      "Last train accuracy: 0.6513\n",
      "Last test accuracy: 0.6493\n",
      "Count of 0: 4863  Count of 1: 1137\n",
      "Training SAME brain instance (NO backprop)...\n",
      "===> WARNING: Backprop is disabled, which means that all layers without rules will never change their weights!\n",
      "===> This is NOT recommended by Basile!\n",
      "INITIAL train accuracy: 0.1933\n",
      "INITIAL test accuracy: 0.1922\n",
      "Epoch 1 / 1 ...\n"
     ]
    },
    {
     "name": "stderr",
     "output_type": "stream",
     "text": [
      "100%|██████████| 1500/1500 [00:04<00:00, 348.72it/s]\n",
      "  0%|          | 0/50 [00:00<?, ?it/s]"
     ]
    },
    {
     "name": "stdout",
     "output_type": "stream",
     "text": [
      "\n",
      "Last loss: 0.5248\n",
      "Last train accuracy: 0.8120\n",
      "Last test accuracy: 0.8100\n",
      "\n",
      "\n",
      "Run 5 / 10...\n",
      "Count of 0: 4153  Count of 1: 1847\n",
      "Meta-learning...\n"
     ]
    },
    {
     "name": "stderr",
     "output_type": "stream",
     "text": [
      "100%|██████████| 50/50 [02:16<00:00,  2.73s/it]\n",
      "  2%|▏         | 25/1500 [00:00<00:06, 240.69it/s]"
     ]
    },
    {
     "name": "stdout",
     "output_type": "stream",
     "text": [
      "Last loss: 0.5114\n",
      "Last train accuracy: 0.6993\n",
      "Last test accuracy: 0.6898\n",
      "Count of 0: 5222  Count of 1: 778\n",
      "Training SAME brain instance (NO backprop)...\n",
      "===> WARNING: Backprop is disabled, which means that all layers without rules will never change their weights!\n",
      "===> This is NOT recommended by Basile!\n",
      "INITIAL train accuracy: 0.1447\n",
      "INITIAL test accuracy: 0.1449\n",
      "Epoch 1 / 1 ...\n"
     ]
    },
    {
     "name": "stderr",
     "output_type": "stream",
     "text": [
      "100%|██████████| 1500/1500 [00:04<00:00, 370.89it/s]\n",
      "  0%|          | 0/50 [00:00<?, ?it/s]"
     ]
    },
    {
     "name": "stdout",
     "output_type": "stream",
     "text": [
      "\n",
      "Last loss: 0.4562\n",
      "Last train accuracy: 0.8733\n",
      "Last test accuracy: 0.8693\n",
      "\n",
      "\n",
      "Run 6 / 10...\n",
      "Count of 0: 2734  Count of 1: 3266\n",
      "Meta-learning...\n"
     ]
    },
    {
     "name": "stderr",
     "output_type": "stream",
     "text": [
      "100%|██████████| 50/50 [02:16<00:00,  2.73s/it]\n",
      "  0%|          | 0/1500 [00:00<?, ?it/s]"
     ]
    },
    {
     "name": "stdout",
     "output_type": "stream",
     "text": [
      "Last loss: 0.6931\n",
      "Last train accuracy: 0.4680\n",
      "Last test accuracy: 0.4516\n",
      "Count of 0: 2048  Count of 1: 3952\n",
      "Training SAME brain instance (NO backprop)...\n",
      "===> WARNING: Backprop is disabled, which means that all layers without rules will never change their weights!\n",
      "===> This is NOT recommended by Basile!\n",
      "INITIAL train accuracy: 0.3520\n",
      "INITIAL test accuracy: 0.3378\n",
      "Epoch 1 / 1 ...\n"
     ]
    },
    {
     "name": "stderr",
     "output_type": "stream",
     "text": [
      "100%|██████████| 1500/1500 [00:04<00:00, 371.11it/s]\n",
      "  0%|          | 0/50 [00:00<?, ?it/s]"
     ]
    },
    {
     "name": "stdout",
     "output_type": "stream",
     "text": [
      "\n",
      "Last loss: 0.6931\n",
      "Last train accuracy: 0.3520\n",
      "Last test accuracy: 0.3378\n",
      "\n",
      "\n",
      "Run 7 / 10...\n",
      "Count of 0: 1336  Count of 1: 4664\n",
      "Meta-learning...\n"
     ]
    },
    {
     "name": "stderr",
     "output_type": "stream",
     "text": [
      "100%|██████████| 50/50 [02:15<00:00,  2.70s/it]\n",
      "  3%|▎         | 39/1500 [00:00<00:03, 383.65it/s]"
     ]
    },
    {
     "name": "stdout",
     "output_type": "stream",
     "text": [
      "Last loss: 0.6931\n",
      "Last train accuracy: 0.2220\n",
      "Last test accuracy: 0.2229\n",
      "Count of 0: 2712  Count of 1: 3288\n",
      "Training SAME brain instance (NO backprop)...\n",
      "===> WARNING: Backprop is disabled, which means that all layers without rules will never change their weights!\n",
      "===> This is NOT recommended by Basile!\n",
      "INITIAL train accuracy: 0.4627\n",
      "INITIAL test accuracy: 0.4484\n",
      "Epoch 1 / 1 ...\n"
     ]
    },
    {
     "name": "stderr",
     "output_type": "stream",
     "text": [
      "100%|██████████| 1500/1500 [00:03<00:00, 397.12it/s]\n",
      "  0%|          | 0/50 [00:00<?, ?it/s]"
     ]
    },
    {
     "name": "stdout",
     "output_type": "stream",
     "text": [
      "\n",
      "Last loss: 0.6931\n",
      "Last train accuracy: 0.4627\n",
      "Last test accuracy: 0.4484\n",
      "\n",
      "\n",
      "Run 8 / 10...\n",
      "Count of 0: 931  Count of 1: 5069\n",
      "Meta-learning...\n"
     ]
    },
    {
     "name": "stderr",
     "output_type": "stream",
     "text": [
      "100%|██████████| 50/50 [02:15<00:00,  2.70s/it]\n",
      "  2%|▏         | 30/1500 [00:00<00:05, 269.06it/s]"
     ]
    },
    {
     "name": "stdout",
     "output_type": "stream",
     "text": [
      "Last loss: 0.4124\n",
      "Last train accuracy: 0.8553\n",
      "Last test accuracy: 0.8453\n",
      "Count of 0: 2421  Count of 1: 3579\n",
      "Training SAME brain instance (NO backprop)...\n",
      "===> WARNING: Backprop is disabled, which means that all layers without rules will never change their weights!\n",
      "===> This is NOT recommended by Basile!\n",
      "INITIAL train accuracy: 0.3913\n",
      "INITIAL test accuracy: 0.4076\n",
      "Epoch 1 / 1 ...\n"
     ]
    },
    {
     "name": "stderr",
     "output_type": "stream",
     "text": [
      "100%|██████████| 1500/1500 [00:03<00:00, 389.23it/s]\n",
      "  0%|          | 0/50 [00:00<?, ?it/s]"
     ]
    },
    {
     "name": "stdout",
     "output_type": "stream",
     "text": [
      "\n",
      "Last loss: 0.7062\n",
      "Last train accuracy: 0.6127\n",
      "Last test accuracy: 0.5953\n",
      "\n",
      "\n",
      "Run 9 / 10...\n",
      "Count of 0: 2253  Count of 1: 3747\n",
      "Meta-learning...\n"
     ]
    },
    {
     "name": "stderr",
     "output_type": "stream",
     "text": [
      "100%|██████████| 50/50 [02:15<00:00,  2.71s/it]\n",
      "  3%|▎         | 46/1500 [00:00<00:03, 451.37it/s]"
     ]
    },
    {
     "name": "stdout",
     "output_type": "stream",
     "text": [
      "Last loss: 0.3974\n",
      "Last train accuracy: 0.9253\n",
      "Last test accuracy: 0.8964\n",
      "Count of 0: 1642  Count of 1: 4358\n",
      "Training SAME brain instance (NO backprop)...\n",
      "===> WARNING: Backprop is disabled, which means that all layers without rules will never change their weights!\n",
      "===> This is NOT recommended by Basile!\n",
      "INITIAL train accuracy: 0.2853\n",
      "INITIAL test accuracy: 0.2698\n",
      "Epoch 1 / 1 ...\n"
     ]
    },
    {
     "name": "stderr",
     "output_type": "stream",
     "text": [
      "100%|██████████| 1500/1500 [00:04<00:00, 374.99it/s]\n",
      "  0%|          | 0/50 [00:00<?, ?it/s]"
     ]
    },
    {
     "name": "stdout",
     "output_type": "stream",
     "text": [
      "\n",
      "Last loss: 0.6014\n",
      "Last train accuracy: 0.7013\n",
      "Last test accuracy: 0.7053\n",
      "\n",
      "\n",
      "Run 10 / 10...\n",
      "Count of 0: 4069  Count of 1: 1931\n",
      "Meta-learning...\n"
     ]
    },
    {
     "name": "stderr",
     "output_type": "stream",
     "text": [
      "100%|██████████| 50/50 [02:16<00:00,  2.72s/it]\n",
      "  2%|▏         | 33/1500 [00:00<00:04, 327.37it/s]"
     ]
    },
    {
     "name": "stdout",
     "output_type": "stream",
     "text": [
      "Last loss: 0.5010\n",
      "Last train accuracy: 0.6873\n",
      "Last test accuracy: 0.6751\n",
      "Count of 0: 4543  Count of 1: 1457\n",
      "Training SAME brain instance (NO backprop)...\n",
      "===> WARNING: Backprop is disabled, which means that all layers without rules will never change their weights!\n",
      "===> This is NOT recommended by Basile!\n",
      "INITIAL train accuracy: 0.2473\n",
      "INITIAL test accuracy: 0.2444\n",
      "Epoch 1 / 1 ...\n"
     ]
    },
    {
     "name": "stderr",
     "output_type": "stream",
     "text": [
      "100%|██████████| 1500/1500 [00:03<00:00, 411.26it/s]\n",
      "  0%|          | 0/50 [00:00<?, ?it/s]"
     ]
    },
    {
     "name": "stdout",
     "output_type": "stream",
     "text": [
      "\n",
      "Last loss: 0.5365\n",
      "Last train accuracy: 0.7553\n",
      "Last test accuracy: 0.7578\n",
      "\n",
      "==== Interpretation: Pre and Post and Incoming Count ====\n",
      "\n",
      "Run 1 / 10...\n",
      "Count of 0: 4201  Count of 1: 1799\n",
      "Meta-learning...\n"
     ]
    },
    {
     "name": "stderr",
     "output_type": "stream",
     "text": [
      "100%|██████████| 50/50 [02:28<00:00,  2.97s/it]\n",
      "  0%|          | 0/1500 [00:00<?, ?it/s]"
     ]
    },
    {
     "name": "stdout",
     "output_type": "stream",
     "text": [
      "Last loss: 0.5007\n",
      "Last train accuracy: 0.6820\n",
      "Last test accuracy: 0.7062\n",
      "Count of 0: 3506  Count of 1: 2494\n",
      "Training SAME brain instance (NO backprop)...\n",
      "===> WARNING: Backprop is disabled, which means that all layers without rules will never change their weights!\n",
      "===> This is NOT recommended by Basile!\n",
      "INITIAL train accuracy: 0.4313\n",
      "INITIAL test accuracy: 0.4098\n",
      "Epoch 1 / 1 ...\n"
     ]
    },
    {
     "name": "stderr",
     "output_type": "stream",
     "text": [
      "100%|██████████| 1500/1500 [00:04<00:00, 349.50it/s]\n",
      "  0%|          | 0/50 [00:00<?, ?it/s]"
     ]
    },
    {
     "name": "stdout",
     "output_type": "stream",
     "text": [
      "\n",
      "Last loss: 0.7432\n",
      "Last train accuracy: 0.5687\n",
      "Last test accuracy: 0.5896\n",
      "\n",
      "\n",
      "Run 2 / 10...\n",
      "Count of 0: 3858  Count of 1: 2142\n",
      "Meta-learning...\n"
     ]
    },
    {
     "name": "stderr",
     "output_type": "stream",
     "text": [
      "100%|██████████| 50/50 [02:26<00:00,  2.92s/it]\n",
      "  1%|▏         | 21/1500 [00:00<00:07, 203.76it/s]"
     ]
    },
    {
     "name": "stdout",
     "output_type": "stream",
     "text": [
      "Last loss: 0.5054\n",
      "Last train accuracy: 0.6427\n",
      "Last test accuracy: 0.6431\n",
      "Count of 0: 2860  Count of 1: 3140\n",
      "Training SAME brain instance (NO backprop)...\n",
      "===> WARNING: Backprop is disabled, which means that all layers without rules will never change their weights!\n",
      "===> This is NOT recommended by Basile!\n",
      "INITIAL train accuracy: 0.4573\n",
      "INITIAL test accuracy: 0.4831\n",
      "Epoch 1 / 1 ...\n"
     ]
    },
    {
     "name": "stderr",
     "output_type": "stream",
     "text": [
      "100%|██████████| 1500/1500 [00:04<00:00, 367.51it/s]\n",
      "  0%|          | 0/50 [00:00<?, ?it/s]"
     ]
    },
    {
     "name": "stdout",
     "output_type": "stream",
     "text": [
      "\n",
      "Last loss: 0.7327\n",
      "Last train accuracy: 0.5427\n",
      "Last test accuracy: 0.5173\n",
      "\n",
      "\n",
      "Run 3 / 10...\n",
      "Count of 0: 3564  Count of 1: 2436\n",
      "Meta-learning...\n"
     ]
    },
    {
     "name": "stderr",
     "output_type": "stream",
     "text": [
      "100%|██████████| 50/50 [02:26<00:00,  2.92s/it]\n",
      "  3%|▎         | 38/1500 [00:00<00:03, 371.36it/s]"
     ]
    },
    {
     "name": "stdout",
     "output_type": "stream",
     "text": [
      "Last loss: 0.3960\n",
      "Last train accuracy: 0.9233\n",
      "Last test accuracy: 0.9231\n",
      "Count of 0: 5878  Count of 1: 122\n",
      "Training SAME brain instance (NO backprop)...\n",
      "===> WARNING: Backprop is disabled, which means that all layers without rules will never change their weights!\n",
      "===> This is NOT recommended by Basile!\n",
      "INITIAL train accuracy: 0.9807\n",
      "INITIAL test accuracy: 0.9793\n",
      "Epoch 1 / 1 ...\n"
     ]
    },
    {
     "name": "stderr",
     "output_type": "stream",
     "text": [
      "100%|██████████| 1500/1500 [00:04<00:00, 353.46it/s]\n",
      "  0%|          | 0/50 [00:00<?, ?it/s]"
     ]
    },
    {
     "name": "stdout",
     "output_type": "stream",
     "text": [
      "\n",
      "Last loss: 0.4675\n",
      "Last train accuracy: 0.8433\n",
      "Last test accuracy: 0.8596\n",
      "\n",
      "\n",
      "Run 4 / 10...\n",
      "Count of 0: 3515  Count of 1: 2485\n",
      "Meta-learning...\n"
     ]
    },
    {
     "name": "stderr",
     "output_type": "stream",
     "text": [
      "100%|██████████| 50/50 [02:29<00:00,  2.99s/it]\n",
      "  2%|▏         | 25/1500 [00:00<00:05, 246.42it/s]"
     ]
    },
    {
     "name": "stdout",
     "output_type": "stream",
     "text": [
      "Last loss: 0.4089\n",
      "Last train accuracy: 0.9260\n",
      "Last test accuracy: 0.9027\n",
      "Count of 0: 3023  Count of 1: 2977\n",
      "Training SAME brain instance (NO backprop)...\n",
      "===> WARNING: Backprop is disabled, which means that all layers without rules will never change their weights!\n",
      "===> This is NOT recommended by Basile!\n",
      "INITIAL train accuracy: 0.5040\n",
      "INITIAL test accuracy: 0.5038\n",
      "Epoch 1 / 1 ...\n"
     ]
    },
    {
     "name": "stderr",
     "output_type": "stream",
     "text": [
      "100%|██████████| 1500/1500 [00:04<00:00, 342.62it/s]\n",
      "  0%|          | 0/50 [00:00<?, ?it/s]"
     ]
    },
    {
     "name": "stdout",
     "output_type": "stream",
     "text": [
      "\n",
      "Last loss: 0.5812\n",
      "Last train accuracy: 0.7273\n",
      "Last test accuracy: 0.7431\n",
      "\n",
      "\n",
      "Run 5 / 10...\n",
      "Count of 0: 4867  Count of 1: 1133\n",
      "Meta-learning...\n"
     ]
    },
    {
     "name": "stderr",
     "output_type": "stream",
     "text": [
      "100%|██████████| 50/50 [02:26<00:00,  2.92s/it]\n",
      "  2%|▏         | 32/1500 [00:00<00:04, 310.34it/s]"
     ]
    },
    {
     "name": "stdout",
     "output_type": "stream",
     "text": [
      "Last loss: 0.4165\n",
      "Last train accuracy: 0.8287\n",
      "Last test accuracy: 0.8053\n",
      "Count of 0: 3180  Count of 1: 2820\n",
      "Training SAME brain instance (NO backprop)...\n",
      "===> WARNING: Backprop is disabled, which means that all layers without rules will never change their weights!\n",
      "===> This is NOT recommended by Basile!\n",
      "INITIAL train accuracy: 0.5200\n",
      "INITIAL test accuracy: 0.5333\n",
      "Epoch 1 / 1 ...\n"
     ]
    },
    {
     "name": "stderr",
     "output_type": "stream",
     "text": [
      "100%|██████████| 1500/1500 [00:03<00:00, 392.20it/s]\n",
      "  0%|          | 0/50 [00:00<?, ?it/s]"
     ]
    },
    {
     "name": "stdout",
     "output_type": "stream",
     "text": [
      "\n",
      "Last loss: 0.7839\n",
      "Last train accuracy: 0.5200\n",
      "Last test accuracy: 0.5333\n",
      "\n",
      "\n",
      "Run 6 / 10...\n",
      "Count of 0: 4102  Count of 1: 1898\n",
      "Meta-learning...\n"
     ]
    },
    {
     "name": "stderr",
     "output_type": "stream",
     "text": [
      "100%|██████████| 50/50 [02:19<00:00,  2.80s/it]\n",
      "  1%|▏         | 22/1500 [00:00<00:06, 214.96it/s]"
     ]
    },
    {
     "name": "stdout",
     "output_type": "stream",
     "text": [
      "Last loss: 0.5115\n",
      "Last train accuracy: 0.6847\n",
      "Last test accuracy: 0.6833\n",
      "Count of 0: 5677  Count of 1: 323\n",
      "Training SAME brain instance (NO backprop)...\n",
      "===> WARNING: Backprop is disabled, which means that all layers without rules will never change their weights!\n",
      "===> This is NOT recommended by Basile!\n",
      "INITIAL train accuracy: 0.9500\n",
      "INITIAL test accuracy: 0.9449\n",
      "Epoch 1 / 1 ...\n"
     ]
    },
    {
     "name": "stderr",
     "output_type": "stream",
     "text": [
      "100%|██████████| 1500/1500 [00:04<00:00, 367.33it/s]\n",
      "  0%|          | 0/50 [00:00<?, ?it/s]"
     ]
    },
    {
     "name": "stdout",
     "output_type": "stream",
     "text": [
      "\n",
      "Last loss: 0.3664\n",
      "Last train accuracy: 0.9500\n",
      "Last test accuracy: 0.9449\n",
      "\n",
      "\n",
      "Run 7 / 10...\n",
      "Count of 0: 2399  Count of 1: 3601\n",
      "Meta-learning...\n"
     ]
    },
    {
     "name": "stderr",
     "output_type": "stream",
     "text": [
      "100%|██████████| 50/50 [02:25<00:00,  2.92s/it]\n",
      "  3%|▎         | 43/1500 [00:00<00:03, 427.47it/s]"
     ]
    },
    {
     "name": "stdout",
     "output_type": "stream",
     "text": [
      "Last loss: 0.3878\n",
      "Last train accuracy: 0.9420\n",
      "Last test accuracy: 0.9264\n",
      "Count of 0: 4260  Count of 1: 1740\n",
      "Training SAME brain instance (NO backprop)...\n",
      "===> WARNING: Backprop is disabled, which means that all layers without rules will never change their weights!\n",
      "===> This is NOT recommended by Basile!\n",
      "INITIAL train accuracy: 0.7020\n",
      "INITIAL test accuracy: 0.7127\n",
      "Epoch 1 / 1 ...\n"
     ]
    },
    {
     "name": "stderr",
     "output_type": "stream",
     "text": [
      "100%|██████████| 1500/1500 [00:04<00:00, 369.21it/s]\n",
      "  0%|          | 0/50 [00:00<?, ?it/s]"
     ]
    },
    {
     "name": "stdout",
     "output_type": "stream",
     "text": [
      "\n",
      "Last loss: 0.6093\n",
      "Last train accuracy: 0.7020\n",
      "Last test accuracy: 0.7124\n",
      "\n",
      "\n",
      "Run 8 / 10...\n",
      "Count of 0: 4524  Count of 1: 1476\n",
      "Meta-learning...\n"
     ]
    },
    {
     "name": "stderr",
     "output_type": "stream",
     "text": [
      "100%|██████████| 50/50 [02:22<00:00,  2.84s/it]\n",
      "  2%|▏         | 35/1500 [00:00<00:04, 347.02it/s]"
     ]
    },
    {
     "name": "stdout",
     "output_type": "stream",
     "text": [
      "Last loss: 0.4758\n",
      "Last train accuracy: 0.7320\n",
      "Last test accuracy: 0.7613\n",
      "Count of 0: 1022  Count of 1: 4978\n",
      "Training SAME brain instance (NO backprop)...\n",
      "===> WARNING: Backprop is disabled, which means that all layers without rules will never change their weights!\n",
      "===> This is NOT recommended by Basile!\n",
      "INITIAL train accuracy: 0.8233\n",
      "INITIAL test accuracy: 0.8178\n",
      "Epoch 1 / 1 ...\n"
     ]
    },
    {
     "name": "stderr",
     "output_type": "stream",
     "text": [
      "100%|██████████| 1500/1500 [00:04<00:00, 373.83it/s]\n",
      "  0%|          | 0/50 [00:00<?, ?it/s]"
     ]
    },
    {
     "name": "stdout",
     "output_type": "stream",
     "text": [
      "\n",
      "Last loss: 0.4850\n",
      "Last train accuracy: 0.8233\n",
      "Last test accuracy: 0.8178\n",
      "\n",
      "\n",
      "Run 9 / 10...\n",
      "Count of 0: 1136  Count of 1: 4864\n",
      "Meta-learning...\n"
     ]
    },
    {
     "name": "stderr",
     "output_type": "stream",
     "text": [
      "100%|██████████| 50/50 [02:24<00:00,  2.89s/it]\n",
      "  1%|          | 18/1500 [00:00<00:08, 176.43it/s]"
     ]
    },
    {
     "name": "stdout",
     "output_type": "stream",
     "text": [
      "Last loss: 0.4535\n",
      "Last train accuracy: 0.8080\n",
      "Last test accuracy: 0.8127\n",
      "Count of 0: 3700  Count of 1: 2300\n",
      "Training SAME brain instance (NO backprop)...\n",
      "===> WARNING: Backprop is disabled, which means that all layers without rules will never change their weights!\n",
      "===> This is NOT recommended by Basile!\n",
      "INITIAL train accuracy: 0.3973\n",
      "INITIAL test accuracy: 0.3784\n",
      "Epoch 1 / 1 ...\n"
     ]
    },
    {
     "name": "stderr",
     "output_type": "stream",
     "text": [
      "100%|██████████| 1500/1500 [00:04<00:00, 371.93it/s]\n",
      "  0%|          | 0/50 [00:00<?, ?it/s]"
     ]
    },
    {
     "name": "stdout",
     "output_type": "stream",
     "text": [
      "\n",
      "Last loss: 0.7262\n",
      "Last train accuracy: 0.6027\n",
      "Last test accuracy: 0.6213\n",
      "\n",
      "\n",
      "Run 10 / 10...\n",
      "Count of 0: 5088  Count of 1: 912\n",
      "Meta-learning...\n"
     ]
    },
    {
     "name": "stderr",
     "output_type": "stream",
     "text": [
      "100%|██████████| 50/50 [02:19<00:00,  2.79s/it]\n",
      "  3%|▎         | 39/1500 [00:00<00:03, 388.11it/s]"
     ]
    },
    {
     "name": "stdout",
     "output_type": "stream",
     "text": [
      "Last loss: 0.4240\n",
      "Last train accuracy: 0.8420\n",
      "Last test accuracy: 0.8500\n",
      "Count of 0: 2686  Count of 1: 3314\n",
      "Training SAME brain instance (NO backprop)...\n",
      "===> WARNING: Backprop is disabled, which means that all layers without rules will never change their weights!\n",
      "===> This is NOT recommended by Basile!\n",
      "INITIAL train accuracy: 0.5173\n",
      "INITIAL test accuracy: 0.5436\n",
      "Epoch 1 / 1 ...\n"
     ]
    },
    {
     "name": "stderr",
     "output_type": "stream",
     "text": [
      "100%|██████████| 1500/1500 [00:03<00:00, 396.76it/s]\n",
      "  0%|          | 0/50 [00:00<?, ?it/s]"
     ]
    },
    {
     "name": "stdout",
     "output_type": "stream",
     "text": [
      "\n",
      "Last loss: 0.7837\n",
      "Last train accuracy: 0.5173\n",
      "Last test accuracy: 0.5436\n",
      "\n",
      "==== Interpretation: Pre and Post and Binned Incoming Fraction ====\n",
      "\n",
      "Run 1 / 10...\n",
      "Count of 0: 3722  Count of 1: 2278\n",
      "Meta-learning...\n"
     ]
    },
    {
     "name": "stderr",
     "output_type": "stream",
     "text": [
      "100%|██████████| 50/50 [02:26<00:00,  2.93s/it]\n",
      "  2%|▏         | 23/1500 [00:00<00:06, 224.60it/s]"
     ]
    },
    {
     "name": "stdout",
     "output_type": "stream",
     "text": [
      "Last loss: 0.4080\n",
      "Last train accuracy: 0.9153\n",
      "Last test accuracy: 0.9127\n",
      "Count of 0: 3343  Count of 1: 2657\n",
      "Training SAME brain instance (NO backprop)...\n",
      "===> WARNING: Backprop is disabled, which means that all layers without rules will never change their weights!\n",
      "===> This is NOT recommended by Basile!\n",
      "INITIAL train accuracy: 0.5447\n",
      "INITIAL test accuracy: 0.5613\n",
      "Epoch 1 / 1 ...\n"
     ]
    },
    {
     "name": "stderr",
     "output_type": "stream",
     "text": [
      "100%|██████████| 1500/1500 [00:04<00:00, 374.05it/s]\n",
      "  0%|          | 0/50 [00:00<?, ?it/s]"
     ]
    },
    {
     "name": "stdout",
     "output_type": "stream",
     "text": [
      "\n",
      "Last loss: 0.5964\n",
      "Last train accuracy: 0.7073\n",
      "Last test accuracy: 0.6900\n",
      "\n",
      "\n",
      "Run 2 / 10...\n",
      "Count of 0: 5153  Count of 1: 847\n",
      "Meta-learning...\n"
     ]
    },
    {
     "name": "stderr",
     "output_type": "stream",
     "text": [
      "100%|██████████| 50/50 [02:28<00:00,  2.97s/it]\n",
      "  3%|▎         | 41/1500 [00:00<00:03, 405.51it/s]"
     ]
    },
    {
     "name": "stdout",
     "output_type": "stream",
     "text": [
      "Last loss: 0.4196\n",
      "Last train accuracy: 0.8567\n",
      "Last test accuracy: 0.8596\n",
      "Count of 0: 2862  Count of 1: 3138\n",
      "Training SAME brain instance (NO backprop)...\n",
      "===> WARNING: Backprop is disabled, which means that all layers without rules will never change their weights!\n",
      "===> This is NOT recommended by Basile!\n",
      "INITIAL train accuracy: 0.5080\n",
      "INITIAL test accuracy: 0.5207\n",
      "Epoch 1 / 1 ...\n"
     ]
    },
    {
     "name": "stderr",
     "output_type": "stream",
     "text": [
      "100%|██████████| 1500/1500 [00:03<00:00, 397.28it/s]\n",
      "  0%|          | 0/50 [00:00<?, ?it/s]"
     ]
    },
    {
     "name": "stdout",
     "output_type": "stream",
     "text": [
      "\n",
      "Last loss: 0.8402\n",
      "Last train accuracy: 0.5080\n",
      "Last test accuracy: 0.5207\n",
      "\n",
      "\n",
      "Run 3 / 10...\n",
      "Count of 0: 907  Count of 1: 5093\n",
      "Meta-learning...\n"
     ]
    },
    {
     "name": "stderr",
     "output_type": "stream",
     "text": [
      "100%|██████████| 50/50 [02:27<00:00,  2.95s/it]\n",
      "  3%|▎         | 41/1500 [00:00<00:03, 401.82it/s]"
     ]
    },
    {
     "name": "stdout",
     "output_type": "stream",
     "text": [
      "Last loss: 0.4276\n",
      "Last train accuracy: 0.8453\n",
      "Last test accuracy: 0.8549\n",
      "Count of 0: 1829  Count of 1: 4171\n",
      "Training SAME brain instance (NO backprop)...\n",
      "===> WARNING: Backprop is disabled, which means that all layers without rules will never change their weights!\n",
      "===> This is NOT recommended by Basile!\n",
      "INITIAL train accuracy: 0.3100\n",
      "INITIAL test accuracy: 0.3031\n",
      "Epoch 1 / 1 ...\n"
     ]
    },
    {
     "name": "stderr",
     "output_type": "stream",
     "text": [
      "100%|██████████| 1500/1500 [00:03<00:00, 390.56it/s]\n",
      "  0%|          | 0/50 [00:00<?, ?it/s]"
     ]
    },
    {
     "name": "stdout",
     "output_type": "stream",
     "text": [
      "\n",
      "Last loss: 0.6382\n",
      "Last train accuracy: 0.6900\n",
      "Last test accuracy: 0.6944\n",
      "\n",
      "\n",
      "Run 4 / 10...\n",
      "Count of 0: 3624  Count of 1: 2376\n",
      "Meta-learning...\n"
     ]
    },
    {
     "name": "stderr",
     "output_type": "stream",
     "text": [
      "100%|██████████| 50/50 [02:23<00:00,  2.87s/it]\n",
      "  3%|▎         | 41/1500 [00:00<00:03, 405.62it/s]"
     ]
    },
    {
     "name": "stdout",
     "output_type": "stream",
     "text": [
      "Last loss: 0.4428\n",
      "Last train accuracy: 0.8773\n",
      "Last test accuracy: 0.8684\n",
      "Count of 0: 3268  Count of 1: 2732\n",
      "Training SAME brain instance (NO backprop)...\n",
      "===> WARNING: Backprop is disabled, which means that all layers without rules will never change their weights!\n",
      "===> This is NOT recommended by Basile!\n",
      "INITIAL train accuracy: 0.5500\n",
      "INITIAL test accuracy: 0.5429\n",
      "Epoch 1 / 1 ...\n"
     ]
    },
    {
     "name": "stderr",
     "output_type": "stream",
     "text": [
      "100%|██████████| 1500/1500 [00:03<00:00, 409.90it/s]\n",
      "  0%|          | 0/50 [00:00<?, ?it/s]"
     ]
    },
    {
     "name": "stdout",
     "output_type": "stream",
     "text": [
      "\n",
      "Last loss: 0.5812\n",
      "Last train accuracy: 0.7453\n",
      "Last test accuracy: 0.7298\n",
      "\n",
      "\n",
      "Run 5 / 10...\n",
      "Count of 0: 3019  Count of 1: 2981\n",
      "Meta-learning...\n"
     ]
    },
    {
     "name": "stderr",
     "output_type": "stream",
     "text": [
      "100%|██████████| 50/50 [02:28<00:00,  2.97s/it]\n",
      "  3%|▎         | 41/1500 [00:00<00:03, 402.08it/s]"
     ]
    },
    {
     "name": "stdout",
     "output_type": "stream",
     "text": [
      "Last loss: 0.3904\n",
      "Last train accuracy: 0.9360\n",
      "Last test accuracy: 0.9182\n",
      "Count of 0: 3280  Count of 1: 2720\n",
      "Training SAME brain instance (NO backprop)...\n",
      "===> WARNING: Backprop is disabled, which means that all layers without rules will never change their weights!\n",
      "===> This is NOT recommended by Basile!\n",
      "INITIAL train accuracy: 0.4253\n",
      "INITIAL test accuracy: 0.4627\n",
      "Epoch 1 / 1 ...\n"
     ]
    },
    {
     "name": "stderr",
     "output_type": "stream",
     "text": [
      "100%|██████████| 1500/1500 [00:03<00:00, 389.67it/s]\n",
      "  0%|          | 0/50 [00:00<?, ?it/s]"
     ]
    },
    {
     "name": "stdout",
     "output_type": "stream",
     "text": [
      "\n",
      "Last loss: 0.5787\n",
      "Last train accuracy: 0.7113\n",
      "Last test accuracy: 0.7024\n",
      "\n",
      "\n",
      "Run 6 / 10...\n",
      "Count of 0: 4835  Count of 1: 1165\n",
      "Meta-learning...\n"
     ]
    },
    {
     "name": "stderr",
     "output_type": "stream",
     "text": [
      "100%|██████████| 50/50 [02:26<00:00,  2.92s/it]\n",
      "  3%|▎         | 41/1500 [00:00<00:03, 406.74it/s]"
     ]
    },
    {
     "name": "stdout",
     "output_type": "stream",
     "text": [
      "Last loss: 0.6931\n",
      "Last train accuracy: 0.8040\n",
      "Last test accuracy: 0.8064\n",
      "Count of 0: 2593  Count of 1: 3407\n",
      "Training SAME brain instance (NO backprop)...\n",
      "===> WARNING: Backprop is disabled, which means that all layers without rules will never change their weights!\n",
      "===> This is NOT recommended by Basile!\n",
      "INITIAL train accuracy: 0.4387\n",
      "INITIAL test accuracy: 0.4300\n",
      "Epoch 1 / 1 ...\n"
     ]
    },
    {
     "name": "stderr",
     "output_type": "stream",
     "text": [
      "100%|██████████| 1500/1500 [00:03<00:00, 399.75it/s]\n",
      "  0%|          | 0/50 [00:00<?, ?it/s]"
     ]
    },
    {
     "name": "stdout",
     "output_type": "stream",
     "text": [
      "\n",
      "Last loss: 0.6931\n",
      "Last train accuracy: 0.4387\n",
      "Last test accuracy: 0.4300\n",
      "\n",
      "\n",
      "Run 7 / 10...\n",
      "Count of 0: 3797  Count of 1: 2203\n",
      "Meta-learning...\n"
     ]
    },
    {
     "name": "stderr",
     "output_type": "stream",
     "text": [
      "100%|██████████| 50/50 [02:26<00:00,  2.92s/it]\n",
      "  3%|▎         | 41/1500 [00:00<00:03, 405.16it/s]"
     ]
    },
    {
     "name": "stdout",
     "output_type": "stream",
     "text": [
      "Last loss: 0.6931\n",
      "Last train accuracy: 0.6460\n",
      "Last test accuracy: 0.6284\n",
      "Count of 0: 1310  Count of 1: 4690\n",
      "Training SAME brain instance (NO backprop)...\n",
      "===> WARNING: Backprop is disabled, which means that all layers without rules will never change their weights!\n",
      "===> This is NOT recommended by Basile!\n",
      "INITIAL train accuracy: 0.2093\n",
      "INITIAL test accuracy: 0.2213\n",
      "Epoch 1 / 1 ...\n"
     ]
    },
    {
     "name": "stderr",
     "output_type": "stream",
     "text": [
      "100%|██████████| 1500/1500 [00:04<00:00, 316.68it/s]\n",
      "  0%|          | 0/50 [00:00<?, ?it/s]"
     ]
    },
    {
     "name": "stdout",
     "output_type": "stream",
     "text": [
      "\n",
      "Last loss: 0.6931\n",
      "Last train accuracy: 0.2093\n",
      "Last test accuracy: 0.2213\n",
      "\n",
      "\n",
      "Run 8 / 10...\n",
      "Count of 0: 3256  Count of 1: 2744\n",
      "Meta-learning...\n"
     ]
    },
    {
     "name": "stderr",
     "output_type": "stream",
     "text": [
      "100%|██████████| 50/50 [02:41<00:00,  3.23s/it]\n",
      "  2%|▏         | 29/1500 [00:00<00:05, 284.80it/s]"
     ]
    },
    {
     "name": "stdout",
     "output_type": "stream",
     "text": [
      "Last loss: 0.4412\n",
      "Last train accuracy: 0.8800\n",
      "Last test accuracy: 0.8722\n",
      "Count of 0: 3260  Count of 1: 2740\n",
      "Training SAME brain instance (NO backprop)...\n",
      "===> WARNING: Backprop is disabled, which means that all layers without rules will never change their weights!\n",
      "===> This is NOT recommended by Basile!\n",
      "INITIAL train accuracy: 0.4700\n",
      "INITIAL test accuracy: 0.4522\n",
      "Epoch 1 / 1 ...\n"
     ]
    },
    {
     "name": "stderr",
     "output_type": "stream",
     "text": [
      "100%|██████████| 1500/1500 [00:04<00:00, 373.85it/s]\n",
      "  0%|          | 0/50 [00:00<?, ?it/s]"
     ]
    },
    {
     "name": "stdout",
     "output_type": "stream",
     "text": [
      "\n",
      "Last loss: 0.6250\n",
      "Last train accuracy: 0.6780\n",
      "Last test accuracy: 0.6731\n",
      "\n",
      "\n",
      "Run 9 / 10...\n",
      "Count of 0: 2840  Count of 1: 3160\n",
      "Meta-learning...\n"
     ]
    },
    {
     "name": "stderr",
     "output_type": "stream",
     "text": [
      "100%|██████████| 50/50 [02:26<00:00,  2.94s/it]\n",
      "  1%|▏         | 21/1500 [00:00<00:07, 207.97it/s]"
     ]
    },
    {
     "name": "stdout",
     "output_type": "stream",
     "text": [
      "Last loss: 0.3876\n",
      "Last train accuracy: 0.9387\n",
      "Last test accuracy: 0.9269\n",
      "Count of 0: 3943  Count of 1: 2057\n",
      "Training SAME brain instance (NO backprop)...\n",
      "===> WARNING: Backprop is disabled, which means that all layers without rules will never change their weights!\n",
      "===> This is NOT recommended by Basile!\n",
      "INITIAL train accuracy: 0.6513\n",
      "INITIAL test accuracy: 0.6591\n",
      "Epoch 1 / 1 ...\n"
     ]
    },
    {
     "name": "stderr",
     "output_type": "stream",
     "text": [
      "100%|██████████| 1500/1500 [00:04<00:00, 316.83it/s]\n",
      "  0%|          | 0/50 [00:00<?, ?it/s]"
     ]
    },
    {
     "name": "stdout",
     "output_type": "stream",
     "text": [
      "\n",
      "Last loss: 0.6089\n",
      "Last train accuracy: 0.6980\n",
      "Last test accuracy: 0.7002\n",
      "\n",
      "\n",
      "Run 10 / 10...\n",
      "Count of 0: 4050  Count of 1: 1950\n",
      "Meta-learning...\n"
     ]
    },
    {
     "name": "stderr",
     "output_type": "stream",
     "text": [
      "100%|██████████| 50/50 [02:32<00:00,  3.06s/it]\n",
      "  3%|▎         | 41/1500 [00:00<00:03, 402.55it/s]"
     ]
    },
    {
     "name": "stdout",
     "output_type": "stream",
     "text": [
      "Last loss: 0.5176\n",
      "Last train accuracy: 0.6600\n",
      "Last test accuracy: 0.6800\n",
      "Count of 0: 4867  Count of 1: 1133\n",
      "Training SAME brain instance (NO backprop)...\n",
      "===> WARNING: Backprop is disabled, which means that all layers without rules will never change their weights!\n",
      "===> This is NOT recommended by Basile!\n",
      "INITIAL train accuracy: 0.2100\n",
      "INITIAL test accuracy: 0.2024\n",
      "Epoch 1 / 1 ...\n"
     ]
    },
    {
     "name": "stderr",
     "output_type": "stream",
     "text": [
      "100%|██████████| 1500/1500 [00:04<00:00, 360.05it/s]\n",
      "  0%|          | 0/50 [00:00<?, ?it/s]"
     ]
    },
    {
     "name": "stdout",
     "output_type": "stream",
     "text": [
      "\n",
      "Last loss: 0.5133\n",
      "Last train accuracy: 0.8087\n",
      "Last test accuracy: 0.8120\n",
      "\n",
      "==== Interpretation: Post and Incoming Count ====\n",
      "\n",
      "Run 1 / 10...\n",
      "Count of 0: 3439  Count of 1: 2561\n",
      "Meta-learning...\n"
     ]
    },
    {
     "name": "stderr",
     "output_type": "stream",
     "text": [
      "100%|██████████| 50/50 [02:18<00:00,  2.78s/it]\n",
      "  2%|▏         | 23/1500 [00:00<00:06, 218.34it/s]"
     ]
    },
    {
     "name": "stdout",
     "output_type": "stream",
     "text": [
      "Last loss: 0.5872\n",
      "Last train accuracy: 0.5700\n",
      "Last test accuracy: 0.5742\n",
      "Count of 0: 3221  Count of 1: 2779\n",
      "Training SAME brain instance (NO backprop)...\n",
      "===> WARNING: Backprop is disabled, which means that all layers without rules will never change their weights!\n",
      "===> This is NOT recommended by Basile!\n",
      "INITIAL train accuracy: 0.5280\n",
      "INITIAL test accuracy: 0.5398\n",
      "Epoch 1 / 1 ...\n"
     ]
    },
    {
     "name": "stderr",
     "output_type": "stream",
     "text": [
      "100%|██████████| 1500/1500 [00:04<00:00, 349.71it/s]\n",
      "  0%|          | 0/50 [00:00<?, ?it/s]"
     ]
    },
    {
     "name": "stdout",
     "output_type": "stream",
     "text": [
      "\n",
      "Last loss: 0.7676\n",
      "Last train accuracy: 0.5280\n",
      "Last test accuracy: 0.5398\n",
      "\n",
      "\n",
      "Run 2 / 10...\n",
      "Count of 0: 1588  Count of 1: 4412\n",
      "Meta-learning...\n"
     ]
    },
    {
     "name": "stderr",
     "output_type": "stream",
     "text": [
      "100%|██████████| 50/50 [02:25<00:00,  2.91s/it]\n",
      "  0%|          | 0/1500 [00:00<?, ?it/s]"
     ]
    },
    {
     "name": "stdout",
     "output_type": "stream",
     "text": [
      "Last loss: 0.4775\n",
      "Last train accuracy: 0.7327\n",
      "Last test accuracy: 0.7456\n",
      "Count of 0: 503  Count of 1: 5497\n",
      "Training SAME brain instance (NO backprop)...\n",
      "===> WARNING: Backprop is disabled, which means that all layers without rules will never change their weights!\n",
      "===> This is NOT recommended by Basile!\n",
      "INITIAL train accuracy: 0.0907\n",
      "INITIAL test accuracy: 0.0816\n",
      "Epoch 1 / 1 ...\n"
     ]
    },
    {
     "name": "stderr",
     "output_type": "stream",
     "text": [
      "100%|██████████| 1500/1500 [00:03<00:00, 391.78it/s]\n",
      "  0%|          | 0/50 [00:00<?, ?it/s]"
     ]
    },
    {
     "name": "stdout",
     "output_type": "stream",
     "text": [
      "\n",
      "Last loss: 0.4092\n",
      "Last train accuracy: 0.8947\n",
      "Last test accuracy: 0.9082\n",
      "\n",
      "\n",
      "Run 3 / 10...\n",
      "Count of 0: 864  Count of 1: 5136\n",
      "Meta-learning...\n"
     ]
    },
    {
     "name": "stderr",
     "output_type": "stream",
     "text": [
      "100%|██████████| 50/50 [02:23<00:00,  2.88s/it]\n",
      "  3%|▎         | 45/1500 [00:00<00:03, 447.86it/s]"
     ]
    },
    {
     "name": "stdout",
     "output_type": "stream",
     "text": [
      "Last loss: 0.4039\n",
      "Last train accuracy: 0.8653\n",
      "Last test accuracy: 0.8651\n",
      "Count of 0: 5829  Count of 1: 171\n",
      "Training SAME brain instance (NO backprop)...\n",
      "===> WARNING: Backprop is disabled, which means that all layers without rules will never change their weights!\n",
      "===> This is NOT recommended by Basile!\n",
      "INITIAL train accuracy: 0.0407\n",
      "INITIAL test accuracy: 0.0338\n",
      "Epoch 1 / 1 ...\n"
     ]
    },
    {
     "name": "stderr",
     "output_type": "stream",
     "text": [
      "100%|██████████| 1500/1500 [00:03<00:00, 377.59it/s]\n",
      "  0%|          | 0/50 [00:00<?, ?it/s]"
     ]
    },
    {
     "name": "stdout",
     "output_type": "stream",
     "text": [
      "\n",
      "Last loss: 0.3464\n",
      "Last train accuracy: 0.9660\n",
      "Last test accuracy: 0.9733\n",
      "\n",
      "\n",
      "Run 4 / 10...\n",
      "Count of 0: 1571  Count of 1: 4429\n",
      "Meta-learning...\n"
     ]
    },
    {
     "name": "stderr",
     "output_type": "stream",
     "text": [
      "100%|██████████| 50/50 [02:25<00:00,  2.91s/it]\n",
      "  2%|▏         | 25/1500 [00:00<00:06, 240.16it/s]"
     ]
    },
    {
     "name": "stdout",
     "output_type": "stream",
     "text": [
      "Last loss: 0.4788\n",
      "Last train accuracy: 0.7320\n",
      "Last test accuracy: 0.7402\n",
      "Count of 0: 3097  Count of 1: 2903\n",
      "Training SAME brain instance (NO backprop)...\n",
      "===> WARNING: Backprop is disabled, which means that all layers without rules will never change their weights!\n",
      "===> This is NOT recommended by Basile!\n",
      "INITIAL train accuracy: 0.5333\n",
      "INITIAL test accuracy: 0.5104\n",
      "Epoch 1 / 1 ...\n"
     ]
    },
    {
     "name": "stderr",
     "output_type": "stream",
     "text": [
      "100%|██████████| 1500/1500 [00:03<00:00, 381.48it/s]\n",
      "  0%|          | 0/50 [00:00<?, ?it/s]"
     ]
    },
    {
     "name": "stdout",
     "output_type": "stream",
     "text": [
      "\n",
      "Last loss: 0.7605\n",
      "Last train accuracy: 0.5333\n",
      "Last test accuracy: 0.5104\n",
      "\n",
      "\n",
      "Run 5 / 10...\n",
      "Count of 0: 4160  Count of 1: 1840\n",
      "Meta-learning...\n"
     ]
    },
    {
     "name": "stderr",
     "output_type": "stream",
     "text": [
      "100%|██████████| 50/50 [02:23<00:00,  2.87s/it]\n",
      "  0%|          | 0/1500 [00:00<?, ?it/s]"
     ]
    },
    {
     "name": "stdout",
     "output_type": "stream",
     "text": [
      "Last loss: 0.4844\n",
      "Last train accuracy: 0.6987\n",
      "Last test accuracy: 0.6916\n",
      "Count of 0: 2948  Count of 1: 3052\n",
      "Training SAME brain instance (NO backprop)...\n",
      "===> WARNING: Backprop is disabled, which means that all layers without rules will never change their weights!\n",
      "===> This is NOT recommended by Basile!\n",
      "INITIAL train accuracy: 0.5280\n",
      "INITIAL test accuracy: 0.5182\n",
      "Epoch 1 / 1 ...\n"
     ]
    },
    {
     "name": "stderr",
     "output_type": "stream",
     "text": [
      "100%|██████████| 1500/1500 [00:03<00:00, 387.34it/s]\n",
      "  0%|          | 0/50 [00:00<?, ?it/s]"
     ]
    },
    {
     "name": "stdout",
     "output_type": "stream",
     "text": [
      "\n",
      "Last loss: 0.7572\n",
      "Last train accuracy: 0.5280\n",
      "Last test accuracy: 0.5182\n",
      "\n",
      "\n",
      "Run 6 / 10...\n",
      "Count of 0: 2342  Count of 1: 3658\n",
      "Meta-learning...\n"
     ]
    },
    {
     "name": "stderr",
     "output_type": "stream",
     "text": [
      "100%|██████████| 50/50 [02:26<00:00,  2.92s/it]\n",
      "  3%|▎         | 45/1500 [00:00<00:03, 443.63it/s]"
     ]
    },
    {
     "name": "stdout",
     "output_type": "stream",
     "text": [
      "Last loss: 0.6931\n",
      "Last train accuracy: 0.3853\n",
      "Last test accuracy: 0.3920\n",
      "Count of 0: 424  Count of 1: 5576\n",
      "Training SAME brain instance (NO backprop)...\n",
      "===> WARNING: Backprop is disabled, which means that all layers without rules will never change their weights!\n",
      "===> This is NOT recommended by Basile!\n",
      "INITIAL train accuracy: 0.0727\n",
      "INITIAL test accuracy: 0.0700\n",
      "Epoch 1 / 1 ...\n"
     ]
    },
    {
     "name": "stderr",
     "output_type": "stream",
     "text": [
      "100%|██████████| 1500/1500 [00:03<00:00, 407.44it/s]\n",
      "  0%|          | 0/50 [00:00<?, ?it/s]"
     ]
    },
    {
     "name": "stdout",
     "output_type": "stream",
     "text": [
      "\n",
      "Last loss: 0.6931\n",
      "Last train accuracy: 0.0727\n",
      "Last test accuracy: 0.0700\n",
      "\n",
      "\n",
      "Run 7 / 10...\n",
      "Count of 0: 4988  Count of 1: 1012\n",
      "Meta-learning...\n"
     ]
    },
    {
     "name": "stderr",
     "output_type": "stream",
     "text": [
      "100%|██████████| 50/50 [02:23<00:00,  2.88s/it]\n",
      "  3%|▎         | 42/1500 [00:00<00:03, 418.09it/s]"
     ]
    },
    {
     "name": "stdout",
     "output_type": "stream",
     "text": [
      "Last loss: 0.4222\n",
      "Last train accuracy: 0.8280\n",
      "Last test accuracy: 0.8324\n",
      "Count of 0: 2464  Count of 1: 3536\n",
      "Training SAME brain instance (NO backprop)...\n",
      "===> WARNING: Backprop is disabled, which means that all layers without rules will never change their weights!\n",
      "===> This is NOT recommended by Basile!\n",
      "INITIAL train accuracy: 0.5987\n",
      "INITIAL test accuracy: 0.5864\n",
      "Epoch 1 / 1 ...\n"
     ]
    },
    {
     "name": "stderr",
     "output_type": "stream",
     "text": [
      "100%|██████████| 1500/1500 [00:04<00:00, 345.38it/s]\n",
      "  0%|          | 0/50 [00:00<?, ?it/s]"
     ]
    },
    {
     "name": "stdout",
     "output_type": "stream",
     "text": [
      "\n",
      "Last loss: 0.7165\n",
      "Last train accuracy: 0.5987\n",
      "Last test accuracy: 0.5864\n",
      "\n",
      "\n",
      "Run 8 / 10...\n",
      "Count of 0: 8  Count of 1: 5992\n",
      "Meta-learning...\n"
     ]
    },
    {
     "name": "stderr",
     "output_type": "stream",
     "text": [
      "100%|██████████| 50/50 [02:27<00:00,  2.95s/it]\n",
      "  0%|          | 0/1500 [00:00<?, ?it/s]"
     ]
    },
    {
     "name": "stdout",
     "output_type": "stream",
     "text": [
      "Last loss: 0.3174\n",
      "Last train accuracy: 0.9993\n",
      "Last test accuracy: 0.9984\n",
      "Count of 0: 1986  Count of 1: 4014\n",
      "Training SAME brain instance (NO backprop)...\n",
      "===> WARNING: Backprop is disabled, which means that all layers without rules will never change their weights!\n",
      "===> This is NOT recommended by Basile!\n",
      "INITIAL train accuracy: 0.3273\n",
      "INITIAL test accuracy: 0.3322\n",
      "Epoch 1 / 1 ...\n"
     ]
    },
    {
     "name": "stderr",
     "output_type": "stream",
     "text": [
      "100%|██████████| 1500/1500 [00:04<00:00, 347.81it/s]\n",
      "  0%|          | 0/50 [00:00<?, ?it/s]"
     ]
    },
    {
     "name": "stdout",
     "output_type": "stream",
     "text": [
      "\n",
      "Last loss: 0.6373\n",
      "Last train accuracy: 0.6727\n",
      "Last test accuracy: 0.6678\n",
      "\n",
      "\n",
      "Run 9 / 10...\n",
      "Count of 0: 464  Count of 1: 5536\n",
      "Meta-learning...\n"
     ]
    },
    {
     "name": "stderr",
     "output_type": "stream",
     "text": [
      "100%|██████████| 50/50 [02:23<00:00,  2.87s/it]\n",
      "  1%|          | 18/1500 [00:00<00:08, 176.45it/s]"
     ]
    },
    {
     "name": "stdout",
     "output_type": "stream",
     "text": [
      "Last loss: 0.3782\n",
      "Last train accuracy: 0.9207\n",
      "Last test accuracy: 0.9253\n",
      "Count of 0: 886  Count of 1: 5114\n",
      "Training SAME brain instance (NO backprop)...\n",
      "===> WARNING: Backprop is disabled, which means that all layers without rules will never change their weights!\n",
      "===> This is NOT recommended by Basile!\n",
      "INITIAL train accuracy: 0.8460\n",
      "INITIAL test accuracy: 0.8558\n",
      "Epoch 1 / 1 ...\n"
     ]
    },
    {
     "name": "stderr",
     "output_type": "stream",
     "text": [
      "100%|██████████| 1500/1500 [00:03<00:00, 392.11it/s]\n",
      "  0%|          | 0/50 [00:00<?, ?it/s]"
     ]
    },
    {
     "name": "stdout",
     "output_type": "stream",
     "text": [
      "\n",
      "Last loss: 0.4573\n",
      "Last train accuracy: 0.8460\n",
      "Last test accuracy: 0.8558\n",
      "\n",
      "\n",
      "Run 10 / 10...\n",
      "Count of 0: 99  Count of 1: 5901\n",
      "Meta-learning...\n"
     ]
    },
    {
     "name": "stderr",
     "output_type": "stream",
     "text": [
      "100%|██████████| 50/50 [02:05<00:00,  2.50s/it]\n",
      "  3%|▎         | 45/1500 [00:00<00:03, 448.18it/s]"
     ]
    },
    {
     "name": "stdout",
     "output_type": "stream",
     "text": [
      "Last loss: 0.6931\n",
      "Last train accuracy: 0.0127\n",
      "Last test accuracy: 0.0178\n",
      "Count of 0: 3759  Count of 1: 2241\n",
      "Training SAME brain instance (NO backprop)...\n",
      "===> WARNING: Backprop is disabled, which means that all layers without rules will never change their weights!\n",
      "===> This is NOT recommended by Basile!\n",
      "INITIAL train accuracy: 0.6053\n",
      "INITIAL test accuracy: 0.6336\n",
      "Epoch 1 / 1 ...\n"
     ]
    },
    {
     "name": "stderr",
     "output_type": "stream",
     "text": [
      "100%|██████████| 1500/1500 [00:03<00:00, 436.29it/s]"
     ]
    },
    {
     "name": "stdout",
     "output_type": "stream",
     "text": [
      "\n",
      "Last loss: 0.6931\n",
      "Last train accuracy: 0.6053\n",
      "Last test accuracy: 0.6336\n",
      "\n"
     ]
    },
    {
     "name": "stderr",
     "output_type": "stream",
     "text": [
      "\n"
     ]
    }
   ],
   "source": [
    "# Evaluate models.\n",
    "print('==== Original RNN (very different from all the rest) ====')\n",
    "stats_rnn_up, stats_rnn_down = evaluate_brain(\n",
    "    brain_rnn_fact, n, dataset=dataset,\n",
    "    num_runs=num_runs, num_rule_epochs=num_rule_epochs,\n",
    "    num_epochs_upstream=num_epochs_upstream, num_epochs_downstream=num_epochs_downstream)\n",
    "print('==== Interpretation: Pre and Post ====')\n",
    "stats_prepost_up, stats_prepost_down = evaluate_brain(\n",
    "    brain_prepost_fact, n, dataset=dataset,\n",
    "    num_runs=num_runs, num_rule_epochs=num_rule_epochs,\n",
    "    num_epochs_upstream=num_epochs_upstream, num_epochs_downstream=num_epochs_downstream)\n",
    "print('==== Interpretation: Pre and Post and Incoming Count ====')\n",
    "stats_prepostcount_up, stats_prepostcount_down = evaluate_brain(\n",
    "    brain_prepostcount_fact, n, dataset=dataset,\n",
    "    num_runs=num_runs, num_rule_epochs=num_rule_epochs,\n",
    "    num_epochs_upstream=num_epochs_upstream, num_epochs_downstream=num_epochs_downstream)\n",
    "print('==== Interpretation: Pre and Post and Binned Incoming Fraction ====')\n",
    "stats_prepostpercent_up, stats_prepostpercent_down = evaluate_brain(\n",
    "    brain_prepostpercent_fact, n, dataset=dataset,\n",
    "    num_runs=num_runs, num_rule_epochs=num_rule_epochs,\n",
    "    num_epochs_upstream=num_epochs_upstream, num_epochs_downstream=num_epochs_downstream)\n",
    "print('==== Interpretation: Post and Incoming Count ====')\n",
    "stats_postcount_up, stats_postcount_down = evaluate_brain(\n",
    "    brain_postcount_fact, n, dataset=dataset,\n",
    "    num_runs=num_runs, num_rule_epochs=num_rule_epochs,\n",
    "    num_epochs_upstream=num_epochs_upstream, num_epochs_downstream=num_epochs_downstream)"
   ]
  },
  {
   "cell_type": "code",
   "execution_count": 8,
   "metadata": {},
   "outputs": [
    {
     "name": "stdout",
     "output_type": "stream",
     "text": [
      "Saving figure to: figs/comparing_single_rnn_relu\n"
     ]
    },
    {
     "data": {
      "image/png": "[encoded data removed]",
      "text/plain": [
       "<Figure size 720x288 with 2 Axes>"
      ]
     },
     "metadata": {},
     "output_type": "display_data"
    },
    {
     "name": "stdout",
     "output_type": "stream",
     "text": [
      "Mean essential stats across all runs:\n",
      "Last upstream loss: 0.4353\n",
      "Last upstream train accuracy: 0.8733\n",
      "Last upstream test accuracy: 0.8728\n",
      "Last downstream loss: 0.6471\n",
      "Last downstream train accuracy: 0.6507\n",
      "Last downstream test accuracy: 0.6508\n",
      "\n",
      "Saving figure to: figs/comparing_single_prepost_relu\n"
     ]
    },
    {
     "data": {
      "image/png": "[encoded data removed]",
      "text/plain": [
       "<Figure size 720x288 with 2 Axes>"
      ]
     },
     "metadata": {},
     "output_type": "display_data"
    },
    {
     "name": "stdout",
     "output_type": "stream",
     "text": [
      "Mean essential stats across all runs:\n",
      "Last upstream loss: 0.4970\n",
      "Last upstream train accuracy: 0.6993\n",
      "Last upstream test accuracy: 0.6914\n",
      "Last downstream loss: 0.5977\n",
      "Last downstream train accuracy: 0.6751\n",
      "Last downstream test accuracy: 0.6698\n",
      "\n",
      "Saving figure to: figs/comparing_single_prepostcount_relu\n"
     ]
    },
    {
     "data": {
      "image/png": "[encoded data removed]",
      "text/plain": [
       "<Figure size 720x288 with 2 Axes>"
      ]
     },
     "metadata": {},
     "output_type": "display_data"
    },
    {
     "name": "stdout",
     "output_type": "stream",
     "text": [
      "Mean essential stats across all runs:\n",
      "Last upstream loss: 0.4480\n",
      "Last upstream train accuracy: 0.8011\n",
      "Last upstream test accuracy: 0.8014\n",
      "Last downstream loss: 0.6279\n",
      "Last downstream train accuracy: 0.6797\n",
      "Last downstream test accuracy: 0.6883\n",
      "\n",
      "Saving figure to: figs/comparing_single_prepostpercent_relu\n"
     ]
    },
    {
     "data": {
      "image/png": "[encoded data removed]",
      "text/plain": [
       "<Figure size 720x288 with 2 Axes>"
      ]
     },
     "metadata": {},
     "output_type": "display_data"
    },
    {
     "name": "stdout",
     "output_type": "stream",
     "text": [
      "Mean essential stats across all runs:\n",
      "Last upstream loss: 0.4821\n",
      "Last upstream train accuracy: 0.8359\n",
      "Last upstream test accuracy: 0.8328\n",
      "Last downstream loss: 0.6368\n",
      "Last downstream train accuracy: 0.6195\n",
      "Last downstream test accuracy: 0.6174\n",
      "\n",
      "Saving figure to: figs/comparing_single_postcount_relu\n"
     ]
    },
    {
     "data": {
      "image/png": "[encoded data removed]",
      "text/plain": [
       "<Figure size 720x288 with 2 Axes>"
      ]
     },
     "metadata": {},
     "output_type": "display_data"
    },
    {
     "name": "stdout",
     "output_type": "stream",
     "text": [
      "Mean essential stats across all runs:\n",
      "Last upstream loss: 0.4936\n",
      "Last upstream train accuracy: 0.6745\n",
      "Last upstream test accuracy: 0.6783\n",
      "Last downstream loss: 0.6238\n",
      "Last downstream train accuracy: 0.6245\n",
      "Last downstream test accuracy: 0.6264\n",
      "\n"
     ]
    }
   ],
   "source": [
    "# Plot aggregated stats.\n",
    "agg_stats_rnn_up = convert_multi_stats_uncertainty(stats_rnn_up)\n",
    "agg_stats_rnn_down = convert_multi_stats_uncertainty(stats_rnn_down)\n",
    "plot_curves(agg_stats_rnn_up, agg_stats_rnn_down,\n",
    "            '[RNN] Upstream meta-learning on ' + dataset,\n",
    "            '[RNN] Downstream training on ' + dataset,\n",
    "            'figs/comparing_single_rnn_' + dataset)\n",
    "agg_stats_prepost_up = convert_multi_stats_uncertainty(stats_prepost_up)\n",
    "agg_stats_prepost_down = convert_multi_stats_uncertainty(stats_prepost_down)\n",
    "plot_curves(agg_stats_prepost_up, agg_stats_prepost_down,\n",
    "            '[PrePost] Upstream meta-learning on ' + dataset,\n",
    "            '[PrePost] Downstream training on ' + dataset,\n",
    "            'figs/comparing_single_prepost_' + dataset)\n",
    "agg_stats_prepostcount_up = convert_multi_stats_uncertainty(stats_prepostcount_up)\n",
    "agg_stats_prepostcount_down = convert_multi_stats_uncertainty(stats_prepostcount_down)\n",
    "plot_curves(agg_stats_prepostcount_up, agg_stats_prepostcount_down,\n",
    "            '[PrePostCount] Upstream meta-learning on ' + dataset,\n",
    "            '[PrePostCount] Downstream training on ' + dataset,\n",
    "            'figs/comparing_single_prepostcount_' + dataset)\n",
    "agg_stats_prepostpercent_up = convert_multi_stats_uncertainty(stats_prepostpercent_up)\n",
    "agg_stats_prepostpercent_down = convert_multi_stats_uncertainty(stats_prepostpercent_down)\n",
    "plot_curves(agg_stats_prepostpercent_up, agg_stats_prepostpercent_down,\n",
    "            '[PrePostPercent] Upstream meta-learning on ' + dataset,\n",
    "            '[PrePostPercent] Downstream training on ' + dataset,\n",
    "            'figs/comparing_single_prepostpercent_' + dataset)\n",
    "agg_stats_postcount_up = convert_multi_stats_uncertainty(stats_postcount_up)\n",
    "agg_stats_postcount_down = convert_multi_stats_uncertainty(stats_postcount_down)\n",
    "plot_curves(agg_stats_postcount_up, agg_stats_postcount_down,\n",
    "            '[PostCount] Upstream meta-learning on ' + dataset,\n",
    "            '[PostCount] Downstream training on ' + dataset,\n",
    "            'figs/comparing_single_postcount_' + dataset)"
   ]
  },
  {
   "cell_type": "code",
   "execution_count": 9,
   "metadata": {},
   "outputs": [
    {
     "name": "stdout",
     "output_type": "stream",
     "text": [
      "Saving figure to: figs/comparing_single_table_relu\n"
     ]
    },
    {
     "data": {
      "image/png": "[encoded data removed]",
      "text/plain": [
       "<Figure size 720x288 with 2 Axes>"
      ]
     },
     "metadata": {},
     "output_type": "display_data"
    }
   ],
   "source": [
    "# Plot to compare all.\n",
    "all_stats_up = [agg_stats_rnn_up, agg_stats_prepost_up, agg_stats_prepostcount_up, agg_stats_prepostpercent_up, agg_stats_postcount_up]\n",
    "all_stats_down = [agg_stats_rnn_down, agg_stats_prepost_down, agg_stats_prepostcount_down, agg_stats_prepostpercent_down, agg_stats_postcount_down]\n",
    "labels = ['RNN', 'PrePost', 'PrePostCount', 'PrePostPercent', 'PostCount']\n",
    "plot_compare_models(all_stats_up, all_stats_down, labels,\n",
    "                    'Upstream meta-learning on ' + dataset,\n",
    "                    'Downstream training on ' + dataset,\n",
    "                    'figs/comparing_single_table_' + dataset)"
   ]
  },
  {
   "cell_type": "markdown",
   "metadata": {},
   "source": [
    "## Evaluate all small-ANN-based feed-forward networks."
   ]
  },
  {
   "cell_type": "code",
   "execution_count": null,
   "metadata": {},
   "outputs": [],
   "source": []
  }
 ],
 "metadata": {
  "kernelspec": {
   "display_name": "Python 3",
   "language": "python",
   "name": "python3"
  },
  "language_info": {
   "codemirror_mode": {
    "name": "ipython",
    "version": 3
   },
   "file_extension": ".py",
   "mimetype": "text/x-python",
   "name": "python",
   "nbconvert_exporter": "python",
   "pygments_lexer": "ipython3",
   "version": "3.7.7"
  }
 },
 "nbformat": 4,
 "nbformat_minor": 4
}
