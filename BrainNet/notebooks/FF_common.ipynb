{
 "cells": [
  {
   "cell_type": "markdown",
   "metadata": {},
   "source": [
    "## Some useful code for sharing across our notebooks.\n",
    "\n",
    "Created by Basile Van Hoorick, Fall 2020.\n",
    "\n",
    "To import, type in the first code cell:\n",
    "\n",
    "%run FF_common.ipynb"
   ]
  },
  {
   "cell_type": "code",
   "execution_count": 1,
   "metadata": {},
   "outputs": [],
   "source": [
    "# Library imports.\n",
    "import matplotlib.pyplot as plt\n",
    "import sys\n",
    "\n",
    "sys.path.append('../')\n",
    "plt.style.use('seaborn')\n",
    "prop_cycle = plt.rcParams['axes.prop_cycle']\n",
    "default_colors = prop_cycle.by_key()['color']  # NOTE: Only six colors.\n",
    "\n",
    "# Repository imports.\n",
    "# NOTE: All functionality moved in here:\n",
    "from eval_util import *"
   ]
  },
  {
   "cell_type": "code",
   "execution_count": null,
   "metadata": {},
   "outputs": [],
   "source": []
  }
 ],
 "metadata": {
  "kernelspec": {
   "display_name": "Python 3",
   "language": "python",
   "name": "python3"
  },
  "language_info": {
   "codemirror_mode": {
    "name": "ipython",
    "version": 3
   },
   "file_extension": ".py",
   "mimetype": "text/x-python",
   "name": "python",
   "nbconvert_exporter": "python",
   "pygments_lexer": "ipython3",
   "version": "3.6.12"
  }
 },
 "nbformat": 4,
 "nbformat_minor": 4
}
