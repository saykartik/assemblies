{
 "cells": [
  {
   "cell_type": "code",
   "execution_count": 1,
   "metadata": {},
   "outputs": [],
   "source": [
    "# Library imports\n",
    "import nltk\n",
    "import numpy as np\n",
    "import pandas as pd\n",
    "import pickle\n",
    "import sys\n",
    "from sklearn.metrics import f1_score, accuracy_score\n",
    "from sklearn.preprocessing import LabelEncoder\n",
    "from sklearn.model_selection import train_test_split\n",
    "import torch\n",
    "import torch.nn as nn\n",
    "import torch.optim as optim\n",
    "from torch.utils.data import Dataset, DataLoader\n",
    "sys.path.append('../')\n",
    "\n",
    "# Repository imports.\n",
    "import LanguageUtils as utils\n",
    "import LanguageModels\n",
    "from LanguageModels import DenseNetwork, RecurrentNetwork\n",
    "import LocalNetBase\n",
    "import network\n",
    "import train\n",
    "\n",
    "%run FF_common.ipynb"
   ]
  },
  {
   "cell_type": "code",
   "execution_count": 2,
   "metadata": {},
   "outputs": [
    {
     "data": {
      "text/plain": [
       "<torch._C.Generator at 0x1b661d4a060>"
      ]
     },
     "execution_count": 2,
     "metadata": {},
     "output_type": "execute_result"
    }
   ],
   "source": [
    "BATCH_SIZE = 100\n",
    "# Global definitions - data\n",
    "DATA_FN = '../data/crowdflower_data.csv'\n",
    "LABEL_NAMES = [\"happiness\", \"worry\", \"neutral\", \"sadness\"]\n",
    "\n",
    "# Global definitions - architecture\n",
    "EMBEDDING_DIM = 100  # We will use pretrained 100-dimensional GloVe\n",
    "NUM_CLASSES = 4\n",
    "USE_CUDA = torch.cuda.is_available()  # CUDA will be available if using GPU\n",
    "\n",
    "# Global definitions - saving and loading data\n",
    "FRESH_START = False  # set this to false after running once with True to just load your preprocessed data from file\n",
    "#                     (good for debugging)\n",
    "TEMP_FILE = \"temporary_data.pkl\"  # if you set FRESH_START to false, the program will look here for your data, etc.\n",
    "\n",
    "# Make runs consistent (optional)\n",
    "np.random.seed(42)\n",
    "torch.manual_seed(42)"
   ]
  },
  {
   "cell_type": "code",
   "execution_count": 3,
   "metadata": {},
   "outputs": [],
   "source": [
    "def train_model(model, loss_fn, optimizer, train_generator, dev_generator):\n",
    "    \"\"\"\n",
    "    Perform the actual training of the model based on the train and dev sets.\n",
    "    :param model: one of your models, to be trained to perform 4-way emotion classification\n",
    "    :param loss_fn: a function that can calculate loss between the predicted and gold labels\n",
    "    :param optimizer: a created optimizer you will use to update your model weights\n",
    "    :param train_generator: a DataLoader that provides batches of the training set\n",
    "    :param dev_generator: a DataLoader that provides batches of the development set\n",
    "    :return model, the trained model\n",
    "    \"\"\"\n",
    "    # Given a model, data, and loss function:\n",
    "    # 1) Loop through the whole train dataset performing batch optimization with the optimizer of your choice,\n",
    "    # updating the model parameters with each batch (we suggest you use torch.optim.Adam to start);\n",
    "    # 2) Each time you reach the end of the train dataset (one \"epoch\"), calculate the loss on the whole dev set;\n",
    "    # 3) stop training and return the model once the development loss stops improving (called early stopping).\n",
    "    # Print the dev set loss each epoch to stdout.\n",
    "    # Keep track of the loss\n",
    "    prev_loss = torch.ones(1) * 1e30 # Initialize high previous cost value\n",
    "    model = model.train()\n",
    "#     epoch_count = 0\n",
    "    while True:\n",
    "        for X_train, y_train in train_generator:\n",
    "            optimizer.zero_grad()  # Zero the gradient buffers\n",
    "            # model.zero_grad()  # Zero the gradient buffers\n",
    "            output = model(X_train)\n",
    "            train_loss = loss_fn(output.double(), y_train.long())\n",
    "            train_loss.backward() # Backpropagation\n",
    "            optimizer.step()  # Does the update\n",
    "#         epoch_count += 1\n",
    "        # Calculate development loss for this epoch\n",
    "        with torch.no_grad():\n",
    "            loss = torch.zeros(1)\n",
    "            for X_dev, y_dev in dev_generator:\n",
    "                # Predict\n",
    "                y_pred = model(X_dev)\n",
    "                # Get dev loss for this batch\n",
    "                loss += loss_fn(y_pred.double(), y_dev.long()).data\n",
    "            print(\"Development Loss: \" + str(loss))\n",
    "            # Implement early stopping\n",
    "            if loss >= prev_loss:\n",
    "                break\n",
    "            prev_loss = loss\n",
    "#     print(epoch_count)\n",
    "    return model"
   ]
  },
  {
   "cell_type": "code",
   "execution_count": 4,
   "metadata": {},
   "outputs": [],
   "source": [
    "def test_model(model, loss_fn, test_generator):\n",
    "    \"\"\"\n",
    "    Evaluate the performance of a model on the development set, providing the loss and macro F1 score.\n",
    "    :param model: a model that performs 4-way emotion classification\n",
    "    :param loss_fn: a function that can calculate loss between the predicted and gold labels\n",
    "    :param test_generator: a DataLoader that provides batches of the testing set\n",
    "    \"\"\"\n",
    "    gold = []\n",
    "    predicted = []\n",
    "\n",
    "    # Keep track of the loss\n",
    "    loss = torch.zeros(1)  # requires_grad = False by default; float32 by default\n",
    "    if USE_CUDA:\n",
    "        loss = loss.cuda()\n",
    "\n",
    "    model.eval()\n",
    "\n",
    "    # Iterate over batches in the test dataset\n",
    "    with torch.no_grad():\n",
    "        for X_b, y_b in test_generator:\n",
    "            # Predict\n",
    "            y_pred = model(X_b)\n",
    "\n",
    "            # Save gold and predicted labels for F1 score - take the argmax to convert to class labels\n",
    "            gold.extend(y_b.cpu().detach().numpy())\n",
    "            predicted.extend(y_pred.argmax(1).cpu().detach().numpy())\n",
    "\n",
    "            loss += loss_fn(y_pred.double(), y_b.long()).data\n",
    "\n",
    "    # Print total loss and macro F1 score\n",
    "    print(\"Test loss: \")\n",
    "    print(loss)\n",
    "    print(\"F-score: \")\n",
    "    print(f1_score(gold, predicted, average='macro'))\n",
    "    print(\"Accuracy score: \")\n",
    "    print(accuracy_score(gold, predicted))"
   ]
  },
  {
   "cell_type": "markdown",
   "metadata": {},
   "source": [
    "## Prepare the data and the pretrained embedding matrix"
   ]
  },
  {
   "cell_type": "code",
   "execution_count": 5,
   "metadata": {},
   "outputs": [
    {
     "name": "stdout",
     "output_type": "stream",
     "text": [
      "  sentiment                                            content\n",
      "0   sadness  Layin n bed with a headache  ughhhh...waitin o...\n",
      "1   sadness                Funeral ceremony...gloomy friday...\n",
      "2   neutral  @dannycastillo We want to trade with someone w...\n",
      "3     worry  Re-pinging @ghostridah14: why didn't you go to...\n",
      "4   sadness  I should be sleep, but im not! thinking about ...\n",
      "neutral      8638\n",
      "worry        8459\n",
      "happiness    5209\n",
      "sadness      5165\n",
      "Name: sentiment, dtype: int64\n",
      "neutral      4319\n",
      "worry        4229\n",
      "happiness    2604\n",
      "sadness      2583\n",
      "Name: sentiment, dtype: int64\n",
      "neutral      4319\n",
      "worry        4230\n",
      "happiness    2605\n",
      "sadness      2582\n",
      "Name: sentiment, dtype: int64\n",
      "neutral    4319\n",
      "worry      4229\n",
      "dtype: int64\n"
     ]
    }
   ],
   "source": [
    "df = pd.read_csv(DATA_FN)\n",
    "print(df.head())\n",
    "class_labels = df['sentiment'].values.tolist()\n",
    "class_labels_set = set(class_labels)\n",
    "print(df['sentiment'].value_counts()) # print distribution of labels\n",
    "\n",
    "# split dataset set into evenly distributed upstraem and downstream subsets\n",
    "X = df['content']\n",
    "y = df['sentiment']\n",
    "x_upstream, x_downstream, y_upstream, y_downstream = train_test_split(X, y, test_size=0.5, random_state=42, stratify=y)\n",
    "print(y_upstream.value_counts())\n",
    "print(y_downstream.value_counts())\n",
    "\n",
    "# create upstream dataset consisting of two emotions \n",
    "x_upstream_list = x_upstream.tolist()\n",
    "y_upstream_list = y_upstream.tolist()\n",
    "\n",
    "x_upstream_two_class = []\n",
    "y_upstream_two_class = []\n",
    "for i in range(1, len(y_upstream)):\n",
    "    if y_upstream_list[i] in {\"worry\", \"neutral\"}:\n",
    "        x_upstream_two_class.append(x_upstream_list[i])\n",
    "        y_upstream_two_class.append(y_upstream_list[i])\n",
    "x_upstream_two_class = pd.Series(x_upstream_two_class)\n",
    "y_upstream_two_class = pd.Series(y_upstream_two_class)\n",
    "print(y_upstream_two_class.value_counts())"
   ]
  },
  {
   "cell_type": "code",
   "execution_count": 6,
   "metadata": {},
   "outputs": [],
   "source": [
    "# Convert Series to Dataframes\n",
    "upstream_df = pd.concat([x_upstream, y_upstream], axis=1)\n",
    "downstream_df = pd.concat([x_downstream, y_downstream], axis=1)\n",
    "upstream_2class_df = pd.concat([x_upstream_two_class.rename('content'), y_upstream_two_class.rename('sentiment')], axis=1)"
   ]
  },
  {
   "cell_type": "code",
   "execution_count": 7,
   "metadata": {},
   "outputs": [
    {
     "name": "stdout",
     "output_type": "stream",
     "text": [
      "                                                 content  sentiment\n",
      "246    I spilled my beer all over my leg. Wasted half...  happiness\n",
      "9734   @vlastikb logically, yes. i just have to find ...    neutral\n",
      "25631  @aami1982 probably a bit short on the rude wor...    neutral\n",
      "10387  Draining my iPhone battery in half a day witho...    sadness\n",
      "14987  @eddyhendergrass that sounds like the scariest...      worry\n",
      "                                             content sentiment\n",
      "0  guess i wasnt on next. now im in 2 songs. 3 gu...   neutral\n",
      "1  just thought of a spanish name that she will p...   neutral\n",
      "2  5 things this Twitterer could do without  http...   neutral\n",
      "3  #millsthemusical  @lauzzaa i hope you've liste...   neutral\n",
      "4               and its over now  watch on now? hmmm   neutral\n"
     ]
    }
   ],
   "source": [
    "print(downstream_df.head())\n",
    "print(upstream_2class_df.head())"
   ]
  },
  {
   "cell_type": "code",
   "execution_count": 8,
   "metadata": {},
   "outputs": [
    {
     "name": "stdout",
     "output_type": "stream",
     "text": [
      "Loading DataLoaders and embeddings from file....\n"
     ]
    }
   ],
   "source": [
    "if FRESH_START:\n",
    "    print(\"Preprocessing all data from scratch....\")\n",
    "    training, dev, test = utils.get_data(DATA_FN)\n",
    "\n",
    "    # train_data includes .word2idx and .label_enc as fields if you would like to use them at any time\n",
    "    # get embeddings over whole dataset\n",
    "    _train_generator, _dev_generator, _test_generator, embeddings, _train_data, _test_data = utils.vectorize_data(training, dev, test,\n",
    "                                                                                            BATCH_SIZE,\n",
    "                                                                                            EMBEDDING_DIM)\n",
    "    \n",
    "    # get generators and vectors for downstream\n",
    "    training, dev, test = np.split(downstream_df.sample(frac=1, random_state=42), [int(.8 * len(downstream_df)), int(.9 * len(downstream_df))])\n",
    "    train_generator, dev_generator, test_generator, _embeddings, train_data_downstream, test_data_downstream = utils.vectorize_data(training, dev, test,\n",
    "                                                                                            BATCH_SIZE,\n",
    "                                                                                            EMBEDDING_DIM,\n",
    "                                                                                            create_embedding = False)\n",
    "    \n",
    "    # get vectors for upstream\n",
    "    training, test = np.split(upstream_df.sample(frac=1, random_state=42), [int(.8 * len(upstream_df))])\n",
    "    _train_generator, _dev_generator, _test_generator, _embeddings, train_data_upstream, test_data_upstream = utils.vectorize_data(training, pd.DataFrame(), test,\n",
    "                                                                                            BATCH_SIZE,\n",
    "                                                                                            EMBEDDING_DIM,\n",
    "                                                                                            create_embedding = False)\n",
    "    # get vectors for 2 class upstream\n",
    "    training, test = np.split(upstream_2class_df.sample(frac=1, random_state=42), [int(.8 * len(upstream_2class_df))])\n",
    "    _train_generator, _dev_generator, _test_generator, _embeddings, train_data_upstream_two_class, test_data_upstream_two_class = utils.vectorize_data(training, pd.DataFrame(), test,\n",
    "                                                                                            BATCH_SIZE,\n",
    "                                                                                            EMBEDDING_DIM,\n",
    "                                                                                            create_embedding = False)\n",
    "    \n",
    "    print(\"Saving DataLoaders and embeddings so you don't need to create them again; you can set FRESH_START to \"\n",
    "          \"False to load them from file....\")\n",
    "    with open(TEMP_FILE, \"wb+\") as f:\n",
    "        pickle.dump((train_generator, dev_generator, test_generator, embeddings, train_data_downstream, test_data_downstream, train_data_upstream, test_data_upstream, train_data_upstream_two_class, test_data_upstream_two_class), f)\n",
    "else:\n",
    "    try:\n",
    "        with open(TEMP_FILE, \"rb\") as f:\n",
    "            print(\"Loading DataLoaders and embeddings from file....\")\n",
    "            train_generator, dev_generator, test_generator, embeddings, train_data_downstream, test_data_downstream, train_data_upstream, test_data_upstream, train_data_upstream_two_class, test_data_upstream_two_class = pickle.load(f)\n",
    "    except FileNotFoundError:\n",
    "        raise FileNotFoundError(\"You need to have saved your data with FRESH_START=True once in order to load it!\")"
   ]
  },
  {
   "cell_type": "code",
   "execution_count": 9,
   "metadata": {},
   "outputs": [],
   "source": [
    "loss_fn = nn.CrossEntropyLoss() # use cross entropy loss"
   ]
  },
  {
   "cell_type": "markdown",
   "metadata": {},
   "source": [
    "## Train and test baseline models"
   ]
  },
  {
   "cell_type": "code",
   "execution_count": 10,
   "metadata": {},
   "outputs": [
    {
     "name": "stdout",
     "output_type": "stream",
     "text": [
      "Development Loss: tensor([18.6051])\n",
      "Development Loss: tensor([18.4652])\n",
      "Development Loss: tensor([18.2042])\n",
      "Development Loss: tensor([18.0071])\n",
      "Development Loss: tensor([17.8761])\n",
      "Development Loss: tensor([17.8123])\n",
      "Development Loss: tensor([17.7948])\n",
      "Development Loss: tensor([17.8291])\n",
      "Test loss: \n",
      "tensor([17.9553])\n",
      "F-score: \n",
      "0.3773697139222169\n",
      "Accuracy score: \n",
      "0.4556040756914119\n"
     ]
    }
   ],
   "source": [
    "# Create dense network\n",
    "dnn = DenseNetwork(embeddings)\n",
    "# Optimizer\n",
    "optimizer = optim.Adam(dnn.parameters())\n",
    "trained_dnn = train_model(dnn, loss_fn, optimizer, train_generator, dev_generator)\n",
    "test_model(trained_dnn, loss_fn, test_generator)\n",
    "torch.save(trained_dnn, \"dense.pth\") # Save model\n",
    "\n",
    "# test_model(torch.load(\"dense.pth\"), loss_fn, test_generator) # evaluate saved model"
   ]
  },
  {
   "cell_type": "code",
   "execution_count": 11,
   "metadata": {},
   "outputs": [
    {
     "name": "stderr",
     "output_type": "stream",
     "text": [
      "..\\LanguageModels.py:50: UserWarning: This overload of nonzero is deprecated:\n",
      "\tnonzero()\n",
      "Consider using one of the following signatures instead:\n",
      "\tnonzero(*, bool as_tuple) (Triggered internally at  ..\\torch\\csrc\\utils\\python_arg_parser.cpp:882.)\n",
      "  padded_indices = (sentence == 0).nonzero()\n"
     ]
    },
    {
     "name": "stdout",
     "output_type": "stream",
     "text": [
      "Development Loss: tensor([18.1619])\n",
      "Development Loss: tensor([18.0986])\n",
      "Development Loss: tensor([18.1850])\n",
      "Test loss: \n",
      "tensor([18.1834])\n",
      "F-score: \n",
      "0.3552635057862385\n",
      "Accuracy score: \n",
      "0.4359534206695779\n"
     ]
    }
   ],
   "source": [
    "# Create plain recurrent network\n",
    "rnn = RecurrentNetwork(embeddings)\n",
    "# Optimizer\n",
    "optimizer = optim.Adam(rnn.parameters())\n",
    "trained_rnn = train_model(rnn, loss_fn, optimizer, train_generator, dev_generator)\n",
    "test_model(trained_rnn, loss_fn, test_generator)\n",
    "torch.save(trained_rnn, \"recurrent_plain.pth\") # Save model\n",
    "\n",
    "# test_model(torch.load(\"recurrent_plain.pth\"), loss_fn, test_generator)"
   ]
  },
  {
   "cell_type": "code",
   "execution_count": 12,
   "metadata": {},
   "outputs": [
    {
     "name": "stdout",
     "output_type": "stream",
     "text": [
      "Development Loss: tensor([18.1568])\n",
      "Development Loss: tensor([17.9343])\n",
      "Development Loss: tensor([18.0897])\n",
      "Test loss: \n",
      "tensor([18.0678])\n",
      "F-score: \n",
      "0.3860717626377735\n",
      "Accuracy score: \n",
      "0.43740902474526927\n"
     ]
    }
   ],
   "source": [
    "# Create GRU recurrent network\n",
    "rnn = RecurrentNetwork(embeddings, \"GRU\")\n",
    "# Optimizer\n",
    "optimizer = optim.Adam(rnn.parameters())\n",
    "trained_rnn = train_model(rnn, loss_fn, optimizer, train_generator, dev_generator)\n",
    "test_model(trained_rnn, loss_fn, test_generator)\n",
    "torch.save(trained_rnn, \"GRU.pth\") # Save model\n",
    "\n",
    "# test_model(torch.load(\"GRU.pth\"), loss_fn, test_generator)"
   ]
  },
  {
   "cell_type": "markdown",
   "metadata": {},
   "source": [
    "## Prepare the data"
   ]
  },
  {
   "cell_type": "code",
   "execution_count": 17,
   "metadata": {},
   "outputs": [],
   "source": [
    "embedding = nn.Embedding.from_pretrained(embeddings, freeze = False) # use pretrained glove embeddings\n",
    "\n",
    "# apply embeddings to data and pad dimensions if necessary\n",
    "def get_train_test(train_data, test_data):\n",
    "    x_train = []\n",
    "    y_train = []\n",
    "    dim_diff = len(train_data[0][0]) - len(test_data[0][0]) # dimension difference of the two sets\n",
    "    for sample in train_data:\n",
    "        x = embedding(sample[0])\n",
    "        x = torch.sum(x, dim=1) # Sum tensors in each row/sentence\n",
    "        x = x.detach().numpy()\n",
    "        if dim_diff < 0:\n",
    "            x = np.pad(x, (0, -dim_diff), 'constant')  # pad to match dimension of test set\n",
    "        x_train.append(x)\n",
    "        y_train.append(sample[1])\n",
    "\n",
    "    x_train = np.asarray(x_train)\n",
    "    y_train = np.asarray(y_train)\n",
    "\n",
    "    x_test = []\n",
    "    y_test = []\n",
    "    for sample in test_data:\n",
    "        x = embedding(sample[0])\n",
    "        x = torch.sum(x, dim=1) # Sum tensors in each row/sentence\n",
    "        x = x.detach().numpy()\n",
    "        if dim_diff > 0:\n",
    "            x = np.pad(x , (0, dim_diff), 'constant') # pad to match dimension of training set\n",
    "        x_test.append(x)\n",
    "        y_test.append(sample[1])\n",
    "\n",
    "    x_test = np.asarray(x_test)\n",
    "    y_test = np.asarray(y_test)\n",
    "    dimension_size = len(x_train[0])\n",
    "    return x_train, y_train, x_test, y_test, dimension_size"
   ]
  },
  {
   "cell_type": "code",
   "execution_count": 37,
   "metadata": {},
   "outputs": [],
   "source": [
    "# get training and test sets\n",
    "x_train, y_train, x_test, y_test, dim_size = get_train_test(train_data_upstream, test_data_upstream)"
   ]
  },
  {
   "cell_type": "markdown",
   "metadata": {},
   "source": [
    "## Set up options and schemes"
   ]
  },
  {
   "cell_type": "code",
   "execution_count": 64,
   "metadata": {},
   "outputs": [
    {
     "name": "stdout",
     "output_type": "stream",
     "text": [
      "local_net input_rule:\n",
      "tensor([-0.0835,  1.0880,  0.1298, -0.2187])\n",
      "local_net rnn_rule:\n",
      "tensor([[-0.9938,  1.1516, -0.0572,  0.6391],\n",
      "        [ 1.9840,  0.0023,  0.3056,  0.6393],\n",
      "        [-0.2689,  0.4318, -0.7988,  0.5563],\n",
      "        [ 1.7809, -0.9706, -0.5370, -1.4803]])\n",
      "local_net output_rule:\n",
      "tensor([[0., 0.],\n",
      "        [0., 0.],\n",
      "        [0., 0.],\n",
      "        [0., 0.]])\n"
     ]
    }
   ],
   "source": [
    "options_upstream = LocalNetBase.Options(\n",
    "    gd_input = True,          # GD directly on input layer weights.\n",
    "    use_graph_rule = True,\n",
    "    gd_graph_rule = True,\n",
    "    use_output_rule = True,   # Use an output rule to update input layer weights.\n",
    "    gd_output_rule = True,    # Learn an output rule, or use fixed one. If GD is used, set 'use_output_rule' to True as well.\n",
    "    gd_output = False,        # GD directly on output layer weights.\n",
    "    additive_rule = True)     # If false, uses multiplicative updates.\n",
    "\n",
    "options_downstream = LocalNetBase.Options(\n",
    "    gd_input=True,\n",
    "    use_graph_rule=True,\n",
    "    gd_graph_rule=False,  # Not meta-trainable anymore!\n",
    "    use_output_rule=False,\n",
    "    gd_output_rule=False,  # Not meta-trainable anymore!\n",
    "    gd_output=True,\n",
    "    use_softmax=True)\n",
    "\n",
    "scheme_rnn = LocalNetBase.UpdateScheme(\n",
    "    cross_entropy_loss = True,      # By default, uses cross entropy loss.\n",
    "    mse_loss = False,\n",
    "    update_misclassified_only = True,    # By default only update weights when we misclassify.\n",
    "    update_all_edges = False)       # For output rule, update all edges, or only edge to correct and predicted label.\n",
    "\n",
    "scheme_ff = LocalNetBase.UpdateScheme(\n",
    "    cross_entropy_loss = True,      \n",
    "    mse_loss = False,\n",
    "    update_misclassified_only = False,    \n",
    "    update_all_edges = True)     \n",
    "\n",
    "local_net = network.LocalNet(n = dim_size,  # number of input features (= dimension)\n",
    "                             m = 4,  # number of possible labels\n",
    "                             num_v = 70,  # number of nodes in graph\n",
    "                             p = .5,  # probability that an edge exists in the graph\n",
    "                             cap = 35,  # choose top 'cap' nodes which fire\n",
    "                             rounds = 1,  # number of times the graph 'fires'\n",
    "                             options = options_upstream, update_scheme = scheme_rnn)\n",
    "    \n",
    "print('local_net input_rule:')\n",
    "print(local_net.input_rule)  # 2^T, randomly initialized\n",
    "print('local_net rnn_rule:')\n",
    "print(local_net.get_rnn_rule())  # 2^T x 2^T, randomly initialized\n",
    "print('local_net output_rule:')\n",
    "print(local_net.get_output_rule())  # 2^T x 2, all zero"
   ]
  },
  {
   "cell_type": "markdown",
   "metadata": {},
   "source": [
    "## Meta-learn Upstream data"
   ]
  },
  {
   "cell_type": "code",
   "execution_count": 39,
   "metadata": {},
   "outputs": [
    {
     "name": "stderr",
     "output_type": "stream",
     "text": [
      "\r",
      "  0%|                                                                                            | 0/8 [00:00<?, ?it/s]"
     ]
    },
    {
     "name": "stdout",
     "output_type": "stream",
     "text": [
      "Start meta-learning over outer (rule) epochs...\n"
     ]
    },
    {
     "name": "stderr",
     "output_type": "stream",
     "text": [
      "\r",
      " 12%|██████████▌                                                                         | 1/8 [01:00<07:03, 60.49s/it]"
     ]
    },
    {
     "name": "stdout",
     "output_type": "stream",
     "text": [
      "Acc of class 0 : 0.0000\n",
      "Acc of class 1 : 0.1269\n",
      "Acc of class 2 : 0.0000\n",
      "Acc of class 3 : 0.8898\n",
      "Train accuracy: 0.2542\n",
      "Acc of class 0 : 0.0000\n",
      "Acc of class 1 : 0.1609\n",
      "Acc of class 2 : 0.0000\n",
      "Acc of class 3 : 0.8479\n",
      "Test accuracy: 0.2522\n",
      "Current loss: 1.3581\n",
      "Mean loss so far: 1.3581\n"
     ]
    },
    {
     "name": "stderr",
     "output_type": "stream",
     "text": [
      "\r",
      " 25%|█████████████████████                                                               | 2/8 [02:01<06:04, 60.73s/it]"
     ]
    },
    {
     "name": "stdout",
     "output_type": "stream",
     "text": [
      "Acc of class 0 : 0.1246\n",
      "Acc of class 1 : 0.5343\n",
      "Acc of class 2 : 0.2018\n",
      "Acc of class 3 : 0.2313\n",
      "Train accuracy: 0.2730\n",
      "Acc of class 0 : 0.0970\n",
      "Acc of class 1 : 0.5254\n",
      "Acc of class 2 : 0.1996\n",
      "Acc of class 3 : 0.2156\n",
      "Test accuracy: 0.2594\n",
      "Current loss: 1.3289\n",
      "Mean loss so far: 1.3435\n"
     ]
    },
    {
     "name": "stderr",
     "output_type": "stream",
     "text": [
      "\r",
      " 38%|███████████████████████████████▌                                                    | 3/8 [03:02<05:03, 60.65s/it]"
     ]
    },
    {
     "name": "stdout",
     "output_type": "stream",
     "text": [
      "Acc of class 0 : 0.2392\n",
      "Acc of class 1 : 0.4770\n",
      "Acc of class 2 : 0.1596\n",
      "Acc of class 3 : 0.2192\n",
      "Train accuracy: 0.2738\n",
      "Acc of class 0 : 0.1958\n",
      "Acc of class 1 : 0.4828\n",
      "Acc of class 2 : 0.1719\n",
      "Acc of class 3 : 0.1916\n",
      "Test accuracy: 0.2605\n",
      "Current loss: 1.2471\n",
      "Mean loss so far: 1.3114\n"
     ]
    },
    {
     "name": "stderr",
     "output_type": "stream",
     "text": [
      "\r",
      " 50%|██████████████████████████████████████████                                          | 4/8 [04:02<04:02, 60.64s/it]"
     ]
    },
    {
     "name": "stdout",
     "output_type": "stream",
     "text": [
      "Acc of class 0 : 0.0948\n",
      "Acc of class 1 : 0.6206\n",
      "Acc of class 2 : 0.1273\n",
      "Acc of class 3 : 0.1326\n",
      "Train accuracy: 0.2438\n",
      "Acc of class 0 : 0.0970\n",
      "Acc of class 1 : 0.6095\n",
      "Acc of class 2 : 0.1109\n",
      "Acc of class 3 : 0.1521\n",
      "Test accuracy: 0.2424\n",
      "Current loss: 1.2492\n",
      "Mean loss so far: 1.2958\n"
     ]
    },
    {
     "name": "stderr",
     "output_type": "stream",
     "text": [
      "\r",
      " 62%|████████████████████████████████████████████████████▌                               | 5/8 [05:04<03:03, 61.06s/it]"
     ]
    },
    {
     "name": "stdout",
     "output_type": "stream",
     "text": [
      "Acc of class 0 : 0.2541\n",
      "Acc of class 1 : 0.2571\n",
      "Acc of class 2 : 0.1636\n",
      "Acc of class 3 : 0.3438\n",
      "Train accuracy: 0.2546\n",
      "Acc of class 0 : 0.2167\n",
      "Acc of class 1 : 0.2438\n",
      "Acc of class 2 : 0.1867\n",
      "Acc of class 3 : 0.3281\n",
      "Test accuracy: 0.2438\n",
      "Current loss: 1.2530\n",
      "Mean loss so far: 1.2873\n"
     ]
    },
    {
     "name": "stderr",
     "output_type": "stream",
     "text": [
      "\r",
      " 75%|███████████████████████████████████████████████████████████████                     | 6/8 [06:09<02:04, 62.09s/it]"
     ]
    },
    {
     "name": "stdout",
     "output_type": "stream",
     "text": [
      "Acc of class 0 : 0.0404\n",
      "Acc of class 1 : 0.4039\n",
      "Acc of class 2 : 0.1685\n",
      "Acc of class 3 : 0.3836\n",
      "Train accuracy: 0.2491\n",
      "Acc of class 0 : 0.0475\n",
      "Acc of class 1 : 0.4047\n",
      "Acc of class 2 : 0.1571\n",
      "Acc of class 3 : 0.3689\n",
      "Test accuracy: 0.2446\n",
      "Current loss: 1.2475\n",
      "Mean loss so far: 1.2806\n"
     ]
    },
    {
     "name": "stderr",
     "output_type": "stream",
     "text": [
      "\r",
      " 88%|█████████████████████████████████████████████████████████████████████████▌          | 7/8 [07:11<01:02, 62.21s/it]"
     ]
    },
    {
     "name": "stdout",
     "output_type": "stream",
     "text": [
      "Acc of class 0 : 0.1564\n",
      "Acc of class 1 : 0.3541\n",
      "Acc of class 2 : 0.1846\n",
      "Acc of class 3 : 0.2982\n",
      "Train accuracy: 0.2483\n",
      "Acc of class 0 : 0.1711\n",
      "Acc of class 1 : 0.3243\n",
      "Acc of class 2 : 0.1996\n",
      "Acc of class 3 : 0.2826\n",
      "Test accuracy: 0.2444\n",
      "Current loss: 1.2497\n",
      "Mean loss so far: 1.2762\n"
     ]
    },
    {
     "name": "stderr",
     "output_type": "stream",
     "text": [
      "100%|████████████████████████████████████████████████████████████████████████████████████| 8/8 [08:15<00:00, 61.93s/it]"
     ]
    },
    {
     "name": "stdout",
     "output_type": "stream",
     "text": [
      "Acc of class 0 : 0.2363\n",
      "Acc of class 1 : 0.4505\n",
      "Acc of class 2 : 0.1121\n",
      "Acc of class 3 : 0.2793\n",
      "Train accuracy: 0.2696\n",
      "Acc of class 0 : 0.2072\n",
      "Acc of class 1 : 0.4698\n",
      "Acc of class 2 : 0.1201\n",
      "Acc of class 3 : 0.2323\n",
      "Test accuracy: 0.2574\n",
      "Current loss: 1.2499\n",
      "Mean loss so far: 1.2729\n"
     ]
    },
    {
     "name": "stderr",
     "output_type": "stream",
     "text": [
      "\n"
     ]
    },
    {
     "data": {
      "image/png": "[encoded data removed]",
      "text/plain": [
       "<Figure size 576x396 with 1 Axes>"
      ]
     },
     "metadata": {},
     "output_type": "display_data"
    },
    {
     "data": {
      "image/png": "[encoded data removed]",
      "text/plain": [
       "<Figure size 576x396 with 1 Axes>"
      ]
     },
     "metadata": {},
     "output_type": "display_data"
    },
    {
     "data": {
      "image/png": "[encoded data removed]",
      "text/plain": [
       "<Figure size 576x396 with 1 Axes>"
      ]
     },
     "metadata": {},
     "output_type": "display_data"
    },
    {
     "name": "stdout",
     "output_type": "stream",
     "text": [
      "Last loss: 1.2499\n",
      "Last train accuracy: 0.2696\n",
      "Last test accuracy: 0.2574\n"
     ]
    }
   ],
   "source": [
    "(all_losses, all_train_acc, all_test_acc, sample_counts, other_stats) = train.metalearn_rules(\n",
    "    x_train,                      # Training inputs\n",
    "    y_train,                      # Training labels\n",
    "    local_net,              # The BrainNet\n",
    "    num_rule_epochs = 5,   # Number of meta-learning epochs\n",
    "    num_epochs = 1,         # Number of times to process a single batch\n",
    "    batch_size = 100,       # Number of samples in a batch\n",
    "    learn_rate = 1e-2,      # Learning rate\n",
    "    X_test = x_test,\n",
    "    y_test = y_test,\n",
    "    verbose = True)"
   ]
  },
  {
   "cell_type": "markdown",
   "metadata": {},
   "source": [
    "## Train and Test Downstream Classification"
   ]
  },
  {
   "cell_type": "code",
   "execution_count": 40,
   "metadata": {},
   "outputs": [],
   "source": [
    "x_train, y_train, x_test, y_test, dim_size = get_train_test(train_data_upstream_two_class, test_data_upstream_two_class)"
   ]
  },
  {
   "cell_type": "code",
   "execution_count": 41,
   "metadata": {},
   "outputs": [],
   "source": [
    "brain_net = network.LocalNet(n = dim_size,  # number of input features (= dimension)\n",
    "                             m = 4,  # number of possible labels\n",
    "                             num_v = 70,  # number of nodes in graph\n",
    "                             p = .5,  # probability that an edge exists in the graph\n",
    "                             cap = 35,  # choose top 'cap' nodes which fire\n",
    "                             rounds = 1,  # number of times the graph 'fires'\n",
    "                             options = options_downstream, update_scheme = scheme_rnn)\n",
    "\n",
    "brain_net.rnn_rule = local_net.rnn_rule\n",
    "brain_net.output_rule = local_net.output_rule"
   ]
  },
  {
   "cell_type": "code",
   "execution_count": 42,
   "metadata": {},
   "outputs": [
    {
     "name": "stderr",
     "output_type": "stream",
     "text": [
      "\r",
      "  0%|                                                                                         | 0/6838 [00:00<?, ?it/s]"
     ]
    },
    {
     "name": "stdout",
     "output_type": "stream",
     "text": [
      "===> WARNING: Backprop is disabled, which means that all layers without rules will never change their weights!\n",
      "===> This is NOT recommended by Basile!\n",
      "INITIAL train accuracy: 0.0645\n",
      "INITIAL test accuracy: 0.0614\n",
      "Epoch 1 / 5 ...\n"
     ]
    },
    {
     "name": "stderr",
     "output_type": "stream",
     "text": [
      "100%|█████████████████████████████████████████████████████████████████████████████| 6838/6838 [00:08<00:00, 839.35it/s]\n",
      "  1%|▉                                                                              | 79/6838 [00:00<00:08, 777.08it/s]"
     ]
    },
    {
     "name": "stdout",
     "output_type": "stream",
     "text": [
      "\n",
      "Epoch 2 / 5 ...\n"
     ]
    },
    {
     "name": "stderr",
     "output_type": "stream",
     "text": [
      "100%|█████████████████████████████████████████████████████████████████████████████| 6838/6838 [00:08<00:00, 772.56it/s]\n",
      "  2%|█▊                                                                            | 154/6838 [00:00<00:08, 768.77it/s]"
     ]
    },
    {
     "name": "stdout",
     "output_type": "stream",
     "text": [
      "\n",
      "Epoch 3 / 5 ...\n"
     ]
    },
    {
     "name": "stderr",
     "output_type": "stream",
     "text": [
      "100%|█████████████████████████████████████████████████████████████████████████████| 6838/6838 [00:08<00:00, 837.62it/s]\n",
      "  1%|▉                                                                              | 78/6838 [00:00<00:08, 774.81it/s]"
     ]
    },
    {
     "name": "stdout",
     "output_type": "stream",
     "text": [
      "\n",
      "Epoch 4 / 5 ...\n"
     ]
    },
    {
     "name": "stderr",
     "output_type": "stream",
     "text": [
      "100%|█████████████████████████████████████████████████████████████████████████████| 6838/6838 [00:08<00:00, 800.62it/s]\n",
      "  1%|▉                                                                              | 80/6838 [00:00<00:08, 786.95it/s]"
     ]
    },
    {
     "name": "stdout",
     "output_type": "stream",
     "text": [
      "\n",
      "Epoch 5 / 5 ...\n"
     ]
    },
    {
     "name": "stderr",
     "output_type": "stream",
     "text": [
      "100%|█████████████████████████████████████████████████████████████████████████████| 6838/6838 [00:08<00:00, 813.03it/s]"
     ]
    },
    {
     "name": "stdout",
     "output_type": "stream",
     "text": [
      "\n",
      "Last loss: 1.5411\n",
      "Last train accuracy: 0.1050\n",
      "Last test accuracy: 0.1081\n"
     ]
    },
    {
     "name": "stderr",
     "output_type": "stream",
     "text": [
      "\n"
     ]
    }
   ],
   "source": [
    "# train downstream\n",
    "(all_losses, all_train_acc, all_test_acc, sample_counts, other_stats) = train.train_downstream(\n",
    "    x_train, y_train, brain_net, num_epochs=5, batch_size=100, vanilla=False, learn_rate=1e-2,\n",
    "    X_test= x_test, y_test=y_test, verbose=False, stats_interval=3000, disable_backprop=True)"
   ]
  },
  {
   "cell_type": "markdown",
   "metadata": {},
   "source": [
    "## Generalizing from Two Classes"
   ]
  },
  {
   "cell_type": "code",
   "execution_count": 43,
   "metadata": {},
   "outputs": [],
   "source": [
    "x_train, y_train, x_test, y_test, dim_size = get_train_test(train_data_upstream_two_class, test_data_upstream_two_class)"
   ]
  },
  {
   "cell_type": "code",
   "execution_count": 44,
   "metadata": {},
   "outputs": [],
   "source": [
    "# relabeling to 0 or 1 as we only have 2 dimensions\n",
    "y_train[y_train > 1] = 0\n",
    "y_test[y_test  > 1] = 0"
   ]
  },
  {
   "cell_type": "code",
   "execution_count": 45,
   "metadata": {},
   "outputs": [],
   "source": [
    "local_net = network.LocalNet(n = dim_size,  # number of input features (= dimension)\n",
    "                             m = 2,  # number of possible labels\n",
    "                             num_v = 70,  # number of nodes in graph\n",
    "                             p = .5,  # probability that an edge exists in the graph\n",
    "                             cap = 35,  # choose top 'cap' nodes which fire\n",
    "                             rounds = 1,  # number of times the graph 'fires'\n",
    "                             options = options_upstream, update_scheme = scheme_rnn)"
   ]
  },
  {
   "cell_type": "code",
   "execution_count": 46,
   "metadata": {},
   "outputs": [
    {
     "name": "stderr",
     "output_type": "stream",
     "text": [
      "\r",
      "  0%|                                                                                            | 0/8 [00:00<?, ?it/s]"
     ]
    },
    {
     "name": "stdout",
     "output_type": "stream",
     "text": [
      "Start meta-learning over outer (rule) epochs...\n"
     ]
    },
    {
     "name": "stderr",
     "output_type": "stream",
     "text": [
      "\r",
      " 12%|██████████▌                                                                         | 1/8 [00:05<00:39,  5.58s/it]"
     ]
    },
    {
     "name": "stdout",
     "output_type": "stream",
     "text": [
      "Acc of class 0 : 0.5905\n",
      "Acc of class 1 : 0.4222\n",
      "Train accuracy: 0.5063\n",
      "Acc of class 0 : 0.5530\n",
      "Acc of class 1 : 0.4364\n",
      "Test accuracy: 0.4947\n",
      "Current loss: 0.6941\n",
      "Mean loss so far: 0.6941\n"
     ]
    },
    {
     "name": "stderr",
     "output_type": "stream",
     "text": [
      "\r",
      " 25%|█████████████████████                                                               | 2/8 [00:11<00:33,  5.56s/it]"
     ]
    },
    {
     "name": "stdout",
     "output_type": "stream",
     "text": [
      "Acc of class 0 : 0.7917\n",
      "Acc of class 1 : 0.2315\n",
      "Train accuracy: 0.5116\n",
      "Acc of class 0 : 0.7651\n",
      "Acc of class 1 : 0.2716\n",
      "Test accuracy: 0.5183\n",
      "Current loss: 0.6892\n",
      "Mean loss so far: 0.6916\n"
     ]
    },
    {
     "name": "stderr",
     "output_type": "stream",
     "text": [
      "\r",
      " 38%|███████████████████████████████▌                                                    | 3/8 [00:16<00:27,  5.50s/it]"
     ]
    },
    {
     "name": "stdout",
     "output_type": "stream",
     "text": [
      "Acc of class 0 : 0.9235\n",
      "Acc of class 1 : 0.1294\n",
      "Train accuracy: 0.5265\n",
      "Acc of class 0 : 0.9048\n",
      "Acc of class 1 : 0.1364\n",
      "Test accuracy: 0.5206\n",
      "Current loss: 0.6862\n",
      "Mean loss so far: 0.6898\n"
     ]
    },
    {
     "name": "stderr",
     "output_type": "stream",
     "text": [
      "\r",
      " 50%|██████████████████████████████████████████                                          | 4/8 [00:21<00:22,  5.51s/it]"
     ]
    },
    {
     "name": "stdout",
     "output_type": "stream",
     "text": [
      "Acc of class 0 : 0.9791\n",
      "Acc of class 1 : 0.0512\n",
      "Train accuracy: 0.5151\n",
      "Acc of class 0 : 0.9771\n",
      "Acc of class 1 : 0.0580\n",
      "Test accuracy: 0.5175\n",
      "Current loss: 0.6858\n",
      "Mean loss so far: 0.6888\n"
     ]
    },
    {
     "name": "stderr",
     "output_type": "stream",
     "text": [
      "\r",
      " 62%|████████████████████████████████████████████████████▌                               | 5/8 [00:27<00:16,  5.57s/it]"
     ]
    },
    {
     "name": "stdout",
     "output_type": "stream",
     "text": [
      "Acc of class 0 : 0.9668\n",
      "Acc of class 1 : 0.0509\n",
      "Train accuracy: 0.5088\n",
      "Acc of class 0 : 0.9723\n",
      "Acc of class 1 : 0.0580\n",
      "Test accuracy: 0.5151\n",
      "Current loss: 0.6858\n",
      "Mean loss so far: 0.6882\n"
     ]
    },
    {
     "name": "stderr",
     "output_type": "stream",
     "text": [
      "\r",
      " 75%|███████████████████████████████████████████████████████████████                     | 6/8 [00:33<00:11,  5.61s/it]"
     ]
    },
    {
     "name": "stdout",
     "output_type": "stream",
     "text": [
      "Acc of class 0 : 1.0000\n",
      "Acc of class 1 : 0.0000\n",
      "Train accuracy: 0.5000\n",
      "Acc of class 0 : 1.0000\n",
      "Acc of class 1 : 0.0000\n",
      "Test accuracy: 0.5000\n",
      "Current loss: 0.6884\n",
      "Mean loss so far: 0.6882\n"
     ]
    },
    {
     "name": "stderr",
     "output_type": "stream",
     "text": [
      "\r",
      " 88%|█████████████████████████████████████████████████████████████████████████▌          | 7/8 [00:38<00:05,  5.57s/it]"
     ]
    },
    {
     "name": "stdout",
     "output_type": "stream",
     "text": [
      "Acc of class 0 : 1.0000\n",
      "Acc of class 1 : 0.0000\n",
      "Train accuracy: 0.5000\n",
      "Acc of class 0 : 1.0000\n",
      "Acc of class 1 : 0.0000\n",
      "Test accuracy: 0.5000\n",
      "Current loss: 0.6876\n",
      "Mean loss so far: 0.6881\n"
     ]
    },
    {
     "name": "stderr",
     "output_type": "stream",
     "text": [
      "100%|████████████████████████████████████████████████████████████████████████████████████| 8/8 [00:44<00:00,  5.58s/it]"
     ]
    },
    {
     "name": "stdout",
     "output_type": "stream",
     "text": [
      "Acc of class 0 : 1.0000\n",
      "Acc of class 1 : 0.0000\n",
      "Train accuracy: 0.5000\n",
      "Acc of class 0 : 1.0000\n",
      "Acc of class 1 : 0.0000\n",
      "Test accuracy: 0.5000\n",
      "Current loss: 0.6866\n",
      "Mean loss so far: 0.6880\n"
     ]
    },
    {
     "name": "stderr",
     "output_type": "stream",
     "text": [
      "\n"
     ]
    },
    {
     "data": {
      "image/png": "[encoded data removed]",
      "text/plain": [
       "<Figure size 576x396 with 1 Axes>"
      ]
     },
     "metadata": {},
     "output_type": "display_data"
    },
    {
     "data": {
      "image/png": "[encoded data removed]",
      "text/plain": [
       "<Figure size 576x396 with 1 Axes>"
      ]
     },
     "metadata": {},
     "output_type": "display_data"
    },
    {
     "data": {
      "image/png": "[encoded data removed]",
      "text/plain": [
       "<Figure size 576x396 with 1 Axes>"
      ]
     },
     "metadata": {},
     "output_type": "display_data"
    },
    {
     "name": "stdout",
     "output_type": "stream",
     "text": [
      "Last loss: 0.6866\n",
      "Last train accuracy: 0.5000\n",
      "Last test accuracy: 0.5000\n"
     ]
    }
   ],
   "source": [
    "(all_losses, all_train_acc, all_test_acc, sample_counts, other_stats) = train.metalearn_rules(\n",
    "    x_train,                      # Training inputs\n",
    "    y_train,                      # Training labels\n",
    "    local_net,              # The BrainNet\n",
    "    num_rule_epochs = 5,   # Number of meta-learning epochs\n",
    "    num_epochs = 1,         # Number of times to process a single batch\n",
    "    batch_size = 100,       # Number of samples in a batch\n",
    "    learn_rate = 1e-2,      # Learning rate\n",
    "    X_test = x_test,\n",
    "    y_test = y_test,\n",
    "    verbose = True)"
   ]
  },
  {
   "cell_type": "code",
   "execution_count": 47,
   "metadata": {},
   "outputs": [],
   "source": [
    "x_train, y_train, x_test, y_test, dim_size = get_train_test(train_data_downstream, test_data_downstream)"
   ]
  },
  {
   "cell_type": "code",
   "execution_count": 48,
   "metadata": {},
   "outputs": [],
   "source": [
    "brain_net = network.LocalNet(n = dim_size,  # number of input features (= dimension)\n",
    "                             m = 4,  # number of possible labels\n",
    "                             num_v = 70,  # number of nodes in graph\n",
    "                             p = .5,  # probability that an edge exists in the graph\n",
    "                             cap = 35,  # choose top 'cap' nodes which fire\n",
    "                             rounds = 1,  # number of times the graph 'fires'\n",
    "                             options = options_downstream, update_scheme = scheme_rnn)\n",
    "\n",
    "brain_net.rnn_rule = local_net.rnn_rule\n",
    "brain_net.output_rule = local_net.output_rule"
   ]
  },
  {
   "cell_type": "code",
   "execution_count": 49,
   "metadata": {},
   "outputs": [
    {
     "name": "stderr",
     "output_type": "stream",
     "text": [
      "\r",
      "  0%|                                                                                        | 0/10988 [00:00<?, ?it/s]"
     ]
    },
    {
     "name": "stdout",
     "output_type": "stream",
     "text": [
      "===> WARNING: Backprop is disabled, which means that all layers without rules will never change their weights!\n",
      "===> This is NOT recommended by Basile!\n",
      "INITIAL train accuracy: 0.2500\n",
      "INITIAL test accuracy: 0.2500\n",
      "Epoch 1 / 5 ...\n"
     ]
    },
    {
     "name": "stderr",
     "output_type": "stream",
     "text": [
      "100%|███████████████████████████████████████████████████████████████████████████| 10988/10988 [00:15<00:00, 731.10it/s]\n",
      "  1%|▍                                                                             | 57/10988 [00:00<00:19, 560.70it/s]"
     ]
    },
    {
     "name": "stdout",
     "output_type": "stream",
     "text": [
      "\n",
      "Epoch 2 / 5 ...\n"
     ]
    },
    {
     "name": "stderr",
     "output_type": "stream",
     "text": [
      "100%|███████████████████████████████████████████████████████████████████████████| 10988/10988 [00:19<00:00, 564.16it/s]\n",
      "  0%|▎                                                                             | 42/10988 [00:00<00:26, 417.23it/s]"
     ]
    },
    {
     "name": "stdout",
     "output_type": "stream",
     "text": [
      "\n",
      "Epoch 3 / 5 ...\n"
     ]
    },
    {
     "name": "stderr",
     "output_type": "stream",
     "text": [
      "100%|███████████████████████████████████████████████████████████████████████████| 10988/10988 [00:27<00:00, 395.75it/s]\n",
      "  0%|▏                                                                             | 28/10988 [00:00<00:40, 272.75it/s]"
     ]
    },
    {
     "name": "stdout",
     "output_type": "stream",
     "text": [
      "\n",
      "Epoch 4 / 5 ...\n"
     ]
    },
    {
     "name": "stderr",
     "output_type": "stream",
     "text": [
      "100%|███████████████████████████████████████████████████████████████████████████| 10988/10988 [00:37<00:00, 291.29it/s]\n",
      "  0%|▏                                                                             | 23/10988 [00:00<00:48, 224.05it/s]"
     ]
    },
    {
     "name": "stdout",
     "output_type": "stream",
     "text": [
      "\n",
      "Epoch 5 / 5 ...\n"
     ]
    },
    {
     "name": "stderr",
     "output_type": "stream",
     "text": [
      "100%|███████████████████████████████████████████████████████████████████████████| 10988/10988 [00:45<00:00, 241.71it/s]"
     ]
    },
    {
     "name": "stdout",
     "output_type": "stream",
     "text": [
      "\n",
      "Last loss: 1.4950\n",
      "Last train accuracy: 0.2597\n",
      "Last test accuracy: 0.2543\n"
     ]
    },
    {
     "name": "stderr",
     "output_type": "stream",
     "text": [
      "\n"
     ]
    }
   ],
   "source": [
    "# train downstream\n",
    "(all_losses, all_train_acc, all_test_acc, sample_counts, other_stats) = train.train_downstream(\n",
    "    x_train, y_train, brain_net, num_epochs=5, batch_size=100, vanilla=False, learn_rate=1e-2,\n",
    "    X_test= x_test, y_test=y_test, verbose=False, stats_interval=3000, disable_backprop=True)"
   ]
  },
  {
   "cell_type": "markdown",
   "metadata": {},
   "source": [
    "## Generalizing with Feedforward Models"
   ]
  },
  {
   "cell_type": "code",
   "execution_count": 101,
   "metadata": {},
   "outputs": [],
   "source": [
    "x_train_upstream, y_train_upstream, x_test_upstream, y_test_upstream, dim_size_upstream = get_train_test(train_data_upstream_two_class, test_data_upstream_two_class)\n",
    "# relabeling to 0 or 1 as we only have 2 dimensions\n",
    "y_train_upstream[y_train_upstream > 1] = 0\n",
    "y_test_upstream[y_test_upstream  > 1] = 0\n",
    "dataset_up = (x_train_upstream, y_train_upstream, x_test_upstream, y_test_upstream)"
   ]
  },
  {
   "cell_type": "code",
   "execution_count": 102,
   "metadata": {},
   "outputs": [],
   "source": [
    "x_train_downstream, y_train_downstream, x_test_downstream, y_test_downstream, dim_size_downstream = get_train_test(train_data_downstream, test_data_downstream)\n",
    "dataset_down = (x_train_downstream, y_train_downstream, x_test_downstream, y_test_downstream)"
   ]
  },
  {
   "cell_type": "code",
   "execution_count": 103,
   "metadata": {},
   "outputs": [],
   "source": [
    "# we do want to use output rules here\n",
    "options_downstream = LocalNetBase.Options(\n",
    "    gd_input=True,\n",
    "    use_graph_rule=True,\n",
    "    gd_graph_rule=False,  # Not meta-trainable anymore!\n",
    "    use_output_rule=True,\n",
    "    gd_output_rule=False,  # Not meta-trainable anymore!\n",
    "    gd_output=False,\n",
    "    use_softmax=True)"
   ]
  },
  {
   "cell_type": "code",
   "execution_count": 104,
   "metadata": {},
   "outputs": [],
   "source": [
    "# Feed-forward brain config.\n",
    "n_up = dim_size_upstream  # Input layer size for meta-learning.\n",
    "n_down = dim_size_downstream  # Input layer size for desired task training.\n",
    "m_up = 2  # Output layer size for meta-learning.\n",
    "m_down = 4  # Output layer size for desired task training.\n",
    "l = 2  # Number of hidden layers.\n",
    "w = 70  # Width of hidden layers.\n",
    "p = 0.5  # Connectivity probability.\n",
    "cap = 35  # Number of nodes firing per layer.\n",
    "\n",
    "# Training config.\n",
    "num_runs = 1\n",
    "num_rule_epochs = 10\n",
    "num_epochs_upstream = 1\n",
    "num_epochs_downstream = 1\n",
    "downstream_backprop = True"
   ]
  },
  {
   "cell_type": "code",
   "execution_count": 121,
   "metadata": {},
   "outputs": [],
   "source": [
    "# Instantiate brain factories.\n",
    "brain_rnn_up_fact = lambda: LocalNet(n_up, m_up, w, p, cap, 2, options=options_upstream, update_scheme=scheme_rnn)\n",
    "brain_rnn_down_fact = lambda: LocalNet(n_down, m_down, w, p, cap, 2, options=options_downstream, update_scheme=scheme_rnn)\n",
    "brain_rnn_up_fact_t3 = lambda: LocalNet(n_up, m_up, w, p, cap, 3, options=options_upstream, update_scheme=scheme_rnn)\n",
    "brain_rnn_down_fact_t3 = lambda: LocalNet(n_down, m_down, w, p, cap, 3, options=options_downstream, update_scheme=scheme_rnn)\n",
    "\n",
    "brain_prepost_l2_up_fact = lambda: FFLocalNet(\n",
    "    n_up, m_up, 2, w, p, cap, hl_rules=TableRule_PrePost(),\n",
    "    output_rule=TableRule_PrePost(), options=options_upstream, update_scheme=scheme_ff)\n",
    "brain_prepost_l2_down_fact = lambda: FFLocalNet(\n",
    "    n_down, m_down, 2, w, p, cap, hl_rules=TableRule_PrePost(),\n",
    "    output_rule=TableRule_PrePost(), options=options_downstream, update_scheme=scheme_ff)\n",
    "brain_prepost_l3_up_fact = lambda: FFLocalNet(\n",
    "    n_up, m_up, 3, w, p, cap, hl_rules=TableRule_PrePost(),\n",
    "    output_rule=TableRule_PrePost(), options=options_upstream, update_scheme=scheme_ff)\n",
    "brain_prepost_l3_down_fact = lambda: FFLocalNet(\n",
    "    n_down, m_down, 3, w, p, cap, hl_rules=TableRule_PrePost(),\n",
    "    output_rule=TableRule_PrePost(), options=options_downstream, update_scheme=scheme_ff)\n",
    "\n",
    "brain_prepostcount_l2_up_fact = lambda: FFLocalNet(\n",
    "    n_up, m_up, 2, w, p, cap, hl_rules=TableRule_PrePostCount(),\n",
    "    output_rule=TableRule_PrePostCount(), options=options_upstream, update_scheme=scheme_ff)\n",
    "brain_prepostcount_l2_down_fact = lambda: FFLocalNet(\n",
    "    n_down, m_down, 2, w, p, cap, hl_rules=TableRule_PrePostCount(),\n",
    "    output_rule=TableRule_PrePostCount(), options=options_downstream, update_scheme=scheme_ff)\n",
    "brain_prepostcount_l3_up_fact = lambda: FFLocalNet(\n",
    "    n_up, m_up, 3, w, p, cap, hl_rules=TableRule_PrePostCount(),\n",
    "    output_rule=TableRule_PrePostCount(), options=options_upstream, update_scheme=scheme_ff)\n",
    "brain_prepostcount_l3_down_fact = lambda: FFLocalNet(\n",
    "    n_down, m_down, 3, w, p, cap, hl_rules=TableRule_PrePostCount(),\n",
    "    output_rule=TableRule_PrePostCount(), options=options_downstream, update_scheme=scheme_ff)\n",
    "\n",
    "brain_prepostpercent_l2_up_fact = lambda: FFLocalNet(\n",
    "    n_up, m_up, 2, w, p, cap, hl_rules=TableRule_PrePostPercent(),\n",
    "    output_rule=TableRule_PrePostPercent(), options=options_upstream, update_scheme=scheme_ff)\n",
    "brain_prepostpercent_l2_down_fact = lambda: FFLocalNet(\n",
    "    n_down, m_down, 2, w, p, cap, hl_rules=TableRule_PrePostPercent(),\n",
    "    output_rule=TableRule_PrePostPercent(), options=options_downstream, update_scheme=scheme_ff)\n",
    "brain_prepostpercent_l3_up_fact = lambda: FFLocalNet(\n",
    "    n_up, m_up, 3, w, p, cap, hl_rules=TableRule_PrePostPercent(),\n",
    "    output_rule=TableRule_PrePostPercent(), options=options_upstream, update_scheme=scheme_ff)\n",
    "brain_prepostpercent_l3_down_fact = lambda: FFLocalNet(\n",
    "    n_down, m_down, 3, w, p, cap, hl_rules=TableRule_PrePostPercent(),\n",
    "    output_rule=TableRule_PrePostPercent(), options=options_downstream, update_scheme=scheme_ff)"
   ]
  },
  {
   "cell_type": "code",
   "execution_count": 106,
   "metadata": {},
   "outputs": [],
   "source": [
    "# modified version of evaluate_up_down() in eval utils, this should probably belong there \n",
    "def evaluate_up_down_custom(brain_up_fact, brain_down_fact, n_up, n_down,\n",
    "                     dataset_up, dataset_down = None, downstream_backprop=False,\n",
    "                     num_runs=1, num_rule_epochs=10, num_epochs_upstream=1, num_epochs_downstream=1,\n",
    "                     num_downstream_subruns=1,\n",
    "                     get_model=False, min_upstream_acc=0.7, batch_size=100, learn_rate=1e-2,\n",
    "                     use_gpu=False,\n",
    "                     upstream_only=False, return_upstream_brains=False):\n",
    "    '''\n",
    "    Evaluates a PAIR of brains on the quality of meta-learning\n",
    "    and rule interpretations by training with transferred rules.\n",
    "\n",
    "    Args:\n",
    "        brain_up_fact: Calling this will create a new instance of the network to meta-learn.\n",
    "        brain_down_fact: Calling this will create a new instance of the network to train.\n",
    "        dataset_up: Upstream dataset of form (X_train, y_train, X_test, y_test)\n",
    "        dataset_down: If None, keep the same dataset instance. Otherwise, downstream dataset.\n",
    "        downstream_backprop: Use backprop for the direct GD layers downstream?\n",
    "            Recommended True, since the downstream weights will remain randomly initialized otherwise.\n",
    "        min_upstream_acc: Keep meta-learning until we find a good random initialization with\n",
    "            this final test balanced accuracy.\n",
    "\n",
    "    Returns:\n",
    "        (multi_stats_up, multi_stats_down) or ((multi_stats_up, multi_stats_down), brain_down).\n",
    "        Both are lists of length num_runs.\n",
    "    '''\n",
    "    if (dataset_down is None) != (n_down is None):\n",
    "        raise ValueError('The nullness of dataset_down does not agree with that of n_down.')\n",
    "\n",
    "    multi_stats_up = []\n",
    "    multi_stats_down = []  # Will remain empty if upstream_only.\n",
    "    upstream_brains = []\n",
    "\n",
    "    for run in range(num_runs):\n",
    "        print()\n",
    "        print(f'Run {run + 1} / {num_runs}...')\n",
    "\n",
    "        # Upstream (once per run).\n",
    "        success = False\n",
    "        failures = 0\n",
    "        while not success and failures < 3:\n",
    "            brain_up = brain_up_fact()  # NOTE: Some initializations are unlucky.\n",
    "\n",
    "            print('Meta-learning on upstream data...')\n",
    "            X_train, y_train, X_test, y_test = dataset_up\n",
    "            stats_up = metalearn_rules(\n",
    "                X_train, y_train, brain_up, num_rule_epochs=num_rule_epochs,\n",
    "                num_epochs=num_epochs_upstream, batch_size=batch_size, learn_rate=learn_rate,\n",
    "                X_test=X_test, y_test=y_test, verbose=False, use_gpu=use_gpu)\n",
    "\n",
    "            success = (stats_up[2][-1] >= min_upstream_acc)\n",
    "            if not success:\n",
    "                failures += 1\n",
    "                print(\n",
    "                    f'Final upstream test acc {stats_up[2][-1]:.4f} not high enough, retrying... (failures = {failures})')\n",
    "\n",
    "        # Retain network e.g. for extracting rules later.\n",
    "        if return_upstream_brains:\n",
    "            upstream_brains.append(brain_up)\n",
    "        \n",
    "        if not upstream_only:\n",
    "\n",
    "            # Downstream (subrun loop).\n",
    "            for subrun in range(num_downstream_subruns):\n",
    "\n",
    "                if num_downstream_subruns > 1:\n",
    "                    print()\n",
    "                    print(f'Run {run + 1} / {num_runs}...')\n",
    "                    print(f'Subrun {subrun + 1} / {num_downstream_subruns}...')\n",
    "\n",
    "                # Transfer rules.\n",
    "                brain_down = brain_down_fact()\n",
    "                if isinstance(brain_down, FFLocalNet):\n",
    "                    # FF-ANN.\n",
    "                    brain_down.copy_rules(brain_up, output_rule=brain_down.options.use_output_rule)\n",
    "                else:\n",
    "                    # RNN.\n",
    "                    try:\n",
    "                        if brain_down.options.use_graph_rule:\n",
    "                            brain_down.set_rnn_rule(brain_up.get_rnn_rule())\n",
    "                        if brain_down.options.use_output_rule:\n",
    "                            brain_down.set_output_rule(brain_up.get_output_rule())\n",
    "                    except:\n",
    "                        print('FALLBACK: direct assignment of rules...')\n",
    "                        if downstream_backprop:\n",
    "                            print('=> WARNING: Rules might still be updated by GD this way')\n",
    "                        brain_down.rnn_rule = brain_up.rnn_rule\n",
    "                        brain_down.output_rule = brain_up.output_rule\n",
    "\n",
    "                # Downstream (within subrun).\n",
    "                if dataset_down is not None and n_down is not None:\n",
    "                    print('Training NEW brain instance on downstream data...')\n",
    "                    X_train, y_train, X_test, y_test = dataset_down\n",
    "                else:\n",
    "                    print('Training NEW brain instance on the same dataset instance...')\n",
    "                stats_down = train_downstream(\n",
    "                    X_train, y_train, brain_down, num_epochs=num_epochs_downstream,\n",
    "                    batch_size=batch_size, vanilla=False, learn_rate=learn_rate,\n",
    "                    X_test=X_test, y_test=y_test, verbose=False,\n",
    "                    stats_interval=300, disable_backprop=not(downstream_backprop),\n",
    "                    use_gpu=use_gpu)\n",
    "\n",
    "                # Save this subrun.\n",
    "                multi_stats_down.append(stats_down)\n",
    "\n",
    "        # Save this run.\n",
    "        multi_stats_up.append(stats_up)\n",
    "\n",
    "        print()\n",
    "\n",
    "    if get_model:\n",
    "        # Return latest downstream network.\n",
    "        return (multi_stats_up, multi_stats_down), brain_down\n",
    "    elif return_upstream_brains:\n",
    "        # Return all upstream networks.\n",
    "        return (multi_stats_up, multi_stats_down), upstream_brains\n",
    "    else:\n",
    "        return (multi_stats_up, multi_stats_down)"
   ]
  },
  {
   "cell_type": "code",
   "execution_count": 107,
   "metadata": {},
   "outputs": [
    {
     "name": "stderr",
     "output_type": "stream",
     "text": [
      "\r",
      "  0%|                                                                                           | 0/10 [00:00<?, ?it/s]"
     ]
    },
    {
     "name": "stdout",
     "output_type": "stream",
     "text": [
      "==== Interpretation: PrePost, 2 hidden layers (universal) ====\n",
      "\n",
      "Run 1 / 1...\n",
      "Meta-learning on upstream data...\n"
     ]
    },
    {
     "name": "stderr",
     "output_type": "stream",
     "text": [
      "100%|██████████████████████████████████████████████████████████████████████████████████| 10/10 [05:27<00:00, 32.74s/it]\n",
      "  0%|                                                                                        | 0/10988 [00:00<?, ?it/s]"
     ]
    },
    {
     "name": "stdout",
     "output_type": "stream",
     "text": [
      "Last loss: 0.6273\n",
      "Last train accuracy: 0.5417\n",
      "Last test accuracy: 0.5202\n",
      "Training NEW brain instance on downstream data...\n",
      "INITIAL train accuracy: 0.2500\n",
      "INITIAL test accuracy: 0.2500\n",
      "Epoch 1 / 1 ...\n"
     ]
    },
    {
     "name": "stderr",
     "output_type": "stream",
     "text": [
      "100%|███████████████████████████████████████████████████████████████████████████| 10988/10988 [01:23<00:00, 132.05it/s]\n",
      "  0%|                                                                                           | 0/10 [00:00<?, ?it/s]"
     ]
    },
    {
     "name": "stdout",
     "output_type": "stream",
     "text": [
      "\n",
      "Last loss: 1.4192\n",
      "Last train accuracy: 0.2841\n",
      "Last test accuracy: 0.2739\n",
      "\n",
      "==== Interpretation: PrePost, 3 hidden layers (universal) ====\n",
      "\n",
      "Run 1 / 1...\n",
      "Meta-learning on upstream data...\n"
     ]
    },
    {
     "name": "stderr",
     "output_type": "stream",
     "text": [
      "100%|██████████████████████████████████████████████████████████████████████████████████| 10/10 [09:51<00:00, 59.16s/it]\n"
     ]
    },
    {
     "name": "stdout",
     "output_type": "stream",
     "text": [
      "Last loss: 0.6450\n",
      "Last train accuracy: 0.5202\n",
      "Last test accuracy: 0.5348\n",
      "Training NEW brain instance on downstream data...\n",
      "INITIAL train accuracy: 0.2500\n",
      "INITIAL test accuracy: 0.2500\n",
      "Epoch 1 / 1 ...\n"
     ]
    },
    {
     "name": "stderr",
     "output_type": "stream",
     "text": [
      "100%|████████████████████████████████████████████████████████████████████████████| 10988/10988 [02:16<00:00, 80.54it/s]"
     ]
    },
    {
     "name": "stdout",
     "output_type": "stream",
     "text": [
      "\n",
      "Last loss: 1.4458\n",
      "Last train accuracy: 0.2966\n",
      "Last test accuracy: 0.2832\n",
      "\n"
     ]
    },
    {
     "name": "stderr",
     "output_type": "stream",
     "text": [
      "\n"
     ]
    }
   ],
   "source": [
    "print('==== Interpretation: PrePost, 2 hidden layers (universal) ====')\n",
    "stats_prepost_l2_up, stats_prepost_l2_down = evaluate_up_down_custom(\n",
    "    brain_prepost_l2_up_fact, brain_prepost_l2_down_fact, n_up, n_down,\n",
    "    dataset_up=dataset_up, dataset_down=dataset_down,\n",
    "    downstream_backprop=downstream_backprop, num_runs=num_runs, num_rule_epochs=num_rule_epochs,\n",
    "    num_epochs_upstream=num_epochs_upstream, num_epochs_downstream=num_epochs_downstream, min_upstream_acc=0.25)\n",
    "print('==== Interpretation: PrePost, 3 hidden layers (universal) ====')\n",
    "stats_prepost_l3_up, stats_prepost_l3_down = evaluate_up_down_custom(\n",
    "    brain_prepost_l3_up_fact, brain_prepost_l3_down_fact, n_up, n_down,\n",
    "    dataset_up=dataset_up, dataset_down=dataset_down,\n",
    "    downstream_backprop=downstream_backprop, num_runs=num_runs, num_rule_epochs=num_rule_epochs,\n",
    "    num_epochs_upstream=num_epochs_upstream, num_epochs_downstream=num_epochs_downstream, min_upstream_acc=0.25)"
   ]
  },
  {
   "cell_type": "code",
   "execution_count": 108,
   "metadata": {},
   "outputs": [
    {
     "name": "stderr",
     "output_type": "stream",
     "text": [
      "\r",
      "  0%|                                                                                           | 0/10 [00:00<?, ?it/s]"
     ]
    },
    {
     "name": "stdout",
     "output_type": "stream",
     "text": [
      "==== Interpretation: PrePostCount, 2 hidden layers (universal) ====\n",
      "\n",
      "Run 1 / 1...\n",
      "Meta-learning on upstream data...\n"
     ]
    },
    {
     "name": "stderr",
     "output_type": "stream",
     "text": [
      "100%|██████████████████████████████████████████████████████████████████████████████████| 10/10 [06:18<00:00, 37.87s/it]\n",
      "  0%|                                                                                        | 0/10988 [00:00<?, ?it/s]"
     ]
    },
    {
     "name": "stdout",
     "output_type": "stream",
     "text": [
      "Last loss: 0.6744\n",
      "Last train accuracy: 0.5436\n",
      "Last test accuracy: 0.5509\n",
      "Training NEW brain instance on downstream data...\n",
      "INITIAL train accuracy: 0.2500\n",
      "INITIAL test accuracy: 0.2500\n",
      "Epoch 1 / 1 ...\n"
     ]
    },
    {
     "name": "stderr",
     "output_type": "stream",
     "text": [
      "100%|███████████████████████████████████████████████████████████████████████████| 10988/10988 [01:31<00:00, 119.91it/s]\n",
      "  0%|                                                                                           | 0/10 [00:00<?, ?it/s]"
     ]
    },
    {
     "name": "stdout",
     "output_type": "stream",
     "text": [
      "\n",
      "Last loss: 1.4192\n",
      "Last train accuracy: 0.2991\n",
      "Last test accuracy: 0.2801\n",
      "\n",
      "==== Interpretation: PrePostCount, 3 hidden layers (universal) ====\n",
      "\n",
      "Run 1 / 1...\n",
      "Meta-learning on upstream data...\n"
     ]
    },
    {
     "name": "stderr",
     "output_type": "stream",
     "text": [
      "100%|██████████████████████████████████████████████████████████████████████████████████| 10/10 [11:26<00:00, 68.63s/it]\n"
     ]
    },
    {
     "name": "stdout",
     "output_type": "stream",
     "text": [
      "Last loss: 0.6931\n",
      "Last train accuracy: 0.5000\n",
      "Last test accuracy: 0.5000\n",
      "Training NEW brain instance on downstream data...\n",
      "INITIAL train accuracy: 0.2500\n",
      "INITIAL test accuracy: 0.2500\n",
      "Epoch 1 / 1 ...\n"
     ]
    },
    {
     "name": "stderr",
     "output_type": "stream",
     "text": [
      "100%|████████████████████████████████████████████████████████████████████████████| 10988/10988 [02:41<00:00, 68.00it/s]"
     ]
    },
    {
     "name": "stdout",
     "output_type": "stream",
     "text": [
      "\n",
      "Last loss: 1.3863\n",
      "Last train accuracy: 0.2500\n",
      "Last test accuracy: 0.2500\n",
      "\n"
     ]
    },
    {
     "name": "stderr",
     "output_type": "stream",
     "text": [
      "\n"
     ]
    }
   ],
   "source": [
    "print('==== Interpretation: PrePostCount, 2 hidden layers (universal) ====')\n",
    "stats_prepostcount_l2_up, stats_prepostcount_l2_down = evaluate_up_down_custom(\n",
    "    brain_prepostcount_l2_up_fact, brain_prepostcount_l2_down_fact, n_up, n_down,\n",
    "    dataset_up=dataset_up, dataset_down=dataset_down,\n",
    "    downstream_backprop=downstream_backprop, num_runs=num_runs, num_rule_epochs=num_rule_epochs,\n",
    "    num_epochs_upstream=num_epochs_upstream, num_epochs_downstream=num_epochs_downstream, min_upstream_acc=0.25)\n",
    "print('==== Interpretation: PrePostCount, 3 hidden layers (universal) ====')\n",
    "stats_prepostcount_l3_up, stats_prepostcount_l3_down = evaluate_up_down_custom(\n",
    "    brain_prepostcount_l3_up_fact, brain_prepostcount_l3_down_fact, n_up, n_down,\n",
    "    dataset_up=dataset_up, dataset_down=dataset_down,\n",
    "    downstream_backprop=downstream_backprop, num_runs=num_runs, num_rule_epochs=num_rule_epochs,\n",
    "    num_epochs_upstream=num_epochs_upstream, num_epochs_downstream=num_epochs_downstream, min_upstream_acc=0.25)"
   ]
  },
  {
   "cell_type": "code",
   "execution_count": 109,
   "metadata": {},
   "outputs": [
    {
     "name": "stderr",
     "output_type": "stream",
     "text": [
      "\r",
      "  0%|                                                                                           | 0/10 [00:00<?, ?it/s]"
     ]
    },
    {
     "name": "stdout",
     "output_type": "stream",
     "text": [
      "==== Interpretation: PrePostPercent, 2 hidden layers (universal) ====\n",
      "\n",
      "Run 1 / 1...\n",
      "Meta-learning on upstream data...\n"
     ]
    },
    {
     "name": "stderr",
     "output_type": "stream",
     "text": [
      "100%|██████████████████████████████████████████████████████████████████████████████████| 10/10 [06:30<00:00, 39.01s/it]\n",
      "  0%|                                                                                        | 0/10988 [00:00<?, ?it/s]"
     ]
    },
    {
     "name": "stdout",
     "output_type": "stream",
     "text": [
      "Last loss: 0.6307\n",
      "Last train accuracy: 0.4921\n",
      "Last test accuracy: 0.5048\n",
      "Training NEW brain instance on downstream data...\n",
      "INITIAL train accuracy: 0.2500\n",
      "INITIAL test accuracy: 0.2500\n",
      "Epoch 1 / 1 ...\n"
     ]
    },
    {
     "name": "stderr",
     "output_type": "stream",
     "text": [
      "100%|███████████████████████████████████████████████████████████████████████████| 10988/10988 [01:39<00:00, 110.47it/s]\n",
      "  0%|                                                                                           | 0/10 [00:00<?, ?it/s]"
     ]
    },
    {
     "name": "stdout",
     "output_type": "stream",
     "text": [
      "\n",
      "Last loss: 1.4564\n",
      "Last train accuracy: 0.3163\n",
      "Last test accuracy: 0.2840\n",
      "\n",
      "==== Interpretation: PrePostPercent, 3 hidden layers (universal) ====\n",
      "\n",
      "Run 1 / 1...\n",
      "Meta-learning on upstream data...\n"
     ]
    },
    {
     "name": "stderr",
     "output_type": "stream",
     "text": [
      "100%|██████████████████████████████████████████████████████████████████████████████████| 10/10 [11:39<00:00, 69.92s/it]\n"
     ]
    },
    {
     "name": "stdout",
     "output_type": "stream",
     "text": [
      "Last loss: 0.6509\n",
      "Last train accuracy: 0.5320\n",
      "Last test accuracy: 0.5350\n",
      "Training NEW brain instance on downstream data...\n",
      "INITIAL train accuracy: 0.2500\n"
     ]
    },
    {
     "name": "stderr",
     "output_type": "stream",
     "text": [
      "  0%|                                                                                | 7/10988 [00:00<02:45, 66.26it/s]"
     ]
    },
    {
     "name": "stdout",
     "output_type": "stream",
     "text": [
      "INITIAL test accuracy: 0.2500\n",
      "Epoch 1 / 1 ...\n"
     ]
    },
    {
     "name": "stderr",
     "output_type": "stream",
     "text": [
      "100%|████████████████████████████████████████████████████████████████████████████| 10988/10988 [02:44<00:00, 66.79it/s]"
     ]
    },
    {
     "name": "stdout",
     "output_type": "stream",
     "text": [
      "\n",
      "Last loss: 1.4511\n",
      "Last train accuracy: 0.2888\n",
      "Last test accuracy: 0.2795\n",
      "\n"
     ]
    },
    {
     "name": "stderr",
     "output_type": "stream",
     "text": [
      "\n"
     ]
    }
   ],
   "source": [
    "print('==== Interpretation: PrePostPercent, 2 hidden layers (universal) ====')\n",
    "stats_prepostpercent_l2_up, stats_prepostpercent_l2_down = evaluate_up_down_custom(\n",
    "    brain_prepostpercent_l2_up_fact, brain_prepostpercent_l2_down_fact, n_up, n_down,\n",
    "    dataset_up=dataset_up, dataset_down=dataset_down,\n",
    "    downstream_backprop=downstream_backprop, num_runs=num_runs, num_rule_epochs=num_rule_epochs,\n",
    "    num_epochs_upstream=num_epochs_upstream, num_epochs_downstream=num_epochs_downstream, min_upstream_acc=0.25)\n",
    "print('==== Interpretation: PrePostPercent, 3 hidden layers (universal) ====')\n",
    "stats_prepostpercent_l3_up, stats_prepostpercent_l3_down = evaluate_up_down_custom(\n",
    "    brain_prepostpercent_l3_up_fact, brain_prepostpercent_l3_down_fact, n_up, n_down,\n",
    "    dataset_up=dataset_up, dataset_down=dataset_down,\n",
    "    downstream_backprop=downstream_backprop, num_runs=num_runs, num_rule_epochs=num_rule_epochs,\n",
    "    num_epochs_upstream=num_epochs_upstream, num_epochs_downstream=num_epochs_downstream, min_upstream_acc=0.25)"
   ]
  },
  {
   "cell_type": "code",
   "execution_count": 110,
   "metadata": {},
   "outputs": [
    {
     "name": "stderr",
     "output_type": "stream",
     "text": [
      "\r",
      "  0%|                                                                                           | 0/10 [00:00<?, ?it/s]"
     ]
    },
    {
     "name": "stdout",
     "output_type": "stream",
     "text": [
      "==== Original RNN ====\n",
      "\n",
      "Run 1 / 1...\n",
      "Meta-learning on upstream data...\n"
     ]
    },
    {
     "name": "stderr",
     "output_type": "stream",
     "text": [
      "100%|██████████████████████████████████████████████████████████████████████████████████| 10/10 [04:55<00:00, 29.57s/it]\n",
      "..\\LocalNetBase.py:82: UserWarning: To copy construct from a tensor, it is recommended to use sourceTensor.clone().detach() or sourceTensor.clone().detach().requires_grad_(True), rather than torch.tensor(sourceTensor).\n",
      "  self.rnn_rule = torch.tensor(rule).flatten().double()\n"
     ]
    },
    {
     "name": "stdout",
     "output_type": "stream",
     "text": [
      "Last loss: 0.6904\n",
      "Last train accuracy: 0.4934\n",
      "Last test accuracy: 0.4969\n",
      "Training NEW brain instance on downstream data...\n"
     ]
    },
    {
     "name": "stderr",
     "output_type": "stream",
     "text": [
      "  0%|                                                                                | 8/10988 [00:00<02:18, 79.47it/s]"
     ]
    },
    {
     "name": "stdout",
     "output_type": "stream",
     "text": [
      "INITIAL train accuracy: 0.2500\n",
      "INITIAL test accuracy: 0.2500\n",
      "Epoch 1 / 1 ...\n"
     ]
    },
    {
     "name": "stderr",
     "output_type": "stream",
     "text": [
      "100%|████████████████████████████████████████████████████████████████████████████| 10988/10988 [02:21<00:00, 77.74it/s]"
     ]
    },
    {
     "name": "stdout",
     "output_type": "stream",
     "text": [
      "\n",
      "Last loss: 1.4305\n",
      "Last train accuracy: 0.2687\n",
      "Last test accuracy: 0.2477\n",
      "\n"
     ]
    },
    {
     "name": "stderr",
     "output_type": "stream",
     "text": [
      "\n"
     ]
    }
   ],
   "source": [
    "print('==== Original RNN ====')\n",
    "stats_rnn_up, stats_rnn_down = evaluate_up_down_custom(\n",
    "    brain_rnn_up_fact, brain_rnn_down_fact, n_up, n_down,\n",
    "    dataset_up=dataset_up, dataset_down=dataset_down,\n",
    "    downstream_backprop=downstream_backprop, num_runs=num_runs, num_rule_epochs=num_rule_epochs,\n",
    "    num_epochs_upstream=num_epochs_upstream, num_epochs_downstream=num_epochs_downstream, min_upstream_acc=0.25)"
   ]
  },
  {
   "cell_type": "code",
   "execution_count": 122,
   "metadata": {},
   "outputs": [
    {
     "name": "stderr",
     "output_type": "stream",
     "text": [
      "\r",
      "  0%|                                                                                           | 0/10 [00:00<?, ?it/s]"
     ]
    },
    {
     "name": "stdout",
     "output_type": "stream",
     "text": [
      "==== Original RNN T = 3====\n",
      "\n",
      "Run 1 / 1...\n",
      "Meta-learning on upstream data...\n"
     ]
    },
    {
     "name": "stderr",
     "output_type": "stream",
     "text": [
      "100%|██████████████████████████████████████████████████████████████████████████████████| 10/10 [05:58<00:00, 35.86s/it]\n",
      "..\\LocalNetBase.py:82: UserWarning: To copy construct from a tensor, it is recommended to use sourceTensor.clone().detach() or sourceTensor.clone().detach().requires_grad_(True), rather than torch.tensor(sourceTensor).\n",
      "  self.rnn_rule = torch.tensor(rule).flatten().double()\n"
     ]
    },
    {
     "name": "stdout",
     "output_type": "stream",
     "text": [
      "Last loss: 0.6928\n",
      "Last train accuracy: 0.4997\n",
      "Last test accuracy: 0.5011\n",
      "Training NEW brain instance on downstream data...\n"
     ]
    },
    {
     "name": "stderr",
     "output_type": "stream",
     "text": [
      "  0%|                                                                                | 7/10988 [00:00<02:47, 65.64it/s]"
     ]
    },
    {
     "name": "stdout",
     "output_type": "stream",
     "text": [
      "INITIAL train accuracy: 0.2500\n",
      "INITIAL test accuracy: 0.2500\n",
      "Epoch 1 / 1 ...\n"
     ]
    },
    {
     "name": "stderr",
     "output_type": "stream",
     "text": [
      "100%|████████████████████████████████████████████████████████████████████████████| 10988/10988 [02:52<00:00, 63.85it/s]"
     ]
    },
    {
     "name": "stdout",
     "output_type": "stream",
     "text": [
      "\n",
      "Last loss: 1.4742\n",
      "Last train accuracy: 0.2322\n",
      "Last test accuracy: 0.2500\n",
      "\n"
     ]
    },
    {
     "name": "stderr",
     "output_type": "stream",
     "text": [
      "\n"
     ]
    }
   ],
   "source": [
    "print('==== Original RNN T = 3====')\n",
    "stats_rnn_up_t3, stats_rnn_down_t3 = evaluate_up_down_custom(\n",
    "    brain_rnn_up_fact_t3, brain_rnn_down_fact_t3, n_up, n_down,\n",
    "    dataset_up=dataset_up, dataset_down=dataset_down,\n",
    "    downstream_backprop=downstream_backprop, num_runs=num_runs, num_rule_epochs=num_rule_epochs,\n",
    "    num_epochs_upstream=num_epochs_upstream, num_epochs_downstream=num_epochs_downstream, min_upstream_acc=0.25)"
   ]
  },
  {
   "cell_type": "code",
   "execution_count": 111,
   "metadata": {},
   "outputs": [
    {
     "name": "stdout",
     "output_type": "stream",
     "text": [
      "==== Vanilla ====\n",
      "INITIAL train accuracy: 0.2471\n",
      "INITIAL test accuracy: 0.2463\n",
      "Epoch 1 / 1 ...\n"
     ]
    },
    {
     "name": "stderr",
     "output_type": "stream",
     "text": [
      "100%|████████████████████████████████████████████████████████████████████████████████| 109/109 [00:03<00:00, 28.61it/s]"
     ]
    },
    {
     "name": "stdout",
     "output_type": "stream",
     "text": [
      "\n",
      "Last loss: 1.4262\n",
      "Last train accuracy: 0.2537\n",
      "Last test accuracy: 0.2492\n"
     ]
    },
    {
     "name": "stderr",
     "output_type": "stream",
     "text": [
      "\n"
     ]
    }
   ],
   "source": [
    "brain_vanilla = FFBrainNet(\n",
    "    n_down, m_down, l, w, p, cap, full_gd=True)\n",
    "print('==== Vanilla ====')\n",
    "stats_vanilla = train_downstream(\n",
    "    x_train_downstream, y_train_downstream, brain_vanilla, num_epochs=num_epochs_downstream,\n",
    "    batch_size=100, vanilla=True, learn_rate=1e-2,\n",
    "    X_test=x_test_downstream, y_test=y_test_downstream, verbose=False, stats_interval=500)"
   ]
  },
  {
   "cell_type": "code",
   "execution_count": 123,
   "metadata": {},
   "outputs": [
    {
     "name": "stdout",
     "output_type": "stream",
     "text": [
      "==== Vanilla ====\n",
      "INITIAL train accuracy: 0.2689\n"
     ]
    },
    {
     "name": "stderr",
     "output_type": "stream",
     "text": [
      "\r",
      "  0%|                                                                                          | 0/109 [00:00<?, ?it/s]"
     ]
    },
    {
     "name": "stdout",
     "output_type": "stream",
     "text": [
      "INITIAL test accuracy: 0.2823\n",
      "Epoch 1 / 1 ...\n"
     ]
    },
    {
     "name": "stderr",
     "output_type": "stream",
     "text": [
      "100%|████████████████████████████████████████████████████████████████████████████████| 109/109 [00:05<00:00, 18.82it/s]"
     ]
    },
    {
     "name": "stdout",
     "output_type": "stream",
     "text": [
      "\n",
      "Last loss: 1.3901\n",
      "Last train accuracy: 0.2992\n",
      "Last test accuracy: 0.2801\n"
     ]
    },
    {
     "name": "stderr",
     "output_type": "stream",
     "text": [
      "\n"
     ]
    }
   ],
   "source": [
    "# t = 3 here\n",
    "brain_vanilla = FFBrainNet(\n",
    "    n_down, m_down, 3, w, p, cap, full_gd=True)\n",
    "print('==== Vanilla ====')\n",
    "stats_vanilla_t3 = train_downstream(\n",
    "    x_train_downstream, y_train_downstream, brain_vanilla, num_epochs=num_epochs_downstream,\n",
    "    batch_size=100, vanilla=True, learn_rate=1e-2,\n",
    "    X_test=x_test_downstream, y_test=y_test_downstream, verbose=False, stats_interval=500)"
   ]
  },
  {
   "cell_type": "code",
   "execution_count": 124,
   "metadata": {},
   "outputs": [],
   "source": [
    "agg_stats_prepost_l2_up = convert_multi_stats_uncertainty(stats_prepost_l2_up)\n",
    "agg_stats_prepost_l2_down = convert_multi_stats_uncertainty(stats_prepost_l2_down)\n",
    "agg_stats_prepost_l3_up = convert_multi_stats_uncertainty(stats_prepost_l3_up)\n",
    "agg_stats_prepost_l3_down = convert_multi_stats_uncertainty(stats_prepost_l3_down)\n",
    "agg_stats_prepostcount_l2_up = convert_multi_stats_uncertainty(stats_prepostcount_l2_up)\n",
    "agg_stats_prepostcount_l2_down = convert_multi_stats_uncertainty(stats_prepostcount_l2_down)\n",
    "agg_stats_prepostcount_l3_up = convert_multi_stats_uncertainty(stats_prepostcount_l3_up)\n",
    "agg_stats_prepostcount_l3_down = convert_multi_stats_uncertainty(stats_prepostcount_l3_down)\n",
    "agg_stats_prepostpercent_l2_up = convert_multi_stats_uncertainty(stats_prepostpercent_l2_up)\n",
    "agg_stats_prepostpercent_l2_down = convert_multi_stats_uncertainty(stats_prepostpercent_l2_down)\n",
    "agg_stats_prepostpercent_l3_up = convert_multi_stats_uncertainty(stats_prepostpercent_l3_up)\n",
    "agg_stats_prepostpercent_l3_down = convert_multi_stats_uncertainty(stats_prepostpercent_l3_down)\n",
    "agg_stats_rnn_up = convert_multi_stats_uncertainty(stats_rnn_up)\n",
    "agg_stats_rnn_down = convert_multi_stats_uncertainty(stats_rnn_down)\n",
    "agg_stats_rnn_up_t3 = convert_multi_stats_uncertainty(stats_rnn_up_t3)\n",
    "agg_stats_rnn_down_t3 = convert_multi_stats_uncertainty(stats_rnn_down_t3)"
   ]
  },
  {
   "cell_type": "code",
   "execution_count": 126,
   "metadata": {},
   "outputs": [
    {
     "name": "stdout",
     "output_type": "stream",
     "text": [
      "Saving figure to: figs/generalization_all2_nlp_generalization_2layers\n"
     ]
    },
    {
     "data": {
      "image/png": "[encoded data removed]",
      "text/plain": [
       "<Figure size 720x288 with 2 Axes>"
      ]
     },
     "metadata": {},
     "output_type": "display_data"
    }
   ],
   "source": [
    "# Plot to compare all.\n",
    "all_stats_up = [agg_stats_rnn_up,\n",
    "                agg_stats_prepost_l2_up,\n",
    "                agg_stats_prepostcount_l2_up,\n",
    "                agg_stats_prepostpercent_l2_up,\n",
    "                None]\n",
    "all_stats_down = [agg_stats_rnn_down,\n",
    "                  agg_stats_prepost_l2_down,\n",
    "                  agg_stats_prepostcount_l2_down,\n",
    "                  agg_stats_prepostpercent_l2_down,\n",
    "                  stats_vanilla]\n",
    "labels = ['RNN T=2', 'PrePost-L2', 'PrePostCount-L2', 'PrePosPercent-L2', 'Vanilla T=2']\n",
    "plot_compare_models(all_stats_up, all_stats_down, labels,\n",
    "                    'Upstream meta-learning on 2 emotions',\n",
    "                    'Downstream training on 4 emotions',\n",
    "                    'figs/generalization_all2_nlp_generalization_2layers')"
   ]
  },
  {
   "cell_type": "code",
   "execution_count": 130,
   "metadata": {},
   "outputs": [
    {
     "name": "stdout",
     "output_type": "stream",
     "text": [
      "Saving figure to: figs/generalization_all2_nlp_generalization_3layers\n"
     ]
    },
    {
     "data": {
      "image/png": "[encoded data removed]",
      "text/plain": [
       "<Figure size 720x288 with 2 Axes>"
      ]
     },
     "metadata": {},
     "output_type": "display_data"
    }
   ],
   "source": [
    "# Plot to compare all.\n",
    "all_stats_up = [agg_stats_rnn_up_t3,\n",
    "                agg_stats_prepost_l3_up,\n",
    "                agg_stats_prepostcount_l3_up,\n",
    "                agg_stats_prepostpercent_l3_up,\n",
    "                None]\n",
    "all_stats_down = [agg_stats_rnn_down_t3,\n",
    "                  agg_stats_prepost_l3_down,\n",
    "                  agg_stats_prepostcount_l3_down,\n",
    "                  agg_stats_prepostpercent_l3_down,\n",
    "                  stats_vanilla_t3]\n",
    "labels = ['RNN T=3', 'PrePost-L3', 'PrePostCount-L3', 'PrePostPercent-L3', 'Vanilla T=3']\n",
    "plot_compare_models(all_stats_up, all_stats_down, labels,\n",
    "                    'Upstream meta-learning on 2 emotions',\n",
    "                    'Downstream training on 4 emotions',\n",
    "                    'figs/generalization_all2_nlp_generalization_3layers')"
   ]
  }
 ],
 "metadata": {
  "kernelspec": {
   "display_name": "Python 3",
   "language": "python",
   "name": "python3"
  },
  "language_info": {
   "codemirror_mode": {
    "name": "ipython",
    "version": 3
   },
   "file_extension": ".py",
   "mimetype": "text/x-python",
   "name": "python",
   "nbconvert_exporter": "python",
   "pygments_lexer": "ipython3",
   "version": "3.7.1"
  }
 },
 "nbformat": 4,
 "nbformat_minor": 2
}
