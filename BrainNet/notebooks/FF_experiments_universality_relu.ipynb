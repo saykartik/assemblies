{
 "cells": [
  {
   "cell_type": "markdown",
   "metadata": {},
   "source": [
    "# Network dimensionality and universality of rules\n",
    "\n",
    "## For every considered model, vary (1) number and (2) width of layers. Otherwise same as 'comparing'.\n",
    "\n",
    "Created by Basile Van Hoorick, Fall 2020."
   ]
  },
  {
   "cell_type": "code",
   "execution_count": 3,
   "metadata": {},
   "outputs": [],
   "source": [
    "%run FF_common.ipynb"
   ]
  },
  {
   "cell_type": "code",
   "execution_count": null,
   "metadata": {},
   "outputs": [],
   "source": [
    "def get_metrics(hyperparams, all_stats):\n",
    "\n",
    "    num_configs = len(hyperparams)\n",
    "    test_accs_up = []\n",
    "    test_accs_down = []\n",
    "    speeds_down = []\n",
    "\n",
    "    for i in range(num_configs):\n",
    "\n",
    "        universal, l, w, cap = hyperparams[i]\n",
    "    #     print('Universal:', universal)\n",
    "    #     print('Number hidden layers:', l)\n",
    "    #     print('Hidden layer width:', w)\n",
    "    #     print('Cap:', cap)\n",
    "\n",
    "        stats_up, stats_down = all_stats[i]\n",
    "        stats_up = convert_multi_stats_uncertainty(stats_up)\n",
    "        stats_down = convert_multi_stats_uncertainty(stats_down)\n",
    "        test_acc_up = stats_up[2][-1]\n",
    "        test_acc_down = stats_down[2][-1]\n",
    "        speed_down = np.mean(stats_down[2]) / test_acc_down\n",
    "\n",
    "    #     print(f'Final upstream test accuracy: {test_acc_up*100:.2f}%')\n",
    "    #     print(f'Final downstream test accuracy: {test_acc_down*100:.2f}%')\n",
    "    #     print(f'Downstream speed of convergence: {speed_down*100:.2f}%')\n",
    "    #     print()\n",
    "\n",
    "        test_accs_up.append(test_acc_up)\n",
    "        test_accs_down.append(test_acc_down)\n",
    "        speeds_down.append(speed_down)\n",
    "\n",
    "    test_accs_up = np.array(test_accs_up).reshape((2, 3, 3))\n",
    "    test_accs_down = np.array(test_accs_down).reshape((2, 3, 3))\n",
    "    speeds_down = np.array(speeds_down).reshape((2, 3, 3))\n",
    "    metrics = np.multiply(test_accs_up, test_accs_down, speeds_down)\n",
    "\n",
    "    print('Upstream accuracy:')\n",
    "    print(test_accs_up)\n",
    "    print('Downstream accuracy:')\n",
    "    print(test_accs_down)\n",
    "    print('Downstream speed:')\n",
    "    print(speeds_down)\n",
    "    print('Product:')\n",
    "    print(metrics)\n",
    "\n",
    "    return metrics"
   ]
  },
  {
   "cell_type": "code",
   "execution_count": 7,
   "metadata": {},
   "outputs": [],
   "source": [
    "# IMPORTANT: Henceforth, we use GD directly on inputs but use plasticity rules in the output and hidden layers.\n",
    "opts = Options(gd_input=True,\n",
    "               use_graph_rule=True,\n",
    "               gd_graph_rule=True,\n",
    "               use_output_rule=True,\n",
    "               gd_output_rule=True,\n",
    "               gd_output=False)\n",
    "scheme = UpdateScheme(cross_entropy_loss=True,\n",
    "                      mse_loss=False,\n",
    "                      update_misclassified_only=False,\n",
    "                      update_all_edges=True)\n",
    "\n",
    "# Feed-forward brain config.\n",
    "n_up = 16  # Input layer size for meta-learning.\n",
    "n_down = 16  # Input layer size for desired task training.\n",
    "n = 16  # Input layer size.\n",
    "m = 2  # Output layer size.\n",
    "p = 0.5  # Connectivity probability.\n",
    "\n",
    "# Training config.\n",
    "num_runs = 5\n",
    "num_rule_epochs = 50\n",
    "num_epochs_upstream = 1\n",
    "num_epochs_downstream = 1\n",
    "dataset = 'relu'"
   ]
  },
  {
   "cell_type": "markdown",
   "metadata": {},
   "source": [
    "## PrePost"
   ]
  },
  {
   "cell_type": "code",
   "execution_count": null,
   "metadata": {},
   "outputs": [
    {
     "name": "stderr",
     "output_type": "stream",
     "text": [
      "../DataGenerator.py:34: UserWarning: Implicit dimension choice for softmax has been deprecated. Change the call to include dim=X as an argument.\n",
      "  out2 = F.softmax(torch.matmul(out1, w1))\n",
      "\r",
      "  0%|          | 0/50 [00:00<?, ?it/s]"
     ]
    },
    {
     "name": "stdout",
     "output_type": "stream",
     "text": [
      "Universal: False\n",
      "Number hidden layers: 2\n",
      "Hidden layer width: 16\n",
      "Cap: 8\n",
      "==== Interpretation: Pre and Post ====\n",
      "\n",
      "Run 1 / 5...\n",
      "Count of 0: 3601  Count of 1: 2399\n",
      "Meta-learning...\n"
     ]
    },
    {
     "name": "stderr",
     "output_type": "stream",
     "text": [
      "100%|██████████| 50/50 [02:00<00:00,  2.41s/it]\n",
      "  3%|▎         | 48/1500 [00:00<00:03, 476.22it/s]"
     ]
    },
    {
     "name": "stdout",
     "output_type": "stream",
     "text": [
      "Last loss: 0.4477\n",
      "Last train accuracy: 0.8513\n",
      "Last test accuracy: 0.8507\n",
      "Count of 0: 3868  Count of 1: 2132\n",
      "Training SAME brain instance (NO backprop)...\n",
      "===> WARNING: Backprop is disabled, which means that all layers without rules will never change their weights!\n",
      "===> This is NOT recommended by Basile!\n",
      "INITIAL train accuracy: 0.3540\n",
      "INITIAL test accuracy: 0.3558\n",
      "Epoch 1 / 1 ...\n"
     ]
    },
    {
     "name": "stderr",
     "output_type": "stream",
     "text": [
      "100%|██████████| 1500/1500 [00:03<00:00, 431.13it/s]\n",
      "  0%|          | 0/50 [00:00<?, ?it/s]"
     ]
    },
    {
     "name": "stdout",
     "output_type": "stream",
     "text": [
      "\n",
      "Last loss: 0.6851\n",
      "Last train accuracy: 0.6653\n",
      "Last test accuracy: 0.6600\n",
      "\n",
      "\n",
      "Run 2 / 5...\n",
      "Count of 0: 3338  Count of 1: 2662\n",
      "Meta-learning...\n"
     ]
    },
    {
     "name": "stderr",
     "output_type": "stream",
     "text": [
      "100%|██████████| 50/50 [01:58<00:00,  2.38s/it]\n",
      "  3%|▎         | 48/1500 [00:00<00:03, 479.50it/s]"
     ]
    },
    {
     "name": "stdout",
     "output_type": "stream",
     "text": [
      "Last loss: 0.4409\n",
      "Last train accuracy: 0.8707\n",
      "Last test accuracy: 0.8382\n",
      "Count of 0: 1543  Count of 1: 4457\n",
      "Training SAME brain instance (NO backprop)...\n",
      "===> WARNING: Backprop is disabled, which means that all layers without rules will never change their weights!\n",
      "===> This is NOT recommended by Basile!\n",
      "INITIAL train accuracy: 0.2560\n",
      "INITIAL test accuracy: 0.2576\n",
      "Epoch 1 / 1 ...\n"
     ]
    },
    {
     "name": "stderr",
     "output_type": "stream",
     "text": [
      "100%|██████████| 1500/1500 [00:03<00:00, 433.49it/s]\n",
      "  0%|          | 0/50 [00:00<?, ?it/s]"
     ]
    },
    {
     "name": "stdout",
     "output_type": "stream",
     "text": [
      "\n",
      "Last loss: 0.5913\n",
      "Last train accuracy: 0.7260\n",
      "Last test accuracy: 0.7213\n",
      "\n",
      "\n",
      "Run 3 / 5...\n",
      "Count of 0: 4038  Count of 1: 1962\n",
      "Meta-learning...\n"
     ]
    },
    {
     "name": "stderr",
     "output_type": "stream",
     "text": [
      "100%|██████████| 50/50 [02:02<00:00,  2.45s/it]\n",
      "  0%|          | 0/1500 [00:00<?, ?it/s]"
     ]
    },
    {
     "name": "stdout",
     "output_type": "stream",
     "text": [
      "Last loss: 0.5178\n",
      "Last train accuracy: 0.6827\n",
      "Last test accuracy: 0.6698\n",
      "Count of 0: 3400  Count of 1: 2600\n",
      "Training SAME brain instance (NO backprop)...\n",
      "===> WARNING: Backprop is disabled, which means that all layers without rules will never change their weights!\n",
      "===> This is NOT recommended by Basile!\n",
      "INITIAL train accuracy: 0.4540\n",
      "INITIAL test accuracy: 0.4524\n",
      "Epoch 1 / 1 ...\n"
     ]
    },
    {
     "name": "stderr",
     "output_type": "stream",
     "text": [
      "100%|██████████| 1500/1500 [00:03<00:00, 420.48it/s]\n",
      "  0%|          | 0/50 [00:00<?, ?it/s]"
     ]
    },
    {
     "name": "stdout",
     "output_type": "stream",
     "text": [
      "\n",
      "Last loss: 0.7560\n",
      "Last train accuracy: 0.5673\n",
      "Last test accuracy: 0.5664\n",
      "\n",
      "\n",
      "Run 4 / 5...\n",
      "Count of 0: 3174  Count of 1: 2826\n",
      "Meta-learning...\n"
     ]
    },
    {
     "name": "stderr",
     "output_type": "stream",
     "text": [
      "100%|██████████| 50/50 [02:03<00:00,  2.48s/it]\n",
      "  2%|▏         | 30/1500 [00:00<00:05, 292.61it/s]"
     ]
    },
    {
     "name": "stdout",
     "output_type": "stream",
     "text": [
      "Last loss: 0.4455\n",
      "Last train accuracy: 0.8773\n",
      "Last test accuracy: 0.8236\n",
      "Count of 0: 4828  Count of 1: 1172\n",
      "Training SAME brain instance (NO backprop)...\n",
      "===> WARNING: Backprop is disabled, which means that all layers without rules will never change their weights!\n",
      "===> This is NOT recommended by Basile!\n",
      "INITIAL train accuracy: 0.1860\n",
      "INITIAL test accuracy: 0.1984\n",
      "Epoch 1 / 1 ...\n"
     ]
    },
    {
     "name": "stderr",
     "output_type": "stream",
     "text": [
      "100%|██████████| 1500/1500 [00:03<00:00, 406.56it/s]\n",
      "  0%|          | 0/50 [00:00<?, ?it/s]"
     ]
    },
    {
     "name": "stdout",
     "output_type": "stream",
     "text": [
      "\n",
      "Last loss: 0.4931\n",
      "Last train accuracy: 0.7980\n",
      "Last test accuracy: 0.7856\n",
      "\n",
      "\n",
      "Run 5 / 5...\n",
      "Count of 0: 1835  Count of 1: 4165\n",
      "Meta-learning...\n"
     ]
    },
    {
     "name": "stderr",
     "output_type": "stream",
     "text": [
      "100%|██████████| 50/50 [02:03<00:00,  2.47s/it]\n",
      "  3%|▎         | 49/1500 [00:00<00:03, 481.90it/s]"
     ]
    },
    {
     "name": "stdout",
     "output_type": "stream",
     "text": [
      "Last loss: 0.4954\n",
      "Last train accuracy: 0.7007\n",
      "Last test accuracy: 0.7029\n",
      "Count of 0: 3105  Count of 1: 2895\n",
      "Training SAME brain instance (NO backprop)...\n",
      "===> WARNING: Backprop is disabled, which means that all layers without rules will never change their weights!\n",
      "===> This is NOT recommended by Basile!\n",
      "INITIAL train accuracy: 0.4987\n",
      "INITIAL test accuracy: 0.5238\n",
      "Epoch 1 / 1 ...\n"
     ]
    },
    {
     "name": "stderr",
     "output_type": "stream",
     "text": [
      "100%|██████████| 1500/1500 [00:03<00:00, 422.03it/s]\n",
      "  0%|          | 0/50 [00:00<?, ?it/s]"
     ]
    },
    {
     "name": "stdout",
     "output_type": "stream",
     "text": [
      "\n",
      "Last loss: 0.7370\n",
      "Last train accuracy: 0.5060\n",
      "Last test accuracy: 0.5331\n",
      "\n",
      "Universal: False\n",
      "Number hidden layers: 2\n",
      "Hidden layer width: 32\n",
      "Cap: 16\n",
      "==== Interpretation: Pre and Post ====\n",
      "\n",
      "Run 1 / 5...\n",
      "Count of 0: 1009  Count of 1: 4991\n",
      "Meta-learning...\n"
     ]
    },
    {
     "name": "stderr",
     "output_type": "stream",
     "text": [
      "100%|██████████| 50/50 [02:04<00:00,  2.49s/it]\n",
      "  3%|▎         | 47/1500 [00:00<00:03, 460.27it/s]"
     ]
    },
    {
     "name": "stdout",
     "output_type": "stream",
     "text": [
      "Last loss: 0.4212\n",
      "Last train accuracy: 0.8407\n",
      "Last test accuracy: 0.8427\n",
      "Count of 0: 4296  Count of 1: 1704\n",
      "Training SAME brain instance (NO backprop)...\n",
      "===> WARNING: Backprop is disabled, which means that all layers without rules will never change their weights!\n",
      "===> This is NOT recommended by Basile!\n",
      "INITIAL train accuracy: 0.2653\n",
      "INITIAL test accuracy: 0.2816\n",
      "Epoch 1 / 1 ...\n"
     ]
    },
    {
     "name": "stderr",
     "output_type": "stream",
     "text": [
      "100%|██████████| 1500/1500 [00:03<00:00, 412.48it/s]\n",
      "  0%|          | 0/50 [00:00<?, ?it/s]"
     ]
    },
    {
     "name": "stdout",
     "output_type": "stream",
     "text": [
      "\n",
      "Last loss: 0.5568\n",
      "Last train accuracy: 0.7280\n",
      "Last test accuracy: 0.7120\n",
      "\n",
      "\n",
      "Run 2 / 5...\n",
      "Count of 0: 5194  Count of 1: 806\n",
      "Meta-learning...\n"
     ]
    },
    {
     "name": "stderr",
     "output_type": "stream",
     "text": [
      "100%|██████████| 50/50 [02:05<00:00,  2.51s/it]\n",
      "  3%|▎         | 49/1500 [00:00<00:02, 485.60it/s]"
     ]
    },
    {
     "name": "stdout",
     "output_type": "stream",
     "text": [
      "Last loss: 0.6931\n",
      "Last train accuracy: 0.8607\n",
      "Last test accuracy: 0.8673\n",
      "Count of 0: 2696  Count of 1: 3304\n",
      "Training SAME brain instance (NO backprop)...\n",
      "===> WARNING: Backprop is disabled, which means that all layers without rules will never change their weights!\n",
      "===> This is NOT recommended by Basile!\n",
      "INITIAL train accuracy: 0.4533\n",
      "INITIAL test accuracy: 0.4480\n",
      "Epoch 1 / 1 ...\n"
     ]
    },
    {
     "name": "stderr",
     "output_type": "stream",
     "text": [
      "100%|██████████| 1500/1500 [00:03<00:00, 410.56it/s]\n",
      "  0%|          | 0/50 [00:00<?, ?it/s]"
     ]
    },
    {
     "name": "stdout",
     "output_type": "stream",
     "text": [
      "\n",
      "Last loss: 0.6931\n",
      "Last train accuracy: 0.4533\n",
      "Last test accuracy: 0.4480\n",
      "\n",
      "\n",
      "Run 3 / 5...\n",
      "Count of 0: 2791  Count of 1: 3209\n",
      "Meta-learning...\n"
     ]
    },
    {
     "name": "stderr",
     "output_type": "stream",
     "text": [
      "100%|██████████| 50/50 [02:06<00:00,  2.52s/it]\n",
      "  3%|▎         | 46/1500 [00:00<00:03, 455.95it/s]"
     ]
    },
    {
     "name": "stdout",
     "output_type": "stream",
     "text": [
      "Last loss: 0.4178\n",
      "Last train accuracy: 0.8973\n",
      "Last test accuracy: 0.8576\n",
      "Count of 0: 4772  Count of 1: 1228\n",
      "Training SAME brain instance (NO backprop)...\n",
      "===> WARNING: Backprop is disabled, which means that all layers without rules will never change their weights!\n",
      "===> This is NOT recommended by Basile!\n",
      "INITIAL train accuracy: 0.2060\n",
      "INITIAL test accuracy: 0.2042\n",
      "Epoch 1 / 1 ...\n"
     ]
    },
    {
     "name": "stderr",
     "output_type": "stream",
     "text": [
      "100%|██████████| 1500/1500 [00:03<00:00, 414.54it/s]\n",
      "  0%|          | 0/50 [00:00<?, ?it/s]"
     ]
    },
    {
     "name": "stdout",
     "output_type": "stream",
     "text": [
      "\n",
      "Last loss: 0.5499\n",
      "Last train accuracy: 0.7587\n",
      "Last test accuracy: 0.7498\n",
      "\n",
      "\n",
      "Run 4 / 5...\n",
      "Count of 0: 1691  Count of 1: 4309\n",
      "Meta-learning...\n"
     ]
    },
    {
     "name": "stderr",
     "output_type": "stream",
     "text": [
      "100%|██████████| 50/50 [02:09<00:00,  2.58s/it]\n",
      "  3%|▎         | 47/1500 [00:00<00:03, 460.64it/s]"
     ]
    },
    {
     "name": "stdout",
     "output_type": "stream",
     "text": [
      "Last loss: 0.3989\n",
      "Last train accuracy: 0.8993\n",
      "Last test accuracy: 0.8733\n",
      "Count of 0: 4616  Count of 1: 1384\n",
      "Training SAME brain instance (NO backprop)...\n",
      "===> WARNING: Backprop is disabled, which means that all layers without rules will never change their weights!\n",
      "===> This is NOT recommended by Basile!\n",
      "INITIAL train accuracy: 0.2307\n",
      "INITIAL test accuracy: 0.2307\n",
      "Epoch 1 / 1 ...\n"
     ]
    },
    {
     "name": "stderr",
     "output_type": "stream",
     "text": [
      "100%|██████████| 1500/1500 [00:03<00:00, 420.75it/s]\n",
      "  0%|          | 0/50 [00:00<?, ?it/s]"
     ]
    },
    {
     "name": "stdout",
     "output_type": "stream",
     "text": [
      "\n",
      "Last loss: 0.5353\n",
      "Last train accuracy: 0.7947\n",
      "Last test accuracy: 0.7802\n",
      "\n",
      "\n",
      "Run 5 / 5...\n",
      "Count of 0: 4293  Count of 1: 1707\n",
      "Meta-learning...\n"
     ]
    },
    {
     "name": "stderr",
     "output_type": "stream",
     "text": [
      "100%|██████████| 50/50 [02:03<00:00,  2.47s/it]\n",
      "  2%|▏         | 26/1500 [00:00<00:06, 219.22it/s]"
     ]
    },
    {
     "name": "stdout",
     "output_type": "stream",
     "text": [
      "Last loss: 0.4965\n",
      "Last train accuracy: 0.7120\n",
      "Last test accuracy: 0.7167\n",
      "Count of 0: 1379  Count of 1: 4621\n",
      "Training SAME brain instance (NO backprop)...\n",
      "===> WARNING: Backprop is disabled, which means that all layers without rules will never change their weights!\n",
      "===> This is NOT recommended by Basile!\n",
      "INITIAL train accuracy: 0.2153\n",
      "INITIAL test accuracy: 0.2347\n",
      "Epoch 1 / 1 ...\n"
     ]
    },
    {
     "name": "stderr",
     "output_type": "stream",
     "text": [
      "100%|██████████| 1500/1500 [00:03<00:00, 382.04it/s]\n",
      "  0%|          | 0/50 [00:00<?, ?it/s]"
     ]
    },
    {
     "name": "stdout",
     "output_type": "stream",
     "text": [
      "\n",
      "Last loss: 0.5356\n",
      "Last train accuracy: 0.7880\n",
      "Last test accuracy: 0.7647\n",
      "\n",
      "Universal: False\n",
      "Number hidden layers: 2\n",
      "Hidden layer width: 64\n",
      "Cap: 32\n",
      "==== Interpretation: Pre and Post ====\n",
      "\n",
      "Run 1 / 5...\n",
      "Count of 0: 2658  Count of 1: 3342\n",
      "Meta-learning...\n"
     ]
    },
    {
     "name": "stderr",
     "output_type": "stream",
     "text": [
      "100%|██████████| 50/50 [02:18<00:00,  2.76s/it]\n",
      "  0%|          | 0/1500 [00:00<?, ?it/s]"
     ]
    },
    {
     "name": "stdout",
     "output_type": "stream",
     "text": [
      "Last loss: 0.6931\n",
      "Last train accuracy: 0.4320\n",
      "Last test accuracy: 0.4467\n",
      "Count of 0: 33  Count of 1: 5967\n",
      "Training SAME brain instance (NO backprop)...\n",
      "===> WARNING: Backprop is disabled, which means that all layers without rules will never change their weights!\n",
      "===> This is NOT recommended by Basile!\n",
      "INITIAL train accuracy: 0.0040\n",
      "INITIAL test accuracy: 0.0060\n",
      "Epoch 1 / 1 ...\n"
     ]
    },
    {
     "name": "stderr",
     "output_type": "stream",
     "text": [
      "100%|██████████| 1500/1500 [00:04<00:00, 368.26it/s]\n",
      "  0%|          | 0/50 [00:00<?, ?it/s]"
     ]
    },
    {
     "name": "stdout",
     "output_type": "stream",
     "text": [
      "\n",
      "Last loss: 0.6931\n",
      "Last train accuracy: 0.0040\n",
      "Last test accuracy: 0.0060\n",
      "\n",
      "\n",
      "Run 2 / 5...\n",
      "Count of 0: 2876  Count of 1: 3124\n",
      "Meta-learning...\n"
     ]
    },
    {
     "name": "stderr",
     "output_type": "stream",
     "text": [
      "100%|██████████| 50/50 [02:23<00:00,  2.88s/it]\n",
      "  3%|▎         | 42/1500 [00:00<00:03, 415.84it/s]"
     ]
    },
    {
     "name": "stdout",
     "output_type": "stream",
     "text": [
      "Last loss: 0.6931\n",
      "Last train accuracy: 0.4740\n",
      "Last test accuracy: 0.4811\n",
      "Count of 0: 4089  Count of 1: 1911\n",
      "Training SAME brain instance (NO backprop)...\n",
      "===> WARNING: Backprop is disabled, which means that all layers without rules will never change their weights!\n",
      "===> This is NOT recommended by Basile!\n",
      "INITIAL train accuracy: 0.6787\n",
      "INITIAL test accuracy: 0.6824\n",
      "Epoch 1 / 1 ...\n"
     ]
    },
    {
     "name": "stderr",
     "output_type": "stream",
     "text": [
      "100%|██████████| 1500/1500 [00:04<00:00, 324.94it/s]\n",
      "  0%|          | 0/50 [00:00<?, ?it/s]"
     ]
    },
    {
     "name": "stdout",
     "output_type": "stream",
     "text": [
      "\n",
      "Last loss: 0.6931\n",
      "Last train accuracy: 0.6787\n",
      "Last test accuracy: 0.6824\n",
      "\n",
      "\n",
      "Run 3 / 5...\n",
      "Count of 0: 5320  Count of 1: 680\n",
      "Meta-learning...\n"
     ]
    },
    {
     "name": "stderr",
     "output_type": "stream",
     "text": [
      "100%|██████████| 50/50 [02:25<00:00,  2.91s/it]\n",
      "  3%|▎         | 42/1500 [00:00<00:03, 415.39it/s]"
     ]
    },
    {
     "name": "stdout",
     "output_type": "stream",
     "text": [
      "Last loss: 0.3856\n",
      "Last train accuracy: 0.8973\n",
      "Last test accuracy: 0.8831\n",
      "Count of 0: 5410  Count of 1: 590\n",
      "Training SAME brain instance (NO backprop)...\n",
      "===> WARNING: Backprop is disabled, which means that all layers without rules will never change their weights!\n",
      "===> This is NOT recommended by Basile!\n",
      "INITIAL train accuracy: 0.9167\n",
      "INITIAL test accuracy: 0.8967\n",
      "Epoch 1 / 1 ...\n"
     ]
    },
    {
     "name": "stderr",
     "output_type": "stream",
     "text": [
      "100%|██████████| 1500/1500 [00:04<00:00, 362.61it/s]\n",
      "  0%|          | 0/50 [00:00<?, ?it/s]"
     ]
    },
    {
     "name": "stdout",
     "output_type": "stream",
     "text": [
      "\n",
      "Last loss: 0.3940\n",
      "Last train accuracy: 0.9167\n",
      "Last test accuracy: 0.8967\n",
      "\n",
      "\n",
      "Run 4 / 5...\n",
      "Count of 0: 3719  Count of 1: 2281\n",
      "Meta-learning...\n"
     ]
    },
    {
     "name": "stderr",
     "output_type": "stream",
     "text": [
      "100%|██████████| 50/50 [02:27<00:00,  2.95s/it]\n",
      "  3%|▎         | 50/1500 [00:00<00:02, 497.53it/s]"
     ]
    },
    {
     "name": "stdout",
     "output_type": "stream",
     "text": [
      "Last loss: 0.3941\n",
      "Last train accuracy: 0.9173\n",
      "Last test accuracy: 0.8767\n",
      "Count of 0: 1338  Count of 1: 4662\n",
      "Training SAME brain instance (NO backprop)...\n",
      "===> WARNING: Backprop is disabled, which means that all layers without rules will never change their weights!\n",
      "===> This is NOT recommended by Basile!\n",
      "INITIAL train accuracy: 0.2160\n",
      "INITIAL test accuracy: 0.2253\n",
      "Epoch 1 / 1 ...\n"
     ]
    },
    {
     "name": "stderr",
     "output_type": "stream",
     "text": [
      "100%|██████████| 1500/1500 [00:04<00:00, 338.97it/s]\n",
      "  0%|          | 0/50 [00:00<?, ?it/s]"
     ]
    },
    {
     "name": "stdout",
     "output_type": "stream",
     "text": [
      "\n",
      "Last loss: 0.5045\n",
      "Last train accuracy: 0.7907\n",
      "Last test accuracy: 0.7793\n",
      "\n",
      "\n",
      "Run 5 / 5...\n",
      "Count of 0: 1167  Count of 1: 4833\n",
      "Meta-learning...\n"
     ]
    },
    {
     "name": "stderr",
     "output_type": "stream",
     "text": [
      "100%|██████████| 50/50 [02:31<00:00,  3.03s/it]\n",
      "  2%|▏         | 26/1500 [00:00<00:05, 254.86it/s]"
     ]
    },
    {
     "name": "stdout",
     "output_type": "stream",
     "text": [
      "Last loss: 0.4487\n",
      "Last train accuracy: 0.8127\n",
      "Last test accuracy: 0.8076\n",
      "Count of 0: 1539  Count of 1: 4461\n",
      "Training SAME brain instance (NO backprop)...\n",
      "===> WARNING: Backprop is disabled, which means that all layers without rules will never change their weights!\n",
      "===> This is NOT recommended by Basile!\n",
      "INITIAL train accuracy: 0.2507\n",
      "INITIAL test accuracy: 0.2584\n",
      "Epoch 1 / 1 ...\n"
     ]
    },
    {
     "name": "stderr",
     "output_type": "stream",
     "text": [
      "100%|██████████| 1500/1500 [00:04<00:00, 345.08it/s]\n",
      "  0%|          | 0/50 [00:00<?, ?it/s]"
     ]
    },
    {
     "name": "stdout",
     "output_type": "stream",
     "text": [
      "\n",
      "Last loss: 0.5874\n",
      "Last train accuracy: 0.7453\n",
      "Last test accuracy: 0.7402\n",
      "\n",
      "Universal: False\n",
      "Number hidden layers: 3\n",
      "Hidden layer width: 16\n",
      "Cap: 8\n",
      "==== Interpretation: Pre and Post ====\n",
      "\n",
      "Run 1 / 5...\n",
      "Count of 0: 4612  Count of 1: 1388\n",
      "Meta-learning...\n"
     ]
    },
    {
     "name": "stderr",
     "output_type": "stream",
     "text": [
      "100%|██████████| 50/50 [03:13<00:00,  3.86s/it]\n",
      "  0%|          | 0/1500 [00:00<?, ?it/s]"
     ]
    },
    {
     "name": "stdout",
     "output_type": "stream",
     "text": [
      "Last loss: 0.6931\n",
      "Last train accuracy: 0.7553\n",
      "Last test accuracy: 0.7731\n",
      "Count of 0: 4283  Count of 1: 1717\n",
      "Training SAME brain instance (NO backprop)...\n",
      "===> WARNING: Backprop is disabled, which means that all layers without rules will never change their weights!\n",
      "===> This is NOT recommended by Basile!\n",
      "INITIAL train accuracy: 0.7187\n",
      "INITIAL test accuracy: 0.7122\n",
      "Epoch 1 / 1 ...\n"
     ]
    },
    {
     "name": "stderr",
     "output_type": "stream",
     "text": [
      "100%|██████████| 1500/1500 [00:05<00:00, 281.02it/s]\n",
      "  0%|          | 0/50 [00:00<?, ?it/s]"
     ]
    },
    {
     "name": "stdout",
     "output_type": "stream",
     "text": [
      "\n",
      "Last loss: 0.6931\n",
      "Last train accuracy: 0.7187\n",
      "Last test accuracy: 0.7122\n",
      "\n",
      "\n",
      "Run 2 / 5...\n",
      "Count of 0: 4239  Count of 1: 1761\n",
      "Meta-learning...\n"
     ]
    },
    {
     "name": "stderr",
     "output_type": "stream",
     "text": [
      "100%|██████████| 50/50 [03:19<00:00,  3.99s/it]\n",
      "  0%|          | 0/1500 [00:00<?, ?it/s]"
     ]
    },
    {
     "name": "stdout",
     "output_type": "stream",
     "text": [
      "Last loss: 0.4865\n",
      "Last train accuracy: 0.7233\n",
      "Last test accuracy: 0.7009\n",
      "Count of 0: 5191  Count of 1: 809\n",
      "Training SAME brain instance (NO backprop)...\n",
      "===> WARNING: Backprop is disabled, which means that all layers without rules will never change their weights!\n",
      "===> This is NOT recommended by Basile!\n",
      "INITIAL train accuracy: 0.1433\n",
      "INITIAL test accuracy: 0.1518\n",
      "Epoch 1 / 1 ...\n"
     ]
    },
    {
     "name": "stderr",
     "output_type": "stream",
     "text": [
      "100%|██████████| 1500/1500 [00:04<00:00, 300.81it/s]\n",
      "  0%|          | 0/50 [00:00<?, ?it/s]"
     ]
    },
    {
     "name": "stdout",
     "output_type": "stream",
     "text": [
      "\n",
      "Last loss: 0.4380\n",
      "Last train accuracy: 0.8680\n",
      "Last test accuracy: 0.8642\n",
      "\n",
      "\n",
      "Run 3 / 5...\n",
      "Count of 0: 2526  Count of 1: 3474\n",
      "Meta-learning...\n"
     ]
    },
    {
     "name": "stderr",
     "output_type": "stream",
     "text": [
      "100%|██████████| 50/50 [03:15<00:00,  3.91s/it]\n",
      "  0%|          | 0/1500 [00:00<?, ?it/s]"
     ]
    },
    {
     "name": "stdout",
     "output_type": "stream",
     "text": [
      "Last loss: 0.4526\n",
      "Last train accuracy: 0.8487\n",
      "Last test accuracy: 0.8273\n",
      "Count of 0: 3775  Count of 1: 2225\n",
      "Training SAME brain instance (NO backprop)...\n",
      "===> WARNING: Backprop is disabled, which means that all layers without rules will never change their weights!\n",
      "===> This is NOT recommended by Basile!\n",
      "INITIAL train accuracy: 0.6280\n",
      "INITIAL test accuracy: 0.6296\n",
      "Epoch 1 / 1 ...\n"
     ]
    },
    {
     "name": "stderr",
     "output_type": "stream",
     "text": [
      "100%|██████████| 1500/1500 [00:05<00:00, 279.36it/s]\n",
      "  0%|          | 0/50 [00:00<?, ?it/s]"
     ]
    },
    {
     "name": "stdout",
     "output_type": "stream",
     "text": [
      "\n",
      "Last loss: 0.7422\n",
      "Last train accuracy: 0.5653\n",
      "Last test accuracy: 0.5782\n",
      "\n",
      "\n",
      "Run 4 / 5...\n",
      "Count of 0: 2668  Count of 1: 3332\n",
      "Meta-learning...\n"
     ]
    },
    {
     "name": "stderr",
     "output_type": "stream",
     "text": [
      "100%|██████████| 50/50 [03:20<00:00,  4.00s/it]\n",
      "  0%|          | 0/1500 [00:00<?, ?it/s]"
     ]
    },
    {
     "name": "stdout",
     "output_type": "stream",
     "text": [
      "Last loss: 0.4098\n",
      "Last train accuracy: 0.8840\n",
      "Last test accuracy: 0.8698\n",
      "Count of 0: 1597  Count of 1: 4403\n",
      "Training SAME brain instance (NO backprop)...\n",
      "===> WARNING: Backprop is disabled, which means that all layers without rules will never change their weights!\n",
      "===> This is NOT recommended by Basile!\n",
      "INITIAL train accuracy: 0.2713\n",
      "INITIAL test accuracy: 0.2644\n",
      "Epoch 1 / 1 ...\n"
     ]
    },
    {
     "name": "stderr",
     "output_type": "stream",
     "text": [
      "100%|██████████| 1500/1500 [00:04<00:00, 306.00it/s]\n",
      "  0%|          | 0/50 [00:00<?, ?it/s]"
     ]
    },
    {
     "name": "stdout",
     "output_type": "stream",
     "text": [
      "\n",
      "Last loss: 0.5833\n",
      "Last train accuracy: 0.7307\n",
      "Last test accuracy: 0.7360\n",
      "\n",
      "\n",
      "Run 5 / 5...\n",
      "Count of 0: 3069  Count of 1: 2931\n",
      "Meta-learning...\n"
     ]
    },
    {
     "name": "stderr",
     "output_type": "stream",
     "text": [
      "100%|██████████| 50/50 [03:10<00:00,  3.81s/it]\n",
      "  0%|          | 0/1500 [00:00<?, ?it/s]"
     ]
    },
    {
     "name": "stdout",
     "output_type": "stream",
     "text": [
      "Last loss: 0.4404\n",
      "Last train accuracy: 0.8720\n",
      "Last test accuracy: 0.8356\n",
      "Count of 0: 1915  Count of 1: 4085\n",
      "Training SAME brain instance (NO backprop)...\n",
      "===> WARNING: Backprop is disabled, which means that all layers without rules will never change their weights!\n",
      "===> This is NOT recommended by Basile!\n",
      "INITIAL train accuracy: 0.3407\n",
      "INITIAL test accuracy: 0.3120\n",
      "Epoch 1 / 1 ...\n"
     ]
    },
    {
     "name": "stderr",
     "output_type": "stream",
     "text": [
      "100%|██████████| 1500/1500 [00:05<00:00, 268.68it/s]\n",
      "  0%|          | 0/50 [00:00<?, ?it/s]"
     ]
    },
    {
     "name": "stdout",
     "output_type": "stream",
     "text": [
      "\n",
      "Last loss: 0.6013\n",
      "Last train accuracy: 0.6893\n",
      "Last test accuracy: 0.6800\n",
      "\n",
      "Universal: False\n",
      "Number hidden layers: 3\n",
      "Hidden layer width: 32\n",
      "Cap: 16\n",
      "==== Interpretation: Pre and Post ====\n",
      "\n",
      "Run 1 / 5...\n",
      "Count of 0: 3934  Count of 1: 2066\n",
      "Meta-learning...\n"
     ]
    },
    {
     "name": "stderr",
     "output_type": "stream",
     "text": [
      "100%|██████████| 50/50 [03:22<00:00,  4.05s/it]\n",
      "  3%|▎         | 43/1500 [00:00<00:03, 424.26it/s]"
     ]
    },
    {
     "name": "stdout",
     "output_type": "stream",
     "text": [
      "Last loss: 0.5179\n",
      "Last train accuracy: 0.6660\n",
      "Last test accuracy: 0.6522\n",
      "Count of 0: 2095  Count of 1: 3905\n",
      "Training SAME brain instance (NO backprop)...\n",
      "===> WARNING: Backprop is disabled, which means that all layers without rules will never change their weights!\n",
      "===> This is NOT recommended by Basile!\n",
      "INITIAL train accuracy: 0.6407\n",
      "INITIAL test accuracy: 0.6351\n",
      "Epoch 1 / 1 ...\n"
     ]
    },
    {
     "name": "stderr",
     "output_type": "stream",
     "text": [
      "100%|██████████| 1500/1500 [00:05<00:00, 282.51it/s]\n",
      "  0%|          | 0/50 [00:00<?, ?it/s]"
     ]
    },
    {
     "name": "stdout",
     "output_type": "stream",
     "text": [
      "\n",
      "Last loss: 0.6428\n",
      "Last train accuracy: 0.6500\n",
      "Last test accuracy: 0.6489\n",
      "\n",
      "\n",
      "Run 2 / 5...\n",
      "Count of 0: 5441  Count of 1: 559\n",
      "Meta-learning...\n"
     ]
    },
    {
     "name": "stderr",
     "output_type": "stream",
     "text": [
      "100%|██████████| 50/50 [03:32<00:00,  4.26s/it]\n",
      "  0%|          | 0/1500 [00:00<?, ?it/s]"
     ]
    },
    {
     "name": "stdout",
     "output_type": "stream",
     "text": [
      "Last loss: 0.3848\n",
      "Last train accuracy: 0.9007\n",
      "Last test accuracy: 0.9089\n",
      "Count of 0: 3326  Count of 1: 2674\n",
      "Training SAME brain instance (NO backprop)...\n",
      "===> WARNING: Backprop is disabled, which means that all layers without rules will never change their weights!\n",
      "===> This is NOT recommended by Basile!\n",
      "INITIAL train accuracy: 0.5687\n",
      "INITIAL test accuracy: 0.5496\n",
      "Epoch 1 / 1 ...\n"
     ]
    },
    {
     "name": "stderr",
     "output_type": "stream",
     "text": [
      "100%|██████████| 1500/1500 [00:05<00:00, 287.27it/s]\n",
      "  0%|          | 0/50 [00:00<?, ?it/s]"
     ]
    },
    {
     "name": "stdout",
     "output_type": "stream",
     "text": [
      "\n",
      "Last loss: 0.7348\n",
      "Last train accuracy: 0.5687\n",
      "Last test accuracy: 0.5496\n",
      "\n",
      "\n",
      "Run 3 / 5...\n",
      "Count of 0: 2273  Count of 1: 3727\n",
      "Meta-learning...\n"
     ]
    },
    {
     "name": "stderr",
     "output_type": "stream",
     "text": [
      "100%|██████████| 50/50 [03:17<00:00,  3.94s/it]\n",
      "  0%|          | 0/1500 [00:00<?, ?it/s]"
     ]
    },
    {
     "name": "stdout",
     "output_type": "stream",
     "text": [
      "Last loss: 0.6931\n",
      "Last train accuracy: 0.3847\n",
      "Last test accuracy: 0.3769\n",
      "Count of 0: 3299  Count of 1: 2701\n",
      "Training SAME brain instance (NO backprop)...\n",
      "===> WARNING: Backprop is disabled, which means that all layers without rules will never change their weights!\n",
      "===> This is NOT recommended by Basile!\n",
      "INITIAL train accuracy: 0.5407\n",
      "INITIAL test accuracy: 0.5529\n",
      "Epoch 1 / 1 ...\n"
     ]
    },
    {
     "name": "stderr",
     "output_type": "stream",
     "text": [
      "100%|██████████| 1500/1500 [00:04<00:00, 301.92it/s]\n",
      "  0%|          | 0/50 [00:00<?, ?it/s]"
     ]
    },
    {
     "name": "stdout",
     "output_type": "stream",
     "text": [
      "\n",
      "Last loss: 0.6931\n",
      "Last train accuracy: 0.5407\n",
      "Last test accuracy: 0.5529\n",
      "\n",
      "\n",
      "Run 4 / 5...\n",
      "Count of 0: 2829  Count of 1: 3171\n",
      "Meta-learning...\n"
     ]
    },
    {
     "name": "stderr",
     "output_type": "stream",
     "text": [
      "100%|██████████| 50/50 [03:21<00:00,  4.04s/it]\n",
      "  0%|          | 0/1500 [00:00<?, ?it/s]"
     ]
    },
    {
     "name": "stdout",
     "output_type": "stream",
     "text": [
      "Last loss: 0.6931\n",
      "Last train accuracy: 0.4527\n",
      "Last test accuracy: 0.4778\n",
      "Count of 0: 1039  Count of 1: 4961\n",
      "Training SAME brain instance (NO backprop)...\n",
      "===> WARNING: Backprop is disabled, which means that all layers without rules will never change their weights!\n",
      "===> This is NOT recommended by Basile!\n",
      "INITIAL train accuracy: 0.1560\n",
      "INITIAL test accuracy: 0.1789\n",
      "Epoch 1 / 1 ...\n"
     ]
    },
    {
     "name": "stderr",
     "output_type": "stream",
     "text": [
      "100%|██████████| 1500/1500 [00:05<00:00, 274.03it/s]\n",
      "  0%|          | 0/50 [00:00<?, ?it/s]"
     ]
    },
    {
     "name": "stdout",
     "output_type": "stream",
     "text": [
      "\n",
      "Last loss: 0.6931\n",
      "Last train accuracy: 0.1560\n",
      "Last test accuracy: 0.1789\n",
      "\n",
      "\n",
      "Run 5 / 5...\n",
      "Count of 0: 4551  Count of 1: 1449\n",
      "Meta-learning...\n"
     ]
    },
    {
     "name": "stderr",
     "output_type": "stream",
     "text": [
      "100%|██████████| 50/50 [03:24<00:00,  4.08s/it]\n",
      "  0%|          | 0/1500 [00:00<?, ?it/s]"
     ]
    },
    {
     "name": "stdout",
     "output_type": "stream",
     "text": [
      "Last loss: 0.6931\n",
      "Last train accuracy: 0.7547\n",
      "Last test accuracy: 0.7598\n",
      "Count of 0: 778  Count of 1: 5222\n",
      "Training SAME brain instance (NO backprop)...\n",
      "===> WARNING: Backprop is disabled, which means that all layers without rules will never change their weights!\n",
      "===> This is NOT recommended by Basile!\n",
      "INITIAL train accuracy: 0.1407\n",
      "INITIAL test accuracy: 0.1260\n",
      "Epoch 1 / 1 ...\n"
     ]
    },
    {
     "name": "stderr",
     "output_type": "stream",
     "text": [
      "100%|██████████| 1500/1500 [00:04<00:00, 300.47it/s]\n",
      "  0%|          | 0/50 [00:00<?, ?it/s]"
     ]
    },
    {
     "name": "stdout",
     "output_type": "stream",
     "text": [
      "\n",
      "Last loss: 0.6931\n",
      "Last train accuracy: 0.1407\n",
      "Last test accuracy: 0.1260\n",
      "\n",
      "Universal: False\n",
      "Number hidden layers: 3\n",
      "Hidden layer width: 64\n",
      "Cap: 32\n",
      "==== Interpretation: Pre and Post ====\n",
      "\n",
      "Run 1 / 5...\n",
      "Count of 0: 740  Count of 1: 5260\n",
      "Meta-learning...\n"
     ]
    },
    {
     "name": "stderr",
     "output_type": "stream",
     "text": [
      "100%|██████████| 50/50 [03:59<00:00,  4.79s/it]\n",
      "  0%|          | 0/1500 [00:00<?, ?it/s]"
     ]
    },
    {
     "name": "stdout",
     "output_type": "stream",
     "text": [
      "Last loss: 0.3937\n",
      "Last train accuracy: 0.8933\n",
      "Last test accuracy: 0.8724\n",
      "Count of 0: 1351  Count of 1: 4649\n",
      "Training SAME brain instance (NO backprop)...\n",
      "===> WARNING: Backprop is disabled, which means that all layers without rules will never change their weights!\n",
      "===> This is NOT recommended by Basile!\n",
      "INITIAL train accuracy: 0.2087\n",
      "INITIAL test accuracy: 0.2307\n",
      "Epoch 1 / 1 ...\n"
     ]
    },
    {
     "name": "stderr",
     "output_type": "stream",
     "text": [
      "100%|██████████| 1500/1500 [00:06<00:00, 238.97it/s]\n",
      "  0%|          | 0/50 [00:00<?, ?it/s]"
     ]
    },
    {
     "name": "stdout",
     "output_type": "stream",
     "text": [
      "\n",
      "Last loss: 0.5360\n",
      "Last train accuracy: 0.7913\n",
      "Last test accuracy: 0.7689\n",
      "\n",
      "\n",
      "Run 2 / 5...\n",
      "Count of 0: 4255  Count of 1: 1745\n",
      "Meta-learning...\n"
     ]
    },
    {
     "name": "stderr",
     "output_type": "stream",
     "text": [
      "100%|██████████| 50/50 [04:05<00:00,  4.92s/it]\n",
      "  2%|▏         | 31/1500 [00:00<00:04, 306.70it/s]"
     ]
    },
    {
     "name": "stdout",
     "output_type": "stream",
     "text": [
      "Last loss: 0.4856\n",
      "Last train accuracy: 0.7013\n",
      "Last test accuracy: 0.7118\n",
      "Count of 0: 3404  Count of 1: 2596\n",
      "Training SAME brain instance (NO backprop)...\n",
      "===> WARNING: Backprop is disabled, which means that all layers without rules will never change their weights!\n",
      "===> This is NOT recommended by Basile!\n",
      "INITIAL train accuracy: 0.5613\n",
      "INITIAL test accuracy: 0.5693\n",
      "Epoch 1 / 1 ...\n"
     ]
    },
    {
     "name": "stderr",
     "output_type": "stream",
     "text": [
      "100%|██████████| 1500/1500 [00:05<00:00, 261.45it/s]\n",
      "  0%|          | 0/50 [00:00<?, ?it/s]"
     ]
    },
    {
     "name": "stdout",
     "output_type": "stream",
     "text": [
      "\n",
      "Last loss: 0.7486\n",
      "Last train accuracy: 0.5613\n",
      "Last test accuracy: 0.5693\n",
      "\n",
      "\n",
      "Run 3 / 5...\n",
      "Count of 0: 5499  Count of 1: 501\n",
      "Meta-learning...\n"
     ]
    },
    {
     "name": "stderr",
     "output_type": "stream",
     "text": [
      "100%|██████████| 50/50 [04:06<00:00,  4.93s/it]\n",
      "  0%|          | 0/1500 [00:00<?, ?it/s]"
     ]
    },
    {
     "name": "stdout",
     "output_type": "stream",
     "text": [
      "Last loss: 0.6931\n",
      "Last train accuracy: 0.9093\n",
      "Last test accuracy: 0.9189\n",
      "Count of 0: 4188  Count of 1: 1812\n",
      "Training SAME brain instance (NO backprop)...\n",
      "===> WARNING: Backprop is disabled, which means that all layers without rules will never change their weights!\n",
      "===> This is NOT recommended by Basile!\n",
      "INITIAL train accuracy: 0.6907\n",
      "INITIAL test accuracy: 0.7004\n",
      "Epoch 1 / 1 ...\n"
     ]
    },
    {
     "name": "stderr",
     "output_type": "stream",
     "text": [
      "100%|██████████| 1500/1500 [00:05<00:00, 253.78it/s]\n",
      "  0%|          | 0/50 [00:00<?, ?it/s]"
     ]
    },
    {
     "name": "stdout",
     "output_type": "stream",
     "text": [
      "\n",
      "Last loss: 0.6931\n",
      "Last train accuracy: 0.6907\n",
      "Last test accuracy: 0.7004\n",
      "\n",
      "\n",
      "Run 4 / 5...\n",
      "Count of 0: 976  Count of 1: 5024\n",
      "Meta-learning...\n"
     ]
    },
    {
     "name": "stderr",
     "output_type": "stream",
     "text": [
      "100%|██████████| 50/50 [03:51<00:00,  4.62s/it]\n",
      "  0%|          | 0/1500 [00:00<?, ?it/s]"
     ]
    },
    {
     "name": "stdout",
     "output_type": "stream",
     "text": [
      "Last loss: 0.6931\n",
      "Last train accuracy: 0.1607\n",
      "Last test accuracy: 0.1633\n",
      "Count of 0: 3548  Count of 1: 2452\n",
      "Training SAME brain instance (NO backprop)...\n",
      "===> WARNING: Backprop is disabled, which means that all layers without rules will never change their weights!\n",
      "===> This is NOT recommended by Basile!\n",
      "INITIAL train accuracy: 0.5927\n",
      "INITIAL test accuracy: 0.5909\n",
      "Epoch 1 / 1 ...\n"
     ]
    },
    {
     "name": "stderr",
     "output_type": "stream",
     "text": [
      "100%|██████████| 1500/1500 [00:05<00:00, 267.46it/s]\n",
      "  0%|          | 0/50 [00:00<?, ?it/s]"
     ]
    },
    {
     "name": "stdout",
     "output_type": "stream",
     "text": [
      "\n",
      "Last loss: 0.6931\n",
      "Last train accuracy: 0.5927\n",
      "Last test accuracy: 0.5909\n",
      "\n",
      "\n",
      "Run 5 / 5...\n",
      "Count of 0: 3229  Count of 1: 2771\n",
      "Meta-learning...\n"
     ]
    },
    {
     "name": "stderr",
     "output_type": "stream",
     "text": [
      "100%|██████████| 50/50 [03:46<00:00,  4.54s/it]\n",
      "  0%|          | 0/1500 [00:00<?, ?it/s]"
     ]
    },
    {
     "name": "stdout",
     "output_type": "stream",
     "text": [
      "Last loss: 0.6931\n",
      "Last train accuracy: 0.5573\n",
      "Last test accuracy: 0.5318\n",
      "Count of 0: 3786  Count of 1: 2214\n",
      "Training SAME brain instance (NO backprop)...\n",
      "===> WARNING: Backprop is disabled, which means that all layers without rules will never change their weights!\n",
      "===> This is NOT recommended by Basile!\n",
      "INITIAL train accuracy: 0.6340\n",
      "INITIAL test accuracy: 0.6300\n",
      "Epoch 1 / 1 ...\n"
     ]
    },
    {
     "name": "stderr",
     "output_type": "stream",
     "text": [
      "100%|██████████| 1500/1500 [00:06<00:00, 246.66it/s]\n",
      "  0%|          | 0/50 [00:00<?, ?it/s]"
     ]
    },
    {
     "name": "stdout",
     "output_type": "stream",
     "text": [
      "\n",
      "Last loss: 0.6931\n",
      "Last train accuracy: 0.6340\n",
      "Last test accuracy: 0.6300\n",
      "\n",
      "Universal: False\n",
      "Number hidden layers: 4\n",
      "Hidden layer width: 16\n",
      "Cap: 8\n",
      "==== Interpretation: Pre and Post ====\n",
      "\n",
      "Run 1 / 5...\n",
      "Count of 0: 2948  Count of 1: 3052\n",
      "Meta-learning...\n"
     ]
    },
    {
     "name": "stderr",
     "output_type": "stream",
     "text": [
      "100%|██████████| 50/50 [03:50<00:00,  4.61s/it]\n",
      "  2%|▏         | 28/1500 [00:00<00:05, 277.31it/s]"
     ]
    },
    {
     "name": "stdout",
     "output_type": "stream",
     "text": [
      "Last loss: 0.6912\n",
      "Last train accuracy: 0.4967\n",
      "Last test accuracy: 0.4896\n",
      "Count of 0: 2990  Count of 1: 3010\n",
      "Training SAME brain instance (NO backprop)...\n",
      "===> WARNING: Backprop is disabled, which means that all layers without rules will never change their weights!\n",
      "===> This is NOT recommended by Basile!\n",
      "INITIAL train accuracy: 0.4827\n",
      "INITIAL test accuracy: 0.5036\n",
      "Epoch 1 / 1 ...\n"
     ]
    },
    {
     "name": "stderr",
     "output_type": "stream",
     "text": [
      "100%|██████████| 1500/1500 [00:05<00:00, 276.97it/s]\n",
      "  0%|          | 0/50 [00:00<?, ?it/s]"
     ]
    },
    {
     "name": "stdout",
     "output_type": "stream",
     "text": [
      "\n",
      "Last loss: 0.6931\n",
      "Last train accuracy: 0.4827\n",
      "Last test accuracy: 0.5036\n",
      "\n",
      "\n",
      "Run 2 / 5...\n",
      "Count of 0: 2713  Count of 1: 3287\n",
      "Meta-learning...\n"
     ]
    },
    {
     "name": "stderr",
     "output_type": "stream",
     "text": [
      "100%|██████████| 50/50 [03:51<00:00,  4.62s/it]\n",
      "  0%|          | 0/1500 [00:00<?, ?it/s]"
     ]
    },
    {
     "name": "stdout",
     "output_type": "stream",
     "text": [
      "Last loss: 0.6931\n",
      "Last train accuracy: 0.4453\n",
      "Last test accuracy: 0.4544\n",
      "Count of 0: 1900  Count of 1: 4100\n",
      "Training SAME brain instance (NO backprop)...\n",
      "===> WARNING: Backprop is disabled, which means that all layers without rules will never change their weights!\n",
      "===> This is NOT recommended by Basile!\n",
      "INITIAL train accuracy: 0.3100\n",
      "INITIAL test accuracy: 0.3189\n",
      "Epoch 1 / 1 ...\n"
     ]
    },
    {
     "name": "stderr",
     "output_type": "stream",
     "text": [
      "100%|██████████| 1500/1500 [00:05<00:00, 254.12it/s]\n",
      "  0%|          | 0/50 [00:00<?, ?it/s]"
     ]
    },
    {
     "name": "stdout",
     "output_type": "stream",
     "text": [
      "\n",
      "Last loss: 0.6931\n",
      "Last train accuracy: 0.3100\n",
      "Last test accuracy: 0.3189\n",
      "\n",
      "\n",
      "Run 3 / 5...\n",
      "Count of 0: 3655  Count of 1: 2345\n",
      "Meta-learning...\n"
     ]
    },
    {
     "name": "stderr",
     "output_type": "stream",
     "text": [
      "100%|██████████| 50/50 [03:59<00:00,  4.78s/it]\n",
      "  0%|          | 0/1500 [00:00<?, ?it/s]"
     ]
    },
    {
     "name": "stdout",
     "output_type": "stream",
     "text": [
      "Last loss: 0.6931\n",
      "Last train accuracy: 0.6000\n",
      "Last test accuracy: 0.6122\n",
      "Count of 0: 3889  Count of 1: 2111\n",
      "Training SAME brain instance (NO backprop)...\n",
      "===> WARNING: Backprop is disabled, which means that all layers without rules will never change their weights!\n",
      "===> This is NOT recommended by Basile!\n",
      "INITIAL train accuracy: 0.6413\n",
      "INITIAL test accuracy: 0.6504\n",
      "Epoch 1 / 1 ...\n"
     ]
    },
    {
     "name": "stderr",
     "output_type": "stream",
     "text": [
      "100%|██████████| 1500/1500 [00:08<00:00, 174.56it/s]\n",
      "  0%|          | 0/50 [00:00<?, ?it/s]"
     ]
    },
    {
     "name": "stdout",
     "output_type": "stream",
     "text": [
      "\n",
      "Last loss: 0.6931\n",
      "Last train accuracy: 0.6413\n",
      "Last test accuracy: 0.6504\n",
      "\n",
      "\n",
      "Run 4 / 5...\n",
      "Count of 0: 3662  Count of 1: 2338\n",
      "Meta-learning...\n"
     ]
    },
    {
     "name": "stderr",
     "output_type": "stream",
     "text": [
      "100%|██████████| 50/50 [03:56<00:00,  4.73s/it]\n",
      "  0%|          | 0/1500 [00:00<?, ?it/s]"
     ]
    },
    {
     "name": "stdout",
     "output_type": "stream",
     "text": [
      "Last loss: 0.6931\n",
      "Last train accuracy: 0.6153\n",
      "Last test accuracy: 0.6087\n",
      "Count of 0: 3035  Count of 1: 2965\n",
      "Training SAME brain instance (NO backprop)...\n",
      "===> WARNING: Backprop is disabled, which means that all layers without rules will never change their weights!\n",
      "===> This is NOT recommended by Basile!\n",
      "INITIAL train accuracy: 0.5060\n",
      "INITIAL test accuracy: 0.5058\n",
      "Epoch 1 / 1 ...\n"
     ]
    },
    {
     "name": "stderr",
     "output_type": "stream",
     "text": [
      "100%|██████████| 1500/1500 [00:06<00:00, 236.08it/s]\n",
      "  0%|          | 0/50 [00:00<?, ?it/s]"
     ]
    },
    {
     "name": "stdout",
     "output_type": "stream",
     "text": [
      "\n",
      "Last loss: 0.6931\n",
      "Last train accuracy: 0.5060\n",
      "Last test accuracy: 0.5058\n",
      "\n",
      "\n",
      "Run 5 / 5...\n",
      "Count of 0: 4714  Count of 1: 1286\n",
      "Meta-learning...\n"
     ]
    },
    {
     "name": "stderr",
     "output_type": "stream",
     "text": [
      "100%|██████████| 50/50 [04:04<00:00,  4.90s/it]\n",
      "  1%|          | 15/1500 [00:00<00:09, 149.95it/s]"
     ]
    },
    {
     "name": "stdout",
     "output_type": "stream",
     "text": [
      "Last loss: 0.6931\n",
      "Last train accuracy: 0.7913\n",
      "Last test accuracy: 0.7838\n",
      "Count of 0: 971  Count of 1: 5029\n",
      "Training SAME brain instance (NO backprop)...\n",
      "===> WARNING: Backprop is disabled, which means that all layers without rules will never change their weights!\n",
      "===> This is NOT recommended by Basile!\n",
      "INITIAL train accuracy: 0.1740\n",
      "INITIAL test accuracy: 0.1578\n",
      "Epoch 1 / 1 ...\n"
     ]
    },
    {
     "name": "stderr",
     "output_type": "stream",
     "text": [
      "100%|██████████| 1500/1500 [00:06<00:00, 234.08it/s]\n",
      "  0%|          | 0/50 [00:00<?, ?it/s]"
     ]
    },
    {
     "name": "stdout",
     "output_type": "stream",
     "text": [
      "\n",
      "Last loss: 0.6931\n",
      "Last train accuracy: 0.1740\n",
      "Last test accuracy: 0.1578\n",
      "\n",
      "Universal: False\n",
      "Number hidden layers: 4\n",
      "Hidden layer width: 32\n",
      "Cap: 16\n",
      "==== Interpretation: Pre and Post ====\n",
      "\n",
      "Run 1 / 5...\n",
      "Count of 0: 5179  Count of 1: 821\n",
      "Meta-learning...\n"
     ]
    },
    {
     "name": "stderr",
     "output_type": "stream",
     "text": [
      "100%|██████████| 50/50 [04:49<00:00,  5.79s/it]\n",
      "  0%|          | 0/1500 [00:00<?, ?it/s]"
     ]
    },
    {
     "name": "stdout",
     "output_type": "stream",
     "text": [
      "Last loss: 0.4033\n",
      "Last train accuracy: 0.8600\n",
      "Last test accuracy: 0.8642\n",
      "Count of 0: 3357  Count of 1: 2643\n",
      "Training SAME brain instance (NO backprop)...\n",
      "===> WARNING: Backprop is disabled, which means that all layers without rules will never change their weights!\n",
      "===> This is NOT recommended by Basile!\n",
      "INITIAL train accuracy: 0.4253\n",
      "INITIAL test accuracy: 0.4396\n",
      "Epoch 1 / 1 ...\n"
     ]
    },
    {
     "name": "stderr",
     "output_type": "stream",
     "text": [
      "100%|██████████| 1500/1500 [00:06<00:00, 231.03it/s]\n",
      "  0%|          | 0/50 [00:00<?, ?it/s]"
     ]
    },
    {
     "name": "stdout",
     "output_type": "stream",
     "text": [
      "\n",
      "Last loss: 0.7738\n",
      "Last train accuracy: 0.5700\n",
      "Last test accuracy: 0.5560\n",
      "\n",
      "\n",
      "Run 2 / 5...\n",
      "Count of 0: 2172  Count of 1: 3828\n",
      "Meta-learning...\n"
     ]
    },
    {
     "name": "stderr",
     "output_type": "stream",
     "text": [
      "100%|██████████| 50/50 [04:44<00:00,  5.68s/it]\n",
      "  0%|          | 0/1500 [00:00<?, ?it/s]"
     ]
    },
    {
     "name": "stdout",
     "output_type": "stream",
     "text": [
      "Last loss: 0.5659\n",
      "Last train accuracy: 0.6380\n",
      "Last test accuracy: 0.6478\n",
      "Count of 0: 6000  Count of 1: 0\n",
      "Training SAME brain instance (NO backprop)...\n",
      "===> WARNING: Backprop is disabled, which means that all layers without rules will never change their weights!\n",
      "===> This is NOT recommended by Basile!\n",
      "INITIAL train accuracy: 1.0000\n",
      "INITIAL test accuracy: 1.0000\n",
      "Epoch 1 / 1 ...\n"
     ]
    },
    {
     "name": "stderr",
     "output_type": "stream",
     "text": [
      "100%|██████████| 1500/1500 [00:06<00:00, 216.49it/s]\n",
      "  0%|          | 0/50 [00:00<?, ?it/s]"
     ]
    },
    {
     "name": "stdout",
     "output_type": "stream",
     "text": [
      "\n",
      "Last loss: 0.6931\n",
      "Last train accuracy: 1.0000\n",
      "Last test accuracy: 1.0000\n",
      "\n",
      "\n",
      "Run 3 / 5...\n",
      "Count of 0: 5941  Count of 1: 59\n",
      "Meta-learning...\n"
     ]
    },
    {
     "name": "stderr",
     "output_type": "stream",
     "text": [
      "100%|██████████| 50/50 [04:48<00:00,  5.77s/it]\n",
      "  0%|          | 0/1500 [00:00<?, ?it/s]"
     ]
    },
    {
     "name": "stdout",
     "output_type": "stream",
     "text": [
      "Last loss: 0.3241\n",
      "Last train accuracy: 0.9893\n",
      "Last test accuracy: 0.9904\n",
      "Count of 0: 1769  Count of 1: 4231\n",
      "Training SAME brain instance (NO backprop)...\n",
      "===> WARNING: Backprop is disabled, which means that all layers without rules will never change their weights!\n",
      "===> This is NOT recommended by Basile!\n",
      "INITIAL train accuracy: 0.7120\n",
      "INITIAL test accuracy: 0.7027\n",
      "Epoch 1 / 1 ...\n"
     ]
    },
    {
     "name": "stderr",
     "output_type": "stream",
     "text": [
      "100%|██████████| 1500/1500 [00:07<00:00, 204.20it/s]\n",
      "  0%|          | 0/50 [00:00<?, ?it/s]"
     ]
    },
    {
     "name": "stdout",
     "output_type": "stream",
     "text": [
      "\n",
      "Last loss: 0.6333\n",
      "Last train accuracy: 0.7127\n",
      "Last test accuracy: 0.7027\n",
      "\n",
      "\n",
      "Run 4 / 5...\n",
      "Count of 0: 4823  Count of 1: 1177\n",
      "Meta-learning...\n"
     ]
    },
    {
     "name": "stderr",
     "output_type": "stream",
     "text": [
      "100%|██████████| 50/50 [04:45<00:00,  5.71s/it]\n",
      "  0%|          | 0/1500 [00:00<?, ?it/s]"
     ]
    },
    {
     "name": "stdout",
     "output_type": "stream",
     "text": [
      "Last loss: 0.6445\n",
      "Last train accuracy: 0.8060\n",
      "Last test accuracy: 0.8031\n",
      "Count of 0: 5789  Count of 1: 211\n",
      "Training SAME brain instance (NO backprop)...\n",
      "===> WARNING: Backprop is disabled, which means that all layers without rules will never change their weights!\n",
      "===> This is NOT recommended by Basile!\n",
      "INITIAL train accuracy: 0.9600\n",
      "INITIAL test accuracy: 0.9664\n",
      "Epoch 1 / 1 ...\n"
     ]
    },
    {
     "name": "stderr",
     "output_type": "stream",
     "text": [
      "100%|██████████| 1500/1500 [00:06<00:00, 219.54it/s]\n",
      "  0%|          | 0/50 [00:00<?, ?it/s]"
     ]
    },
    {
     "name": "stdout",
     "output_type": "stream",
     "text": [
      "\n",
      "Last loss: 0.3588\n",
      "Last train accuracy: 0.9600\n",
      "Last test accuracy: 0.9664\n",
      "\n",
      "\n",
      "Run 5 / 5...\n",
      "Count of 0: 5274  Count of 1: 726\n",
      "Meta-learning...\n"
     ]
    },
    {
     "name": "stderr",
     "output_type": "stream",
     "text": [
      "100%|██████████| 50/50 [04:15<00:00,  5.10s/it]\n",
      "  2%|▏         | 27/1500 [00:00<00:05, 269.96it/s]"
     ]
    },
    {
     "name": "stdout",
     "output_type": "stream",
     "text": [
      "Last loss: 0.3998\n",
      "Last train accuracy: 0.8713\n",
      "Last test accuracy: 0.8816\n",
      "Count of 0: 4383  Count of 1: 1617\n",
      "Training SAME brain instance (NO backprop)...\n",
      "===> WARNING: Backprop is disabled, which means that all layers without rules will never change their weights!\n",
      "===> This is NOT recommended by Basile!\n",
      "INITIAL train accuracy: 0.7360\n",
      "INITIAL test accuracy: 0.7287\n",
      "Epoch 1 / 1 ...\n"
     ]
    },
    {
     "name": "stderr",
     "output_type": "stream",
     "text": [
      "100%|██████████| 1500/1500 [00:04<00:00, 313.65it/s]\n",
      "  0%|          | 0/50 [00:00<?, ?it/s]"
     ]
    },
    {
     "name": "stdout",
     "output_type": "stream",
     "text": [
      "\n",
      "Last loss: 0.5591\n",
      "Last train accuracy: 0.7360\n",
      "Last test accuracy: 0.7287\n",
      "\n",
      "Universal: False\n",
      "Number hidden layers: 4\n",
      "Hidden layer width: 64\n",
      "Cap: 32\n",
      "==== Interpretation: Pre and Post ====\n",
      "\n",
      "Run 1 / 5...\n",
      "Count of 0: 1057  Count of 1: 4943\n",
      "Meta-learning...\n"
     ]
    },
    {
     "name": "stderr",
     "output_type": "stream",
     "text": [
      " 78%|███████▊  | 39/50 [02:52<00:48,  4.41s/it]"
     ]
    }
   ],
   "source": [
    "hyperparams = []\n",
    "all_stats = []\n",
    "\n",
    "for universal in [False, True]:  # Specialized rules or not?\n",
    "    \n",
    "    for l in [2, 3, 4]:  # Number of hidden layers.\n",
    "        \n",
    "        for w in [16, 32, 64]:  # Width of hidden layers.\n",
    "            \n",
    "            cap = w // 2  # Number of nodes firing per layer.\n",
    "            print('Universal:', universal)\n",
    "            print('Number hidden layers:', l)\n",
    "            print('Hidden layer width:', w)\n",
    "            print('Cap:', cap)\n",
    "            hyperparams.append((universal, l, w, cap))\n",
    "            \n",
    "            brain_prepost_fact = lambda: FFLocalNet(\n",
    "                n, m, l, w, p, cap,\n",
    "                hl_rules=TableRule_PrePost() if universal else [TableRule_PrePost()] * (l-1),\n",
    "                output_rule=TableRule_PrePost(), options=opts, update_scheme=scheme)\n",
    "            \n",
    "            print('==== Interpretation: Pre and Post ====')\n",
    "            cur_stats = evaluate_brain(\n",
    "                brain_prepost_fact, n, dataset=dataset,\n",
    "                num_runs=num_runs, num_rule_epochs=num_rule_epochs,\n",
    "                num_epochs_upstream=num_epochs_upstream, num_epochs_downstream=num_epochs_downstream)\n",
    "            all_stats.append(cur_stats)"
   ]
  },
  {
   "cell_type": "code",
   "execution_count": 41,
   "metadata": {},
   "outputs": [
    {
     "name": "stdout",
     "output_type": "stream",
     "text": [
      "Upstream accuracy:\n",
      "[[[0.7965 0.842  0.7067]\n",
      "  [0.8167 0.6317 0.6444]\n",
      "  [0.5897 0.8329 0.5356]]\n",
      "\n",
      " [[0.7553 0.8688 0.9225]\n",
      "  [0.6796 0.7672 0.6177]\n",
      "  [0.6493 0.6701 0.6564]]]\n",
      "Downstream accuracy:\n",
      "[[[0.6525 0.7045 0.6271]\n",
      "  [0.7144 0.4112 0.654 ]\n",
      "  [0.4228 0.7957 0.5444]]\n",
      "\n",
      " [[0.6033 0.7105 0.7515]\n",
      "  [0.5811 0.7759 0.5424]\n",
      "  [0.5217 0.4597 0.4817]]]\n",
      "Downstream speed:\n",
      "[[[0.5198 0.5932 0.4431]\n",
      "  [0.5834 0.2598 0.4214]\n",
      "  [0.2493 0.6628 0.2916]]\n",
      "\n",
      " [[0.4557 0.6173 0.6933]\n",
      "  [0.3949 0.5952 0.3351]\n",
      "  [0.3388 0.3081 0.3162]]]\n",
      "Product:\n",
      "[[[0.5198 0.5932 0.4431]\n",
      "  [0.5834 0.2598 0.4214]\n",
      "  [0.2493 0.6628 0.2916]]\n",
      "\n",
      " [[0.4557 0.6173 0.6933]\n",
      "  [0.3949 0.5952 0.3351]\n",
      "  [0.3388 0.3081 0.3162]]]\n"
     ]
    }
   ],
   "source": [
    "metrics_prepost = get_metrics(hyperparams_prepost, all_stats_prepost)"
   ]
  },
  {
   "cell_type": "markdown",
   "metadata": {},
   "source": [
    "Three best configs:\n",
    "\n",
    "* Universal, 2 layers, 64 width (metric 0.69)\n",
    "\n",
    "* Non-universal, 4 layers, 32 width (metric 0.66)\n",
    "\n",
    "* Universal, 2 layers, 32 width (metric 0.62)"
   ]
  },
  {
   "cell_type": "markdown",
   "metadata": {},
   "source": [
    "## PrePostCount"
   ]
  },
  {
   "cell_type": "code",
   "execution_count": null,
   "metadata": {
    "scrolled": true
   },
   "outputs": [
    {
     "name": "stderr",
     "output_type": "stream",
     "text": [
      "\r",
      "  0%|          | 0/50 [00:00<?, ?it/s]"
     ]
    },
    {
     "name": "stdout",
     "output_type": "stream",
     "text": [
      "Universal: False\n",
      "Number hidden layers: 2\n",
      "Hidden layer width: 16\n",
      "Cap: 8\n",
      "==== Interpretation: PrePostCount ====\n",
      "\n",
      "Run 1 / 5...\n",
      "Count of 0: 150  Count of 1: 5850\n",
      "Meta-learning...\n"
     ]
    },
    {
     "name": "stderr",
     "output_type": "stream",
     "text": [
      "100%|██████████| 50/50 [01:39<00:00,  1.99s/it]\n",
      "  3%|▎         | 45/1500 [00:00<00:03, 444.57it/s]"
     ]
    },
    {
     "name": "stdout",
     "output_type": "stream",
     "text": [
      "Last loss: 0.3387\n",
      "Last train accuracy: 0.9767\n",
      "Last test accuracy: 0.9744\n",
      "Count of 0: 2779  Count of 1: 3221\n",
      "Training SAME brain instance (NO backprop)...\n",
      "===> WARNING: Backprop is disabled, which means that all layers without rules will never change their weights!\n",
      "===> This is NOT recommended by Basile!\n",
      "INITIAL train accuracy: 0.5273\n",
      "INITIAL test accuracy: 0.5400\n",
      "Epoch 1 / 1 ...\n"
     ]
    },
    {
     "name": "stderr",
     "output_type": "stream",
     "text": [
      "100%|██████████| 1500/1500 [00:02<00:00, 529.23it/s]\n",
      "  0%|          | 0/50 [00:00<?, ?it/s]"
     ]
    },
    {
     "name": "stdout",
     "output_type": "stream",
     "text": [
      "\n",
      "Last loss: 0.7933\n",
      "Last train accuracy: 0.5273\n",
      "Last test accuracy: 0.5400\n",
      "\n",
      "\n",
      "Run 2 / 5...\n",
      "Count of 0: 2990  Count of 1: 3010\n",
      "Meta-learning...\n"
     ]
    },
    {
     "name": "stderr",
     "output_type": "stream",
     "text": [
      "100%|██████████| 50/50 [01:35<00:00,  1.91s/it]\n",
      "  3%|▎         | 47/1500 [00:00<00:03, 464.10it/s]"
     ]
    },
    {
     "name": "stdout",
     "output_type": "stream",
     "text": [
      "Last loss: 0.4394\n",
      "Last train accuracy: 0.9020\n",
      "Last test accuracy: 0.8824\n",
      "Count of 0: 4021  Count of 1: 1979\n",
      "Training SAME brain instance (NO backprop)...\n",
      "===> WARNING: Backprop is disabled, which means that all layers without rules will never change their weights!\n",
      "===> This is NOT recommended by Basile!\n",
      "INITIAL train accuracy: 0.6520\n",
      "INITIAL test accuracy: 0.6762\n",
      "Epoch 1 / 1 ...\n"
     ]
    },
    {
     "name": "stderr",
     "output_type": "stream",
     "text": [
      "100%|██████████| 1500/1500 [00:02<00:00, 541.11it/s]\n",
      "  0%|          | 0/50 [00:00<?, ?it/s]"
     ]
    },
    {
     "name": "stdout",
     "output_type": "stream",
     "text": [
      "\n",
      "Last loss: 0.6622\n",
      "Last train accuracy: 0.6460\n",
      "Last test accuracy: 0.6704\n",
      "\n",
      "\n",
      "Run 3 / 5...\n",
      "Count of 0: 2585  Count of 1: 3415\n",
      "Meta-learning...\n"
     ]
    },
    {
     "name": "stderr",
     "output_type": "stream",
     "text": [
      "100%|██████████| 50/50 [01:29<00:00,  1.79s/it]\n",
      "  4%|▍         | 58/1500 [00:00<00:02, 577.01it/s]"
     ]
    },
    {
     "name": "stdout",
     "output_type": "stream",
     "text": [
      "Last loss: 0.6931\n",
      "Last train accuracy: 0.4373\n",
      "Last test accuracy: 0.4287\n",
      "Count of 0: 1882  Count of 1: 4118\n",
      "Training SAME brain instance (NO backprop)...\n",
      "===> WARNING: Backprop is disabled, which means that all layers without rules will never change their weights!\n",
      "===> This is NOT recommended by Basile!\n",
      "INITIAL train accuracy: 0.3213\n",
      "INITIAL test accuracy: 0.3111\n",
      "Epoch 1 / 1 ...\n"
     ]
    },
    {
     "name": "stderr",
     "output_type": "stream",
     "text": [
      "100%|██████████| 1500/1500 [00:02<00:00, 551.38it/s]\n",
      "  0%|          | 0/50 [00:00<?, ?it/s]"
     ]
    },
    {
     "name": "stdout",
     "output_type": "stream",
     "text": [
      "\n",
      "Last loss: 0.6931\n",
      "Last train accuracy: 0.3213\n",
      "Last test accuracy: 0.3111\n",
      "\n",
      "\n",
      "Run 4 / 5...\n",
      "Count of 0: 1760  Count of 1: 4240\n",
      "Meta-learning...\n"
     ]
    },
    {
     "name": "stderr",
     "output_type": "stream",
     "text": [
      "100%|██████████| 50/50 [01:36<00:00,  1.93s/it]\n",
      "  3%|▎         | 45/1500 [00:00<00:03, 441.39it/s]"
     ]
    },
    {
     "name": "stdout",
     "output_type": "stream",
     "text": [
      "Last loss: 0.4936\n",
      "Last train accuracy: 0.7533\n",
      "Last test accuracy: 0.7509\n",
      "Count of 0: 3124  Count of 1: 2876\n",
      "Training SAME brain instance (NO backprop)...\n",
      "===> WARNING: Backprop is disabled, which means that all layers without rules will never change their weights!\n",
      "===> This is NOT recommended by Basile!\n",
      "INITIAL train accuracy: 0.4873\n",
      "INITIAL test accuracy: 0.4847\n",
      "Epoch 1 / 1 ...\n"
     ]
    },
    {
     "name": "stderr",
     "output_type": "stream",
     "text": [
      "100%|██████████| 1500/1500 [00:02<00:00, 519.80it/s]\n",
      "  0%|          | 0/50 [00:00<?, ?it/s]"
     ]
    },
    {
     "name": "stdout",
     "output_type": "stream",
     "text": [
      "\n",
      "Last loss: 0.7910\n",
      "Last train accuracy: 0.5187\n",
      "Last test accuracy: 0.5204\n",
      "\n",
      "\n",
      "Run 5 / 5...\n",
      "Count of 0: 4171  Count of 1: 1829\n",
      "Meta-learning...\n"
     ]
    },
    {
     "name": "stderr",
     "output_type": "stream",
     "text": [
      "100%|██████████| 50/50 [01:34<00:00,  1.89s/it]\n",
      "  3%|▎         | 44/1500 [00:00<00:03, 439.76it/s]"
     ]
    },
    {
     "name": "stdout",
     "output_type": "stream",
     "text": [
      "Last loss: 0.5214\n",
      "Last train accuracy: 0.6727\n",
      "Last test accuracy: 0.7027\n",
      "Count of 0: 5306  Count of 1: 694\n",
      "Training SAME brain instance (NO backprop)...\n",
      "===> WARNING: Backprop is disabled, which means that all layers without rules will never change their weights!\n",
      "===> This is NOT recommended by Basile!\n",
      "INITIAL train accuracy: 0.1033\n",
      "INITIAL test accuracy: 0.1233\n",
      "Epoch 1 / 1 ...\n"
     ]
    },
    {
     "name": "stderr",
     "output_type": "stream",
     "text": [
      "100%|██████████| 1500/1500 [00:02<00:00, 524.32it/s]\n",
      "  0%|          | 0/50 [00:00<?, ?it/s]"
     ]
    },
    {
     "name": "stdout",
     "output_type": "stream",
     "text": [
      "\n",
      "Last loss: 0.4019\n",
      "Last train accuracy: 0.8973\n",
      "Last test accuracy: 0.8800\n",
      "\n",
      "Universal: False\n",
      "Number hidden layers: 2\n",
      "Hidden layer width: 32\n",
      "Cap: 16\n",
      "==== Interpretation: PrePostCount ====\n",
      "\n",
      "Run 1 / 5...\n",
      "Count of 0: 1229  Count of 1: 4771\n",
      "Meta-learning...\n"
     ]
    },
    {
     "name": "stderr",
     "output_type": "stream",
     "text": [
      "100%|██████████| 50/50 [01:40<00:00,  2.02s/it]\n",
      "  4%|▎         | 54/1500 [00:00<00:02, 538.85it/s]"
     ]
    },
    {
     "name": "stdout",
     "output_type": "stream",
     "text": [
      "Last loss: 0.4393\n",
      "Last train accuracy: 0.8160\n",
      "Last test accuracy: 0.7991\n",
      "Count of 0: 29  Count of 1: 5971\n",
      "Training SAME brain instance (NO backprop)...\n",
      "===> WARNING: Backprop is disabled, which means that all layers without rules will never change their weights!\n",
      "===> This is NOT recommended by Basile!\n",
      "INITIAL train accuracy: 0.9880\n",
      "INITIAL test accuracy: 0.9869\n",
      "Epoch 1 / 1 ...\n"
     ]
    },
    {
     "name": "stderr",
     "output_type": "stream",
     "text": [
      "100%|██████████| 1500/1500 [00:02<00:00, 515.50it/s]\n",
      "  0%|          | 0/50 [00:00<?, ?it/s]"
     ]
    },
    {
     "name": "stdout",
     "output_type": "stream",
     "text": [
      "\n",
      "Last loss: 0.3222\n",
      "Last train accuracy: 0.9880\n",
      "Last test accuracy: 0.9869\n",
      "\n",
      "\n",
      "Run 2 / 5...\n",
      "Count of 0: 4376  Count of 1: 1624\n",
      "Meta-learning...\n"
     ]
    },
    {
     "name": "stderr",
     "output_type": "stream",
     "text": [
      "100%|██████████| 50/50 [01:41<00:00,  2.02s/it]\n",
      "  3%|▎         | 43/1500 [00:00<00:03, 423.69it/s]"
     ]
    },
    {
     "name": "stdout",
     "output_type": "stream",
     "text": [
      "Last loss: 0.4783\n",
      "Last train accuracy: 0.7313\n",
      "Last test accuracy: 0.7287\n",
      "Count of 0: 2002  Count of 1: 3998\n",
      "Training SAME brain instance (NO backprop)...\n",
      "===> WARNING: Backprop is disabled, which means that all layers without rules will never change their weights!\n",
      "===> This is NOT recommended by Basile!\n",
      "INITIAL train accuracy: 0.6567\n",
      "INITIAL test accuracy: 0.6584\n",
      "Epoch 1 / 1 ...\n"
     ]
    },
    {
     "name": "stderr",
     "output_type": "stream",
     "text": [
      "100%|██████████| 1500/1500 [00:02<00:00, 507.20it/s]\n",
      "  0%|          | 0/50 [00:00<?, ?it/s]"
     ]
    },
    {
     "name": "stdout",
     "output_type": "stream",
     "text": [
      "\n",
      "Last loss: 0.6793\n",
      "Last train accuracy: 0.6567\n",
      "Last test accuracy: 0.6584\n",
      "\n",
      "\n",
      "Run 3 / 5...\n",
      "Count of 0: 2717  Count of 1: 3283\n",
      "Meta-learning...\n"
     ]
    },
    {
     "name": "stderr",
     "output_type": "stream",
     "text": [
      "100%|██████████| 50/50 [01:42<00:00,  2.04s/it]\n",
      "  4%|▎         | 54/1500 [00:00<00:02, 533.89it/s]"
     ]
    },
    {
     "name": "stdout",
     "output_type": "stream",
     "text": [
      "Last loss: 0.4296\n",
      "Last train accuracy: 0.8867\n",
      "Last test accuracy: 0.8642\n",
      "Count of 0: 3720  Count of 1: 2280\n",
      "Training SAME brain instance (NO backprop)...\n",
      "===> WARNING: Backprop is disabled, which means that all layers without rules will never change their weights!\n",
      "===> This is NOT recommended by Basile!\n",
      "INITIAL train accuracy: 0.6173\n",
      "INITIAL test accuracy: 0.6209\n",
      "Epoch 1 / 1 ...\n"
     ]
    },
    {
     "name": "stderr",
     "output_type": "stream",
     "text": [
      "100%|██████████| 1500/1500 [00:02<00:00, 512.50it/s]\n",
      "  0%|          | 0/50 [00:00<?, ?it/s]"
     ]
    },
    {
     "name": "stdout",
     "output_type": "stream",
     "text": [
      "\n",
      "Last loss: 0.6413\n",
      "Last train accuracy: 0.6653\n",
      "Last test accuracy: 0.6838\n",
      "\n",
      "\n",
      "Run 4 / 5...\n",
      "Count of 0: 2282  Count of 1: 3718\n",
      "Meta-learning...\n"
     ]
    },
    {
     "name": "stderr",
     "output_type": "stream",
     "text": [
      "100%|██████████| 50/50 [01:44<00:00,  2.09s/it]\n",
      "  3%|▎         | 43/1500 [00:00<00:03, 421.30it/s]"
     ]
    },
    {
     "name": "stdout",
     "output_type": "stream",
     "text": [
      "Last loss: 0.5469\n",
      "Last train accuracy: 0.5980\n",
      "Last test accuracy: 0.6324\n",
      "Count of 0: 3232  Count of 1: 2768\n",
      "Training SAME brain instance (NO backprop)...\n",
      "===> WARNING: Backprop is disabled, which means that all layers without rules will never change their weights!\n",
      "===> This is NOT recommended by Basile!\n",
      "INITIAL train accuracy: 0.4533\n",
      "INITIAL test accuracy: 0.4598\n",
      "Epoch 1 / 1 ...\n"
     ]
    },
    {
     "name": "stderr",
     "output_type": "stream",
     "text": [
      "100%|██████████| 1500/1500 [00:02<00:00, 502.84it/s]\n",
      "  0%|          | 0/50 [00:00<?, ?it/s]"
     ]
    },
    {
     "name": "stdout",
     "output_type": "stream",
     "text": [
      "\n",
      "Last loss: 0.7433\n",
      "Last train accuracy: 0.5440\n",
      "Last test accuracy: 0.5369\n",
      "\n",
      "\n",
      "Run 5 / 5...\n",
      "Count of 0: 5370  Count of 1: 630\n",
      "Meta-learning...\n"
     ]
    },
    {
     "name": "stderr",
     "output_type": "stream",
     "text": [
      "100%|██████████| 50/50 [01:40<00:00,  2.01s/it]\n",
      "  4%|▎         | 54/1500 [00:00<00:02, 532.23it/s]"
     ]
    },
    {
     "name": "stdout",
     "output_type": "stream",
     "text": [
      "Last loss: 0.3906\n",
      "Last train accuracy: 0.8960\n",
      "Last test accuracy: 0.8947\n",
      "Count of 0: 2652  Count of 1: 3348\n",
      "Training SAME brain instance (NO backprop)...\n",
      "===> WARNING: Backprop is disabled, which means that all layers without rules will never change their weights!\n",
      "===> This is NOT recommended by Basile!\n",
      "INITIAL train accuracy: 0.4420\n",
      "INITIAL test accuracy: 0.4420\n",
      "Epoch 1 / 1 ...\n"
     ]
    },
    {
     "name": "stderr",
     "output_type": "stream",
     "text": [
      "100%|██████████| 1500/1500 [00:02<00:00, 509.50it/s]\n",
      "  0%|          | 0/50 [00:00<?, ?it/s]"
     ]
    },
    {
     "name": "stdout",
     "output_type": "stream",
     "text": [
      "\n",
      "Last loss: 0.7573\n",
      "Last train accuracy: 0.5580\n",
      "Last test accuracy: 0.5591\n",
      "\n",
      "Universal: False\n",
      "Number hidden layers: 2\n",
      "Hidden layer width: 64\n",
      "Cap: 32\n",
      "==== Interpretation: PrePostCount ====\n",
      "\n",
      "Run 1 / 5...\n",
      "Count of 0: 3853  Count of 1: 2147\n",
      "Meta-learning...\n"
     ]
    },
    {
     "name": "stderr",
     "output_type": "stream",
     "text": [
      "100%|██████████| 50/50 [01:53<00:00,  2.26s/it]\n",
      "  3%|▎         | 39/1500 [00:00<00:03, 383.41it/s]"
     ]
    },
    {
     "name": "stdout",
     "output_type": "stream",
     "text": [
      "Last loss: 0.3943\n",
      "Last train accuracy: 0.9220\n",
      "Last test accuracy: 0.8938\n",
      "Count of 0: 776  Count of 1: 5224\n",
      "Training SAME brain instance (NO backprop)...\n",
      "===> WARNING: Backprop is disabled, which means that all layers without rules will never change their weights!\n",
      "===> This is NOT recommended by Basile!\n",
      "INITIAL train accuracy: 0.8633\n",
      "INITIAL test accuracy: 0.8731\n",
      "Epoch 1 / 1 ...\n"
     ]
    },
    {
     "name": "stderr",
     "output_type": "stream",
     "text": [
      "100%|██████████| 1500/1500 [00:03<00:00, 452.74it/s]\n",
      "  0%|          | 0/50 [00:00<?, ?it/s]"
     ]
    },
    {
     "name": "stdout",
     "output_type": "stream",
     "text": [
      "\n",
      "Last loss: 0.4750\n",
      "Last train accuracy: 0.8460\n",
      "Last test accuracy: 0.8582\n",
      "\n",
      "\n",
      "Run 2 / 5...\n",
      "Count of 0: 3124  Count of 1: 2876\n",
      "Meta-learning...\n"
     ]
    },
    {
     "name": "stderr",
     "output_type": "stream",
     "text": [
      "100%|██████████| 50/50 [01:54<00:00,  2.29s/it]\n",
      "  3%|▎         | 39/1500 [00:00<00:03, 388.63it/s]"
     ]
    },
    {
     "name": "stdout",
     "output_type": "stream",
     "text": [
      "Last loss: 0.4133\n",
      "Last train accuracy: 0.9180\n",
      "Last test accuracy: 0.8793\n",
      "Count of 0: 3486  Count of 1: 2514\n",
      "Training SAME brain instance (NO backprop)...\n",
      "===> WARNING: Backprop is disabled, which means that all layers without rules will never change their weights!\n",
      "===> This is NOT recommended by Basile!\n",
      "INITIAL train accuracy: 0.5967\n",
      "INITIAL test accuracy: 0.5758\n",
      "Epoch 1 / 1 ...\n"
     ]
    },
    {
     "name": "stderr",
     "output_type": "stream",
     "text": [
      "100%|██████████| 1500/1500 [00:03<00:00, 459.28it/s]\n",
      "  0%|          | 0/50 [00:00<?, ?it/s]"
     ]
    },
    {
     "name": "stdout",
     "output_type": "stream",
     "text": [
      "\n",
      "Last loss: 0.5676\n",
      "Last train accuracy: 0.7200\n",
      "Last test accuracy: 0.6898\n",
      "\n",
      "\n",
      "Run 3 / 5...\n",
      "Count of 0: 4416  Count of 1: 1584\n",
      "Meta-learning...\n"
     ]
    },
    {
     "name": "stderr",
     "output_type": "stream",
     "text": [
      "100%|██████████| 50/50 [01:56<00:00,  2.33s/it]\n",
      "  3%|▎         | 39/1500 [00:00<00:03, 384.15it/s]"
     ]
    },
    {
     "name": "stdout",
     "output_type": "stream",
     "text": [
      "Last loss: 0.4927\n",
      "Last train accuracy: 0.7327\n",
      "Last test accuracy: 0.7371\n",
      "Count of 0: 2185  Count of 1: 3815\n",
      "Training SAME brain instance (NO backprop)...\n",
      "===> WARNING: Backprop is disabled, which means that all layers without rules will never change their weights!\n",
      "===> This is NOT recommended by Basile!\n",
      "INITIAL train accuracy: 0.3660\n",
      "INITIAL test accuracy: 0.3636\n",
      "Epoch 1 / 1 ...\n"
     ]
    },
    {
     "name": "stderr",
     "output_type": "stream",
     "text": [
      "100%|██████████| 1500/1500 [00:03<00:00, 445.23it/s]\n",
      "  0%|          | 0/50 [00:00<?, ?it/s]"
     ]
    },
    {
     "name": "stdout",
     "output_type": "stream",
     "text": [
      "\n",
      "Last loss: 0.6846\n",
      "Last train accuracy: 0.6307\n",
      "Last test accuracy: 0.6367\n",
      "\n",
      "\n",
      "Run 4 / 5...\n",
      "Count of 0: 4155  Count of 1: 1845\n",
      "Meta-learning...\n"
     ]
    },
    {
     "name": "stderr",
     "output_type": "stream",
     "text": [
      "100%|██████████| 50/50 [01:52<00:00,  2.26s/it]\n",
      "  3%|▎         | 39/1500 [00:00<00:03, 386.10it/s]"
     ]
    },
    {
     "name": "stdout",
     "output_type": "stream",
     "text": [
      "Last loss: 0.4025\n",
      "Last train accuracy: 0.8380\n",
      "Last test accuracy: 0.8209\n",
      "Count of 0: 4885  Count of 1: 1115\n",
      "Training SAME brain instance (NO backprop)...\n",
      "===> WARNING: Backprop is disabled, which means that all layers without rules will never change their weights!\n",
      "===> This is NOT recommended by Basile!\n",
      "INITIAL train accuracy: 0.2053\n",
      "INITIAL test accuracy: 0.1793\n",
      "Epoch 1 / 1 ...\n"
     ]
    },
    {
     "name": "stderr",
     "output_type": "stream",
     "text": [
      "100%|██████████| 1500/1500 [00:03<00:00, 458.01it/s]\n",
      "  0%|          | 0/50 [00:00<?, ?it/s]"
     ]
    },
    {
     "name": "stdout",
     "output_type": "stream",
     "text": [
      "\n",
      "Last loss: 0.5033\n",
      "Last train accuracy: 0.7960\n",
      "Last test accuracy: 0.8213\n",
      "\n",
      "\n",
      "Run 5 / 5...\n",
      "Count of 0: 2035  Count of 1: 3965\n",
      "Meta-learning...\n"
     ]
    },
    {
     "name": "stderr",
     "output_type": "stream",
     "text": [
      "100%|██████████| 50/50 [01:52<00:00,  2.25s/it]\n",
      "  3%|▎         | 39/1500 [00:00<00:03, 387.16it/s]"
     ]
    },
    {
     "name": "stdout",
     "output_type": "stream",
     "text": [
      "Last loss: 0.5310\n",
      "Last train accuracy: 0.6693\n",
      "Last test accuracy: 0.6624\n",
      "Count of 0: 1083  Count of 1: 4917\n",
      "Training SAME brain instance (NO backprop)...\n",
      "===> WARNING: Backprop is disabled, which means that all layers without rules will never change their weights!\n",
      "===> This is NOT recommended by Basile!\n",
      "INITIAL train accuracy: 0.8213\n",
      "INITIAL test accuracy: 0.8142\n",
      "Epoch 1 / 1 ...\n"
     ]
    },
    {
     "name": "stderr",
     "output_type": "stream",
     "text": [
      "100%|██████████| 1500/1500 [00:03<00:00, 459.25it/s]\n",
      "  0%|          | 0/50 [00:00<?, ?it/s]"
     ]
    },
    {
     "name": "stdout",
     "output_type": "stream",
     "text": [
      "\n",
      "Last loss: 0.5057\n",
      "Last train accuracy: 0.8213\n",
      "Last test accuracy: 0.8142\n",
      "\n",
      "Universal: False\n",
      "Number hidden layers: 3\n",
      "Hidden layer width: 16\n",
      "Cap: 8\n",
      "==== Interpretation: PrePostCount ====\n",
      "\n",
      "Run 1 / 5...\n",
      "Count of 0: 3675  Count of 1: 2325\n",
      "Meta-learning...\n"
     ]
    },
    {
     "name": "stderr",
     "output_type": "stream",
     "text": [
      "100%|██████████| 50/50 [02:18<00:00,  2.77s/it]\n",
      "  3%|▎         | 42/1500 [00:00<00:03, 413.97it/s]"
     ]
    },
    {
     "name": "stdout",
     "output_type": "stream",
     "text": [
      "Last loss: 0.5407\n",
      "Last train accuracy: 0.6313\n",
      "Last test accuracy: 0.6062\n",
      "Count of 0: 2552  Count of 1: 3448\n",
      "Training SAME brain instance (NO backprop)...\n",
      "===> WARNING: Backprop is disabled, which means that all layers without rules will never change their weights!\n",
      "===> This is NOT recommended by Basile!\n",
      "INITIAL train accuracy: 0.5620\n",
      "INITIAL test accuracy: 0.5767\n",
      "Epoch 1 / 1 ...\n"
     ]
    },
    {
     "name": "stderr",
     "output_type": "stream",
     "text": [
      "100%|██████████| 1500/1500 [00:03<00:00, 397.74it/s]\n",
      "  0%|          | 0/50 [00:00<?, ?it/s]"
     ]
    },
    {
     "name": "stdout",
     "output_type": "stream",
     "text": [
      "\n",
      "Last loss: 0.7830\n",
      "Last train accuracy: 0.5620\n",
      "Last test accuracy: 0.5767\n",
      "\n",
      "\n",
      "Run 2 / 5...\n",
      "Count of 0: 5274  Count of 1: 726\n",
      "Meta-learning...\n"
     ]
    },
    {
     "name": "stderr",
     "output_type": "stream",
     "text": [
      "100%|██████████| 50/50 [02:20<00:00,  2.81s/it]\n",
      "  3%|▎         | 42/1500 [00:00<00:03, 410.84it/s]"
     ]
    },
    {
     "name": "stdout",
     "output_type": "stream",
     "text": [
      "Last loss: 0.4043\n",
      "Last train accuracy: 0.8727\n",
      "Last test accuracy: 0.8811\n",
      "Count of 0: 369  Count of 1: 5631\n",
      "Training SAME brain instance (NO backprop)...\n",
      "===> WARNING: Backprop is disabled, which means that all layers without rules will never change their weights!\n",
      "===> This is NOT recommended by Basile!\n",
      "INITIAL train accuracy: 0.9360\n",
      "INITIAL test accuracy: 0.9316\n",
      "Epoch 1 / 1 ...\n"
     ]
    },
    {
     "name": "stderr",
     "output_type": "stream",
     "text": [
      "100%|██████████| 1500/1500 [00:03<00:00, 405.04it/s]\n",
      "  0%|          | 0/50 [00:00<?, ?it/s]"
     ]
    },
    {
     "name": "stdout",
     "output_type": "stream",
     "text": [
      "\n",
      "Last loss: 0.3723\n",
      "Last train accuracy: 0.9360\n",
      "Last test accuracy: 0.9316\n",
      "\n",
      "\n",
      "Run 3 / 5...\n",
      "Count of 0: 1258  Count of 1: 4742\n",
      "Meta-learning...\n"
     ]
    },
    {
     "name": "stderr",
     "output_type": "stream",
     "text": [
      "100%|██████████| 50/50 [02:17<00:00,  2.74s/it]\n",
      "  2%|▏         | 33/1500 [00:00<00:04, 329.50it/s]"
     ]
    },
    {
     "name": "stdout",
     "output_type": "stream",
     "text": [
      "Last loss: 0.4583\n",
      "Last train accuracy: 0.8373\n",
      "Last test accuracy: 0.8229\n",
      "Count of 0: 2479  Count of 1: 3521\n",
      "Training SAME brain instance (NO backprop)...\n",
      "===> WARNING: Backprop is disabled, which means that all layers without rules will never change their weights!\n",
      "===> This is NOT recommended by Basile!\n",
      "INITIAL train accuracy: 0.5987\n",
      "INITIAL test accuracy: 0.5729\n",
      "Epoch 1 / 1 ...\n"
     ]
    },
    {
     "name": "stderr",
     "output_type": "stream",
     "text": [
      "100%|██████████| 1500/1500 [00:03<00:00, 391.39it/s]\n",
      "  0%|          | 0/50 [00:00<?, ?it/s]"
     ]
    },
    {
     "name": "stdout",
     "output_type": "stream",
     "text": [
      "\n",
      "Last loss: 0.6859\n",
      "Last train accuracy: 0.5987\n",
      "Last test accuracy: 0.5729\n",
      "\n",
      "\n",
      "Run 4 / 5...\n",
      "Count of 0: 1815  Count of 1: 4185\n",
      "Meta-learning...\n"
     ]
    },
    {
     "name": "stderr",
     "output_type": "stream",
     "text": [
      "100%|██████████| 50/50 [02:23<00:00,  2.88s/it]\n",
      "  2%|▏         | 33/1500 [00:00<00:04, 327.95it/s]"
     ]
    },
    {
     "name": "stdout",
     "output_type": "stream",
     "text": [
      "Last loss: 0.5079\n",
      "Last train accuracy: 0.7133\n",
      "Last test accuracy: 0.7231\n",
      "Count of 0: 4347  Count of 1: 1653\n",
      "Training SAME brain instance (NO backprop)...\n",
      "===> WARNING: Backprop is disabled, which means that all layers without rules will never change their weights!\n",
      "===> This is NOT recommended by Basile!\n",
      "INITIAL train accuracy: 0.2913\n",
      "INITIAL test accuracy: 0.2758\n",
      "Epoch 1 / 1 ...\n"
     ]
    },
    {
     "name": "stderr",
     "output_type": "stream",
     "text": [
      "100%|██████████| 1500/1500 [00:03<00:00, 376.50it/s]\n",
      "  0%|          | 0/50 [00:00<?, ?it/s]"
     ]
    },
    {
     "name": "stdout",
     "output_type": "stream",
     "text": [
      "\n",
      "Last loss: 0.6095\n",
      "Last train accuracy: 0.7073\n",
      "Last test accuracy: 0.7302\n",
      "\n",
      "\n",
      "Run 5 / 5...\n",
      "Count of 0: 2353  Count of 1: 3647\n",
      "Meta-learning...\n"
     ]
    },
    {
     "name": "stderr",
     "output_type": "stream",
     "text": [
      "100%|██████████| 50/50 [02:38<00:00,  3.17s/it]\n",
      "  2%|▏         | 33/1500 [00:00<00:04, 327.17it/s]"
     ]
    },
    {
     "name": "stdout",
     "output_type": "stream",
     "text": [
      "Last loss: 0.5498\n",
      "Last train accuracy: 0.6413\n",
      "Last test accuracy: 0.6238\n",
      "Count of 0: 3250  Count of 1: 2750\n",
      "Training SAME brain instance (NO backprop)...\n",
      "===> WARNING: Backprop is disabled, which means that all layers without rules will never change their weights!\n",
      "===> This is NOT recommended by Basile!\n",
      "INITIAL train accuracy: 0.5120\n",
      "INITIAL test accuracy: 0.5516\n",
      "Epoch 1 / 1 ...\n"
     ]
    },
    {
     "name": "stderr",
     "output_type": "stream",
     "text": [
      "100%|██████████| 1500/1500 [00:03<00:00, 385.20it/s]\n",
      "  0%|          | 0/50 [00:00<?, ?it/s]"
     ]
    },
    {
     "name": "stdout",
     "output_type": "stream",
     "text": [
      "\n",
      "Last loss: 0.7744\n",
      "Last train accuracy: 0.5120\n",
      "Last test accuracy: 0.5516\n",
      "\n",
      "Universal: False\n",
      "Number hidden layers: 3\n",
      "Hidden layer width: 32\n",
      "Cap: 16\n",
      "==== Interpretation: PrePostCount ====\n",
      "\n",
      "Run 1 / 5...\n",
      "Count of 0: 3803  Count of 1: 2197\n",
      "Meta-learning...\n"
     ]
    },
    {
     "name": "stderr",
     "output_type": "stream",
     "text": [
      "100%|██████████| 50/50 [02:47<00:00,  3.35s/it]\n",
      "  2%|▏         | 32/1500 [00:00<00:04, 311.38it/s]"
     ]
    },
    {
     "name": "stdout",
     "output_type": "stream",
     "text": [
      "Last loss: 0.5269\n",
      "Last train accuracy: 0.6480\n",
      "Last test accuracy: 0.6291\n",
      "Count of 0: 4665  Count of 1: 1335\n",
      "Training SAME brain instance (NO backprop)...\n",
      "===> WARNING: Backprop is disabled, which means that all layers without rules will never change their weights!\n",
      "===> This is NOT recommended by Basile!\n",
      "INITIAL train accuracy: 0.2500\n",
      "INITIAL test accuracy: 0.2142\n",
      "Epoch 1 / 1 ...\n"
     ]
    },
    {
     "name": "stderr",
     "output_type": "stream",
     "text": [
      "100%|██████████| 1500/1500 [00:04<00:00, 362.73it/s]\n",
      "  0%|          | 0/50 [00:00<?, ?it/s]"
     ]
    },
    {
     "name": "stdout",
     "output_type": "stream",
     "text": [
      "\n",
      "Last loss: 0.5328\n",
      "Last train accuracy: 0.7513\n",
      "Last test accuracy: 0.7862\n",
      "\n",
      "\n",
      "Run 2 / 5...\n",
      "Count of 0: 2902  Count of 1: 3098\n",
      "Meta-learning...\n"
     ]
    },
    {
     "name": "stderr",
     "output_type": "stream",
     "text": [
      "100%|██████████| 50/50 [02:46<00:00,  3.33s/it]\n",
      "  2%|▏         | 32/1500 [00:00<00:04, 318.28it/s]"
     ]
    },
    {
     "name": "stdout",
     "output_type": "stream",
     "text": [
      "Last loss: 0.6638\n",
      "Last train accuracy: 0.5340\n",
      "Last test accuracy: 0.5253\n",
      "Count of 0: 4554  Count of 1: 1446\n",
      "Training SAME brain instance (NO backprop)...\n",
      "===> WARNING: Backprop is disabled, which means that all layers without rules will never change their weights!\n",
      "===> This is NOT recommended by Basile!\n",
      "INITIAL train accuracy: 0.2433\n",
      "INITIAL test accuracy: 0.2436\n",
      "Epoch 1 / 1 ...\n"
     ]
    },
    {
     "name": "stderr",
     "output_type": "stream",
     "text": [
      "100%|██████████| 1500/1500 [00:04<00:00, 370.14it/s]\n",
      "  0%|          | 0/50 [00:00<?, ?it/s]"
     ]
    },
    {
     "name": "stdout",
     "output_type": "stream",
     "text": [
      "\n",
      "Last loss: 0.5348\n",
      "Last train accuracy: 0.7573\n",
      "Last test accuracy: 0.7596\n",
      "\n",
      "\n",
      "Run 3 / 5...\n",
      "Count of 0: 1806  Count of 1: 4194\n",
      "Meta-learning...\n"
     ]
    },
    {
     "name": "stderr",
     "output_type": "stream",
     "text": [
      "100%|██████████| 50/50 [02:47<00:00,  3.36s/it]\n",
      "  2%|▏         | 32/1500 [00:00<00:04, 318.03it/s]"
     ]
    },
    {
     "name": "stdout",
     "output_type": "stream",
     "text": [
      "Last loss: 0.5066\n",
      "Last train accuracy: 0.6920\n",
      "Last test accuracy: 0.7127\n",
      "Count of 0: 862  Count of 1: 5138\n",
      "Training SAME brain instance (NO backprop)...\n",
      "===> WARNING: Backprop is disabled, which means that all layers without rules will never change their weights!\n",
      "===> This is NOT recommended by Basile!\n",
      "INITIAL train accuracy: 0.8467\n",
      "INITIAL test accuracy: 0.8287\n",
      "Epoch 1 / 1 ...\n"
     ]
    },
    {
     "name": "stderr",
     "output_type": "stream",
     "text": [
      "100%|██████████| 1500/1500 [00:04<00:00, 367.94it/s]\n",
      "  0%|          | 0/50 [00:00<?, ?it/s]"
     ]
    },
    {
     "name": "stdout",
     "output_type": "stream",
     "text": [
      "\n",
      "Last loss: 0.4330\n",
      "Last train accuracy: 0.8633\n",
      "Last test accuracy: 0.8482\n",
      "\n",
      "\n",
      "Run 4 / 5...\n",
      "Count of 0: 1836  Count of 1: 4164\n",
      "Meta-learning...\n"
     ]
    },
    {
     "name": "stderr",
     "output_type": "stream",
     "text": [
      "100%|██████████| 50/50 [02:47<00:00,  3.34s/it]\n",
      "  2%|▏         | 32/1500 [00:00<00:04, 317.09it/s]"
     ]
    },
    {
     "name": "stdout",
     "output_type": "stream",
     "text": [
      "Last loss: 0.5032\n",
      "Last train accuracy: 0.6927\n",
      "Last test accuracy: 0.6953\n",
      "Count of 0: 4894  Count of 1: 1106\n",
      "Training SAME brain instance (NO backprop)...\n",
      "===> WARNING: Backprop is disabled, which means that all layers without rules will never change their weights!\n",
      "===> This is NOT recommended by Basile!\n",
      "INITIAL train accuracy: 0.1887\n",
      "INITIAL test accuracy: 0.1829\n",
      "Epoch 1 / 1 ...\n"
     ]
    },
    {
     "name": "stderr",
     "output_type": "stream",
     "text": [
      "100%|██████████| 1500/1500 [00:04<00:00, 365.11it/s]\n",
      "  0%|          | 0/50 [00:00<?, ?it/s]"
     ]
    },
    {
     "name": "stdout",
     "output_type": "stream",
     "text": [
      "\n",
      "Last loss: 0.5091\n",
      "Last train accuracy: 0.8113\n",
      "Last test accuracy: 0.8171\n",
      "\n",
      "\n",
      "Run 5 / 5...\n",
      "Count of 0: 5065  Count of 1: 935\n",
      "Meta-learning...\n"
     ]
    },
    {
     "name": "stderr",
     "output_type": "stream",
     "text": [
      "100%|██████████| 50/50 [02:46<00:00,  3.32s/it]\n",
      "  2%|▏         | 32/1500 [00:00<00:04, 316.19it/s]"
     ]
    },
    {
     "name": "stdout",
     "output_type": "stream",
     "text": [
      "Last loss: 0.4013\n",
      "Last train accuracy: 0.8520\n",
      "Last test accuracy: 0.8416\n",
      "Count of 0: 3332  Count of 1: 2668\n",
      "Training SAME brain instance (NO backprop)...\n",
      "===> WARNING: Backprop is disabled, which means that all layers without rules will never change their weights!\n",
      "===> This is NOT recommended by Basile!\n",
      "INITIAL train accuracy: 0.5640\n",
      "INITIAL test accuracy: 0.5524\n",
      "Epoch 1 / 1 ...\n"
     ]
    },
    {
     "name": "stderr",
     "output_type": "stream",
     "text": [
      "100%|██████████| 1500/1500 [00:04<00:00, 369.77it/s]\n",
      "  0%|          | 0/50 [00:00<?, ?it/s]"
     ]
    },
    {
     "name": "stdout",
     "output_type": "stream",
     "text": [
      "\n",
      "Last loss: 0.7303\n",
      "Last train accuracy: 0.5640\n",
      "Last test accuracy: 0.5524\n",
      "\n",
      "Universal: False\n",
      "Number hidden layers: 3\n",
      "Hidden layer width: 64\n",
      "Cap: 32\n",
      "==== Interpretation: PrePostCount ====\n",
      "\n",
      "Run 1 / 5...\n",
      "Count of 0: 1364  Count of 1: 4636\n",
      "Meta-learning...\n"
     ]
    },
    {
     "name": "stderr",
     "output_type": "stream",
     "text": [
      "100%|██████████| 50/50 [03:12<00:00,  3.85s/it]\n",
      "  2%|▏         | 26/1500 [00:00<00:05, 259.09it/s]"
     ]
    },
    {
     "name": "stdout",
     "output_type": "stream",
     "text": [
      "Last loss: 0.4794\n",
      "Last train accuracy: 0.7747\n",
      "Last test accuracy: 0.7764\n",
      "Count of 0: 2199  Count of 1: 3801\n",
      "Training SAME brain instance (NO backprop)...\n",
      "===> WARNING: Backprop is disabled, which means that all layers without rules will never change their weights!\n",
      "===> This is NOT recommended by Basile!\n",
      "INITIAL train accuracy: 0.3693\n",
      "INITIAL test accuracy: 0.3656\n",
      "Epoch 1 / 1 ...\n"
     ]
    },
    {
     "name": "stderr",
     "output_type": "stream",
     "text": [
      "100%|██████████| 1500/1500 [00:04<00:00, 327.41it/s]\n",
      "  0%|          | 0/50 [00:00<?, ?it/s]"
     ]
    },
    {
     "name": "stdout",
     "output_type": "stream",
     "text": [
      "\n",
      "Last loss: 0.6876\n",
      "Last train accuracy: 0.6287\n",
      "Last test accuracy: 0.6333\n",
      "\n",
      "\n",
      "Run 2 / 5...\n",
      "Count of 0: 4038  Count of 1: 1962\n",
      "Meta-learning...\n"
     ]
    },
    {
     "name": "stderr",
     "output_type": "stream",
     "text": [
      "100%|██████████| 50/50 [03:13<00:00,  3.87s/it]\n",
      "  2%|▏         | 29/1500 [00:00<00:05, 280.28it/s]"
     ]
    },
    {
     "name": "stdout",
     "output_type": "stream",
     "text": [
      "Last loss: 0.5246\n",
      "Last train accuracy: 0.6780\n",
      "Last test accuracy: 0.6713\n",
      "Count of 0: 4505  Count of 1: 1495\n",
      "Training SAME brain instance (NO backprop)...\n",
      "===> WARNING: Backprop is disabled, which means that all layers without rules will never change their weights!\n",
      "===> This is NOT recommended by Basile!\n",
      "INITIAL train accuracy: 0.2573\n",
      "INITIAL test accuracy: 0.2482\n",
      "Epoch 1 / 1 ...\n"
     ]
    },
    {
     "name": "stderr",
     "output_type": "stream",
     "text": [
      "100%|██████████| 1500/1500 [00:04<00:00, 323.51it/s]\n",
      "  0%|          | 0/50 [00:00<?, ?it/s]"
     ]
    },
    {
     "name": "stdout",
     "output_type": "stream",
     "text": [
      "\n",
      "Last loss: 0.5615\n",
      "Last train accuracy: 0.7420\n",
      "Last test accuracy: 0.7538\n",
      "\n",
      "\n",
      "Run 3 / 5...\n",
      "Count of 0: 639  Count of 1: 5361\n",
      "Meta-learning...\n"
     ]
    },
    {
     "name": "stderr",
     "output_type": "stream",
     "text": [
      "100%|██████████| 50/50 [03:12<00:00,  3.85s/it]\n",
      "  2%|▏         | 29/1500 [00:00<00:05, 282.05it/s]"
     ]
    },
    {
     "name": "stdout",
     "output_type": "stream",
     "text": [
      "Last loss: 0.3776\n",
      "Last train accuracy: 0.9080\n",
      "Last test accuracy: 0.8924\n",
      "Count of 0: 1768  Count of 1: 4232\n",
      "Training SAME brain instance (NO backprop)...\n",
      "===> WARNING: Backprop is disabled, which means that all layers without rules will never change their weights!\n",
      "===> This is NOT recommended by Basile!\n",
      "INITIAL train accuracy: 0.6927\n",
      "INITIAL test accuracy: 0.7087\n",
      "Epoch 1 / 1 ...\n"
     ]
    },
    {
     "name": "stderr",
     "output_type": "stream",
     "text": [
      "100%|██████████| 1500/1500 [00:04<00:00, 330.10it/s]\n",
      "  0%|          | 0/50 [00:00<?, ?it/s]"
     ]
    },
    {
     "name": "stdout",
     "output_type": "stream",
     "text": [
      "\n",
      "Last loss: 0.6140\n",
      "Last train accuracy: 0.6927\n",
      "Last test accuracy: 0.7087\n",
      "\n",
      "\n",
      "Run 4 / 5...\n",
      "Count of 0: 207  Count of 1: 5793\n",
      "Meta-learning...\n"
     ]
    },
    {
     "name": "stderr",
     "output_type": "stream",
     "text": [
      "100%|██████████| 50/50 [03:11<00:00,  3.84s/it]\n",
      "  2%|▏         | 29/1500 [00:00<00:05, 281.81it/s]"
     ]
    },
    {
     "name": "stdout",
     "output_type": "stream",
     "text": [
      "Last loss: 0.3391\n",
      "Last train accuracy: 0.9700\n",
      "Last test accuracy: 0.9647\n",
      "Count of 0: 4314  Count of 1: 1686\n",
      "Training SAME brain instance (NO backprop)...\n",
      "===> WARNING: Backprop is disabled, which means that all layers without rules will never change their weights!\n",
      "===> This is NOT recommended by Basile!\n",
      "INITIAL train accuracy: 0.2887\n",
      "INITIAL test accuracy: 0.2789\n",
      "Epoch 1 / 1 ...\n"
     ]
    },
    {
     "name": "stderr",
     "output_type": "stream",
     "text": [
      "100%|██████████| 1500/1500 [00:04<00:00, 331.38it/s]\n",
      "  0%|          | 0/50 [00:00<?, ?it/s]"
     ]
    },
    {
     "name": "stdout",
     "output_type": "stream",
     "text": [
      "\n",
      "Last loss: 0.5900\n",
      "Last train accuracy: 0.7120\n",
      "Last test accuracy: 0.7213\n",
      "\n",
      "\n",
      "Run 5 / 5...\n",
      "Count of 0: 530  Count of 1: 5470\n",
      "Meta-learning...\n"
     ]
    },
    {
     "name": "stderr",
     "output_type": "stream",
     "text": [
      "100%|██████████| 50/50 [03:13<00:00,  3.87s/it]\n",
      "  2%|▏         | 29/1500 [00:00<00:05, 281.92it/s]"
     ]
    },
    {
     "name": "stdout",
     "output_type": "stream",
     "text": [
      "Last loss: 0.3755\n",
      "Last train accuracy: 0.9113\n",
      "Last test accuracy: 0.9164\n",
      "Count of 0: 1904  Count of 1: 4096\n",
      "Training SAME brain instance (NO backprop)...\n",
      "===> WARNING: Backprop is disabled, which means that all layers without rules will never change their weights!\n",
      "===> This is NOT recommended by Basile!\n",
      "INITIAL train accuracy: 0.7000\n",
      "INITIAL test accuracy: 0.6756\n",
      "Epoch 1 / 1 ...\n"
     ]
    },
    {
     "name": "stderr",
     "output_type": "stream",
     "text": [
      "100%|██████████| 1500/1500 [00:04<00:00, 324.91it/s]\n",
      "  0%|          | 0/50 [00:00<?, ?it/s]"
     ]
    },
    {
     "name": "stdout",
     "output_type": "stream",
     "text": [
      "\n",
      "Last loss: 0.6243\n",
      "Last train accuracy: 0.7000\n",
      "Last test accuracy: 0.6756\n",
      "\n",
      "Universal: False\n",
      "Number hidden layers: 4\n",
      "Hidden layer width: 16\n",
      "Cap: 8\n",
      "==== Interpretation: PrePostCount ====\n",
      "\n",
      "Run 1 / 5...\n",
      "Count of 0: 2728  Count of 1: 3272\n",
      "Meta-learning...\n"
     ]
    },
    {
     "name": "stderr",
     "output_type": "stream",
     "text": [
      "100%|██████████| 50/50 [03:36<00:00,  4.32s/it]\n",
      "  0%|          | 0/1500 [00:00<?, ?it/s]"
     ]
    },
    {
     "name": "stdout",
     "output_type": "stream",
     "text": [
      "Last loss: 0.6088\n",
      "Last train accuracy: 0.5907\n",
      "Last test accuracy: 0.5973\n",
      "Count of 0: 2047  Count of 1: 3953\n",
      "Training SAME brain instance (NO backprop)...\n",
      "===> WARNING: Backprop is disabled, which means that all layers without rules will never change their weights!\n",
      "===> This is NOT recommended by Basile!\n",
      "INITIAL train accuracy: 0.3447\n",
      "INITIAL test accuracy: 0.3400\n",
      "Epoch 1 / 1 ...\n"
     ]
    },
    {
     "name": "stderr",
     "output_type": "stream",
     "text": [
      "100%|██████████| 1500/1500 [00:06<00:00, 222.18it/s]\n",
      "  0%|          | 0/50 [00:00<?, ?it/s]"
     ]
    },
    {
     "name": "stdout",
     "output_type": "stream",
     "text": [
      "\n",
      "Last loss: 0.6388\n",
      "Last train accuracy: 0.6760\n",
      "Last test accuracy: 0.6707\n",
      "\n",
      "\n",
      "Run 2 / 5...\n",
      "Count of 0: 707  Count of 1: 5293\n",
      "Meta-learning...\n"
     ]
    },
    {
     "name": "stderr",
     "output_type": "stream",
     "text": [
      "100%|██████████| 50/50 [03:59<00:00,  4.78s/it]\n",
      "  2%|▏         | 26/1500 [00:00<00:05, 251.82it/s]"
     ]
    },
    {
     "name": "stdout",
     "output_type": "stream",
     "text": [
      "Last loss: 0.3966\n",
      "Last train accuracy: 0.8987\n",
      "Last test accuracy: 0.8918\n",
      "Count of 0: 2251  Count of 1: 3749\n",
      "Training SAME brain instance (NO backprop)...\n",
      "===> WARNING: Backprop is disabled, which means that all layers without rules will never change their weights!\n",
      "===> This is NOT recommended by Basile!\n",
      "INITIAL train accuracy: 0.3773\n",
      "INITIAL test accuracy: 0.3744\n",
      "Epoch 1 / 1 ...\n"
     ]
    },
    {
     "name": "stderr",
     "output_type": "stream",
     "text": [
      "100%|██████████| 1500/1500 [00:06<00:00, 244.26it/s]\n",
      "  0%|          | 0/50 [00:00<?, ?it/s]"
     ]
    },
    {
     "name": "stdout",
     "output_type": "stream",
     "text": [
      "\n",
      "Last loss: 0.7075\n",
      "Last train accuracy: 0.6233\n",
      "Last test accuracy: 0.6238\n",
      "\n",
      "\n",
      "Run 3 / 5...\n",
      "Count of 0: 1228  Count of 1: 4772\n",
      "Meta-learning...\n"
     ]
    },
    {
     "name": "stderr",
     "output_type": "stream",
     "text": [
      "100%|██████████| 50/50 [04:00<00:00,  4.80s/it]\n"
     ]
    },
    {
     "name": "stdout",
     "output_type": "stream",
     "text": [
      "Last loss: 0.4604\n",
      "Last train accuracy: 0.8300\n",
      "Last test accuracy: 0.8216\n",
      "Count of 0: 269  Count of 1: 5731\n",
      "Training SAME brain instance (NO backprop)...\n",
      "===> WARNING: Backprop is disabled, which means that all layers without rules will never change their weights!\n",
      "===> This is NOT recommended by Basile!\n",
      "INITIAL train accuracy: 0.0380\n"
     ]
    },
    {
     "name": "stderr",
     "output_type": "stream",
     "text": [
      "  1%|          | 16/1500 [00:00<00:09, 157.75it/s]"
     ]
    },
    {
     "name": "stdout",
     "output_type": "stream",
     "text": [
      "INITIAL test accuracy: 0.0471\n",
      "Epoch 1 / 1 ...\n"
     ]
    },
    {
     "name": "stderr",
     "output_type": "stream",
     "text": [
      "100%|██████████| 1500/1500 [00:05<00:00, 273.96it/s]\n",
      "  0%|          | 0/50 [00:00<?, ?it/s]"
     ]
    },
    {
     "name": "stdout",
     "output_type": "stream",
     "text": [
      "\n",
      "Last loss: 0.3749\n",
      "Last train accuracy: 0.9293\n",
      "Last test accuracy: 0.9216\n",
      "\n",
      "\n",
      "Run 4 / 5...\n",
      "Count of 0: 4049  Count of 1: 1951\n",
      "Meta-learning...\n"
     ]
    },
    {
     "name": "stderr",
     "output_type": "stream",
     "text": [
      "100%|██████████| 50/50 [04:12<00:00,  5.04s/it]\n",
      "  2%|▏         | 24/1500 [00:00<00:06, 238.26it/s]"
     ]
    },
    {
     "name": "stdout",
     "output_type": "stream",
     "text": [
      "Last loss: 0.5239\n",
      "Last train accuracy: 0.6740\n",
      "Last test accuracy: 0.6751\n",
      "Count of 0: 3075  Count of 1: 2925\n",
      "Training SAME brain instance (NO backprop)...\n",
      "===> WARNING: Backprop is disabled, which means that all layers without rules will never change their weights!\n",
      "===> This is NOT recommended by Basile!\n",
      "INITIAL train accuracy: 0.4880\n",
      "INITIAL test accuracy: 0.5207\n",
      "Epoch 1 / 1 ...\n"
     ]
    },
    {
     "name": "stderr",
     "output_type": "stream",
     "text": [
      "100%|██████████| 1500/1500 [00:06<00:00, 245.05it/s]\n",
      "  0%|          | 0/50 [00:00<?, ?it/s]"
     ]
    },
    {
     "name": "stdout",
     "output_type": "stream",
     "text": [
      "\n",
      "Last loss: 0.8039\n",
      "Last train accuracy: 0.5113\n",
      "Last test accuracy: 0.4889\n",
      "\n",
      "\n",
      "Run 5 / 5...\n",
      "Count of 0: 4708  Count of 1: 1292\n",
      "Meta-learning...\n"
     ]
    },
    {
     "name": "stderr",
     "output_type": "stream",
     "text": [
      "100%|██████████| 50/50 [04:12<00:00,  5.05s/it]\n"
     ]
    },
    {
     "name": "stdout",
     "output_type": "stream",
     "text": [
      "Last loss: 0.4406\n",
      "Last train accuracy: 0.7880\n",
      "Last test accuracy: 0.7836\n",
      "Count of 0: 3787  Count of 1: 2213\n",
      "Training SAME brain instance (NO backprop)...\n",
      "===> WARNING: Backprop is disabled, which means that all layers without rules will never change their weights!\n",
      "===> This is NOT recommended by Basile!\n",
      "INITIAL train accuracy: 0.3967\n"
     ]
    },
    {
     "name": "stderr",
     "output_type": "stream",
     "text": [
      "  2%|▏         | 26/1500 [00:00<00:05, 249.73it/s]"
     ]
    },
    {
     "name": "stdout",
     "output_type": "stream",
     "text": [
      "INITIAL test accuracy: 0.3622\n",
      "Epoch 1 / 1 ...\n"
     ]
    },
    {
     "name": "stderr",
     "output_type": "stream",
     "text": [
      "100%|██████████| 1500/1500 [00:06<00:00, 232.67it/s]\n",
      "  0%|          | 0/50 [00:00<?, ?it/s]"
     ]
    },
    {
     "name": "stdout",
     "output_type": "stream",
     "text": [
      "\n",
      "Last loss: 0.7174\n",
      "Last train accuracy: 0.6053\n",
      "Last test accuracy: 0.6398\n",
      "\n",
      "Universal: False\n",
      "Number hidden layers: 4\n",
      "Hidden layer width: 32\n",
      "Cap: 16\n",
      "==== Interpretation: PrePostCount ====\n",
      "\n",
      "Run 1 / 5...\n",
      "Count of 0: 4987  Count of 1: 1013\n",
      "Meta-learning...\n"
     ]
    },
    {
     "name": "stderr",
     "output_type": "stream",
     "text": [
      " 60%|██████    | 30/50 [02:47<01:45,  5.29s/it]"
     ]
    }
   ],
   "source": [
    "hyperparams_prepostcount = []\n",
    "all_stats_prepostcount = []\n",
    "\n",
    "for universal in [False, True]:  # Specialized rules or not?\n",
    "    \n",
    "    for l in [2, 3, 4]:  # Number of hidden layers.\n",
    "        \n",
    "        for w in [16, 32, 64]:  # Width of hidden layers.\n",
    "            \n",
    "            cap = w // 2  # Number of nodes firing per layer.\n",
    "            print('Universal:', universal)\n",
    "            print('Number hidden layers:', l)\n",
    "            print('Hidden layer width:', w)\n",
    "            print('Cap:', cap)\n",
    "            hyperparams_prepostcount.append((universal, l, w, cap))\n",
    "            \n",
    "            brain_prepostcount_fact = lambda: FFLocalNet(\n",
    "                n, m, l, w, p, cap,\n",
    "                hl_rules=TableRule_PrePostCount() if universal else [TableRule_PrePostCount()] * (l-1),\n",
    "                output_rule=TableRule_PrePostCount(), options=opts, update_scheme=scheme)\n",
    "            \n",
    "            print('==== Interpretation: PrePostCount ====')\n",
    "            cur_stats = evaluate_brain(\n",
    "                brain_prepostcount_fact, n, dataset=dataset,\n",
    "                num_runs=num_runs, num_rule_epochs=num_rule_epochs,\n",
    "                num_epochs_upstream=num_epochs_upstream, num_epochs_downstream=num_epochs_downstream)\n",
    "            all_stats_prepostcount.append(cur_stats)"
   ]
  },
  {
   "cell_type": "code",
   "execution_count": null,
   "metadata": {},
   "outputs": [],
   "source": [
    "metrics_prepostcount = get_metrics(hyperparams_prepostcount, all_stats_prepostcount)"
   ]
  },
  {
   "cell_type": "code",
   "execution_count": null,
   "metadata": {},
   "outputs": [],
   "source": []
  },
  {
   "cell_type": "markdown",
   "metadata": {},
   "source": [
    "## PrePostPercent"
   ]
  },
  {
   "cell_type": "code",
   "execution_count": null,
   "metadata": {},
   "outputs": [],
   "source": [
    "hyperparams_prepostpercent = []\n",
    "all_stats_prepostpercent = []\n",
    "\n",
    "for universal in [False, True]:  # Specialized rules or not?\n",
    "    \n",
    "    for l in [2, 3, 4]:  # Number of hidden layers.\n",
    "        \n",
    "        for w in [16, 32, 64]:  # Width of hidden layers.\n",
    "            \n",
    "            cap = w // 2  # Number of nodes firing per layer.\n",
    "            print('Universal:', universal)\n",
    "            print('Number hidden layers:', l)\n",
    "            print('Hidden layer width:', w)\n",
    "            print('Cap:', cap)\n",
    "            hyperparams_prepostpercent.append((universal, l, w, cap))\n",
    "            \n",
    "            brain_prepostpercent_fact = lambda: FFLocalNet(\n",
    "                n, m, l, w, p, cap,\n",
    "                hl_rules=TableRule_PrePostPercent() if universal else [TableRule_PrePostPercent()] * (l-1),\n",
    "                output_rule=TableRule_PrePostPercent(), options=opts, update_scheme=scheme)\n",
    "            \n",
    "            print('==== Interpretation: PrePostPercent ====')\n",
    "            cur_stats = evaluate_brain(\n",
    "                brain_prepostpercent_fact, n, dataset=dataset,\n",
    "                num_runs=num_runs, num_rule_epochs=num_rule_epochs,\n",
    "                num_epochs_upstream=num_epochs_upstream, num_epochs_downstream=num_epochs_downstream)\n",
    "            all_stats_prepostpercent.append(cur_stats)"
   ]
  },
  {
   "cell_type": "code",
   "execution_count": null,
   "metadata": {},
   "outputs": [],
   "source": [
    "metrics_prepostpercent = get_metrics(hyperparams_prepostpercent, all_stats_prepostpercent)"
   ]
  },
  {
   "cell_type": "code",
   "execution_count": null,
   "metadata": {},
   "outputs": [],
   "source": []
  }
 ],
 "metadata": {
  "kernelspec": {
   "display_name": "Python 3",
   "language": "python",
   "name": "python3"
  },
  "language_info": {
   "codemirror_mode": {
    "name": "ipython",
    "version": 3
   },
   "file_extension": ".py",
   "mimetype": "text/x-python",
   "name": "python",
   "nbconvert_exporter": "python",
   "pygments_lexer": "ipython3",
   "version": "3.7.7"
  }
 },
 "nbformat": 4,
 "nbformat_minor": 4
}
