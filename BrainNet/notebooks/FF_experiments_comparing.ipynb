{
 "cells": [
  {
   "cell_type": "markdown",
   "metadata": {},
   "source": [
    "# Comparing plasticity rules\n",
    "\n",
    "## For every model, meta-learn on 8-dimensional ReLU dataset, then transfer rules, then train / test on the exact same dataset.\n",
    "\n",
    "Created by Basile Van Hoorick, Fall 2020."
   ]
  },
  {
   "cell_type": "code",
   "execution_count": 1,
   "metadata": {},
   "outputs": [],
   "source": [
    "%run FF_common.ipynb"
   ]
  },
  {
   "cell_type": "markdown",
   "metadata": {},
   "source": [
    "## First, test original RNN as a sanity check."
   ]
  },
  {
   "cell_type": "code",
   "execution_count": 2,
   "metadata": {},
   "outputs": [],
   "source": [
    "# IMPORTANT: Henceforth, we use GD directly on inputs but use plasticity rules in the output and hidden layers.\n",
    "opts_up = Options(gd_input=True,\n",
    "                  use_graph_rule=True,\n",
    "                  gd_graph_rule=True,\n",
    "                  use_output_rule=True,\n",
    "                  gd_output_rule=True,\n",
    "                  gd_output=False)\n",
    "opts_down = Options(gd_input=True,\n",
    "                    use_graph_rule=True,\n",
    "                    gd_graph_rule=False,  # Not meta-trainable anymore!\n",
    "                    use_output_rule=True,\n",
    "                    gd_output_rule=False,  # Not meta-trainable anymore!\n",
    "                    gd_output=False)\n",
    "scheme = UpdateScheme(cross_entropy_loss=True,\n",
    "                      mse_loss=False,\n",
    "                      update_misclassified_only=False,\n",
    "                      update_all_edges=True)\n",
    "\n",
    "# Feed-forward brain config.\n",
    "n_up = 8  # Input layer size for meta-learning.\n",
    "n_down = 8  # Input layer size for desired task training.\n",
    "m = 2  # Output layer size.\n",
    "l = 2  # Number of hidden layers.\n",
    "w = 24  # Width of hidden layers.\n",
    "p = 0.5  # Connectivity probability.\n",
    "cap = 12  # Number of nodes firing per layer.\n",
    "\n",
    "# Training config.\n",
    "num_runs = 10\n",
    "num_rule_epochs = 30\n",
    "num_epochs_upstream = 1\n",
    "num_epochs_downstream = 1"
   ]
  },
  {
   "cell_type": "code",
   "execution_count": 3,
   "metadata": {},
   "outputs": [],
   "source": [
    "# Instantiate brain factories.\n",
    "brain_rnn_up_fact = lambda: LocalNet(n_up, m, 100, p, 50, 3, options=opts_up, update_scheme=scheme)\n",
    "brain_rnn_down_fact = lambda: LocalNet(n_down, m, 100, p, 50, 3, options=opts_down, update_scheme=scheme)"
   ]
  },
  {
   "cell_type": "code",
   "execution_count": 4,
   "metadata": {
    "scrolled": true
   },
   "outputs": [
    {
     "name": "stderr",
     "output_type": "stream",
     "text": [
      "..\\DataGenerator.py:34: UserWarning: Implicit dimension choice for softmax has been deprecated. Change the call to include dim=X as an argument.\n",
      "  out2 = F.softmax(torch.matmul(out1, w1))\n",
      "\r",
      "  0%|                               | 0/30 [00:00<?, ?it/s]"
     ]
    },
    {
     "name": "stdout",
     "output_type": "stream",
     "text": [
      "==== Original RNN (very different from all the rest) ====\n",
      "\n",
      "Run 1 / 10...\n",
      "Count of 0: 1388  Count of 1: 4612\n",
      "Meta-learning...\n"
     ]
    },
    {
     "name": "stderr",
     "output_type": "stream",
     "text": [
      "100%|██████████████████████| 30/30 [00:56<00:00,  1.90s/it]\n",
      "..\\LocalNetBase.py:77: UserWarning: To copy construct from a tensor, it is recommended to use sourceTensor.clone().detach() or sourceTensor.clone().detach().requires_grad_(True), rather than torch.tensor(sourceTensor).\n",
      "  self.rnn_rule = torch.tensor(rule).flatten().double()\n",
      "  0%|                             | 0/1500 [00:00<?, ?it/s]"
     ]
    },
    {
     "name": "stdout",
     "output_type": "stream",
     "text": [
      "Last loss: 0.4481\n",
      "Last train accuracy: 0.8987\n",
      "Last test accuracy: 0.8813\n",
      "Count of 0: 2301  Count of 1: 3699\n",
      "Training...\n",
      "INITIAL train accuracy: 0.6087\n",
      "INITIAL test accuracy: 0.6191\n",
      "Epoch 1 / 1 ...\n"
     ]
    },
    {
     "name": "stderr",
     "output_type": "stream",
     "text": [
      "100%|█████████████████| 1500/1500 [00:03<00:00, 469.79it/s]\n",
      "  0%|                               | 0/30 [00:00<?, ?it/s]"
     ]
    },
    {
     "name": "stdout",
     "output_type": "stream",
     "text": [
      "\n",
      "Last loss: 0.7033\n",
      "Last train accuracy: 0.6087\n",
      "Last test accuracy: 0.6191\n",
      "\n",
      "\n",
      "Run 2 / 10...\n",
      "Count of 0: 3455  Count of 1: 2545\n",
      "Meta-learning...\n"
     ]
    },
    {
     "name": "stderr",
     "output_type": "stream",
     "text": [
      "100%|██████████████████████| 30/30 [00:56<00:00,  1.90s/it]\n",
      "  3%|▌                  | 48/1500 [00:00<00:03, 479.57it/s]"
     ]
    },
    {
     "name": "stdout",
     "output_type": "stream",
     "text": [
      "Last loss: 0.4560\n",
      "Last train accuracy: 0.8133\n",
      "Last test accuracy: 0.8191\n",
      "Count of 0: 477  Count of 1: 5523\n",
      "Training...\n",
      "INITIAL train accuracy: 0.6007\n",
      "INITIAL test accuracy: 0.5938\n",
      "Epoch 1 / 1 ...\n"
     ]
    },
    {
     "name": "stderr",
     "output_type": "stream",
     "text": [
      "100%|█████████████████| 1500/1500 [00:03<00:00, 468.47it/s]\n",
      "  0%|                               | 0/30 [00:00<?, ?it/s]"
     ]
    },
    {
     "name": "stdout",
     "output_type": "stream",
     "text": [
      "\n",
      "Last loss: 0.3813\n",
      "Last train accuracy: 0.9240\n",
      "Last test accuracy: 0.9193\n",
      "\n",
      "\n",
      "Run 3 / 10...\n",
      "Count of 0: 868  Count of 1: 5132\n",
      "Meta-learning...\n"
     ]
    },
    {
     "name": "stderr",
     "output_type": "stream",
     "text": [
      "100%|██████████████████████| 30/30 [00:56<00:00,  1.89s/it]\n",
      "  0%|                             | 0/1500 [00:00<?, ?it/s]"
     ]
    },
    {
     "name": "stdout",
     "output_type": "stream",
     "text": [
      "Last loss: 0.4121\n",
      "Last train accuracy: 0.9467\n",
      "Last test accuracy: 0.9342\n",
      "Count of 0: 4312  Count of 1: 1688\n",
      "Training...\n",
      "INITIAL train accuracy: 0.7233\n",
      "INITIAL test accuracy: 0.7171\n",
      "Epoch 1 / 1 ...\n"
     ]
    },
    {
     "name": "stderr",
     "output_type": "stream",
     "text": [
      "100%|█████████████████| 1500/1500 [00:03<00:00, 469.06it/s]\n",
      "  0%|                               | 0/30 [00:00<?, ?it/s]"
     ]
    },
    {
     "name": "stdout",
     "output_type": "stream",
     "text": [
      "\n",
      "Last loss: 0.5793\n",
      "Last train accuracy: 0.7233\n",
      "Last test accuracy: 0.7171\n",
      "\n",
      "\n",
      "Run 4 / 10...\n",
      "Count of 0: 2738  Count of 1: 3262\n",
      "Meta-learning...\n"
     ]
    },
    {
     "name": "stderr",
     "output_type": "stream",
     "text": [
      "100%|██████████████████████| 30/30 [00:56<00:00,  1.87s/it]\n",
      "  3%|▋                  | 52/1500 [00:00<00:02, 514.38it/s]"
     ]
    },
    {
     "name": "stdout",
     "output_type": "stream",
     "text": [
      "Last loss: 0.4265\n",
      "Last train accuracy: 0.8733\n",
      "Last test accuracy: 0.8653\n",
      "Count of 0: 1103  Count of 1: 4897\n",
      "Training...\n",
      "INITIAL train accuracy: 0.4847\n",
      "INITIAL test accuracy: 0.4767\n",
      "Epoch 1 / 1 ...\n"
     ]
    },
    {
     "name": "stderr",
     "output_type": "stream",
     "text": [
      "100%|█████████████████| 1500/1500 [00:03<00:00, 471.57it/s]\n",
      "  0%|                               | 0/30 [00:00<?, ?it/s]"
     ]
    },
    {
     "name": "stdout",
     "output_type": "stream",
     "text": [
      "\n",
      "Last loss: 0.5453\n",
      "Last train accuracy: 0.7947\n",
      "Last test accuracy: 0.8233\n",
      "\n",
      "\n",
      "Run 5 / 10...\n",
      "Count of 0: 1277  Count of 1: 4723\n",
      "Meta-learning...\n"
     ]
    },
    {
     "name": "stderr",
     "output_type": "stream",
     "text": [
      "100%|██████████████████████| 30/30 [00:56<00:00,  1.88s/it]\n",
      "  0%|                             | 0/1500 [00:00<?, ?it/s]"
     ]
    },
    {
     "name": "stdout",
     "output_type": "stream",
     "text": [
      "Last loss: 0.4410\n",
      "Last train accuracy: 0.8967\n",
      "Last test accuracy: 0.9062\n",
      "Count of 0: 1277  Count of 1: 4723\n",
      "Training...\n",
      "INITIAL train accuracy: 0.2020\n",
      "INITIAL test accuracy: 0.2164\n",
      "Epoch 1 / 1 ...\n"
     ]
    },
    {
     "name": "stderr",
     "output_type": "stream",
     "text": [
      "100%|█████████████████| 1500/1500 [00:03<00:00, 477.12it/s]\n",
      "  0%|                               | 0/30 [00:00<?, ?it/s]"
     ]
    },
    {
     "name": "stdout",
     "output_type": "stream",
     "text": [
      "\n",
      "Last loss: 0.4858\n",
      "Last train accuracy: 0.8360\n",
      "Last test accuracy: 0.8224\n",
      "\n",
      "\n",
      "Run 6 / 10...\n",
      "Count of 0: 2911  Count of 1: 3089\n",
      "Meta-learning...\n"
     ]
    },
    {
     "name": "stderr",
     "output_type": "stream",
     "text": [
      "100%|██████████████████████| 30/30 [00:56<00:00,  1.89s/it]\n",
      "  0%|                             | 0/1500 [00:00<?, ?it/s]"
     ]
    },
    {
     "name": "stdout",
     "output_type": "stream",
     "text": [
      "Last loss: 0.4961\n",
      "Last train accuracy: 0.8280\n",
      "Last test accuracy: 0.8022\n",
      "Count of 0: 3313  Count of 1: 2687\n",
      "Training...\n",
      "INITIAL train accuracy: 0.5187\n",
      "INITIAL test accuracy: 0.5224\n",
      "Epoch 1 / 1 ...\n"
     ]
    },
    {
     "name": "stderr",
     "output_type": "stream",
     "text": [
      "100%|█████████████████| 1500/1500 [00:03<00:00, 460.69it/s]\n",
      "  0%|                               | 0/30 [00:00<?, ?it/s]"
     ]
    },
    {
     "name": "stdout",
     "output_type": "stream",
     "text": [
      "\n",
      "Last loss: 0.5273\n",
      "Last train accuracy: 0.7773\n",
      "Last test accuracy: 0.7818\n",
      "\n",
      "\n",
      "Run 7 / 10...\n",
      "Count of 0: 543  Count of 1: 5457\n",
      "Meta-learning...\n"
     ]
    },
    {
     "name": "stderr",
     "output_type": "stream",
     "text": [
      "100%|██████████████████████| 30/30 [00:57<00:00,  1.92s/it]\n",
      "  0%|                             | 0/1500 [00:00<?, ?it/s]"
     ]
    },
    {
     "name": "stdout",
     "output_type": "stream",
     "text": [
      "Last loss: 0.3737\n",
      "Last train accuracy: 0.9520\n",
      "Last test accuracy: 0.9489\n",
      "Count of 0: 3172  Count of 1: 2828\n",
      "Training...\n",
      "INITIAL train accuracy: 0.4807\n",
      "INITIAL test accuracy: 0.4682\n",
      "Epoch 1 / 1 ...\n"
     ]
    },
    {
     "name": "stderr",
     "output_type": "stream",
     "text": [
      "100%|█████████████████| 1500/1500 [00:03<00:00, 470.23it/s]\n",
      "  0%|                               | 0/30 [00:00<?, ?it/s]"
     ]
    },
    {
     "name": "stdout",
     "output_type": "stream",
     "text": [
      "\n",
      "Last loss: 0.7613\n",
      "Last train accuracy: 0.5193\n",
      "Last test accuracy: 0.5318\n",
      "\n",
      "\n",
      "Run 8 / 10...\n",
      "Count of 0: 2201  Count of 1: 3799\n",
      "Meta-learning...\n"
     ]
    },
    {
     "name": "stderr",
     "output_type": "stream",
     "text": [
      "100%|██████████████████████| 30/30 [00:56<00:00,  1.89s/it]\n",
      "  0%|                             | 0/1500 [00:00<?, ?it/s]"
     ]
    },
    {
     "name": "stdout",
     "output_type": "stream",
     "text": [
      "Last loss: 0.4638\n",
      "Last train accuracy: 0.8540\n",
      "Last test accuracy: 0.8587\n",
      "Count of 0: 4740  Count of 1: 1260\n",
      "Training...\n",
      "INITIAL train accuracy: 0.4913\n",
      "INITIAL test accuracy: 0.4847\n",
      "Epoch 1 / 1 ...\n"
     ]
    },
    {
     "name": "stderr",
     "output_type": "stream",
     "text": [
      "100%|█████████████████| 1500/1500 [00:03<00:00, 468.91it/s]\n",
      "  0%|                               | 0/30 [00:00<?, ?it/s]"
     ]
    },
    {
     "name": "stdout",
     "output_type": "stream",
     "text": [
      "\n",
      "Last loss: 0.5293\n",
      "Last train accuracy: 0.7827\n",
      "Last test accuracy: 0.7924\n",
      "\n",
      "\n",
      "Run 9 / 10...\n",
      "Count of 0: 1809  Count of 1: 4191\n",
      "Meta-learning...\n"
     ]
    },
    {
     "name": "stderr",
     "output_type": "stream",
     "text": [
      "100%|██████████████████████| 30/30 [00:56<00:00,  1.90s/it]\n",
      "  0%|                             | 0/1500 [00:00<?, ?it/s]"
     ]
    },
    {
     "name": "stdout",
     "output_type": "stream",
     "text": [
      "Last loss: 0.5076\n",
      "Last train accuracy: 0.8300\n",
      "Last test accuracy: 0.8391\n",
      "Count of 0: 5191  Count of 1: 809\n",
      "Training...\n",
      "INITIAL train accuracy: 0.8520\n",
      "INITIAL test accuracy: 0.8696\n",
      "Epoch 1 / 1 ...\n"
     ]
    },
    {
     "name": "stderr",
     "output_type": "stream",
     "text": [
      "100%|█████████████████| 1500/1500 [00:03<00:00, 476.13it/s]\n",
      "  0%|                               | 0/30 [00:00<?, ?it/s]"
     ]
    },
    {
     "name": "stdout",
     "output_type": "stream",
     "text": [
      "\n",
      "Last loss: 0.4433\n",
      "Last train accuracy: 0.8520\n",
      "Last test accuracy: 0.8696\n",
      "\n",
      "\n",
      "Run 10 / 10...\n",
      "Count of 0: 189  Count of 1: 5811\n",
      "Meta-learning...\n"
     ]
    },
    {
     "name": "stderr",
     "output_type": "stream",
     "text": [
      "100%|██████████████████████| 30/30 [00:56<00:00,  1.89s/it]\n",
      "  0%|                             | 0/1500 [00:00<?, ?it/s]"
     ]
    },
    {
     "name": "stdout",
     "output_type": "stream",
     "text": [
      "Last loss: 0.3451\n",
      "Last train accuracy: 0.9687\n",
      "Last test accuracy: 0.9684\n",
      "Count of 0: 1186  Count of 1: 4814\n",
      "Training...\n",
      "INITIAL train accuracy: 0.2020\n",
      "INITIAL test accuracy: 0.1962\n",
      "Epoch 1 / 1 ...\n"
     ]
    },
    {
     "name": "stderr",
     "output_type": "stream",
     "text": [
      "100%|█████████████████| 1500/1500 [00:03<00:00, 464.55it/s]"
     ]
    },
    {
     "name": "stdout",
     "output_type": "stream",
     "text": [
      "\n",
      "Last loss: 0.5333\n",
      "Last train accuracy: 0.7980\n",
      "Last test accuracy: 0.8038\n",
      "\n"
     ]
    },
    {
     "name": "stderr",
     "output_type": "stream",
     "text": [
      "\n"
     ]
    }
   ],
   "source": [
    "print('==== Original RNN (very different from all the rest) ====')\n",
    "stats_rnn_up, stats_rnn_down = evaluate_up_down(\n",
    "    brain_rnn_up_fact, brain_rnn_down_fact, n_up, n_down, dataset='relu',\n",
    "    num_runs=num_runs, num_rule_epochs=num_rule_epochs,\n",
    "    num_epochs_upstream=num_epochs_upstream, num_epochs_downstream=num_epochs_downstream)"
   ]
  },
  {
   "cell_type": "code",
   "execution_count": 5,
   "metadata": {},
   "outputs": [
    {
     "name": "stdout",
     "output_type": "stream",
     "text": [
      "Saving figure to: figs/default\n"
     ]
    },
    {
     "data": {
      "image/png": "[encoded data removed]",
      "text/plain": [
       "<Figure size 720x288 with 2 Axes>"
      ]
     },
     "metadata": {},
     "output_type": "display_data"
    },
    {
     "name": "stdout",
     "output_type": "stream",
     "text": [
      "Mean essential stats across all runs:\n",
      "Last upstream loss: 0.4481\n",
      "Last upstream train accuracy: 0.8987\n",
      "Last upstream test accuracy: 0.8813\n",
      "Last downstream loss: 0.7033\n",
      "Last downstream train accuracy: 0.6087\n",
      "Last downstream test accuracy: 0.6191\n",
      "\n",
      "Saving figure to: figs/default\n"
     ]
    },
    {
     "data": {
      "image/png": "[encoded data removed]",
      "text/plain": [
       "<Figure size 720x288 with 2 Axes>"
      ]
     },
     "metadata": {},
     "output_type": "display_data"
    },
    {
     "name": "stdout",
     "output_type": "stream",
     "text": [
      "Mean essential stats across all runs:\n",
      "Last upstream loss: 0.3451\n",
      "Last upstream train accuracy: 0.9687\n",
      "Last upstream test accuracy: 0.9684\n",
      "Last downstream loss: 0.5333\n",
      "Last downstream train accuracy: 0.7980\n",
      "Last downstream test accuracy: 0.8038\n",
      "\n"
     ]
    }
   ],
   "source": [
    "# Plot FIRST and lAST run stats only.\n",
    "plot_curves(stats_rnn_up[0], stats_rnn_down[0],\n",
    "            '[RNN] Upstream meta-learning on ReLU',\n",
    "            '[RNN] Downstream training on ReLU')\n",
    "plot_curves(stats_rnn_up[-1], stats_rnn_down[-1],\n",
    "            '[RNN] Upstream meta-learning on ReLU',\n",
    "            '[RNN] Downstream training on ReLU')"
   ]
  },
  {
   "cell_type": "code",
   "execution_count": 6,
   "metadata": {},
   "outputs": [
    {
     "name": "stdout",
     "output_type": "stream",
     "text": [
      "Saving figure to: figs/comparing_rnn_curves\n"
     ]
    },
    {
     "data": {
      "image/png": "[encoded data removed]",
      "text/plain": [
       "<Figure size 720x288 with 2 Axes>"
      ]
     },
     "metadata": {},
     "output_type": "display_data"
    },
    {
     "name": "stdout",
     "output_type": "stream",
     "text": [
      "Mean essential stats across all runs:\n",
      "Last upstream loss: 0.4370\n",
      "Last upstream train accuracy: 0.8861\n",
      "Last upstream test accuracy: 0.8824\n",
      "Last downstream loss: 0.5489\n",
      "Last downstream train accuracy: 0.7616\n",
      "Last downstream test accuracy: 0.7681\n",
      "\n"
     ]
    }
   ],
   "source": [
    "# Plot aggregated stats.\n",
    "agg_stats_rnn_up = convert_multi_stats_uncertainty(stats_rnn_up)\n",
    "agg_stats_rnn_down = convert_multi_stats_uncertainty(stats_rnn_down)\n",
    "plot_curves(agg_stats_rnn_up, agg_stats_rnn_down,\n",
    "            '[RNN] Upstream meta-learning on ReLU',\n",
    "            '[RNN] Downstream training on ReLU',\n",
    "            'figs/comparing_rnn_curves')"
   ]
  },
  {
   "cell_type": "markdown",
   "metadata": {},
   "source": [
    "## Evaluate all table-based feed-forward networks."
   ]
  },
  {
   "cell_type": "code",
   "execution_count": 7,
   "metadata": {},
   "outputs": [],
   "source": [
    "# Instantiate brain factories.\n",
    "brain_prepost_up_fact = lambda: FFLocalNet(\n",
    "    n_up, m, l, w, p, cap, hl_rules=TableRule_PrePost(),\n",
    "    output_rule=TableRule_PrePost(), options=opts_up, update_scheme=scheme)\n",
    "brain_prepost_down_fact = lambda: FFLocalNet(\n",
    "    n_down, m, l, w, p, cap, hl_rules=TableRule_PrePost(),\n",
    "    output_rule=TableRule_PrePost(), options=opts_down, update_scheme=scheme)\n",
    "brain_prepostcount_up_fact = lambda: FFLocalNet(\n",
    "    n_up, m, l, w, p, cap, hl_rules=TableRule_PrePostCount(),\n",
    "    output_rule=TableRule_PrePostCount(), options=opts_up, update_scheme=scheme)\n",
    "brain_prepostcount_down_fact = lambda: FFLocalNet(\n",
    "    n_down, m, l, w, p, cap, hl_rules=TableRule_PrePostCount(),\n",
    "    output_rule=TableRule_PrePostCount(), options=opts_down, update_scheme=scheme)\n",
    "brain_prepostpercent_up_fact = lambda: FFLocalNet(\n",
    "    n_up, m, l, w, p, cap, hl_rules=TableRule_PrePostPercent(),\n",
    "    output_rule=TableRule_PrePostPercent(), options=opts_up, update_scheme=scheme)\n",
    "brain_prepostpercent_down_fact = lambda: FFLocalNet(\n",
    "    n_down, m, l, w, p, cap, hl_rules=TableRule_PrePostPercent(),\n",
    "    output_rule=TableRule_PrePostPercent(), options=opts_down, update_scheme=scheme)\n",
    "brain_postcount_up_fact = lambda: FFLocalNet(\n",
    "    n_up, m, l, w, p, cap, hl_rules=TableRule_PostCount(),\n",
    "    output_rule=TableRule_PostCount(), options=opts_up, update_scheme=scheme)\n",
    "brain_postcount_down_fact = lambda: FFLocalNet(\n",
    "    n_down, m, l, w, p, cap, hl_rules=TableRule_PostCount(),\n",
    "    output_rule=TableRule_PostCount(), options=opts_down, update_scheme=scheme)"
   ]
  },
  {
   "cell_type": "code",
   "execution_count": 8,
   "metadata": {
    "scrolled": true
   },
   "outputs": [
    {
     "name": "stderr",
     "output_type": "stream",
     "text": [
      "..\\DataGenerator.py:34: UserWarning: Implicit dimension choice for softmax has been deprecated. Change the call to include dim=X as an argument.\n",
      "  out2 = F.softmax(torch.matmul(out1, w1))\n",
      "\r",
      "  0%|                               | 0/30 [00:00<?, ?it/s]"
     ]
    },
    {
     "name": "stdout",
     "output_type": "stream",
     "text": [
      "==== Interpretation: Pre and Post ====\n",
      "\n",
      "Run 1 / 10...\n",
      "Count of 0: 3895  Count of 1: 2105\n",
      "Meta-learning...\n"
     ]
    },
    {
     "name": "stderr",
     "output_type": "stream",
     "text": [
      "100%|██████████████████████| 30/30 [00:28<00:00,  1.04it/s]\n",
      "  6%|█                  | 86/1500 [00:00<00:01, 859.22it/s]"
     ]
    },
    {
     "name": "stdout",
     "output_type": "stream",
     "text": [
      "Last loss: 0.6931\n",
      "Last train accuracy: 0.6500\n",
      "Last test accuracy: 0.6489\n",
      "Count of 0: 5541  Count of 1: 459\n",
      "Training...\n",
      "INITIAL train accuracy: 0.9227\n",
      "INITIAL test accuracy: 0.9238\n",
      "Epoch 1 / 1 ...\n"
     ]
    },
    {
     "name": "stderr",
     "output_type": "stream",
     "text": [
      "100%|█████████████████| 1500/1500 [00:01<00:00, 875.11it/s]\n",
      "  0%|                               | 0/30 [00:00<?, ?it/s]"
     ]
    },
    {
     "name": "stdout",
     "output_type": "stream",
     "text": [
      "\n",
      "Last loss: 0.6931\n",
      "Last train accuracy: 0.9227\n",
      "Last test accuracy: 0.9238\n",
      "\n",
      "\n",
      "Run 2 / 10...\n",
      "Count of 0: 999  Count of 1: 5001\n",
      "Meta-learning...\n"
     ]
    },
    {
     "name": "stderr",
     "output_type": "stream",
     "text": [
      "100%|██████████████████████| 30/30 [00:28<00:00,  1.04it/s]\n",
      "  6%|█▏                 | 89/1500 [00:00<00:01, 889.18it/s]"
     ]
    },
    {
     "name": "stdout",
     "output_type": "stream",
     "text": [
      "Last loss: 0.4183\n",
      "Last train accuracy: 0.8493\n",
      "Last test accuracy: 0.8440\n",
      "Count of 0: 4521  Count of 1: 1479\n",
      "Training...\n",
      "INITIAL train accuracy: 0.7553\n",
      "INITIAL test accuracy: 0.7529\n",
      "Epoch 1 / 1 ...\n"
     ]
    },
    {
     "name": "stderr",
     "output_type": "stream",
     "text": [
      "100%|█████████████████| 1500/1500 [00:01<00:00, 894.17it/s]\n",
      "  0%|                               | 0/30 [00:00<?, ?it/s]"
     ]
    },
    {
     "name": "stdout",
     "output_type": "stream",
     "text": [
      "\n",
      "Last loss: 0.5573\n",
      "Last train accuracy: 0.7553\n",
      "Last test accuracy: 0.7529\n",
      "\n",
      "\n",
      "Run 3 / 10...\n",
      "Count of 0: 2219  Count of 1: 3781\n",
      "Meta-learning...\n"
     ]
    },
    {
     "name": "stderr",
     "output_type": "stream",
     "text": [
      "100%|██████████████████████| 30/30 [00:28<00:00,  1.04it/s]\n",
      "  5%|█                  | 79/1500 [00:00<00:01, 789.29it/s]"
     ]
    },
    {
     "name": "stdout",
     "output_type": "stream",
     "text": [
      "Last loss: 0.4045\n",
      "Last train accuracy: 0.9173\n",
      "Last test accuracy: 0.9051\n",
      "Count of 0: 4343  Count of 1: 1657\n",
      "Training...\n",
      "INITIAL train accuracy: 0.7453\n",
      "INITIAL test accuracy: 0.7167\n",
      "Epoch 1 / 1 ...\n"
     ]
    },
    {
     "name": "stderr",
     "output_type": "stream",
     "text": [
      "100%|█████████████████| 1500/1500 [00:01<00:00, 899.54it/s]\n",
      "  0%|                               | 0/30 [00:00<?, ?it/s]"
     ]
    },
    {
     "name": "stdout",
     "output_type": "stream",
     "text": [
      "\n",
      "Last loss: 0.4892\n",
      "Last train accuracy: 0.8287\n",
      "Last test accuracy: 0.8333\n",
      "\n",
      "\n",
      "Run 4 / 10...\n",
      "Count of 0: 2595  Count of 1: 3405\n",
      "Meta-learning...\n"
     ]
    },
    {
     "name": "stderr",
     "output_type": "stream",
     "text": [
      "100%|██████████████████████| 30/30 [00:28<00:00,  1.05it/s]\n",
      "  6%|█                  | 87/1500 [00:00<00:01, 860.61it/s]"
     ]
    },
    {
     "name": "stdout",
     "output_type": "stream",
     "text": [
      "Last loss: 0.4131\n",
      "Last train accuracy: 0.9060\n",
      "Last test accuracy: 0.8927\n",
      "Count of 0: 163  Count of 1: 5837\n",
      "Training...\n",
      "INITIAL train accuracy: 0.0280\n",
      "INITIAL test accuracy: 0.0269\n",
      "Epoch 1 / 1 ...\n"
     ]
    },
    {
     "name": "stderr",
     "output_type": "stream",
     "text": [
      "100%|█████████████████| 1500/1500 [00:01<00:00, 891.23it/s]\n",
      "  0%|                               | 0/30 [00:00<?, ?it/s]"
     ]
    },
    {
     "name": "stdout",
     "output_type": "stream",
     "text": [
      "\n",
      "Last loss: 0.3453\n",
      "Last train accuracy: 0.9700\n",
      "Last test accuracy: 0.9693\n",
      "\n",
      "\n",
      "Run 5 / 10...\n",
      "Count of 0: 1531  Count of 1: 4469\n",
      "Meta-learning...\n"
     ]
    },
    {
     "name": "stderr",
     "output_type": "stream",
     "text": [
      "100%|██████████████████████| 30/30 [00:28<00:00,  1.05it/s]\n",
      "  5%|█                  | 80/1500 [00:00<00:01, 799.27it/s]"
     ]
    },
    {
     "name": "stdout",
     "output_type": "stream",
     "text": [
      "Last loss: 0.6931\n",
      "Last train accuracy: 0.2460\n",
      "Last test accuracy: 0.2582\n",
      "Count of 0: 2447  Count of 1: 3553\n",
      "Training...\n",
      "INITIAL train accuracy: 0.5720\n",
      "INITIAL test accuracy: 0.5922\n",
      "Epoch 1 / 1 ...\n"
     ]
    },
    {
     "name": "stderr",
     "output_type": "stream",
     "text": [
      "100%|█████████████████| 1500/1500 [00:01<00:00, 887.29it/s]\n",
      "  0%|                               | 0/30 [00:00<?, ?it/s]"
     ]
    },
    {
     "name": "stdout",
     "output_type": "stream",
     "text": [
      "\n",
      "Last loss: 0.6931\n",
      "Last train accuracy: 0.4253\n",
      "Last test accuracy: 0.4020\n",
      "\n",
      "\n",
      "Run 6 / 10...\n",
      "Count of 0: 4166  Count of 1: 1834\n",
      "Meta-learning...\n"
     ]
    },
    {
     "name": "stderr",
     "output_type": "stream",
     "text": [
      "100%|██████████████████████| 30/30 [00:28<00:00,  1.04it/s]\n",
      "  6%|█▏                 | 90/1500 [00:00<00:01, 899.18it/s]"
     ]
    },
    {
     "name": "stdout",
     "output_type": "stream",
     "text": [
      "Last loss: 0.4907\n",
      "Last train accuracy: 0.7107\n",
      "Last test accuracy: 0.6889\n",
      "Count of 0: 6000  Count of 1: 0\n",
      "Training...\n",
      "INITIAL train accuracy: 0.0000\n",
      "INITIAL test accuracy: 0.0000\n",
      "Epoch 1 / 1 ...\n"
     ]
    },
    {
     "name": "stderr",
     "output_type": "stream",
     "text": [
      "100%|█████████████████| 1500/1500 [00:01<00:00, 889.93it/s]\n",
      "  0%|                               | 0/30 [00:00<?, ?it/s]"
     ]
    },
    {
     "name": "stdout",
     "output_type": "stream",
     "text": [
      "\n",
      "Last loss: 0.3133\n",
      "Last train accuracy: 1.0000\n",
      "Last test accuracy: 1.0000\n",
      "\n",
      "\n",
      "Run 7 / 10...\n",
      "Count of 0: 1861  Count of 1: 4139\n",
      "Meta-learning...\n"
     ]
    },
    {
     "name": "stderr",
     "output_type": "stream",
     "text": [
      "100%|██████████████████████| 30/30 [00:29<00:00,  1.03it/s]\n",
      "  6%|█▏                 | 89/1500 [00:00<00:01, 889.19it/s]"
     ]
    },
    {
     "name": "stdout",
     "output_type": "stream",
     "text": [
      "Last loss: 0.4537\n",
      "Last train accuracy: 0.8607\n",
      "Last test accuracy: 0.8627\n",
      "Count of 0: 3970  Count of 1: 2030\n",
      "Training...\n",
      "INITIAL train accuracy: 0.6620\n",
      "INITIAL test accuracy: 0.6616\n",
      "Epoch 1 / 1 ...\n"
     ]
    },
    {
     "name": "stderr",
     "output_type": "stream",
     "text": [
      "100%|█████████████████| 1500/1500 [00:01<00:00, 883.29it/s]\n",
      "  0%|                               | 0/30 [00:00<?, ?it/s]"
     ]
    },
    {
     "name": "stdout",
     "output_type": "stream",
     "text": [
      "\n",
      "Last loss: 0.5474\n",
      "Last train accuracy: 0.7533\n",
      "Last test accuracy: 0.7487\n",
      "\n",
      "\n",
      "Run 8 / 10...\n",
      "Count of 0: 1674  Count of 1: 4326\n",
      "Meta-learning...\n"
     ]
    },
    {
     "name": "stderr",
     "output_type": "stream",
     "text": [
      "100%|██████████████████████| 30/30 [00:29<00:00,  1.03it/s]\n",
      "  6%|█▏                 | 94/1500 [00:00<00:01, 939.15it/s]"
     ]
    },
    {
     "name": "stdout",
     "output_type": "stream",
     "text": [
      "Last loss: 0.6931\n",
      "Last train accuracy: 0.2833\n",
      "Last test accuracy: 0.2776\n",
      "Count of 0: 3833  Count of 1: 2167\n",
      "Training...\n",
      "INITIAL train accuracy: 0.6580\n",
      "INITIAL test accuracy: 0.6324\n",
      "Epoch 1 / 1 ...\n"
     ]
    },
    {
     "name": "stderr",
     "output_type": "stream",
     "text": [
      "100%|█████████████████| 1500/1500 [00:01<00:00, 893.64it/s]\n",
      "  0%|                               | 0/30 [00:00<?, ?it/s]"
     ]
    },
    {
     "name": "stdout",
     "output_type": "stream",
     "text": [
      "\n",
      "Last loss: 0.6931\n",
      "Last train accuracy: 0.6580\n",
      "Last test accuracy: 0.6324\n",
      "\n",
      "\n",
      "Run 9 / 10...\n",
      "Count of 0: 1864  Count of 1: 4136\n",
      "Meta-learning...\n"
     ]
    },
    {
     "name": "stderr",
     "output_type": "stream",
     "text": [
      "100%|██████████████████████| 30/30 [00:28<00:00,  1.04it/s]\n",
      "  5%|█                  | 81/1500 [00:00<00:01, 809.27it/s]"
     ]
    },
    {
     "name": "stdout",
     "output_type": "stream",
     "text": [
      "Last loss: 0.4971\n",
      "Last train accuracy: 0.7247\n",
      "Last test accuracy: 0.6796\n",
      "Count of 0: 5399  Count of 1: 601\n",
      "Training...\n",
      "INITIAL train accuracy: 0.9027\n",
      "INITIAL test accuracy: 0.8989\n",
      "Epoch 1 / 1 ...\n"
     ]
    },
    {
     "name": "stderr",
     "output_type": "stream",
     "text": [
      "100%|█████████████████| 1500/1500 [00:01<00:00, 858.82it/s]\n",
      "  0%|                               | 0/30 [00:00<?, ?it/s]"
     ]
    },
    {
     "name": "stdout",
     "output_type": "stream",
     "text": [
      "\n",
      "Last loss: 0.3973\n",
      "Last train accuracy: 0.9027\n",
      "Last test accuracy: 0.8989\n",
      "\n",
      "\n",
      "Run 10 / 10...\n",
      "Count of 0: 5148  Count of 1: 852\n",
      "Meta-learning...\n"
     ]
    },
    {
     "name": "stderr",
     "output_type": "stream",
     "text": [
      "100%|██████████████████████| 30/30 [00:29<00:00,  1.03it/s]\n",
      "  5%|█                  | 82/1500 [00:00<00:01, 819.25it/s]"
     ]
    },
    {
     "name": "stdout",
     "output_type": "stream",
     "text": [
      "Last loss: 0.4039\n",
      "Last train accuracy: 0.8607\n",
      "Last test accuracy: 0.8571\n",
      "Count of 0: 2900  Count of 1: 3100\n",
      "Training...\n",
      "INITIAL train accuracy: 0.4900\n",
      "INITIAL test accuracy: 0.5256\n",
      "Epoch 1 / 1 ...\n"
     ]
    },
    {
     "name": "stderr",
     "output_type": "stream",
     "text": [
      "100%|█████████████████| 1500/1500 [00:01<00:00, 907.16it/s]\n",
      "  0%|                               | 0/30 [00:00<?, ?it/s]"
     ]
    },
    {
     "name": "stdout",
     "output_type": "stream",
     "text": [
      "\n",
      "Last loss: 0.7161\n",
      "Last train accuracy: 0.5100\n",
      "Last test accuracy: 0.4744\n",
      "\n",
      "==== Interpretation: Pre and Post and Incoming Count ====\n",
      "\n",
      "Run 1 / 10...\n",
      "Count of 0: 2533  Count of 1: 3467\n",
      "Meta-learning...\n"
     ]
    },
    {
     "name": "stderr",
     "output_type": "stream",
     "text": [
      "100%|██████████████████████| 30/30 [00:31<00:00,  1.06s/it]\n",
      "  6%|█                  | 83/1500 [00:00<00:01, 829.24it/s]"
     ]
    },
    {
     "name": "stdout",
     "output_type": "stream",
     "text": [
      "Last loss: 0.5536\n",
      "Last train accuracy: 0.5800\n",
      "Last test accuracy: 0.5836\n",
      "Count of 0: 4073  Count of 1: 1927\n",
      "Training...\n",
      "INITIAL train accuracy: 0.6787\n",
      "INITIAL test accuracy: 0.6789\n",
      "Epoch 1 / 1 ...\n"
     ]
    },
    {
     "name": "stderr",
     "output_type": "stream",
     "text": [
      "100%|█████████████████| 1500/1500 [00:01<00:00, 852.60it/s]\n",
      "  0%|                               | 0/30 [00:00<?, ?it/s]"
     ]
    },
    {
     "name": "stdout",
     "output_type": "stream",
     "text": [
      "\n",
      "Last loss: 0.6433\n",
      "Last train accuracy: 0.6787\n",
      "Last test accuracy: 0.6789\n",
      "\n",
      "\n",
      "Run 2 / 10...\n",
      "Count of 0: 1168  Count of 1: 4832\n",
      "Meta-learning...\n"
     ]
    },
    {
     "name": "stderr",
     "output_type": "stream",
     "text": [
      "100%|██████████████████████| 30/30 [00:32<00:00,  1.07s/it]\n",
      "  5%|▉                  | 78/1500 [00:00<00:01, 779.28it/s]"
     ]
    },
    {
     "name": "stdout",
     "output_type": "stream",
     "text": [
      "Last loss: 0.4500\n",
      "Last train accuracy: 0.8200\n",
      "Last test accuracy: 0.8180\n",
      "Count of 0: 597  Count of 1: 5403\n",
      "Training...\n",
      "INITIAL train accuracy: 0.1007\n",
      "INITIAL test accuracy: 0.0991\n",
      "Epoch 1 / 1 ...\n"
     ]
    },
    {
     "name": "stderr",
     "output_type": "stream",
     "text": [
      "100%|█████████████████| 1500/1500 [00:01<00:00, 852.47it/s]\n",
      "  0%|                               | 0/30 [00:00<?, ?it/s]"
     ]
    },
    {
     "name": "stdout",
     "output_type": "stream",
     "text": [
      "\n",
      "Last loss: 0.4113\n",
      "Last train accuracy: 0.8993\n",
      "Last test accuracy: 0.9009\n",
      "\n",
      "\n",
      "Run 3 / 10...\n",
      "Count of 0: 2534  Count of 1: 3466\n",
      "Meta-learning...\n"
     ]
    },
    {
     "name": "stderr",
     "output_type": "stream",
     "text": [
      "100%|██████████████████████| 30/30 [00:32<00:00,  1.07s/it]\n",
      "  6%|█                  | 84/1500 [00:00<00:01, 839.24it/s]"
     ]
    },
    {
     "name": "stdout",
     "output_type": "stream",
     "text": [
      "Last loss: 0.4998\n",
      "Last train accuracy: 0.7960\n",
      "Last test accuracy: 0.7971\n",
      "Count of 0: 4001  Count of 1: 1999\n",
      "Training...\n",
      "INITIAL train accuracy: 0.6580\n",
      "INITIAL test accuracy: 0.6698\n",
      "Epoch 1 / 1 ...\n"
     ]
    },
    {
     "name": "stderr",
     "output_type": "stream",
     "text": [
      "100%|█████████████████| 1500/1500 [00:01<00:00, 840.04it/s]\n",
      "  0%|                               | 0/30 [00:00<?, ?it/s]"
     ]
    },
    {
     "name": "stdout",
     "output_type": "stream",
     "text": [
      "\n",
      "Last loss: 0.5694\n",
      "Last train accuracy: 0.7527\n",
      "Last test accuracy: 0.7647\n",
      "\n",
      "\n",
      "Run 4 / 10...\n",
      "Count of 0: 3503  Count of 1: 2497\n",
      "Meta-learning...\n"
     ]
    },
    {
     "name": "stderr",
     "output_type": "stream",
     "text": [
      "100%|██████████████████████| 30/30 [00:32<00:00,  1.09s/it]\n",
      "  5%|▉                  | 77/1500 [00:00<00:01, 769.30it/s]"
     ]
    },
    {
     "name": "stdout",
     "output_type": "stream",
     "text": [
      "Last loss: 0.5841\n",
      "Last train accuracy: 0.5947\n",
      "Last test accuracy: 0.5802\n",
      "Count of 0: 5227  Count of 1: 773\n",
      "Training...\n",
      "INITIAL train accuracy: 0.8640\n",
      "INITIAL test accuracy: 0.8736\n",
      "Epoch 1 / 1 ...\n"
     ]
    },
    {
     "name": "stderr",
     "output_type": "stream",
     "text": [
      "100%|█████████████████| 1500/1500 [00:01<00:00, 871.30it/s]\n",
      "  0%|                               | 0/30 [00:00<?, ?it/s]"
     ]
    },
    {
     "name": "stdout",
     "output_type": "stream",
     "text": [
      "\n",
      "Last loss: 0.4693\n",
      "Last train accuracy: 0.8640\n",
      "Last test accuracy: 0.8736\n",
      "\n",
      "\n",
      "Run 5 / 10...\n",
      "Count of 0: 4856  Count of 1: 1144\n",
      "Meta-learning...\n"
     ]
    },
    {
     "name": "stderr",
     "output_type": "stream",
     "text": [
      "100%|██████████████████████| 30/30 [00:32<00:00,  1.07s/it]\n",
      "  5%|█                  | 79/1500 [00:00<00:01, 789.29it/s]"
     ]
    },
    {
     "name": "stdout",
     "output_type": "stream",
     "text": [
      "Last loss: 0.4283\n",
      "Last train accuracy: 0.8200\n",
      "Last test accuracy: 0.8058\n",
      "Count of 0: 5092  Count of 1: 908\n",
      "Training...\n",
      "INITIAL train accuracy: 0.1467\n",
      "INITIAL test accuracy: 0.1529\n",
      "Epoch 1 / 1 ...\n"
     ]
    },
    {
     "name": "stderr",
     "output_type": "stream",
     "text": [
      "100%|█████████████████| 1500/1500 [00:01<00:00, 827.52it/s]\n",
      "  0%|                               | 0/30 [00:00<?, ?it/s]"
     ]
    },
    {
     "name": "stdout",
     "output_type": "stream",
     "text": [
      "\n",
      "Last loss: 0.4753\n",
      "Last train accuracy: 0.8533\n",
      "Last test accuracy: 0.8471\n",
      "\n",
      "\n",
      "Run 6 / 10...\n",
      "Count of 0: 3819  Count of 1: 2181\n",
      "Meta-learning...\n"
     ]
    },
    {
     "name": "stderr",
     "output_type": "stream",
     "text": [
      "100%|██████████████████████| 30/30 [00:32<00:00,  1.08s/it]\n",
      "  5%|▉                  | 78/1500 [00:00<00:01, 771.57it/s]"
     ]
    },
    {
     "name": "stdout",
     "output_type": "stream",
     "text": [
      "Last loss: 0.5644\n",
      "Last train accuracy: 0.6347\n",
      "Last test accuracy: 0.6371\n",
      "Count of 0: 2540  Count of 1: 3460\n",
      "Training...\n",
      "INITIAL train accuracy: 0.4167\n",
      "INITIAL test accuracy: 0.4256\n",
      "Epoch 1 / 1 ...\n"
     ]
    },
    {
     "name": "stderr",
     "output_type": "stream",
     "text": [
      "100%|█████████████████| 1500/1500 [00:01<00:00, 836.29it/s]\n",
      "  0%|                               | 0/30 [00:00<?, ?it/s]"
     ]
    },
    {
     "name": "stdout",
     "output_type": "stream",
     "text": [
      "\n",
      "Last loss: 0.7053\n",
      "Last train accuracy: 0.5833\n",
      "Last test accuracy: 0.5744\n",
      "\n",
      "\n",
      "Run 7 / 10...\n",
      "Count of 0: 1093  Count of 1: 4907\n",
      "Meta-learning...\n"
     ]
    },
    {
     "name": "stderr",
     "output_type": "stream",
     "text": [
      "100%|██████████████████████| 30/30 [00:32<00:00,  1.08s/it]\n",
      "  6%|█                  | 84/1500 [00:00<00:01, 839.24it/s]"
     ]
    },
    {
     "name": "stdout",
     "output_type": "stream",
     "text": [
      "Last loss: 0.4311\n",
      "Last train accuracy: 0.8307\n",
      "Last test accuracy: 0.8433\n",
      "Count of 0: 2819  Count of 1: 3181\n",
      "Training...\n",
      "INITIAL train accuracy: 0.4653\n",
      "INITIAL test accuracy: 0.4713\n",
      "Epoch 1 / 1 ...\n"
     ]
    },
    {
     "name": "stderr",
     "output_type": "stream",
     "text": [
      "100%|█████████████████| 1500/1500 [00:01<00:00, 859.30it/s]\n",
      "  0%|                               | 0/30 [00:00<?, ?it/s]"
     ]
    },
    {
     "name": "stdout",
     "output_type": "stream",
     "text": [
      "\n",
      "Last loss: 0.7453\n",
      "Last train accuracy: 0.5347\n",
      "Last test accuracy: 0.5287\n",
      "\n",
      "\n",
      "Run 8 / 10...\n",
      "Count of 0: 77  Count of 1: 5923\n",
      "Meta-learning...\n"
     ]
    },
    {
     "name": "stderr",
     "output_type": "stream",
     "text": [
      "100%|██████████████████████| 30/30 [00:31<00:00,  1.06s/it]\n",
      "  6%|█                  | 85/1500 [00:00<00:01, 849.22it/s]"
     ]
    },
    {
     "name": "stdout",
     "output_type": "stream",
     "text": [
      "Last loss: 0.3285\n",
      "Last train accuracy: 0.9867\n",
      "Last test accuracy: 0.9873\n",
      "Count of 0: 1785  Count of 1: 4215\n",
      "Training...\n",
      "INITIAL train accuracy: 0.7267\n",
      "INITIAL test accuracy: 0.6944\n",
      "Epoch 1 / 1 ...\n"
     ]
    },
    {
     "name": "stderr",
     "output_type": "stream",
     "text": [
      "100%|█████████████████| 1500/1500 [00:01<00:00, 876.13it/s]\n",
      "  0%|                               | 0/30 [00:00<?, ?it/s]"
     ]
    },
    {
     "name": "stdout",
     "output_type": "stream",
     "text": [
      "\n",
      "Last loss: 0.5853\n",
      "Last train accuracy: 0.7267\n",
      "Last test accuracy: 0.6944\n",
      "\n",
      "\n",
      "Run 9 / 10...\n",
      "Count of 0: 1935  Count of 1: 4065\n",
      "Meta-learning...\n"
     ]
    },
    {
     "name": "stderr",
     "output_type": "stream",
     "text": [
      " 33%|███████▎              | 10/30 [00:11<00:22,  1.10s/it]\n"
     ]
    },
    {
     "ename": "KeyboardInterrupt",
     "evalue": "",
     "output_type": "error",
     "traceback": [
      "\u001b[1;31m------------------------------------------------------------\u001b[0m",
      "\u001b[1;31mKeyboardInterrupt\u001b[0m          Traceback (most recent call last)",
      "\u001b[1;32m<ipython-input-8-c20aee8c3425>\u001b[0m in \u001b[0;36m<module>\u001b[1;34m\u001b[0m\n\u001b[0;32m      9\u001b[0m     \u001b[0mbrain_prepostcount_up_fact\u001b[0m\u001b[1;33m,\u001b[0m \u001b[0mbrain_prepostcount_down_fact\u001b[0m\u001b[1;33m,\u001b[0m \u001b[0mn_up\u001b[0m\u001b[1;33m,\u001b[0m \u001b[0mn_down\u001b[0m\u001b[1;33m,\u001b[0m \u001b[0mdataset\u001b[0m\u001b[1;33m=\u001b[0m\u001b[1;34m'relu'\u001b[0m\u001b[1;33m,\u001b[0m\u001b[1;33m\u001b[0m\u001b[1;33m\u001b[0m\u001b[0m\n\u001b[0;32m     10\u001b[0m     \u001b[0mnum_runs\u001b[0m\u001b[1;33m=\u001b[0m\u001b[0mnum_runs\u001b[0m\u001b[1;33m,\u001b[0m \u001b[0mnum_rule_epochs\u001b[0m\u001b[1;33m=\u001b[0m\u001b[0mnum_rule_epochs\u001b[0m\u001b[1;33m,\u001b[0m\u001b[1;33m\u001b[0m\u001b[1;33m\u001b[0m\u001b[0m\n\u001b[1;32m---> 11\u001b[1;33m     num_epochs_upstream=num_epochs_upstream, num_epochs_downstream=num_epochs_downstream)\n\u001b[0m\u001b[0;32m     12\u001b[0m \u001b[0mprint\u001b[0m\u001b[1;33m(\u001b[0m\u001b[1;34m'==== Interpretation: Pre and Post and Binned Incoming Fraction ===='\u001b[0m\u001b[1;33m)\u001b[0m\u001b[1;33m\u001b[0m\u001b[1;33m\u001b[0m\u001b[0m\n\u001b[0;32m     13\u001b[0m stats_prepostpercent_up, stats_prepostpercent_down = evaluate_up_down(\n",
      "\u001b[1;32m<ipython-input-1-84c8ea6f4dcf>\u001b[0m in \u001b[0;36mevaluate_up_down\u001b[1;34m(brain_up_fact, brain_down_fact, n_up, n_down, dataset, num_runs, num_rule_epochs, num_epochs_upstream, num_epochs_downstream)\u001b[0m\n\u001b[0;32m     17\u001b[0m             \u001b[0mX_train\u001b[0m\u001b[1;33m,\u001b[0m \u001b[0my_train\u001b[0m\u001b[1;33m,\u001b[0m \u001b[0mbrain_up\u001b[0m\u001b[1;33m,\u001b[0m \u001b[0mnum_rule_epochs\u001b[0m\u001b[1;33m=\u001b[0m\u001b[0mnum_rule_epochs\u001b[0m\u001b[1;33m,\u001b[0m\u001b[1;33m\u001b[0m\u001b[1;33m\u001b[0m\u001b[0m\n\u001b[0;32m     18\u001b[0m             \u001b[0mnum_epochs\u001b[0m\u001b[1;33m=\u001b[0m\u001b[0mnum_epochs_upstream\u001b[0m\u001b[1;33m,\u001b[0m \u001b[0mbatch_size\u001b[0m\u001b[1;33m=\u001b[0m\u001b[1;36m100\u001b[0m\u001b[1;33m,\u001b[0m \u001b[0mlearn_rate\u001b[0m\u001b[1;33m=\u001b[0m\u001b[1;36m1e-2\u001b[0m\u001b[1;33m,\u001b[0m\u001b[1;33m\u001b[0m\u001b[1;33m\u001b[0m\u001b[0m\n\u001b[1;32m---> 19\u001b[1;33m             X_test=X_test, y_test=y_test, verbose=False)\n\u001b[0m\u001b[0;32m     20\u001b[0m \u001b[1;33m\u001b[0m\u001b[0m\n\u001b[0;32m     21\u001b[0m         \u001b[1;31m# Transfer rules.\u001b[0m\u001b[1;33m\u001b[0m\u001b[1;33m\u001b[0m\u001b[1;33m\u001b[0m\u001b[0m\n",
      "\u001b[1;32m~\\Repos\\assemblies\\BrainNet\\train.py\u001b[0m in \u001b[0;36mmetalearn_rules\u001b[1;34m(X, y, meta_model, num_rule_epochs, num_epochs, batch_size, learn_rate, X_test, y_test, verbose)\u001b[0m\n\u001b[0;32m     98\u001b[0m             \u001b[1;31m# Run inner epochs and update weights according to current rule.\u001b[0m\u001b[1;33m\u001b[0m\u001b[1;33m\u001b[0m\u001b[1;33m\u001b[0m\u001b[0m\n\u001b[0;32m     99\u001b[0m             \u001b[1;31m# NOTE: This resets the weights first.\u001b[0m\u001b[1;33m\u001b[0m\u001b[1;33m\u001b[0m\u001b[1;33m\u001b[0m\u001b[0m\n\u001b[1;32m--> 100\u001b[1;33m             \u001b[0mloss\u001b[0m \u001b[1;33m=\u001b[0m \u001b[0mmeta_model\u001b[0m\u001b[1;33m(\u001b[0m\u001b[0minputs\u001b[0m\u001b[1;33m,\u001b[0m \u001b[0mlabels\u001b[0m\u001b[1;33m,\u001b[0m \u001b[0mnum_epochs\u001b[0m\u001b[1;33m,\u001b[0m \u001b[0mbatch_size\u001b[0m\u001b[1;33m)\u001b[0m\u001b[1;33m\u001b[0m\u001b[1;33m\u001b[0m\u001b[0m\n\u001b[0m\u001b[0;32m    101\u001b[0m             \u001b[0mcur_losses\u001b[0m\u001b[1;33m.\u001b[0m\u001b[0mappend\u001b[0m\u001b[1;33m(\u001b[0m\u001b[0mloss\u001b[0m\u001b[1;33m.\u001b[0m\u001b[0mitem\u001b[0m\u001b[1;33m(\u001b[0m\u001b[1;33m)\u001b[0m\u001b[1;33m)\u001b[0m\u001b[1;33m\u001b[0m\u001b[1;33m\u001b[0m\u001b[0m\n\u001b[0;32m    102\u001b[0m \u001b[1;33m\u001b[0m\u001b[0m\n",
      "\u001b[1;32mC:\\Development\\Anaconda3\\lib\\site-packages\\torch\\nn\\modules\\module.py\u001b[0m in \u001b[0;36m_call_impl\u001b[1;34m(self, *input, **kwargs)\u001b[0m\n\u001b[0;32m    725\u001b[0m             \u001b[0mresult\u001b[0m \u001b[1;33m=\u001b[0m \u001b[0mself\u001b[0m\u001b[1;33m.\u001b[0m\u001b[0m_slow_forward\u001b[0m\u001b[1;33m(\u001b[0m\u001b[1;33m*\u001b[0m\u001b[0minput\u001b[0m\u001b[1;33m,\u001b[0m \u001b[1;33m**\u001b[0m\u001b[0mkwargs\u001b[0m\u001b[1;33m)\u001b[0m\u001b[1;33m\u001b[0m\u001b[1;33m\u001b[0m\u001b[0m\n\u001b[0;32m    726\u001b[0m         \u001b[1;32melse\u001b[0m\u001b[1;33m:\u001b[0m\u001b[1;33m\u001b[0m\u001b[1;33m\u001b[0m\u001b[0m\n\u001b[1;32m--> 727\u001b[1;33m             \u001b[0mresult\u001b[0m \u001b[1;33m=\u001b[0m \u001b[0mself\u001b[0m\u001b[1;33m.\u001b[0m\u001b[0mforward\u001b[0m\u001b[1;33m(\u001b[0m\u001b[1;33m*\u001b[0m\u001b[0minput\u001b[0m\u001b[1;33m,\u001b[0m \u001b[1;33m**\u001b[0m\u001b[0mkwargs\u001b[0m\u001b[1;33m)\u001b[0m\u001b[1;33m\u001b[0m\u001b[1;33m\u001b[0m\u001b[0m\n\u001b[0m\u001b[0;32m    728\u001b[0m         for hook in itertools.chain(\n\u001b[0;32m    729\u001b[0m                 \u001b[0m_global_forward_hooks\u001b[0m\u001b[1;33m.\u001b[0m\u001b[0mvalues\u001b[0m\u001b[1;33m(\u001b[0m\u001b[1;33m)\u001b[0m\u001b[1;33m,\u001b[0m\u001b[1;33m\u001b[0m\u001b[1;33m\u001b[0m\u001b[0m\n",
      "\u001b[1;32m~\\Repos\\assemblies\\BrainNet\\FFLocalNet.py\u001b[0m in \u001b[0;36mforward\u001b[1;34m(self, inputs, labels, epochs, batch, continue_)\u001b[0m\n\u001b[0;32m    241\u001b[0m                 \u001b[1;31m# Get the outputs of this one sample\u001b[0m\u001b[1;33m\u001b[0m\u001b[1;33m\u001b[0m\u001b[1;33m\u001b[0m\u001b[0m\n\u001b[0;32m    242\u001b[0m                 \u001b[1;31m# This records the activations that occur\u001b[0m\u001b[1;33m\u001b[0m\u001b[1;33m\u001b[0m\u001b[1;33m\u001b[0m\u001b[0m\n\u001b[1;32m--> 243\u001b[1;33m                 \u001b[0moutputs\u001b[0m \u001b[1;33m=\u001b[0m \u001b[0mself\u001b[0m\u001b[1;33m.\u001b[0m\u001b[0mforward_pass\u001b[0m\u001b[1;33m(\u001b[0m\u001b[0mx\u001b[0m\u001b[1;33m.\u001b[0m\u001b[0munsqueeze\u001b[0m\u001b[1;33m(\u001b[0m\u001b[1;36m0\u001b[0m\u001b[1;33m)\u001b[0m\u001b[1;33m)\u001b[0m\u001b[1;33m\u001b[0m\u001b[1;33m\u001b[0m\u001b[0m\n\u001b[0m\u001b[0;32m    244\u001b[0m \u001b[1;33m\u001b[0m\u001b[0m\n\u001b[0;32m    245\u001b[0m                 \u001b[1;31m# Update the weights using the recorded activations\u001b[0m\u001b[1;33m\u001b[0m\u001b[1;33m\u001b[0m\u001b[1;33m\u001b[0m\u001b[0m\n",
      "\u001b[1;31mKeyboardInterrupt\u001b[0m: "
     ]
    }
   ],
   "source": [
    "# Evaluate models.\n",
    "print('==== Interpretation: Pre and Post ====')\n",
    "stats_prepost_up, stats_prepost_down = evaluate_up_down(\n",
    "    brain_prepost_up_fact, brain_prepost_down_fact, n_up, n_down, dataset='relu',\n",
    "    num_runs=num_runs, num_rule_epochs=num_rule_epochs,\n",
    "    num_epochs_upstream=num_epochs_upstream, num_epochs_downstream=num_epochs_downstream)\n",
    "print('==== Interpretation: Pre and Post and Incoming Count ====')\n",
    "stats_prepostcount_up, stats_prepostcount_down = evaluate_up_down(\n",
    "    brain_prepostcount_up_fact, brain_prepostcount_down_fact, n_up, n_down, dataset='relu',\n",
    "    num_runs=num_runs, num_rule_epochs=num_rule_epochs,\n",
    "    num_epochs_upstream=num_epochs_upstream, num_epochs_downstream=num_epochs_downstream)\n",
    "print('==== Interpretation: Pre and Post and Binned Incoming Fraction ====')\n",
    "stats_prepostpercent_up, stats_prepostpercent_down = evaluate_up_down(\n",
    "    brain_prepostpercent_up_fact, brain_prepostpercent_down_fact, n_up, n_down, dataset='relu',\n",
    "    num_runs=num_runs, num_rule_epochs=num_rule_epochs,\n",
    "    num_epochs_upstream=num_epochs_upstream, num_epochs_downstream=num_epochs_downstream)\n",
    "print('==== Interpretation: Post and Incoming Count ====')\n",
    "stats_postcount_up, stats_postcount_down = evaluate_up_down(\n",
    "    brain_postcount_up_fact, brain_postcount_down_fact, n_up, n_down, dataset='relu',\n",
    "    num_runs=num_runs, num_rule_epochs=num_rule_epochs,\n",
    "    num_epochs_upstream=num_epochs_upstream, num_epochs_downstream=num_epochs_downstream)"
   ]
  },
  {
   "cell_type": "code",
   "execution_count": null,
   "metadata": {
    "scrolled": false
   },
   "outputs": [],
   "source": [
    "# Plot aggregated stats.\n",
    "agg_stats_prepost_up = convert_multi_stats_uncertainty(stats_prepost_up)\n",
    "agg_stats_prepost_down = convert_multi_stats_uncertainty(stats_prepost_down)\n",
    "plot_curves(agg_stats_prepost_up, agg_stats_prepost_down,\n",
    "            '[PrePost] Upstream meta-learning on ReLU',\n",
    "            '[PrePost] Downstream training on ReLU',\n",
    "            'figs/comparing_prepost_curves')\n",
    "agg_stats_prepostcount_up = convert_multi_stats_uncertainty(stats_prepostcount_up)\n",
    "agg_stats_prepostcount_down = convert_multi_stats_uncertainty(stats_prepostcount_down)\n",
    "plot_curves(agg_stats_prepostcount_up, agg_stats_prepostcount_down,\n",
    "            '[PrePostCount] Upstream meta-learning on ReLU',\n",
    "            '[PrePostCount] Downstream training on ReLU',\n",
    "            'figs/comparing_prepostcount_curves')\n",
    "agg_stats_prepostpercent_up = convert_multi_stats_uncertainty(stats_prepostpercent_up)\n",
    "agg_stats_prepostpercent_down = convert_multi_stats_uncertainty(stats_prepostpercent_down)\n",
    "plot_curves(agg_stats_prepostpercent_up, agg_stats_prepostpercent_down,\n",
    "            '[PrePostPercent] Upstream meta-learning on ReLU',\n",
    "            '[PrePostPercent] Downstream training on ReLU',\n",
    "            'figs/comparing_prepostpercent_curves')\n",
    "agg_stats_postcount_up = convert_multi_stats_uncertainty(stats_postcount_up)\n",
    "agg_stats_postcount_down = convert_multi_stats_uncertainty(stats_postcount_down)\n",
    "plot_curves(agg_stats_postcount_up, agg_stats_postcount_down,\n",
    "            '[PostCount] Upstream meta-learning on ReLU',\n",
    "            '[PostCount] Downstream training on ReLU',\n",
    "            'figs/comparing_postcount_curves')"
   ]
  },
  {
   "cell_type": "code",
   "execution_count": null,
   "metadata": {},
   "outputs": [],
   "source": [
    "# Plot to compare all.\n",
    "all_stats_up = [agg_stats_rnn_up, agg_stats_prepost_up, agg_stats_prepostcount_up, agg_stats_prepostpercent_up, agg_stats_postcount_up]\n",
    "all_stats_down = [agg_stats_rnn_down, agg_stats_prepost_down, agg_stats_prepostcount_down, agg_stats_prepostpercent_down, agg_stats_postcount_down]\n",
    "labels = ['RNN', 'PrePost', 'PrePostCount', 'PrePostPercent', 'PostCount']\n",
    "plot_compare_models(all_stats_up, all_stats_down, labels,\n",
    "                    'Upstream meta-learning on ReLU',\n",
    "                    'Downstream training on ReLU'\n",
    "                    'figs/comparing_table')"
   ]
  },
  {
   "cell_type": "code",
   "execution_count": null,
   "metadata": {},
   "outputs": [],
   "source": []
  },
  {
   "cell_type": "code",
   "execution_count": null,
   "metadata": {
    "scrolled": true
   },
   "outputs": [],
   "source": [
    "if 0:\n",
    "    agg_stats_prepost_up = convert_multi_stats_uncertainty(stats_prepost_up)\n",
    "    agg_stats_prepost_down = convert_multi_stats_uncertainty(stats_prepost_down)\n",
    "    for i in range(len(stats_prepost_up)):\n",
    "        plot_curves(stats_prepost_up[i], stats_prepost_down[i],\n",
    "                    '[PrePost] Upstream meta-learning on ReLU',\n",
    "                    '[PrePost] Downstream training on ReLU')"
   ]
  },
  {
   "cell_type": "code",
   "execution_count": null,
   "metadata": {},
   "outputs": [],
   "source": []
  },
  {
   "cell_type": "markdown",
   "metadata": {},
   "source": [
    "## Evaluate all small-ANN-based feed-forward networks."
   ]
  },
  {
   "cell_type": "code",
   "execution_count": null,
   "metadata": {},
   "outputs": [],
   "source": []
  }
 ],
 "metadata": {
  "kernelspec": {
   "display_name": "Python 3",
   "language": "python",
   "name": "python3"
  },
  "language_info": {
   "codemirror_mode": {
    "name": "ipython",
    "version": 3
   },
   "file_extension": ".py",
   "mimetype": "text/x-python",
   "name": "python",
   "nbconvert_exporter": "python",
   "pygments_lexer": "ipython3",
   "version": "3.7.9"
  }
 },
 "nbformat": 4,
 "nbformat_minor": 4
}
