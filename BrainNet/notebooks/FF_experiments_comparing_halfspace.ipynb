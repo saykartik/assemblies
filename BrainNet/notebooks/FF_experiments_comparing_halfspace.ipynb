{
 "cells": [
  {
   "cell_type": "markdown",
   "metadata": {},
   "source": [
    "# Comparing plasticity rules\n",
    "\n",
    "## For every model, meta-learn on 8-dimensional halfspace dataset, then transfer rules to a NEW instance, and train / test that on the same dataset type but with fixed rules.\n",
    "\n",
    "Created by Basile Van Hoorick, Fall 2020."
   ]
  },
  {
   "cell_type": "code",
   "execution_count": 1,
   "metadata": {},
   "outputs": [],
   "source": [
    "%run FF_common.ipynb"
   ]
  },
  {
   "cell_type": "markdown",
   "metadata": {},
   "source": [
    "## First, test original RNN as a sanity check."
   ]
  },
  {
   "cell_type": "code",
   "execution_count": 2,
   "metadata": {},
   "outputs": [],
   "source": [
    "# IMPORTANT: Henceforth, we use GD directly on inputs but use plasticity rules in the output and hidden layers.\n",
    "opts_up = Options(gd_input=True,\n",
    "                  use_graph_rule=True,\n",
    "                  gd_graph_rule=True,\n",
    "                  use_output_rule=True,\n",
    "                  gd_output_rule=True,\n",
    "                  gd_output=False)\n",
    "opts_down = Options(gd_input=True,\n",
    "                    use_graph_rule=True,\n",
    "                    gd_graph_rule=False,  # Not meta-trainable anymore!\n",
    "                    use_output_rule=True,\n",
    "                    gd_output_rule=False,  # Not meta-trainable anymore!\n",
    "                    gd_output=False)\n",
    "scheme = UpdateScheme(cross_entropy_loss=True,\n",
    "                      mse_loss=False,\n",
    "                      update_misclassified_only=False,\n",
    "                      update_all_edges=True)\n",
    "\n",
    "# Feed-forward brain config.\n",
    "n_up = 8  # Input layer size for meta-learning.\n",
    "n_down = 8  # Input layer size for desired task training.\n",
    "m = 2  # Output layer size.\n",
    "l = 2  # Number of hidden layers.\n",
    "w = 32  # Width of hidden layers.\n",
    "p = 0.5  # Connectivity probability.\n",
    "cap = 16  # Number of nodes firing per layer.\n",
    "dataset = 'halfspace'\n",
    "\n",
    "# Training config.\n",
    "num_runs = 10\n",
    "num_rule_epochs = 50\n",
    "num_epochs_upstream = 1\n",
    "num_epochs_downstream = 1"
   ]
  },
  {
   "cell_type": "code",
   "execution_count": 3,
   "metadata": {},
   "outputs": [],
   "source": [
    "# Instantiate brain factories.\n",
    "brain_rnn_up_fact = lambda: LocalNet(n_up, m, 64, p, 32, 3, options=opts_up, update_scheme=scheme)\n",
    "brain_rnn_down_fact = lambda: LocalNet(n_down, m, 64, p, 32, 3, options=opts_down, update_scheme=scheme)"
   ]
  },
  {
   "cell_type": "code",
   "execution_count": 4,
   "metadata": {
    "scrolled": true
   },
   "outputs": [
    {
     "name": "stderr",
     "output_type": "stream",
     "text": [
      "\r",
      "  0%|                                  | 0/50 [00:00<?, ?it/s]"
     ]
    },
    {
     "name": "stdout",
     "output_type": "stream",
     "text": [
      "==== Original RNN (very different from all the rest) ====\n",
      "\n",
      "Run 1 / 10...\n",
      "Meta-learning...\n"
     ]
    },
    {
     "name": "stderr",
     "output_type": "stream",
     "text": [
      "100%|█████████████████████████| 50/50 [01:36<00:00,  1.93s/it]\n",
      "..\\LocalNetBase.py:77: UserWarning: To copy construct from a tensor, it is recommended to use sourceTensor.clone().detach() or sourceTensor.clone().detach().requires_grad_(True), rather than torch.tensor(sourceTensor).\n",
      "  self.rnn_rule = torch.tensor(rule).flatten().double()\n",
      "  3%|▋                     | 47/1500 [00:00<00:03, 464.92it/s]"
     ]
    },
    {
     "name": "stdout",
     "output_type": "stream",
     "text": [
      "Last loss: 0.3744\n",
      "Last train accuracy: 0.9087\n",
      "Last test accuracy: 0.9100\n",
      "Training NEW brain instance (WITH backprop)...\n",
      "INITIAL train accuracy: 0.5167\n",
      "INITIAL test accuracy: 0.5400\n",
      "Epoch 1 / 1 ...\n"
     ]
    },
    {
     "name": "stderr",
     "output_type": "stream",
     "text": [
      "100%|████████████████████| 1500/1500 [00:03<00:00, 471.44it/s]\n",
      "  0%|                                  | 0/50 [00:00<?, ?it/s]"
     ]
    },
    {
     "name": "stdout",
     "output_type": "stream",
     "text": [
      "\n",
      "Last loss: 0.6393\n",
      "Last train accuracy: 0.6700\n",
      "Last test accuracy: 0.6280\n",
      "\n",
      "\n",
      "Run 2 / 10...\n",
      "Meta-learning...\n"
     ]
    },
    {
     "name": "stderr",
     "output_type": "stream",
     "text": [
      "100%|█████████████████████████| 50/50 [01:37<00:00,  1.96s/it]\n",
      "  3%|▋                     | 43/1500 [00:00<00:03, 429.61it/s]"
     ]
    },
    {
     "name": "stdout",
     "output_type": "stream",
     "text": [
      "Last loss: 0.3552\n",
      "Last train accuracy: 0.9573\n",
      "Last test accuracy: 0.9540\n",
      "Training NEW brain instance (WITH backprop)...\n",
      "INITIAL train accuracy: 0.5407\n",
      "INITIAL test accuracy: 0.5240\n",
      "Epoch 1 / 1 ...\n"
     ]
    },
    {
     "name": "stderr",
     "output_type": "stream",
     "text": [
      "100%|████████████████████| 1500/1500 [00:03<00:00, 465.37it/s]\n",
      "  0%|                                  | 0/50 [00:00<?, ?it/s]"
     ]
    },
    {
     "name": "stdout",
     "output_type": "stream",
     "text": [
      "\n",
      "Last loss: 0.7093\n",
      "Last train accuracy: 0.6120\n",
      "Last test accuracy: 0.5400\n",
      "\n",
      "\n",
      "Run 3 / 10...\n",
      "Meta-learning...\n"
     ]
    },
    {
     "name": "stderr",
     "output_type": "stream",
     "text": [
      "100%|█████████████████████████| 50/50 [01:36<00:00,  1.94s/it]\n",
      "  2%|▌                     | 37/1500 [00:00<00:03, 369.53it/s]"
     ]
    },
    {
     "name": "stdout",
     "output_type": "stream",
     "text": [
      "Last loss: 0.3642\n",
      "Last train accuracy: 0.9480\n",
      "Last test accuracy: 0.9380\n",
      "Training NEW brain instance (WITH backprop)...\n",
      "INITIAL train accuracy: 0.6333\n",
      "INITIAL test accuracy: 0.6760\n",
      "Epoch 1 / 1 ...\n"
     ]
    },
    {
     "name": "stderr",
     "output_type": "stream",
     "text": [
      "100%|████████████████████| 1500/1500 [00:03<00:00, 468.93it/s]\n",
      "  0%|                                  | 0/50 [00:00<?, ?it/s]"
     ]
    },
    {
     "name": "stdout",
     "output_type": "stream",
     "text": [
      "\n",
      "Last loss: 0.5193\n",
      "Last train accuracy: 0.7913\n",
      "Last test accuracy: 0.8000\n",
      "\n",
      "\n",
      "Run 4 / 10...\n",
      "Meta-learning...\n"
     ]
    },
    {
     "name": "stderr",
     "output_type": "stream",
     "text": [
      "100%|█████████████████████████| 50/50 [01:38<00:00,  1.96s/it]\n",
      "  3%|▋                     | 50/1500 [00:00<00:02, 499.55it/s]"
     ]
    },
    {
     "name": "stdout",
     "output_type": "stream",
     "text": [
      "Last loss: 0.3563\n",
      "Last train accuracy: 0.9620\n",
      "Last test accuracy: 0.9500\n",
      "Training NEW brain instance (WITH backprop)...\n",
      "INITIAL train accuracy: 0.4900\n",
      "INITIAL test accuracy: 0.4740\n",
      "Epoch 1 / 1 ...\n"
     ]
    },
    {
     "name": "stderr",
     "output_type": "stream",
     "text": [
      "100%|████████████████████| 1500/1500 [00:03<00:00, 467.73it/s]\n",
      "  0%|                                  | 0/50 [00:00<?, ?it/s]"
     ]
    },
    {
     "name": "stdout",
     "output_type": "stream",
     "text": [
      "\n",
      "Last loss: 0.6713\n",
      "Last train accuracy: 0.6167\n",
      "Last test accuracy: 0.6000\n",
      "\n",
      "\n",
      "Run 5 / 10...\n",
      "Meta-learning...\n"
     ]
    },
    {
     "name": "stderr",
     "output_type": "stream",
     "text": [
      "100%|█████████████████████████| 50/50 [01:37<00:00,  1.95s/it]\n",
      "  4%|▊                     | 53/1500 [00:00<00:02, 529.52it/s]"
     ]
    },
    {
     "name": "stdout",
     "output_type": "stream",
     "text": [
      "Last loss: 0.3555\n",
      "Last train accuracy: 0.9380\n",
      "Last test accuracy: 0.9340\n",
      "Training NEW brain instance (WITH backprop)...\n",
      "INITIAL train accuracy: 0.5687\n",
      "INITIAL test accuracy: 0.5200\n",
      "Epoch 1 / 1 ...\n"
     ]
    },
    {
     "name": "stderr",
     "output_type": "stream",
     "text": [
      "100%|████████████████████| 1500/1500 [00:03<00:00, 496.50it/s]\n",
      "  0%|                                  | 0/50 [00:00<?, ?it/s]"
     ]
    },
    {
     "name": "stdout",
     "output_type": "stream",
     "text": [
      "\n",
      "Last loss: 0.5173\n",
      "Last train accuracy: 0.7947\n",
      "Last test accuracy: 0.7740\n",
      "\n",
      "\n",
      "Run 6 / 10...\n",
      "Meta-learning...\n"
     ]
    },
    {
     "name": "stderr",
     "output_type": "stream",
     "text": [
      "100%|█████████████████████████| 50/50 [01:38<00:00,  1.97s/it]\n",
      "  3%|▋                     | 45/1500 [00:00<00:03, 440.77it/s]"
     ]
    },
    {
     "name": "stdout",
     "output_type": "stream",
     "text": [
      "Last loss: 0.3545\n",
      "Last train accuracy: 0.9740\n",
      "Last test accuracy: 0.9500\n",
      "Training NEW brain instance (WITH backprop)...\n",
      "INITIAL train accuracy: 0.5847\n",
      "INITIAL test accuracy: 0.5540\n",
      "Epoch 1 / 1 ...\n"
     ]
    },
    {
     "name": "stderr",
     "output_type": "stream",
     "text": [
      "100%|████████████████████| 1500/1500 [00:02<00:00, 517.45it/s]\n",
      "  0%|                                  | 0/50 [00:00<?, ?it/s]"
     ]
    },
    {
     "name": "stdout",
     "output_type": "stream",
     "text": [
      "\n",
      "Last loss: 0.6393\n",
      "Last train accuracy: 0.6780\n",
      "Last test accuracy: 0.6160\n",
      "\n",
      "\n",
      "Run 7 / 10...\n",
      "Meta-learning...\n"
     ]
    },
    {
     "name": "stderr",
     "output_type": "stream",
     "text": [
      "100%|█████████████████████████| 50/50 [01:36<00:00,  1.92s/it]\n",
      "  3%|▋                     | 46/1500 [00:00<00:03, 455.03it/s]"
     ]
    },
    {
     "name": "stdout",
     "output_type": "stream",
     "text": [
      "Last loss: 0.3579\n",
      "Last train accuracy: 0.9440\n",
      "Last test accuracy: 0.9500\n",
      "Training NEW brain instance (WITH backprop)...\n",
      "INITIAL train accuracy: 0.5807\n",
      "INITIAL test accuracy: 0.6200\n",
      "Epoch 1 / 1 ...\n"
     ]
    },
    {
     "name": "stderr",
     "output_type": "stream",
     "text": [
      "100%|████████████████████| 1500/1500 [00:03<00:00, 492.75it/s]\n",
      "  0%|                                  | 0/50 [00:00<?, ?it/s]"
     ]
    },
    {
     "name": "stdout",
     "output_type": "stream",
     "text": [
      "\n",
      "Last loss: 0.6273\n",
      "Last train accuracy: 0.6587\n",
      "Last test accuracy: 0.6940\n",
      "\n",
      "\n",
      "Run 8 / 10...\n",
      "Meta-learning...\n"
     ]
    },
    {
     "name": "stderr",
     "output_type": "stream",
     "text": [
      "100%|█████████████████████████| 50/50 [01:36<00:00,  1.93s/it]\n",
      "  2%|▌                     | 37/1500 [00:00<00:03, 366.00it/s]"
     ]
    },
    {
     "name": "stdout",
     "output_type": "stream",
     "text": [
      "Last loss: 0.3479\n",
      "Last train accuracy: 0.9680\n",
      "Last test accuracy: 0.9520\n",
      "Training NEW brain instance (WITH backprop)...\n",
      "INITIAL train accuracy: 0.5233\n",
      "INITIAL test accuracy: 0.5100\n",
      "Epoch 1 / 1 ...\n"
     ]
    },
    {
     "name": "stderr",
     "output_type": "stream",
     "text": [
      "100%|████████████████████| 1500/1500 [00:03<00:00, 444.21it/s]\n",
      "  0%|                                  | 0/50 [00:00<?, ?it/s]"
     ]
    },
    {
     "name": "stdout",
     "output_type": "stream",
     "text": [
      "\n",
      "Last loss: 0.7353\n",
      "Last train accuracy: 0.5947\n",
      "Last test accuracy: 0.6560\n",
      "\n",
      "\n",
      "Run 9 / 10...\n",
      "Meta-learning...\n"
     ]
    },
    {
     "name": "stderr",
     "output_type": "stream",
     "text": [
      "100%|█████████████████████████| 50/50 [01:35<00:00,  1.91s/it]\n",
      "  3%|▋                     | 46/1500 [00:00<00:03, 459.58it/s]"
     ]
    },
    {
     "name": "stdout",
     "output_type": "stream",
     "text": [
      "Last loss: 0.3605\n",
      "Last train accuracy: 0.9487\n",
      "Last test accuracy: 0.9640\n",
      "Training NEW brain instance (WITH backprop)...\n",
      "INITIAL train accuracy: 0.5593\n",
      "INITIAL test accuracy: 0.5460\n",
      "Epoch 1 / 1 ...\n"
     ]
    },
    {
     "name": "stderr",
     "output_type": "stream",
     "text": [
      "100%|████████████████████| 1500/1500 [00:03<00:00, 468.03it/s]\n",
      "  0%|                                  | 0/50 [00:00<?, ?it/s]"
     ]
    },
    {
     "name": "stdout",
     "output_type": "stream",
     "text": [
      "\n",
      "Last loss: 0.6573\n",
      "Last train accuracy: 0.6307\n",
      "Last test accuracy: 0.6320\n",
      "\n",
      "\n",
      "Run 10 / 10...\n",
      "Meta-learning...\n"
     ]
    },
    {
     "name": "stderr",
     "output_type": "stream",
     "text": [
      "100%|█████████████████████████| 50/50 [01:37<00:00,  1.95s/it]\n",
      "  3%|▋                     | 48/1500 [00:00<00:03, 479.56it/s]"
     ]
    },
    {
     "name": "stdout",
     "output_type": "stream",
     "text": [
      "Last loss: 0.3569\n",
      "Last train accuracy: 0.9580\n",
      "Last test accuracy: 0.9420\n",
      "Training NEW brain instance (WITH backprop)...\n",
      "INITIAL train accuracy: 0.4753\n",
      "INITIAL test accuracy: 0.4620\n",
      "Epoch 1 / 1 ...\n"
     ]
    },
    {
     "name": "stderr",
     "output_type": "stream",
     "text": [
      "100%|████████████████████| 1500/1500 [00:03<00:00, 487.44it/s]"
     ]
    },
    {
     "name": "stdout",
     "output_type": "stream",
     "text": [
      "\n",
      "Last loss: 0.6393\n",
      "Last train accuracy: 0.6773\n",
      "Last test accuracy: 0.6400\n",
      "\n"
     ]
    },
    {
     "name": "stderr",
     "output_type": "stream",
     "text": [
      "\n"
     ]
    }
   ],
   "source": [
    "# Evaluate model.\n",
    "print('==== Original RNN (very different from all the rest) ====')\n",
    "stats_rnn_up, stats_rnn_down = evaluate_up_down(\n",
    "    brain_rnn_up_fact, brain_rnn_down_fact, n_up, n_down, dataset=dataset,\n",
    "    num_runs=num_runs, num_rule_epochs=num_rule_epochs,\n",
    "    num_epochs_upstream=num_epochs_upstream, num_epochs_downstream=num_epochs_downstream)"
   ]
  },
  {
   "cell_type": "code",
   "execution_count": 5,
   "metadata": {},
   "outputs": [
    {
     "name": "stdout",
     "output_type": "stream",
     "text": [
      "Saving figure to: figs/comparing_transfer_rnn_halfspace\n"
     ]
    },
    {
     "data": {
      "image/png": "[encoded data removed]",
      "text/plain": [
       "<Figure size 720x288 with 2 Axes>"
      ]
     },
     "metadata": {},
     "output_type": "display_data"
    },
    {
     "name": "stdout",
     "output_type": "stream",
     "text": [
      "Mean essential stats across all runs:\n",
      "Last upstream loss: 0.3583\n",
      "Last upstream train accuracy: 0.9507\n",
      "Last upstream test accuracy: 0.9444\n",
      "Last downstream loss: 0.6355\n",
      "Last downstream train accuracy: 0.6724\n",
      "Last downstream test accuracy: 0.6580\n",
      "\n"
     ]
    }
   ],
   "source": [
    "# Plot aggregated stats.\n",
    "agg_stats_rnn_up = convert_multi_stats_uncertainty(stats_rnn_up)\n",
    "agg_stats_rnn_down = convert_multi_stats_uncertainty(stats_rnn_down)\n",
    "plot_curves(agg_stats_rnn_up, agg_stats_rnn_down,\n",
    "            '[RNN] Upstream meta-learning on ' + dataset,\n",
    "            '[RNN] Downstream training on ' + dataset,\n",
    "            'figs/comparing_transfer_rnn_' + dataset)"
   ]
  },
  {
   "cell_type": "markdown",
   "metadata": {},
   "source": [
    "## Evaluate all table-based feed-forward networks."
   ]
  },
  {
   "cell_type": "code",
   "execution_count": 6,
   "metadata": {},
   "outputs": [],
   "source": [
    "# Instantiate brain factories.\n",
    "brain_prepost_up_fact = lambda: FFLocalNet(\n",
    "    n_up, m, l, w, p, cap, hl_rules=TableRule_PrePost(),\n",
    "    output_rule=TableRule_PrePost(), options=opts_up, update_scheme=scheme)\n",
    "brain_prepost_down_fact = lambda: FFLocalNet(\n",
    "    n_down, m, l, w, p, cap, hl_rules=TableRule_PrePost(),\n",
    "    output_rule=TableRule_PrePost(), options=opts_down, update_scheme=scheme)\n",
    "brain_prepostcount_up_fact = lambda: FFLocalNet(\n",
    "    n_up, m, l, w, p, cap, hl_rules=TableRule_PrePostCount(),\n",
    "    output_rule=TableRule_PrePostCount(), options=opts_up, update_scheme=scheme)\n",
    "brain_prepostcount_down_fact = lambda: FFLocalNet(\n",
    "    n_down, m, l, w, p, cap, hl_rules=TableRule_PrePostCount(),\n",
    "    output_rule=TableRule_PrePostCount(), options=opts_down, update_scheme=scheme)\n",
    "brain_prepostpercent_up_fact = lambda: FFLocalNet(\n",
    "    n_up, m, l, w, p, cap, hl_rules=TableRule_PrePostPercent(),\n",
    "    output_rule=TableRule_PrePostPercent(), options=opts_up, update_scheme=scheme)\n",
    "brain_prepostpercent_down_fact = lambda: FFLocalNet(\n",
    "    n_down, m, l, w, p, cap, hl_rules=TableRule_PrePostPercent(),\n",
    "    output_rule=TableRule_PrePostPercent(), options=opts_down, update_scheme=scheme)\n",
    "brain_postcount_up_fact = lambda: FFLocalNet(\n",
    "    n_up, m, l, w, p, cap, hl_rules=TableRule_PostCount(),\n",
    "    output_rule=TableRule_PostCount(), options=opts_up, update_scheme=scheme)\n",
    "brain_postcount_down_fact = lambda: FFLocalNet(\n",
    "    n_down, m, l, w, p, cap, hl_rules=TableRule_PostCount(),\n",
    "    output_rule=TableRule_PostCount(), options=opts_down, update_scheme=scheme)"
   ]
  },
  {
   "cell_type": "code",
   "execution_count": 7,
   "metadata": {
    "scrolled": true
   },
   "outputs": [
    {
     "name": "stderr",
     "output_type": "stream",
     "text": [
      "\r",
      "  0%|                                  | 0/50 [00:00<?, ?it/s]"
     ]
    },
    {
     "name": "stdout",
     "output_type": "stream",
     "text": [
      "==== Interpretation: Pre and Post ====\n",
      "\n",
      "Run 1 / 10...\n",
      "Meta-learning...\n"
     ]
    },
    {
     "name": "stderr",
     "output_type": "stream",
     "text": [
      "100%|█████████████████████████| 50/50 [00:57<00:00,  1.15s/it]\n",
      "  4%|▊                     | 56/1500 [00:00<00:02, 559.49it/s]"
     ]
    },
    {
     "name": "stdout",
     "output_type": "stream",
     "text": [
      "Last loss: 0.3523\n",
      "Last train accuracy: 0.9707\n",
      "Last test accuracy: 0.9500\n",
      "Training NEW brain instance (WITH backprop)...\n",
      "INITIAL train accuracy: 0.5087\n",
      "INITIAL test accuracy: 0.5100\n",
      "Epoch 1 / 1 ...\n"
     ]
    },
    {
     "name": "stderr",
     "output_type": "stream",
     "text": [
      "100%|████████████████████| 1500/1500 [00:01<00:00, 759.43it/s]\n",
      "  0%|                                  | 0/50 [00:00<?, ?it/s]"
     ]
    },
    {
     "name": "stdout",
     "output_type": "stream",
     "text": [
      "\n",
      "Last loss: 0.5713\n",
      "Last train accuracy: 0.7807\n",
      "Last test accuracy: 0.7840\n",
      "\n",
      "\n",
      "Run 2 / 10...\n",
      "Meta-learning...\n"
     ]
    },
    {
     "name": "stderr",
     "output_type": "stream",
     "text": [
      "100%|█████████████████████████| 50/50 [00:58<00:00,  1.16s/it]\n",
      "  5%|█                     | 69/1500 [00:00<00:02, 682.55it/s]"
     ]
    },
    {
     "name": "stdout",
     "output_type": "stream",
     "text": [
      "Last loss: 0.3565\n",
      "Last train accuracy: 0.9660\n",
      "Last test accuracy: 0.9620\n",
      "Training NEW brain instance (WITH backprop)...\n",
      "INITIAL train accuracy: 0.4940\n",
      "INITIAL test accuracy: 0.4820\n",
      "Epoch 1 / 1 ...\n"
     ]
    },
    {
     "name": "stderr",
     "output_type": "stream",
     "text": [
      "100%|████████████████████| 1500/1500 [00:01<00:00, 787.73it/s]\n",
      "  0%|                                  | 0/50 [00:00<?, ?it/s]"
     ]
    },
    {
     "name": "stdout",
     "output_type": "stream",
     "text": [
      "\n",
      "Last loss: 0.4798\n",
      "Last train accuracy: 0.8253\n",
      "Last test accuracy: 0.7820\n",
      "\n",
      "\n",
      "Run 3 / 10...\n",
      "Meta-learning...\n"
     ]
    },
    {
     "name": "stderr",
     "output_type": "stream",
     "text": [
      "100%|█████████████████████████| 50/50 [00:59<00:00,  1.19s/it]\n",
      "  5%|█▏                    | 77/1500 [00:00<00:01, 769.29it/s]"
     ]
    },
    {
     "name": "stdout",
     "output_type": "stream",
     "text": [
      "Last loss: 0.3577\n",
      "Last train accuracy: 0.9667\n",
      "Last test accuracy: 0.9620\n",
      "Training NEW brain instance (WITH backprop)...\n",
      "INITIAL train accuracy: 0.5040\n",
      "INITIAL test accuracy: 0.5040\n",
      "Epoch 1 / 1 ...\n"
     ]
    },
    {
     "name": "stderr",
     "output_type": "stream",
     "text": [
      "100%|████████████████████| 1500/1500 [00:02<00:00, 742.08it/s]\n",
      "  0%|                                  | 0/50 [00:00<?, ?it/s]"
     ]
    },
    {
     "name": "stdout",
     "output_type": "stream",
     "text": [
      "\n",
      "Last loss: 0.5063\n",
      "Last train accuracy: 0.8040\n",
      "Last test accuracy: 0.8080\n",
      "\n",
      "\n",
      "Run 4 / 10...\n",
      "Meta-learning...\n"
     ]
    },
    {
     "name": "stderr",
     "output_type": "stream",
     "text": [
      "100%|█████████████████████████| 50/50 [00:58<00:00,  1.17s/it]\n",
      "  5%|█                     | 75/1500 [00:00<00:01, 741.90it/s]"
     ]
    },
    {
     "name": "stdout",
     "output_type": "stream",
     "text": [
      "Last loss: 0.3442\n",
      "Last train accuracy: 0.9833\n",
      "Last test accuracy: 0.9680\n",
      "Training NEW brain instance (WITH backprop)...\n",
      "INITIAL train accuracy: 0.4833\n",
      "INITIAL test accuracy: 0.4880\n",
      "Epoch 1 / 1 ...\n"
     ]
    },
    {
     "name": "stderr",
     "output_type": "stream",
     "text": [
      "100%|████████████████████| 1500/1500 [00:01<00:00, 775.24it/s]\n",
      "  0%|                                  | 0/50 [00:00<?, ?it/s]"
     ]
    },
    {
     "name": "stdout",
     "output_type": "stream",
     "text": [
      "\n",
      "Last loss: 0.4560\n",
      "Last train accuracy: 0.8220\n",
      "Last test accuracy: 0.8560\n",
      "\n",
      "\n",
      "Run 5 / 10...\n",
      "Meta-learning...\n"
     ]
    },
    {
     "name": "stderr",
     "output_type": "stream",
     "text": [
      "100%|█████████████████████████| 50/50 [00:58<00:00,  1.18s/it]\n",
      "  5%|█                     | 76/1500 [00:00<00:01, 759.31it/s]"
     ]
    },
    {
     "name": "stdout",
     "output_type": "stream",
     "text": [
      "Last loss: 0.3504\n",
      "Last train accuracy: 0.9713\n",
      "Last test accuracy: 0.9580\n",
      "Training NEW brain instance (WITH backprop)...\n",
      "INITIAL train accuracy: 0.5073\n",
      "INITIAL test accuracy: 0.4560\n",
      "Epoch 1 / 1 ...\n"
     ]
    },
    {
     "name": "stderr",
     "output_type": "stream",
     "text": [
      "100%|████████████████████| 1500/1500 [00:01<00:00, 811.35it/s]\n",
      "  0%|                                  | 0/50 [00:00<?, ?it/s]"
     ]
    },
    {
     "name": "stdout",
     "output_type": "stream",
     "text": [
      "\n",
      "Last loss: 0.5033\n",
      "Last train accuracy: 0.7847\n",
      "Last test accuracy: 0.7800\n",
      "\n",
      "\n",
      "Run 6 / 10...\n",
      "Meta-learning...\n"
     ]
    },
    {
     "name": "stderr",
     "output_type": "stream",
     "text": [
      "100%|█████████████████████████| 50/50 [00:58<00:00,  1.17s/it]\n",
      "  4%|▉                     | 66/1500 [00:00<00:02, 659.40it/s]"
     ]
    },
    {
     "name": "stdout",
     "output_type": "stream",
     "text": [
      "Last loss: 0.6931\n",
      "Last train accuracy: 0.4813\n",
      "Last test accuracy: 0.5160\n",
      "Training NEW brain instance (WITH backprop)...\n",
      "INITIAL train accuracy: 0.4773\n",
      "INITIAL test accuracy: 0.5040\n",
      "Epoch 1 / 1 ...\n"
     ]
    },
    {
     "name": "stderr",
     "output_type": "stream",
     "text": [
      "100%|████████████████████| 1500/1500 [00:01<00:00, 803.19it/s]\n",
      "  0%|                                  | 0/50 [00:00<?, ?it/s]"
     ]
    },
    {
     "name": "stdout",
     "output_type": "stream",
     "text": [
      "\n",
      "Last loss: 0.6931\n",
      "Last train accuracy: 0.4773\n",
      "Last test accuracy: 0.5040\n",
      "\n",
      "\n",
      "Run 7 / 10...\n",
      "Meta-learning...\n"
     ]
    },
    {
     "name": "stderr",
     "output_type": "stream",
     "text": [
      "100%|█████████████████████████| 50/50 [00:58<00:00,  1.17s/it]\n",
      "  5%|█                     | 71/1500 [00:00<00:02, 709.35it/s]"
     ]
    },
    {
     "name": "stdout",
     "output_type": "stream",
     "text": [
      "Last loss: 0.3537\n",
      "Last train accuracy: 0.9533\n",
      "Last test accuracy: 0.9500\n",
      "Training NEW brain instance (WITH backprop)...\n",
      "INITIAL train accuracy: 0.5147\n",
      "INITIAL test accuracy: 0.5520\n",
      "Epoch 1 / 1 ...\n"
     ]
    },
    {
     "name": "stderr",
     "output_type": "stream",
     "text": [
      "100%|████████████████████| 1500/1500 [00:02<00:00, 700.31it/s]\n",
      "  0%|                                  | 0/50 [00:00<?, ?it/s]"
     ]
    },
    {
     "name": "stdout",
     "output_type": "stream",
     "text": [
      "\n",
      "Last loss: 0.5248\n",
      "Last train accuracy: 0.8093\n",
      "Last test accuracy: 0.7340\n",
      "\n",
      "\n",
      "Run 8 / 10...\n",
      "Meta-learning...\n"
     ]
    },
    {
     "name": "stderr",
     "output_type": "stream",
     "text": [
      "100%|█████████████████████████| 50/50 [00:58<00:00,  1.16s/it]\n",
      "  5%|█                     | 73/1500 [00:00<00:01, 729.34it/s]"
     ]
    },
    {
     "name": "stdout",
     "output_type": "stream",
     "text": [
      "Last loss: 0.3573\n",
      "Last train accuracy: 0.9613\n",
      "Last test accuracy: 0.9660\n",
      "Training NEW brain instance (WITH backprop)...\n",
      "INITIAL train accuracy: 0.5040\n",
      "INITIAL test accuracy: 0.5300\n",
      "Epoch 1 / 1 ...\n"
     ]
    },
    {
     "name": "stderr",
     "output_type": "stream",
     "text": [
      "100%|████████████████████| 1500/1500 [00:02<00:00, 742.01it/s]\n",
      "  0%|                                  | 0/50 [00:00<?, ?it/s]"
     ]
    },
    {
     "name": "stdout",
     "output_type": "stream",
     "text": [
      "\n",
      "Last loss: 0.5768\n",
      "Last train accuracy: 0.7613\n",
      "Last test accuracy: 0.7260\n",
      "\n",
      "\n",
      "Run 9 / 10...\n",
      "Meta-learning...\n"
     ]
    },
    {
     "name": "stderr",
     "output_type": "stream",
     "text": [
      "100%|█████████████████████████| 50/50 [00:58<00:00,  1.16s/it]\n",
      "  5%|█                     | 74/1500 [00:00<00:01, 739.33it/s]"
     ]
    },
    {
     "name": "stdout",
     "output_type": "stream",
     "text": [
      "Last loss: 0.3531\n",
      "Last train accuracy: 0.9600\n",
      "Last test accuracy: 0.9660\n",
      "Training NEW brain instance (WITH backprop)...\n",
      "INITIAL train accuracy: 0.4893\n",
      "INITIAL test accuracy: 0.4840\n",
      "Epoch 1 / 1 ...\n"
     ]
    },
    {
     "name": "stderr",
     "output_type": "stream",
     "text": [
      "100%|████████████████████| 1500/1500 [00:02<00:00, 731.01it/s]\n",
      "  0%|                                  | 0/50 [00:00<?, ?it/s]"
     ]
    },
    {
     "name": "stdout",
     "output_type": "stream",
     "text": [
      "\n",
      "Last loss: 0.4633\n",
      "Last train accuracy: 0.8587\n",
      "Last test accuracy: 0.8140\n",
      "\n",
      "\n",
      "Run 10 / 10...\n",
      "Meta-learning...\n"
     ]
    },
    {
     "name": "stderr",
     "output_type": "stream",
     "text": [
      "100%|█████████████████████████| 50/50 [00:57<00:00,  1.14s/it]\n",
      "  5%|▉                     | 68/1500 [00:00<00:02, 672.66it/s]"
     ]
    },
    {
     "name": "stdout",
     "output_type": "stream",
     "text": [
      "Last loss: 0.3540\n",
      "Last train accuracy: 0.9653\n",
      "Last test accuracy: 0.9280\n",
      "Training NEW brain instance (WITH backprop)...\n",
      "INITIAL train accuracy: 0.4880\n",
      "INITIAL test accuracy: 0.5060\n",
      "Epoch 1 / 1 ...\n"
     ]
    },
    {
     "name": "stderr",
     "output_type": "stream",
     "text": [
      "100%|████████████████████| 1500/1500 [00:02<00:00, 738.60it/s]\n",
      "  0%|                                  | 0/50 [00:00<?, ?it/s]"
     ]
    },
    {
     "name": "stdout",
     "output_type": "stream",
     "text": [
      "\n",
      "Last loss: 0.5038\n",
      "Last train accuracy: 0.8227\n",
      "Last test accuracy: 0.8120\n",
      "\n",
      "==== Interpretation: Pre and Post and Incoming Count ====\n",
      "\n",
      "Run 1 / 10...\n",
      "Meta-learning...\n"
     ]
    },
    {
     "name": "stderr",
     "output_type": "stream",
     "text": [
      "100%|█████████████████████████| 50/50 [01:05<00:00,  1.31s/it]\n",
      "  5%|█                     | 71/1500 [00:00<00:02, 705.79it/s]"
     ]
    },
    {
     "name": "stdout",
     "output_type": "stream",
     "text": [
      "Last loss: 0.3588\n",
      "Last train accuracy: 0.9780\n",
      "Last test accuracy: 0.9660\n",
      "Training NEW brain instance (WITH backprop)...\n",
      "INITIAL train accuracy: 0.5153\n",
      "INITIAL test accuracy: 0.4880\n",
      "Epoch 1 / 1 ...\n"
     ]
    },
    {
     "name": "stderr",
     "output_type": "stream",
     "text": [
      "100%|████████████████████| 1500/1500 [00:02<00:00, 695.95it/s]\n",
      "  0%|                                  | 0/50 [00:00<?, ?it/s]"
     ]
    },
    {
     "name": "stdout",
     "output_type": "stream",
     "text": [
      "\n",
      "Last loss: 0.4773\n",
      "Last train accuracy: 0.8427\n",
      "Last test accuracy: 0.8220\n",
      "\n",
      "\n",
      "Run 2 / 10...\n",
      "Meta-learning...\n"
     ]
    },
    {
     "name": "stderr",
     "output_type": "stream",
     "text": [
      "100%|█████████████████████████| 50/50 [01:05<00:00,  1.31s/it]\n",
      "  5%|█                     | 70/1500 [00:00<00:02, 699.36it/s]"
     ]
    },
    {
     "name": "stdout",
     "output_type": "stream",
     "text": [
      "Last loss: 0.3670\n",
      "Last train accuracy: 0.9720\n",
      "Last test accuracy: 0.9660\n",
      "Training NEW brain instance (WITH backprop)...\n",
      "INITIAL train accuracy: 0.5187\n",
      "INITIAL test accuracy: 0.5040\n",
      "Epoch 1 / 1 ...\n"
     ]
    },
    {
     "name": "stderr",
     "output_type": "stream",
     "text": [
      "100%|████████████████████| 1500/1500 [00:02<00:00, 747.34it/s]\n",
      "  0%|                                  | 0/50 [00:00<?, ?it/s]"
     ]
    },
    {
     "name": "stdout",
     "output_type": "stream",
     "text": [
      "\n",
      "Last loss: 0.4354\n",
      "Last train accuracy: 0.8720\n",
      "Last test accuracy: 0.8820\n",
      "\n",
      "\n",
      "Run 3 / 10...\n",
      "Meta-learning...\n"
     ]
    },
    {
     "name": "stderr",
     "output_type": "stream",
     "text": [
      "100%|█████████████████████████| 50/50 [01:06<00:00,  1.32s/it]\n",
      "  5%|█                     | 75/1500 [00:00<00:01, 749.32it/s]"
     ]
    },
    {
     "name": "stdout",
     "output_type": "stream",
     "text": [
      "Last loss: 0.3704\n",
      "Last train accuracy: 0.9613\n",
      "Last test accuracy: 0.9400\n",
      "Training NEW brain instance (WITH backprop)...\n",
      "INITIAL train accuracy: 0.5173\n",
      "INITIAL test accuracy: 0.5120\n",
      "Epoch 1 / 1 ...\n"
     ]
    },
    {
     "name": "stderr",
     "output_type": "stream",
     "text": [
      "100%|████████████████████| 1500/1500 [00:02<00:00, 743.54it/s]\n",
      "  0%|                                  | 0/50 [00:00<?, ?it/s]"
     ]
    },
    {
     "name": "stdout",
     "output_type": "stream",
     "text": [
      "\n",
      "Last loss: 0.4510\n",
      "Last train accuracy: 0.8507\n",
      "Last test accuracy: 0.8260\n",
      "\n",
      "\n",
      "Run 4 / 10...\n",
      "Meta-learning...\n"
     ]
    },
    {
     "name": "stderr",
     "output_type": "stream",
     "text": [
      "100%|█████████████████████████| 50/50 [01:05<00:00,  1.32s/it]\n",
      "  4%|▉                     | 63/1500 [00:00<00:02, 623.19it/s]"
     ]
    },
    {
     "name": "stdout",
     "output_type": "stream",
     "text": [
      "Last loss: 0.3605\n",
      "Last train accuracy: 0.9433\n",
      "Last test accuracy: 0.9380\n",
      "Training NEW brain instance (WITH backprop)...\n",
      "INITIAL train accuracy: 0.4760\n",
      "INITIAL test accuracy: 0.5280\n",
      "Epoch 1 / 1 ...\n"
     ]
    },
    {
     "name": "stderr",
     "output_type": "stream",
     "text": [
      "100%|████████████████████| 1500/1500 [00:02<00:00, 732.01it/s]\n",
      "  0%|                                  | 0/50 [00:00<?, ?it/s]"
     ]
    },
    {
     "name": "stdout",
     "output_type": "stream",
     "text": [
      "\n",
      "Last loss: 0.4779\n",
      "Last train accuracy: 0.8453\n",
      "Last test accuracy: 0.8380\n",
      "\n",
      "\n",
      "Run 5 / 10...\n",
      "Meta-learning...\n"
     ]
    },
    {
     "name": "stderr",
     "output_type": "stream",
     "text": [
      "100%|█████████████████████████| 50/50 [01:05<00:00,  1.30s/it]\n",
      "  4%|▉                     | 67/1500 [00:00<00:02, 669.30it/s]"
     ]
    },
    {
     "name": "stdout",
     "output_type": "stream",
     "text": [
      "Last loss: 0.3679\n",
      "Last train accuracy: 0.9727\n",
      "Last test accuracy: 0.9620\n",
      "Training NEW brain instance (WITH backprop)...\n",
      "INITIAL train accuracy: 0.5213\n",
      "INITIAL test accuracy: 0.5100\n",
      "Epoch 1 / 1 ...\n"
     ]
    },
    {
     "name": "stderr",
     "output_type": "stream",
     "text": [
      "100%|████████████████████| 1500/1500 [00:01<00:00, 764.96it/s]\n",
      "  0%|                                  | 0/50 [00:00<?, ?it/s]"
     ]
    },
    {
     "name": "stdout",
     "output_type": "stream",
     "text": [
      "\n",
      "Last loss: 0.4992\n",
      "Last train accuracy: 0.8307\n",
      "Last test accuracy: 0.8060\n",
      "\n",
      "\n",
      "Run 6 / 10...\n",
      "Meta-learning...\n"
     ]
    },
    {
     "name": "stderr",
     "output_type": "stream",
     "text": [
      "100%|█████████████████████████| 50/50 [01:04<00:00,  1.29s/it]\n",
      "  5%|█                     | 76/1500 [00:00<00:01, 759.36it/s]"
     ]
    },
    {
     "name": "stdout",
     "output_type": "stream",
     "text": [
      "Last loss: 0.6931\n",
      "Last train accuracy: 0.5033\n",
      "Last test accuracy: 0.5120\n",
      "Training NEW brain instance (WITH backprop)...\n",
      "INITIAL train accuracy: 0.5193\n",
      "INITIAL test accuracy: 0.5460\n",
      "Epoch 1 / 1 ...\n"
     ]
    },
    {
     "name": "stderr",
     "output_type": "stream",
     "text": [
      "100%|████████████████████| 1500/1500 [00:01<00:00, 764.80it/s]\n",
      "  0%|                                  | 0/50 [00:00<?, ?it/s]"
     ]
    },
    {
     "name": "stdout",
     "output_type": "stream",
     "text": [
      "\n",
      "Last loss: 0.6931\n",
      "Last train accuracy: 0.5193\n",
      "Last test accuracy: 0.4940\n",
      "\n",
      "\n",
      "Run 7 / 10...\n",
      "Meta-learning...\n"
     ]
    },
    {
     "name": "stderr",
     "output_type": "stream",
     "text": [
      "100%|█████████████████████████| 50/50 [01:04<00:00,  1.29s/it]\n",
      "  5%|█                     | 70/1500 [00:00<00:02, 699.41it/s]"
     ]
    },
    {
     "name": "stdout",
     "output_type": "stream",
     "text": [
      "Last loss: 0.6931\n",
      "Last train accuracy: 0.3807\n",
      "Last test accuracy: 0.3800\n",
      "Training NEW brain instance (WITH backprop)...\n",
      "INITIAL train accuracy: 0.4993\n",
      "INITIAL test accuracy: 0.5080\n",
      "Epoch 1 / 1 ...\n"
     ]
    },
    {
     "name": "stderr",
     "output_type": "stream",
     "text": [
      "100%|████████████████████| 1500/1500 [00:01<00:00, 755.68it/s]\n",
      "  0%|                                  | 0/50 [00:00<?, ?it/s]"
     ]
    },
    {
     "name": "stdout",
     "output_type": "stream",
     "text": [
      "\n",
      "Last loss: 0.6931\n",
      "Last train accuracy: 0.4920\n",
      "Last test accuracy: 0.4900\n",
      "\n",
      "\n",
      "Run 8 / 10...\n",
      "Meta-learning...\n"
     ]
    },
    {
     "name": "stderr",
     "output_type": "stream",
     "text": [
      "100%|█████████████████████████| 50/50 [01:06<00:00,  1.33s/it]\n",
      "  4%|▉                     | 67/1500 [00:00<00:02, 662.76it/s]"
     ]
    },
    {
     "name": "stdout",
     "output_type": "stream",
     "text": [
      "Last loss: 0.3641\n",
      "Last train accuracy: 0.9333\n",
      "Last test accuracy: 0.9380\n",
      "Training NEW brain instance (WITH backprop)...\n",
      "INITIAL train accuracy: 0.4900\n",
      "INITIAL test accuracy: 0.4860\n",
      "Epoch 1 / 1 ...\n"
     ]
    },
    {
     "name": "stderr",
     "output_type": "stream",
     "text": [
      "100%|████████████████████| 1500/1500 [00:01<00:00, 751.75it/s]\n",
      "  0%|                                  | 0/50 [00:00<?, ?it/s]"
     ]
    },
    {
     "name": "stdout",
     "output_type": "stream",
     "text": [
      "\n",
      "Last loss: 0.5410\n",
      "Last train accuracy: 0.7947\n",
      "Last test accuracy: 0.7820\n",
      "\n",
      "\n",
      "Run 9 / 10...\n",
      "Meta-learning...\n"
     ]
    },
    {
     "name": "stderr",
     "output_type": "stream",
     "text": [
      "100%|█████████████████████████| 50/50 [01:05<00:00,  1.31s/it]\n",
      "  4%|▉                     | 63/1500 [00:00<00:02, 623.20it/s]"
     ]
    },
    {
     "name": "stdout",
     "output_type": "stream",
     "text": [
      "Last loss: 0.3542\n",
      "Last train accuracy: 0.9787\n",
      "Last test accuracy: 0.9680\n",
      "Training NEW brain instance (WITH backprop)...\n",
      "INITIAL train accuracy: 0.4980\n",
      "INITIAL test accuracy: 0.4680\n",
      "Epoch 1 / 1 ...\n"
     ]
    },
    {
     "name": "stderr",
     "output_type": "stream",
     "text": [
      "100%|████████████████████| 1500/1500 [00:01<00:00, 751.50it/s]\n",
      "  0%|                                  | 0/50 [00:00<?, ?it/s]"
     ]
    },
    {
     "name": "stdout",
     "output_type": "stream",
     "text": [
      "\n",
      "Last loss: 0.4596\n",
      "Last train accuracy: 0.8553\n",
      "Last test accuracy: 0.8380\n",
      "\n",
      "\n",
      "Run 10 / 10...\n",
      "Meta-learning...\n"
     ]
    },
    {
     "name": "stderr",
     "output_type": "stream",
     "text": [
      "100%|█████████████████████████| 50/50 [01:06<00:00,  1.33s/it]\n",
      "  4%|▉                     | 66/1500 [00:00<00:02, 659.40it/s]"
     ]
    },
    {
     "name": "stdout",
     "output_type": "stream",
     "text": [
      "Last loss: 0.3629\n",
      "Last train accuracy: 0.9687\n",
      "Last test accuracy: 0.9660\n",
      "Training NEW brain instance (WITH backprop)...\n",
      "INITIAL train accuracy: 0.4927\n",
      "INITIAL test accuracy: 0.4420\n",
      "Epoch 1 / 1 ...\n"
     ]
    },
    {
     "name": "stderr",
     "output_type": "stream",
     "text": [
      "100%|████████████████████| 1500/1500 [00:01<00:00, 764.98it/s]\n",
      "  0%|                                  | 0/50 [00:00<?, ?it/s]"
     ]
    },
    {
     "name": "stdout",
     "output_type": "stream",
     "text": [
      "\n",
      "Last loss: 0.4573\n",
      "Last train accuracy: 0.8413\n",
      "Last test accuracy: 0.8140\n",
      "\n",
      "==== Interpretation: Pre and Post and Binned Incoming Fraction ====\n",
      "\n",
      "Run 1 / 10...\n",
      "Meta-learning...\n"
     ]
    },
    {
     "name": "stderr",
     "output_type": "stream",
     "text": [
      "100%|█████████████████████████| 50/50 [01:13<00:00,  1.46s/it]\n",
      "  4%|▉                     | 67/1500 [00:00<00:02, 666.04it/s]"
     ]
    },
    {
     "name": "stdout",
     "output_type": "stream",
     "text": [
      "Last loss: 0.3657\n",
      "Last train accuracy: 0.9593\n",
      "Last test accuracy: 0.9460\n",
      "Training NEW brain instance (WITH backprop)...\n",
      "INITIAL train accuracy: 0.5067\n",
      "INITIAL test accuracy: 0.5280\n",
      "Epoch 1 / 1 ...\n"
     ]
    },
    {
     "name": "stderr",
     "output_type": "stream",
     "text": [
      "100%|████████████████████| 1500/1500 [00:02<00:00, 711.30it/s]\n",
      "  0%|                                  | 0/50 [00:00<?, ?it/s]"
     ]
    },
    {
     "name": "stdout",
     "output_type": "stream",
     "text": [
      "\n",
      "Last loss: 0.4814\n",
      "Last train accuracy: 0.8340\n",
      "Last test accuracy: 0.8300\n",
      "\n",
      "\n",
      "Run 2 / 10...\n",
      "Meta-learning...\n"
     ]
    },
    {
     "name": "stderr",
     "output_type": "stream",
     "text": [
      "100%|█████████████████████████| 50/50 [01:11<00:00,  1.42s/it]\n",
      "  4%|▉                     | 64/1500 [00:00<00:02, 639.42it/s]"
     ]
    },
    {
     "name": "stdout",
     "output_type": "stream",
     "text": [
      "Last loss: 0.6931\n",
      "Last train accuracy: 0.4973\n",
      "Last test accuracy: 0.4560\n",
      "Training NEW brain instance (WITH backprop)...\n",
      "INITIAL train accuracy: 0.4867\n",
      "INITIAL test accuracy: 0.4860\n",
      "Epoch 1 / 1 ...\n"
     ]
    },
    {
     "name": "stderr",
     "output_type": "stream",
     "text": [
      "100%|████████████████████| 1500/1500 [00:02<00:00, 695.49it/s]\n",
      "  0%|                                  | 0/50 [00:00<?, ?it/s]"
     ]
    },
    {
     "name": "stdout",
     "output_type": "stream",
     "text": [
      "\n",
      "Last loss: 0.6931\n",
      "Last train accuracy: 0.4900\n",
      "Last test accuracy: 0.5100\n",
      "\n",
      "\n",
      "Run 3 / 10...\n",
      "Meta-learning...\n"
     ]
    },
    {
     "name": "stderr",
     "output_type": "stream",
     "text": [
      "100%|█████████████████████████| 50/50 [01:11<00:00,  1.44s/it]\n",
      "  5%|▉                     | 68/1500 [00:00<00:02, 679.36it/s]"
     ]
    },
    {
     "name": "stdout",
     "output_type": "stream",
     "text": [
      "Last loss: 0.3632\n",
      "Last train accuracy: 0.9613\n",
      "Last test accuracy: 0.9600\n",
      "Training NEW brain instance (WITH backprop)...\n",
      "INITIAL train accuracy: 0.5093\n",
      "INITIAL test accuracy: 0.4740\n",
      "Epoch 1 / 1 ...\n"
     ]
    },
    {
     "name": "stderr",
     "output_type": "stream",
     "text": [
      "100%|████████████████████| 1500/1500 [00:02<00:00, 703.84it/s]\n",
      "  0%|                                  | 0/50 [00:00<?, ?it/s]"
     ]
    },
    {
     "name": "stdout",
     "output_type": "stream",
     "text": [
      "\n",
      "Last loss: 0.4979\n",
      "Last train accuracy: 0.8240\n",
      "Last test accuracy: 0.8100\n",
      "\n",
      "\n",
      "Run 4 / 10...\n",
      "Meta-learning...\n"
     ]
    },
    {
     "name": "stderr",
     "output_type": "stream",
     "text": [
      "100%|█████████████████████████| 50/50 [01:12<00:00,  1.45s/it]\n",
      "  4%|▉                     | 63/1500 [00:00<00:02, 623.20it/s]"
     ]
    },
    {
     "name": "stdout",
     "output_type": "stream",
     "text": [
      "Last loss: 0.3612\n",
      "Last train accuracy: 0.9753\n",
      "Last test accuracy: 0.9680\n",
      "Training NEW brain instance (WITH backprop)...\n",
      "INITIAL train accuracy: 0.4673\n",
      "INITIAL test accuracy: 0.4480\n",
      "Epoch 1 / 1 ...\n"
     ]
    },
    {
     "name": "stderr",
     "output_type": "stream",
     "text": [
      "100%|████████████████████| 1500/1500 [00:02<00:00, 720.13it/s]\n",
      "  0%|                                  | 0/50 [00:00<?, ?it/s]"
     ]
    },
    {
     "name": "stdout",
     "output_type": "stream",
     "text": [
      "\n",
      "Last loss: 0.4488\n",
      "Last train accuracy: 0.8733\n",
      "Last test accuracy: 0.8540\n",
      "\n",
      "\n",
      "Run 5 / 10...\n",
      "Meta-learning...\n"
     ]
    },
    {
     "name": "stderr",
     "output_type": "stream",
     "text": [
      "100%|█████████████████████████| 50/50 [01:11<00:00,  1.42s/it]\n",
      "  4%|▉                     | 61/1500 [00:00<00:02, 609.45it/s]"
     ]
    },
    {
     "name": "stdout",
     "output_type": "stream",
     "text": [
      "Last loss: 0.6931\n",
      "Last train accuracy: 0.5187\n",
      "Last test accuracy: 0.4860\n",
      "Training NEW brain instance (WITH backprop)...\n",
      "INITIAL train accuracy: 0.4847\n",
      "INITIAL test accuracy: 0.4780\n",
      "Epoch 1 / 1 ...\n"
     ]
    },
    {
     "name": "stderr",
     "output_type": "stream",
     "text": [
      "100%|████████████████████| 1500/1500 [00:02<00:00, 664.28it/s]\n",
      "  0%|                                  | 0/50 [00:00<?, ?it/s]"
     ]
    },
    {
     "name": "stdout",
     "output_type": "stream",
     "text": [
      "\n",
      "Last loss: 0.6911\n",
      "Last train accuracy: 0.5153\n",
      "Last test accuracy: 0.5220\n",
      "\n",
      "\n",
      "Run 6 / 10...\n",
      "Meta-learning...\n"
     ]
    },
    {
     "name": "stderr",
     "output_type": "stream",
     "text": [
      "100%|█████████████████████████| 50/50 [01:11<00:00,  1.42s/it]\n",
      "  4%|▉                     | 61/1500 [00:00<00:02, 609.44it/s]"
     ]
    },
    {
     "name": "stdout",
     "output_type": "stream",
     "text": [
      "Last loss: 0.6931\n",
      "Last train accuracy: 0.4880\n",
      "Last test accuracy: 0.4920\n",
      "Training NEW brain instance (WITH backprop)...\n",
      "INITIAL train accuracy: 0.4727\n",
      "INITIAL test accuracy: 0.5200\n",
      "Epoch 1 / 1 ...\n"
     ]
    },
    {
     "name": "stderr",
     "output_type": "stream",
     "text": [
      "100%|████████████████████| 1500/1500 [00:02<00:00, 732.70it/s]\n",
      "  0%|                                  | 0/50 [00:00<?, ?it/s]"
     ]
    },
    {
     "name": "stdout",
     "output_type": "stream",
     "text": [
      "\n",
      "Last loss: 0.6931\n",
      "Last train accuracy: 0.4727\n",
      "Last test accuracy: 0.5200\n",
      "\n",
      "\n",
      "Run 7 / 10...\n",
      "Meta-learning...\n"
     ]
    },
    {
     "name": "stderr",
     "output_type": "stream",
     "text": [
      "100%|█████████████████████████| 50/50 [01:11<00:00,  1.43s/it]\n",
      "  4%|▉                     | 66/1500 [00:00<00:02, 659.40it/s]"
     ]
    },
    {
     "name": "stdout",
     "output_type": "stream",
     "text": [
      "Last loss: 0.3636\n",
      "Last train accuracy: 0.9713\n",
      "Last test accuracy: 0.9660\n",
      "Training NEW brain instance (WITH backprop)...\n",
      "INITIAL train accuracy: 0.4880\n",
      "INITIAL test accuracy: 0.5040\n",
      "Epoch 1 / 1 ...\n"
     ]
    },
    {
     "name": "stderr",
     "output_type": "stream",
     "text": [
      "100%|████████████████████| 1500/1500 [00:02<00:00, 694.74it/s]\n",
      "  0%|                                  | 0/50 [00:00<?, ?it/s]"
     ]
    },
    {
     "name": "stdout",
     "output_type": "stream",
     "text": [
      "\n",
      "Last loss: 0.4451\n",
      "Last train accuracy: 0.8760\n",
      "Last test accuracy: 0.8880\n",
      "\n",
      "\n",
      "Run 8 / 10...\n",
      "Meta-learning...\n"
     ]
    },
    {
     "name": "stderr",
     "output_type": "stream",
     "text": [
      "100%|█████████████████████████| 50/50 [01:11<00:00,  1.44s/it]\n",
      "  4%|▊                     | 58/1500 [00:00<00:02, 579.47it/s]"
     ]
    },
    {
     "name": "stdout",
     "output_type": "stream",
     "text": [
      "Last loss: 0.3622\n",
      "Last train accuracy: 0.9720\n",
      "Last test accuracy: 0.9640\n",
      "Training NEW brain instance (WITH backprop)...\n",
      "INITIAL train accuracy: 0.5087\n",
      "INITIAL test accuracy: 0.4780\n",
      "Epoch 1 / 1 ...\n"
     ]
    },
    {
     "name": "stderr",
     "output_type": "stream",
     "text": [
      "100%|████████████████████| 1500/1500 [00:02<00:00, 722.48it/s]\n",
      "  0%|                                  | 0/50 [00:00<?, ?it/s]"
     ]
    },
    {
     "name": "stdout",
     "output_type": "stream",
     "text": [
      "\n",
      "Last loss: 0.4973\n",
      "Last train accuracy: 0.8493\n",
      "Last test accuracy: 0.8640\n",
      "\n",
      "\n",
      "Run 9 / 10...\n",
      "Meta-learning...\n"
     ]
    },
    {
     "name": "stderr",
     "output_type": "stream",
     "text": [
      "100%|█████████████████████████| 50/50 [01:12<00:00,  1.45s/it]\n",
      "  4%|▉                     | 63/1500 [00:00<00:02, 629.43it/s]"
     ]
    },
    {
     "name": "stdout",
     "output_type": "stream",
     "text": [
      "Last loss: 0.6931\n",
      "Last train accuracy: 0.4953\n",
      "Last test accuracy: 0.5040\n",
      "Training NEW brain instance (WITH backprop)...\n",
      "INITIAL train accuracy: 0.4960\n",
      "INITIAL test accuracy: 0.4520\n",
      "Epoch 1 / 1 ...\n"
     ]
    },
    {
     "name": "stderr",
     "output_type": "stream",
     "text": [
      "100%|████████████████████| 1500/1500 [00:02<00:00, 720.48it/s]\n",
      "  0%|                                  | 0/50 [00:00<?, ?it/s]"
     ]
    },
    {
     "name": "stdout",
     "output_type": "stream",
     "text": [
      "\n",
      "Last loss: 0.6931\n",
      "Last train accuracy: 0.5033\n",
      "Last test accuracy: 0.5480\n",
      "\n",
      "\n",
      "Run 10 / 10...\n",
      "Meta-learning...\n"
     ]
    },
    {
     "name": "stderr",
     "output_type": "stream",
     "text": [
      "100%|█████████████████████████| 50/50 [01:10<00:00,  1.41s/it]\n",
      "  4%|▊                     | 58/1500 [00:00<00:02, 573.74it/s]"
     ]
    },
    {
     "name": "stdout",
     "output_type": "stream",
     "text": [
      "Last loss: 0.6931\n",
      "Last train accuracy: 0.5147\n",
      "Last test accuracy: 0.4980\n",
      "Training NEW brain instance (WITH backprop)...\n",
      "INITIAL train accuracy: 0.5227\n",
      "INITIAL test accuracy: 0.4980\n",
      "Epoch 1 / 1 ...\n"
     ]
    },
    {
     "name": "stderr",
     "output_type": "stream",
     "text": [
      "100%|████████████████████| 1500/1500 [00:02<00:00, 712.92it/s]\n",
      "  0%|                                  | 0/50 [00:00<?, ?it/s]"
     ]
    },
    {
     "name": "stdout",
     "output_type": "stream",
     "text": [
      "\n",
      "Last loss: 0.6931\n",
      "Last train accuracy: 0.5227\n",
      "Last test accuracy: 0.4980\n",
      "\n",
      "==== Interpretation: Post and Incoming Count ====\n",
      "\n",
      "Run 1 / 10...\n",
      "Meta-learning...\n"
     ]
    },
    {
     "name": "stderr",
     "output_type": "stream",
     "text": [
      "100%|█████████████████████████| 50/50 [00:59<00:00,  1.20s/it]\n",
      "  5%|█                     | 75/1500 [00:00<00:01, 748.67it/s]"
     ]
    },
    {
     "name": "stdout",
     "output_type": "stream",
     "text": [
      "Last loss: 0.6469\n",
      "Last train accuracy: 0.4900\n",
      "Last test accuracy: 0.4580\n",
      "Training NEW brain instance (WITH backprop)...\n",
      "INITIAL train accuracy: 0.4967\n",
      "INITIAL test accuracy: 0.4560\n",
      "Epoch 1 / 1 ...\n"
     ]
    },
    {
     "name": "stderr",
     "output_type": "stream",
     "text": [
      "100%|████████████████████| 1500/1500 [00:01<00:00, 785.32it/s]\n",
      "  0%|                                  | 0/50 [00:00<?, ?it/s]"
     ]
    },
    {
     "name": "stdout",
     "output_type": "stream",
     "text": [
      "\n",
      "Last loss: 0.7685\n",
      "Last train accuracy: 0.5033\n",
      "Last test accuracy: 0.5440\n",
      "\n",
      "\n",
      "Run 2 / 10...\n",
      "Meta-learning...\n"
     ]
    },
    {
     "name": "stderr",
     "output_type": "stream",
     "text": [
      "100%|█████████████████████████| 50/50 [01:01<00:00,  1.22s/it]\n",
      "  4%|▉                     | 65/1500 [00:00<00:02, 642.98it/s]"
     ]
    },
    {
     "name": "stdout",
     "output_type": "stream",
     "text": [
      "Last loss: 0.6931\n",
      "Last train accuracy: 0.5027\n",
      "Last test accuracy: 0.5180\n",
      "Training NEW brain instance (WITH backprop)...\n",
      "INITIAL train accuracy: 0.5040\n",
      "INITIAL test accuracy: 0.4740\n",
      "Epoch 1 / 1 ...\n"
     ]
    },
    {
     "name": "stderr",
     "output_type": "stream",
     "text": [
      "100%|████████████████████| 1500/1500 [00:02<00:00, 737.52it/s]\n",
      "  0%|                                  | 0/50 [00:00<?, ?it/s]"
     ]
    },
    {
     "name": "stdout",
     "output_type": "stream",
     "text": [
      "\n",
      "Last loss: 0.6930\n",
      "Last train accuracy: 0.5040\n",
      "Last test accuracy: 0.4740\n",
      "\n",
      "\n",
      "Run 3 / 10...\n",
      "Meta-learning...\n"
     ]
    },
    {
     "name": "stderr",
     "output_type": "stream",
     "text": [
      "100%|█████████████████████████| 50/50 [01:00<00:00,  1.22s/it]\n",
      "  5%|█                     | 75/1500 [00:00<00:01, 738.22it/s]"
     ]
    },
    {
     "name": "stdout",
     "output_type": "stream",
     "text": [
      "Last loss: 0.6536\n",
      "Last train accuracy: 0.4860\n",
      "Last test accuracy: 0.4840\n",
      "Training NEW brain instance (WITH backprop)...\n",
      "INITIAL train accuracy: 0.5013\n",
      "INITIAL test accuracy: 0.4800\n",
      "Epoch 1 / 1 ...\n"
     ]
    },
    {
     "name": "stderr",
     "output_type": "stream",
     "text": [
      "100%|████████████████████| 1500/1500 [00:01<00:00, 776.83it/s]\n",
      "  0%|                                  | 0/50 [00:00<?, ?it/s]"
     ]
    },
    {
     "name": "stdout",
     "output_type": "stream",
     "text": [
      "\n",
      "Last loss: 0.6017\n",
      "Last train accuracy: 0.5013\n",
      "Last test accuracy: 0.4800\n",
      "\n",
      "\n",
      "Run 4 / 10...\n",
      "Meta-learning...\n"
     ]
    },
    {
     "name": "stderr",
     "output_type": "stream",
     "text": [
      "100%|█████████████████████████| 50/50 [01:00<00:00,  1.21s/it]\n",
      "  4%|▉                     | 64/1500 [00:00<00:02, 633.09it/s]"
     ]
    },
    {
     "name": "stdout",
     "output_type": "stream",
     "text": [
      "Last loss: 0.6931\n",
      "Last train accuracy: 0.5133\n",
      "Last test accuracy: 0.5160\n",
      "Training NEW brain instance (WITH backprop)...\n",
      "INITIAL train accuracy: 0.4913\n",
      "INITIAL test accuracy: 0.4960\n",
      "Epoch 1 / 1 ...\n"
     ]
    },
    {
     "name": "stderr",
     "output_type": "stream",
     "text": [
      "100%|████████████████████| 1500/1500 [00:01<00:00, 789.56it/s]\n",
      "  0%|                                  | 0/50 [00:00<?, ?it/s]"
     ]
    },
    {
     "name": "stdout",
     "output_type": "stream",
     "text": [
      "\n",
      "Last loss: 0.6931\n",
      "Last train accuracy: 0.4913\n",
      "Last test accuracy: 0.4960\n",
      "\n",
      "\n",
      "Run 5 / 10...\n",
      "Meta-learning...\n"
     ]
    },
    {
     "name": "stderr",
     "output_type": "stream",
     "text": [
      "100%|█████████████████████████| 50/50 [00:59<00:00,  1.19s/it]\n",
      "  5%|█                     | 76/1500 [00:00<00:01, 751.79it/s]"
     ]
    },
    {
     "name": "stdout",
     "output_type": "stream",
     "text": [
      "Last loss: 0.6289\n",
      "Last train accuracy: 0.5160\n",
      "Last test accuracy: 0.4860\n",
      "Training NEW brain instance (WITH backprop)...\n",
      "INITIAL train accuracy: 0.5000\n",
      "INITIAL test accuracy: 0.5280\n",
      "Epoch 1 / 1 ...\n"
     ]
    },
    {
     "name": "stderr",
     "output_type": "stream",
     "text": [
      "100%|████████████████████| 1500/1500 [00:02<00:00, 725.55it/s]\n",
      "  0%|                                  | 0/50 [00:00<?, ?it/s]"
     ]
    },
    {
     "name": "stdout",
     "output_type": "stream",
     "text": [
      "\n",
      "Last loss: 0.8145\n",
      "Last train accuracy: 0.5000\n",
      "Last test accuracy: 0.4720\n",
      "\n",
      "\n",
      "Run 6 / 10...\n",
      "Meta-learning...\n"
     ]
    },
    {
     "name": "stderr",
     "output_type": "stream",
     "text": [
      "100%|█████████████████████████| 50/50 [01:01<00:00,  1.22s/it]\n",
      "  5%|█                     | 74/1500 [00:00<00:01, 732.01it/s]"
     ]
    },
    {
     "name": "stdout",
     "output_type": "stream",
     "text": [
      "Last loss: 0.6485\n",
      "Last train accuracy: 0.5207\n",
      "Last test accuracy: 0.5300\n",
      "Training NEW brain instance (WITH backprop)...\n",
      "INITIAL train accuracy: 0.4993\n",
      "INITIAL test accuracy: 0.4740\n",
      "Epoch 1 / 1 ...\n"
     ]
    },
    {
     "name": "stderr",
     "output_type": "stream",
     "text": [
      "100%|████████████████████| 1500/1500 [00:01<00:00, 794.81it/s]\n",
      "  0%|                                  | 0/50 [00:00<?, ?it/s]"
     ]
    },
    {
     "name": "stdout",
     "output_type": "stream",
     "text": [
      "\n",
      "Last loss: 0.7803\n",
      "Last train accuracy: 0.5007\n",
      "Last test accuracy: 0.5260\n",
      "\n",
      "\n",
      "Run 7 / 10...\n",
      "Meta-learning...\n"
     ]
    },
    {
     "name": "stderr",
     "output_type": "stream",
     "text": [
      "100%|█████████████████████████| 50/50 [01:01<00:00,  1.23s/it]\n",
      "  4%|▉                     | 67/1500 [00:00<00:02, 665.93it/s]"
     ]
    },
    {
     "name": "stdout",
     "output_type": "stream",
     "text": [
      "Last loss: 0.6360\n",
      "Last train accuracy: 0.5253\n",
      "Last test accuracy: 0.5440\n",
      "Training NEW brain instance (WITH backprop)...\n",
      "INITIAL train accuracy: 0.5047\n",
      "INITIAL test accuracy: 0.4860\n",
      "Epoch 1 / 1 ...\n"
     ]
    },
    {
     "name": "stderr",
     "output_type": "stream",
     "text": [
      "100%|████████████████████| 1500/1500 [00:02<00:00, 749.11it/s]\n",
      "  0%|                                  | 0/50 [00:00<?, ?it/s]"
     ]
    },
    {
     "name": "stdout",
     "output_type": "stream",
     "text": [
      "\n",
      "Last loss: 0.7897\n",
      "Last train accuracy: 0.5047\n",
      "Last test accuracy: 0.4860\n",
      "\n",
      "\n",
      "Run 8 / 10...\n",
      "Meta-learning...\n"
     ]
    },
    {
     "name": "stderr",
     "output_type": "stream",
     "text": [
      "100%|█████████████████████████| 50/50 [01:01<00:00,  1.22s/it]\n",
      "  5%|█                     | 73/1500 [00:00<00:01, 728.40it/s]"
     ]
    },
    {
     "name": "stdout",
     "output_type": "stream",
     "text": [
      "Last loss: 0.6931\n",
      "Last train accuracy: 0.5080\n",
      "Last test accuracy: 0.4680\n",
      "Training NEW brain instance (WITH backprop)...\n",
      "INITIAL train accuracy: 0.5087\n",
      "INITIAL test accuracy: 0.5080\n",
      "Epoch 1 / 1 ...\n"
     ]
    },
    {
     "name": "stderr",
     "output_type": "stream",
     "text": [
      "100%|████████████████████| 1500/1500 [00:02<00:00, 736.93it/s]\n",
      "  0%|                                  | 0/50 [00:00<?, ?it/s]"
     ]
    },
    {
     "name": "stdout",
     "output_type": "stream",
     "text": [
      "\n",
      "Last loss: 0.6931\n",
      "Last train accuracy: 0.5087\n",
      "Last test accuracy: 0.5080\n",
      "\n",
      "\n",
      "Run 9 / 10...\n",
      "Meta-learning...\n"
     ]
    },
    {
     "name": "stderr",
     "output_type": "stream",
     "text": [
      "100%|█████████████████████████| 50/50 [00:54<00:00,  1.08s/it]\n",
      "  6%|█▎                    | 90/1500 [00:00<00:01, 899.18it/s]"
     ]
    },
    {
     "name": "stdout",
     "output_type": "stream",
     "text": [
      "Last loss: 0.6619\n",
      "Last train accuracy: 0.5167\n",
      "Last test accuracy: 0.4880\n",
      "Training NEW brain instance (WITH backprop)...\n",
      "INITIAL train accuracy: 0.5007\n",
      "INITIAL test accuracy: 0.5140\n",
      "Epoch 1 / 1 ...\n"
     ]
    },
    {
     "name": "stderr",
     "output_type": "stream",
     "text": [
      "100%|████████████████████| 1500/1500 [00:01<00:00, 882.04it/s]\n",
      "  0%|                                  | 0/50 [00:00<?, ?it/s]"
     ]
    },
    {
     "name": "stdout",
     "output_type": "stream",
     "text": [
      "\n",
      "Last loss: 0.7739\n",
      "Last train accuracy: 0.5007\n",
      "Last test accuracy: 0.5140\n",
      "\n",
      "\n",
      "Run 10 / 10...\n",
      "Meta-learning...\n"
     ]
    },
    {
     "name": "stderr",
     "output_type": "stream",
     "text": [
      "100%|█████████████████████████| 50/50 [00:47<00:00,  1.04it/s]\n",
      "  6%|█▎                    | 91/1500 [00:00<00:01, 909.17it/s]"
     ]
    },
    {
     "name": "stdout",
     "output_type": "stream",
     "text": [
      "Last loss: 0.6931\n",
      "Last train accuracy: 0.4840\n",
      "Last test accuracy: 0.5020\n",
      "Training NEW brain instance (WITH backprop)...\n",
      "INITIAL train accuracy: 0.5073\n",
      "INITIAL test accuracy: 0.4740\n",
      "Epoch 1 / 1 ...\n"
     ]
    },
    {
     "name": "stderr",
     "output_type": "stream",
     "text": [
      "100%|████████████████████| 1500/1500 [00:01<00:00, 891.85it/s]"
     ]
    },
    {
     "name": "stdout",
     "output_type": "stream",
     "text": [
      "\n",
      "Last loss: 0.6931\n",
      "Last train accuracy: 0.5073\n",
      "Last test accuracy: 0.4740\n",
      "\n"
     ]
    },
    {
     "name": "stderr",
     "output_type": "stream",
     "text": [
      "\n"
     ]
    }
   ],
   "source": [
    "# Evaluate models.\n",
    "print('==== Interpretation: Pre and Post ====')\n",
    "stats_prepost_up, stats_prepost_down = evaluate_up_down(\n",
    "    brain_prepost_up_fact, brain_prepost_down_fact, n_up, n_down, dataset=dataset,\n",
    "    num_runs=num_runs, num_rule_epochs=num_rule_epochs,\n",
    "    num_epochs_upstream=num_epochs_upstream, num_epochs_downstream=num_epochs_downstream)\n",
    "print('==== Interpretation: Pre and Post and Incoming Count ====')\n",
    "stats_prepostcount_up, stats_prepostcount_down = evaluate_up_down(\n",
    "    brain_prepostcount_up_fact, brain_prepostcount_down_fact, n_up, n_down, dataset=dataset,\n",
    "    num_runs=num_runs, num_rule_epochs=num_rule_epochs,\n",
    "    num_epochs_upstream=num_epochs_upstream, num_epochs_downstream=num_epochs_downstream)\n",
    "print('==== Interpretation: Pre and Post and Binned Incoming Fraction ====')\n",
    "stats_prepostpercent_up, stats_prepostpercent_down = evaluate_up_down(\n",
    "    brain_prepostpercent_up_fact, brain_prepostpercent_down_fact, n_up, n_down, dataset=dataset,\n",
    "    num_runs=num_runs, num_rule_epochs=num_rule_epochs,\n",
    "    num_epochs_upstream=num_epochs_upstream, num_epochs_downstream=num_epochs_downstream)\n",
    "print('==== Interpretation: Post and Incoming Count ====')\n",
    "stats_postcount_up, stats_postcount_down = evaluate_up_down(\n",
    "    brain_postcount_up_fact, brain_postcount_down_fact, n_up, n_down, dataset=dataset,\n",
    "    num_runs=num_runs, num_rule_epochs=num_rule_epochs,\n",
    "    num_epochs_upstream=num_epochs_upstream, num_epochs_downstream=num_epochs_downstream)"
   ]
  },
  {
   "cell_type": "code",
   "execution_count": 8,
   "metadata": {
    "scrolled": false
   },
   "outputs": [
    {
     "name": "stdout",
     "output_type": "stream",
     "text": [
      "Saving figure to: figs/comparing_transfer_prepost_halfspace\n"
     ]
    },
    {
     "data": {
      "image/png": "[encoded data removed]",
      "text/plain": [
       "<Figure size 720x288 with 2 Axes>"
      ]
     },
     "metadata": {},
     "output_type": "display_data"
    },
    {
     "name": "stdout",
     "output_type": "stream",
     "text": [
      "Mean essential stats across all runs:\n",
      "Last upstream loss: 0.3872\n",
      "Last upstream train accuracy: 0.9179\n",
      "Last upstream test accuracy: 0.9126\n",
      "Last downstream loss: 0.5278\n",
      "Last downstream train accuracy: 0.7746\n",
      "Last downstream test accuracy: 0.7600\n",
      "\n",
      "Saving figure to: figs/comparing_transfer_prepostcount_halfspace\n"
     ]
    },
    {
     "data": {
      "image/png": "[encoded data removed]",
      "text/plain": [
       "<Figure size 720x288 with 2 Axes>"
      ]
     },
     "metadata": {},
     "output_type": "display_data"
    },
    {
     "name": "stdout",
     "output_type": "stream",
     "text": [
      "Mean essential stats across all runs:\n",
      "Last upstream loss: 0.4292\n",
      "Last upstream train accuracy: 0.8592\n",
      "Last upstream test accuracy: 0.8536\n",
      "Last downstream loss: 0.5185\n",
      "Last downstream train accuracy: 0.7744\n",
      "Last downstream test accuracy: 0.7592\n",
      "\n",
      "Saving figure to: figs/comparing_transfer_prepostpercent_halfspace\n"
     ]
    },
    {
     "data": {
      "image/png": "[encoded data removed]",
      "text/plain": [
       "<Figure size 720x288 with 2 Axes>"
      ]
     },
     "metadata": {},
     "output_type": "display_data"
    },
    {
     "name": "stdout",
     "output_type": "stream",
     "text": [
      "Mean essential stats across all runs:\n",
      "Last upstream loss: 0.5282\n",
      "Last upstream train accuracy: 0.7353\n",
      "Last upstream test accuracy: 0.7240\n",
      "Last downstream loss: 0.5834\n",
      "Last downstream train accuracy: 0.6761\n",
      "Last downstream test accuracy: 0.6844\n",
      "\n",
      "Saving figure to: figs/comparing_transfer_postcount_halfspace\n"
     ]
    },
    {
     "data": {
      "image/png": "[encoded data removed]",
      "text/plain": [
       "<Figure size 720x288 with 2 Axes>"
      ]
     },
     "metadata": {},
     "output_type": "display_data"
    },
    {
     "name": "stdout",
     "output_type": "stream",
     "text": [
      "Mean essential stats across all runs:\n",
      "Last upstream loss: 0.6648\n",
      "Last upstream train accuracy: 0.5063\n",
      "Last upstream test accuracy: 0.4994\n",
      "Last downstream loss: 0.7301\n",
      "Last downstream train accuracy: 0.5022\n",
      "Last downstream test accuracy: 0.4974\n",
      "\n"
     ]
    }
   ],
   "source": [
    "# Plot aggregated stats.\n",
    "agg_stats_prepost_up = convert_multi_stats_uncertainty(stats_prepost_up)\n",
    "agg_stats_prepost_down = convert_multi_stats_uncertainty(stats_prepost_down)\n",
    "plot_curves(agg_stats_prepost_up, agg_stats_prepost_down,\n",
    "            '[PrePost] Upstream meta-learning on ' + dataset,\n",
    "            '[PrePost] Downstream training on ' + dataset,\n",
    "            'figs/comparing_transfer_prepost_' + dataset)\n",
    "agg_stats_prepostcount_up = convert_multi_stats_uncertainty(stats_prepostcount_up)\n",
    "agg_stats_prepostcount_down = convert_multi_stats_uncertainty(stats_prepostcount_down)\n",
    "plot_curves(agg_stats_prepostcount_up, agg_stats_prepostcount_down,\n",
    "            '[PrePostCount] Upstream meta-learning on ' + dataset,\n",
    "            '[PrePostCount] Downstream training on ' + dataset,\n",
    "            'figs/comparing_transfer_prepostcount_' + dataset)\n",
    "agg_stats_prepostpercent_up = convert_multi_stats_uncertainty(stats_prepostpercent_up)\n",
    "agg_stats_prepostpercent_down = convert_multi_stats_uncertainty(stats_prepostpercent_down)\n",
    "plot_curves(agg_stats_prepostpercent_up, agg_stats_prepostpercent_down,\n",
    "            '[PrePostPercent] Upstream meta-learning on ' + dataset,\n",
    "            '[PrePostPercent] Downstream training on ' + dataset,\n",
    "            'figs/comparing_transfer_prepostpercent_' + dataset)\n",
    "agg_stats_postcount_up = convert_multi_stats_uncertainty(stats_postcount_up)\n",
    "agg_stats_postcount_down = convert_multi_stats_uncertainty(stats_postcount_down)\n",
    "plot_curves(agg_stats_postcount_up, agg_stats_postcount_down,\n",
    "            '[PostCount] Upstream meta-learning on ' + dataset,\n",
    "            '[PostCount] Downstream training on ' + dataset,\n",
    "            'figs/comparing_transfer_postcount_' + dataset)"
   ]
  },
  {
   "cell_type": "code",
   "execution_count": 9,
   "metadata": {},
   "outputs": [
    {
     "name": "stdout",
     "output_type": "stream",
     "text": [
      "Saving figure to: figs/comparing_transfer_table_halfspace\n"
     ]
    },
    {
     "data": {
      "image/png": "[encoded data removed]",
      "text/plain": [
       "<Figure size 720x288 with 2 Axes>"
      ]
     },
     "metadata": {},
     "output_type": "display_data"
    }
   ],
   "source": [
    "# Plot to compare all.\n",
    "all_stats_up = [agg_stats_rnn_up, agg_stats_prepost_up, agg_stats_prepostcount_up, agg_stats_prepostpercent_up, agg_stats_postcount_up]\n",
    "all_stats_down = [agg_stats_rnn_down, agg_stats_prepost_down, agg_stats_prepostcount_down, agg_stats_prepostpercent_down, agg_stats_postcount_down]\n",
    "labels = ['RNN', 'PrePost', 'PrePostCount', 'PrePostPercent', 'PostCount']\n",
    "plot_compare_models(all_stats_up, all_stats_down, labels,\n",
    "                    'Upstream meta-learning on ' + dataset,\n",
    "                    'Downstream training on ' + dataset,\n",
    "                    'figs/comparing_transfer_table_' + dataset)"
   ]
  },
  {
   "cell_type": "code",
   "execution_count": 10,
   "metadata": {
    "scrolled": true
   },
   "outputs": [],
   "source": [
    "if 0:\n",
    "    agg_stats_prepost_up = convert_multi_stats_uncertainty(stats_prepost_up)\n",
    "    agg_stats_prepost_down = convert_multi_stats_uncertainty(stats_prepost_down)\n",
    "    for i in range(len(stats_prepost_up)):\n",
    "        plot_curves(stats_prepost_up[i], stats_prepost_down[i],\n",
    "                    '[PrePost] Upstream meta-learning on ' + dataset,\n",
    "                    '[PrePost] Downstream training on ' + dataset)"
   ]
  },
  {
   "cell_type": "markdown",
   "metadata": {},
   "source": [
    "## Similarly, evaluate RNN and table-based networks but retain the SAME instance upstream and downstream; only the dataset is reinstantiated."
   ]
  },
  {
   "cell_type": "code",
   "execution_count": 14,
   "metadata": {},
   "outputs": [],
   "source": [
    "# IMPORTANT: Henceforth, we use GD directly on inputs but use plasticity rules in the output and hidden layers.\n",
    "opts = Options(gd_input=True,\n",
    "               use_graph_rule=True,\n",
    "               gd_graph_rule=True,\n",
    "               use_output_rule=True,\n",
    "               gd_output_rule=True,\n",
    "               gd_output=False)\n",
    "scheme = UpdateScheme(cross_entropy_loss=True,\n",
    "                      mse_loss=False,\n",
    "                      update_misclassified_only=False,\n",
    "                      update_all_edges=True)\n",
    "\n",
    "# Feed-forward brain config.\n",
    "# See start of notebook.\n",
    "n = 8\n",
    "\n",
    "# Training config.\n",
    "# See start of notebook."
   ]
  },
  {
   "cell_type": "code",
   "execution_count": 15,
   "metadata": {},
   "outputs": [],
   "source": [
    "# Instantiate brain factories.\n",
    "brain_rnn_fact = lambda: LocalNet(n_up, m, 64, p, 32, 3, options=opts, update_scheme=scheme)\n",
    "brain_prepos_fact = lambda: FFLocalNet(\n",
    "    n, m, l, w, p, cap, hl_rules=TableRule_PrePost(),\n",
    "    output_rule=TableRule_PrePost(), options=opts, update_scheme=scheme)\n",
    "brain_prepostcount_fact = lambda: FFLocalNet(\n",
    "    n, m, l, w, p, cap, hl_rules=TableRule_PrePostCount(),\n",
    "    output_rule=TableRule_PrePostCount(), options=opts, update_scheme=scheme)\n",
    "brain_prepostpercent_fact = lambda: FFLocalNet(\n",
    "    n, m, l, w, p, cap, hl_rules=TableRule_PrePostPercent(),\n",
    "    output_rule=TableRule_PrePostPercent(), options=opts, update_scheme=scheme)\n",
    "brain_postcount_fact = lambda: FFLocalNet(\n",
    "    n, m, l, w, p, cap, hl_rules=TableRule_PostCount(),\n",
    "    output_rule=TableRule_PostCount(), options=opts, update_scheme=scheme)"
   ]
  },
  {
   "cell_type": "code",
   "execution_count": 16,
   "metadata": {
    "scrolled": true
   },
   "outputs": [
    {
     "name": "stderr",
     "output_type": "stream",
     "text": [
      "\r",
      "  0%|                                  | 0/50 [00:00<?, ?it/s]"
     ]
    },
    {
     "name": "stdout",
     "output_type": "stream",
     "text": [
      "==== Original RNN (very different from all the rest) ====\n",
      "\n",
      "Run 1 / 10...\n",
      "Meta-learning...\n"
     ]
    },
    {
     "name": "stderr",
     "output_type": "stream",
     "text": [
      " 98%|████████████████████████▌| 49/50 [01:34<00:01,  1.92s/it]\n"
     ]
    },
    {
     "ename": "KeyboardInterrupt",
     "evalue": "",
     "output_type": "error",
     "traceback": [
      "\u001b[1;31m---------------------------------------------------------------\u001b[0m",
      "\u001b[1;31mKeyboardInterrupt\u001b[0m             Traceback (most recent call last)",
      "\u001b[1;32m<ipython-input-16-a6480d647994>\u001b[0m in \u001b[0;36m<module>\u001b[1;34m\u001b[0m\n\u001b[0;32m      4\u001b[0m     \u001b[0mbrain_rnn_fact\u001b[0m\u001b[1;33m,\u001b[0m \u001b[0mn\u001b[0m\u001b[1;33m,\u001b[0m \u001b[0mdataset\u001b[0m\u001b[1;33m=\u001b[0m\u001b[0mdataset\u001b[0m\u001b[1;33m,\u001b[0m\u001b[1;33m\u001b[0m\u001b[1;33m\u001b[0m\u001b[0m\n\u001b[0;32m      5\u001b[0m     \u001b[0mnum_runs\u001b[0m\u001b[1;33m=\u001b[0m\u001b[0mnum_runs\u001b[0m\u001b[1;33m,\u001b[0m \u001b[0mnum_rule_epochs\u001b[0m\u001b[1;33m=\u001b[0m\u001b[0mnum_rule_epochs\u001b[0m\u001b[1;33m,\u001b[0m\u001b[1;33m\u001b[0m\u001b[1;33m\u001b[0m\u001b[0m\n\u001b[1;32m----> 6\u001b[1;33m     num_epochs_upstream=num_epochs_upstream, num_epochs_downstream=num_epochs_downstream)\n\u001b[0m\u001b[0;32m      7\u001b[0m \u001b[0mprint\u001b[0m\u001b[1;33m(\u001b[0m\u001b[1;34m'==== Interpretation: Pre and Post ===='\u001b[0m\u001b[1;33m)\u001b[0m\u001b[1;33m\u001b[0m\u001b[1;33m\u001b[0m\u001b[0m\n\u001b[0;32m      8\u001b[0m stats_prepost_up, stats_prepost_down = evaluate_brain(\n",
      "\u001b[1;32m<ipython-input-1-e7bd728c48e1>\u001b[0m in \u001b[0;36mevaluate_brain\u001b[1;34m(brain_fact, n, dataset, num_runs, num_rule_epochs, num_epochs_upstream, num_epochs_downstream)\u001b[0m\n\u001b[0;32m     22\u001b[0m             \u001b[0mX_train\u001b[0m\u001b[1;33m,\u001b[0m \u001b[0my_train\u001b[0m\u001b[1;33m,\u001b[0m \u001b[0mbrain\u001b[0m\u001b[1;33m,\u001b[0m \u001b[0mnum_rule_epochs\u001b[0m\u001b[1;33m=\u001b[0m\u001b[0mnum_rule_epochs\u001b[0m\u001b[1;33m,\u001b[0m\u001b[1;33m\u001b[0m\u001b[1;33m\u001b[0m\u001b[0m\n\u001b[0;32m     23\u001b[0m             \u001b[0mnum_epochs\u001b[0m\u001b[1;33m=\u001b[0m\u001b[0mnum_epochs_upstream\u001b[0m\u001b[1;33m,\u001b[0m \u001b[0mbatch_size\u001b[0m\u001b[1;33m=\u001b[0m\u001b[1;36m100\u001b[0m\u001b[1;33m,\u001b[0m \u001b[0mlearn_rate\u001b[0m\u001b[1;33m=\u001b[0m\u001b[1;36m1e-2\u001b[0m\u001b[1;33m,\u001b[0m\u001b[1;33m\u001b[0m\u001b[1;33m\u001b[0m\u001b[0m\n\u001b[1;32m---> 24\u001b[1;33m             X_test=X_test, y_test=y_test, verbose=False)\n\u001b[0m\u001b[0;32m     25\u001b[0m \u001b[1;33m\u001b[0m\u001b[0m\n\u001b[0;32m     26\u001b[0m         \u001b[1;31m# Downstream.\u001b[0m\u001b[1;33m\u001b[0m\u001b[1;33m\u001b[0m\u001b[1;33m\u001b[0m\u001b[0m\n",
      "\u001b[1;32m~\\Repos\\assemblies\\BrainNet\\train.py\u001b[0m in \u001b[0;36mmetalearn_rules\u001b[1;34m(X, y, meta_model, num_rule_epochs, num_epochs, batch_size, learn_rate, X_test, y_test, verbose)\u001b[0m\n\u001b[0;32m    102\u001b[0m \u001b[1;33m\u001b[0m\u001b[0m\n\u001b[0;32m    103\u001b[0m             \u001b[1;31m# Update rules to reduce loss.\u001b[0m\u001b[1;33m\u001b[0m\u001b[1;33m\u001b[0m\u001b[1;33m\u001b[0m\u001b[0m\n\u001b[1;32m--> 104\u001b[1;33m             \u001b[0mloss\u001b[0m\u001b[1;33m.\u001b[0m\u001b[0mbackward\u001b[0m\u001b[1;33m(\u001b[0m\u001b[1;33m)\u001b[0m\u001b[1;33m\u001b[0m\u001b[1;33m\u001b[0m\u001b[0m\n\u001b[0m\u001b[0;32m    105\u001b[0m             \u001b[0moptimizer\u001b[0m\u001b[1;33m.\u001b[0m\u001b[0mstep\u001b[0m\u001b[1;33m(\u001b[0m\u001b[1;33m)\u001b[0m\u001b[1;33m\u001b[0m\u001b[1;33m\u001b[0m\u001b[0m\n\u001b[0;32m    106\u001b[0m \u001b[1;33m\u001b[0m\u001b[0m\n",
      "\u001b[1;32mC:\\Development\\Anaconda3\\lib\\site-packages\\torch\\tensor.py\u001b[0m in \u001b[0;36mbackward\u001b[1;34m(self, gradient, retain_graph, create_graph)\u001b[0m\n\u001b[0;32m    219\u001b[0m                 \u001b[0mretain_graph\u001b[0m\u001b[1;33m=\u001b[0m\u001b[0mretain_graph\u001b[0m\u001b[1;33m,\u001b[0m\u001b[1;33m\u001b[0m\u001b[1;33m\u001b[0m\u001b[0m\n\u001b[0;32m    220\u001b[0m                 create_graph=create_graph)\n\u001b[1;32m--> 221\u001b[1;33m         \u001b[0mtorch\u001b[0m\u001b[1;33m.\u001b[0m\u001b[0mautograd\u001b[0m\u001b[1;33m.\u001b[0m\u001b[0mbackward\u001b[0m\u001b[1;33m(\u001b[0m\u001b[0mself\u001b[0m\u001b[1;33m,\u001b[0m \u001b[0mgradient\u001b[0m\u001b[1;33m,\u001b[0m \u001b[0mretain_graph\u001b[0m\u001b[1;33m,\u001b[0m \u001b[0mcreate_graph\u001b[0m\u001b[1;33m)\u001b[0m\u001b[1;33m\u001b[0m\u001b[1;33m\u001b[0m\u001b[0m\n\u001b[0m\u001b[0;32m    222\u001b[0m \u001b[1;33m\u001b[0m\u001b[0m\n\u001b[0;32m    223\u001b[0m     \u001b[1;32mdef\u001b[0m \u001b[0mregister_hook\u001b[0m\u001b[1;33m(\u001b[0m\u001b[0mself\u001b[0m\u001b[1;33m,\u001b[0m \u001b[0mhook\u001b[0m\u001b[1;33m)\u001b[0m\u001b[1;33m:\u001b[0m\u001b[1;33m\u001b[0m\u001b[1;33m\u001b[0m\u001b[0m\n",
      "\u001b[1;32mC:\\Development\\Anaconda3\\lib\\site-packages\\torch\\autograd\\__init__.py\u001b[0m in \u001b[0;36mbackward\u001b[1;34m(tensors, grad_tensors, retain_graph, create_graph, grad_variables)\u001b[0m\n\u001b[0;32m    130\u001b[0m     Variable._execution_engine.run_backward(\n\u001b[0;32m    131\u001b[0m         \u001b[0mtensors\u001b[0m\u001b[1;33m,\u001b[0m \u001b[0mgrad_tensors_\u001b[0m\u001b[1;33m,\u001b[0m \u001b[0mretain_graph\u001b[0m\u001b[1;33m,\u001b[0m \u001b[0mcreate_graph\u001b[0m\u001b[1;33m,\u001b[0m\u001b[1;33m\u001b[0m\u001b[1;33m\u001b[0m\u001b[0m\n\u001b[1;32m--> 132\u001b[1;33m         allow_unreachable=True)  # allow_unreachable flag\n\u001b[0m\u001b[0;32m    133\u001b[0m \u001b[1;33m\u001b[0m\u001b[0m\n\u001b[0;32m    134\u001b[0m \u001b[1;33m\u001b[0m\u001b[0m\n",
      "\u001b[1;31mKeyboardInterrupt\u001b[0m: "
     ]
    }
   ],
   "source": [
    "# Evaluate models.\n",
    "print('==== Original RNN (very different from all the rest) ====')\n",
    "stats_rnn_up, stats_rnn_down = evaluate_brain(\n",
    "    brain_rnn_fact, n, dataset=dataset,\n",
    "    num_runs=num_runs, num_rule_epochs=num_rule_epochs,\n",
    "    num_epochs_upstream=num_epochs_upstream, num_epochs_downstream=num_epochs_downstream)\n",
    "print('==== Interpretation: Pre and Post ====')\n",
    "stats_prepost_up, stats_prepost_down = evaluate_brain(\n",
    "    brain_prepost_fact, n, dataset=dataset,\n",
    "    num_runs=num_runs, num_rule_epochs=num_rule_epochs,\n",
    "    num_epochs_upstream=num_epochs_upstream, num_epochs_downstream=num_epochs_downstream)\n",
    "print('==== Interpretation: Pre and Post and Incoming Count ====')\n",
    "stats_prepostcount_up, stats_prepostcount_down = evaluate_brain(\n",
    "    brain_prepostcount_fact, n, dataset=dataset,\n",
    "    num_runs=num_runs, num_rule_epochs=num_rule_epochs,\n",
    "    num_epochs_upstream=num_epochs_upstream, num_epochs_downstream=num_epochs_downstream)\n",
    "print('==== Interpretation: Pre and Post and Binned Incoming Fraction ====')\n",
    "stats_prepostpercent_up, stats_prepostpercent_down = evaluate_brain(\n",
    "    brain_prepostpercent_fact, n, dataset=dataset,\n",
    "    num_runs=num_runs, num_rule_epochs=num_rule_epochs,\n",
    "    num_epochs_upstream=num_epochs_upstream, num_epochs_downstream=num_epochs_downstream)\n",
    "print('==== Interpretation: Post and Incoming Count ====')\n",
    "stats_postcount_up, stats_postcount_down = evaluate_brain(\n",
    "    brain_postcount_fact, n, dataset=dataset,\n",
    "    num_runs=num_runs, num_rule_epochs=num_rule_epochs,\n",
    "    num_epochs_upstream=num_epochs_upstream, num_epochs_downstream=num_epochs_downstream)"
   ]
  },
  {
   "cell_type": "code",
   "execution_count": null,
   "metadata": {},
   "outputs": [],
   "source": [
    "# Plot aggregated stats.\n",
    "agg_stats_rnn_up = convert_multi_stats_uncertainty(stats_rnn_up)\n",
    "agg_stats_rnn_down = convert_multi_stats_uncertainty(stats_rnn_down)\n",
    "plot_curves(agg_stats_rnn_up, agg_stats_rnn_down,\n",
    "            '[RNN] Upstream meta-learning on ' + dataset,\n",
    "            '[RNN] Downstream training on ' + dataset,\n",
    "            'figs/comparing_single_rnn_' + dataset)\n",
    "agg_stats_prepost_up = convert_multi_stats_uncertainty(stats_prepost_up)\n",
    "agg_stats_prepost_down = convert_multi_stats_uncertainty(stats_prepost_down)\n",
    "plot_curves(agg_stats_prepost_up, agg_stats_prepost_down,\n",
    "            '[PrePost] Upstream meta-learning on ' + dataset,\n",
    "            '[PrePost] Downstream training on ' + dataset,\n",
    "            'figs/comparing_single_prepost_' + dataset)\n",
    "agg_stats_prepostcount_up = convert_multi_stats_uncertainty(stats_prepostcount_up)\n",
    "agg_stats_prepostcount_down = convert_multi_stats_uncertainty(stats_prepostcount_down)\n",
    "plot_curves(agg_stats_prepostcount_up, agg_stats_prepostcount_down,\n",
    "            '[PrePostCount] Upstream meta-learning on ' + dataset,\n",
    "            '[PrePostCount] Downstream training on ' + dataset,\n",
    "            'figs/comparing_single_prepostcount_' + dataset)\n",
    "agg_stats_prepostpercent_up = convert_multi_stats_uncertainty(stats_prepostpercent_up)\n",
    "agg_stats_prepostpercent_down = convert_multi_stats_uncertainty(stats_prepostpercent_down)\n",
    "plot_curves(agg_stats_prepostpercent_up, agg_stats_prepostpercent_down,\n",
    "            '[PrePostPercent] Upstream meta-learning on ' + dataset,\n",
    "            '[PrePostPercent] Downstream training on ' + dataset,\n",
    "            'figs/comparing_single_prepostpercent_' + dataset)\n",
    "agg_stats_postcount_up = convert_multi_stats_uncertainty(stats_postcount_up)\n",
    "agg_stats_postcount_down = convert_multi_stats_uncertainty(stats_postcount_down)\n",
    "plot_curves(agg_stats_postcount_up, agg_stats_postcount_down,\n",
    "            '[PostCount] Upstream meta-learning on ' + dataset,\n",
    "            '[PostCount] Downstream training on ' + dataset,\n",
    "            'figs/comparing_single_postcount_' + dataset)"
   ]
  },
  {
   "cell_type": "code",
   "execution_count": null,
   "metadata": {},
   "outputs": [],
   "source": [
    "# Plot to compare all.\n",
    "all_stats_up = [agg_stats_rnn_up, agg_stats_prepost_up, agg_stats_prepostcount_up, agg_stats_prepostpercent_up, agg_stats_postcount_up]\n",
    "all_stats_down = [agg_stats_rnn_down, agg_stats_prepost_down, agg_stats_prepostcount_down, agg_stats_prepostpercent_down, agg_stats_postcount_down]\n",
    "labels = ['RNN', 'PrePost', 'PrePostCount', 'PrePostPercent', 'PostCount']\n",
    "plot_compare_models(all_stats_up, all_stats_down, labels,\n",
    "                    'Upstream meta-learning on ' + dataset,\n",
    "                    'Downstream training on ' + dataset,\n",
    "                    'figs/comparing_single_table_' + dataset)"
   ]
  },
  {
   "cell_type": "markdown",
   "metadata": {},
   "source": [
    "## Evaluate all small-ANN-based feed-forward networks."
   ]
  },
  {
   "cell_type": "code",
   "execution_count": null,
   "metadata": {},
   "outputs": [],
   "source": []
  }
 ],
 "metadata": {
  "kernelspec": {
   "display_name": "Python 3",
   "language": "python",
   "name": "python3"
  },
  "language_info": {
   "codemirror_mode": {
    "name": "ipython",
    "version": 3
   },
   "file_extension": ".py",
   "mimetype": "text/x-python",
   "name": "python",
   "nbconvert_exporter": "python",
   "pygments_lexer": "ipython3",
   "version": "3.7.9"
  }
 },
 "nbformat": 4,
 "nbformat_minor": 4
}
