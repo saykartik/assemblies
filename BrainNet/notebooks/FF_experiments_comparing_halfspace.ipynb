{
 "cells": [
  {
   "cell_type": "markdown",
   "metadata": {},
   "source": [
    "# Comparing plasticity rules\n",
    "\n",
    "## For every model, meta-learn on 8-dimensional halfspace dataset, then transfer rules to a NEW instance, and train / test that on the same dataset type but with fixed rules.\n",
    "\n",
    "Created by Basile Van Hoorick, Fall 2020."
   ]
  },
  {
   "cell_type": "code",
   "execution_count": 1,
   "metadata": {},
   "outputs": [],
   "source": [
    "%run FF_common.ipynb"
   ]
  },
  {
   "cell_type": "markdown",
   "metadata": {},
   "source": [
    "## First, test original RNN as a sanity check."
   ]
  },
  {
   "cell_type": "code",
   "execution_count": 2,
   "metadata": {},
   "outputs": [],
   "source": [
    "# IMPORTANT: Henceforth, we use GD directly on inputs but use plasticity rules in the output and hidden layers.\n",
    "opts_up = Options(gd_input=True,\n",
    "                  use_graph_rule=True,\n",
    "                  gd_graph_rule=True,\n",
    "                  use_output_rule=True,\n",
    "                  gd_output_rule=True,\n",
    "                  gd_output=False)\n",
    "opts_down = Options(gd_input=True,\n",
    "                    use_graph_rule=True,\n",
    "                    gd_graph_rule=False,  # Not meta-trainable anymore!\n",
    "                    use_output_rule=True,\n",
    "                    gd_output_rule=False,  # Not meta-trainable anymore!\n",
    "                    gd_output=False)\n",
    "scheme = UpdateScheme(cross_entropy_loss=True,\n",
    "                      mse_loss=False,\n",
    "                      update_misclassified_only=False,\n",
    "                      update_all_edges=True)\n",
    "\n",
    "# Feed-forward brain config.\n",
    "n_up = 8  # Input layer size for meta-learning.\n",
    "n_down = 8  # Input layer size for desired task training.\n",
    "m = 2  # Output layer size.\n",
    "l = 2  # Number of hidden layers.\n",
    "w = 32  # Width of hidden layers.\n",
    "p = 0.5  # Connectivity probability.\n",
    "cap = 16  # Number of nodes firing per layer.\n",
    "\n",
    "# Training config.\n",
    "num_runs = 10\n",
    "num_rule_epochs = 50\n",
    "num_epochs_upstream = 1\n",
    "num_epochs_downstream = 1\n",
    "dataset = 'halfspace'"
   ]
  },
  {
   "cell_type": "code",
   "execution_count": 3,
   "metadata": {},
   "outputs": [],
   "source": [
    "# Instantiate brain factories.\n",
    "brain_rnn_up_fact = lambda: LocalNet(n_up, m, 64, p, 32, 3, options=opts_up, update_scheme=scheme)\n",
    "brain_rnn_down_fact = lambda: LocalNet(n_down, m, 64, p, 32, 3, options=opts_down, update_scheme=scheme)"
   ]
  },
  {
   "cell_type": "code",
   "execution_count": 4,
   "metadata": {
    "scrolled": true
   },
   "outputs": [
    {
     "name": "stderr",
     "output_type": "stream",
     "text": [
      "\r",
      "  0%|                                  | 0/50 [00:00<?, ?it/s]"
     ]
    },
    {
     "name": "stdout",
     "output_type": "stream",
     "text": [
      "==== Original RNN (very different from all the rest) ====\n",
      "\n",
      "Run 1 / 10...\n",
      "Meta-learning...\n"
     ]
    },
    {
     "name": "stderr",
     "output_type": "stream",
     "text": [
      "100%|█████████████████████████| 50/50 [01:36<00:00,  1.93s/it]\n",
      "..\\LocalNetBase.py:77: UserWarning: To copy construct from a tensor, it is recommended to use sourceTensor.clone().detach() or sourceTensor.clone().detach().requires_grad_(True), rather than torch.tensor(sourceTensor).\n",
      "  self.rnn_rule = torch.tensor(rule).flatten().double()\n",
      "  3%|▋                     | 47/1500 [00:00<00:03, 464.92it/s]"
     ]
    },
    {
     "name": "stdout",
     "output_type": "stream",
     "text": [
      "Last loss: 0.3744\n",
      "Last train accuracy: 0.9087\n",
      "Last test accuracy: 0.9100\n",
      "Training NEW brain instance (WITH backprop)...\n",
      "INITIAL train accuracy: 0.5167\n",
      "INITIAL test accuracy: 0.5400\n",
      "Epoch 1 / 1 ...\n"
     ]
    },
    {
     "name": "stderr",
     "output_type": "stream",
     "text": [
      "100%|████████████████████| 1500/1500 [00:03<00:00, 471.44it/s]\n",
      "  0%|                                  | 0/50 [00:00<?, ?it/s]"
     ]
    },
    {
     "name": "stdout",
     "output_type": "stream",
     "text": [
      "\n",
      "Last loss: 0.6393\n",
      "Last train accuracy: 0.6700\n",
      "Last test accuracy: 0.6280\n",
      "\n",
      "\n",
      "Run 2 / 10...\n",
      "Meta-learning...\n"
     ]
    },
    {
     "name": "stderr",
     "output_type": "stream",
     "text": [
      "100%|█████████████████████████| 50/50 [01:37<00:00,  1.96s/it]\n",
      "  3%|▋                     | 43/1500 [00:00<00:03, 429.61it/s]"
     ]
    },
    {
     "name": "stdout",
     "output_type": "stream",
     "text": [
      "Last loss: 0.3552\n",
      "Last train accuracy: 0.9573\n",
      "Last test accuracy: 0.9540\n",
      "Training NEW brain instance (WITH backprop)...\n",
      "INITIAL train accuracy: 0.5407\n",
      "INITIAL test accuracy: 0.5240\n",
      "Epoch 1 / 1 ...\n"
     ]
    },
    {
     "name": "stderr",
     "output_type": "stream",
     "text": [
      "100%|████████████████████| 1500/1500 [00:03<00:00, 465.37it/s]\n",
      "  0%|                                  | 0/50 [00:00<?, ?it/s]"
     ]
    },
    {
     "name": "stdout",
     "output_type": "stream",
     "text": [
      "\n",
      "Last loss: 0.7093\n",
      "Last train accuracy: 0.6120\n",
      "Last test accuracy: 0.5400\n",
      "\n",
      "\n",
      "Run 3 / 10...\n",
      "Meta-learning...\n"
     ]
    },
    {
     "name": "stderr",
     "output_type": "stream",
     "text": [
      "100%|█████████████████████████| 50/50 [01:36<00:00,  1.94s/it]\n",
      "  2%|▌                     | 37/1500 [00:00<00:03, 369.53it/s]"
     ]
    },
    {
     "name": "stdout",
     "output_type": "stream",
     "text": [
      "Last loss: 0.3642\n",
      "Last train accuracy: 0.9480\n",
      "Last test accuracy: 0.9380\n",
      "Training NEW brain instance (WITH backprop)...\n",
      "INITIAL train accuracy: 0.6333\n",
      "INITIAL test accuracy: 0.6760\n",
      "Epoch 1 / 1 ...\n"
     ]
    },
    {
     "name": "stderr",
     "output_type": "stream",
     "text": [
      "100%|████████████████████| 1500/1500 [00:03<00:00, 468.93it/s]\n",
      "  0%|                                  | 0/50 [00:00<?, ?it/s]"
     ]
    },
    {
     "name": "stdout",
     "output_type": "stream",
     "text": [
      "\n",
      "Last loss: 0.5193\n",
      "Last train accuracy: 0.7913\n",
      "Last test accuracy: 0.8000\n",
      "\n",
      "\n",
      "Run 4 / 10...\n",
      "Meta-learning...\n"
     ]
    },
    {
     "name": "stderr",
     "output_type": "stream",
     "text": [
      "100%|█████████████████████████| 50/50 [01:38<00:00,  1.96s/it]\n",
      "  3%|▋                     | 50/1500 [00:00<00:02, 499.55it/s]"
     ]
    },
    {
     "name": "stdout",
     "output_type": "stream",
     "text": [
      "Last loss: 0.3563\n",
      "Last train accuracy: 0.9620\n",
      "Last test accuracy: 0.9500\n",
      "Training NEW brain instance (WITH backprop)...\n",
      "INITIAL train accuracy: 0.4900\n",
      "INITIAL test accuracy: 0.4740\n",
      "Epoch 1 / 1 ...\n"
     ]
    },
    {
     "name": "stderr",
     "output_type": "stream",
     "text": [
      "100%|████████████████████| 1500/1500 [00:03<00:00, 467.73it/s]\n",
      "  0%|                                  | 0/50 [00:00<?, ?it/s]"
     ]
    },
    {
     "name": "stdout",
     "output_type": "stream",
     "text": [
      "\n",
      "Last loss: 0.6713\n",
      "Last train accuracy: 0.6167\n",
      "Last test accuracy: 0.6000\n",
      "\n",
      "\n",
      "Run 5 / 10...\n",
      "Meta-learning...\n"
     ]
    },
    {
     "name": "stderr",
     "output_type": "stream",
     "text": [
      "100%|█████████████████████████| 50/50 [01:37<00:00,  1.95s/it]\n",
      "  4%|▊                     | 53/1500 [00:00<00:02, 529.52it/s]"
     ]
    },
    {
     "name": "stdout",
     "output_type": "stream",
     "text": [
      "Last loss: 0.3555\n",
      "Last train accuracy: 0.9380\n",
      "Last test accuracy: 0.9340\n",
      "Training NEW brain instance (WITH backprop)...\n",
      "INITIAL train accuracy: 0.5687\n",
      "INITIAL test accuracy: 0.5200\n",
      "Epoch 1 / 1 ...\n"
     ]
    },
    {
     "name": "stderr",
     "output_type": "stream",
     "text": [
      "100%|████████████████████| 1500/1500 [00:03<00:00, 496.50it/s]\n",
      "  0%|                                  | 0/50 [00:00<?, ?it/s]"
     ]
    },
    {
     "name": "stdout",
     "output_type": "stream",
     "text": [
      "\n",
      "Last loss: 0.5173\n",
      "Last train accuracy: 0.7947\n",
      "Last test accuracy: 0.7740\n",
      "\n",
      "\n",
      "Run 6 / 10...\n",
      "Meta-learning...\n"
     ]
    },
    {
     "name": "stderr",
     "output_type": "stream",
     "text": [
      "100%|█████████████████████████| 50/50 [01:38<00:00,  1.97s/it]\n",
      "  3%|▋                     | 45/1500 [00:00<00:03, 440.77it/s]"
     ]
    },
    {
     "name": "stdout",
     "output_type": "stream",
     "text": [
      "Last loss: 0.3545\n",
      "Last train accuracy: 0.9740\n",
      "Last test accuracy: 0.9500\n",
      "Training NEW brain instance (WITH backprop)...\n",
      "INITIAL train accuracy: 0.5847\n",
      "INITIAL test accuracy: 0.5540\n",
      "Epoch 1 / 1 ...\n"
     ]
    },
    {
     "name": "stderr",
     "output_type": "stream",
     "text": [
      "100%|████████████████████| 1500/1500 [00:02<00:00, 517.45it/s]\n",
      "  0%|                                  | 0/50 [00:00<?, ?it/s]"
     ]
    },
    {
     "name": "stdout",
     "output_type": "stream",
     "text": [
      "\n",
      "Last loss: 0.6393\n",
      "Last train accuracy: 0.6780\n",
      "Last test accuracy: 0.6160\n",
      "\n",
      "\n",
      "Run 7 / 10...\n",
      "Meta-learning...\n"
     ]
    },
    {
     "name": "stderr",
     "output_type": "stream",
     "text": [
      "100%|█████████████████████████| 50/50 [01:36<00:00,  1.92s/it]\n",
      "  3%|▋                     | 46/1500 [00:00<00:03, 455.03it/s]"
     ]
    },
    {
     "name": "stdout",
     "output_type": "stream",
     "text": [
      "Last loss: 0.3579\n",
      "Last train accuracy: 0.9440\n",
      "Last test accuracy: 0.9500\n",
      "Training NEW brain instance (WITH backprop)...\n",
      "INITIAL train accuracy: 0.5807\n",
      "INITIAL test accuracy: 0.6200\n",
      "Epoch 1 / 1 ...\n"
     ]
    },
    {
     "name": "stderr",
     "output_type": "stream",
     "text": [
      "100%|████████████████████| 1500/1500 [00:03<00:00, 492.75it/s]\n",
      "  0%|                                  | 0/50 [00:00<?, ?it/s]"
     ]
    },
    {
     "name": "stdout",
     "output_type": "stream",
     "text": [
      "\n",
      "Last loss: 0.6273\n",
      "Last train accuracy: 0.6587\n",
      "Last test accuracy: 0.6940\n",
      "\n",
      "\n",
      "Run 8 / 10...\n",
      "Meta-learning...\n"
     ]
    },
    {
     "name": "stderr",
     "output_type": "stream",
     "text": [
      "100%|█████████████████████████| 50/50 [01:36<00:00,  1.93s/it]\n",
      "  2%|▌                     | 37/1500 [00:00<00:03, 366.00it/s]"
     ]
    },
    {
     "name": "stdout",
     "output_type": "stream",
     "text": [
      "Last loss: 0.3479\n",
      "Last train accuracy: 0.9680\n",
      "Last test accuracy: 0.9520\n",
      "Training NEW brain instance (WITH backprop)...\n",
      "INITIAL train accuracy: 0.5233\n",
      "INITIAL test accuracy: 0.5100\n",
      "Epoch 1 / 1 ...\n"
     ]
    },
    {
     "name": "stderr",
     "output_type": "stream",
     "text": [
      "100%|████████████████████| 1500/1500 [00:03<00:00, 444.21it/s]\n",
      "  0%|                                  | 0/50 [00:00<?, ?it/s]"
     ]
    },
    {
     "name": "stdout",
     "output_type": "stream",
     "text": [
      "\n",
      "Last loss: 0.7353\n",
      "Last train accuracy: 0.5947\n",
      "Last test accuracy: 0.6560\n",
      "\n",
      "\n",
      "Run 9 / 10...\n",
      "Meta-learning...\n"
     ]
    },
    {
     "name": "stderr",
     "output_type": "stream",
     "text": [
      "100%|█████████████████████████| 50/50 [01:35<00:00,  1.91s/it]\n",
      "  3%|▋                     | 46/1500 [00:00<00:03, 459.58it/s]"
     ]
    },
    {
     "name": "stdout",
     "output_type": "stream",
     "text": [
      "Last loss: 0.3605\n",
      "Last train accuracy: 0.9487\n",
      "Last test accuracy: 0.9640\n",
      "Training NEW brain instance (WITH backprop)...\n",
      "INITIAL train accuracy: 0.5593\n",
      "INITIAL test accuracy: 0.5460\n",
      "Epoch 1 / 1 ...\n"
     ]
    },
    {
     "name": "stderr",
     "output_type": "stream",
     "text": [
      "100%|████████████████████| 1500/1500 [00:03<00:00, 468.03it/s]\n",
      "  0%|                                  | 0/50 [00:00<?, ?it/s]"
     ]
    },
    {
     "name": "stdout",
     "output_type": "stream",
     "text": [
      "\n",
      "Last loss: 0.6573\n",
      "Last train accuracy: 0.6307\n",
      "Last test accuracy: 0.6320\n",
      "\n",
      "\n",
      "Run 10 / 10...\n",
      "Meta-learning...\n"
     ]
    },
    {
     "name": "stderr",
     "output_type": "stream",
     "text": [
      "100%|█████████████████████████| 50/50 [01:37<00:00,  1.95s/it]\n",
      "  3%|▋                     | 48/1500 [00:00<00:03, 479.56it/s]"
     ]
    },
    {
     "name": "stdout",
     "output_type": "stream",
     "text": [
      "Last loss: 0.3569\n",
      "Last train accuracy: 0.9580\n",
      "Last test accuracy: 0.9420\n",
      "Training NEW brain instance (WITH backprop)...\n",
      "INITIAL train accuracy: 0.4753\n",
      "INITIAL test accuracy: 0.4620\n",
      "Epoch 1 / 1 ...\n"
     ]
    },
    {
     "name": "stderr",
     "output_type": "stream",
     "text": [
      "100%|████████████████████| 1500/1500 [00:03<00:00, 487.44it/s]"
     ]
    },
    {
     "name": "stdout",
     "output_type": "stream",
     "text": [
      "\n",
      "Last loss: 0.6393\n",
      "Last train accuracy: 0.6773\n",
      "Last test accuracy: 0.6400\n",
      "\n"
     ]
    },
    {
     "name": "stderr",
     "output_type": "stream",
     "text": [
      "\n"
     ]
    }
   ],
   "source": [
    "# Evaluate model.\n",
    "print('==== Original RNN (very different from all the rest) ====')\n",
    "stats_rnn_up, stats_rnn_down = evaluate_up_down(\n",
    "    brain_rnn_up_fact, brain_rnn_down_fact, n_up, n_down, dataset=dataset,\n",
    "    num_runs=num_runs, num_rule_epochs=num_rule_epochs,\n",
    "    num_epochs_upstream=num_epochs_upstream, num_epochs_downstream=num_epochs_downstream)"
   ]
  },
  {
   "cell_type": "code",
   "execution_count": 5,
   "metadata": {},
   "outputs": [
    {
     "name": "stdout",
     "output_type": "stream",
     "text": [
      "Saving figure to: figs/comparing_transfer_rnn_halfspace\n"
     ]
    },
    {
     "data": {
      "image/png": "[encoded data removed]",
      "text/plain": [
       "<Figure size 720x288 with 2 Axes>"
      ]
     },
     "metadata": {},
     "output_type": "display_data"
    },
    {
     "name": "stdout",
     "output_type": "stream",
     "text": [
      "Mean essential stats across all runs:\n",
      "Last upstream loss: 0.3583\n",
      "Last upstream train accuracy: 0.9507\n",
      "Last upstream test accuracy: 0.9444\n",
      "Last downstream loss: 0.6355\n",
      "Last downstream train accuracy: 0.6724\n",
      "Last downstream test accuracy: 0.6580\n",
      "\n"
     ]
    }
   ],
   "source": [
    "# Plot aggregated stats.\n",
    "agg_stats_rnn_up = convert_multi_stats_uncertainty(stats_rnn_up)\n",
    "agg_stats_rnn_down = convert_multi_stats_uncertainty(stats_rnn_down)\n",
    "plot_curves(agg_stats_rnn_up, agg_stats_rnn_down,\n",
    "            '[RNN] Upstream meta-learning on ' + dataset,\n",
    "            '[RNN] Downstream training on ' + dataset,\n",
    "            'figs/comparing_transfer_rnn_' + dataset)"
   ]
  },
  {
   "cell_type": "markdown",
   "metadata": {},
   "source": [
    "## Evaluate all table-based feed-forward networks."
   ]
  },
  {
   "cell_type": "code",
   "execution_count": 6,
   "metadata": {},
   "outputs": [],
   "source": [
    "# Instantiate brain factories.\n",
    "brain_prepost_up_fact = lambda: FFLocalNet(\n",
    "    n_up, m, l, w, p, cap, hl_rules=TableRule_PrePost(),\n",
    "    output_rule=TableRule_PrePost(), options=opts_up, update_scheme=scheme)\n",
    "brain_prepost_down_fact = lambda: FFLocalNet(\n",
    "    n_down, m, l, w, p, cap, hl_rules=TableRule_PrePost(),\n",
    "    output_rule=TableRule_PrePost(), options=opts_down, update_scheme=scheme)\n",
    "brain_prepostcount_up_fact = lambda: FFLocalNet(\n",
    "    n_up, m, l, w, p, cap, hl_rules=TableRule_PrePostCount(),\n",
    "    output_rule=TableRule_PrePostCount(), options=opts_up, update_scheme=scheme)\n",
    "brain_prepostcount_down_fact = lambda: FFLocalNet(\n",
    "    n_down, m, l, w, p, cap, hl_rules=TableRule_PrePostCount(),\n",
    "    output_rule=TableRule_PrePostCount(), options=opts_down, update_scheme=scheme)\n",
    "brain_prepostpercent_up_fact = lambda: FFLocalNet(\n",
    "    n_up, m, l, w, p, cap, hl_rules=TableRule_PrePostPercent(),\n",
    "    output_rule=TableRule_PrePostPercent(), options=opts_up, update_scheme=scheme)\n",
    "brain_prepostpercent_down_fact = lambda: FFLocalNet(\n",
    "    n_down, m, l, w, p, cap, hl_rules=TableRule_PrePostPercent(),\n",
    "    output_rule=TableRule_PrePostPercent(), options=opts_down, update_scheme=scheme)\n",
    "brain_postcount_up_fact = lambda: FFLocalNet(\n",
    "    n_up, m, l, w, p, cap, hl_rules=TableRule_PostCount(),\n",
    "    output_rule=TableRule_PostCount(), options=opts_up, update_scheme=scheme)\n",
    "brain_postcount_down_fact = lambda: FFLocalNet(\n",
    "    n_down, m, l, w, p, cap, hl_rules=TableRule_PostCount(),\n",
    "    output_rule=TableRule_PostCount(), options=opts_down, update_scheme=scheme)"
   ]
  },
  {
   "cell_type": "code",
   "execution_count": 7,
   "metadata": {
    "scrolled": true
   },
   "outputs": [
    {
     "name": "stderr",
     "output_type": "stream",
     "text": [
      "\r",
      "  0%|                                  | 0/50 [00:00<?, ?it/s]"
     ]
    },
    {
     "name": "stdout",
     "output_type": "stream",
     "text": [
      "==== Interpretation: Pre and Post ====\n",
      "\n",
      "Run 1 / 10...\n",
      "Meta-learning...\n"
     ]
    },
    {
     "name": "stderr",
     "output_type": "stream",
     "text": [
      "100%|█████████████████████████| 50/50 [00:57<00:00,  1.15s/it]\n",
      "  4%|▊                     | 56/1500 [00:00<00:02, 559.49it/s]"
     ]
    },
    {
     "name": "stdout",
     "output_type": "stream",
     "text": [
      "Last loss: 0.3523\n",
      "Last train accuracy: 0.9707\n",
      "Last test accuracy: 0.9500\n",
      "Training NEW brain instance (WITH backprop)...\n",
      "INITIAL train accuracy: 0.5087\n",
      "INITIAL test accuracy: 0.5100\n",
      "Epoch 1 / 1 ...\n"
     ]
    },
    {
     "name": "stderr",
     "output_type": "stream",
     "text": [
      "100%|████████████████████| 1500/1500 [00:01<00:00, 759.43it/s]\n",
      "  0%|                                  | 0/50 [00:00<?, ?it/s]"
     ]
    },
    {
     "name": "stdout",
     "output_type": "stream",
     "text": [
      "\n",
      "Last loss: 0.5713\n",
      "Last train accuracy: 0.7807\n",
      "Last test accuracy: 0.7840\n",
      "\n",
      "\n",
      "Run 2 / 10...\n",
      "Meta-learning...\n"
     ]
    },
    {
     "name": "stderr",
     "output_type": "stream",
     "text": [
      "100%|█████████████████████████| 50/50 [00:58<00:00,  1.16s/it]\n",
      "  5%|█                     | 69/1500 [00:00<00:02, 682.55it/s]"
     ]
    },
    {
     "name": "stdout",
     "output_type": "stream",
     "text": [
      "Last loss: 0.3565\n",
      "Last train accuracy: 0.9660\n",
      "Last test accuracy: 0.9620\n",
      "Training NEW brain instance (WITH backprop)...\n",
      "INITIAL train accuracy: 0.4940\n",
      "INITIAL test accuracy: 0.4820\n",
      "Epoch 1 / 1 ...\n"
     ]
    },
    {
     "name": "stderr",
     "output_type": "stream",
     "text": [
      "100%|████████████████████| 1500/1500 [00:01<00:00, 787.73it/s]\n",
      "  0%|                                  | 0/50 [00:00<?, ?it/s]"
     ]
    },
    {
     "name": "stdout",
     "output_type": "stream",
     "text": [
      "\n",
      "Last loss: 0.4798\n",
      "Last train accuracy: 0.8253\n",
      "Last test accuracy: 0.7820\n",
      "\n",
      "\n",
      "Run 3 / 10...\n",
      "Meta-learning...\n"
     ]
    },
    {
     "name": "stderr",
     "output_type": "stream",
     "text": [
      "100%|█████████████████████████| 50/50 [00:59<00:00,  1.19s/it]\n",
      "  5%|█▏                    | 77/1500 [00:00<00:01, 769.29it/s]"
     ]
    },
    {
     "name": "stdout",
     "output_type": "stream",
     "text": [
      "Last loss: 0.3577\n",
      "Last train accuracy: 0.9667\n",
      "Last test accuracy: 0.9620\n",
      "Training NEW brain instance (WITH backprop)...\n",
      "INITIAL train accuracy: 0.5040\n",
      "INITIAL test accuracy: 0.5040\n",
      "Epoch 1 / 1 ...\n"
     ]
    },
    {
     "name": "stderr",
     "output_type": "stream",
     "text": [
      "100%|████████████████████| 1500/1500 [00:02<00:00, 742.08it/s]\n",
      "  0%|                                  | 0/50 [00:00<?, ?it/s]"
     ]
    },
    {
     "name": "stdout",
     "output_type": "stream",
     "text": [
      "\n",
      "Last loss: 0.5063\n",
      "Last train accuracy: 0.8040\n",
      "Last test accuracy: 0.8080\n",
      "\n",
      "\n",
      "Run 4 / 10...\n",
      "Meta-learning...\n"
     ]
    },
    {
     "name": "stderr",
     "output_type": "stream",
     "text": [
      "100%|█████████████████████████| 50/50 [00:58<00:00,  1.17s/it]\n",
      "  5%|█                     | 75/1500 [00:00<00:01, 741.90it/s]"
     ]
    },
    {
     "name": "stdout",
     "output_type": "stream",
     "text": [
      "Last loss: 0.3442\n",
      "Last train accuracy: 0.9833\n",
      "Last test accuracy: 0.9680\n",
      "Training NEW brain instance (WITH backprop)...\n",
      "INITIAL train accuracy: 0.4833\n",
      "INITIAL test accuracy: 0.4880\n",
      "Epoch 1 / 1 ...\n"
     ]
    },
    {
     "name": "stderr",
     "output_type": "stream",
     "text": [
      "100%|████████████████████| 1500/1500 [00:01<00:00, 775.24it/s]\n",
      "  0%|                                  | 0/50 [00:00<?, ?it/s]"
     ]
    },
    {
     "name": "stdout",
     "output_type": "stream",
     "text": [
      "\n",
      "Last loss: 0.4560\n",
      "Last train accuracy: 0.8220\n",
      "Last test accuracy: 0.8560\n",
      "\n",
      "\n",
      "Run 5 / 10...\n",
      "Meta-learning...\n"
     ]
    },
    {
     "name": "stderr",
     "output_type": "stream",
     "text": [
      "100%|█████████████████████████| 50/50 [00:58<00:00,  1.18s/it]\n",
      "  5%|█                     | 76/1500 [00:00<00:01, 759.31it/s]"
     ]
    },
    {
     "name": "stdout",
     "output_type": "stream",
     "text": [
      "Last loss: 0.3504\n",
      "Last train accuracy: 0.9713\n",
      "Last test accuracy: 0.9580\n",
      "Training NEW brain instance (WITH backprop)...\n",
      "INITIAL train accuracy: 0.5073\n",
      "INITIAL test accuracy: 0.4560\n",
      "Epoch 1 / 1 ...\n"
     ]
    },
    {
     "name": "stderr",
     "output_type": "stream",
     "text": [
      "100%|████████████████████| 1500/1500 [00:01<00:00, 811.35it/s]\n",
      "  0%|                                  | 0/50 [00:00<?, ?it/s]"
     ]
    },
    {
     "name": "stdout",
     "output_type": "stream",
     "text": [
      "\n",
      "Last loss: 0.5033\n",
      "Last train accuracy: 0.7847\n",
      "Last test accuracy: 0.7800\n",
      "\n",
      "\n",
      "Run 6 / 10...\n",
      "Meta-learning...\n"
     ]
    },
    {
     "name": "stderr",
     "output_type": "stream",
     "text": [
      "100%|█████████████████████████| 50/50 [00:58<00:00,  1.17s/it]\n",
      "  4%|▉                     | 66/1500 [00:00<00:02, 659.40it/s]"
     ]
    },
    {
     "name": "stdout",
     "output_type": "stream",
     "text": [
      "Last loss: 0.6931\n",
      "Last train accuracy: 0.4813\n",
      "Last test accuracy: 0.5160\n",
      "Training NEW brain instance (WITH backprop)...\n",
      "INITIAL train accuracy: 0.4773\n",
      "INITIAL test accuracy: 0.5040\n",
      "Epoch 1 / 1 ...\n"
     ]
    },
    {
     "name": "stderr",
     "output_type": "stream",
     "text": [
      "100%|████████████████████| 1500/1500 [00:01<00:00, 803.19it/s]\n",
      "  0%|                                  | 0/50 [00:00<?, ?it/s]"
     ]
    },
    {
     "name": "stdout",
     "output_type": "stream",
     "text": [
      "\n",
      "Last loss: 0.6931\n",
      "Last train accuracy: 0.4773\n",
      "Last test accuracy: 0.5040\n",
      "\n",
      "\n",
      "Run 7 / 10...\n",
      "Meta-learning...\n"
     ]
    },
    {
     "name": "stderr",
     "output_type": "stream",
     "text": [
      "100%|█████████████████████████| 50/50 [00:58<00:00,  1.17s/it]\n",
      "  5%|█                     | 71/1500 [00:00<00:02, 709.35it/s]"
     ]
    },
    {
     "name": "stdout",
     "output_type": "stream",
     "text": [
      "Last loss: 0.3537\n",
      "Last train accuracy: 0.9533\n",
      "Last test accuracy: 0.9500\n",
      "Training NEW brain instance (WITH backprop)...\n",
      "INITIAL train accuracy: 0.5147\n",
      "INITIAL test accuracy: 0.5520\n",
      "Epoch 1 / 1 ...\n"
     ]
    },
    {
     "name": "stderr",
     "output_type": "stream",
     "text": [
      "100%|████████████████████| 1500/1500 [00:02<00:00, 700.31it/s]\n",
      "  0%|                                  | 0/50 [00:00<?, ?it/s]"
     ]
    },
    {
     "name": "stdout",
     "output_type": "stream",
     "text": [
      "\n",
      "Last loss: 0.5248\n",
      "Last train accuracy: 0.8093\n",
      "Last test accuracy: 0.7340\n",
      "\n",
      "\n",
      "Run 8 / 10...\n",
      "Meta-learning...\n"
     ]
    },
    {
     "name": "stderr",
     "output_type": "stream",
     "text": [
      "100%|█████████████████████████| 50/50 [00:58<00:00,  1.16s/it]\n",
      "  5%|█                     | 73/1500 [00:00<00:01, 729.34it/s]"
     ]
    },
    {
     "name": "stdout",
     "output_type": "stream",
     "text": [
      "Last loss: 0.3573\n",
      "Last train accuracy: 0.9613\n",
      "Last test accuracy: 0.9660\n",
      "Training NEW brain instance (WITH backprop)...\n",
      "INITIAL train accuracy: 0.5040\n",
      "INITIAL test accuracy: 0.5300\n",
      "Epoch 1 / 1 ...\n"
     ]
    },
    {
     "name": "stderr",
     "output_type": "stream",
     "text": [
      "100%|████████████████████| 1500/1500 [00:02<00:00, 742.01it/s]\n",
      "  0%|                                  | 0/50 [00:00<?, ?it/s]"
     ]
    },
    {
     "name": "stdout",
     "output_type": "stream",
     "text": [
      "\n",
      "Last loss: 0.5768\n",
      "Last train accuracy: 0.7613\n",
      "Last test accuracy: 0.7260\n",
      "\n",
      "\n",
      "Run 9 / 10...\n",
      "Meta-learning...\n"
     ]
    },
    {
     "name": "stderr",
     "output_type": "stream",
     "text": [
      "100%|█████████████████████████| 50/50 [00:58<00:00,  1.16s/it]\n",
      "  5%|█                     | 74/1500 [00:00<00:01, 739.33it/s]"
     ]
    },
    {
     "name": "stdout",
     "output_type": "stream",
     "text": [
      "Last loss: 0.3531\n",
      "Last train accuracy: 0.9600\n",
      "Last test accuracy: 0.9660\n",
      "Training NEW brain instance (WITH backprop)...\n",
      "INITIAL train accuracy: 0.4893\n",
      "INITIAL test accuracy: 0.4840\n",
      "Epoch 1 / 1 ...\n"
     ]
    },
    {
     "name": "stderr",
     "output_type": "stream",
     "text": [
      "100%|████████████████████| 1500/1500 [00:02<00:00, 731.01it/s]\n",
      "  0%|                                  | 0/50 [00:00<?, ?it/s]"
     ]
    },
    {
     "name": "stdout",
     "output_type": "stream",
     "text": [
      "\n",
      "Last loss: 0.4633\n",
      "Last train accuracy: 0.8587\n",
      "Last test accuracy: 0.8140\n",
      "\n",
      "\n",
      "Run 10 / 10...\n",
      "Meta-learning...\n"
     ]
    },
    {
     "name": "stderr",
     "output_type": "stream",
     "text": [
      "100%|█████████████████████████| 50/50 [00:57<00:00,  1.14s/it]\n",
      "  5%|▉                     | 68/1500 [00:00<00:02, 672.66it/s]"
     ]
    },
    {
     "name": "stdout",
     "output_type": "stream",
     "text": [
      "Last loss: 0.3540\n",
      "Last train accuracy: 0.9653\n",
      "Last test accuracy: 0.9280\n",
      "Training NEW brain instance (WITH backprop)...\n",
      "INITIAL train accuracy: 0.4880\n",
      "INITIAL test accuracy: 0.5060\n",
      "Epoch 1 / 1 ...\n"
     ]
    },
    {
     "name": "stderr",
     "output_type": "stream",
     "text": [
      "100%|████████████████████| 1500/1500 [00:02<00:00, 738.60it/s]\n",
      "  0%|                                  | 0/50 [00:00<?, ?it/s]"
     ]
    },
    {
     "name": "stdout",
     "output_type": "stream",
     "text": [
      "\n",
      "Last loss: 0.5038\n",
      "Last train accuracy: 0.8227\n",
      "Last test accuracy: 0.8120\n",
      "\n",
      "==== Interpretation: Pre and Post and Incoming Count ====\n",
      "\n",
      "Run 1 / 10...\n",
      "Meta-learning...\n"
     ]
    },
    {
     "name": "stderr",
     "output_type": "stream",
     "text": [
      "100%|█████████████████████████| 50/50 [01:05<00:00,  1.31s/it]\n",
      "  5%|█                     | 71/1500 [00:00<00:02, 705.79it/s]"
     ]
    },
    {
     "name": "stdout",
     "output_type": "stream",
     "text": [
      "Last loss: 0.3588\n",
      "Last train accuracy: 0.9780\n",
      "Last test accuracy: 0.9660\n",
      "Training NEW brain instance (WITH backprop)...\n",
      "INITIAL train accuracy: 0.5153\n",
      "INITIAL test accuracy: 0.4880\n",
      "Epoch 1 / 1 ...\n"
     ]
    },
    {
     "name": "stderr",
     "output_type": "stream",
     "text": [
      "100%|████████████████████| 1500/1500 [00:02<00:00, 695.95it/s]\n",
      "  0%|                                  | 0/50 [00:00<?, ?it/s]"
     ]
    },
    {
     "name": "stdout",
     "output_type": "stream",
     "text": [
      "\n",
      "Last loss: 0.4773\n",
      "Last train accuracy: 0.8427\n",
      "Last test accuracy: 0.8220\n",
      "\n",
      "\n",
      "Run 2 / 10...\n",
      "Meta-learning...\n"
     ]
    },
    {
     "name": "stderr",
     "output_type": "stream",
     "text": [
      "100%|█████████████████████████| 50/50 [01:05<00:00,  1.31s/it]\n",
      "  5%|█                     | 70/1500 [00:00<00:02, 699.36it/s]"
     ]
    },
    {
     "name": "stdout",
     "output_type": "stream",
     "text": [
      "Last loss: 0.3670\n",
      "Last train accuracy: 0.9720\n",
      "Last test accuracy: 0.9660\n",
      "Training NEW brain instance (WITH backprop)...\n",
      "INITIAL train accuracy: 0.5187\n",
      "INITIAL test accuracy: 0.5040\n",
      "Epoch 1 / 1 ...\n"
     ]
    },
    {
     "name": "stderr",
     "output_type": "stream",
     "text": [
      "100%|████████████████████| 1500/1500 [00:02<00:00, 747.34it/s]\n",
      "  0%|                                  | 0/50 [00:00<?, ?it/s]"
     ]
    },
    {
     "name": "stdout",
     "output_type": "stream",
     "text": [
      "\n",
      "Last loss: 0.4354\n",
      "Last train accuracy: 0.8720\n",
      "Last test accuracy: 0.8820\n",
      "\n",
      "\n",
      "Run 3 / 10...\n",
      "Meta-learning...\n"
     ]
    },
    {
     "name": "stderr",
     "output_type": "stream",
     "text": [
      "100%|█████████████████████████| 50/50 [01:06<00:00,  1.32s/it]\n",
      "  5%|█                     | 75/1500 [00:00<00:01, 749.32it/s]"
     ]
    },
    {
     "name": "stdout",
     "output_type": "stream",
     "text": [
      "Last loss: 0.3704\n",
      "Last train accuracy: 0.9613\n",
      "Last test accuracy: 0.9400\n",
      "Training NEW brain instance (WITH backprop)...\n",
      "INITIAL train accuracy: 0.5173\n",
      "INITIAL test accuracy: 0.5120\n",
      "Epoch 1 / 1 ...\n"
     ]
    },
    {
     "name": "stderr",
     "output_type": "stream",
     "text": [
      "100%|████████████████████| 1500/1500 [00:02<00:00, 743.54it/s]\n",
      "  0%|                                  | 0/50 [00:00<?, ?it/s]"
     ]
    },
    {
     "name": "stdout",
     "output_type": "stream",
     "text": [
      "\n",
      "Last loss: 0.4510\n",
      "Last train accuracy: 0.8507\n",
      "Last test accuracy: 0.8260\n",
      "\n",
      "\n",
      "Run 4 / 10...\n",
      "Meta-learning...\n"
     ]
    },
    {
     "name": "stderr",
     "output_type": "stream",
     "text": [
      "100%|█████████████████████████| 50/50 [01:05<00:00,  1.32s/it]\n",
      "  4%|▉                     | 63/1500 [00:00<00:02, 623.19it/s]"
     ]
    },
    {
     "name": "stdout",
     "output_type": "stream",
     "text": [
      "Last loss: 0.3605\n",
      "Last train accuracy: 0.9433\n",
      "Last test accuracy: 0.9380\n",
      "Training NEW brain instance (WITH backprop)...\n",
      "INITIAL train accuracy: 0.4760\n",
      "INITIAL test accuracy: 0.5280\n",
      "Epoch 1 / 1 ...\n"
     ]
    },
    {
     "name": "stderr",
     "output_type": "stream",
     "text": [
      "100%|████████████████████| 1500/1500 [00:02<00:00, 732.01it/s]\n",
      "  0%|                                  | 0/50 [00:00<?, ?it/s]"
     ]
    },
    {
     "name": "stdout",
     "output_type": "stream",
     "text": [
      "\n",
      "Last loss: 0.4779\n",
      "Last train accuracy: 0.8453\n",
      "Last test accuracy: 0.8380\n",
      "\n",
      "\n",
      "Run 5 / 10...\n",
      "Meta-learning...\n"
     ]
    },
    {
     "name": "stderr",
     "output_type": "stream",
     "text": [
      "100%|█████████████████████████| 50/50 [01:05<00:00,  1.30s/it]\n",
      "  4%|▉                     | 67/1500 [00:00<00:02, 669.30it/s]"
     ]
    },
    {
     "name": "stdout",
     "output_type": "stream",
     "text": [
      "Last loss: 0.3679\n",
      "Last train accuracy: 0.9727\n",
      "Last test accuracy: 0.9620\n",
      "Training NEW brain instance (WITH backprop)...\n",
      "INITIAL train accuracy: 0.5213\n",
      "INITIAL test accuracy: 0.5100\n",
      "Epoch 1 / 1 ...\n"
     ]
    },
    {
     "name": "stderr",
     "output_type": "stream",
     "text": [
      "100%|████████████████████| 1500/1500 [00:01<00:00, 764.96it/s]\n",
      "  0%|                                  | 0/50 [00:00<?, ?it/s]"
     ]
    },
    {
     "name": "stdout",
     "output_type": "stream",
     "text": [
      "\n",
      "Last loss: 0.4992\n",
      "Last train accuracy: 0.8307\n",
      "Last test accuracy: 0.8060\n",
      "\n",
      "\n",
      "Run 6 / 10...\n",
      "Meta-learning...\n"
     ]
    },
    {
     "name": "stderr",
     "output_type": "stream",
     "text": [
      "100%|█████████████████████████| 50/50 [01:04<00:00,  1.29s/it]\n",
      "  5%|█                     | 76/1500 [00:00<00:01, 759.36it/s]"
     ]
    },
    {
     "name": "stdout",
     "output_type": "stream",
     "text": [
      "Last loss: 0.6931\n",
      "Last train accuracy: 0.5033\n",
      "Last test accuracy: 0.5120\n",
      "Training NEW brain instance (WITH backprop)...\n",
      "INITIAL train accuracy: 0.5193\n",
      "INITIAL test accuracy: 0.5460\n",
      "Epoch 1 / 1 ...\n"
     ]
    },
    {
     "name": "stderr",
     "output_type": "stream",
     "text": [
      "100%|████████████████████| 1500/1500 [00:01<00:00, 764.80it/s]\n",
      "  0%|                                  | 0/50 [00:00<?, ?it/s]"
     ]
    },
    {
     "name": "stdout",
     "output_type": "stream",
     "text": [
      "\n",
      "Last loss: 0.6931\n",
      "Last train accuracy: 0.5193\n",
      "Last test accuracy: 0.4940\n",
      "\n",
      "\n",
      "Run 7 / 10...\n",
      "Meta-learning...\n"
     ]
    },
    {
     "name": "stderr",
     "output_type": "stream",
     "text": [
      "100%|█████████████████████████| 50/50 [01:04<00:00,  1.29s/it]\n",
      "  5%|█                     | 70/1500 [00:00<00:02, 699.41it/s]"
     ]
    },
    {
     "name": "stdout",
     "output_type": "stream",
     "text": [
      "Last loss: 0.6931\n",
      "Last train accuracy: 0.3807\n",
      "Last test accuracy: 0.3800\n",
      "Training NEW brain instance (WITH backprop)...\n",
      "INITIAL train accuracy: 0.4993\n",
      "INITIAL test accuracy: 0.5080\n",
      "Epoch 1 / 1 ...\n"
     ]
    },
    {
     "name": "stderr",
     "output_type": "stream",
     "text": [
      "100%|████████████████████| 1500/1500 [00:01<00:00, 755.68it/s]\n",
      "  0%|                                  | 0/50 [00:00<?, ?it/s]"
     ]
    },
    {
     "name": "stdout",
     "output_type": "stream",
     "text": [
      "\n",
      "Last loss: 0.6931\n",
      "Last train accuracy: 0.4920\n",
      "Last test accuracy: 0.4900\n",
      "\n",
      "\n",
      "Run 8 / 10...\n",
      "Meta-learning...\n"
     ]
    },
    {
     "name": "stderr",
     "output_type": "stream",
     "text": [
      "100%|█████████████████████████| 50/50 [01:06<00:00,  1.33s/it]\n",
      "  4%|▉                     | 67/1500 [00:00<00:02, 662.76it/s]"
     ]
    },
    {
     "name": "stdout",
     "output_type": "stream",
     "text": [
      "Last loss: 0.3641\n",
      "Last train accuracy: 0.9333\n",
      "Last test accuracy: 0.9380\n",
      "Training NEW brain instance (WITH backprop)...\n",
      "INITIAL train accuracy: 0.4900\n",
      "INITIAL test accuracy: 0.4860\n",
      "Epoch 1 / 1 ...\n"
     ]
    },
    {
     "name": "stderr",
     "output_type": "stream",
     "text": [
      "100%|████████████████████| 1500/1500 [00:01<00:00, 751.75it/s]\n",
      "  0%|                                  | 0/50 [00:00<?, ?it/s]"
     ]
    },
    {
     "name": "stdout",
     "output_type": "stream",
     "text": [
      "\n",
      "Last loss: 0.5410\n",
      "Last train accuracy: 0.7947\n",
      "Last test accuracy: 0.7820\n",
      "\n",
      "\n",
      "Run 9 / 10...\n",
      "Meta-learning...\n"
     ]
    },
    {
     "name": "stderr",
     "output_type": "stream",
     "text": [
      "100%|█████████████████████████| 50/50 [01:05<00:00,  1.31s/it]\n",
      "  4%|▉                     | 63/1500 [00:00<00:02, 623.20it/s]"
     ]
    },
    {
     "name": "stdout",
     "output_type": "stream",
     "text": [
      "Last loss: 0.3542\n",
      "Last train accuracy: 0.9787\n",
      "Last test accuracy: 0.9680\n",
      "Training NEW brain instance (WITH backprop)...\n",
      "INITIAL train accuracy: 0.4980\n",
      "INITIAL test accuracy: 0.4680\n",
      "Epoch 1 / 1 ...\n"
     ]
    },
    {
     "name": "stderr",
     "output_type": "stream",
     "text": [
      "100%|████████████████████| 1500/1500 [00:01<00:00, 751.50it/s]\n",
      "  0%|                                  | 0/50 [00:00<?, ?it/s]"
     ]
    },
    {
     "name": "stdout",
     "output_type": "stream",
     "text": [
      "\n",
      "Last loss: 0.4596\n",
      "Last train accuracy: 0.8553\n",
      "Last test accuracy: 0.8380\n",
      "\n",
      "\n",
      "Run 10 / 10...\n",
      "Meta-learning...\n"
     ]
    },
    {
     "name": "stderr",
     "output_type": "stream",
     "text": [
      "100%|█████████████████████████| 50/50 [01:06<00:00,  1.33s/it]\n",
      "  4%|▉                     | 66/1500 [00:00<00:02, 659.40it/s]"
     ]
    },
    {
     "name": "stdout",
     "output_type": "stream",
     "text": [
      "Last loss: 0.3629\n",
      "Last train accuracy: 0.9687\n",
      "Last test accuracy: 0.9660\n",
      "Training NEW brain instance (WITH backprop)...\n",
      "INITIAL train accuracy: 0.4927\n",
      "INITIAL test accuracy: 0.4420\n",
      "Epoch 1 / 1 ...\n"
     ]
    },
    {
     "name": "stderr",
     "output_type": "stream",
     "text": [
      "100%|████████████████████| 1500/1500 [00:01<00:00, 764.98it/s]\n",
      "  0%|                                  | 0/50 [00:00<?, ?it/s]"
     ]
    },
    {
     "name": "stdout",
     "output_type": "stream",
     "text": [
      "\n",
      "Last loss: 0.4573\n",
      "Last train accuracy: 0.8413\n",
      "Last test accuracy: 0.8140\n",
      "\n",
      "==== Interpretation: Pre and Post and Binned Incoming Fraction ====\n",
      "\n",
      "Run 1 / 10...\n",
      "Meta-learning...\n"
     ]
    },
    {
     "name": "stderr",
     "output_type": "stream",
     "text": [
      "100%|█████████████████████████| 50/50 [01:13<00:00,  1.46s/it]\n",
      "  4%|▉                     | 67/1500 [00:00<00:02, 666.04it/s]"
     ]
    },
    {
     "name": "stdout",
     "output_type": "stream",
     "text": [
      "Last loss: 0.3657\n",
      "Last train accuracy: 0.9593\n",
      "Last test accuracy: 0.9460\n",
      "Training NEW brain instance (WITH backprop)...\n",
      "INITIAL train accuracy: 0.5067\n",
      "INITIAL test accuracy: 0.5280\n",
      "Epoch 1 / 1 ...\n"
     ]
    },
    {
     "name": "stderr",
     "output_type": "stream",
     "text": [
      "100%|████████████████████| 1500/1500 [00:02<00:00, 711.30it/s]\n",
      "  0%|                                  | 0/50 [00:00<?, ?it/s]"
     ]
    },
    {
     "name": "stdout",
     "output_type": "stream",
     "text": [
      "\n",
      "Last loss: 0.4814\n",
      "Last train accuracy: 0.8340\n",
      "Last test accuracy: 0.8300\n",
      "\n",
      "\n",
      "Run 2 / 10...\n",
      "Meta-learning...\n"
     ]
    },
    {
     "name": "stderr",
     "output_type": "stream",
     "text": [
      "100%|█████████████████████████| 50/50 [01:11<00:00,  1.42s/it]\n",
      "  4%|▉                     | 64/1500 [00:00<00:02, 639.42it/s]"
     ]
    },
    {
     "name": "stdout",
     "output_type": "stream",
     "text": [
      "Last loss: 0.6931\n",
      "Last train accuracy: 0.4973\n",
      "Last test accuracy: 0.4560\n",
      "Training NEW brain instance (WITH backprop)...\n",
      "INITIAL train accuracy: 0.4867\n",
      "INITIAL test accuracy: 0.4860\n",
      "Epoch 1 / 1 ...\n"
     ]
    },
    {
     "name": "stderr",
     "output_type": "stream",
     "text": [
      "100%|████████████████████| 1500/1500 [00:02<00:00, 695.49it/s]\n",
      "  0%|                                  | 0/50 [00:00<?, ?it/s]"
     ]
    },
    {
     "name": "stdout",
     "output_type": "stream",
     "text": [
      "\n",
      "Last loss: 0.6931\n",
      "Last train accuracy: 0.4900\n",
      "Last test accuracy: 0.5100\n",
      "\n",
      "\n",
      "Run 3 / 10...\n",
      "Meta-learning...\n"
     ]
    },
    {
     "name": "stderr",
     "output_type": "stream",
     "text": [
      "100%|█████████████████████████| 50/50 [01:11<00:00,  1.44s/it]\n",
      "  5%|▉                     | 68/1500 [00:00<00:02, 679.36it/s]"
     ]
    },
    {
     "name": "stdout",
     "output_type": "stream",
     "text": [
      "Last loss: 0.3632\n",
      "Last train accuracy: 0.9613\n",
      "Last test accuracy: 0.9600\n",
      "Training NEW brain instance (WITH backprop)...\n",
      "INITIAL train accuracy: 0.5093\n",
      "INITIAL test accuracy: 0.4740\n",
      "Epoch 1 / 1 ...\n"
     ]
    },
    {
     "name": "stderr",
     "output_type": "stream",
     "text": [
      "100%|████████████████████| 1500/1500 [00:02<00:00, 703.84it/s]\n",
      "  0%|                                  | 0/50 [00:00<?, ?it/s]"
     ]
    },
    {
     "name": "stdout",
     "output_type": "stream",
     "text": [
      "\n",
      "Last loss: 0.4979\n",
      "Last train accuracy: 0.8240\n",
      "Last test accuracy: 0.8100\n",
      "\n",
      "\n",
      "Run 4 / 10...\n",
      "Meta-learning...\n"
     ]
    },
    {
     "name": "stderr",
     "output_type": "stream",
     "text": [
      "100%|█████████████████████████| 50/50 [01:12<00:00,  1.45s/it]\n",
      "  4%|▉                     | 63/1500 [00:00<00:02, 623.20it/s]"
     ]
    },
    {
     "name": "stdout",
     "output_type": "stream",
     "text": [
      "Last loss: 0.3612\n",
      "Last train accuracy: 0.9753\n",
      "Last test accuracy: 0.9680\n",
      "Training NEW brain instance (WITH backprop)...\n",
      "INITIAL train accuracy: 0.4673\n",
      "INITIAL test accuracy: 0.4480\n",
      "Epoch 1 / 1 ...\n"
     ]
    },
    {
     "name": "stderr",
     "output_type": "stream",
     "text": [
      "100%|████████████████████| 1500/1500 [00:02<00:00, 720.13it/s]\n",
      "  0%|                                  | 0/50 [00:00<?, ?it/s]"
     ]
    },
    {
     "name": "stdout",
     "output_type": "stream",
     "text": [
      "\n",
      "Last loss: 0.4488\n",
      "Last train accuracy: 0.8733\n",
      "Last test accuracy: 0.8540\n",
      "\n",
      "\n",
      "Run 5 / 10...\n",
      "Meta-learning...\n"
     ]
    },
    {
     "name": "stderr",
     "output_type": "stream",
     "text": [
      "100%|█████████████████████████| 50/50 [01:11<00:00,  1.42s/it]\n",
      "  4%|▉                     | 61/1500 [00:00<00:02, 609.45it/s]"
     ]
    },
    {
     "name": "stdout",
     "output_type": "stream",
     "text": [
      "Last loss: 0.6931\n",
      "Last train accuracy: 0.5187\n",
      "Last test accuracy: 0.4860\n",
      "Training NEW brain instance (WITH backprop)...\n",
      "INITIAL train accuracy: 0.4847\n",
      "INITIAL test accuracy: 0.4780\n",
      "Epoch 1 / 1 ...\n"
     ]
    },
    {
     "name": "stderr",
     "output_type": "stream",
     "text": [
      "100%|████████████████████| 1500/1500 [00:02<00:00, 664.28it/s]\n",
      "  0%|                                  | 0/50 [00:00<?, ?it/s]"
     ]
    },
    {
     "name": "stdout",
     "output_type": "stream",
     "text": [
      "\n",
      "Last loss: 0.6911\n",
      "Last train accuracy: 0.5153\n",
      "Last test accuracy: 0.5220\n",
      "\n",
      "\n",
      "Run 6 / 10...\n",
      "Meta-learning...\n"
     ]
    },
    {
     "name": "stderr",
     "output_type": "stream",
     "text": [
      "100%|█████████████████████████| 50/50 [01:11<00:00,  1.42s/it]\n",
      "  4%|▉                     | 61/1500 [00:00<00:02, 609.44it/s]"
     ]
    },
    {
     "name": "stdout",
     "output_type": "stream",
     "text": [
      "Last loss: 0.6931\n",
      "Last train accuracy: 0.4880\n",
      "Last test accuracy: 0.4920\n",
      "Training NEW brain instance (WITH backprop)...\n",
      "INITIAL train accuracy: 0.4727\n",
      "INITIAL test accuracy: 0.5200\n",
      "Epoch 1 / 1 ...\n"
     ]
    },
    {
     "name": "stderr",
     "output_type": "stream",
     "text": [
      "100%|████████████████████| 1500/1500 [00:02<00:00, 732.70it/s]\n",
      "  0%|                                  | 0/50 [00:00<?, ?it/s]"
     ]
    },
    {
     "name": "stdout",
     "output_type": "stream",
     "text": [
      "\n",
      "Last loss: 0.6931\n",
      "Last train accuracy: 0.4727\n",
      "Last test accuracy: 0.5200\n",
      "\n",
      "\n",
      "Run 7 / 10...\n",
      "Meta-learning...\n"
     ]
    },
    {
     "name": "stderr",
     "output_type": "stream",
     "text": [
      "100%|█████████████████████████| 50/50 [01:11<00:00,  1.43s/it]\n",
      "  4%|▉                     | 66/1500 [00:00<00:02, 659.40it/s]"
     ]
    },
    {
     "name": "stdout",
     "output_type": "stream",
     "text": [
      "Last loss: 0.3636\n",
      "Last train accuracy: 0.9713\n",
      "Last test accuracy: 0.9660\n",
      "Training NEW brain instance (WITH backprop)...\n",
      "INITIAL train accuracy: 0.4880\n",
      "INITIAL test accuracy: 0.5040\n",
      "Epoch 1 / 1 ...\n"
     ]
    },
    {
     "name": "stderr",
     "output_type": "stream",
     "text": [
      "100%|████████████████████| 1500/1500 [00:02<00:00, 694.74it/s]\n",
      "  0%|                                  | 0/50 [00:00<?, ?it/s]"
     ]
    },
    {
     "name": "stdout",
     "output_type": "stream",
     "text": [
      "\n",
      "Last loss: 0.4451\n",
      "Last train accuracy: 0.8760\n",
      "Last test accuracy: 0.8880\n",
      "\n",
      "\n",
      "Run 8 / 10...\n",
      "Meta-learning...\n"
     ]
    },
    {
     "name": "stderr",
     "output_type": "stream",
     "text": [
      "100%|█████████████████████████| 50/50 [01:11<00:00,  1.44s/it]\n",
      "  4%|▊                     | 58/1500 [00:00<00:02, 579.47it/s]"
     ]
    },
    {
     "name": "stdout",
     "output_type": "stream",
     "text": [
      "Last loss: 0.3622\n",
      "Last train accuracy: 0.9720\n",
      "Last test accuracy: 0.9640\n",
      "Training NEW brain instance (WITH backprop)...\n",
      "INITIAL train accuracy: 0.5087\n",
      "INITIAL test accuracy: 0.4780\n",
      "Epoch 1 / 1 ...\n"
     ]
    },
    {
     "name": "stderr",
     "output_type": "stream",
     "text": [
      "100%|████████████████████| 1500/1500 [00:02<00:00, 722.48it/s]\n",
      "  0%|                                  | 0/50 [00:00<?, ?it/s]"
     ]
    },
    {
     "name": "stdout",
     "output_type": "stream",
     "text": [
      "\n",
      "Last loss: 0.4973\n",
      "Last train accuracy: 0.8493\n",
      "Last test accuracy: 0.8640\n",
      "\n",
      "\n",
      "Run 9 / 10...\n",
      "Meta-learning...\n"
     ]
    },
    {
     "name": "stderr",
     "output_type": "stream",
     "text": [
      "100%|█████████████████████████| 50/50 [01:12<00:00,  1.45s/it]\n",
      "  4%|▉                     | 63/1500 [00:00<00:02, 629.43it/s]"
     ]
    },
    {
     "name": "stdout",
     "output_type": "stream",
     "text": [
      "Last loss: 0.6931\n",
      "Last train accuracy: 0.4953\n",
      "Last test accuracy: 0.5040\n",
      "Training NEW brain instance (WITH backprop)...\n",
      "INITIAL train accuracy: 0.4960\n",
      "INITIAL test accuracy: 0.4520\n",
      "Epoch 1 / 1 ...\n"
     ]
    },
    {
     "name": "stderr",
     "output_type": "stream",
     "text": [
      "100%|████████████████████| 1500/1500 [00:02<00:00, 720.48it/s]\n",
      "  0%|                                  | 0/50 [00:00<?, ?it/s]"
     ]
    },
    {
     "name": "stdout",
     "output_type": "stream",
     "text": [
      "\n",
      "Last loss: 0.6931\n",
      "Last train accuracy: 0.5033\n",
      "Last test accuracy: 0.5480\n",
      "\n",
      "\n",
      "Run 10 / 10...\n",
      "Meta-learning...\n"
     ]
    },
    {
     "name": "stderr",
     "output_type": "stream",
     "text": [
      "100%|█████████████████████████| 50/50 [01:10<00:00,  1.41s/it]\n",
      "  4%|▊                     | 58/1500 [00:00<00:02, 573.74it/s]"
     ]
    },
    {
     "name": "stdout",
     "output_type": "stream",
     "text": [
      "Last loss: 0.6931\n",
      "Last train accuracy: 0.5147\n",
      "Last test accuracy: 0.4980\n",
      "Training NEW brain instance (WITH backprop)...\n",
      "INITIAL train accuracy: 0.5227\n",
      "INITIAL test accuracy: 0.4980\n",
      "Epoch 1 / 1 ...\n"
     ]
    },
    {
     "name": "stderr",
     "output_type": "stream",
     "text": [
      "100%|████████████████████| 1500/1500 [00:02<00:00, 712.92it/s]\n",
      "  0%|                                  | 0/50 [00:00<?, ?it/s]"
     ]
    },
    {
     "name": "stdout",
     "output_type": "stream",
     "text": [
      "\n",
      "Last loss: 0.6931\n",
      "Last train accuracy: 0.5227\n",
      "Last test accuracy: 0.4980\n",
      "\n",
      "==== Interpretation: Post and Incoming Count ====\n",
      "\n",
      "Run 1 / 10...\n",
      "Meta-learning...\n"
     ]
    },
    {
     "name": "stderr",
     "output_type": "stream",
     "text": [
      "100%|█████████████████████████| 50/50 [00:59<00:00,  1.20s/it]\n",
      "  5%|█                     | 75/1500 [00:00<00:01, 748.67it/s]"
     ]
    },
    {
     "name": "stdout",
     "output_type": "stream",
     "text": [
      "Last loss: 0.6469\n",
      "Last train accuracy: 0.4900\n",
      "Last test accuracy: 0.4580\n",
      "Training NEW brain instance (WITH backprop)...\n",
      "INITIAL train accuracy: 0.4967\n",
      "INITIAL test accuracy: 0.4560\n",
      "Epoch 1 / 1 ...\n"
     ]
    },
    {
     "name": "stderr",
     "output_type": "stream",
     "text": [
      "100%|████████████████████| 1500/1500 [00:01<00:00, 785.32it/s]\n",
      "  0%|                                  | 0/50 [00:00<?, ?it/s]"
     ]
    },
    {
     "name": "stdout",
     "output_type": "stream",
     "text": [
      "\n",
      "Last loss: 0.7685\n",
      "Last train accuracy: 0.5033\n",
      "Last test accuracy: 0.5440\n",
      "\n",
      "\n",
      "Run 2 / 10...\n",
      "Meta-learning...\n"
     ]
    },
    {
     "name": "stderr",
     "output_type": "stream",
     "text": [
      "100%|█████████████████████████| 50/50 [01:01<00:00,  1.22s/it]\n",
      "  4%|▉                     | 65/1500 [00:00<00:02, 642.98it/s]"
     ]
    },
    {
     "name": "stdout",
     "output_type": "stream",
     "text": [
      "Last loss: 0.6931\n",
      "Last train accuracy: 0.5027\n",
      "Last test accuracy: 0.5180\n",
      "Training NEW brain instance (WITH backprop)...\n",
      "INITIAL train accuracy: 0.5040\n",
      "INITIAL test accuracy: 0.4740\n",
      "Epoch 1 / 1 ...\n"
     ]
    },
    {
     "name": "stderr",
     "output_type": "stream",
     "text": [
      "100%|████████████████████| 1500/1500 [00:02<00:00, 737.52it/s]\n",
      "  0%|                                  | 0/50 [00:00<?, ?it/s]"
     ]
    },
    {
     "name": "stdout",
     "output_type": "stream",
     "text": [
      "\n",
      "Last loss: 0.6930\n",
      "Last train accuracy: 0.5040\n",
      "Last test accuracy: 0.4740\n",
      "\n",
      "\n",
      "Run 3 / 10...\n",
      "Meta-learning...\n"
     ]
    },
    {
     "name": "stderr",
     "output_type": "stream",
     "text": [
      "100%|█████████████████████████| 50/50 [01:00<00:00,  1.22s/it]\n",
      "  5%|█                     | 75/1500 [00:00<00:01, 738.22it/s]"
     ]
    },
    {
     "name": "stdout",
     "output_type": "stream",
     "text": [
      "Last loss: 0.6536\n",
      "Last train accuracy: 0.4860\n",
      "Last test accuracy: 0.4840\n",
      "Training NEW brain instance (WITH backprop)...\n",
      "INITIAL train accuracy: 0.5013\n",
      "INITIAL test accuracy: 0.4800\n",
      "Epoch 1 / 1 ...\n"
     ]
    },
    {
     "name": "stderr",
     "output_type": "stream",
     "text": [
      "100%|████████████████████| 1500/1500 [00:01<00:00, 776.83it/s]\n",
      "  0%|                                  | 0/50 [00:00<?, ?it/s]"
     ]
    },
    {
     "name": "stdout",
     "output_type": "stream",
     "text": [
      "\n",
      "Last loss: 0.6017\n",
      "Last train accuracy: 0.5013\n",
      "Last test accuracy: 0.4800\n",
      "\n",
      "\n",
      "Run 4 / 10...\n",
      "Meta-learning...\n"
     ]
    },
    {
     "name": "stderr",
     "output_type": "stream",
     "text": [
      "100%|█████████████████████████| 50/50 [01:00<00:00,  1.21s/it]\n",
      "  4%|▉                     | 64/1500 [00:00<00:02, 633.09it/s]"
     ]
    },
    {
     "name": "stdout",
     "output_type": "stream",
     "text": [
      "Last loss: 0.6931\n",
      "Last train accuracy: 0.5133\n",
      "Last test accuracy: 0.5160\n",
      "Training NEW brain instance (WITH backprop)...\n",
      "INITIAL train accuracy: 0.4913\n",
      "INITIAL test accuracy: 0.4960\n",
      "Epoch 1 / 1 ...\n"
     ]
    },
    {
     "name": "stderr",
     "output_type": "stream",
     "text": [
      "100%|████████████████████| 1500/1500 [00:01<00:00, 789.56it/s]\n",
      "  0%|                                  | 0/50 [00:00<?, ?it/s]"
     ]
    },
    {
     "name": "stdout",
     "output_type": "stream",
     "text": [
      "\n",
      "Last loss: 0.6931\n",
      "Last train accuracy: 0.4913\n",
      "Last test accuracy: 0.4960\n",
      "\n",
      "\n",
      "Run 5 / 10...\n",
      "Meta-learning...\n"
     ]
    },
    {
     "name": "stderr",
     "output_type": "stream",
     "text": [
      "100%|█████████████████████████| 50/50 [00:59<00:00,  1.19s/it]\n",
      "  5%|█                     | 76/1500 [00:00<00:01, 751.79it/s]"
     ]
    },
    {
     "name": "stdout",
     "output_type": "stream",
     "text": [
      "Last loss: 0.6289\n",
      "Last train accuracy: 0.5160\n",
      "Last test accuracy: 0.4860\n",
      "Training NEW brain instance (WITH backprop)...\n",
      "INITIAL train accuracy: 0.5000\n",
      "INITIAL test accuracy: 0.5280\n",
      "Epoch 1 / 1 ...\n"
     ]
    },
    {
     "name": "stderr",
     "output_type": "stream",
     "text": [
      "100%|████████████████████| 1500/1500 [00:02<00:00, 725.55it/s]\n",
      "  0%|                                  | 0/50 [00:00<?, ?it/s]"
     ]
    },
    {
     "name": "stdout",
     "output_type": "stream",
     "text": [
      "\n",
      "Last loss: 0.8145\n",
      "Last train accuracy: 0.5000\n",
      "Last test accuracy: 0.4720\n",
      "\n",
      "\n",
      "Run 6 / 10...\n",
      "Meta-learning...\n"
     ]
    },
    {
     "name": "stderr",
     "output_type": "stream",
     "text": [
      "100%|█████████████████████████| 50/50 [01:01<00:00,  1.22s/it]\n",
      "  5%|█                     | 74/1500 [00:00<00:01, 732.01it/s]"
     ]
    },
    {
     "name": "stdout",
     "output_type": "stream",
     "text": [
      "Last loss: 0.6485\n",
      "Last train accuracy: 0.5207\n",
      "Last test accuracy: 0.5300\n",
      "Training NEW brain instance (WITH backprop)...\n",
      "INITIAL train accuracy: 0.4993\n",
      "INITIAL test accuracy: 0.4740\n",
      "Epoch 1 / 1 ...\n"
     ]
    },
    {
     "name": "stderr",
     "output_type": "stream",
     "text": [
      "100%|████████████████████| 1500/1500 [00:01<00:00, 794.81it/s]\n",
      "  0%|                                  | 0/50 [00:00<?, ?it/s]"
     ]
    },
    {
     "name": "stdout",
     "output_type": "stream",
     "text": [
      "\n",
      "Last loss: 0.7803\n",
      "Last train accuracy: 0.5007\n",
      "Last test accuracy: 0.5260\n",
      "\n",
      "\n",
      "Run 7 / 10...\n",
      "Meta-learning...\n"
     ]
    },
    {
     "name": "stderr",
     "output_type": "stream",
     "text": [
      "100%|█████████████████████████| 50/50 [01:01<00:00,  1.23s/it]\n",
      "  4%|▉                     | 67/1500 [00:00<00:02, 665.93it/s]"
     ]
    },
    {
     "name": "stdout",
     "output_type": "stream",
     "text": [
      "Last loss: 0.6360\n",
      "Last train accuracy: 0.5253\n",
      "Last test accuracy: 0.5440\n",
      "Training NEW brain instance (WITH backprop)...\n",
      "INITIAL train accuracy: 0.5047\n",
      "INITIAL test accuracy: 0.4860\n",
      "Epoch 1 / 1 ...\n"
     ]
    },
    {
     "name": "stderr",
     "output_type": "stream",
     "text": [
      "100%|████████████████████| 1500/1500 [00:02<00:00, 749.11it/s]\n",
      "  0%|                                  | 0/50 [00:00<?, ?it/s]"
     ]
    },
    {
     "name": "stdout",
     "output_type": "stream",
     "text": [
      "\n",
      "Last loss: 0.7897\n",
      "Last train accuracy: 0.5047\n",
      "Last test accuracy: 0.4860\n",
      "\n",
      "\n",
      "Run 8 / 10...\n",
      "Meta-learning...\n"
     ]
    },
    {
     "name": "stderr",
     "output_type": "stream",
     "text": [
      "100%|█████████████████████████| 50/50 [01:01<00:00,  1.22s/it]\n",
      "  5%|█                     | 73/1500 [00:00<00:01, 728.40it/s]"
     ]
    },
    {
     "name": "stdout",
     "output_type": "stream",
     "text": [
      "Last loss: 0.6931\n",
      "Last train accuracy: 0.5080\n",
      "Last test accuracy: 0.4680\n",
      "Training NEW brain instance (WITH backprop)...\n",
      "INITIAL train accuracy: 0.5087\n",
      "INITIAL test accuracy: 0.5080\n",
      "Epoch 1 / 1 ...\n"
     ]
    },
    {
     "name": "stderr",
     "output_type": "stream",
     "text": [
      "100%|████████████████████| 1500/1500 [00:02<00:00, 736.93it/s]\n",
      "  0%|                                  | 0/50 [00:00<?, ?it/s]"
     ]
    },
    {
     "name": "stdout",
     "output_type": "stream",
     "text": [
      "\n",
      "Last loss: 0.6931\n",
      "Last train accuracy: 0.5087\n",
      "Last test accuracy: 0.5080\n",
      "\n",
      "\n",
      "Run 9 / 10...\n",
      "Meta-learning...\n"
     ]
    },
    {
     "name": "stderr",
     "output_type": "stream",
     "text": [
      "100%|█████████████████████████| 50/50 [00:54<00:00,  1.08s/it]\n",
      "  6%|█▎                    | 90/1500 [00:00<00:01, 899.18it/s]"
     ]
    },
    {
     "name": "stdout",
     "output_type": "stream",
     "text": [
      "Last loss: 0.6619\n",
      "Last train accuracy: 0.5167\n",
      "Last test accuracy: 0.4880\n",
      "Training NEW brain instance (WITH backprop)...\n",
      "INITIAL train accuracy: 0.5007\n",
      "INITIAL test accuracy: 0.5140\n",
      "Epoch 1 / 1 ...\n"
     ]
    },
    {
     "name": "stderr",
     "output_type": "stream",
     "text": [
      "100%|████████████████████| 1500/1500 [00:01<00:00, 882.04it/s]\n",
      "  0%|                                  | 0/50 [00:00<?, ?it/s]"
     ]
    },
    {
     "name": "stdout",
     "output_type": "stream",
     "text": [
      "\n",
      "Last loss: 0.7739\n",
      "Last train accuracy: 0.5007\n",
      "Last test accuracy: 0.5140\n",
      "\n",
      "\n",
      "Run 10 / 10...\n",
      "Meta-learning...\n"
     ]
    },
    {
     "name": "stderr",
     "output_type": "stream",
     "text": [
      "100%|█████████████████████████| 50/50 [00:47<00:00,  1.04it/s]\n",
      "  6%|█▎                    | 91/1500 [00:00<00:01, 909.17it/s]"
     ]
    },
    {
     "name": "stdout",
     "output_type": "stream",
     "text": [
      "Last loss: 0.6931\n",
      "Last train accuracy: 0.4840\n",
      "Last test accuracy: 0.5020\n",
      "Training NEW brain instance (WITH backprop)...\n",
      "INITIAL train accuracy: 0.5073\n",
      "INITIAL test accuracy: 0.4740\n",
      "Epoch 1 / 1 ...\n"
     ]
    },
    {
     "name": "stderr",
     "output_type": "stream",
     "text": [
      "100%|████████████████████| 1500/1500 [00:01<00:00, 891.85it/s]"
     ]
    },
    {
     "name": "stdout",
     "output_type": "stream",
     "text": [
      "\n",
      "Last loss: 0.6931\n",
      "Last train accuracy: 0.5073\n",
      "Last test accuracy: 0.4740\n",
      "\n"
     ]
    },
    {
     "name": "stderr",
     "output_type": "stream",
     "text": [
      "\n"
     ]
    }
   ],
   "source": [
    "# Evaluate models.\n",
    "print('==== Interpretation: Pre and Post ====')\n",
    "stats_prepost_up, stats_prepost_down = evaluate_up_down(\n",
    "    brain_prepost_up_fact, brain_prepost_down_fact, n_up, n_down, dataset=dataset,\n",
    "    num_runs=num_runs, num_rule_epochs=num_rule_epochs,\n",
    "    num_epochs_upstream=num_epochs_upstream, num_epochs_downstream=num_epochs_downstream)\n",
    "print('==== Interpretation: Pre and Post and Incoming Count ====')\n",
    "stats_prepostcount_up, stats_prepostcount_down = evaluate_up_down(\n",
    "    brain_prepostcount_up_fact, brain_prepostcount_down_fact, n_up, n_down, dataset=dataset,\n",
    "    num_runs=num_runs, num_rule_epochs=num_rule_epochs,\n",
    "    num_epochs_upstream=num_epochs_upstream, num_epochs_downstream=num_epochs_downstream)\n",
    "print('==== Interpretation: Pre and Post and Binned Incoming Fraction ====')\n",
    "stats_prepostpercent_up, stats_prepostpercent_down = evaluate_up_down(\n",
    "    brain_prepostpercent_up_fact, brain_prepostpercent_down_fact, n_up, n_down, dataset=dataset,\n",
    "    num_runs=num_runs, num_rule_epochs=num_rule_epochs,\n",
    "    num_epochs_upstream=num_epochs_upstream, num_epochs_downstream=num_epochs_downstream)\n",
    "print('==== Interpretation: Post and Incoming Count ====')\n",
    "stats_postcount_up, stats_postcount_down = evaluate_up_down(\n",
    "    brain_postcount_up_fact, brain_postcount_down_fact, n_up, n_down, dataset=dataset,\n",
    "    num_runs=num_runs, num_rule_epochs=num_rule_epochs,\n",
    "    num_epochs_upstream=num_epochs_upstream, num_epochs_downstream=num_epochs_downstream)"
   ]
  },
  {
   "cell_type": "code",
   "execution_count": 8,
   "metadata": {
    "scrolled": false
   },
   "outputs": [
    {
     "name": "stdout",
     "output_type": "stream",
     "text": [
      "Saving figure to: figs/comparing_transfer_prepost_halfspace\n"
     ]
    },
    {
     "data": {
      "image/png": "[encoded data removed]",
      "text/plain": [
       "<Figure size 720x288 with 2 Axes>"
      ]
     },
     "metadata": {},
     "output_type": "display_data"
    },
    {
     "name": "stdout",
     "output_type": "stream",
     "text": [
      "Mean essential stats across all runs:\n",
      "Last upstream loss: 0.3872\n",
      "Last upstream train accuracy: 0.9179\n",
      "Last upstream test accuracy: 0.9126\n",
      "Last downstream loss: 0.5278\n",
      "Last downstream train accuracy: 0.7746\n",
      "Last downstream test accuracy: 0.7600\n",
      "\n",
      "Saving figure to: figs/comparing_transfer_prepostcount_halfspace\n"
     ]
    },
    {
     "data": {
      "image/png": "[encoded data removed]",
      "text/plain": [
       "<Figure size 720x288 with 2 Axes>"
      ]
     },
     "metadata": {},
     "output_type": "display_data"
    },
    {
     "name": "stdout",
     "output_type": "stream",
     "text": [
      "Mean essential stats across all runs:\n",
      "Last upstream loss: 0.4292\n",
      "Last upstream train accuracy: 0.8592\n",
      "Last upstream test accuracy: 0.8536\n",
      "Last downstream loss: 0.5185\n",
      "Last downstream train accuracy: 0.7744\n",
      "Last downstream test accuracy: 0.7592\n",
      "\n",
      "Saving figure to: figs/comparing_transfer_prepostpercent_halfspace\n"
     ]
    },
    {
     "data": {
      "image/png": "[encoded data removed]",
      "text/plain": [
       "<Figure size 720x288 with 2 Axes>"
      ]
     },
     "metadata": {},
     "output_type": "display_data"
    },
    {
     "name": "stdout",
     "output_type": "stream",
     "text": [
      "Mean essential stats across all runs:\n",
      "Last upstream loss: 0.5282\n",
      "Last upstream train accuracy: 0.7353\n",
      "Last upstream test accuracy: 0.7240\n",
      "Last downstream loss: 0.5834\n",
      "Last downstream train accuracy: 0.6761\n",
      "Last downstream test accuracy: 0.6844\n",
      "\n",
      "Saving figure to: figs/comparing_transfer_postcount_halfspace\n"
     ]
    },
    {
     "data": {
      "image/png": "[encoded data removed]",
      "text/plain": [
       "<Figure size 720x288 with 2 Axes>"
      ]
     },
     "metadata": {},
     "output_type": "display_data"
    },
    {
     "name": "stdout",
     "output_type": "stream",
     "text": [
      "Mean essential stats across all runs:\n",
      "Last upstream loss: 0.6648\n",
      "Last upstream train accuracy: 0.5063\n",
      "Last upstream test accuracy: 0.4994\n",
      "Last downstream loss: 0.7301\n",
      "Last downstream train accuracy: 0.5022\n",
      "Last downstream test accuracy: 0.4974\n",
      "\n"
     ]
    }
   ],
   "source": [
    "# Plot aggregated stats.\n",
    "agg_stats_prepost_up = convert_multi_stats_uncertainty(stats_prepost_up)\n",
    "agg_stats_prepost_down = convert_multi_stats_uncertainty(stats_prepost_down)\n",
    "plot_curves(agg_stats_prepost_up, agg_stats_prepost_down,\n",
    "            '[PrePost] Upstream meta-learning on ' + dataset,\n",
    "            '[PrePost] Downstream training on ' + dataset,\n",
    "            'figs/comparing_transfer_prepost_' + dataset)\n",
    "agg_stats_prepostcount_up = convert_multi_stats_uncertainty(stats_prepostcount_up)\n",
    "agg_stats_prepostcount_down = convert_multi_stats_uncertainty(stats_prepostcount_down)\n",
    "plot_curves(agg_stats_prepostcount_up, agg_stats_prepostcount_down,\n",
    "            '[PrePostCount] Upstream meta-learning on ' + dataset,\n",
    "            '[PrePostCount] Downstream training on ' + dataset,\n",
    "            'figs/comparing_transfer_prepostcount_' + dataset)\n",
    "agg_stats_prepostpercent_up = convert_multi_stats_uncertainty(stats_prepostpercent_up)\n",
    "agg_stats_prepostpercent_down = convert_multi_stats_uncertainty(stats_prepostpercent_down)\n",
    "plot_curves(agg_stats_prepostpercent_up, agg_stats_prepostpercent_down,\n",
    "            '[PrePostPercent] Upstream meta-learning on ' + dataset,\n",
    "            '[PrePostPercent] Downstream training on ' + dataset,\n",
    "            'figs/comparing_transfer_prepostpercent_' + dataset)\n",
    "agg_stats_postcount_up = convert_multi_stats_uncertainty(stats_postcount_up)\n",
    "agg_stats_postcount_down = convert_multi_stats_uncertainty(stats_postcount_down)\n",
    "plot_curves(agg_stats_postcount_up, agg_stats_postcount_down,\n",
    "            '[PostCount] Upstream meta-learning on ' + dataset,\n",
    "            '[PostCount] Downstream training on ' + dataset,\n",
    "            'figs/comparing_transfer_postcount_' + dataset)"
   ]
  },
  {
   "cell_type": "code",
   "execution_count": 9,
   "metadata": {},
   "outputs": [
    {
     "name": "stdout",
     "output_type": "stream",
     "text": [
      "Saving figure to: figs/comparing_transfer_table_halfspace\n"
     ]
    },
    {
     "data": {
      "image/png": "[encoded data removed]",
      "text/plain": [
       "<Figure size 720x288 with 2 Axes>"
      ]
     },
     "metadata": {},
     "output_type": "display_data"
    }
   ],
   "source": [
    "# Plot to compare all.\n",
    "all_stats_up = [agg_stats_rnn_up, agg_stats_prepost_up, agg_stats_prepostcount_up, agg_stats_prepostpercent_up, agg_stats_postcount_up]\n",
    "all_stats_down = [agg_stats_rnn_down, agg_stats_prepost_down, agg_stats_prepostcount_down, agg_stats_prepostpercent_down, agg_stats_postcount_down]\n",
    "labels = ['RNN', 'PrePost', 'PrePostCount', 'PrePostPercent', 'PostCount']\n",
    "plot_compare_models(all_stats_up, all_stats_down, labels,\n",
    "                    'Upstream meta-learning on ' + dataset,\n",
    "                    'Downstream training on ' + dataset,\n",
    "                    'figs/comparing_transfer_table_' + dataset)"
   ]
  },
  {
   "cell_type": "code",
   "execution_count": 10,
   "metadata": {
    "scrolled": true
   },
   "outputs": [],
   "source": [
    "if 0:\n",
    "    agg_stats_prepost_up = convert_multi_stats_uncertainty(stats_prepost_up)\n",
    "    agg_stats_prepost_down = convert_multi_stats_uncertainty(stats_prepost_down)\n",
    "    for i in range(len(stats_prepost_up)):\n",
    "        plot_curves(stats_prepost_up[i], stats_prepost_down[i],\n",
    "                    '[PrePost] Upstream meta-learning on ' + dataset,\n",
    "                    '[PrePost] Downstream training on ' + dataset)"
   ]
  },
  {
   "cell_type": "markdown",
   "metadata": {},
   "source": [
    "## Similarly, evaluate RNN and table-based networks but retain the SAME instance upstream and downstream; only the dataset is reinstantiated."
   ]
  },
  {
   "cell_type": "code",
   "execution_count": 3,
   "metadata": {},
   "outputs": [],
   "source": [
    "# IMPORTANT: Henceforth, we use GD directly on inputs but use plasticity rules in the output and hidden layers.\n",
    "opts = Options(gd_input=True,\n",
    "               use_graph_rule=True,\n",
    "               gd_graph_rule=True,\n",
    "               use_output_rule=True,\n",
    "               gd_output_rule=True,\n",
    "               gd_output=False)\n",
    "scheme = UpdateScheme(cross_entropy_loss=True,\n",
    "                      mse_loss=False,\n",
    "                      update_misclassified_only=False,\n",
    "                      update_all_edges=True)\n",
    "\n",
    "# Feed-forward brain config.\n",
    "# See start of notebook.\n",
    "n = 8\n",
    "\n",
    "# Training config.\n",
    "# See start of notebook."
   ]
  },
  {
   "cell_type": "code",
   "execution_count": 6,
   "metadata": {},
   "outputs": [],
   "source": [
    "# Instantiate brain factories.\n",
    "brain_rnn_fact = lambda: LocalNet(n_up, m, 64, p, 32, 3, options=opts, update_scheme=scheme)\n",
    "brain_prepost_fact = lambda: FFLocalNet(\n",
    "    n, m, l, w, p, cap, hl_rules=TableRule_PrePost(),\n",
    "    output_rule=TableRule_PrePost(), options=opts, update_scheme=scheme)\n",
    "brain_prepostcount_fact = lambda: FFLocalNet(\n",
    "    n, m, l, w, p, cap, hl_rules=TableRule_PrePostCount(),\n",
    "    output_rule=TableRule_PrePostCount(), options=opts, update_scheme=scheme)\n",
    "brain_prepostpercent_fact = lambda: FFLocalNet(\n",
    "    n, m, l, w, p, cap, hl_rules=TableRule_PrePostPercent(),\n",
    "    output_rule=TableRule_PrePostPercent(), options=opts, update_scheme=scheme)\n",
    "brain_postcount_fact = lambda: FFLocalNet(\n",
    "    n, m, l, w, p, cap, hl_rules=TableRule_PostCount(),\n",
    "    output_rule=TableRule_PostCount(), options=opts, update_scheme=scheme)"
   ]
  },
  {
   "cell_type": "code",
   "execution_count": 7,
   "metadata": {
    "scrolled": true
   },
   "outputs": [
    {
     "name": "stderr",
     "output_type": "stream",
     "text": [
      "\r",
      "  0%|          | 0/50 [00:00<?, ?it/s]"
     ]
    },
    {
     "name": "stdout",
     "output_type": "stream",
     "text": [
      "==== Original RNN (very different from all the rest) ====\n",
      "\n",
      "Run 1 / 10...\n",
      "Meta-learning...\n"
     ]
    },
    {
     "name": "stderr",
     "output_type": "stream",
     "text": [
      "100%|██████████| 50/50 [03:19<00:00,  3.99s/it]\n",
      "  2%|▏         | 28/1500 [00:00<00:05, 270.57it/s]"
     ]
    },
    {
     "name": "stdout",
     "output_type": "stream",
     "text": [
      "Last loss: 0.3718\n",
      "Last train accuracy: 0.9400\n",
      "Last test accuracy: 0.9560\n",
      "Training SAME brain instance (NO backprop)...\n",
      "===> WARNING: Backprop is disabled, which means that all layers without rules will never change their weights!\n",
      "===> This is NOT recommended by Basile!\n",
      "INITIAL train accuracy: 0.5807\n",
      "INITIAL test accuracy: 0.5640\n",
      "Epoch 1 / 1 ...\n"
     ]
    },
    {
     "name": "stderr",
     "output_type": "stream",
     "text": [
      "100%|██████████| 1500/1500 [00:05<00:00, 250.06it/s]\n",
      "  0%|          | 0/50 [00:00<?, ?it/s]"
     ]
    },
    {
     "name": "stdout",
     "output_type": "stream",
     "text": [
      "\n",
      "Last loss: 0.7033\n",
      "Last train accuracy: 0.5907\n",
      "Last test accuracy: 0.6060\n",
      "\n",
      "\n",
      "Run 2 / 10...\n",
      "Meta-learning...\n"
     ]
    },
    {
     "name": "stderr",
     "output_type": "stream",
     "text": [
      "100%|██████████| 50/50 [03:26<00:00,  4.13s/it]\n",
      "  0%|          | 0/1500 [00:00<?, ?it/s]"
     ]
    },
    {
     "name": "stdout",
     "output_type": "stream",
     "text": [
      "Last loss: 0.3642\n",
      "Last train accuracy: 0.9793\n",
      "Last test accuracy: 0.9820\n",
      "Training SAME brain instance (NO backprop)...\n",
      "===> WARNING: Backprop is disabled, which means that all layers without rules will never change their weights!\n",
      "===> This is NOT recommended by Basile!\n",
      "INITIAL train accuracy: 0.4113\n",
      "INITIAL test accuracy: 0.3620\n",
      "Epoch 1 / 1 ...\n"
     ]
    },
    {
     "name": "stderr",
     "output_type": "stream",
     "text": [
      "100%|██████████| 1500/1500 [00:06<00:00, 238.42it/s]\n",
      "  0%|          | 0/50 [00:00<?, ?it/s]"
     ]
    },
    {
     "name": "stdout",
     "output_type": "stream",
     "text": [
      "\n",
      "Last loss: 0.6853\n",
      "Last train accuracy: 0.5960\n",
      "Last test accuracy: 0.6460\n",
      "\n",
      "\n",
      "Run 3 / 10...\n",
      "Meta-learning...\n"
     ]
    },
    {
     "name": "stderr",
     "output_type": "stream",
     "text": [
      "100%|██████████| 50/50 [03:34<00:00,  4.29s/it]\n"
     ]
    },
    {
     "name": "stdout",
     "output_type": "stream",
     "text": [
      "Last loss: 0.3581\n",
      "Last train accuracy: 0.9507\n",
      "Last test accuracy: 0.9380\n",
      "Training SAME brain instance (NO backprop)...\n",
      "===> WARNING: Backprop is disabled, which means that all layers without rules will never change their weights!\n",
      "===> This is NOT recommended by Basile!\n",
      "INITIAL train accuracy: 0.6033\n",
      "INITIAL test accuracy: 0.6460\n",
      "Epoch 1 / 1 ...\n"
     ]
    },
    {
     "name": "stderr",
     "output_type": "stream",
     "text": [
      "100%|██████████| 1500/1500 [00:06<00:00, 217.74it/s]\n",
      "  0%|          | 0/50 [00:00<?, ?it/s]"
     ]
    },
    {
     "name": "stdout",
     "output_type": "stream",
     "text": [
      "\n",
      "Last loss: 0.7273\n",
      "Last train accuracy: 0.5927\n",
      "Last test accuracy: 0.6080\n",
      "\n",
      "\n",
      "Run 4 / 10...\n",
      "Meta-learning...\n"
     ]
    },
    {
     "name": "stderr",
     "output_type": "stream",
     "text": [
      "100%|██████████| 50/50 [03:36<00:00,  4.33s/it]\n",
      "  2%|▏         | 28/1500 [00:00<00:05, 272.80it/s]"
     ]
    },
    {
     "name": "stdout",
     "output_type": "stream",
     "text": [
      "Last loss: 0.3595\n",
      "Last train accuracy: 0.9547\n",
      "Last test accuracy: 0.9480\n",
      "Training SAME brain instance (NO backprop)...\n",
      "===> WARNING: Backprop is disabled, which means that all layers without rules will never change their weights!\n",
      "===> This is NOT recommended by Basile!\n",
      "INITIAL train accuracy: 0.6800\n",
      "INITIAL test accuracy: 0.6780\n",
      "Epoch 1 / 1 ...\n"
     ]
    },
    {
     "name": "stderr",
     "output_type": "stream",
     "text": [
      "100%|██████████| 1500/1500 [00:06<00:00, 218.72it/s]\n",
      "  0%|          | 0/50 [00:00<?, ?it/s]"
     ]
    },
    {
     "name": "stdout",
     "output_type": "stream",
     "text": [
      "\n",
      "Last loss: 0.6553\n",
      "Last train accuracy: 0.6513\n",
      "Last test accuracy: 0.6620\n",
      "\n",
      "\n",
      "Run 5 / 10...\n",
      "Meta-learning...\n"
     ]
    },
    {
     "name": "stderr",
     "output_type": "stream",
     "text": [
      "100%|██████████| 50/50 [03:24<00:00,  4.10s/it]\n",
      "  0%|          | 0/1500 [00:00<?, ?it/s]"
     ]
    },
    {
     "name": "stdout",
     "output_type": "stream",
     "text": [
      "Last loss: 0.3566\n",
      "Last train accuracy: 0.9680\n",
      "Last test accuracy: 0.9620\n",
      "Training SAME brain instance (NO backprop)...\n",
      "===> WARNING: Backprop is disabled, which means that all layers without rules will never change their weights!\n",
      "===> This is NOT recommended by Basile!\n",
      "INITIAL train accuracy: 0.7487\n",
      "INITIAL test accuracy: 0.7120\n",
      "Epoch 1 / 1 ...\n"
     ]
    },
    {
     "name": "stderr",
     "output_type": "stream",
     "text": [
      "100%|██████████| 1500/1500 [00:06<00:00, 226.89it/s]\n",
      "  0%|          | 0/50 [00:00<?, ?it/s]"
     ]
    },
    {
     "name": "stdout",
     "output_type": "stream",
     "text": [
      "\n",
      "Last loss: 0.6393\n",
      "Last train accuracy: 0.6780\n",
      "Last test accuracy: 0.6460\n",
      "\n",
      "\n",
      "Run 6 / 10...\n",
      "Meta-learning...\n"
     ]
    },
    {
     "name": "stderr",
     "output_type": "stream",
     "text": [
      "100%|██████████| 50/50 [03:30<00:00,  4.22s/it]\n",
      "  0%|          | 0/1500 [00:00<?, ?it/s]"
     ]
    },
    {
     "name": "stdout",
     "output_type": "stream",
     "text": [
      "Last loss: 0.3587\n",
      "Last train accuracy: 0.9480\n",
      "Last test accuracy: 0.9340\n",
      "Training SAME brain instance (NO backprop)...\n",
      "===> WARNING: Backprop is disabled, which means that all layers without rules will never change their weights!\n",
      "===> This is NOT recommended by Basile!\n",
      "INITIAL train accuracy: 0.5980\n",
      "INITIAL test accuracy: 0.5640\n",
      "Epoch 1 / 1 ...\n"
     ]
    },
    {
     "name": "stderr",
     "output_type": "stream",
     "text": [
      "100%|██████████| 1500/1500 [00:06<00:00, 225.15it/s]\n",
      "  0%|          | 0/50 [00:00<?, ?it/s]"
     ]
    },
    {
     "name": "stdout",
     "output_type": "stream",
     "text": [
      "\n",
      "Last loss: 0.7353\n",
      "Last train accuracy: 0.5833\n",
      "Last test accuracy: 0.5580\n",
      "\n",
      "\n",
      "Run 7 / 10...\n",
      "Meta-learning...\n"
     ]
    },
    {
     "name": "stderr",
     "output_type": "stream",
     "text": [
      "100%|██████████| 50/50 [03:33<00:00,  4.26s/it]\n",
      "  2%|▏         | 28/1500 [00:00<00:05, 272.93it/s]"
     ]
    },
    {
     "name": "stdout",
     "output_type": "stream",
     "text": [
      "Last loss: 0.3406\n",
      "Last train accuracy: 0.9793\n",
      "Last test accuracy: 0.9800\n",
      "Training SAME brain instance (NO backprop)...\n",
      "===> WARNING: Backprop is disabled, which means that all layers without rules will never change their weights!\n",
      "===> This is NOT recommended by Basile!\n",
      "INITIAL train accuracy: 0.5080\n",
      "INITIAL test accuracy: 0.4960\n",
      "Epoch 1 / 1 ...\n"
     ]
    },
    {
     "name": "stderr",
     "output_type": "stream",
     "text": [
      "100%|██████████| 1500/1500 [00:06<00:00, 249.90it/s]\n",
      "  0%|          | 0/50 [00:00<?, ?it/s]"
     ]
    },
    {
     "name": "stdout",
     "output_type": "stream",
     "text": [
      "\n",
      "Last loss: 0.7433\n",
      "Last train accuracy: 0.5547\n",
      "Last test accuracy: 0.5700\n",
      "\n",
      "\n",
      "Run 8 / 10...\n",
      "Meta-learning...\n"
     ]
    },
    {
     "name": "stderr",
     "output_type": "stream",
     "text": [
      "100%|██████████| 50/50 [03:25<00:00,  4.12s/it]\n"
     ]
    },
    {
     "name": "stdout",
     "output_type": "stream",
     "text": [
      "Last loss: 0.3536\n",
      "Last train accuracy: 0.9587\n",
      "Last test accuracy: 0.9640\n",
      "Training SAME brain instance (NO backprop)...\n",
      "===> WARNING: Backprop is disabled, which means that all layers without rules will never change their weights!\n",
      "===> This is NOT recommended by Basile!\n",
      "INITIAL train accuracy: 0.4380\n",
      "INITIAL test accuracy: 0.4420\n",
      "Epoch 1 / 1 ...\n"
     ]
    },
    {
     "name": "stderr",
     "output_type": "stream",
     "text": [
      "100%|██████████| 1500/1500 [00:06<00:00, 216.60it/s]\n",
      "  0%|          | 0/50 [00:00<?, ?it/s]"
     ]
    },
    {
     "name": "stdout",
     "output_type": "stream",
     "text": [
      "\n",
      "Last loss: 0.6953\n",
      "Last train accuracy: 0.6200\n",
      "Last test accuracy: 0.6180\n",
      "\n",
      "\n",
      "Run 9 / 10...\n",
      "Meta-learning...\n"
     ]
    },
    {
     "name": "stderr",
     "output_type": "stream",
     "text": [
      "100%|██████████| 50/50 [03:42<00:00,  4.44s/it]\n",
      "  0%|          | 0/1500 [00:00<?, ?it/s]"
     ]
    },
    {
     "name": "stdout",
     "output_type": "stream",
     "text": [
      "Last loss: 0.3570\n",
      "Last train accuracy: 0.9520\n",
      "Last test accuracy: 0.9660\n",
      "Training SAME brain instance (NO backprop)...\n",
      "===> WARNING: Backprop is disabled, which means that all layers without rules will never change their weights!\n",
      "===> This is NOT recommended by Basile!\n",
      "INITIAL train accuracy: 0.3867\n",
      "INITIAL test accuracy: 0.3920\n",
      "Epoch 1 / 1 ...\n"
     ]
    },
    {
     "name": "stderr",
     "output_type": "stream",
     "text": [
      "100%|██████████| 1500/1500 [00:06<00:00, 232.68it/s]\n",
      "  0%|          | 0/50 [00:00<?, ?it/s]"
     ]
    },
    {
     "name": "stdout",
     "output_type": "stream",
     "text": [
      "\n",
      "Last loss: 0.7033\n",
      "Last train accuracy: 0.6233\n",
      "Last test accuracy: 0.6180\n",
      "\n",
      "\n",
      "Run 10 / 10...\n",
      "Meta-learning...\n"
     ]
    },
    {
     "name": "stderr",
     "output_type": "stream",
     "text": [
      "100%|██████████| 50/50 [03:25<00:00,  4.10s/it]\n",
      "  2%|▏         | 28/1500 [00:00<00:05, 272.92it/s]"
     ]
    },
    {
     "name": "stdout",
     "output_type": "stream",
     "text": [
      "Last loss: 0.3678\n",
      "Last train accuracy: 0.8887\n",
      "Last test accuracy: 0.8840\n",
      "Training SAME brain instance (NO backprop)...\n",
      "===> WARNING: Backprop is disabled, which means that all layers without rules will never change their weights!\n",
      "===> This is NOT recommended by Basile!\n",
      "INITIAL train accuracy: 0.6067\n",
      "INITIAL test accuracy: 0.6180\n",
      "Epoch 1 / 1 ...\n"
     ]
    },
    {
     "name": "stderr",
     "output_type": "stream",
     "text": [
      "100%|██████████| 1500/1500 [00:05<00:00, 266.65it/s]\n",
      "  0%|          | 0/50 [00:00<?, ?it/s]"
     ]
    },
    {
     "name": "stdout",
     "output_type": "stream",
     "text": [
      "\n",
      "Last loss: 0.7173\n",
      "Last train accuracy: 0.5927\n",
      "Last test accuracy: 0.6080\n",
      "\n",
      "==== Interpretation: Pre and Post ====\n",
      "\n",
      "Run 1 / 10...\n",
      "Meta-learning...\n"
     ]
    },
    {
     "name": "stderr",
     "output_type": "stream",
     "text": [
      "100%|██████████| 50/50 [02:05<00:00,  2.50s/it]\n",
      "  3%|▎         | 44/1500 [00:00<00:03, 434.28it/s]"
     ]
    },
    {
     "name": "stdout",
     "output_type": "stream",
     "text": [
      "Last loss: 0.3561\n",
      "Last train accuracy: 0.9693\n",
      "Last test accuracy: 0.9640\n",
      "Training SAME brain instance (NO backprop)...\n",
      "===> WARNING: Backprop is disabled, which means that all layers without rules will never change their weights!\n",
      "===> This is NOT recommended by Basile!\n",
      "INITIAL train accuracy: 0.5073\n",
      "INITIAL test accuracy: 0.5000\n",
      "Epoch 1 / 1 ...\n"
     ]
    },
    {
     "name": "stderr",
     "output_type": "stream",
     "text": [
      "100%|██████████| 1500/1500 [00:03<00:00, 416.62it/s]\n",
      "  0%|          | 0/50 [00:00<?, ?it/s]"
     ]
    },
    {
     "name": "stdout",
     "output_type": "stream",
     "text": [
      "\n",
      "Last loss: 0.5967\n",
      "Last train accuracy: 0.7067\n",
      "Last test accuracy: 0.6900\n",
      "\n",
      "\n",
      "Run 2 / 10...\n",
      "Meta-learning...\n"
     ]
    },
    {
     "name": "stderr",
     "output_type": "stream",
     "text": [
      "100%|██████████| 50/50 [02:16<00:00,  2.74s/it]\n",
      "  3%|▎         | 46/1500 [00:00<00:03, 455.13it/s]"
     ]
    },
    {
     "name": "stdout",
     "output_type": "stream",
     "text": [
      "Last loss: 0.3614\n",
      "Last train accuracy: 0.9427\n",
      "Last test accuracy: 0.9240\n",
      "Training SAME brain instance (NO backprop)...\n",
      "===> WARNING: Backprop is disabled, which means that all layers without rules will never change their weights!\n",
      "===> This is NOT recommended by Basile!\n",
      "INITIAL train accuracy: 0.4800\n",
      "INITIAL test accuracy: 0.4860\n",
      "Epoch 1 / 1 ...\n"
     ]
    },
    {
     "name": "stderr",
     "output_type": "stream",
     "text": [
      "100%|██████████| 1500/1500 [00:04<00:00, 331.54it/s]\n",
      "  0%|          | 0/50 [00:00<?, ?it/s]"
     ]
    },
    {
     "name": "stdout",
     "output_type": "stream",
     "text": [
      "\n",
      "Last loss: 0.5219\n",
      "Last train accuracy: 0.7887\n",
      "Last test accuracy: 0.7360\n",
      "\n",
      "\n",
      "Run 3 / 10...\n",
      "Meta-learning...\n"
     ]
    },
    {
     "name": "stderr",
     "output_type": "stream",
     "text": [
      "100%|██████████| 50/50 [02:14<00:00,  2.69s/it]\n",
      "  3%|▎         | 46/1500 [00:00<00:03, 458.32it/s]"
     ]
    },
    {
     "name": "stdout",
     "output_type": "stream",
     "text": [
      "Last loss: 0.3521\n",
      "Last train accuracy: 0.9753\n",
      "Last test accuracy: 0.9680\n",
      "Training SAME brain instance (NO backprop)...\n",
      "===> WARNING: Backprop is disabled, which means that all layers without rules will never change their weights!\n",
      "===> This is NOT recommended by Basile!\n",
      "INITIAL train accuracy: 0.5200\n",
      "INITIAL test accuracy: 0.4920\n",
      "Epoch 1 / 1 ...\n"
     ]
    },
    {
     "name": "stderr",
     "output_type": "stream",
     "text": [
      "100%|██████████| 1500/1500 [00:03<00:00, 449.13it/s]\n",
      "  0%|          | 0/50 [00:00<?, ?it/s]"
     ]
    },
    {
     "name": "stdout",
     "output_type": "stream",
     "text": [
      "\n",
      "Last loss: 0.5840\n",
      "Last train accuracy: 0.7240\n",
      "Last test accuracy: 0.7040\n",
      "\n",
      "\n",
      "Run 4 / 10...\n",
      "Meta-learning...\n"
     ]
    },
    {
     "name": "stderr",
     "output_type": "stream",
     "text": [
      "100%|██████████| 50/50 [02:06<00:00,  2.53s/it]\n",
      "  2%|▏         | 24/1500 [00:00<00:06, 237.20it/s]"
     ]
    },
    {
     "name": "stdout",
     "output_type": "stream",
     "text": [
      "Last loss: 0.3520\n",
      "Last train accuracy: 0.9727\n",
      "Last test accuracy: 0.9580\n",
      "Training SAME brain instance (NO backprop)...\n",
      "===> WARNING: Backprop is disabled, which means that all layers without rules will never change their weights!\n",
      "===> This is NOT recommended by Basile!\n",
      "INITIAL train accuracy: 0.5073\n",
      "INITIAL test accuracy: 0.4760\n",
      "Epoch 1 / 1 ...\n"
     ]
    },
    {
     "name": "stderr",
     "output_type": "stream",
     "text": [
      "100%|██████████| 1500/1500 [00:03<00:00, 414.71it/s]\n",
      "  0%|          | 0/50 [00:00<?, ?it/s]"
     ]
    },
    {
     "name": "stdout",
     "output_type": "stream",
     "text": [
      "\n",
      "Last loss: 0.5748\n",
      "Last train accuracy: 0.7660\n",
      "Last test accuracy: 0.7560\n",
      "\n",
      "\n",
      "Run 5 / 10...\n",
      "Meta-learning...\n"
     ]
    },
    {
     "name": "stderr",
     "output_type": "stream",
     "text": [
      "100%|██████████| 50/50 [02:06<00:00,  2.54s/it]\n",
      "  3%|▎         | 47/1500 [00:00<00:03, 462.17it/s]"
     ]
    },
    {
     "name": "stdout",
     "output_type": "stream",
     "text": [
      "Last loss: 0.6931\n",
      "Last train accuracy: 0.5133\n",
      "Last test accuracy: 0.5000\n",
      "Training SAME brain instance (NO backprop)...\n",
      "===> WARNING: Backprop is disabled, which means that all layers without rules will never change their weights!\n",
      "===> This is NOT recommended by Basile!\n",
      "INITIAL train accuracy: 0.5207\n",
      "INITIAL test accuracy: 0.4980\n",
      "Epoch 1 / 1 ...\n"
     ]
    },
    {
     "name": "stderr",
     "output_type": "stream",
     "text": [
      "100%|██████████| 1500/1500 [00:04<00:00, 371.19it/s]\n",
      "  0%|          | 0/50 [00:00<?, ?it/s]"
     ]
    },
    {
     "name": "stdout",
     "output_type": "stream",
     "text": [
      "\n",
      "Last loss: 0.6931\n",
      "Last train accuracy: 0.5207\n",
      "Last test accuracy: 0.4980\n",
      "\n",
      "\n",
      "Run 6 / 10...\n",
      "Meta-learning...\n"
     ]
    },
    {
     "name": "stderr",
     "output_type": "stream",
     "text": [
      "100%|██████████| 50/50 [02:13<00:00,  2.66s/it]\n",
      "  0%|          | 0/1500 [00:00<?, ?it/s]"
     ]
    },
    {
     "name": "stdout",
     "output_type": "stream",
     "text": [
      "Last loss: 0.3519\n",
      "Last train accuracy: 0.9727\n",
      "Last test accuracy: 0.9580\n",
      "Training SAME brain instance (NO backprop)...\n",
      "===> WARNING: Backprop is disabled, which means that all layers without rules will never change their weights!\n",
      "===> This is NOT recommended by Basile!\n",
      "INITIAL train accuracy: 0.5213\n",
      "INITIAL test accuracy: 0.5400\n",
      "Epoch 1 / 1 ...\n"
     ]
    },
    {
     "name": "stderr",
     "output_type": "stream",
     "text": [
      "100%|██████████| 1500/1500 [00:03<00:00, 387.46it/s]\n",
      "  0%|          | 0/50 [00:00<?, ?it/s]"
     ]
    },
    {
     "name": "stdout",
     "output_type": "stream",
     "text": [
      "\n",
      "Last loss: 0.5473\n",
      "Last train accuracy: 0.7400\n",
      "Last test accuracy: 0.7560\n",
      "\n",
      "\n",
      "Run 7 / 10...\n",
      "Meta-learning...\n"
     ]
    },
    {
     "name": "stderr",
     "output_type": "stream",
     "text": [
      "100%|██████████| 50/50 [02:14<00:00,  2.68s/it]\n",
      "  3%|▎         | 39/1500 [00:00<00:03, 387.68it/s]"
     ]
    },
    {
     "name": "stdout",
     "output_type": "stream",
     "text": [
      "Last loss: 0.3461\n",
      "Last train accuracy: 0.9793\n",
      "Last test accuracy: 0.9660\n",
      "Training SAME brain instance (NO backprop)...\n",
      "===> WARNING: Backprop is disabled, which means that all layers without rules will never change their weights!\n",
      "===> This is NOT recommended by Basile!\n",
      "INITIAL train accuracy: 0.4913\n",
      "INITIAL test accuracy: 0.5440\n",
      "Epoch 1 / 1 ...\n"
     ]
    },
    {
     "name": "stderr",
     "output_type": "stream",
     "text": [
      "100%|██████████| 1500/1500 [00:04<00:00, 364.31it/s]\n",
      "  0%|          | 0/50 [00:00<?, ?it/s]"
     ]
    },
    {
     "name": "stdout",
     "output_type": "stream",
     "text": [
      "\n",
      "Last loss: 0.5894\n",
      "Last train accuracy: 0.7227\n",
      "Last test accuracy: 0.6920\n",
      "\n",
      "\n",
      "Run 8 / 10...\n",
      "Meta-learning...\n"
     ]
    },
    {
     "name": "stderr",
     "output_type": "stream",
     "text": [
      "100%|██████████| 50/50 [02:07<00:00,  2.56s/it]\n",
      "  3%|▎         | 39/1500 [00:00<00:03, 387.53it/s]"
     ]
    },
    {
     "name": "stdout",
     "output_type": "stream",
     "text": [
      "Last loss: 0.3513\n",
      "Last train accuracy: 0.9713\n",
      "Last test accuracy: 0.9680\n",
      "Training SAME brain instance (NO backprop)...\n",
      "===> WARNING: Backprop is disabled, which means that all layers without rules will never change their weights!\n",
      "===> This is NOT recommended by Basile!\n",
      "INITIAL train accuracy: 0.5113\n",
      "INITIAL test accuracy: 0.4920\n",
      "Epoch 1 / 1 ...\n"
     ]
    },
    {
     "name": "stderr",
     "output_type": "stream",
     "text": [
      "100%|██████████| 1500/1500 [00:03<00:00, 419.31it/s]\n",
      "  0%|          | 0/50 [00:00<?, ?it/s]"
     ]
    },
    {
     "name": "stdout",
     "output_type": "stream",
     "text": [
      "\n",
      "Last loss: 0.6012\n",
      "Last train accuracy: 0.7060\n",
      "Last test accuracy: 0.6860\n",
      "\n",
      "\n",
      "Run 9 / 10...\n",
      "Meta-learning...\n"
     ]
    },
    {
     "name": "stderr",
     "output_type": "stream",
     "text": [
      "100%|██████████| 50/50 [02:03<00:00,  2.46s/it]\n",
      "  3%|▎         | 40/1500 [00:00<00:03, 392.18it/s]"
     ]
    },
    {
     "name": "stdout",
     "output_type": "stream",
     "text": [
      "Last loss: 0.3525\n",
      "Last train accuracy: 0.9647\n",
      "Last test accuracy: 0.9520\n",
      "Training SAME brain instance (NO backprop)...\n",
      "===> WARNING: Backprop is disabled, which means that all layers without rules will never change their weights!\n",
      "===> This is NOT recommended by Basile!\n",
      "INITIAL train accuracy: 0.5067\n",
      "INITIAL test accuracy: 0.4740\n",
      "Epoch 1 / 1 ...\n"
     ]
    },
    {
     "name": "stderr",
     "output_type": "stream",
     "text": [
      "100%|██████████| 1500/1500 [00:03<00:00, 407.69it/s]\n",
      "  0%|          | 0/50 [00:00<?, ?it/s]"
     ]
    },
    {
     "name": "stdout",
     "output_type": "stream",
     "text": [
      "\n",
      "Last loss: 0.5126\n",
      "Last train accuracy: 0.7813\n",
      "Last test accuracy: 0.7880\n",
      "\n",
      "\n",
      "Run 10 / 10...\n",
      "Meta-learning...\n"
     ]
    },
    {
     "name": "stderr",
     "output_type": "stream",
     "text": [
      "100%|██████████| 50/50 [02:06<00:00,  2.54s/it]\n",
      "  0%|          | 0/1500 [00:00<?, ?it/s]"
     ]
    },
    {
     "name": "stdout",
     "output_type": "stream",
     "text": [
      "Last loss: 0.3517\n",
      "Last train accuracy: 0.9720\n",
      "Last test accuracy: 0.9620\n",
      "Training SAME brain instance (NO backprop)...\n",
      "===> WARNING: Backprop is disabled, which means that all layers without rules will never change their weights!\n",
      "===> This is NOT recommended by Basile!\n",
      "INITIAL train accuracy: 0.4867\n",
      "INITIAL test accuracy: 0.5080\n",
      "Epoch 1 / 1 ...\n"
     ]
    },
    {
     "name": "stderr",
     "output_type": "stream",
     "text": [
      "100%|██████████| 1500/1500 [00:03<00:00, 441.37it/s]\n",
      "  0%|          | 0/50 [00:00<?, ?it/s]"
     ]
    },
    {
     "name": "stdout",
     "output_type": "stream",
     "text": [
      "\n",
      "Last loss: 0.6691\n",
      "Last train accuracy: 0.6707\n",
      "Last test accuracy: 0.6680\n",
      "\n",
      "==== Interpretation: Pre and Post and Incoming Count ====\n",
      "\n",
      "Run 1 / 10...\n",
      "Meta-learning...\n"
     ]
    },
    {
     "name": "stderr",
     "output_type": "stream",
     "text": [
      "100%|██████████| 50/50 [02:33<00:00,  3.07s/it]\n",
      "  2%|▏         | 26/1500 [00:00<00:05, 248.68it/s]"
     ]
    },
    {
     "name": "stdout",
     "output_type": "stream",
     "text": [
      "Last loss: 0.3615\n",
      "Last train accuracy: 0.9680\n",
      "Last test accuracy: 0.9800\n",
      "Training SAME brain instance (NO backprop)...\n",
      "===> WARNING: Backprop is disabled, which means that all layers without rules will never change their weights!\n",
      "===> This is NOT recommended by Basile!\n",
      "INITIAL train accuracy: 0.5040\n",
      "INITIAL test accuracy: 0.4880\n",
      "Epoch 1 / 1 ...\n"
     ]
    },
    {
     "name": "stderr",
     "output_type": "stream",
     "text": [
      "100%|██████████| 1500/1500 [00:04<00:00, 337.68it/s]\n",
      "  0%|          | 0/50 [00:00<?, ?it/s]"
     ]
    },
    {
     "name": "stdout",
     "output_type": "stream",
     "text": [
      "\n",
      "Last loss: 0.6482\n",
      "Last train accuracy: 0.6793\n",
      "Last test accuracy: 0.6920\n",
      "\n",
      "\n",
      "Run 2 / 10...\n",
      "Meta-learning...\n"
     ]
    },
    {
     "name": "stderr",
     "output_type": "stream",
     "text": [
      "100%|██████████| 50/50 [02:27<00:00,  2.96s/it]\n",
      "  0%|          | 0/1500 [00:00<?, ?it/s]"
     ]
    },
    {
     "name": "stdout",
     "output_type": "stream",
     "text": [
      "Last loss: 0.3656\n",
      "Last train accuracy: 0.9727\n",
      "Last test accuracy: 0.9680\n",
      "Training SAME brain instance (NO backprop)...\n",
      "===> WARNING: Backprop is disabled, which means that all layers without rules will never change their weights!\n",
      "===> This is NOT recommended by Basile!\n",
      "INITIAL train accuracy: 0.4907\n",
      "INITIAL test accuracy: 0.5100\n",
      "Epoch 1 / 1 ...\n"
     ]
    },
    {
     "name": "stderr",
     "output_type": "stream",
     "text": [
      "100%|██████████| 1500/1500 [00:04<00:00, 369.77it/s]\n",
      "  0%|          | 0/50 [00:00<?, ?it/s]"
     ]
    },
    {
     "name": "stdout",
     "output_type": "stream",
     "text": [
      "\n",
      "Last loss: 0.6119\n",
      "Last train accuracy: 0.6920\n",
      "Last test accuracy: 0.7080\n",
      "\n",
      "\n",
      "Run 3 / 10...\n",
      "Meta-learning...\n"
     ]
    },
    {
     "name": "stderr",
     "output_type": "stream",
     "text": [
      "100%|██████████| 50/50 [02:20<00:00,  2.82s/it]\n",
      "  2%|▏         | 35/1500 [00:00<00:04, 343.30it/s]"
     ]
    },
    {
     "name": "stdout",
     "output_type": "stream",
     "text": [
      "Last loss: 0.3743\n",
      "Last train accuracy: 0.9673\n",
      "Last test accuracy: 0.9520\n",
      "Training SAME brain instance (NO backprop)...\n",
      "===> WARNING: Backprop is disabled, which means that all layers without rules will never change their weights!\n",
      "===> This is NOT recommended by Basile!\n",
      "INITIAL train accuracy: 0.5027\n",
      "INITIAL test accuracy: 0.5220\n",
      "Epoch 1 / 1 ...\n"
     ]
    },
    {
     "name": "stderr",
     "output_type": "stream",
     "text": [
      "100%|██████████| 1500/1500 [00:03<00:00, 394.16it/s]\n",
      "  0%|          | 0/50 [00:00<?, ?it/s]"
     ]
    },
    {
     "name": "stdout",
     "output_type": "stream",
     "text": [
      "\n",
      "Last loss: 0.7125\n",
      "Last train accuracy: 0.6027\n",
      "Last test accuracy: 0.6100\n",
      "\n",
      "\n",
      "Run 4 / 10...\n",
      "Meta-learning...\n"
     ]
    },
    {
     "name": "stderr",
     "output_type": "stream",
     "text": [
      "100%|██████████| 50/50 [02:24<00:00,  2.89s/it]\n",
      "  3%|▎         | 42/1500 [00:00<00:03, 398.94it/s]"
     ]
    },
    {
     "name": "stdout",
     "output_type": "stream",
     "text": [
      "Last loss: 0.3687\n",
      "Last train accuracy: 0.9413\n",
      "Last test accuracy: 0.9200\n",
      "Training SAME brain instance (NO backprop)...\n",
      "===> WARNING: Backprop is disabled, which means that all layers without rules will never change their weights!\n",
      "===> This is NOT recommended by Basile!\n",
      "INITIAL train accuracy: 0.4973\n",
      "INITIAL test accuracy: 0.4920\n",
      "Epoch 1 / 1 ...\n"
     ]
    },
    {
     "name": "stderr",
     "output_type": "stream",
     "text": [
      "100%|██████████| 1500/1500 [00:04<00:00, 373.71it/s]\n",
      "  0%|          | 0/50 [00:00<?, ?it/s]"
     ]
    },
    {
     "name": "stdout",
     "output_type": "stream",
     "text": [
      "\n",
      "Last loss: 0.6649\n",
      "Last train accuracy: 0.6433\n",
      "Last test accuracy: 0.6480\n",
      "\n",
      "\n",
      "Run 5 / 10...\n",
      "Meta-learning...\n"
     ]
    },
    {
     "name": "stderr",
     "output_type": "stream",
     "text": [
      "100%|██████████| 50/50 [02:26<00:00,  2.94s/it]\n",
      "  0%|          | 0/1500 [00:00<?, ?it/s]"
     ]
    },
    {
     "name": "stdout",
     "output_type": "stream",
     "text": [
      "Last loss: 0.3625\n",
      "Last train accuracy: 0.9807\n",
      "Last test accuracy: 0.9700\n",
      "Training SAME brain instance (NO backprop)...\n",
      "===> WARNING: Backprop is disabled, which means that all layers without rules will never change their weights!\n",
      "===> This is NOT recommended by Basile!\n",
      "INITIAL train accuracy: 0.4973\n",
      "INITIAL test accuracy: 0.5320\n",
      "Epoch 1 / 1 ...\n"
     ]
    },
    {
     "name": "stderr",
     "output_type": "stream",
     "text": [
      "100%|██████████| 1500/1500 [00:04<00:00, 361.08it/s]\n",
      "  0%|          | 0/50 [00:00<?, ?it/s]"
     ]
    },
    {
     "name": "stdout",
     "output_type": "stream",
     "text": [
      "\n",
      "Last loss: 0.6423\n",
      "Last train accuracy: 0.6553\n",
      "Last test accuracy: 0.6380\n",
      "\n",
      "\n",
      "Run 6 / 10...\n",
      "Meta-learning...\n"
     ]
    },
    {
     "name": "stderr",
     "output_type": "stream",
     "text": [
      "100%|██████████| 50/50 [02:16<00:00,  2.73s/it]\n",
      "  3%|▎         | 41/1500 [00:00<00:03, 404.03it/s]"
     ]
    },
    {
     "name": "stdout",
     "output_type": "stream",
     "text": [
      "Last loss: 0.6931\n",
      "Last train accuracy: 0.4800\n",
      "Last test accuracy: 0.4880\n",
      "Training SAME brain instance (NO backprop)...\n",
      "===> WARNING: Backprop is disabled, which means that all layers without rules will never change their weights!\n",
      "===> This is NOT recommended by Basile!\n",
      "INITIAL train accuracy: 0.5220\n",
      "INITIAL test accuracy: 0.5240\n",
      "Epoch 1 / 1 ...\n"
     ]
    },
    {
     "name": "stderr",
     "output_type": "stream",
     "text": [
      "100%|██████████| 1500/1500 [00:04<00:00, 364.37it/s]\n",
      "  0%|          | 0/50 [00:00<?, ?it/s]"
     ]
    },
    {
     "name": "stdout",
     "output_type": "stream",
     "text": [
      "\n",
      "Last loss: 0.6931\n",
      "Last train accuracy: 0.5220\n",
      "Last test accuracy: 0.5240\n",
      "\n",
      "\n",
      "Run 7 / 10...\n",
      "Meta-learning...\n"
     ]
    },
    {
     "name": "stderr",
     "output_type": "stream",
     "text": [
      "100%|██████████| 50/50 [02:18<00:00,  2.76s/it]\n",
      "  3%|▎         | 43/1500 [00:00<00:03, 428.12it/s]"
     ]
    },
    {
     "name": "stdout",
     "output_type": "stream",
     "text": [
      "Last loss: 0.3604\n",
      "Last train accuracy: 0.9853\n",
      "Last test accuracy: 0.9640\n",
      "Training SAME brain instance (NO backprop)...\n",
      "===> WARNING: Backprop is disabled, which means that all layers without rules will never change their weights!\n",
      "===> This is NOT recommended by Basile!\n",
      "INITIAL train accuracy: 0.4867\n",
      "INITIAL test accuracy: 0.5280\n",
      "Epoch 1 / 1 ...\n"
     ]
    },
    {
     "name": "stderr",
     "output_type": "stream",
     "text": [
      "100%|██████████| 1500/1500 [00:03<00:00, 376.98it/s]\n",
      "  0%|          | 0/50 [00:00<?, ?it/s]"
     ]
    },
    {
     "name": "stdout",
     "output_type": "stream",
     "text": [
      "\n",
      "Last loss: 0.5991\n",
      "Last train accuracy: 0.7040\n",
      "Last test accuracy: 0.6600\n",
      "\n",
      "\n",
      "Run 8 / 10...\n",
      "Meta-learning...\n"
     ]
    },
    {
     "name": "stderr",
     "output_type": "stream",
     "text": [
      "100%|██████████| 50/50 [02:17<00:00,  2.75s/it]\n",
      "  2%|▏         | 35/1500 [00:00<00:04, 343.63it/s]"
     ]
    },
    {
     "name": "stdout",
     "output_type": "stream",
     "text": [
      "Last loss: 0.6931\n",
      "Last train accuracy: 0.5140\n",
      "Last test accuracy: 0.5100\n",
      "Training SAME brain instance (NO backprop)...\n",
      "===> WARNING: Backprop is disabled, which means that all layers without rules will never change their weights!\n",
      "===> This is NOT recommended by Basile!\n",
      "INITIAL train accuracy: 0.5233\n",
      "INITIAL test accuracy: 0.4820\n",
      "Epoch 1 / 1 ...\n"
     ]
    },
    {
     "name": "stderr",
     "output_type": "stream",
     "text": [
      "100%|██████████| 1500/1500 [00:04<00:00, 314.87it/s]\n",
      "  0%|          | 0/50 [00:00<?, ?it/s]"
     ]
    },
    {
     "name": "stdout",
     "output_type": "stream",
     "text": [
      "\n",
      "Last loss: 0.6931\n",
      "Last train accuracy: 0.4767\n",
      "Last test accuracy: 0.5180\n",
      "\n",
      "\n",
      "Run 9 / 10...\n",
      "Meta-learning...\n"
     ]
    },
    {
     "name": "stderr",
     "output_type": "stream",
     "text": [
      "100%|██████████| 50/50 [02:29<00:00,  2.98s/it]\n",
      "  2%|▏         | 29/1500 [00:00<00:05, 284.47it/s]"
     ]
    },
    {
     "name": "stdout",
     "output_type": "stream",
     "text": [
      "Last loss: 0.3741\n",
      "Last train accuracy: 0.9507\n",
      "Last test accuracy: 0.9560\n",
      "Training SAME brain instance (NO backprop)...\n",
      "===> WARNING: Backprop is disabled, which means that all layers without rules will never change their weights!\n",
      "===> This is NOT recommended by Basile!\n",
      "INITIAL train accuracy: 0.4787\n",
      "INITIAL test accuracy: 0.4820\n",
      "Epoch 1 / 1 ...\n"
     ]
    },
    {
     "name": "stderr",
     "output_type": "stream",
     "text": [
      "100%|██████████| 1500/1500 [00:04<00:00, 367.64it/s]\n",
      "  0%|          | 0/50 [00:00<?, ?it/s]"
     ]
    },
    {
     "name": "stdout",
     "output_type": "stream",
     "text": [
      "\n",
      "Last loss: 0.6292\n",
      "Last train accuracy: 0.7073\n",
      "Last test accuracy: 0.7380\n",
      "\n",
      "\n",
      "Run 10 / 10...\n",
      "Meta-learning...\n"
     ]
    },
    {
     "name": "stderr",
     "output_type": "stream",
     "text": [
      "100%|██████████| 50/50 [02:18<00:00,  2.78s/it]\n",
      "  3%|▎         | 43/1500 [00:00<00:03, 425.09it/s]"
     ]
    },
    {
     "name": "stdout",
     "output_type": "stream",
     "text": [
      "Last loss: 0.3691\n",
      "Last train accuracy: 0.9720\n",
      "Last test accuracy: 0.9560\n",
      "Training SAME brain instance (NO backprop)...\n",
      "===> WARNING: Backprop is disabled, which means that all layers without rules will never change their weights!\n",
      "===> This is NOT recommended by Basile!\n",
      "INITIAL train accuracy: 0.4853\n",
      "INITIAL test accuracy: 0.4880\n",
      "Epoch 1 / 1 ...\n"
     ]
    },
    {
     "name": "stderr",
     "output_type": "stream",
     "text": [
      "100%|██████████| 1500/1500 [00:04<00:00, 359.60it/s]\n",
      "  0%|          | 0/50 [00:00<?, ?it/s]"
     ]
    },
    {
     "name": "stdout",
     "output_type": "stream",
     "text": [
      "\n",
      "Last loss: 0.5988\n",
      "Last train accuracy: 0.7313\n",
      "Last test accuracy: 0.6720\n",
      "\n",
      "==== Interpretation: Pre and Post and Binned Incoming Fraction ====\n",
      "\n",
      "Run 1 / 10...\n",
      "Meta-learning...\n"
     ]
    },
    {
     "name": "stderr",
     "output_type": "stream",
     "text": [
      "100%|██████████| 50/50 [02:27<00:00,  2.95s/it]\n",
      "  2%|▏         | 33/1500 [00:00<00:04, 324.26it/s]"
     ]
    },
    {
     "name": "stdout",
     "output_type": "stream",
     "text": [
      "Last loss: 0.3699\n",
      "Last train accuracy: 0.9553\n",
      "Last test accuracy: 0.9500\n",
      "Training SAME brain instance (NO backprop)...\n",
      "===> WARNING: Backprop is disabled, which means that all layers without rules will never change their weights!\n",
      "===> This is NOT recommended by Basile!\n",
      "INITIAL train accuracy: 0.4953\n",
      "INITIAL test accuracy: 0.4980\n",
      "Epoch 1 / 1 ...\n"
     ]
    },
    {
     "name": "stderr",
     "output_type": "stream",
     "text": [
      "100%|██████████| 1500/1500 [00:04<00:00, 359.56it/s]\n",
      "  0%|          | 0/50 [00:00<?, ?it/s]"
     ]
    },
    {
     "name": "stdout",
     "output_type": "stream",
     "text": [
      "\n",
      "Last loss: 0.6643\n",
      "Last train accuracy: 0.6647\n",
      "Last test accuracy: 0.6380\n",
      "\n",
      "\n",
      "Run 2 / 10...\n",
      "Meta-learning...\n"
     ]
    },
    {
     "name": "stderr",
     "output_type": "stream",
     "text": [
      "100%|██████████| 50/50 [02:22<00:00,  2.85s/it]\n",
      "  1%|▏         | 21/1500 [00:00<00:07, 204.94it/s]"
     ]
    },
    {
     "name": "stdout",
     "output_type": "stream",
     "text": [
      "Last loss: 0.6931\n",
      "Last train accuracy: 0.5040\n",
      "Last test accuracy: 0.4600\n",
      "Training SAME brain instance (NO backprop)...\n",
      "===> WARNING: Backprop is disabled, which means that all layers without rules will never change their weights!\n",
      "===> This is NOT recommended by Basile!\n",
      "INITIAL train accuracy: 0.5293\n",
      "INITIAL test accuracy: 0.5220\n",
      "Epoch 1 / 1 ...\n"
     ]
    },
    {
     "name": "stderr",
     "output_type": "stream",
     "text": [
      "100%|██████████| 1500/1500 [00:03<00:00, 392.09it/s]\n",
      "  0%|          | 0/50 [00:00<?, ?it/s]"
     ]
    },
    {
     "name": "stdout",
     "output_type": "stream",
     "text": [
      "\n",
      "Last loss: 0.6931\n",
      "Last train accuracy: 0.5293\n",
      "Last test accuracy: 0.5220\n",
      "\n",
      "\n",
      "Run 3 / 10...\n",
      "Meta-learning...\n"
     ]
    },
    {
     "name": "stderr",
     "output_type": "stream",
     "text": [
      "100%|██████████| 50/50 [02:14<00:00,  2.69s/it]\n",
      "  2%|▏         | 29/1500 [00:00<00:05, 259.52it/s]"
     ]
    },
    {
     "name": "stdout",
     "output_type": "stream",
     "text": [
      "Last loss: 0.6931\n",
      "Last train accuracy: 0.4113\n",
      "Last test accuracy: 0.4100\n",
      "Training SAME brain instance (NO backprop)...\n",
      "===> WARNING: Backprop is disabled, which means that all layers without rules will never change their weights!\n",
      "===> This is NOT recommended by Basile!\n",
      "INITIAL train accuracy: 0.5060\n",
      "INITIAL test accuracy: 0.5240\n",
      "Epoch 1 / 1 ...\n"
     ]
    },
    {
     "name": "stderr",
     "output_type": "stream",
     "text": [
      "100%|██████████| 1500/1500 [00:03<00:00, 381.26it/s]\n",
      "  0%|          | 0/50 [00:00<?, ?it/s]"
     ]
    },
    {
     "name": "stdout",
     "output_type": "stream",
     "text": [
      "\n",
      "Last loss: 0.6931\n",
      "Last train accuracy: 0.4933\n",
      "Last test accuracy: 0.5060\n",
      "\n",
      "\n",
      "Run 4 / 10...\n",
      "Meta-learning...\n"
     ]
    },
    {
     "name": "stderr",
     "output_type": "stream",
     "text": [
      "100%|██████████| 50/50 [02:16<00:00,  2.73s/it]\n",
      "  3%|▎         | 40/1500 [00:00<00:03, 398.74it/s]"
     ]
    },
    {
     "name": "stdout",
     "output_type": "stream",
     "text": [
      "Last loss: 0.3659\n",
      "Last train accuracy: 0.9633\n",
      "Last test accuracy: 0.9620\n",
      "Training SAME brain instance (NO backprop)...\n",
      "===> WARNING: Backprop is disabled, which means that all layers without rules will never change their weights!\n",
      "===> This is NOT recommended by Basile!\n",
      "INITIAL train accuracy: 0.4893\n",
      "INITIAL test accuracy: 0.4640\n",
      "Epoch 1 / 1 ...\n"
     ]
    },
    {
     "name": "stderr",
     "output_type": "stream",
     "text": [
      "100%|██████████| 1500/1500 [00:04<00:00, 367.15it/s]\n",
      "  0%|          | 0/50 [00:00<?, ?it/s]"
     ]
    },
    {
     "name": "stdout",
     "output_type": "stream",
     "text": [
      "\n",
      "Last loss: 0.5158\n",
      "Last train accuracy: 0.7807\n",
      "Last test accuracy: 0.8220\n",
      "\n",
      "\n",
      "Run 5 / 10...\n",
      "Meta-learning...\n"
     ]
    },
    {
     "name": "stderr",
     "output_type": "stream",
     "text": [
      "100%|██████████| 50/50 [02:14<00:00,  2.70s/it]\n",
      "  3%|▎         | 42/1500 [00:00<00:03, 412.78it/s]"
     ]
    },
    {
     "name": "stdout",
     "output_type": "stream",
     "text": [
      "Last loss: 0.3625\n",
      "Last train accuracy: 0.9707\n",
      "Last test accuracy: 0.9580\n",
      "Training SAME brain instance (NO backprop)...\n",
      "===> WARNING: Backprop is disabled, which means that all layers without rules will never change their weights!\n",
      "===> This is NOT recommended by Basile!\n",
      "INITIAL train accuracy: 0.5007\n",
      "INITIAL test accuracy: 0.4600\n",
      "Epoch 1 / 1 ...\n"
     ]
    },
    {
     "name": "stderr",
     "output_type": "stream",
     "text": [
      "100%|██████████| 1500/1500 [00:03<00:00, 402.44it/s]\n",
      "  0%|          | 0/50 [00:00<?, ?it/s]"
     ]
    },
    {
     "name": "stdout",
     "output_type": "stream",
     "text": [
      "\n",
      "Last loss: 0.7063\n",
      "Last train accuracy: 0.6293\n",
      "Last test accuracy: 0.6280\n",
      "\n",
      "\n",
      "Run 6 / 10...\n",
      "Meta-learning...\n"
     ]
    },
    {
     "name": "stderr",
     "output_type": "stream",
     "text": [
      "100%|██████████| 50/50 [02:15<00:00,  2.72s/it]\n",
      "  2%|▏         | 29/1500 [00:00<00:05, 289.38it/s]"
     ]
    },
    {
     "name": "stdout",
     "output_type": "stream",
     "text": [
      "Last loss: 0.3689\n",
      "Last train accuracy: 0.9673\n",
      "Last test accuracy: 0.9600\n",
      "Training SAME brain instance (NO backprop)...\n",
      "===> WARNING: Backprop is disabled, which means that all layers without rules will never change their weights!\n",
      "===> This is NOT recommended by Basile!\n",
      "INITIAL train accuracy: 0.5247\n",
      "INITIAL test accuracy: 0.4540\n",
      "Epoch 1 / 1 ...\n"
     ]
    },
    {
     "name": "stderr",
     "output_type": "stream",
     "text": [
      "100%|██████████| 1500/1500 [00:03<00:00, 375.76it/s]\n",
      "  0%|          | 0/50 [00:00<?, ?it/s]"
     ]
    },
    {
     "name": "stdout",
     "output_type": "stream",
     "text": [
      "\n",
      "Last loss: 0.6126\n",
      "Last train accuracy: 0.6900\n",
      "Last test accuracy: 0.6620\n",
      "\n",
      "\n",
      "Run 7 / 10...\n",
      "Meta-learning...\n"
     ]
    },
    {
     "name": "stderr",
     "output_type": "stream",
     "text": [
      "100%|██████████| 50/50 [02:16<00:00,  2.73s/it]\n",
      "  3%|▎         | 41/1500 [00:00<00:03, 405.20it/s]"
     ]
    },
    {
     "name": "stdout",
     "output_type": "stream",
     "text": [
      "Last loss: 0.3875\n",
      "Last train accuracy: 0.9653\n",
      "Last test accuracy: 0.9540\n",
      "Training SAME brain instance (NO backprop)...\n",
      "===> WARNING: Backprop is disabled, which means that all layers without rules will never change their weights!\n",
      "===> This is NOT recommended by Basile!\n",
      "INITIAL train accuracy: 0.4973\n",
      "INITIAL test accuracy: 0.5280\n",
      "Epoch 1 / 1 ...\n"
     ]
    },
    {
     "name": "stderr",
     "output_type": "stream",
     "text": [
      "100%|██████████| 1500/1500 [00:04<00:00, 370.33it/s]\n",
      "  0%|          | 0/50 [00:00<?, ?it/s]"
     ]
    },
    {
     "name": "stdout",
     "output_type": "stream",
     "text": [
      "\n",
      "Last loss: 0.6223\n",
      "Last train accuracy: 0.7213\n",
      "Last test accuracy: 0.7180\n",
      "\n",
      "\n",
      "Run 8 / 10...\n",
      "Meta-learning...\n"
     ]
    },
    {
     "name": "stderr",
     "output_type": "stream",
     "text": [
      "100%|██████████| 50/50 [02:17<00:00,  2.75s/it]\n",
      "  1%|▏         | 19/1500 [00:00<00:08, 180.82it/s]"
     ]
    },
    {
     "name": "stdout",
     "output_type": "stream",
     "text": [
      "Last loss: 0.3658\n",
      "Last train accuracy: 0.9680\n",
      "Last test accuracy: 0.9420\n",
      "Training SAME brain instance (NO backprop)...\n",
      "===> WARNING: Backprop is disabled, which means that all layers without rules will never change their weights!\n",
      "===> This is NOT recommended by Basile!\n",
      "INITIAL train accuracy: 0.4847\n",
      "INITIAL test accuracy: 0.5060\n",
      "Epoch 1 / 1 ...\n"
     ]
    },
    {
     "name": "stderr",
     "output_type": "stream",
     "text": [
      "100%|██████████| 1500/1500 [00:03<00:00, 376.27it/s]\n",
      "  0%|          | 0/50 [00:00<?, ?it/s]"
     ]
    },
    {
     "name": "stdout",
     "output_type": "stream",
     "text": [
      "\n",
      "Last loss: 0.6467\n",
      "Last train accuracy: 0.6767\n",
      "Last test accuracy: 0.6780\n",
      "\n",
      "\n",
      "Run 9 / 10...\n",
      "Meta-learning...\n"
     ]
    },
    {
     "name": "stderr",
     "output_type": "stream",
     "text": [
      "100%|██████████| 50/50 [02:21<00:00,  2.83s/it]\n",
      "  3%|▎         | 41/1500 [00:00<00:03, 401.63it/s]"
     ]
    },
    {
     "name": "stdout",
     "output_type": "stream",
     "text": [
      "Last loss: 0.6931\n",
      "Last train accuracy: 0.4933\n",
      "Last test accuracy: 0.5080\n",
      "Training SAME brain instance (NO backprop)...\n",
      "===> WARNING: Backprop is disabled, which means that all layers without rules will never change their weights!\n",
      "===> This is NOT recommended by Basile!\n",
      "INITIAL train accuracy: 0.4807\n",
      "INITIAL test accuracy: 0.4840\n",
      "Epoch 1 / 1 ...\n"
     ]
    },
    {
     "name": "stderr",
     "output_type": "stream",
     "text": [
      "100%|██████████| 1500/1500 [00:04<00:00, 309.36it/s]\n",
      "  0%|          | 0/50 [00:00<?, ?it/s]"
     ]
    },
    {
     "name": "stdout",
     "output_type": "stream",
     "text": [
      "\n",
      "Last loss: 0.6931\n",
      "Last train accuracy: 0.4807\n",
      "Last test accuracy: 0.4840\n",
      "\n",
      "\n",
      "Run 10 / 10...\n",
      "Meta-learning...\n"
     ]
    },
    {
     "name": "stderr",
     "output_type": "stream",
     "text": [
      "100%|██████████| 50/50 [02:31<00:00,  3.04s/it]\n",
      "  1%|▏         | 22/1500 [00:00<00:07, 206.31it/s]"
     ]
    },
    {
     "name": "stdout",
     "output_type": "stream",
     "text": [
      "Last loss: 0.3618\n",
      "Last train accuracy: 0.9733\n",
      "Last test accuracy: 0.9640\n",
      "Training SAME brain instance (NO backprop)...\n",
      "===> WARNING: Backprop is disabled, which means that all layers without rules will never change their weights!\n",
      "===> This is NOT recommended by Basile!\n",
      "INITIAL train accuracy: 0.5187\n",
      "INITIAL test accuracy: 0.5360\n",
      "Epoch 1 / 1 ...\n"
     ]
    },
    {
     "name": "stderr",
     "output_type": "stream",
     "text": [
      "100%|██████████| 1500/1500 [00:04<00:00, 369.90it/s]\n",
      "  0%|          | 0/50 [00:00<?, ?it/s]"
     ]
    },
    {
     "name": "stdout",
     "output_type": "stream",
     "text": [
      "\n",
      "Last loss: 0.5763\n",
      "Last train accuracy: 0.7420\n",
      "Last test accuracy: 0.7260\n",
      "\n",
      "==== Interpretation: Post and Incoming Count ====\n",
      "\n",
      "Run 1 / 10...\n",
      "Meta-learning...\n"
     ]
    },
    {
     "name": "stderr",
     "output_type": "stream",
     "text": [
      "100%|██████████| 50/50 [02:08<00:00,  2.56s/it]\n",
      "  3%|▎         | 39/1500 [00:00<00:03, 389.33it/s]"
     ]
    },
    {
     "name": "stdout",
     "output_type": "stream",
     "text": [
      "Last loss: 0.6503\n",
      "Last train accuracy: 0.4847\n",
      "Last test accuracy: 0.4960\n",
      "Training SAME brain instance (NO backprop)...\n",
      "===> WARNING: Backprop is disabled, which means that all layers without rules will never change their weights!\n",
      "===> This is NOT recommended by Basile!\n",
      "INITIAL train accuracy: 0.5040\n",
      "INITIAL test accuracy: 0.4620\n",
      "Epoch 1 / 1 ...\n"
     ]
    },
    {
     "name": "stderr",
     "output_type": "stream",
     "text": [
      "100%|██████████| 1500/1500 [00:03<00:00, 391.64it/s]\n",
      "  0%|          | 0/50 [00:00<?, ?it/s]"
     ]
    },
    {
     "name": "stdout",
     "output_type": "stream",
     "text": [
      "\n",
      "Last loss: 0.7747\n",
      "Last train accuracy: 0.5040\n",
      "Last test accuracy: 0.4620\n",
      "\n",
      "\n",
      "Run 2 / 10...\n",
      "Meta-learning...\n"
     ]
    },
    {
     "name": "stderr",
     "output_type": "stream",
     "text": [
      "100%|██████████| 50/50 [02:15<00:00,  2.71s/it]\n",
      "  0%|          | 0/1500 [00:00<?, ?it/s]"
     ]
    },
    {
     "name": "stdout",
     "output_type": "stream",
     "text": [
      "Last loss: 0.6931\n",
      "Last train accuracy: 0.5120\n",
      "Last test accuracy: 0.4900\n",
      "Training SAME brain instance (NO backprop)...\n",
      "===> WARNING: Backprop is disabled, which means that all layers without rules will never change their weights!\n",
      "===> This is NOT recommended by Basile!\n",
      "INITIAL train accuracy: 0.4960\n",
      "INITIAL test accuracy: 0.4960\n",
      "Epoch 1 / 1 ...\n"
     ]
    },
    {
     "name": "stderr",
     "output_type": "stream",
     "text": [
      "100%|██████████| 1500/1500 [00:04<00:00, 370.86it/s]\n",
      "  0%|          | 0/50 [00:00<?, ?it/s]"
     ]
    },
    {
     "name": "stdout",
     "output_type": "stream",
     "text": [
      "\n",
      "Last loss: 0.6931\n",
      "Last train accuracy: 0.4960\n",
      "Last test accuracy: 0.4960\n",
      "\n",
      "\n",
      "Run 3 / 10...\n",
      "Meta-learning...\n"
     ]
    },
    {
     "name": "stderr",
     "output_type": "stream",
     "text": [
      "100%|██████████| 50/50 [02:35<00:00,  3.11s/it]\n",
      "  0%|          | 0/1500 [00:00<?, ?it/s]"
     ]
    },
    {
     "name": "stdout",
     "output_type": "stream",
     "text": [
      "Last loss: 0.6609\n",
      "Last train accuracy: 0.5180\n",
      "Last test accuracy: 0.5080\n",
      "Training SAME brain instance (NO backprop)...\n",
      "===> WARNING: Backprop is disabled, which means that all layers without rules will never change their weights!\n",
      "===> This is NOT recommended by Basile!\n",
      "INITIAL train accuracy: 0.5067\n",
      "INITIAL test accuracy: 0.4960\n",
      "Epoch 1 / 1 ...\n"
     ]
    },
    {
     "name": "stderr",
     "output_type": "stream",
     "text": [
      "100%|██████████| 1500/1500 [00:04<00:00, 345.47it/s]\n",
      "  0%|          | 0/50 [00:00<?, ?it/s]"
     ]
    },
    {
     "name": "stdout",
     "output_type": "stream",
     "text": [
      "\n",
      "Last loss: 0.7581\n",
      "Last train accuracy: 0.5067\n",
      "Last test accuracy: 0.4960\n",
      "\n",
      "\n",
      "Run 4 / 10...\n",
      "Meta-learning...\n"
     ]
    },
    {
     "name": "stderr",
     "output_type": "stream",
     "text": [
      "100%|██████████| 50/50 [02:41<00:00,  3.24s/it]\n",
      "  0%|          | 0/1500 [00:00<?, ?it/s]"
     ]
    },
    {
     "name": "stdout",
     "output_type": "stream",
     "text": [
      "Last loss: 0.6656\n",
      "Last train accuracy: 0.5060\n",
      "Last test accuracy: 0.5240\n",
      "Training SAME brain instance (NO backprop)...\n",
      "===> WARNING: Backprop is disabled, which means that all layers without rules will never change their weights!\n",
      "===> This is NOT recommended by Basile!\n",
      "INITIAL train accuracy: 0.5013\n",
      "INITIAL test accuracy: 0.4980\n",
      "Epoch 1 / 1 ...\n"
     ]
    },
    {
     "name": "stderr",
     "output_type": "stream",
     "text": [
      "100%|██████████| 1500/1500 [00:03<00:00, 382.13it/s]\n",
      "  0%|          | 0/50 [00:00<?, ?it/s]"
     ]
    },
    {
     "name": "stdout",
     "output_type": "stream",
     "text": [
      "\n",
      "Last loss: 0.7563\n",
      "Last train accuracy: 0.5013\n",
      "Last test accuracy: 0.4980\n",
      "\n",
      "\n",
      "Run 5 / 10...\n",
      "Meta-learning...\n"
     ]
    },
    {
     "name": "stderr",
     "output_type": "stream",
     "text": [
      "100%|██████████| 50/50 [02:50<00:00,  3.40s/it]\n",
      "  0%|          | 0/1500 [00:00<?, ?it/s]"
     ]
    },
    {
     "name": "stdout",
     "output_type": "stream",
     "text": [
      "Last loss: 0.6344\n",
      "Last train accuracy: 0.5247\n",
      "Last test accuracy: 0.5180\n",
      "Training SAME brain instance (NO backprop)...\n",
      "===> WARNING: Backprop is disabled, which means that all layers without rules will never change their weights!\n",
      "===> This is NOT recommended by Basile!\n",
      "INITIAL train accuracy: 0.5013\n",
      "INITIAL test accuracy: 0.4780\n",
      "Epoch 1 / 1 ...\n"
     ]
    },
    {
     "name": "stderr",
     "output_type": "stream",
     "text": [
      "100%|██████████| 1500/1500 [00:04<00:00, 356.59it/s]\n",
      "  0%|          | 0/50 [00:00<?, ?it/s]"
     ]
    },
    {
     "name": "stdout",
     "output_type": "stream",
     "text": [
      "\n",
      "Last loss: 0.7493\n",
      "Last train accuracy: 0.5013\n",
      "Last test accuracy: 0.4780\n",
      "\n",
      "\n",
      "Run 6 / 10...\n",
      "Meta-learning...\n"
     ]
    },
    {
     "name": "stderr",
     "output_type": "stream",
     "text": [
      "100%|██████████| 50/50 [02:50<00:00,  3.40s/it]\n",
      "  0%|          | 0/1500 [00:00<?, ?it/s]"
     ]
    },
    {
     "name": "stdout",
     "output_type": "stream",
     "text": [
      "Last loss: 0.6653\n",
      "Last train accuracy: 0.4707\n",
      "Last test accuracy: 0.4600\n",
      "Training SAME brain instance (NO backprop)...\n",
      "===> WARNING: Backprop is disabled, which means that all layers without rules will never change their weights!\n",
      "===> This is NOT recommended by Basile!\n",
      "INITIAL train accuracy: 0.4993\n",
      "INITIAL test accuracy: 0.5100\n",
      "Epoch 1 / 1 ...\n"
     ]
    },
    {
     "name": "stderr",
     "output_type": "stream",
     "text": [
      "100%|██████████| 1500/1500 [00:03<00:00, 377.61it/s]\n",
      "  0%|          | 0/50 [00:00<?, ?it/s]"
     ]
    },
    {
     "name": "stdout",
     "output_type": "stream",
     "text": [
      "\n",
      "Last loss: 0.7866\n",
      "Last train accuracy: 0.5227\n",
      "Last test accuracy: 0.5100\n",
      "\n",
      "\n",
      "Run 7 / 10...\n",
      "Meta-learning...\n"
     ]
    },
    {
     "name": "stderr",
     "output_type": "stream",
     "text": [
      "100%|██████████| 50/50 [02:39<00:00,  3.19s/it]\n",
      "  2%|▏         | 28/1500 [00:00<00:05, 257.68it/s]"
     ]
    },
    {
     "name": "stdout",
     "output_type": "stream",
     "text": [
      "Last loss: 0.6931\n",
      "Last train accuracy: 0.5020\n",
      "Last test accuracy: 0.4980\n",
      "Training SAME brain instance (NO backprop)...\n",
      "===> WARNING: Backprop is disabled, which means that all layers without rules will never change their weights!\n",
      "===> This is NOT recommended by Basile!\n",
      "INITIAL train accuracy: 0.4693\n",
      "INITIAL test accuracy: 0.4760\n",
      "Epoch 1 / 1 ...\n"
     ]
    },
    {
     "name": "stderr",
     "output_type": "stream",
     "text": [
      "100%|██████████| 1500/1500 [00:04<00:00, 349.74it/s]\n",
      "  0%|          | 0/50 [00:00<?, ?it/s]"
     ]
    },
    {
     "name": "stdout",
     "output_type": "stream",
     "text": [
      "\n",
      "Last loss: 0.6931\n",
      "Last train accuracy: 0.5307\n",
      "Last test accuracy: 0.5240\n",
      "\n",
      "\n",
      "Run 8 / 10...\n",
      "Meta-learning...\n"
     ]
    },
    {
     "name": "stderr",
     "output_type": "stream",
     "text": [
      "100%|██████████| 50/50 [02:43<00:00,  3.26s/it]\n",
      "  3%|▎         | 44/1500 [00:00<00:03, 434.00it/s]"
     ]
    },
    {
     "name": "stdout",
     "output_type": "stream",
     "text": [
      "Last loss: 0.6470\n",
      "Last train accuracy: 0.5173\n",
      "Last test accuracy: 0.5140\n",
      "Training SAME brain instance (NO backprop)...\n",
      "===> WARNING: Backprop is disabled, which means that all layers without rules will never change their weights!\n",
      "===> This is NOT recommended by Basile!\n",
      "INITIAL train accuracy: 0.5147\n",
      "INITIAL test accuracy: 0.5140\n",
      "Epoch 1 / 1 ...\n"
     ]
    },
    {
     "name": "stderr",
     "output_type": "stream",
     "text": [
      "100%|██████████| 1500/1500 [00:04<00:00, 339.45it/s]\n",
      "  0%|          | 0/50 [00:00<?, ?it/s]"
     ]
    },
    {
     "name": "stdout",
     "output_type": "stream",
     "text": [
      "\n",
      "Last loss: 0.7388\n",
      "Last train accuracy: 0.5147\n",
      "Last test accuracy: 0.5140\n",
      "\n",
      "\n",
      "Run 9 / 10...\n",
      "Meta-learning...\n"
     ]
    },
    {
     "name": "stderr",
     "output_type": "stream",
     "text": [
      "100%|██████████| 50/50 [02:39<00:00,  3.20s/it]\n",
      "  0%|          | 0/1500 [00:00<?, ?it/s]"
     ]
    },
    {
     "name": "stdout",
     "output_type": "stream",
     "text": [
      "Last loss: 0.6559\n",
      "Last train accuracy: 0.5173\n",
      "Last test accuracy: 0.5040\n",
      "Training SAME brain instance (NO backprop)...\n",
      "===> WARNING: Backprop is disabled, which means that all layers without rules will never change their weights!\n",
      "===> This is NOT recommended by Basile!\n",
      "INITIAL train accuracy: 0.5107\n",
      "INITIAL test accuracy: 0.4960\n",
      "Epoch 1 / 1 ...\n"
     ]
    },
    {
     "name": "stderr",
     "output_type": "stream",
     "text": [
      "100%|██████████| 1500/1500 [00:04<00:00, 348.00it/s]\n",
      "  0%|          | 0/50 [00:00<?, ?it/s]"
     ]
    },
    {
     "name": "stdout",
     "output_type": "stream",
     "text": [
      "\n",
      "Last loss: 0.7690\n",
      "Last train accuracy: 0.5107\n",
      "Last test accuracy: 0.4960\n",
      "\n",
      "\n",
      "Run 10 / 10...\n",
      "Meta-learning...\n"
     ]
    },
    {
     "name": "stderr",
     "output_type": "stream",
     "text": [
      "100%|██████████| 50/50 [02:44<00:00,  3.28s/it]\n",
      "  2%|▏         | 23/1500 [00:00<00:06, 229.82it/s]"
     ]
    },
    {
     "name": "stdout",
     "output_type": "stream",
     "text": [
      "Last loss: 0.6701\n",
      "Last train accuracy: 0.5113\n",
      "Last test accuracy: 0.4740\n",
      "Training SAME brain instance (NO backprop)...\n",
      "===> WARNING: Backprop is disabled, which means that all layers without rules will never change their weights!\n",
      "===> This is NOT recommended by Basile!\n",
      "INITIAL train accuracy: 0.4907\n",
      "INITIAL test accuracy: 0.4860\n",
      "Epoch 1 / 1 ...\n"
     ]
    },
    {
     "name": "stderr",
     "output_type": "stream",
     "text": [
      "100%|██████████| 1500/1500 [00:04<00:00, 330.52it/s]"
     ]
    },
    {
     "name": "stdout",
     "output_type": "stream",
     "text": [
      "\n",
      "Last loss: 0.8115\n",
      "Last train accuracy: 0.5100\n",
      "Last test accuracy: 0.5120\n",
      "\n"
     ]
    },
    {
     "name": "stderr",
     "output_type": "stream",
     "text": [
      "\n"
     ]
    }
   ],
   "source": [
    "# Evaluate models.\n",
    "print('==== Original RNN (very different from all the rest) ====')\n",
    "stats_rnn_up, stats_rnn_down = evaluate_brain(\n",
    "    brain_rnn_fact, n, dataset=dataset,\n",
    "    num_runs=num_runs, num_rule_epochs=num_rule_epochs,\n",
    "    num_epochs_upstream=num_epochs_upstream, num_epochs_downstream=num_epochs_downstream)\n",
    "print('==== Interpretation: Pre and Post ====')\n",
    "stats_prepost_up, stats_prepost_down = evaluate_brain(\n",
    "    brain_prepost_fact, n, dataset=dataset,\n",
    "    num_runs=num_runs, num_rule_epochs=num_rule_epochs,\n",
    "    num_epochs_upstream=num_epochs_upstream, num_epochs_downstream=num_epochs_downstream)\n",
    "print('==== Interpretation: Pre and Post and Incoming Count ====')\n",
    "stats_prepostcount_up, stats_prepostcount_down = evaluate_brain(\n",
    "    brain_prepostcount_fact, n, dataset=dataset,\n",
    "    num_runs=num_runs, num_rule_epochs=num_rule_epochs,\n",
    "    num_epochs_upstream=num_epochs_upstream, num_epochs_downstream=num_epochs_downstream)\n",
    "print('==== Interpretation: Pre and Post and Binned Incoming Fraction ====')\n",
    "stats_prepostpercent_up, stats_prepostpercent_down = evaluate_brain(\n",
    "    brain_prepostpercent_fact, n, dataset=dataset,\n",
    "    num_runs=num_runs, num_rule_epochs=num_rule_epochs,\n",
    "    num_epochs_upstream=num_epochs_upstream, num_epochs_downstream=num_epochs_downstream)\n",
    "print('==== Interpretation: Post and Incoming Count ====')\n",
    "stats_postcount_up, stats_postcount_down = evaluate_brain(\n",
    "    brain_postcount_fact, n, dataset=dataset,\n",
    "    num_runs=num_runs, num_rule_epochs=num_rule_epochs,\n",
    "    num_epochs_upstream=num_epochs_upstream, num_epochs_downstream=num_epochs_downstream)"
   ]
  },
  {
   "cell_type": "code",
   "execution_count": 8,
   "metadata": {},
   "outputs": [
    {
     "name": "stdout",
     "output_type": "stream",
     "text": [
      "Saving figure to: figs/comparing_single_rnn_halfspace\n"
     ]
    },
    {
     "data": {
      "image/png": "[encoded data removed]",
      "text/plain": [
       "<Figure size 720x288 with 2 Axes>"
      ]
     },
     "metadata": {},
     "output_type": "display_data"
    },
    {
     "name": "stdout",
     "output_type": "stream",
     "text": [
      "Mean essential stats across all runs:\n",
      "Last upstream loss: 0.3588\n",
      "Last upstream train accuracy: 0.9519\n",
      "Last upstream test accuracy: 0.9514\n",
      "Last downstream loss: 0.7005\n",
      "Last downstream train accuracy: 0.6083\n",
      "Last downstream test accuracy: 0.6140\n",
      "\n",
      "Saving figure to: figs/comparing_single_prepost_halfspace\n"
     ]
    },
    {
     "data": {
      "image/png": "[encoded data removed]",
      "text/plain": [
       "<Figure size 720x288 with 2 Axes>"
      ]
     },
     "metadata": {},
     "output_type": "display_data"
    },
    {
     "name": "stdout",
     "output_type": "stream",
     "text": [
      "Mean essential stats across all runs:\n",
      "Last upstream loss: 0.3868\n",
      "Last upstream train accuracy: 0.9233\n",
      "Last upstream test accuracy: 0.9120\n",
      "Last downstream loss: 0.5890\n",
      "Last downstream train accuracy: 0.7127\n",
      "Last downstream test accuracy: 0.6974\n",
      "\n",
      "Saving figure to: figs/comparing_single_prepostcount_halfspace\n"
     ]
    },
    {
     "data": {
      "image/png": "[encoded data removed]",
      "text/plain": [
       "<Figure size 720x288 with 2 Axes>"
      ]
     },
     "metadata": {},
     "output_type": "display_data"
    },
    {
     "name": "stdout",
     "output_type": "stream",
     "text": [
      "Mean essential stats across all runs:\n",
      "Last upstream loss: 0.4322\n",
      "Last upstream train accuracy: 0.8732\n",
      "Last upstream test accuracy: 0.8664\n",
      "Last downstream loss: 0.6493\n",
      "Last downstream train accuracy: 0.6414\n",
      "Last downstream test accuracy: 0.6408\n",
      "\n",
      "Saving figure to: figs/comparing_single_prepostpercent_halfspace\n"
     ]
    },
    {
     "data": {
      "image/png": "[encoded data removed]",
      "text/plain": [
       "<Figure size 720x288 with 2 Axes>"
      ]
     },
     "metadata": {},
     "output_type": "display_data"
    },
    {
     "name": "stdout",
     "output_type": "stream",
     "text": [
      "Mean essential stats across all runs:\n",
      "Last upstream loss: 0.4662\n",
      "Last upstream train accuracy: 0.8172\n",
      "Last upstream test accuracy: 0.8068\n",
      "Last downstream loss: 0.6424\n",
      "Last downstream train accuracy: 0.6408\n",
      "Last downstream test accuracy: 0.6384\n",
      "\n",
      "Saving figure to: figs/comparing_single_postcount_halfspace\n"
     ]
    },
    {
     "data": {
      "image/png": "[encoded data removed]",
      "text/plain": [
       "<Figure size 720x288 with 2 Axes>"
      ]
     },
     "metadata": {},
     "output_type": "display_data"
    },
    {
     "name": "stdout",
     "output_type": "stream",
     "text": [
      "Mean essential stats across all runs:\n",
      "Last upstream loss: 0.6636\n",
      "Last upstream train accuracy: 0.5064\n",
      "Last upstream test accuracy: 0.4986\n",
      "Last downstream loss: 0.7531\n",
      "Last downstream train accuracy: 0.5098\n",
      "Last downstream test accuracy: 0.4986\n",
      "\n"
     ]
    }
   ],
   "source": [
    "# Plot aggregated stats.\n",
    "agg_stats_rnn_up = convert_multi_stats_uncertainty(stats_rnn_up)\n",
    "agg_stats_rnn_down = convert_multi_stats_uncertainty(stats_rnn_down)\n",
    "plot_curves(agg_stats_rnn_up, agg_stats_rnn_down,\n",
    "            '[RNN] Upstream meta-learning on ' + dataset,\n",
    "            '[RNN] Downstream training on ' + dataset,\n",
    "            'figs/comparing_single_rnn_' + dataset)\n",
    "agg_stats_prepost_up = convert_multi_stats_uncertainty(stats_prepost_up)\n",
    "agg_stats_prepost_down = convert_multi_stats_uncertainty(stats_prepost_down)\n",
    "plot_curves(agg_stats_prepost_up, agg_stats_prepost_down,\n",
    "            '[PrePost] Upstream meta-learning on ' + dataset,\n",
    "            '[PrePost] Downstream training on ' + dataset,\n",
    "            'figs/comparing_single_prepost_' + dataset)\n",
    "agg_stats_prepostcount_up = convert_multi_stats_uncertainty(stats_prepostcount_up)\n",
    "agg_stats_prepostcount_down = convert_multi_stats_uncertainty(stats_prepostcount_down)\n",
    "plot_curves(agg_stats_prepostcount_up, agg_stats_prepostcount_down,\n",
    "            '[PrePostCount] Upstream meta-learning on ' + dataset,\n",
    "            '[PrePostCount] Downstream training on ' + dataset,\n",
    "            'figs/comparing_single_prepostcount_' + dataset)\n",
    "agg_stats_prepostpercent_up = convert_multi_stats_uncertainty(stats_prepostpercent_up)\n",
    "agg_stats_prepostpercent_down = convert_multi_stats_uncertainty(stats_prepostpercent_down)\n",
    "plot_curves(agg_stats_prepostpercent_up, agg_stats_prepostpercent_down,\n",
    "            '[PrePostPercent] Upstream meta-learning on ' + dataset,\n",
    "            '[PrePostPercent] Downstream training on ' + dataset,\n",
    "            'figs/comparing_single_prepostpercent_' + dataset)\n",
    "agg_stats_postcount_up = convert_multi_stats_uncertainty(stats_postcount_up)\n",
    "agg_stats_postcount_down = convert_multi_stats_uncertainty(stats_postcount_down)\n",
    "plot_curves(agg_stats_postcount_up, agg_stats_postcount_down,\n",
    "            '[PostCount] Upstream meta-learning on ' + dataset,\n",
    "            '[PostCount] Downstream training on ' + dataset,\n",
    "            'figs/comparing_single_postcount_' + dataset)"
   ]
  },
  {
   "cell_type": "code",
   "execution_count": 9,
   "metadata": {},
   "outputs": [
    {
     "name": "stdout",
     "output_type": "stream",
     "text": [
      "Saving figure to: figs/comparing_single_table_halfspace\n"
     ]
    },
    {
     "data": {
      "image/png": "[encoded data removed]",
      "text/plain": [
       "<Figure size 720x288 with 2 Axes>"
      ]
     },
     "metadata": {},
     "output_type": "display_data"
    }
   ],
   "source": [
    "# Plot to compare all.\n",
    "all_stats_up = [agg_stats_rnn_up, agg_stats_prepost_up, agg_stats_prepostcount_up, agg_stats_prepostpercent_up, agg_stats_postcount_up]\n",
    "all_stats_down = [agg_stats_rnn_down, agg_stats_prepost_down, agg_stats_prepostcount_down, agg_stats_prepostpercent_down, agg_stats_postcount_down]\n",
    "labels = ['RNN', 'PrePost', 'PrePostCount', 'PrePostPercent', 'PostCount']\n",
    "plot_compare_models(all_stats_up, all_stats_down, labels,\n",
    "                    'Upstream meta-learning on ' + dataset,\n",
    "                    'Downstream training on ' + dataset,\n",
    "                    'figs/comparing_single_table_' + dataset)"
   ]
  },
  {
   "cell_type": "markdown",
   "metadata": {},
   "source": [
    "## Evaluate all small-ANN-based feed-forward networks."
   ]
  },
  {
   "cell_type": "code",
   "execution_count": null,
   "metadata": {},
   "outputs": [],
   "source": []
  }
 ],
 "metadata": {
  "kernelspec": {
   "display_name": "Python 3",
   "language": "python",
   "name": "python3"
  },
  "language_info": {
   "codemirror_mode": {
    "name": "ipython",
    "version": 3
   },
   "file_extension": ".py",
   "mimetype": "text/x-python",
   "name": "python",
   "nbconvert_exporter": "python",
   "pygments_lexer": "ipython3",
   "version": "3.7.7"
  }
 },
 "nbformat": 4,
 "nbformat_minor": 4
}
