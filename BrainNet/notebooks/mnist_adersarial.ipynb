{
 "cells": [
  {
   "cell_type": "code",
   "execution_count": 1,
   "metadata": {
    "colab": {},
    "colab_type": "code",
    "id": "iJPwOE1mkbJd"
   },
   "outputs": [],
   "source": [
    "from DataGenerator import * \n",
    "from network import LocalNet\n",
    "from BrainNet import BrainNet\n",
    "from LocalNetBase import Options, UpdateScheme\n",
    "import matplotlib.pyplot as plt\n",
    "from train import train_local_rule, train_vanilla, train_given_rule\n",
    "import numpy as np\n",
    "from train import evaluate\n",
    "\n",
    "\n",
    "%load_ext autoreload\n",
    "%autoreload 2\n",
    "\n",
    "np.set_printoptions(precision=4)"
   ]
  },
  {
   "cell_type": "code",
   "execution_count": 2,
   "metadata": {
    "colab": {},
    "colab_type": "code",
    "id": "J-klaK8NkbJj"
   },
   "outputs": [],
   "source": [
    "image_size = 28 # width and length\n",
    "labels = 10 \n",
    "image_pixels = image_size * image_size\n",
    "data_path = \"./mnist/\"\n",
    "train_data = np.loadtxt(data_path + \"mnist_train.csv\", \n",
    "                        delimiter=\",\")\n",
    "test_data = np.loadtxt(data_path + \"mnist_test.csv\", \n",
    "                       delimiter=\",\") "
   ]
  },
  {
   "cell_type": "code",
   "execution_count": 3,
   "metadata": {
    "colab": {
     "base_uri": "https://localhost:8080/",
     "height": 35
    },
    "colab_type": "code",
    "id": "-QdA1HmMkbJm",
    "outputId": "23f91680-e41b-47ed-d2b2-011e4156f297"
   },
   "outputs": [
    {
     "data": {
      "text/plain": [
       "60000"
      ]
     },
     "execution_count": 3,
     "metadata": {},
     "output_type": "execute_result"
    }
   ],
   "source": [
    "len(train_data)"
   ]
  },
  {
   "cell_type": "code",
   "execution_count": 4,
   "metadata": {
    "colab": {},
    "colab_type": "code",
    "id": "eAa6iOvakbJp"
   },
   "outputs": [],
   "source": [
    "dim = image_size * image_size\n",
    "fac = 0.99 / 255\n",
    "train_imgs = np.asfarray(train_data[:, 1:]) * fac + 0.01\n",
    "test_imgs = np.asfarray(test_data[:, 1:]) * fac + 0.01\n",
    "train_labels = np.asfarray(train_data[:, :1])\n",
    "test_labels = np.asfarray(test_data[:, :1])"
   ]
  },
  {
   "cell_type": "code",
   "execution_count": 5,
   "metadata": {
    "colab": {
     "base_uri": "https://localhost:8080/",
     "height": 193
    },
    "colab_type": "code",
    "id": "eAlIMqACkbJt",
    "outputId": "39cd9dd9-90b9-4462-e813-19138c0936c1"
   },
   "outputs": [
    {
     "name": "stdout",
     "output_type": "stream",
     "text": [
      "5923\n",
      "6742\n",
      "5958\n",
      "6131\n",
      "5842\n",
      "5421\n",
      "5918\n",
      "6265\n",
      "5851\n",
      "5949\n"
     ]
    }
   ],
   "source": [
    "data = 60000\n",
    "X = train_imgs[0:data]\n",
    "y = train_labels[0:data]\n",
    "X_test = test_imgs\n",
    "y_test = test_labels\n",
    "\n",
    "y = y.flatten().astype(int)\n",
    "y_test = y_test.flatten().astype(int)\n",
    "\n",
    "for i in range(10):\n",
    "    print(sum(y==i))"
   ]
  },
  {
   "cell_type": "code",
   "execution_count": 6,
   "metadata": {
    "colab": {},
    "colab_type": "code",
    "id": "21ukb_uqkbJ0"
   },
   "outputs": [],
   "source": [
    "options = Options(\n",
    "                 gd_output = False,\n",
    "                 gd_input = False,\n",
    "                 use_graph_rule = False, \n",
    "                 use_input_rule = False,\n",
    "                 use_output_rule = True,\n",
    "                 gd_output_rule = False,\n",
    "                 gd_graph_rule = False,\n",
    "                 additive_rule = True)\n",
    "\n",
    "scheme = UpdateScheme(\n",
    "            cross_entropy_loss = True, \n",
    "            mse_loss = False, \n",
    "            update_misclassified = True,\n",
    "            update_all_edges = False\n",
    "        )"
   ]
  },
  {
   "cell_type": "code",
   "execution_count": 8,
   "metadata": {
    "colab": {},
    "colab_type": "code",
    "id": "5E-EE6aakbJ3"
   },
   "outputs": [
    {
     "name": "stdout",
     "output_type": "stream",
     "text": [
      "Epoch #: 0\n",
      "Train on 0  examples.\n",
      "Acc of class 0 :1.0000\n",
      "Acc of class 1 :0.0000\n",
      "Acc of class 2 :0.0000\n",
      "Acc of class 3 :0.0000\n",
      "Acc of class 4 :0.0000\n",
      "Acc of class 5 :0.0000\n",
      "Acc of class 6 :0.0000\n",
      "Acc of class 7 :0.0000\n",
      "Acc of class 8 :0.0000\n",
      "Acc of class 9 :0.0000\n",
      "Train Accuracy: 0.0987\n",
      "Acc of class 0 :1.0000\n",
      "Acc of class 1 :0.0000\n",
      "Acc of class 2 :0.0000\n",
      "Acc of class 3 :0.0000\n",
      "Acc of class 4 :0.0000\n",
      "Acc of class 5 :0.0000\n",
      "Acc of class 6 :0.0000\n",
      "Acc of class 7 :0.0000\n",
      "Acc of class 8 :0.0000\n",
      "Acc of class 9 :0.0000\n",
      "Test Accuracy: 0.0980\n",
      "Train on 5000  examples.\n",
      "Acc of class 0 :1.0000\n",
      "Acc of class 1 :0.0000\n",
      "Acc of class 2 :0.0000\n",
      "Acc of class 3 :0.0000\n",
      "Acc of class 4 :0.0000\n",
      "Acc of class 5 :0.0000\n",
      "Acc of class 6 :0.0000\n",
      "Acc of class 7 :0.0000\n",
      "Acc of class 8 :0.0000\n",
      "Acc of class 9 :0.0000\n",
      "Train Accuracy: 0.0987\n",
      "Acc of class 0 :1.0000\n",
      "Acc of class 1 :0.0000\n",
      "Acc of class 2 :0.0000\n",
      "Acc of class 3 :0.0000\n",
      "Acc of class 4 :0.0000\n",
      "Acc of class 5 :0.0000\n",
      "Acc of class 6 :0.0000\n",
      "Acc of class 7 :0.0000\n",
      "Acc of class 8 :0.0000\n",
      "Acc of class 9 :0.0000\n",
      "Test Accuracy: 0.0980\n",
      "Train on 10000  examples.\n",
      "Acc of class 0 :1.0000\n",
      "Acc of class 1 :0.0000\n",
      "Acc of class 2 :0.0000\n",
      "Acc of class 3 :0.0000\n",
      "Acc of class 4 :0.0000\n",
      "Acc of class 5 :0.0000\n",
      "Acc of class 6 :0.0000\n",
      "Acc of class 7 :0.0000\n",
      "Acc of class 8 :0.0000\n",
      "Acc of class 9 :0.0000\n",
      "Train Accuracy: 0.0987\n",
      "Acc of class 0 :1.0000\n",
      "Acc of class 1 :0.0000\n",
      "Acc of class 2 :0.0000\n",
      "Acc of class 3 :0.0000\n",
      "Acc of class 4 :0.0000\n",
      "Acc of class 5 :0.0000\n",
      "Acc of class 6 :0.0000\n",
      "Acc of class 7 :0.0000\n",
      "Acc of class 8 :0.0000\n",
      "Acc of class 9 :0.0000\n",
      "Test Accuracy: 0.0980\n",
      "Train on 15000  examples.\n",
      "Acc of class 0 :1.0000\n",
      "Acc of class 1 :0.0000\n",
      "Acc of class 2 :0.0000\n",
      "Acc of class 3 :0.0000\n",
      "Acc of class 4 :0.0000\n",
      "Acc of class 5 :0.0000\n",
      "Acc of class 6 :0.0000\n",
      "Acc of class 7 :0.0000\n",
      "Acc of class 8 :0.0000\n",
      "Acc of class 9 :0.0000\n",
      "Train Accuracy: 0.0987\n",
      "Acc of class 0 :1.0000\n",
      "Acc of class 1 :0.0000\n",
      "Acc of class 2 :0.0000\n",
      "Acc of class 3 :0.0000\n",
      "Acc of class 4 :0.0000\n",
      "Acc of class 5 :0.0000\n",
      "Acc of class 6 :0.0000\n",
      "Acc of class 7 :0.0000\n",
      "Acc of class 8 :0.0000\n",
      "Acc of class 9 :0.0000\n",
      "Test Accuracy: 0.0980\n",
      "Train on 20000  examples.\n",
      "Acc of class 0 :1.0000\n",
      "Acc of class 1 :0.0000\n",
      "Acc of class 2 :0.0000\n",
      "Acc of class 3 :0.0000\n",
      "Acc of class 4 :0.0000\n",
      "Acc of class 5 :0.0000\n",
      "Acc of class 6 :0.0000\n",
      "Acc of class 7 :0.0000\n",
      "Acc of class 8 :0.0000\n",
      "Acc of class 9 :0.0000\n",
      "Train Accuracy: 0.0987\n",
      "Acc of class 0 :1.0000\n",
      "Acc of class 1 :0.0000\n",
      "Acc of class 2 :0.0000\n",
      "Acc of class 3 :0.0000\n",
      "Acc of class 4 :0.0000\n",
      "Acc of class 5 :0.0000\n",
      "Acc of class 6 :0.0000\n",
      "Acc of class 7 :0.0000\n",
      "Acc of class 8 :0.0000\n",
      "Acc of class 9 :0.0000\n",
      "Test Accuracy: 0.0980\n",
      "Train on 25000  examples.\n",
      "Acc of class 0 :1.0000\n",
      "Acc of class 1 :0.0000\n",
      "Acc of class 2 :0.0000\n",
      "Acc of class 3 :0.0000\n",
      "Acc of class 4 :0.0000\n",
      "Acc of class 5 :0.0000\n",
      "Acc of class 6 :0.0000\n",
      "Acc of class 7 :0.0000\n",
      "Acc of class 8 :0.0000\n",
      "Acc of class 9 :0.0000\n",
      "Train Accuracy: 0.0987\n",
      "Acc of class 0 :1.0000\n",
      "Acc of class 1 :0.0000\n",
      "Acc of class 2 :0.0000\n",
      "Acc of class 3 :0.0000\n",
      "Acc of class 4 :0.0000\n",
      "Acc of class 5 :0.0000\n",
      "Acc of class 6 :0.0000\n",
      "Acc of class 7 :0.0000\n",
      "Acc of class 8 :0.0000\n",
      "Acc of class 9 :0.0000\n",
      "Test Accuracy: 0.0980\n",
      "Train on 30000  examples.\n",
      "Acc of class 0 :1.0000\n",
      "Acc of class 1 :0.0000\n",
      "Acc of class 2 :0.0000\n",
      "Acc of class 3 :0.0000\n",
      "Acc of class 4 :0.0000\n",
      "Acc of class 5 :0.0000\n",
      "Acc of class 6 :0.0000\n",
      "Acc of class 7 :0.0000\n",
      "Acc of class 8 :0.0000\n",
      "Acc of class 9 :0.0000\n",
      "Train Accuracy: 0.0987\n",
      "Acc of class 0 :1.0000\n",
      "Acc of class 1 :0.0000\n",
      "Acc of class 2 :0.0000\n",
      "Acc of class 3 :0.0000\n",
      "Acc of class 4 :0.0000\n",
      "Acc of class 5 :0.0000\n",
      "Acc of class 6 :0.0000\n",
      "Acc of class 7 :0.0000\n",
      "Acc of class 8 :0.0000\n",
      "Acc of class 9 :0.0000\n",
      "Test Accuracy: 0.0980\n",
      "Train on 35000  examples.\n",
      "Acc of class 0 :1.0000\n",
      "Acc of class 1 :0.0000\n",
      "Acc of class 2 :0.0000\n",
      "Acc of class 3 :0.0000\n",
      "Acc of class 4 :0.0000\n",
      "Acc of class 5 :0.0000\n",
      "Acc of class 6 :0.0000\n",
      "Acc of class 7 :0.0000\n",
      "Acc of class 8 :0.0000\n",
      "Acc of class 9 :0.0000\n",
      "Train Accuracy: 0.0987\n",
      "Acc of class 0 :1.0000\n",
      "Acc of class 1 :0.0000\n",
      "Acc of class 2 :0.0000\n",
      "Acc of class 3 :0.0000\n",
      "Acc of class 4 :0.0000\n",
      "Acc of class 5 :0.0000\n",
      "Acc of class 6 :0.0000\n",
      "Acc of class 7 :0.0000\n",
      "Acc of class 8 :0.0000\n",
      "Acc of class 9 :0.0000\n",
      "Test Accuracy: 0.0980\n",
      "Train on 40000  examples.\n",
      "Acc of class 0 :1.0000\n",
      "Acc of class 1 :0.0000\n",
      "Acc of class 2 :0.0000\n",
      "Acc of class 3 :0.0000\n",
      "Acc of class 4 :0.0000\n",
      "Acc of class 5 :0.0000\n",
      "Acc of class 6 :0.0000\n",
      "Acc of class 7 :0.0000\n",
      "Acc of class 8 :0.0000\n",
      "Acc of class 9 :0.0000\n",
      "Train Accuracy: 0.0987\n",
      "Acc of class 0 :1.0000\n",
      "Acc of class 1 :0.0000\n",
      "Acc of class 2 :0.0000\n",
      "Acc of class 3 :0.0000\n",
      "Acc of class 4 :0.0000\n",
      "Acc of class 5 :0.0000\n",
      "Acc of class 6 :0.0000\n",
      "Acc of class 7 :0.0000\n",
      "Acc of class 8 :0.0000\n",
      "Acc of class 9 :0.0000\n",
      "Test Accuracy: 0.0980\n",
      "Train on 45000  examples.\n",
      "Acc of class 0 :1.0000\n",
      "Acc of class 1 :0.0000\n",
      "Acc of class 2 :0.0000\n",
      "Acc of class 3 :0.0000\n",
      "Acc of class 4 :0.0000\n",
      "Acc of class 5 :0.0000\n",
      "Acc of class 6 :0.0000\n",
      "Acc of class 7 :0.0000\n",
      "Acc of class 8 :0.0000\n",
      "Acc of class 9 :0.0000\n",
      "Train Accuracy: 0.0987\n",
      "Acc of class 0 :1.0000\n",
      "Acc of class 1 :0.0000\n",
      "Acc of class 2 :0.0000\n",
      "Acc of class 3 :0.0000\n",
      "Acc of class 4 :0.0000\n",
      "Acc of class 5 :0.0000\n",
      "Acc of class 6 :0.0000\n",
      "Acc of class 7 :0.0000\n",
      "Acc of class 8 :0.0000\n",
      "Acc of class 9 :0.0000\n",
      "Test Accuracy: 0.0980\n",
      "Train on 50000  examples.\n",
      "Acc of class 0 :1.0000\n",
      "Acc of class 1 :0.0000\n",
      "Acc of class 2 :0.0000\n",
      "Acc of class 3 :0.0000\n",
      "Acc of class 4 :0.0000\n",
      "Acc of class 5 :0.0000\n",
      "Acc of class 6 :0.0000\n",
      "Acc of class 7 :0.0000\n",
      "Acc of class 8 :0.0000\n",
      "Acc of class 9 :0.0000\n",
      "Train Accuracy: 0.0987\n",
      "Acc of class 0 :1.0000\n",
      "Acc of class 1 :0.0000\n",
      "Acc of class 2 :0.0000\n",
      "Acc of class 3 :0.0000\n",
      "Acc of class 4 :0.0000\n",
      "Acc of class 5 :0.0000\n",
      "Acc of class 6 :0.0000\n",
      "Acc of class 7 :0.0000\n",
      "Acc of class 8 :0.0000\n",
      "Acc of class 9 :0.0000\n",
      "Test Accuracy: 0.0980\n",
      "Train on 55000  examples.\n",
      "Acc of class 0 :1.0000\n",
      "Acc of class 1 :0.0000\n",
      "Acc of class 2 :0.0000\n",
      "Acc of class 3 :0.0000\n",
      "Acc of class 4 :0.0000\n",
      "Acc of class 5 :0.0000\n",
      "Acc of class 6 :0.0000\n",
      "Acc of class 7 :0.0000\n",
      "Acc of class 8 :0.0000\n",
      "Acc of class 9 :0.0000\n",
      "Train Accuracy: 0.0987\n",
      "Acc of class 0 :1.0000\n",
      "Acc of class 1 :0.0000\n",
      "Acc of class 2 :0.0000\n",
      "Acc of class 3 :0.0000\n",
      "Acc of class 4 :0.0000\n",
      "Acc of class 5 :0.0000\n",
      "Acc of class 6 :0.0000\n",
      "Acc of class 7 :0.0000\n",
      "Acc of class 8 :0.0000\n",
      "Acc of class 9 :0.0000\n",
      "Test Accuracy: 0.0980\n",
      "Train on 59999  examples.\n",
      "Acc of class 0 :1.0000\n",
      "Acc of class 1 :0.0000\n",
      "Acc of class 2 :0.0000\n",
      "Acc of class 3 :0.0000\n",
      "Acc of class 4 :0.0000\n",
      "Acc of class 5 :0.0000\n",
      "Acc of class 6 :0.0000\n",
      "Acc of class 7 :0.0000\n",
      "Acc of class 8 :0.0000\n",
      "Acc of class 9 :0.0000\n",
      "Train Accuracy: 0.0987\n",
      "Acc of class 0 :1.0000\n",
      "Acc of class 1 :0.0000\n",
      "Acc of class 2 :0.0000\n",
      "Acc of class 3 :0.0000\n",
      "Acc of class 4 :0.0000\n",
      "Acc of class 5 :0.0000\n",
      "Acc of class 6 :0.0000\n",
      "Acc of class 7 :0.0000\n",
      "Acc of class 8 :0.0000\n",
      "Acc of class 9 :0.0000\n",
      "Test Accuracy: 0.0980\n",
      "Epoch #: 1\n",
      "Train on 0  examples.\n",
      "Acc of class 0 :1.0000\n",
      "Acc of class 1 :0.0000\n",
      "Acc of class 2 :0.0000\n",
      "Acc of class 3 :0.0000\n",
      "Acc of class 4 :0.0000\n",
      "Acc of class 5 :0.0000\n",
      "Acc of class 6 :0.0000\n",
      "Acc of class 7 :0.0000\n",
      "Acc of class 8 :0.0000\n",
      "Acc of class 9 :0.0000\n",
      "Train Accuracy: 0.0987\n",
      "Acc of class 0 :1.0000\n",
      "Acc of class 1 :0.0000\n",
      "Acc of class 2 :0.0000\n",
      "Acc of class 3 :0.0000\n",
      "Acc of class 4 :0.0000\n",
      "Acc of class 5 :0.0000\n",
      "Acc of class 6 :0.0000\n",
      "Acc of class 7 :0.0000\n",
      "Acc of class 8 :0.0000\n",
      "Acc of class 9 :0.0000\n",
      "Test Accuracy: 0.0980\n",
      "Train on 5000  examples.\n",
      "Acc of class 0 :1.0000\n",
      "Acc of class 1 :0.0000\n",
      "Acc of class 2 :0.0000\n",
      "Acc of class 3 :0.0000\n",
      "Acc of class 4 :0.0000\n",
      "Acc of class 5 :0.0000\n",
      "Acc of class 6 :0.0000\n",
      "Acc of class 7 :0.0000\n",
      "Acc of class 8 :0.0000\n",
      "Acc of class 9 :0.0000\n",
      "Train Accuracy: 0.0987\n",
      "Acc of class 0 :1.0000\n",
      "Acc of class 1 :0.0000\n",
      "Acc of class 2 :0.0000\n",
      "Acc of class 3 :0.0000\n",
      "Acc of class 4 :0.0000\n",
      "Acc of class 5 :0.0000\n",
      "Acc of class 6 :0.0000\n",
      "Acc of class 7 :0.0000\n",
      "Acc of class 8 :0.0000\n",
      "Acc of class 9 :0.0000\n",
      "Test Accuracy: 0.0980\n",
      "Train on 10000  examples.\n",
      "Acc of class 0 :1.0000\n",
      "Acc of class 1 :0.0000\n",
      "Acc of class 2 :0.0000\n",
      "Acc of class 3 :0.0000\n",
      "Acc of class 4 :0.0000\n",
      "Acc of class 5 :0.0000\n",
      "Acc of class 6 :0.0000\n",
      "Acc of class 7 :0.0000\n",
      "Acc of class 8 :0.0000\n",
      "Acc of class 9 :0.0000\n",
      "Train Accuracy: 0.0987\n"
     ]
    },
    {
     "name": "stdout",
     "output_type": "stream",
     "text": [
      "Acc of class 0 :1.0000\n",
      "Acc of class 1 :0.0000\n",
      "Acc of class 2 :0.0000\n",
      "Acc of class 3 :0.0000\n",
      "Acc of class 4 :0.0000\n",
      "Acc of class 5 :0.0000\n",
      "Acc of class 6 :0.0000\n",
      "Acc of class 7 :0.0000\n",
      "Acc of class 8 :0.0000\n",
      "Acc of class 9 :0.0000\n",
      "Test Accuracy: 0.0980\n",
      "Train on 15000  examples.\n",
      "Acc of class 0 :1.0000\n",
      "Acc of class 1 :0.0000\n",
      "Acc of class 2 :0.0000\n",
      "Acc of class 3 :0.0000\n",
      "Acc of class 4 :0.0000\n",
      "Acc of class 5 :0.0000\n",
      "Acc of class 6 :0.0000\n",
      "Acc of class 7 :0.0000\n",
      "Acc of class 8 :0.0000\n",
      "Acc of class 9 :0.0000\n",
      "Train Accuracy: 0.0987\n",
      "Acc of class 0 :1.0000\n",
      "Acc of class 1 :0.0000\n",
      "Acc of class 2 :0.0000\n",
      "Acc of class 3 :0.0000\n",
      "Acc of class 4 :0.0000\n",
      "Acc of class 5 :0.0000\n",
      "Acc of class 6 :0.0000\n",
      "Acc of class 7 :0.0000\n",
      "Acc of class 8 :0.0000\n",
      "Acc of class 9 :0.0000\n",
      "Test Accuracy: 0.0980\n"
     ]
    },
    {
     "ename": "KeyboardInterrupt",
     "evalue": "",
     "output_type": "error",
     "traceback": [
      "\u001b[0;31m---------------------------------------------------------------------------\u001b[0m",
      "\u001b[0;31mKeyboardInterrupt\u001b[0m                         Traceback (most recent call last)",
      "\u001b[0;32m<ipython-input-8-42879d2fe175>\u001b[0m in \u001b[0;36m<module>\u001b[0;34m\u001b[0m\n\u001b[1;32m      5\u001b[0m \u001b[0mlocal_net\u001b[0m\u001b[0;34m.\u001b[0m\u001b[0mset_output_rule\u001b[0m\u001b[0;34m(\u001b[0m\u001b[0mtorch\u001b[0m\u001b[0;34m.\u001b[0m\u001b[0mtensor\u001b[0m\u001b[0;34m(\u001b[0m\u001b[0;34m[\u001b[0m\u001b[0;34m[\u001b[0m\u001b[0;34m-\u001b[0m\u001b[0;36m1\u001b[0m\u001b[0;34m,\u001b[0m \u001b[0;36m1\u001b[0m\u001b[0;34m]\u001b[0m\u001b[0;34m,\u001b[0m \u001b[0;34m[\u001b[0m\u001b[0;36m1\u001b[0m\u001b[0;34m,\u001b[0m \u001b[0;34m-\u001b[0m\u001b[0;36m1\u001b[0m\u001b[0;34m]\u001b[0m\u001b[0;34m,\u001b[0m \u001b[0;34m[\u001b[0m\u001b[0;34m-\u001b[0m\u001b[0;36m1\u001b[0m\u001b[0;34m,\u001b[0m \u001b[0;36m1\u001b[0m\u001b[0;34m]\u001b[0m\u001b[0;34m,\u001b[0m \u001b[0;34m[\u001b[0m\u001b[0;36m1\u001b[0m\u001b[0;34m,\u001b[0m \u001b[0;34m-\u001b[0m\u001b[0;36m1\u001b[0m\u001b[0;34m]\u001b[0m\u001b[0;34m]\u001b[0m\u001b[0;34m)\u001b[0m\u001b[0;34m)\u001b[0m\u001b[0;34m\u001b[0m\u001b[0;34m\u001b[0m\u001b[0m\n\u001b[1;32m      6\u001b[0m \u001b[0;34m\u001b[0m\u001b[0m\n\u001b[0;32m----> 7\u001b[0;31m \u001b[0mtrain_acc_learned\u001b[0m\u001b[0;34m,\u001b[0m \u001b[0mtest_acc_learned\u001b[0m \u001b[0;34m=\u001b[0m \u001b[0mtrain_given_rule\u001b[0m\u001b[0;34m(\u001b[0m\u001b[0mX\u001b[0m\u001b[0;34m,\u001b[0m \u001b[0my\u001b[0m\u001b[0;34m,\u001b[0m \u001b[0mlocal_net\u001b[0m\u001b[0;34m,\u001b[0m \u001b[0mdecay\u001b[0m \u001b[0;34m=\u001b[0m \u001b[0;36m.96\u001b[0m\u001b[0;34m,\u001b[0m \u001b[0mepochs\u001b[0m \u001b[0;34m=\u001b[0m \u001b[0;36m20\u001b[0m\u001b[0;34m,\u001b[0m \u001b[0mverbose\u001b[0m \u001b[0;34m=\u001b[0m \u001b[0;32mTrue\u001b[0m\u001b[0;34m,\u001b[0m \u001b[0mX_test\u001b[0m \u001b[0;34m=\u001b[0m \u001b[0mX_test\u001b[0m\u001b[0;34m,\u001b[0m \u001b[0my_test\u001b[0m\u001b[0;34m=\u001b[0m\u001b[0my_test\u001b[0m\u001b[0;34m)\u001b[0m\u001b[0;34m\u001b[0m\u001b[0;34m\u001b[0m\u001b[0m\n\u001b[0m",
      "\u001b[0;32m~/Projects/Learning Plasticity Rules/train.py\u001b[0m in \u001b[0;36mtrain_given_rule\u001b[0;34m(X, y, meta_model, decay, epochs, verbose, X_test, y_test)\u001b[0m\n\u001b[1;32m     24\u001b[0m             \u001b[0;32mif\u001b[0m \u001b[0mi\u001b[0m \u001b[0;34m==\u001b[0m \u001b[0;36m0\u001b[0m \u001b[0;32mand\u001b[0m \u001b[0mk\u001b[0m \u001b[0;34m==\u001b[0m \u001b[0;36m0\u001b[0m\u001b[0;34m:\u001b[0m \u001b[0mcontinue_\u001b[0m \u001b[0;34m=\u001b[0m \u001b[0;32mFalse\u001b[0m\u001b[0;34m\u001b[0m\u001b[0;34m\u001b[0m\u001b[0m\n\u001b[1;32m     25\u001b[0m             \u001b[0;32melse\u001b[0m\u001b[0;34m:\u001b[0m \u001b[0mcontinue_\u001b[0m \u001b[0;34m=\u001b[0m \u001b[0;32mTrue\u001b[0m\u001b[0;34m\u001b[0m\u001b[0;34m\u001b[0m\u001b[0m\n\u001b[0;32m---> 26\u001b[0;31m             \u001b[0mloss\u001b[0m \u001b[0;34m=\u001b[0m \u001b[0mmeta_model\u001b[0m\u001b[0;34m(\u001b[0m\u001b[0minputs\u001b[0m\u001b[0;34m,\u001b[0m \u001b[0mlabels\u001b[0m\u001b[0;34m,\u001b[0m \u001b[0;36m1\u001b[0m\u001b[0;34m,\u001b[0m \u001b[0mbatch\u001b[0m\u001b[0;34m,\u001b[0m \u001b[0mcontinue_\u001b[0m \u001b[0;34m=\u001b[0m \u001b[0mcontinue_\u001b[0m\u001b[0;34m)\u001b[0m\u001b[0;34m\u001b[0m\u001b[0;34m\u001b[0m\u001b[0m\n\u001b[0m\u001b[1;32m     27\u001b[0m \u001b[0;34m\u001b[0m\u001b[0m\n\u001b[1;32m     28\u001b[0m             \u001b[0;32mif\u001b[0m \u001b[0mk\u001b[0m \u001b[0;34m==\u001b[0m \u001b[0mlen\u001b[0m\u001b[0;34m(\u001b[0m\u001b[0mX\u001b[0m\u001b[0;34m)\u001b[0m \u001b[0;34m-\u001b[0m \u001b[0;36m1\u001b[0m \u001b[0;32mor\u001b[0m \u001b[0;34m(\u001b[0m\u001b[0mverbose\u001b[0m \u001b[0;32mand\u001b[0m \u001b[0mk\u001b[0m \u001b[0;34m%\u001b[0m \u001b[0;36m5000\u001b[0m \u001b[0;34m==\u001b[0m \u001b[0;36m0\u001b[0m\u001b[0;34m)\u001b[0m\u001b[0;34m:\u001b[0m\u001b[0;34m\u001b[0m\u001b[0;34m\u001b[0m\u001b[0m\n",
      "\u001b[0;32m~/miniconda3/envs/ann/lib/python3.7/site-packages/torch/nn/modules/module.py\u001b[0m in \u001b[0;36m__call__\u001b[0;34m(self, *input, **kwargs)\u001b[0m\n\u001b[1;32m    530\u001b[0m             \u001b[0mresult\u001b[0m \u001b[0;34m=\u001b[0m \u001b[0mself\u001b[0m\u001b[0;34m.\u001b[0m\u001b[0m_slow_forward\u001b[0m\u001b[0;34m(\u001b[0m\u001b[0;34m*\u001b[0m\u001b[0minput\u001b[0m\u001b[0;34m,\u001b[0m \u001b[0;34m**\u001b[0m\u001b[0mkwargs\u001b[0m\u001b[0;34m)\u001b[0m\u001b[0;34m\u001b[0m\u001b[0;34m\u001b[0m\u001b[0m\n\u001b[1;32m    531\u001b[0m         \u001b[0;32melse\u001b[0m\u001b[0;34m:\u001b[0m\u001b[0;34m\u001b[0m\u001b[0;34m\u001b[0m\u001b[0m\n\u001b[0;32m--> 532\u001b[0;31m             \u001b[0mresult\u001b[0m \u001b[0;34m=\u001b[0m \u001b[0mself\u001b[0m\u001b[0;34m.\u001b[0m\u001b[0mforward\u001b[0m\u001b[0;34m(\u001b[0m\u001b[0;34m*\u001b[0m\u001b[0minput\u001b[0m\u001b[0;34m,\u001b[0m \u001b[0;34m**\u001b[0m\u001b[0mkwargs\u001b[0m\u001b[0;34m)\u001b[0m\u001b[0;34m\u001b[0m\u001b[0;34m\u001b[0m\u001b[0m\n\u001b[0m\u001b[1;32m    533\u001b[0m         \u001b[0;32mfor\u001b[0m \u001b[0mhook\u001b[0m \u001b[0;32min\u001b[0m \u001b[0mself\u001b[0m\u001b[0;34m.\u001b[0m\u001b[0m_forward_hooks\u001b[0m\u001b[0;34m.\u001b[0m\u001b[0mvalues\u001b[0m\u001b[0;34m(\u001b[0m\u001b[0;34m)\u001b[0m\u001b[0;34m:\u001b[0m\u001b[0;34m\u001b[0m\u001b[0;34m\u001b[0m\u001b[0m\n\u001b[1;32m    534\u001b[0m             \u001b[0mhook_result\u001b[0m \u001b[0;34m=\u001b[0m \u001b[0mhook\u001b[0m\u001b[0;34m(\u001b[0m\u001b[0mself\u001b[0m\u001b[0;34m,\u001b[0m \u001b[0minput\u001b[0m\u001b[0;34m,\u001b[0m \u001b[0mresult\u001b[0m\u001b[0;34m)\u001b[0m\u001b[0;34m\u001b[0m\u001b[0;34m\u001b[0m\u001b[0m\n",
      "\u001b[0;32m~/Projects/Learning Plasticity Rules/LocalNetBase.py\u001b[0m in \u001b[0;36mforward\u001b[0;34m(self, inputs, labels, epochs, batch, continue_)\u001b[0m\n\u001b[1;32m    151\u001b[0m             \u001b[0;32mfor\u001b[0m \u001b[0mx\u001b[0m\u001b[0;34m,\u001b[0m\u001b[0mell\u001b[0m \u001b[0;32min\u001b[0m \u001b[0mzip\u001b[0m\u001b[0;34m(\u001b[0m\u001b[0minputs\u001b[0m\u001b[0;34m,\u001b[0m\u001b[0mlabels\u001b[0m\u001b[0;34m)\u001b[0m\u001b[0;34m:\u001b[0m\u001b[0;34m\u001b[0m\u001b[0;34m\u001b[0m\u001b[0m\n\u001b[1;32m    152\u001b[0m                 \u001b[0moutputs\u001b[0m \u001b[0;34m=\u001b[0m \u001b[0mself\u001b[0m\u001b[0;34m.\u001b[0m\u001b[0mforward_pass\u001b[0m\u001b[0;34m(\u001b[0m\u001b[0mx\u001b[0m\u001b[0;34m.\u001b[0m\u001b[0munsqueeze\u001b[0m\u001b[0;34m(\u001b[0m\u001b[0;36m0\u001b[0m\u001b[0;34m)\u001b[0m\u001b[0;34m)\u001b[0m\u001b[0;34m\u001b[0m\u001b[0;34m\u001b[0m\u001b[0m\n\u001b[0;32m--> 153\u001b[0;31m                 \u001b[0mself\u001b[0m\u001b[0;34m.\u001b[0m\u001b[0mupdate_weights\u001b[0m\u001b[0;34m(\u001b[0m\u001b[0moutputs\u001b[0m\u001b[0;34m,\u001b[0m \u001b[0mell\u001b[0m\u001b[0;34m)\u001b[0m\u001b[0;34m\u001b[0m\u001b[0;34m\u001b[0m\u001b[0m\n\u001b[0m\u001b[1;32m    154\u001b[0m         \u001b[0moutputs\u001b[0m \u001b[0;34m=\u001b[0m \u001b[0mself\u001b[0m\u001b[0;34m.\u001b[0m\u001b[0mforward_pass\u001b[0m\u001b[0;34m(\u001b[0m\u001b[0minputs\u001b[0m\u001b[0;34m)\u001b[0m\u001b[0;34m\u001b[0m\u001b[0;34m\u001b[0m\u001b[0m\n\u001b[1;32m    155\u001b[0m \u001b[0;34m\u001b[0m\u001b[0m\n",
      "\u001b[0;32m~/Projects/Learning Plasticity Rules/LocalNetBase.py\u001b[0m in \u001b[0;36mupdate_weights\u001b[0;34m(self, probs, label)\u001b[0m\n\u001b[1;32m    133\u001b[0m                         \u001b[0mupdate_func\u001b[0m\u001b[0;34m(\u001b[0m\u001b[0mself\u001b[0m\u001b[0;34m.\u001b[0m\u001b[0moutput_weights\u001b[0m\u001b[0;34m[\u001b[0m\u001b[0mj\u001b[0m\u001b[0;34m]\u001b[0m\u001b[0;34m,\u001b[0m \u001b[0mself\u001b[0m\u001b[0;34m.\u001b[0m\u001b[0moutput_rule\u001b[0m\u001b[0;34m[\u001b[0m\u001b[0;36m2\u001b[0m \u001b[0;34m*\u001b[0m \u001b[0mself\u001b[0m\u001b[0;34m.\u001b[0m\u001b[0mactivated\u001b[0m\u001b[0;34m.\u001b[0m\u001b[0mlong\u001b[0m\u001b[0;34m(\u001b[0m\u001b[0;34m)\u001b[0m \u001b[0;34m+\u001b[0m \u001b[0;36m1\u001b[0m\u001b[0;34m]\u001b[0m\u001b[0;34m)\u001b[0m\u001b[0;34m\u001b[0m\u001b[0;34m\u001b[0m\u001b[0m\n\u001b[1;32m    134\u001b[0m             \u001b[0;32melse\u001b[0m\u001b[0;34m:\u001b[0m\u001b[0;34m\u001b[0m\u001b[0;34m\u001b[0m\u001b[0m\n\u001b[0;32m--> 135\u001b[0;31m                 \u001b[0mupdate_func\u001b[0m\u001b[0;34m(\u001b[0m\u001b[0mself\u001b[0m\u001b[0;34m.\u001b[0m\u001b[0moutput_weights\u001b[0m\u001b[0;34m[\u001b[0m\u001b[0mprediction\u001b[0m\u001b[0;34m]\u001b[0m\u001b[0;34m,\u001b[0m \u001b[0mself\u001b[0m\u001b[0;34m.\u001b[0m\u001b[0moutput_rule\u001b[0m\u001b[0;34m[\u001b[0m\u001b[0;36m2\u001b[0m \u001b[0;34m*\u001b[0m \u001b[0mself\u001b[0m\u001b[0;34m.\u001b[0m\u001b[0mactivated\u001b[0m\u001b[0;34m.\u001b[0m\u001b[0mlong\u001b[0m\u001b[0;34m(\u001b[0m\u001b[0;34m)\u001b[0m \u001b[0;34m+\u001b[0m \u001b[0;36m1\u001b[0m\u001b[0;34m]\u001b[0m\u001b[0;34m)\u001b[0m\u001b[0;34m\u001b[0m\u001b[0;34m\u001b[0m\u001b[0m\n\u001b[0m\u001b[1;32m    136\u001b[0m                 \u001b[0mupdate_func\u001b[0m\u001b[0;34m(\u001b[0m\u001b[0mself\u001b[0m\u001b[0;34m.\u001b[0m\u001b[0moutput_weights\u001b[0m\u001b[0;34m[\u001b[0m\u001b[0mlabel\u001b[0m\u001b[0;34m]\u001b[0m\u001b[0;34m,\u001b[0m \u001b[0mself\u001b[0m\u001b[0;34m.\u001b[0m\u001b[0moutput_rule\u001b[0m\u001b[0;34m[\u001b[0m\u001b[0;36m2\u001b[0m \u001b[0;34m*\u001b[0m \u001b[0mself\u001b[0m\u001b[0;34m.\u001b[0m\u001b[0mactivated\u001b[0m\u001b[0;34m.\u001b[0m\u001b[0mlong\u001b[0m\u001b[0;34m(\u001b[0m\u001b[0;34m)\u001b[0m\u001b[0;34m]\u001b[0m\u001b[0;34m)\u001b[0m\u001b[0;34m\u001b[0m\u001b[0;34m\u001b[0m\u001b[0m\n\u001b[1;32m    137\u001b[0m \u001b[0;34m\u001b[0m\u001b[0m\n",
      "\u001b[0;31mKeyboardInterrupt\u001b[0m: "
     ]
    }
   ],
   "source": [
    "local_net = LocalNet(dim, labels, num_v = 1000, p = .5, cap = 500, rounds = 1, options = options, update_scheme = scheme)\n",
    "losses = []\n",
    "\n",
    "local_net.input_weights = torch.ones_like(local_net.input_weights).double()\n",
    "local_net.set_output_rule(torch.tensor([[-1, 1], [1, -1], [-1, 1], [1, -1]]))\n",
    "\n",
    "train_acc_learned, test_acc_learned = train_given_rule(X, y, local_net, decay = .96, epochs = 20, verbose = True, X_test = X_test, y_test=y_test)"
   ]
  },
  {
   "cell_type": "code",
   "execution_count": 12,
   "metadata": {
    "colab": {},
    "colab_type": "code",
    "id": "y99rrYYAkbJ5"
   },
   "outputs": [
    {
     "ename": "NameError",
     "evalue": "name 'train_acc_learned' is not defined",
     "output_type": "error",
     "traceback": [
      "\u001b[1;31m---------------------------------------------------------------------------\u001b[0m",
      "\u001b[1;31mNameError\u001b[0m                                 Traceback (most recent call last)",
      "\u001b[1;32m<ipython-input-12-844c72befcff>\u001b[0m in \u001b[0;36m<module>\u001b[1;34m\u001b[0m\n\u001b[1;32m----> 1\u001b[1;33m \u001b[0mprint\u001b[0m\u001b[1;33m(\u001b[0m\u001b[0mmax\u001b[0m\u001b[1;33m(\u001b[0m\u001b[0mtrain_acc_learned\u001b[0m\u001b[1;33m)\u001b[0m\u001b[1;33m)\u001b[0m\u001b[1;33m\u001b[0m\u001b[1;33m\u001b[0m\u001b[0m\n\u001b[0m\u001b[0;32m      2\u001b[0m \u001b[0mprint\u001b[0m\u001b[1;33m(\u001b[0m\u001b[0mmax\u001b[0m\u001b[1;33m(\u001b[0m\u001b[0mtest_acc_learned\u001b[0m\u001b[1;33m)\u001b[0m\u001b[1;33m)\u001b[0m\u001b[1;33m\u001b[0m\u001b[1;33m\u001b[0m\u001b[0m\n",
      "\u001b[1;31mNameError\u001b[0m: name 'train_acc_learned' is not defined"
     ]
    }
   ],
   "source": [
    "print(max(train_acc_learned))\n",
    "print(max(test_acc_learned))"
   ]
  },
  {
   "cell_type": "code",
   "execution_count": 13,
   "metadata": {
    "colab": {
     "base_uri": "https://localhost:8080/",
     "height": 295
    },
    "colab_type": "code",
    "id": "VRGIEuMUUBZv",
    "outputId": "11467148-56ae-45a5-b965-61c26fbaabf1"
   },
   "outputs": [
    {
     "ename": "NameError",
     "evalue": "name 'train_acc_learned' is not defined",
     "output_type": "error",
     "traceback": [
      "\u001b[1;31m---------------------------------------------------------------------------\u001b[0m",
      "\u001b[1;31mNameError\u001b[0m                                 Traceback (most recent call last)",
      "\u001b[1;32m<ipython-input-13-0d39470fcfd0>\u001b[0m in \u001b[0;36m<module>\u001b[1;34m\u001b[0m\n\u001b[1;32m----> 1\u001b[1;33m \u001b[0mt1\u001b[0m \u001b[1;33m=\u001b[0m \u001b[0mtrain_acc_learned\u001b[0m\u001b[1;33m[\u001b[0m\u001b[1;36m1\u001b[0m\u001b[1;33m:\u001b[0m\u001b[1;36m150\u001b[0m\u001b[1;33m]\u001b[0m\u001b[1;33m\u001b[0m\u001b[1;33m\u001b[0m\u001b[0m\n\u001b[0m\u001b[0;32m      2\u001b[0m \u001b[0mt2\u001b[0m \u001b[1;33m=\u001b[0m \u001b[0mtest_acc_learned\u001b[0m\u001b[1;33m[\u001b[0m\u001b[1;36m1\u001b[0m\u001b[1;33m:\u001b[0m\u001b[1;36m150\u001b[0m\u001b[1;33m]\u001b[0m\u001b[1;33m\u001b[0m\u001b[1;33m\u001b[0m\u001b[0m\n\u001b[0;32m      3\u001b[0m \u001b[0mplt\u001b[0m\u001b[1;33m.\u001b[0m\u001b[0mplot\u001b[0m\u001b[1;33m(\u001b[0m\u001b[1;36m5000\u001b[0m \u001b[1;33m*\u001b[0m \u001b[0mnp\u001b[0m\u001b[1;33m.\u001b[0m\u001b[0marange\u001b[0m\u001b[1;33m(\u001b[0m\u001b[0mlen\u001b[0m\u001b[1;33m(\u001b[0m\u001b[0mt1\u001b[0m\u001b[1;33m)\u001b[0m\u001b[1;33m-\u001b[0m\u001b[1;36m10\u001b[0m\u001b[1;33m)\u001b[0m \u001b[1;33m+\u001b[0m \u001b[1;36m10000\u001b[0m\u001b[1;33m,\u001b[0m \u001b[1;33m[\u001b[0m\u001b[0mnp\u001b[0m\u001b[1;33m.\u001b[0m\u001b[0mmean\u001b[0m\u001b[1;33m(\u001b[0m\u001b[0mt1\u001b[0m\u001b[1;33m[\u001b[0m\u001b[0mi\u001b[0m\u001b[1;33m:\u001b[0m\u001b[0mi\u001b[0m\u001b[1;33m+\u001b[0m\u001b[1;36m10\u001b[0m\u001b[1;33m]\u001b[0m\u001b[1;33m)\u001b[0m \u001b[1;32mfor\u001b[0m \u001b[0mi\u001b[0m \u001b[1;32min\u001b[0m \u001b[0mrange\u001b[0m\u001b[1;33m(\u001b[0m\u001b[0mlen\u001b[0m\u001b[1;33m(\u001b[0m\u001b[0mt1\u001b[0m\u001b[1;33m)\u001b[0m\u001b[1;33m-\u001b[0m\u001b[1;36m10\u001b[0m\u001b[1;33m)\u001b[0m\u001b[1;33m]\u001b[0m\u001b[1;33m,\u001b[0m \u001b[0mlabel\u001b[0m\u001b[1;33m=\u001b[0m\u001b[1;34m\"Train\"\u001b[0m\u001b[1;33m)\u001b[0m\u001b[1;33m\u001b[0m\u001b[1;33m\u001b[0m\u001b[0m\n\u001b[0;32m      4\u001b[0m \u001b[0mplt\u001b[0m\u001b[1;33m.\u001b[0m\u001b[0mplot\u001b[0m\u001b[1;33m(\u001b[0m\u001b[1;36m5000\u001b[0m \u001b[1;33m*\u001b[0m \u001b[0mnp\u001b[0m\u001b[1;33m.\u001b[0m\u001b[0marange\u001b[0m\u001b[1;33m(\u001b[0m\u001b[0mlen\u001b[0m\u001b[1;33m(\u001b[0m\u001b[0mt2\u001b[0m\u001b[1;33m)\u001b[0m\u001b[1;33m-\u001b[0m\u001b[1;36m10\u001b[0m\u001b[1;33m)\u001b[0m \u001b[1;33m+\u001b[0m \u001b[1;36m10000\u001b[0m\u001b[1;33m,\u001b[0m \u001b[1;33m[\u001b[0m\u001b[0mnp\u001b[0m\u001b[1;33m.\u001b[0m\u001b[0mmean\u001b[0m\u001b[1;33m(\u001b[0m\u001b[0mt2\u001b[0m\u001b[1;33m[\u001b[0m\u001b[0mi\u001b[0m\u001b[1;33m:\u001b[0m\u001b[0mi\u001b[0m\u001b[1;33m+\u001b[0m\u001b[1;36m10\u001b[0m\u001b[1;33m]\u001b[0m\u001b[1;33m)\u001b[0m \u001b[1;32mfor\u001b[0m \u001b[0mi\u001b[0m \u001b[1;32min\u001b[0m \u001b[0mrange\u001b[0m\u001b[1;33m(\u001b[0m\u001b[0mlen\u001b[0m\u001b[1;33m(\u001b[0m\u001b[0mt2\u001b[0m\u001b[1;33m)\u001b[0m\u001b[1;33m-\u001b[0m\u001b[1;36m10\u001b[0m\u001b[1;33m)\u001b[0m\u001b[1;33m]\u001b[0m\u001b[1;33m,\u001b[0m \u001b[0mlabel\u001b[0m\u001b[1;33m=\u001b[0m\u001b[1;34m\"Test\"\u001b[0m\u001b[1;33m)\u001b[0m\u001b[1;33m\u001b[0m\u001b[1;33m\u001b[0m\u001b[0m\n\u001b[0;32m      5\u001b[0m \u001b[0mplt\u001b[0m\u001b[1;33m.\u001b[0m\u001b[0mxlabel\u001b[0m\u001b[1;33m(\u001b[0m\u001b[1;34m\"# Training examples (starting at 5000)\"\u001b[0m\u001b[1;33m)\u001b[0m\u001b[1;33m\u001b[0m\u001b[1;33m\u001b[0m\u001b[0m\n",
      "\u001b[1;31mNameError\u001b[0m: name 'train_acc_learned' is not defined"
     ]
    }
   ],
   "source": [
    "t1 = train_acc_learned[1:150]\n",
    "t2 = test_acc_learned[1:150]\n",
    "plt.plot(5000 * np.arange(len(t1)-10) + 10000, [np.mean(t1[i:i+10]) for i in range(len(t1)-10)], label=\"Train\")\n",
    "plt.plot(5000 * np.arange(len(t2)-10) + 10000, [np.mean(t2[i:i+10]) for i in range(len(t2)-10)], label=\"Test\")\n",
    "plt.xlabel(\"# Training examples (starting at 5000)\")\n",
    "plt.ylabel(\"Accuracy\")\n",
    "plt.title(\"MNIST Brain Net (T=1) Decaying Step Size\")\n",
    "plt.legend()\n",
    "plt.savefig(\"MNIST_full_data_96_acc_n_1000_decaying_step.png\")"
   ]
  },
  {
   "cell_type": "code",
   "execution_count": null,
   "metadata": {
    "colab": {
     "base_uri": "https://localhost:8080/",
     "height": 34
    },
    "colab_type": "code",
    "id": "E6kvIMKmvaGf",
    "outputId": "2cd4f543-e884-455b-d325-3b127dc80c57"
   },
   "outputs": [
    {
     "name": "stdout",
     "output_type": "stream",
     "text": [
      "0.01\n"
     ]
    }
   ],
   "source": [
    "print(local_net.step_sz)"
   ]
  },
  {
   "cell_type": "code",
   "execution_count": 14,
   "metadata": {
    "colab": {
     "base_uri": "https://localhost:8080/",
     "height": 336
    },
    "colab_type": "code",
    "id": "TDc4AEb8gt59",
    "outputId": "c21e740b-fe7d-4655-9390-89e7d80a66a9"
   },
   "outputs": [
    {
     "data": {
      "image/png": "[encoded data removed]",
      "text/plain": [
       "<Figure size 1080x360 with 2 Axes>"
      ]
     },
     "metadata": {
      "needs_background": "light"
     },
     "output_type": "display_data"
    }
   ],
   "source": [
    "# Distribution of weights \n",
    "fig, (ax1, ax2) = plt.subplots(1, 2, figsize=(15,5))\n",
    "\n",
    "ax1.hist(local_net.output_weights.flatten(), bins = 1000)\n",
    "ax1.set_title(\"Rule - Output Weights\")\n",
    "\n",
    "# ax2.hist(gd_net.output_weights.detach().numpy().flatten(), bins = 1000)\n",
    "# ax2.set_title(\"GD - Output Weights\")\n",
    "# plt.savefig(\"Histogram - rule training\")\n",
    "plt.show()"
   ]
  },
  {
   "cell_type": "code",
   "execution_count": 16,
   "metadata": {
    "colab": {},
    "colab_type": "code",
    "id": "42zTrFK6aaMS"
   },
   "outputs": [
    {
     "name": "stdout",
     "output_type": "stream",
     "text": [
      "Evaluating\n",
      "Acc of class 0 :0.7147\n",
      "Acc of class 1 :0.7128\n",
      "Acc of class 2 :0.4822\n",
      "Acc of class 3 :0.3508\n",
      "Acc of class 4 :0.4281\n",
      "Acc of class 5 :0.3343\n",
      "Acc of class 6 :0.6088\n",
      "Acc of class 7 :0.6129\n",
      "Acc of class 8 :0.4979\n",
      "Acc of class 9 :0.4443\n",
      "epoch  1 Loss: 731.4810 Accuracy: 0.5229\n",
      "Finished Training\n"
     ]
    },
    {
     "data": {
      "text/plain": [
       "[731.4810106019102]"
      ]
     },
     "execution_count": 16,
     "metadata": {},
     "output_type": "execute_result"
    }
   ],
   "source": [
    "# Train Net with GD\n",
    "gd_net = BrainNet(dim, labels, num_v = 1000, p = .5, cap = 500, rounds = 0, gd_output = True)\n",
    "gd_net.input_layer = local_net.input_layer \n",
    "gd_net.input_weights = local_net.input_weights\n",
    "train_vanilla(X, y, gd_net, epochs = 100, batch = 100, lr = 1e-3)"
   ]
  },
  {
   "cell_type": "code",
   "execution_count": null,
   "metadata": {
    "colab": {
     "base_uri": "https://localhost:8080/",
     "height": 395
    },
    "colab_type": "code",
    "id": "bZBPZVxvkbJ8",
    "outputId": "eb531c7a-9821-4a59-acd7-98bd2a3477be"
   },
   "outputs": [
    {
     "name": "stdout",
     "output_type": "stream",
     "text": [
      "Original Label       1\n",
      "Original Prediction: 9\n",
      "Target Label         0\n"
     ]
    }
   ],
   "source": [
    "input_label = 1\n",
    "target_label = 0\n",
    "image_num = 0 # (image_num)^th image in the list that appears with label 'input_label'\n",
    "\n",
    "# don't change these\n",
    "index = 0 \n",
    "c = 0\n",
    "for i in range(data): \n",
    "    if y[i] == input_label: \n",
    "        c += 1\n",
    "        if image_num == c:\n",
    "            index = i\n",
    "            break\n",
    "        \n",
    "initial = X[index]\n",
    "\n",
    "print(\"Original Label      \", input_label)\n",
    "print(\"Original Prediction:\", torch.argmax(local_net.forward_pass(torch.tensor([initial]))).item())\n",
    "print(\"Target Label        \", target_label)\n",
    "\n",
    "from AdversarialExamples import adversarial_example\n",
    "\n",
    "## Original / Rule Advasarial / GD Adversarial \n",
    "rule_adversarial = adversarial_example(torch.tensor([initial]).double(), torch.tensor([target_label]).long(), local_net.forward_pass)\n",
    "gd_adversarial = adversarial_example(torch.tensor([initial]).double(), torch.tensor([target_label]).long(), gd_net.forward_pass)\n",
    "\n",
    "fig, (ax1, ax2, ax3) = plt.subplots(1, 3, figsize=(15,15))\n",
    "\n",
    "original_image = initial.reshape((28,28))\n",
    "ax1.imshow(1-original_image, cmap='gray', vmin=0, vmax=1)\n",
    "ax1.axis('off')\n",
    "ax1.set_title(\"Original\")\n",
    "\n",
    "img = rule_adversarial.detach().numpy().reshape((28,28))\n",
    "ax2.imshow(1-img, cmap='gray', vmin=0, vmax=1)\n",
    "ax2.axis('off')\n",
    "ax2.set_title(\"Adversarial For Rule Net\")\n",
    "\n",
    "img = gd_adversarial.detach().numpy().reshape((28,28))\n",
    "ax3.imshow(1-img, cmap='gray', vmin=0, vmax=1)\n",
    "ax3.axis('off')\n",
    "ax3.set_title(\"Adversarial For GD Net\")\n",
    "\n",
    "plt.show()\n",
    "\n",
    "print(\"Distance from original\")\n",
    "print(\"To Rule Net Adversarial\", np.linalg.norm(rule_adversarial.detach().numpy() - original_image.flatten()))\n",
    "print(\"To GD Net Adversarial  \", np.linalg.norm(gd_adversarial.detach().numpy() - original_image.flatten()))"
   ]
  },
  {
   "cell_type": "code",
   "execution_count": null,
   "metadata": {
    "colab": {},
    "colab_type": "code",
    "collapsed": true,
    "id": "08R2tgOFkbKj"
   },
   "outputs": [],
   "source": [
    "## Entry (i,j) of matrix denotes average distance between original and \n",
    "## adversarial image given an original image with label i and target \n",
    "## of incorrectly labelling as j.\n",
    "### Only uses examples which are initially predicted correctly\n",
    "\n",
    "# This cell is for the net trained with a *rule*\n",
    "\n",
    "dist = np.zeros((10, 10))\n",
    "cnt = np.zeros((10, 10))\n",
    "c = 0\n",
    "for _x, _y in zip(X, y): \n",
    "    prediction = torch.argmax(local_net.forward_pass(torch.tensor([_x]).double())).item()\n",
    "    if prediction != _y : continue \n",
    "    print(c)\n",
    "    c += 1\n",
    "    if c == 1000: break \n",
    "    for i in range(10): \n",
    "      if i == _y: continue \n",
    "      final = adversarial_example(torch.tensor([_x]).double(), torch.tensor([i]).long(), local_net.forward_pass)\n",
    "      dist[_y][i] += np.linalg.norm(final.detach().numpy() - _x)\n",
    "      cnt[_y][i] += 1"
   ]
  },
  {
   "cell_type": "code",
   "execution_count": null,
   "metadata": {
    "colab": {
     "base_uri": "https://localhost:8080/",
     "height": 221
    },
    "colab_type": "code",
    "id": "kYOwRww-kbKm",
    "outputId": "b626365b-4fe8-451e-f7b6-205e214b0fb9"
   },
   "outputs": [
    {
     "name": "stdout",
     "output_type": "stream",
     "text": [
      "[[   nan 4.3036 3.2477 3.5496 3.6716 3.9076 3.7798 3.2153 3.9242 4.0978]\n",
      " [2.9324    nan 2.5584 2.6141 2.4728 2.157  2.8401 2.1941 2.8192 2.5238]\n",
      " [3.1814 5.829     nan 5.3067 2.941  3.0644 3.5074 3.1032 3.6461 3.5598]\n",
      " [2.2091 3.3291 2.4211    nan 2.4762 1.8944 3.8523 2.3516 2.3504 2.6818]\n",
      " [2.7141 3.5266 3.1825 3.1607    nan 2.3399 3.2641 2.4749 3.1212 2.6029]\n",
      " [3.0668 3.3671 2.7559 3.1453 2.5844    nan 2.7161 2.6993 3.1519 3.0661]\n",
      " [2.8032 4.5101 2.4459 3.044  3.145  2.749     nan 3.0398 2.9833 3.0956]\n",
      " [2.6483 3.5383 3.6278 3.6236 3.0109 2.7692 3.6626    nan 2.7612 3.9348]\n",
      " [2.0901 2.2108 1.8041 1.9799 1.8602 1.4258 2.3519 1.9798    nan 2.0997]\n",
      " [2.2845 2.9895 2.7733 2.1868 1.6665 1.7096 2.5372 1.6702 2.31      nan]]\n"
     ]
    },
    {
     "name": "stderr",
     "output_type": "stream",
     "text": [
      "/usr/local/lib/python3.6/dist-packages/ipykernel_launcher.py:2: RuntimeWarning: invalid value encountered in true_divide\n",
      "  \n"
     ]
    }
   ],
   "source": [
    "# BRAIN NET \n",
    "print(dist / cnt)"
   ]
  },
  {
   "cell_type": "code",
   "execution_count": null,
   "metadata": {
    "colab": {},
    "colab_type": "code",
    "collapsed": true,
    "id": "OxeD9u0EkbKo"
   },
   "outputs": [],
   "source": []
  },
  {
   "cell_type": "code",
   "execution_count": null,
   "metadata": {
    "colab": {},
    "colab_type": "code",
    "collapsed": true,
    "id": "Jqbf7UZ0kbKs"
   },
   "outputs": [],
   "source": [
    "## Entry (i,j) of matrix denotes average distance between original and \n",
    "## adversarial image given an original image with label i and target \n",
    "## of incorrectly labelling as j.\n",
    "### Only uses examples which are initially predicted correctly\n",
    "\n",
    "# This cell is for the net trained with *GD*\n",
    "\n",
    "dist_gd = np.zeros((10, 10))\n",
    "cnt_gd = np.zeros((10, 10))\n",
    "c = 0\n",
    "for _x, _y in zip(X, y): \n",
    "    prediction = torch.argmax(gd_net.forward_pass(torch.tensor([_x]).double())).item()\n",
    "    if prediction != _y : continue \n",
    "    print(c)\n",
    "    c += 1\n",
    "    if c == 1000: break \n",
    "    for i in range(10): \n",
    "      if i == _y: continue \n",
    "      final = adversarial_example(torch.tensor([_x]).double(), torch.tensor([i]).long(), gd_net.forward_pass)\n",
    "      dist_gd[_y][i] += np.linalg.norm(final.detach().numpy() - _x)\n",
    "      cnt_gd[_y][i] += 1"
   ]
  },
  {
   "cell_type": "code",
   "execution_count": null,
   "metadata": {
    "colab": {
     "base_uri": "https://localhost:8080/",
     "height": 221
    },
    "colab_type": "code",
    "id": "rNbTsglgkbKu",
    "outputId": "7242a0f2-879b-4d2f-9d73-c8b88bec0028"
   },
   "outputs": [
    {
     "name": "stdout",
     "output_type": "stream",
     "text": [
      "[[   nan 4.1997 2.1194 2.209  3.8363 1.7579 2.167  2.9692 2.2788 3.9838]\n",
      " [2.8477    nan 0.9763 1.022  2.1902 1.5335 1.8226 1.0837 0.9125 1.4458]\n",
      " [2.842  3.6837    nan 1.7819 3.6504 2.8917 1.7057 3.3463 1.9472 3.4332]\n",
      " [2.5515 2.5379 1.73      nan 2.8838 1.4506 3.9166 2.2613 1.4828 2.3556]\n",
      " [2.5248 3.093  1.8978 2.5504    nan 1.8244 1.2795 1.3411 1.5894 1.2177]\n",
      " [1.461  2.7471 2.0995 1.3323 2.0136    nan 2.098  1.9482 1.3422 1.8807]\n",
      " [2.3852 3.4558 1.4126 2.5065 2.2194 2.1019    nan 2.9214 1.8163 2.104 ]\n",
      " [2.4509 3.0542 2.7269 1.9061 2.1382 2.3714 3.2698    nan 1.7991 1.2074]\n",
      " [2.8093 2.5325 1.6151 1.4135 2.45   1.7137 2.5334 1.9904    nan 1.8814]\n",
      " [2.5486 2.9526 1.9784 1.5137 0.9892 1.5577 2.1608 0.9196 1.2389    nan]]\n"
     ]
    },
    {
     "name": "stderr",
     "output_type": "stream",
     "text": [
      "/usr/local/lib/python3.6/dist-packages/ipykernel_launcher.py:2: RuntimeWarning: invalid value encountered in true_divide\n",
      "  \n"
     ]
    }
   ],
   "source": [
    "# GD NET \n",
    "print(dist_gd / cnt_gd)"
   ]
  },
  {
   "cell_type": "code",
   "execution_count": null,
   "metadata": {
    "colab": {},
    "colab_type": "code",
    "collapsed": true,
    "id": "Qc9CJwCbmg2M"
   },
   "outputs": [],
   "source": [
    "for i in range(10): \n",
    "  cnt[i][i] = 1\n",
    "  cnt_gd[i][i] = 1\n",
    "rule_res = np.nan_to_num(dist) / cnt \n",
    "gd_res = np.nan_to_num(dist_gd) / cnt_gd"
   ]
  },
  {
   "cell_type": "code",
   "execution_count": null,
   "metadata": {
    "colab": {
     "base_uri": "https://localhost:8080/",
     "height": 187
    },
    "colab_type": "code",
    "id": "zm8XAVjKpAfb",
    "outputId": "8c681107-2972-4b5f-b0b6-17f326a2c443"
   },
   "outputs": [
    {
     "name": "stdout",
     "output_type": "stream",
     "text": [
      "[[0.000 0.104 1.128 1.341 -0.165 2.150 1.613 0.246 1.645 0.114]\n",
      " [0.085 0.000 1.582 1.592 0.283 0.623 1.018 1.110 1.907 1.078]\n",
      " [0.339 2.145 0.000 3.525 -0.709 0.173 1.802 -0.243 1.699 0.127]\n",
      " [-0.342 0.791 0.691 0.000 -0.408 0.444 -0.064 0.090 0.868 0.326]\n",
      " [0.189 0.434 1.285 0.610 0.000 0.515 1.985 1.134 1.532 1.385]\n",
      " [1.606 0.620 0.656 1.813 0.571 0.000 0.618 0.751 1.810 1.185]\n",
      " [0.418 1.054 1.033 0.537 0.926 0.647 0.000 0.118 1.167 0.992]\n",
      " [0.197 0.484 0.901 1.718 0.873 0.398 0.393 0.000 0.962 2.727]\n",
      " [-0.719 -0.322 0.189 0.566 -0.590 -0.288 -0.181 -0.011 0.000 0.218]\n",
      " [-0.264 0.037 0.795 0.673 0.677 0.152 0.376 0.751 1.071 0.000]]\n"
     ]
    }
   ],
   "source": [
    " np.set_printoptions(formatter={'float': lambda x: \"{0:0.3f}\".format(x)})\n",
    "\n",
    "print(rule_res - gd_res)"
   ]
  },
  {
   "cell_type": "code",
   "execution_count": null,
   "metadata": {
    "colab": {
     "base_uri": "https://localhost:8080/",
     "height": 51
    },
    "colab_type": "code",
    "collapsed": true,
    "id": "o0oO9ScFpFX4",
    "outputId": "93f7f8b5-a10f-4fdc-b4b9-3efaf0e6bc1c"
   },
   "outputs": [
    {
     "name": "stdout",
     "output_type": "stream",
     "text": [
      "2.6277634741060685\n",
      "1.9669432183894444\n"
     ]
    }
   ],
   "source": [
    "# means\n",
    "print(np.nan_to_num(rule_res).mean())\n",
    "print(np.nan_to_num(gd_res).mean())"
   ]
  }
 ],
 "metadata": {
  "colab": {
   "collapsed_sections": [],
   "name": "mnist_adersarial.ipynb",
   "provenance": []
  },
  "kernelspec": {
   "display_name": "Python 3",
   "language": "python",
   "name": "python3"
  },
  "language_info": {
   "codemirror_mode": {
    "name": "ipython",
    "version": 3
   },
   "file_extension": ".py",
   "mimetype": "text/x-python",
   "name": "python",
   "nbconvert_exporter": "python",
   "pygments_lexer": "ipython3",
   "version": "3.7.6"
  }
 },
 "nbformat": 4,
 "nbformat_minor": 1
}
