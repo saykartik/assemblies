{
 "cells": [
  {
   "cell_type": "code",
   "execution_count": 1,
   "metadata": {},
   "outputs": [],
   "source": [
    "# Library imports\n",
    "import matplotlib.pyplot as plt\n",
    "import torch\n",
    "\n",
    "# Repository imports\n",
    "import FFBrainNet as ff\n",
    "from DataGenerator import random_halfspace_data\n",
    "from train import train_vanilla"
   ]
  },
  {
   "cell_type": "markdown",
   "metadata": {},
   "source": [
    "## Train an FFBrainNet using regular gradient descent on all parameters:"
   ]
  },
  {
   "cell_type": "code",
   "execution_count": 2,
   "metadata": {
    "scrolled": true
   },
   "outputs": [
    {
     "name": "stdout",
     "output_type": "stream",
     "text": [
      "INITIAL ACCURACY\n",
      "Acc of class 0 :0.0000\n",
      "Acc of class 1 :1.0000\n",
      "epoch 0 Accuracy: 0.5200\n",
      "Evaluating\n",
      "Acc of class 0 :0.7500\n",
      "Acc of class 1 :0.9615\n",
      "epoch  1 Loss: 0.6577 Accuracy: 0.8600\n",
      "Evaluating\n",
      "Acc of class 0 :0.9792\n",
      "Acc of class 1 :0.9615\n",
      "epoch  2 Loss: 0.4576 Accuracy: 0.9700\n",
      "Evaluating\n",
      "Acc of class 0 :0.9792\n",
      "Acc of class 1 :1.0000\n",
      "epoch  3 Loss: 0.3591 Accuracy: 0.9900\n",
      "Evaluating\n",
      "Acc of class 0 :0.9792\n",
      "Acc of class 1 :1.0000\n",
      "epoch  4 Loss: 0.3368 Accuracy: 0.9900\n",
      "Evaluating\n",
      "Acc of class 0 :1.0000\n",
      "Acc of class 1 :1.0000\n",
      "epoch  5 Loss: 0.3303 Accuracy: 1.0000\n",
      "Finished Training\n"
     ]
    }
   ],
   "source": [
    "X,y = random_halfspace_data(dim=4, n=100)\n",
    "brain = ff.FFBrainNet(n=4, m=2, l=2, w=10, p=1.0, cap=10, full_gd=True)\n",
    "losses = train_vanilla(X, y, brain, epochs=5, batch=10, lr=0.1)"
   ]
  },
  {
   "cell_type": "code",
   "execution_count": 3,
   "metadata": {},
   "outputs": [
    {
     "data": {
      "image/png": "[encoded data removed]",
      "text/plain": [
       "<Figure size 432x288 with 1 Axes>"
      ]
     },
     "metadata": {
      "needs_background": "light"
     },
     "output_type": "display_data"
    },
    {
     "name": "stdout",
     "output_type": "stream",
     "text": [
      "Last outer epoch loss: 0.330314949615296\n"
     ]
    }
   ],
   "source": [
    "# Plot learning curves\n",
    "plt.plot(range(1, len(losses)+1), losses)\n",
    "plt.xlabel('Epoch')\n",
    "plt.ylabel('Loss')\n",
    "plt.show()\n",
    "print('Last outer epoch loss:', losses[-1])"
   ]
  },
  {
   "cell_type": "code",
   "execution_count": null,
   "metadata": {},
   "outputs": [],
   "source": []
  }
 ],
 "metadata": {
  "kernelspec": {
   "display_name": "Python 3",
   "language": "python",
   "name": "python3"
  },
  "language_info": {
   "codemirror_mode": {
    "name": "ipython",
    "version": 3
   },
   "file_extension": ".py",
   "mimetype": "text/x-python",
   "name": "python",
   "nbconvert_exporter": "python",
   "pygments_lexer": "ipython3",
   "version": "3.7.6"
  }
 },
 "nbformat": 4,
 "nbformat_minor": 4
}
